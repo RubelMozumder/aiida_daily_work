{
 "cells": [
  {
   "cell_type": "code",
   "execution_count": 1,
   "id": "bfe588ec",
   "metadata": {},
   "outputs": [],
   "source": [
    "%reload_ext autoreload\n",
    "%autoreload 2\n",
    "%matplotlib widget\n",
    "from aiida import load_profile\n",
    "profile = load_profile()\n",
    "\n",
    "import os\n",
    "import numpy as np\n",
    "import math as m\n",
    "import pymatgen\n",
    "import scipy.constants as cons\n",
    "import matplotlib.pyplot as plt\n",
    "from aiida.orm import load_node, Code, load_group, Group, WorkChainNode, Dict, StructureData\n",
    "from aiida.engine import submit\n",
    "from aiida_kkr.tools import find_parent_structure, plot_kkr, kkrparams, neworder_potential_wf\n",
    "from aiida_kkr.calculations import KkrCalculation, VoronoiCalculation, KkrimpCalculation\n",
    "from aiida_kkr.workflows import kkr_dos_wc, kkr_bs_wc, kkr_scf_wc, kkr_imp_sub_wc"
   ]
  },
  {
   "cell_type": "code",
   "execution_count": 2,
   "id": "9be8971b",
   "metadata": {},
   "outputs": [
    {
     "name": "stdout",
     "output_type": "stream",
     "text": [
      "Site : [0.0, 0.0, 0.0], kind name : Te, distance: 0.0\n",
      "Site : [-3.8809943008617e-17, 1.0071414359274e-16, 21.3409084951], kind name : HX, distance: 21.3409084951\n",
      "Site : [2.1914815820078, 1.2652524812963, 22.357142232962], kind name : Bi, distance: 22.499894759544965\n",
      "Site : [1.8747016921119e-16, 2.5305049625927, 23.373375970824], kind name : HX, distance: 23.509958733251725\n",
      "Site : [-7.5181394577443e-17, -2.3960630364491e-17, 24.023765563056], kind name : Te, distance: 24.023765563056\n",
      "Site : [2.1914815820078, 1.2652524812963, 25.405843446548], kind name : HX, distance: 25.531555702624388\n",
      "Site : [-2.0670559458015e-16, 2.5305049625927, 26.78792133004], kind name : Te, distance: 26.90717719401495\n",
      "Site : [-4.6526674632394e-17, 1.2427329655867e-16, 27.438310922272], kind name : HX, distance: 27.438310922272\n",
      "Site : [2.1914815820078, 1.2652524812963, 28.454544660134], kind name : Bi, distance: 28.566843843541175\n",
      "Site : [1.7975343758741e-16, 2.5305049625927, 29.470778397996], kind name : HX, distance: 29.57921964402533\n"
     ]
    },
    {
     "data": {
      "text/plain": [
       "[[2.1914815820078, 1.2652524812963, 10.162337378619],\n",
       " [-2.1914815820078, 1.2652524812963, 10.162337378619],\n",
       " [-8.1101110346236e-17, -2.5305049625927, 10.162337378619]]"
      ]
     },
     "execution_count": 2,
     "metadata": {},
     "output_type": "execute_result"
    }
   ],
   "source": [
    "import matplotlib\n",
    "scf_lly = load_node('23b13d9d-6e02-46c7-b3ac-17033b205b19')\n",
    "struc0 = find_parent_structure(scf_lly)\n",
    "### Form here Checking for structure\n",
    "dis_set= set()\n",
    "dis_to_site_map= {}\n",
    "for site in struc0.sites:\n",
    "    pos= site.position\n",
    "    dis = np.sqrt(np.sum([i**2 for i in pos]))\n",
    "    dis_set.add(dis)\n",
    "    dis_to_site_map[dis] = site\n",
    "    \n",
    "alat= 8.2826* 0.529#*10**(-10) Angstom\n",
    "relative= 1\n",
    "b_hor= 0.529*10**(-10)\n",
    "\n",
    "for dis in dis_set:\n",
    "    print(f\"Site : {[ i*relative for i in dis_to_site_map[dis].position]}, kind name : {dis_to_site_map[dis].kind_name}, distance: {dis}\")\n",
    "struc0.attributes\n",
    "\n",
    "BRAVAIS= [[-0.5, -0.2886751345, 2.3185997682],\n",
    "  [0.5, -0.2886751345, 2.3185997682],\n",
    "  [0.0, 0.577350269, 2.3185997682]],\n",
    "\n",
    "BRAVAIS_arr= np.array([[-2.1907477 , -1.26482877, 10.15893422],\n",
    "        [ 2.1907477 , -1.26482877, 10.15893422],\n",
    "        [ 0.        ,  2.52965755, 10.15893422]])# Angstom\n",
    "\n",
    "\n",
    "\n",
    "scf_lly.inputs.parameters.get_dict()\n",
    "atom_list= [[0.0, 0.0, 0.0],\n",
    "  [0.212, 0.212, 0.212],\n",
    "  [-0.212, -0.212, -0.212],\n",
    "  [0.4, 0.4, 0.4],\n",
    "  [-0.4, -0.4, -0.4],\n",
    "  [0.1, 0.1, 0.1],\n",
    "  [-0.1, -0.1, -0.1],\n",
    "  [0.3, 0.3, 0.3],\n",
    "  [-0.3, -0.3, -0.3],\n",
    "  [0.5, 0.5, 0.5]]\n",
    "atom_arr= np.array(atom_list)*alat\n",
    "atom_arr\n",
    "calculated_site_list= []\n",
    "\n",
    "for atom_pos in atom_list:\n",
    "    calculated_site=0\n",
    "#    print(f\"atom_pos : {atom_pos}\")\n",
    "    i=0\n",
    "    for cor in atom_pos:\n",
    "\n",
    "        index = i%3\n",
    "        i += 1\n",
    " \n",
    " #   print(BRAVAIS_arr[0,index,:]*cor) \n",
    "\n",
    "#        print(F\"Index : {index},  BRAVAIS_arr : {BRAVAIS_arr[index,:]}\")\n",
    "#        calculated_site += BRAVAIS_arr[index,:]*cor\n",
    " #       print(calculated_site)\n",
    "              \n",
    "    calculated_site_list.append(calculated_site)\n",
    "    \n",
    "#calculated_site_list\n",
    "atom_arr\n",
    "alat\n",
    "struc0.cell"
   ]
  },
  {
   "cell_type": "code",
   "execution_count": 13,
   "id": "844a707c",
   "metadata": {},
   "outputs": [],
   "source": [
    "# To check the atomic shell in around the cluster center atom.\n",
    "from pathlib import Path\n",
    "import numpy as np\n",
    "\n",
    "#file = Path.open('./clusters')\n",
    "\n",
    "with open('./clusters', 'r') as f:\n",
    "    lines= f.readlines()  \n",
    "    collecte_data = False\n",
    "    \n",
    "    \n",
    "    separation_line= ['1       1',\n",
    "                      '2       2',\n",
    "                      '3       3',\n",
    "                      '4       4',\n",
    "                      '5       5',\n",
    "                      '6       6',\n",
    "                      '7       7',\n",
    "                      '8       8',\n",
    "                      '9       9',\n",
    "                      '10       10',]\n",
    "    all_cluster_shell=[]\n",
    "    all_cluster_shell_data=[]\n",
    "    for para_ind, para in enumerate(separation_line[0:5]):\n",
    "        collecte_data= False\n",
    "        skip= []\n",
    "        collected_line = []\n",
    "        for ind, line in enumerate(lines):\n",
    "            if collecte_data:\n",
    "                if ind in skip:\n",
    "                    continue\n",
    "                data_list = [float(i.replace('\\n','')) for i in line.split(' ') if i != '']\n",
    "                collected_line.append(data_list)\n",
    "\n",
    "            if separation_line[para_ind] in line:\n",
    "                collecte_data = True\n",
    "                num= skip.append(ind+2)\n",
    "                \n",
    "            if separation_line[para_ind + 1] in lines[ind+2]:\n",
    "                break\n",
    "\n",
    "            if separation_line[para_ind + 1] in lines[ind+1]:\n",
    "                break\n",
    "        data_arr = np.array(collected_line)\n",
    "        #print(data_arr)\n",
    "        data = []\n",
    "        shell_dis = []\n",
    "        for i in range(len(data_arr)):\n",
    "            if data_arr[i,-2] != 0.0:\n",
    "                data.append(list(data_arr[i,:]))\n",
    "                if data_arr[i,-1] not in shell_dis:\n",
    "                    shell_dis.append(data_arr[i,-1])\n",
    "        all_cluster_shell_data.append(data)\n",
    "        all_cluster_shell.append(shell_dis)"
   ]
  },
  {
   "cell_type": "code",
   "execution_count": 14,
   "id": "a5f8940d",
   "metadata": {},
   "outputs": [
    {
     "data": {
      "text/plain": [
       "[[0.0,\n",
       "  0.740519769,\n",
       "  1.0,\n",
       "  1.02255524,\n",
       "  1.24433497,\n",
       "  1.43025146,\n",
       "  1.47462945,\n",
       "  1.59636134],\n",
       " [0.0,\n",
       "  0.691320238,\n",
       "  0.85502297,\n",
       "  1.0,\n",
       "  1.02255524,\n",
       "  1.16416122,\n",
       "  1.21569884,\n",
       "  1.30769027,\n",
       "  1.31569916,\n",
       "  1.43025146,\n",
       "  1.47462945,\n",
       "  1.53468933,\n",
       "  1.5741422],\n",
       " [0.0,\n",
       "  0.691320238,\n",
       "  0.85502297,\n",
       "  1.0,\n",
       "  1.02255524,\n",
       "  1.16416122,\n",
       "  1.21569884,\n",
       "  1.30769027,\n",
       "  1.31569916,\n",
       "  1.43025146,\n",
       "  1.47462945,\n",
       "  1.53468933,\n",
       "  1.5741422],\n",
       " [0.0,\n",
       "  0.691320238,\n",
       "  0.740519769,\n",
       "  1.0,\n",
       "  1.09246424,\n",
       "  1.16416122,\n",
       "  1.21569884,\n",
       "  1.24433497,\n",
       "  1.30769027,\n",
       "  1.39115986,\n",
       "  1.48103954,\n",
       "  1.53468933,\n",
       "  1.5741422,\n",
       "  1.59636134],\n",
       " [0.0,\n",
       "  0.691320238,\n",
       "  0.740519769,\n",
       "  1.0,\n",
       "  1.09246424,\n",
       "  1.16416122,\n",
       "  1.21569884,\n",
       "  1.24433497,\n",
       "  1.30769027,\n",
       "  1.39115986,\n",
       "  1.48103954,\n",
       "  1.53468933,\n",
       "  1.5741422,\n",
       "  1.59636134]]"
      ]
     },
     "execution_count": 14,
     "metadata": {},
     "output_type": "execute_result"
    }
   ],
   "source": [
    "all_cluster_shell"
   ]
  },
  {
   "cell_type": "code",
   "execution_count": 4,
   "id": "90a9e1d6",
   "metadata": {},
   "outputs": [
    {
     "data": {
      "text/plain": [
       "(3.244583961482563,\n",
       " 4.3814954,\n",
       " 4.480321080305896,\n",
       " 5.4520479471141385,\n",
       " 6.266640192833285,\n",
       " 6.994449867947837)"
      ]
     },
     "execution_count": 4,
     "metadata": {},
     "output_type": "execute_result"
    }
   ],
   "source": [
    "alat\n",
    "0.740519769*alat, 1.0*alat, 1.02255524*alat, 1.24433497*alat, 1.43025146*alat, 1.59636134*alat"
   ]
  },
  {
   "cell_type": "code",
   "execution_count": 5,
   "id": "6396e798",
   "metadata": {},
   "outputs": [
    {
     "name": "stdout",
     "output_type": "stream",
     "text": [
      "structure has vacancies, need to remove empty sites for plotting\n",
      "removing atom kind name 'HX' @ 1.8747016921119e-16,2.5305049625927,23.373375970824\n",
      "removing atom kind name 'HX' @ -4.6526674632394e-17,1.2427329655867e-16,27.438310922272\n",
      "removing atom kind name 'HX' @ 1.7975343758741e-16,2.5305049625927,29.470778397996\n",
      "removing atom kind name 'HX' @ -3.8809943008617e-17,1.0071414359274e-16,21.3409084951\n",
      "removing atom kind name 'HX' @ 2.1914815820078,1.2652524812963,25.405843446548\n"
     ]
    },
    {
     "ename": "ValueError",
     "evalue": "top_level must have an `_ipython_display_` method",
     "output_type": "error",
     "traceback": [
      "\u001b[0;31m---------------------------------------------------------------------------\u001b[0m",
      "\u001b[0;31mValueError\u001b[0m                                Traceback (most recent call last)",
      "\u001b[0;32m/tmp/ipykernel_1388498/2686566998.py\u001b[0m in \u001b[0;36m<module>\u001b[0;34m\u001b[0m\n\u001b[0;32m----> 1\u001b[0;31m \u001b[0mplot_kkr\u001b[0m\u001b[0;34m(\u001b[0m\u001b[0mstruc0\u001b[0m\u001b[0;34m,\u001b[0m \u001b[0msilent\u001b[0m\u001b[0;34m=\u001b[0m \u001b[0;32mTrue\u001b[0m\u001b[0;34m,\u001b[0m \u001b[0mstattic\u001b[0m\u001b[0;34m=\u001b[0m \u001b[0;32mTrue\u001b[0m\u001b[0;34m,\u001b[0m \u001b[0;34m)\u001b[0m\u001b[0;34m\u001b[0m\u001b[0;34m\u001b[0m\u001b[0m\n\u001b[0m",
      "\u001b[0;32m/opt/aiida-kkr/aiida_kkr/tools/plot_kkr.py\u001b[0m in \u001b[0;36m__init__\u001b[0;34m(self, nodes, **kwargs)\u001b[0m\n\u001b[1;32m    375\u001b[0m             \u001b[0mshow\u001b[0m\u001b[0;34m(\u001b[0m\u001b[0;34m)\u001b[0m\u001b[0;34m\u001b[0m\u001b[0;34m\u001b[0m\u001b[0m\n\u001b[1;32m    376\u001b[0m         \u001b[0;32melif\u001b[0m \u001b[0mnodes\u001b[0m \u001b[0;32mis\u001b[0m \u001b[0;32mnot\u001b[0m \u001b[0;32mNone\u001b[0m\u001b[0;34m:\u001b[0m\u001b[0;34m\u001b[0m\u001b[0;34m\u001b[0m\u001b[0m\n\u001b[0;32m--> 377\u001b[0;31m             \u001b[0mself\u001b[0m\u001b[0;34m.\u001b[0m\u001b[0mplot_kkr_single_node\u001b[0m\u001b[0;34m(\u001b[0m\u001b[0mnodes\u001b[0m\u001b[0;34m,\u001b[0m \u001b[0;34m**\u001b[0m\u001b[0mkwargs\u001b[0m\u001b[0;34m)\u001b[0m\u001b[0;34m\u001b[0m\u001b[0;34m\u001b[0m\u001b[0m\n\u001b[0m\u001b[1;32m    378\u001b[0m \u001b[0;34m\u001b[0m\u001b[0m\n\u001b[1;32m    379\u001b[0m             \u001b[0mdisplay\u001b[0m \u001b[0;34m=\u001b[0m \u001b[0mkwargs\u001b[0m\u001b[0;34m.\u001b[0m\u001b[0mget\u001b[0m\u001b[0;34m(\u001b[0m\u001b[0;34m'display'\u001b[0m\u001b[0;34m,\u001b[0m \u001b[0;32mTrue\u001b[0m\u001b[0;34m)\u001b[0m\u001b[0;34m\u001b[0m\u001b[0;34m\u001b[0m\u001b[0m\n",
      "\u001b[0;32m/opt/aiida-kkr/aiida_kkr/tools/plot_kkr.py\u001b[0m in \u001b[0;36mplot_kkr_single_node\u001b[0;34m(self, node, **kwargs)\u001b[0m\n\u001b[1;32m    442\u001b[0m \u001b[0;34m\u001b[0m\u001b[0m\n\u001b[1;32m    443\u001b[0m         \u001b[0;31m# classify node and call plotting function\u001b[0m\u001b[0;34m\u001b[0m\u001b[0;34m\u001b[0m\u001b[0;34m\u001b[0m\u001b[0m\n\u001b[0;32m--> 444\u001b[0;31m         \u001b[0mself\u001b[0m\u001b[0;34m.\u001b[0m\u001b[0mclassify_and_plot_node\u001b[0m\u001b[0;34m(\u001b[0m\u001b[0mnode\u001b[0m\u001b[0;34m,\u001b[0m \u001b[0msilent\u001b[0m\u001b[0;34m=\u001b[0m\u001b[0msilent\u001b[0m\u001b[0;34m,\u001b[0m \u001b[0;34m**\u001b[0m\u001b[0mkwargs\u001b[0m\u001b[0;34m)\u001b[0m\u001b[0;34m\u001b[0m\u001b[0;34m\u001b[0m\u001b[0m\n\u001b[0m\u001b[1;32m    445\u001b[0m \u001b[0;34m\u001b[0m\u001b[0m\n\u001b[1;32m    446\u001b[0m         \u001b[0;32mif\u001b[0m \u001b[0;32mnot\u001b[0m \u001b[0mnoshow\u001b[0m\u001b[0;34m:\u001b[0m\u001b[0;34m\u001b[0m\u001b[0;34m\u001b[0m\u001b[0m\n",
      "\u001b[0;32m/opt/aiida-kkr/aiida_kkr/tools/plot_kkr.py\u001b[0m in \u001b[0;36mclassify_and_plot_node\u001b[0;34m(self, node, return_name_only, **kwargs)\u001b[0m\n\u001b[1;32m    460\u001b[0m         \u001b[0;32mif\u001b[0m \u001b[0misinstance\u001b[0m\u001b[0;34m(\u001b[0m\u001b[0mnode\u001b[0m\u001b[0;34m,\u001b[0m \u001b[0mDataFactory\u001b[0m\u001b[0;34m(\u001b[0m\u001b[0;34m'structure'\u001b[0m\u001b[0;34m)\u001b[0m\u001b[0;34m)\u001b[0m\u001b[0;34m:\u001b[0m\u001b[0;34m\u001b[0m\u001b[0;34m\u001b[0m\u001b[0m\n\u001b[1;32m    461\u001b[0m             \u001b[0;32mif\u001b[0m \u001b[0mreturn_name_only\u001b[0m\u001b[0;34m:\u001b[0m \u001b[0;32mreturn\u001b[0m \u001b[0;34m'struc'\u001b[0m\u001b[0;34m\u001b[0m\u001b[0;34m\u001b[0m\u001b[0m\n\u001b[0;32m--> 462\u001b[0;31m             \u001b[0mself\u001b[0m\u001b[0;34m.\u001b[0m\u001b[0mplot_struc\u001b[0m\u001b[0;34m(\u001b[0m\u001b[0mnode\u001b[0m\u001b[0;34m,\u001b[0m \u001b[0;34m**\u001b[0m\u001b[0mkwargs\u001b[0m\u001b[0;34m)\u001b[0m\u001b[0;34m\u001b[0m\u001b[0;34m\u001b[0m\u001b[0m\n\u001b[0m\u001b[1;32m    463\u001b[0m         \u001b[0;32melif\u001b[0m \u001b[0misinstance\u001b[0m\u001b[0;34m(\u001b[0m\u001b[0mnode\u001b[0m\u001b[0;34m,\u001b[0m \u001b[0mDataFactory\u001b[0m\u001b[0;34m(\u001b[0m\u001b[0;34m'dict'\u001b[0m\u001b[0;34m)\u001b[0m\u001b[0;34m)\u001b[0m\u001b[0;34m:\u001b[0m\u001b[0;34m\u001b[0m\u001b[0;34m\u001b[0m\u001b[0m\n\u001b[1;32m    464\u001b[0m             \u001b[0;32mif\u001b[0m \u001b[0mreturn_name_only\u001b[0m\u001b[0;34m:\u001b[0m \u001b[0;32mreturn\u001b[0m \u001b[0;34m'para'\u001b[0m\u001b[0;34m\u001b[0m\u001b[0;34m\u001b[0m\u001b[0m\n",
      "\u001b[0;32m/opt/aiida-kkr/aiida_kkr/tools/plot_kkr.py\u001b[0m in \u001b[0;36mplot_struc\u001b[0;34m(self, node, **kwargs)\u001b[0m\n\u001b[1;32m    605\u001b[0m         \u001b[0;32mif\u001b[0m \u001b[0m_has_ase_notebook\u001b[0m\u001b[0;34m(\u001b[0m\u001b[0;34m)\u001b[0m \u001b[0;32mand\u001b[0m \u001b[0;34m'viewer'\u001b[0m \u001b[0;32mnot\u001b[0m \u001b[0;32min\u001b[0m \u001b[0mkwargs\u001b[0m\u001b[0;34m:\u001b[0m\u001b[0;34m\u001b[0m\u001b[0;34m\u001b[0m\u001b[0m\n\u001b[1;32m    606\u001b[0m             \u001b[0;31m# by default use ase_notebook if it is available\u001b[0m\u001b[0;34m\u001b[0m\u001b[0;34m\u001b[0m\u001b[0;34m\u001b[0m\u001b[0m\n\u001b[0;32m--> 607\u001b[0;31m             \u001b[0mself\u001b[0m\u001b[0;34m.\u001b[0m\u001b[0msview\u001b[0m \u001b[0;34m=\u001b[0m \u001b[0mstrucplot_ase_notebook\u001b[0m\u001b[0;34m(\u001b[0m\u001b[0mstructure\u001b[0m\u001b[0;34m,\u001b[0m \u001b[0;34m**\u001b[0m\u001b[0mkwargs\u001b[0m\u001b[0;34m)\u001b[0m\u001b[0;34m\u001b[0m\u001b[0;34m\u001b[0m\u001b[0m\n\u001b[0m\u001b[1;32m    608\u001b[0m         \u001b[0;32melse\u001b[0m\u001b[0;34m:\u001b[0m\u001b[0;34m\u001b[0m\u001b[0;34m\u001b[0m\u001b[0m\n\u001b[1;32m    609\u001b[0m             \u001b[0;31m# use ase's view function instead\u001b[0m\u001b[0;34m\u001b[0m\u001b[0;34m\u001b[0m\u001b[0;34m\u001b[0m\u001b[0m\n",
      "\u001b[0;32m/opt/aiida-kkr/aiida_kkr/tools/plot_kkr.py\u001b[0m in \u001b[0;36mstrucplot_ase_notebook\u001b[0;34m(struc, **kwargs)\u001b[0m\n\u001b[1;32m    137\u001b[0m     \u001b[0;32mif\u001b[0m \u001b[0;32mnot\u001b[0m \u001b[0mstatic\u001b[0m \u001b[0;32mand\u001b[0m \u001b[0m_in_notebook\u001b[0m\u001b[0;34m(\u001b[0m\u001b[0;34m)\u001b[0m\u001b[0;34m:\u001b[0m\u001b[0;34m\u001b[0m\u001b[0;34m\u001b[0m\u001b[0m\n\u001b[1;32m    138\u001b[0m         \u001b[0;31m# render view in notebook\u001b[0m\u001b[0;34m\u001b[0m\u001b[0;34m\u001b[0m\u001b[0;34m\u001b[0m\u001b[0m\n\u001b[0;32m--> 139\u001b[0;31m         strucview = ase_view.make_render(\n\u001b[0m\u001b[1;32m    140\u001b[0m             \u001b[0mase_atoms\u001b[0m\u001b[0;34m,\u001b[0m \u001b[0mcenter_in_uc\u001b[0m\u001b[0;34m=\u001b[0m\u001b[0;32mTrue\u001b[0m\u001b[0;34m,\u001b[0m\u001b[0;34m\u001b[0m\u001b[0;34m\u001b[0m\u001b[0m\n\u001b[1;32m    141\u001b[0m             \u001b[0mcreate_gui\u001b[0m\u001b[0;34m=\u001b[0m\u001b[0;32mTrue\u001b[0m\u001b[0;34m,\u001b[0m\u001b[0;34m\u001b[0m\u001b[0;34m\u001b[0m\u001b[0m\n",
      "\u001b[0;32m/opt/ase-notebook/ase_notebook/viewer.py\u001b[0m in \u001b[0;36mmake_render\u001b[0;34m(self, atoms, center_in_uc, repeat_uc, reuse_objects, use_atom_arrays, use_label_arrays, create_gui)\u001b[0m\n\u001b[1;32m    555\u001b[0m             \u001b[0mkey_elements\u001b[0m\u001b[0;34m[\u001b[0m\u001b[0;34m\"axes_renderer\"\u001b[0m\u001b[0;34m]\u001b[0m \u001b[0;34m=\u001b[0m \u001b[0maxes_renderer\u001b[0m\u001b[0;34m\u001b[0m\u001b[0;34m\u001b[0m\u001b[0m\n\u001b[1;32m    556\u001b[0m \u001b[0;34m\u001b[0m\u001b[0m\n\u001b[0;32m--> 557\u001b[0;31m         \u001b[0mcontainer\u001b[0m \u001b[0;34m=\u001b[0m \u001b[0mRenderContainer\u001b[0m\u001b[0;34m(\u001b[0m\u001b[0mrenderer\u001b[0m\u001b[0;34m,\u001b[0m \u001b[0melement_renderer\u001b[0m\u001b[0;34m=\u001b[0m\u001b[0mrenderer\u001b[0m\u001b[0;34m,\u001b[0m \u001b[0;34m**\u001b[0m\u001b[0mkey_elements\u001b[0m\u001b[0;34m)\u001b[0m\u001b[0;34m\u001b[0m\u001b[0;34m\u001b[0m\u001b[0m\n\u001b[0m\u001b[1;32m    558\u001b[0m         \u001b[0;32mif\u001b[0m \u001b[0mcreate_gui\u001b[0m\u001b[0;34m:\u001b[0m\u001b[0;34m\u001b[0m\u001b[0;34m\u001b[0m\u001b[0m\n\u001b[1;32m    559\u001b[0m             \u001b[0mgui\u001b[0m \u001b[0;34m=\u001b[0m \u001b[0mmake_basic_gui\u001b[0m\u001b[0;34m(\u001b[0m\u001b[0mcontainer\u001b[0m\u001b[0;34m)\u001b[0m\u001b[0;34m\u001b[0m\u001b[0;34m\u001b[0m\u001b[0m\n",
      "\u001b[0;32m/opt/ase-notebook/ase_notebook/backend/threejs.py\u001b[0m in \u001b[0;36m__init__\u001b[0;34m(self, top_level, **kwargs)\u001b[0m\n\u001b[1;32m     14\u001b[0m         \u001b[0;34m\"\"\"Initialise container.\"\"\"\u001b[0m\u001b[0;34m\u001b[0m\u001b[0;34m\u001b[0m\u001b[0m\n\u001b[1;32m     15\u001b[0m         \u001b[0mself\u001b[0m\u001b[0;34m.\u001b[0m\u001b[0m_kwargs\u001b[0m \u001b[0;34m=\u001b[0m \u001b[0mkwargs\u001b[0m\u001b[0;34m\u001b[0m\u001b[0;34m\u001b[0m\u001b[0m\n\u001b[0;32m---> 16\u001b[0;31m         \u001b[0mself\u001b[0m\u001b[0;34m.\u001b[0m\u001b[0mtop_level\u001b[0m \u001b[0;34m=\u001b[0m \u001b[0mtop_level\u001b[0m\u001b[0;34m\u001b[0m\u001b[0;34m\u001b[0m\u001b[0m\n\u001b[0m\u001b[1;32m     17\u001b[0m \u001b[0;34m\u001b[0m\u001b[0m\n\u001b[1;32m     18\u001b[0m     \u001b[0;32mdef\u001b[0m \u001b[0m__dir__\u001b[0m\u001b[0;34m(\u001b[0m\u001b[0mself\u001b[0m\u001b[0;34m)\u001b[0m\u001b[0;34m:\u001b[0m\u001b[0;34m\u001b[0m\u001b[0;34m\u001b[0m\u001b[0m\n",
      "\u001b[0;32m/opt/ase-notebook/ase_notebook/backend/threejs.py\u001b[0m in \u001b[0;36m__setattr__\u001b[0;34m(self, name, value)\u001b[0m\n\u001b[1;32m     50\u001b[0m         \u001b[0;32mif\u001b[0m \u001b[0mname\u001b[0m \u001b[0;34m==\u001b[0m \u001b[0;34m\"top_level\"\u001b[0m\u001b[0;34m:\u001b[0m\u001b[0;34m\u001b[0m\u001b[0;34m\u001b[0m\u001b[0m\n\u001b[1;32m     51\u001b[0m             \u001b[0;32mif\u001b[0m \u001b[0;32mnot\u001b[0m \u001b[0mhasattr\u001b[0m\u001b[0;34m(\u001b[0m\u001b[0mvalue\u001b[0m\u001b[0;34m,\u001b[0m \u001b[0;34m\"_ipython_display_\"\u001b[0m\u001b[0;34m)\u001b[0m\u001b[0;34m:\u001b[0m\u001b[0;34m\u001b[0m\u001b[0;34m\u001b[0m\u001b[0m\n\u001b[0;32m---> 52\u001b[0;31m                 \u001b[0;32mraise\u001b[0m \u001b[0mValueError\u001b[0m\u001b[0;34m(\u001b[0m\u001b[0;34m\"top_level must have an `_ipython_display_` method\"\u001b[0m\u001b[0;34m)\u001b[0m\u001b[0;34m\u001b[0m\u001b[0;34m\u001b[0m\u001b[0m\n\u001b[0m\u001b[1;32m     53\u001b[0m             \u001b[0mself\u001b[0m\u001b[0;34m.\u001b[0m\u001b[0m_kwargs\u001b[0m\u001b[0;34m[\u001b[0m\u001b[0;34m\"top_level\"\u001b[0m\u001b[0;34m]\u001b[0m \u001b[0;34m=\u001b[0m \u001b[0mvalue\u001b[0m\u001b[0;34m\u001b[0m\u001b[0;34m\u001b[0m\u001b[0m\n\u001b[1;32m     54\u001b[0m             \u001b[0;32mreturn\u001b[0m\u001b[0;34m\u001b[0m\u001b[0;34m\u001b[0m\u001b[0m\n",
      "\u001b[0;31mValueError\u001b[0m: top_level must have an `_ipython_display_` method"
     ]
    }
   ],
   "source": [
    "plot_kkr(struc0, silent= True, stattic= True, )"
   ]
  },
  {
   "cell_type": "code",
   "execution_count": 6,
   "id": "58c998fe",
   "metadata": {},
   "outputs": [
    {
     "data": {
      "text/plain": [
       "Structure Summary\n",
       "Lattice\n",
       "    abc : 10.472657559692419 10.472657559692419 10.472657559692438\n",
       " angles : 24.157680577616187 24.157680577616187 24.157680577615878\n",
       " volume : 169.06740315520517\n",
       "      A : 2.1914815820078 1.2652524812963 10.162337378619\n",
       "      B : -2.1914815820078 1.2652524812963 10.162337378619\n",
       "      C : -8.1101110346236e-17 -2.5305049625927 10.162337378619\n",
       "PeriodicSite: Te (0.0000, 0.0000, 0.0000) [0.0000, 0.0000, 0.0000]\n",
       "PeriodicSite: Te (-0.0000, 2.5305, 26.7879) [1.2120, 1.2120, 0.2120]\n",
       "PeriodicSite: Te (-0.0000, 0.0000, 24.0238) [0.7880, 0.7880, 0.7880]\n",
       "PeriodicSite: Bi (2.1915, 1.2653, 22.3571) [1.4000, 0.4000, 0.4000]\n",
       "PeriodicSite: Bi (2.1915, 1.2653, 28.4545) [1.6000, 0.6000, 0.6000]\n",
       "PeriodicSite:  (0.0000, 2.5305, 23.3734) [1.1000, 1.1000, 0.1000]\n",
       "PeriodicSite:  (-0.0000, 0.0000, 27.4383) [0.9000, 0.9000, 0.9000]\n",
       "PeriodicSite:  (-0.0000, 2.5305, 29.4708) [1.3000, 1.3000, 0.3000]\n",
       "PeriodicSite:  (-0.0000, -0.0000, 21.3409) [0.7000, 0.7000, 0.7000]\n",
       "PeriodicSite:  (2.1915, 1.2653, 25.4058) [1.5000, 0.5000, 0.5000]"
      ]
     },
     "execution_count": 6,
     "metadata": {},
     "output_type": "execute_result"
    }
   ],
   "source": [
    "struc0.get_pymatgen()"
   ]
  },
  {
   "cell_type": "code",
   "execution_count": 7,
   "id": "87bb749a",
   "metadata": {},
   "outputs": [
    {
     "data": {
      "text/plain": [
       "array([[ 2.19148158e+00,  3.79575744e+00,  0.00000000e+00],\n",
       "       [-2.19148158e+00,  3.79575744e+00,  0.00000000e+00],\n",
       "       [-8.11011103e-17, -2.53050496e+00,  1.01623374e+01]])"
      ]
     },
     "execution_count": 7,
     "metadata": {},
     "output_type": "execute_result"
    }
   ],
   "source": [
    "BRAVAIS_arr = np.array(struc0.cell)\n",
    "BRAVAIS_arr_new = BRAVAIS_arr.copy()\n",
    "i = 0\n",
    "for j in range(len(BRAVAIS_arr)):\n",
    "    if j<=1:\n",
    "        BRAVAIS_arr_new[j,:] = BRAVAIS_arr_new[j,:] - BRAVAIS_arr[2, :]\n",
    "\n",
    "BRAVAIS_arr_new"
   ]
  },
  {
   "cell_type": "code",
   "execution_count": 8,
   "id": "4cae6ea3",
   "metadata": {},
   "outputs": [
    {
     "data": {
      "text/plain": [
       "Structure Summary\n",
       "Lattice\n",
       "    abc : 10.472657559692419 10.472657559692419 10.472657559692438\n",
       " angles : 24.157680577616187 24.157680577616187 24.157680577615878\n",
       " volume : 169.06740315520517\n",
       "      A : 2.1914815820078 1.2652524812963 10.162337378619\n",
       "      B : -2.1914815820078 1.2652524812963 10.162337378619\n",
       "      C : -8.1101110346236e-17 -2.5305049625927 10.162337378619\n",
       "PeriodicSite: Te (0.0000, 0.0000, 0.0000) [0.0000, 0.0000, 0.0000]\n",
       "PeriodicSite: Te (-0.0000, 2.5305, 26.7879) [1.2120, 1.2120, 0.2120]\n",
       "PeriodicSite: Te (-0.0000, 0.0000, 24.0238) [0.7880, 0.7880, 0.7880]\n",
       "PeriodicSite: Bi (2.1915, 1.2653, 22.3571) [1.4000, 0.4000, 0.4000]\n",
       "PeriodicSite: Bi (2.1915, 1.2653, 28.4545) [1.6000, 0.6000, 0.6000]\n",
       "PeriodicSite:  (0.0000, 2.5305, 23.3734) [1.1000, 1.1000, 0.1000]\n",
       "PeriodicSite:  (-0.0000, 0.0000, 27.4383) [0.9000, 0.9000, 0.9000]\n",
       "PeriodicSite:  (-0.0000, 2.5305, 29.4708) [1.3000, 1.3000, 0.3000]\n",
       "PeriodicSite:  (-0.0000, -0.0000, 21.3409) [0.7000, 0.7000, 0.7000]\n",
       "PeriodicSite:  (2.1915, 1.2653, 25.4058) [1.5000, 0.5000, 0.5000]"
      ]
     },
     "execution_count": 8,
     "metadata": {},
     "output_type": "execute_result"
    }
   ],
   "source": [
    "pymatget = struc0.get_pymatgen_structure()\n",
    "sites = pymatget.sites\n",
    "\n",
    "pymatget"
   ]
  },
  {
   "cell_type": "code",
   "execution_count": 9,
   "id": "c6d4f661",
   "metadata": {},
   "outputs": [
    {
     "data": {
      "text/plain": [
       "10.472657559692419"
      ]
     },
     "execution_count": 9,
     "metadata": {},
     "output_type": "execute_result"
    }
   ],
   "source": [
    "res = (2.1914815820078**2 + 1.2652524812963**2 + 10.162337378619**2)**0.5\n",
    "res"
   ]
  },
  {
   "cell_type": "code",
   "execution_count": 10,
   "id": "6cf2e397",
   "metadata": {},
   "outputs": [
    {
     "name": "stdout",
     "output_type": "stream",
     "text": [
      "structure has vacancies, need to remove empty sites for plotting\n",
      "removing atom kind name 'HX' @ 1.8747016921119e-16,2.5305049625927,23.373375970824\n",
      "removing atom kind name 'HX' @ -4.6526674632394e-17,1.2427329655867e-16,27.438310922272\n",
      "removing atom kind name 'HX' @ 1.7975343758741e-16,2.5305049625927,29.470778397996\n",
      "removing atom kind name 'HX' @ -3.8809943008617e-17,1.0071414359274e-16,21.3409084951\n",
      "removing atom kind name 'HX' @ 2.1914815820078,1.2652524812963,25.405843446548\n"
     ]
    },
    {
     "ename": "ValueError",
     "evalue": "top_level must have an `_ipython_display_` method",
     "output_type": "error",
     "traceback": [
      "\u001b[0;31m---------------------------------------------------------------------------\u001b[0m",
      "\u001b[0;31mValueError\u001b[0m                                Traceback (most recent call last)",
      "\u001b[0;32m/tmp/ipykernel_1153510/2586242538.py\u001b[0m in \u001b[0;36m<module>\u001b[0;34m\u001b[0m\n\u001b[0;32m----> 1\u001b[0;31m \u001b[0mplot_kkr\u001b[0m\u001b[0;34m(\u001b[0m\u001b[0mstruc0\u001b[0m\u001b[0;34m,\u001b[0m \u001b[0msilent\u001b[0m\u001b[0;34m=\u001b[0m \u001b[0;32mTrue\u001b[0m\u001b[0;34m,\u001b[0m \u001b[0mcanvas\u001b[0m\u001b[0;34m=\u001b[0m\u001b[0;34m(\u001b[0m\u001b[0;36m1600\u001b[0m\u001b[0;34m,\u001b[0m\u001b[0;36m1600\u001b[0m\u001b[0;34m)\u001b[0m\u001b[0;34m,\u001b[0m \u001b[0mrepeat_uc\u001b[0m\u001b[0;34m=\u001b[0m \u001b[0;34m(\u001b[0m\u001b[0;36m1\u001b[0m\u001b[0;34m,\u001b[0m\u001b[0;36m1\u001b[0m\u001b[0;34m,\u001b[0m\u001b[0;36m1\u001b[0m\u001b[0;34m)\u001b[0m\u001b[0;34m)\u001b[0m\u001b[0;34m\u001b[0m\u001b[0;34m\u001b[0m\u001b[0m\n\u001b[0m",
      "\u001b[0;32m/opt/aiida-kkr/aiida_kkr/tools/plot_kkr.py\u001b[0m in \u001b[0;36m__init__\u001b[0;34m(self, nodes, **kwargs)\u001b[0m\n\u001b[1;32m    375\u001b[0m             \u001b[0mshow\u001b[0m\u001b[0;34m(\u001b[0m\u001b[0;34m)\u001b[0m\u001b[0;34m\u001b[0m\u001b[0;34m\u001b[0m\u001b[0m\n\u001b[1;32m    376\u001b[0m         \u001b[0;32melif\u001b[0m \u001b[0mnodes\u001b[0m \u001b[0;32mis\u001b[0m \u001b[0;32mnot\u001b[0m \u001b[0;32mNone\u001b[0m\u001b[0;34m:\u001b[0m\u001b[0;34m\u001b[0m\u001b[0;34m\u001b[0m\u001b[0m\n\u001b[0;32m--> 377\u001b[0;31m             \u001b[0mself\u001b[0m\u001b[0;34m.\u001b[0m\u001b[0mplot_kkr_single_node\u001b[0m\u001b[0;34m(\u001b[0m\u001b[0mnodes\u001b[0m\u001b[0;34m,\u001b[0m \u001b[0;34m**\u001b[0m\u001b[0mkwargs\u001b[0m\u001b[0;34m)\u001b[0m\u001b[0;34m\u001b[0m\u001b[0;34m\u001b[0m\u001b[0m\n\u001b[0m\u001b[1;32m    378\u001b[0m \u001b[0;34m\u001b[0m\u001b[0m\n\u001b[1;32m    379\u001b[0m             \u001b[0mdisplay\u001b[0m \u001b[0;34m=\u001b[0m \u001b[0mkwargs\u001b[0m\u001b[0;34m.\u001b[0m\u001b[0mget\u001b[0m\u001b[0;34m(\u001b[0m\u001b[0;34m'display'\u001b[0m\u001b[0;34m,\u001b[0m \u001b[0;32mTrue\u001b[0m\u001b[0;34m)\u001b[0m\u001b[0;34m\u001b[0m\u001b[0;34m\u001b[0m\u001b[0m\n",
      "\u001b[0;32m/opt/aiida-kkr/aiida_kkr/tools/plot_kkr.py\u001b[0m in \u001b[0;36mplot_kkr_single_node\u001b[0;34m(self, node, **kwargs)\u001b[0m\n\u001b[1;32m    442\u001b[0m \u001b[0;34m\u001b[0m\u001b[0m\n\u001b[1;32m    443\u001b[0m         \u001b[0;31m# classify node and call plotting function\u001b[0m\u001b[0;34m\u001b[0m\u001b[0;34m\u001b[0m\u001b[0;34m\u001b[0m\u001b[0m\n\u001b[0;32m--> 444\u001b[0;31m         \u001b[0mself\u001b[0m\u001b[0;34m.\u001b[0m\u001b[0mclassify_and_plot_node\u001b[0m\u001b[0;34m(\u001b[0m\u001b[0mnode\u001b[0m\u001b[0;34m,\u001b[0m \u001b[0msilent\u001b[0m\u001b[0;34m=\u001b[0m\u001b[0msilent\u001b[0m\u001b[0;34m,\u001b[0m \u001b[0;34m**\u001b[0m\u001b[0mkwargs\u001b[0m\u001b[0;34m)\u001b[0m\u001b[0;34m\u001b[0m\u001b[0;34m\u001b[0m\u001b[0m\n\u001b[0m\u001b[1;32m    445\u001b[0m \u001b[0;34m\u001b[0m\u001b[0m\n\u001b[1;32m    446\u001b[0m         \u001b[0;32mif\u001b[0m \u001b[0;32mnot\u001b[0m \u001b[0mnoshow\u001b[0m\u001b[0;34m:\u001b[0m\u001b[0;34m\u001b[0m\u001b[0;34m\u001b[0m\u001b[0m\n",
      "\u001b[0;32m/opt/aiida-kkr/aiida_kkr/tools/plot_kkr.py\u001b[0m in \u001b[0;36mclassify_and_plot_node\u001b[0;34m(self, node, return_name_only, **kwargs)\u001b[0m\n\u001b[1;32m    460\u001b[0m         \u001b[0;32mif\u001b[0m \u001b[0misinstance\u001b[0m\u001b[0;34m(\u001b[0m\u001b[0mnode\u001b[0m\u001b[0;34m,\u001b[0m \u001b[0mDataFactory\u001b[0m\u001b[0;34m(\u001b[0m\u001b[0;34m'structure'\u001b[0m\u001b[0;34m)\u001b[0m\u001b[0;34m)\u001b[0m\u001b[0;34m:\u001b[0m\u001b[0;34m\u001b[0m\u001b[0;34m\u001b[0m\u001b[0m\n\u001b[1;32m    461\u001b[0m             \u001b[0;32mif\u001b[0m \u001b[0mreturn_name_only\u001b[0m\u001b[0;34m:\u001b[0m \u001b[0;32mreturn\u001b[0m \u001b[0;34m'struc'\u001b[0m\u001b[0;34m\u001b[0m\u001b[0;34m\u001b[0m\u001b[0m\n\u001b[0;32m--> 462\u001b[0;31m             \u001b[0mself\u001b[0m\u001b[0;34m.\u001b[0m\u001b[0mplot_struc\u001b[0m\u001b[0;34m(\u001b[0m\u001b[0mnode\u001b[0m\u001b[0;34m,\u001b[0m \u001b[0;34m**\u001b[0m\u001b[0mkwargs\u001b[0m\u001b[0;34m)\u001b[0m\u001b[0;34m\u001b[0m\u001b[0;34m\u001b[0m\u001b[0m\n\u001b[0m\u001b[1;32m    463\u001b[0m         \u001b[0;32melif\u001b[0m \u001b[0misinstance\u001b[0m\u001b[0;34m(\u001b[0m\u001b[0mnode\u001b[0m\u001b[0;34m,\u001b[0m \u001b[0mDataFactory\u001b[0m\u001b[0;34m(\u001b[0m\u001b[0;34m'dict'\u001b[0m\u001b[0;34m)\u001b[0m\u001b[0;34m)\u001b[0m\u001b[0;34m:\u001b[0m\u001b[0;34m\u001b[0m\u001b[0;34m\u001b[0m\u001b[0m\n\u001b[1;32m    464\u001b[0m             \u001b[0;32mif\u001b[0m \u001b[0mreturn_name_only\u001b[0m\u001b[0;34m:\u001b[0m \u001b[0;32mreturn\u001b[0m \u001b[0;34m'para'\u001b[0m\u001b[0;34m\u001b[0m\u001b[0;34m\u001b[0m\u001b[0m\n",
      "\u001b[0;32m/opt/aiida-kkr/aiida_kkr/tools/plot_kkr.py\u001b[0m in \u001b[0;36mplot_struc\u001b[0;34m(self, node, **kwargs)\u001b[0m\n\u001b[1;32m    605\u001b[0m         \u001b[0;32mif\u001b[0m \u001b[0m_has_ase_notebook\u001b[0m\u001b[0;34m(\u001b[0m\u001b[0;34m)\u001b[0m \u001b[0;32mand\u001b[0m \u001b[0;34m'viewer'\u001b[0m \u001b[0;32mnot\u001b[0m \u001b[0;32min\u001b[0m \u001b[0mkwargs\u001b[0m\u001b[0;34m:\u001b[0m\u001b[0;34m\u001b[0m\u001b[0;34m\u001b[0m\u001b[0m\n\u001b[1;32m    606\u001b[0m             \u001b[0;31m# by default use ase_notebook if it is available\u001b[0m\u001b[0;34m\u001b[0m\u001b[0;34m\u001b[0m\u001b[0;34m\u001b[0m\u001b[0m\n\u001b[0;32m--> 607\u001b[0;31m             \u001b[0mself\u001b[0m\u001b[0;34m.\u001b[0m\u001b[0msview\u001b[0m \u001b[0;34m=\u001b[0m \u001b[0mstrucplot_ase_notebook\u001b[0m\u001b[0;34m(\u001b[0m\u001b[0mstructure\u001b[0m\u001b[0;34m,\u001b[0m \u001b[0;34m**\u001b[0m\u001b[0mkwargs\u001b[0m\u001b[0;34m)\u001b[0m\u001b[0;34m\u001b[0m\u001b[0;34m\u001b[0m\u001b[0m\n\u001b[0m\u001b[1;32m    608\u001b[0m         \u001b[0;32melse\u001b[0m\u001b[0;34m:\u001b[0m\u001b[0;34m\u001b[0m\u001b[0;34m\u001b[0m\u001b[0m\n\u001b[1;32m    609\u001b[0m             \u001b[0;31m# use ase's view function instead\u001b[0m\u001b[0;34m\u001b[0m\u001b[0;34m\u001b[0m\u001b[0;34m\u001b[0m\u001b[0m\n",
      "\u001b[0;32m/opt/aiida-kkr/aiida_kkr/tools/plot_kkr.py\u001b[0m in \u001b[0;36mstrucplot_ase_notebook\u001b[0;34m(struc, **kwargs)\u001b[0m\n\u001b[1;32m    137\u001b[0m     \u001b[0;32mif\u001b[0m \u001b[0;32mnot\u001b[0m \u001b[0mstatic\u001b[0m \u001b[0;32mand\u001b[0m \u001b[0m_in_notebook\u001b[0m\u001b[0;34m(\u001b[0m\u001b[0;34m)\u001b[0m\u001b[0;34m:\u001b[0m\u001b[0;34m\u001b[0m\u001b[0;34m\u001b[0m\u001b[0m\n\u001b[1;32m    138\u001b[0m         \u001b[0;31m# render view in notebook\u001b[0m\u001b[0;34m\u001b[0m\u001b[0;34m\u001b[0m\u001b[0;34m\u001b[0m\u001b[0m\n\u001b[0;32m--> 139\u001b[0;31m         strucview = ase_view.make_render(\n\u001b[0m\u001b[1;32m    140\u001b[0m             \u001b[0mase_atoms\u001b[0m\u001b[0;34m,\u001b[0m \u001b[0mcenter_in_uc\u001b[0m\u001b[0;34m=\u001b[0m\u001b[0;32mTrue\u001b[0m\u001b[0;34m,\u001b[0m\u001b[0;34m\u001b[0m\u001b[0;34m\u001b[0m\u001b[0m\n\u001b[1;32m    141\u001b[0m             \u001b[0mcreate_gui\u001b[0m\u001b[0;34m=\u001b[0m\u001b[0;32mTrue\u001b[0m\u001b[0;34m,\u001b[0m\u001b[0;34m\u001b[0m\u001b[0;34m\u001b[0m\u001b[0m\n",
      "\u001b[0;32m/opt/ase-notebook/ase_notebook/viewer.py\u001b[0m in \u001b[0;36mmake_render\u001b[0;34m(self, atoms, center_in_uc, repeat_uc, reuse_objects, use_atom_arrays, use_label_arrays, create_gui)\u001b[0m\n\u001b[1;32m    555\u001b[0m             \u001b[0mkey_elements\u001b[0m\u001b[0;34m[\u001b[0m\u001b[0;34m\"axes_renderer\"\u001b[0m\u001b[0;34m]\u001b[0m \u001b[0;34m=\u001b[0m \u001b[0maxes_renderer\u001b[0m\u001b[0;34m\u001b[0m\u001b[0;34m\u001b[0m\u001b[0m\n\u001b[1;32m    556\u001b[0m \u001b[0;34m\u001b[0m\u001b[0m\n\u001b[0;32m--> 557\u001b[0;31m         \u001b[0mcontainer\u001b[0m \u001b[0;34m=\u001b[0m \u001b[0mRenderContainer\u001b[0m\u001b[0;34m(\u001b[0m\u001b[0mrenderer\u001b[0m\u001b[0;34m,\u001b[0m \u001b[0melement_renderer\u001b[0m\u001b[0;34m=\u001b[0m\u001b[0mrenderer\u001b[0m\u001b[0;34m,\u001b[0m \u001b[0;34m**\u001b[0m\u001b[0mkey_elements\u001b[0m\u001b[0;34m)\u001b[0m\u001b[0;34m\u001b[0m\u001b[0;34m\u001b[0m\u001b[0m\n\u001b[0m\u001b[1;32m    558\u001b[0m         \u001b[0;32mif\u001b[0m \u001b[0mcreate_gui\u001b[0m\u001b[0;34m:\u001b[0m\u001b[0;34m\u001b[0m\u001b[0;34m\u001b[0m\u001b[0m\n\u001b[1;32m    559\u001b[0m             \u001b[0mgui\u001b[0m \u001b[0;34m=\u001b[0m \u001b[0mmake_basic_gui\u001b[0m\u001b[0;34m(\u001b[0m\u001b[0mcontainer\u001b[0m\u001b[0;34m)\u001b[0m\u001b[0;34m\u001b[0m\u001b[0;34m\u001b[0m\u001b[0m\n",
      "\u001b[0;32m/opt/ase-notebook/ase_notebook/backend/threejs.py\u001b[0m in \u001b[0;36m__init__\u001b[0;34m(self, top_level, **kwargs)\u001b[0m\n\u001b[1;32m     14\u001b[0m         \u001b[0;34m\"\"\"Initialise container.\"\"\"\u001b[0m\u001b[0;34m\u001b[0m\u001b[0;34m\u001b[0m\u001b[0m\n\u001b[1;32m     15\u001b[0m         \u001b[0mself\u001b[0m\u001b[0;34m.\u001b[0m\u001b[0m_kwargs\u001b[0m \u001b[0;34m=\u001b[0m \u001b[0mkwargs\u001b[0m\u001b[0;34m\u001b[0m\u001b[0;34m\u001b[0m\u001b[0m\n\u001b[0;32m---> 16\u001b[0;31m         \u001b[0mself\u001b[0m\u001b[0;34m.\u001b[0m\u001b[0mtop_level\u001b[0m \u001b[0;34m=\u001b[0m \u001b[0mtop_level\u001b[0m\u001b[0;34m\u001b[0m\u001b[0;34m\u001b[0m\u001b[0m\n\u001b[0m\u001b[1;32m     17\u001b[0m \u001b[0;34m\u001b[0m\u001b[0m\n\u001b[1;32m     18\u001b[0m     \u001b[0;32mdef\u001b[0m \u001b[0m__dir__\u001b[0m\u001b[0;34m(\u001b[0m\u001b[0mself\u001b[0m\u001b[0;34m)\u001b[0m\u001b[0;34m:\u001b[0m\u001b[0;34m\u001b[0m\u001b[0;34m\u001b[0m\u001b[0m\n",
      "\u001b[0;32m/opt/ase-notebook/ase_notebook/backend/threejs.py\u001b[0m in \u001b[0;36m__setattr__\u001b[0;34m(self, name, value)\u001b[0m\n\u001b[1;32m     50\u001b[0m         \u001b[0;32mif\u001b[0m \u001b[0mname\u001b[0m \u001b[0;34m==\u001b[0m \u001b[0;34m\"top_level\"\u001b[0m\u001b[0;34m:\u001b[0m\u001b[0;34m\u001b[0m\u001b[0;34m\u001b[0m\u001b[0m\n\u001b[1;32m     51\u001b[0m             \u001b[0;32mif\u001b[0m \u001b[0;32mnot\u001b[0m \u001b[0mhasattr\u001b[0m\u001b[0;34m(\u001b[0m\u001b[0mvalue\u001b[0m\u001b[0;34m,\u001b[0m \u001b[0;34m\"_ipython_display_\"\u001b[0m\u001b[0;34m)\u001b[0m\u001b[0;34m:\u001b[0m\u001b[0;34m\u001b[0m\u001b[0;34m\u001b[0m\u001b[0m\n\u001b[0;32m---> 52\u001b[0;31m                 \u001b[0;32mraise\u001b[0m \u001b[0mValueError\u001b[0m\u001b[0;34m(\u001b[0m\u001b[0;34m\"top_level must have an `_ipython_display_` method\"\u001b[0m\u001b[0;34m)\u001b[0m\u001b[0;34m\u001b[0m\u001b[0;34m\u001b[0m\u001b[0m\n\u001b[0m\u001b[1;32m     53\u001b[0m             \u001b[0mself\u001b[0m\u001b[0;34m.\u001b[0m\u001b[0m_kwargs\u001b[0m\u001b[0;34m[\u001b[0m\u001b[0;34m\"top_level\"\u001b[0m\u001b[0;34m]\u001b[0m \u001b[0;34m=\u001b[0m \u001b[0mvalue\u001b[0m\u001b[0;34m\u001b[0m\u001b[0;34m\u001b[0m\u001b[0m\n\u001b[1;32m     54\u001b[0m             \u001b[0;32mreturn\u001b[0m\u001b[0;34m\u001b[0m\u001b[0;34m\u001b[0m\u001b[0m\n",
      "\u001b[0;31mValueError\u001b[0m: top_level must have an `_ipython_display_` method"
     ]
    }
   ],
   "source": [
    "plot_kkr(struc0, silent= True, canvas=(1600,1600), repeat_uc= (1,1,1))"
   ]
  },
  {
   "cell_type": "code",
   "execution_count": 10,
   "id": "4f202047",
   "metadata": {},
   "outputs": [
    {
     "data": {
      "application/vnd.jupyter.widget-view+json": {
       "model_id": "d26c7bf98d464ef2bf665dcd5240d4e5",
       "version_major": 2,
       "version_minor": 0
      },
      "text/plain": [
       "GridspecLayout(children=(Renderer(camera=PerspectiveCamera(fov=10.0, position=(0.0, 0.0, 183.56475962204297), …"
      ]
     },
     "metadata": {},
     "output_type": "display_data"
    },
    {
     "name": "stdout",
     "output_type": "stream",
     "text": [
      "105859\n"
     ]
    }
   ],
   "source": [
    "from pymatgen.core import Lattice, Structure, Molecule\n",
    "## Here a_new = a-c, b_new= b-c, c_new = c\n",
    "## change in basis as l_1*a-c, l_2*b-c, l_2c for each atom.\n",
    "lattice = Lattice(BRAVAIS_arr_new)\n",
    "\n",
    "original_coors = [[0.0000, 0.0000, 0.0000],\n",
    "         [1.2120, 1.2120, 0.2120], # [l_1, l_2, l_3]\n",
    "         [0.7880, 0.7880, 0.7880],\n",
    "         [1.4000, 0.4000, 0.4000],\n",
    "         [1.6000, 0.6000, 0.6000],\n",
    "        ]\n",
    "eddited_coors = [[0.0000, 0.0000, 0.0000],\n",
    "         [1.2120, 1.2120, 0.2120 + 1.2120 + 1.2120],\n",
    "         [0.7880, 0.7880, 0.7880 + 0.7880 + 0.7880],\n",
    "         [1.4000, 0.4000, 0.4000 + 1.4000 + 0.4000],\n",
    "         [1.6000, 0.6000, 0.6000 + 1.6000 + 0.6000],\n",
    "        ]\n",
    "\n",
    "specis = ['Te', 'Te', 'Te', 'Bi', 'Bi']\n",
    "\n",
    "struc_new = Structure(lattice, species= specis, coords= eddited_coors)\n",
    "\n",
    "struc_new_aiida = StructureData()\n",
    "\n",
    "struc_new_aiida.set_pymatgen_structure(struc_new)\n",
    "#print(struc_new_aiida.store()) \n",
    "## delete node 105516, 105517,  105518, 105519, 105520, 105521,105857, 105858, 105859\n",
    "\n",
    "struc_new_aiida= load_node(105859)\n",
    "plot_kkr(struc_new_aiida, struc_plot= True, silent= True, repeat_uc= (1,1,1))\n",
    "print(struc_new_aiida.pk)"
   ]
  },
  {
   "cell_type": "code",
   "execution_count": 214,
   "id": "d3cb8d9c",
   "metadata": {},
   "outputs": [
    {
     "data": {
      "application/vnd.jupyter.widget-view+json": {
       "model_id": "5eb2279effd6480386a606bd11035d1c",
       "version_major": 2,
       "version_minor": 0
      },
      "text/plain": [
       "GridspecLayout(children=(Renderer(camera=PerspectiveCamera(fov=10.0, position=(0.0, 0.0, 81.26375056501648), p…"
      ]
     },
     "metadata": {},
     "output_type": "display_data"
    },
    {
     "name": "stdout",
     "output_type": "stream",
     "text": [
      "105857\n"
     ]
    },
    {
     "data": {
      "text/plain": [
       "Structure Summary\n",
       "Lattice\n",
       "    abc : 4.38296316401566 4.38296316401566 10.472657559692438\n",
       " angles : 102.07884028880835 102.07884028880835 59.99999999999911\n",
       " volume : 169.06740315520517\n",
       "      A : 2.1914815820078 3.795757443889 0.0\n",
       "      B : -2.1914815820078 3.795757443889 0.0\n",
       "      C : -8.1101110346236e-17 -2.5305049625927 10.162337378619\n",
       "PeriodicSite: Te (0.0000, 0.0000, 0.0000) [0.0000, 0.0000, 0.0000]\n",
       "PeriodicSite: Te (-0.0000, 8.6644, 2.1544) [1.2120, 1.2120, 0.2120]\n",
       "PeriodicSite: Te (-0.0000, 3.9881, 8.0079) [0.7880, 0.7880, 0.7880]\n",
       "PeriodicSite: Bi (2.1915, 5.8202, 4.0649) [1.4000, 0.4000, 0.4000]\n",
       "PeriodicSite: Bi (2.1915, 6.8324, 6.0974) [1.6000, 0.6000, 0.6000]"
      ]
     },
     "execution_count": 214,
     "metadata": {},
     "output_type": "execute_result"
    }
   ],
   "source": [
    "from pymatgen.core import Lattice, Structure, Molecule\n",
    "## Here a_new = a-c, b_new= b-c, c_new = c\n",
    "## No change in basis\n",
    "lattice = Lattice(BRAVAIS_arr_new)\n",
    "\n",
    "coors = [[0.0000, 0.0000, 0.0000],\n",
    "         [1.2120, 1.2120, 0.2120],\n",
    "         [0.7880, 0.7880, 0.7880],\n",
    "         [1.4000, 0.4000, 0.4000],\n",
    "         [1.6000, 0.6000, 0.6000],\n",
    "        ]\n",
    "\n",
    "specis = ['Te', 'Te', 'Te', 'Bi', 'Bi']\n",
    "\n",
    "struc_new = Structure(lattice, species= specis, coords= coors)\n",
    "\n",
    "struc_new_aiida = StructureData()\n",
    "\n",
    "struc_new_aiida.set_pymatgen_structure(struc_new)\n",
    "#print(struc_new_aiida.store()) \n",
    "## delete node 105516, 105517,  105518, 105519, 105520, 105521,105857 \n",
    "struc_new_aiida= load_node(105857)\n",
    "plot_kkr(struc_new_aiida, strucplot= True, silent= True, canvas=(400,400), repeat_uc= (1,1,1), label= ['k','k','k','k','k'])\n",
    "print(struc_new_aiida.pk)\n",
    "struc_new_aiida.get_pymatgen()"
   ]
  },
  {
   "cell_type": "code",
   "execution_count": 223,
   "id": "674ff0eb",
   "metadata": {},
   "outputs": [
    {
     "data": {
      "application/vnd.jupyter.widget-view+json": {
       "model_id": "b4ae242d34fc48afa719295685bf8bd9",
       "version_major": 2,
       "version_minor": 0
      },
      "text/plain": [
       "GridspecLayout(children=(Renderer(camera=PerspectiveCamera(fov=10.0, position=(0.0, 0.0, 93.02820337663525), p…"
      ]
     },
     "metadata": {},
     "output_type": "display_data"
    },
    {
     "data": {
      "text/plain": [
       "<aiida_kkr.tools.plot_kkr.plot_kkr at 0x7f4b3966d910>"
      ]
     },
     "execution_count": 223,
     "metadata": {},
     "output_type": "execute_result"
    }
   ],
   "source": [
    "from pymatgen.core import Lattice, Structure, Molecule\n",
    "\n",
    "lattice = Lattice(BRAVAIS_arr_new)\n",
    "## Here a_new = a-c, b_new= b-c, c_new = c\n",
    "## change in basis so that looks beautyful\n",
    "coors = [[0.0000, 0.0000, 0.0000],\n",
    "         [1.2120, 1.2120, 1.1020],\n",
    "         [0.7880, 0.7880, 0.50],\n",
    "         [0.9000, 0.4000, 0.2500],\n",
    "         [0.6000, 0.6000, 0.8700],\n",
    "        ]\n",
    "\n",
    "specis = ['Te', 'Te', 'Te', 'Bi', 'Bi']\n",
    "\n",
    "struc_new = Structure(lattice, species= specis, coords= coors)\n",
    "\n",
    "#struc_new_aiida = StructureData()\n",
    "\n",
    "#struc_new_aiida.set_pymatgen_structure(struc_new)\n",
    "#print(struc_new_aiida.store()) ## delete node 105516, 105517,  105518, 105519, 105520, 105521, \n",
    "\n",
    "#struc_new_aiida 105536\n",
    "struc_new_aiida = load_node(105536)\n",
    "plot_kkr(struc_new_aiida, silent= True, canvas=(400,400), repeat_uc= (1,1,1), noshow= True)\n"
   ]
  },
  {
   "cell_type": "code",
   "execution_count": null,
   "id": "b5b53909",
   "metadata": {},
   "outputs": [],
   "source": []
  },
  {
   "cell_type": "code",
   "execution_count": 49,
   "id": "60a8cf72",
   "metadata": {},
   "outputs": [
    {
     "ename": "AttributeError",
     "evalue": "'StructureData' object has no attribute 'cif'",
     "output_type": "error",
     "traceback": [
      "\u001b[0;31m---------------------------------------------------------------------------\u001b[0m",
      "\u001b[0;31mAttributeError\u001b[0m                            Traceback (most recent call last)",
      "\u001b[0;32m<ipython-input-49-634e4b50d93c>\u001b[0m in \u001b[0;36m<module>\u001b[0;34m\u001b[0m\n\u001b[0;32m----> 1\u001b[0;31m \u001b[0;32mwith\u001b[0m \u001b[0mopen\u001b[0m\u001b[0;34m(\u001b[0m\u001b[0mstruc0\u001b[0m\u001b[0;34m.\u001b[0m\u001b[0mcif\u001b[0m\u001b[0;34m,\u001b[0m \u001b[0;34m'w'\u001b[0m\u001b[0;34m)\u001b[0m \u001b[0;32mas\u001b[0m \u001b[0m_f\u001b[0m\u001b[0;34m:\u001b[0m\u001b[0;34m\u001b[0m\u001b[0;34m\u001b[0m\u001b[0m\n\u001b[0m\u001b[1;32m      2\u001b[0m     \u001b[0m_f\u001b[0m\u001b[0;34m.\u001b[0m\u001b[0mwritelines\u001b[0m\u001b[0;34m(\u001b[0m\u001b[0mstruc\u001b[0m\u001b[0;34m.\u001b[0m\u001b[0mget_cif\u001b[0m\u001b[0;34m(\u001b[0m\u001b[0;34m)\u001b[0m\u001b[0;34m.\u001b[0m\u001b[0mget_content\u001b[0m\u001b[0;34m(\u001b[0m\u001b[0;34m)\u001b[0m\u001b[0;34m)\u001b[0m\u001b[0;34m\u001b[0m\u001b[0;34m\u001b[0m\u001b[0m\n",
      "\u001b[0;31mAttributeError\u001b[0m: 'StructureData' object has no attribute 'cif'"
     ]
    }
   ],
   "source": [
    "with open(struc0.cif, 'w') as _f:\n",
    "    _f.writelines(struc.get_cif().get_content())"
   ]
  },
  {
   "cell_type": "code",
   "execution_count": 22,
   "id": "80a3209d",
   "metadata": {},
   "outputs": [
    {
     "data": {
      "text/plain": [
       "<bound method IStructure.get_space_group_info of Structure Summary\n",
       "Lattice\n",
       "    abc : 3.84 3.8399999999999994 3.84\n",
       " angles : 119.99999999999999 90.0 60.00000000000001\n",
       " volume : 40.038580810231124\n",
       "      A : 3.84 0.0 2.351321854362918e-16\n",
       "      B : 1.92 2.7152900397563426 -1.919999999999999\n",
       "      C : 0.0 0.0 3.84\n",
       "PeriodicSite: Si (0.0000, 0.0000, 0.0000) [0.0000, 0.0000, 0.0000]\n",
       "PeriodicSite: Si (3.8400, 1.3576, 1.9200) [0.7500, 0.5000, 0.7500]>"
      ]
     },
     "execution_count": 22,
     "metadata": {},
     "output_type": "execute_result"
    }
   ],
   "source": [
    "from pymatgen.core import Lattice, Structure, Molecule\n",
    "\n",
    "coords = [[0, 0, 0], [0.75,0.5,0.75]]\n",
    "lattice = Lattice.from_parameters(a=3.84, b=3.84, c=3.84, alpha=120,\n",
    "                                  beta=90, gamma=60)\n",
    "struct = Structure(lattice, [\"Si\", \"Si\"], coords)\n",
    "struct.get_space_group_info"
   ]
  },
  {
   "cell_type": "code",
   "execution_count": 24,
   "id": "10e05bdc",
   "metadata": {},
   "outputs": [
    {
     "name": "stdout",
     "output_type": "stream",
     "text": [
      "structure has vacancies, need to remove empty sites for plotting\n",
      "removing atom kind name 'HX' @ 1.8747016921119e-16,2.5305049625927,23.373375970824\n",
      "removing atom kind name 'HX' @ -4.6526674632394e-17,1.2427329655867e-16,27.438310922272\n",
      "removing atom kind name 'HX' @ 1.7975343758741e-16,2.5305049625927,29.470778397996\n",
      "removing atom kind name 'HX' @ -3.8809943008617e-17,1.0071414359274e-16,21.3409084951\n",
      "removing atom kind name 'HX' @ 2.1914815820078,1.2652524812963,25.405843446548\n"
     ]
    },
    {
     "data": {
      "application/vnd.jupyter.widget-view+json": {
       "model_id": "694c5945a84b49c1b9c6914d57b2bda8",
       "version_major": 2,
       "version_minor": 0
      },
      "text/plain": [
       "GridspecLayout(children=(Renderer(camera=PerspectiveCamera(fov=10.0, position=(0.0, 0.0, 202.64102677652383), …"
      ]
     },
     "metadata": {},
     "output_type": "display_data"
    },
    {
     "data": {
      "text/plain": [
       "<aiida_kkr.tools.plot_kkr.plot_kkr at 0x7f4b612f9820>"
      ]
     },
     "execution_count": 24,
     "metadata": {},
     "output_type": "execute_result"
    }
   ],
   "source": [
    "plot_kkr(struc0, silent= True, canvas_size= (400,400))"
   ]
  },
  {
   "cell_type": "code",
   "execution_count": 194,
   "id": "285143c4",
   "metadata": {},
   "outputs": [
    {
     "data": {
      "text/plain": [
       "<StructureData: uuid: c1626804-5b71-450c-91c4-aa7197d85279 (pk: 234)>"
      ]
     },
     "execution_count": 194,
     "metadata": {},
     "output_type": "execute_result"
    }
   ],
   "source": [
    "pym = struc0.get_pymatgen()\n",
    "#pym.get_primitive_structure\n",
    "struc0"
   ]
  },
  {
   "cell_type": "code",
   "execution_count": 19,
   "id": "2f12446c",
   "metadata": {},
   "outputs": [],
   "source": [
    "#with open('strucname.cif', 'w') as _f:\n",
    "  #  _f.writelines(struc0.get_cif().get_content())"
   ]
  },
  {
   "cell_type": "code",
   "execution_count": 166,
   "id": "a67bdf68",
   "metadata": {},
   "outputs": [
    {
     "data": {
      "text/plain": [
       "[[2.1914815820078, 1.2652524812963, 10.162337378619],\n",
       " [-2.1914815820078, 1.2652524812963, 10.162337378619],\n",
       " [-8.1101110346236e-17, -2.5305049625927, 10.162337378619]]"
      ]
     },
     "execution_count": 166,
     "metadata": {},
     "output_type": "execute_result"
    }
   ],
   "source": [
    "# plot_kkr(234, strucplot= True, silent= True)\n",
    "struc = load_node(234)\n",
    "struc.cell"
   ]
  },
  {
   "cell_type": "code",
   "execution_count": 169,
   "id": "3b65825e",
   "metadata": {},
   "outputs": [
    {
     "data": {
      "text/plain": [
       "2.5305049625926155"
      ]
     },
     "execution_count": 169,
     "metadata": {},
     "output_type": "execute_result"
    }
   ],
   "source": [
    "r = (2.1914815820078**2 + 1.2652524812963**2)**0.5\n",
    "r"
   ]
  },
  {
   "cell_type": "code",
   "execution_count": 14,
   "id": "dab3fe85",
   "metadata": {},
   "outputs": [
    {
     "data": {
      "text/plain": [
       "24.16"
      ]
     },
     "execution_count": 14,
     "metadata": {},
     "output_type": "execute_result"
    }
   ],
   "source": [
    "li1= [2.1914815820078, 1.2652524812963, 10.162337378619]\n",
    "alat= np.sqrt(np.sum([i**2 for i in li1]))\n",
    "alat*(3)**(1/3)\n",
    "15.10*1.6"
   ]
  },
  {
   "cell_type": "code",
   "execution_count": 15,
   "id": "314713fd",
   "metadata": {},
   "outputs": [
    {
     "data": {
      "text/plain": [
       "[[2.1914815820078, 3.795757443889, 0.0],\n",
       " [-2.1914815820078, 3.795757443889, 0.0],\n",
       " [-8.1101110346236e-17, -2.5305049625927, 10.162337378619]]"
      ]
     },
     "execution_count": 15,
     "metadata": {},
     "output_type": "execute_result"
    }
   ],
   "source": [
    "from pymatgen.core import Lattice, Structure, Molecule\n",
    "original_cell = [\n",
    "                 [2.1914815820078, 1.2652524812963, 10.162337378619],\n",
    "                 [-2.1914815820078, 1.2652524812963, 10.162337378619],\n",
    "                 [-8.1101110346236e-17, -2.5305049625927, 10.162337378619]\n",
    "                ]\n",
    "\n",
    "z= original_cell[2]\n",
    "\n",
    "for i in range(len(original_cell)-1):\n",
    "    original_cell[i]= list(np.array(original_cell[i])- np.array(z))\n",
    "\n",
    "original_cell\n",
    "\n",
    "latice = Lattice(original_cell)\n",
    "\n",
    "atom_coordinates = [[0.0, 0.0, 0.0],\n",
    "                   [0.30, 0.50, 0.2],\n",
    "                   [0.30, 0.25, 0.45],\n",
    "                   [0.60, 0.50, 0.65],\n",
    "                   [0.30, 0.30, 0.8]]\n",
    "struc = Structure(latice, ['Te', 'Bi', 'Te', 'Bi', 'Te'], atom_coordinates)\n",
    "original_cell"
   ]
  },
  {
   "cell_type": "code",
   "execution_count": 17,
   "id": "5b50bd3a",
   "metadata": {},
   "outputs": [],
   "source": [
    "#struc"
   ]
  },
  {
   "cell_type": "code",
   "execution_count": 18,
   "id": "46021cab",
   "metadata": {},
   "outputs": [
    {
     "data": {
      "text/plain": [
       "2.8800000000000003"
      ]
     },
     "execution_count": 18,
     "metadata": {},
     "output_type": "execute_result"
    }
   ],
   "source": [
    ".3*-1.919999999999999 + 0.9000*3.84\n"
   ]
  },
  {
   "cell_type": "code",
   "execution_count": 54,
   "id": "5206e052",
   "metadata": {},
   "outputs": [],
   "source": [
    "#To colloect the Jij Data\n",
    "accending_distance_group = [104,102, 118, 115 ]"
   ]
  },
  {
   "cell_type": "code",
   "execution_count": 8,
   "id": "6d6d4ed5",
   "metadata": {},
   "outputs": [
    {
     "data": {
      "text/plain": [
       "False"
      ]
     },
     "execution_count": 8,
     "metadata": {},
     "output_type": "execute_result"
    }
   ],
   "source": [
    "ll = {'a':10}\n",
    "hasattr(ll,'a')"
   ]
  },
  {
   "cell_type": "code",
   "execution_count": 9,
   "id": "f7bca02a",
   "metadata": {},
   "outputs": [
    {
     "ename": "TypeError",
     "evalue": "expected 1 argument, got 0",
     "output_type": "error",
     "traceback": [
      "\u001b[0;31m---------------------------------------------------------------------------\u001b[0m",
      "\u001b[0;31mTypeError\u001b[0m                                 Traceback (most recent call last)",
      "\u001b[0;32m/tmp/ipykernel_1191720/142255443.py\u001b[0m in \u001b[0;36m<module>\u001b[0;34m\u001b[0m\n\u001b[0;32m----> 1\u001b[0;31m \u001b[0mll\u001b[0m\u001b[0;34m.\u001b[0m\u001b[0m__getattribute__\u001b[0m\u001b[0;34m(\u001b[0m\u001b[0;34m)\u001b[0m\u001b[0;34m\u001b[0m\u001b[0;34m\u001b[0m\u001b[0m\n\u001b[0m",
      "\u001b[0;31mTypeError\u001b[0m: expected 1 argument, got 0"
     ]
    }
   ],
   "source": [
    "ll.__at"
   ]
  },
  {
   "cell_type": "code",
   "execution_count": null,
   "id": "d0ea6040",
   "metadata": {},
   "outputs": [],
   "source": []
  },
  {
   "cell_type": "code",
   "execution_count": null,
   "id": "84891595",
   "metadata": {},
   "outputs": [],
   "source": []
  }
 ],
 "metadata": {
  "kernelspec": {
   "display_name": "AiiDA",
   "language": "python",
   "name": "aiida"
  },
  "language_info": {
   "codemirror_mode": {
    "name": "ipython",
    "version": 3
   },
   "file_extension": ".py",
   "mimetype": "text/x-python",
   "name": "python",
   "nbconvert_exporter": "python",
   "pygments_lexer": "ipython3",
   "version": "3.8.10"
  }
 },
 "nbformat": 4,
 "nbformat_minor": 5
}
