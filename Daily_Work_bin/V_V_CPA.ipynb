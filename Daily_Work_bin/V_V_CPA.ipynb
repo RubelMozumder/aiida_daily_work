{
 "cells": [
  {
   "cell_type": "markdown",
   "id": "1ae62b6d",
   "metadata": {},
   "source": [
    "# CPA example V$_x$Bi$_{2-x}$Te$_3$ (x=5%)\n",
    "\n",
    "Try CPA for alloying of Bi$_2$Te$_3$ topological insulator:\n",
    "\n",
    "1. change from use of Lloyd's formula to average renormalized energy weights (Lloyd does not work together with CPA)\n",
    "2. set up CPA structure for V doped Bi$_2$Te$_3$\n",
    "3. run auxiliary voronoi step to have V starting potential embedded into Bi$_2$Te$_3$\n",
    "4. construct CPA starting potential from converged Bi$_2$Te$_3$ potenital and Voronoi potential of V atoms\n",
    "5. run CPA self consistency\n",
    "6. run CPA DOS and band structure and compare to clean Bi$_2$Te$_3$\n",
    "\n",
    "Note that the converged potential for a vertain concentration (here 5%) can be used a a starting point for other concentrations.\n",
    "\n",
    "**Attention: The KKR-BdG version of the host code needs to be used since this is the only branch that has the renormalization factor.**"
   ]
  },
  {
   "cell_type": "markdown",
   "id": "3c9d2b5b",
   "metadata": {},
   "source": [
    "# Qustion:\n",
    "- How to calculate the concentration\n",
    "    $\\frac{\\# impurity\\ atom\\ number}{\\#Total\\ atoms\\ in\\ impurity\\ cluster} *100%$\n",
    "\n",
    "\n",
    "   Sol: Concentration (x) of different atoms (V$_{x}$Bi$_{2-x}$) form at one position and is expressd as 0.95Bi0.05V.\n",
    "   \n",
    "- Such kind of idea how create a nucleus and stomic cell, so how to create also the potential.\n",
    "- Soes 'Xinipol' reperesent the percentage of the magnetic field set in 'HFIELD' "
   ]
  },
  {
   "cell_type": "code",
   "execution_count": 15,
   "id": "db2dcfa1",
   "metadata": {},
   "outputs": [
    {
     "name": "stdout",
     "output_type": "stream",
     "text": [
      "The autoreload extension is already loaded. To reload it, use:\n",
      "  %reload_ext autoreload\n"
     ]
    }
   ],
   "source": [
    "%load_ext autoreload\n",
    "%autoreload 2\n",
    "\n",
    "from aiida import load_profile\n",
    "profile = load_profile()\n",
    "\n",
    "import os\n",
    "import numpy as np\n",
    "import math as m\n",
    "import pymatgen\n",
    "import scipy.constants as cons\n",
    "import matplotlib.pyplot as plt\n",
    "from aiida.orm import load_node, Code, load_group, Group, WorkChainNode, Dict, StructureData\n",
    "from aiida.engine import submit\n",
    "from aiida_kkr.tools import find_parent_structure, plot_kkr, kkrparams, neworder_potential_wf\n",
    "from aiida_kkr.calculations import KkrCalculation, VoronoiCalculation\n",
    "from aiida_kkr.workflows import kkr_dos_wc, kkr_bs_wc, kkr_scf_wc"
   ]
  },
  {
   "cell_type": "code",
   "execution_count": 16,
   "id": "439eb4a8",
   "metadata": {},
   "outputs": [],
   "source": [
    "# global settings\n",
    "\n",
    "# code and options for BdG code on Claix\n",
    "# BdG code is needed to have weight renormalization feature\n",
    "\n",
    "kkr_code = Code.get_from_string('kkr_BdG@claix18_init')\n",
    "options = {\n",
    "    'max_wallclock_seconds': 2*36000, # 20h max runtine\n",
    "    'resources': {'tot_num_mpiprocs': 40*2, 'num_machines': 2}, # only 40 ranks to divide by 10 atoms per unit cell\n",
    "    # use correct project in accounting (SBATCH needs to be first in list of custom scheduler commands):\n",
    "    'custom_scheduler_commands': '#SBATCH --account=jara0191\\n\\nulimit -s unlimited; export OMP_STACKSIZE=2g', # make sure stacksize is large\n",
    "    'withmpi': True\n",
    "}"
   ]
  },
  {
   "cell_type": "markdown",
   "id": "703efcc2",
   "metadata": {},
   "source": [
    "## run simplify energy integration to mimick use of Lloyd's formula\n",
    "\n",
    "later on skip this and just import the proper KkrCalculation node as starting point"
   ]
  },
  {
   "cell_type": "code",
   "execution_count": 8,
   "id": "133bf8c6",
   "metadata": {},
   "outputs": [],
   "source": [
    "scf_lly = load_node('23b13d9d-6e02-46c7-b3ac-17033b205b19')\n",
    "struc0 = find_parent_structure(scf_lly)"
   ]
  },
  {
   "cell_type": "code",
   "execution_count": 19,
   "id": "1a6c978a",
   "metadata": {},
   "outputs": [],
   "source": [
    "# change parameters to use renormalization factor instead of Lloyd's formula\n",
    "\n",
    "# extract old parameters\n",
    "params = kkrparams(**{k:v for k,v in scf_lly.inputs.parameters.get_dict().items() if v is not None and k!='use_input_alat'})\n",
    "params.set_value('use_input_alat', True)\n",
    "\n",
    "# find average renormalization factor for weights\n",
    "with scf_lly.outputs.retrieved.open('output.000.txt') as _f:\n",
    "    txt = _f.readlines()\n",
    "    rfac = [i for i in txt if 'RENORM_LLY: Renormalization factor of total charge' in i]\n",
    "    rfac = float(rfac[0].split()[-1])\n",
    "    \n",
    "# now update parameters\n",
    "params.set_multiple_values(\n",
    "    RUNOPT = ['NEWSOSOL'], # remove Lloyd\n",
    "    WFAC_RENORM = rfac\n",
    ")\n"
   ]
  },
  {
   "cell_type": "code",
   "execution_count": 5,
   "id": "9062c8a4",
   "metadata": {},
   "outputs": [],
   "source": [
    "# run scf with average renormalized weights\n",
    "builder = KkrCalculation.get_builder()\n",
    "builder.code = kkr_code\n",
    "builder.metadata.label = 'Bi2Te3_renormalized_e_weights'\n",
    "builder.metadata.options = options\n",
    "builder.parameters = Dict(dict=params)\n",
    "builder.parent_folder = scf_lly.outputs.remote_folder\n",
    "# scf_renorm = submit(builder)\n",
    "scf_renorm = load_node('7d9bf737-f66a-4cd9-b6cf-282bd6d0277c')\n",
    "#plot_kkr(scf_renorm, silent=False)"
   ]
  },
  {
   "cell_type": "markdown",
   "id": "4dc039d6",
   "metadata": {},
   "source": [
    "## compare DOS with Lloyd and with average renormalized weights"
   ]
  },
  {
   "cell_type": "code",
   "execution_count": 6,
   "id": "e45570e8",
   "metadata": {},
   "outputs": [
    {
     "name": "stdout",
     "output_type": "stream",
     "text": [
      "Version of workflow: 0.8.0\n"
     ]
    }
   ],
   "source": [
    "# Lloyd DOS\n",
    "\n",
    "builder = kkr_dos_wc.get_builder()\n",
    "wfd = kkr_dos_wc.get_wf_defaults()\n",
    "wfd['emin'] = -3.\n",
    "wfd['emax'] = 3.\n",
    "wfd['kmesh'] = [50, 50, 50]\n",
    "builder.kkr = kkr_code\n",
    "builder.metadata.label = 'Bi2Te3 DOS around EF'\n",
    "builder.options = Dict(dict=options)\n",
    "builder.remote_data = scf_lly.outputs.remote_folder\n",
    "builder.wf_parameters = Dict(dict=wfd)\n",
    "\n",
    "# dos_ref = submit(builder)\n",
    "dos_ref = load_node('fd831449-2a37-4316-91e0-656829d69f7a')"
   ]
  },
  {
   "cell_type": "code",
   "execution_count": 7,
   "id": "a3fdfa60",
   "metadata": {},
   "outputs": [],
   "source": [
    "# renormalized weights\n",
    "\n",
    "builder = dos_ref.get_builder_restart()\n",
    "builder.remote_data = scf_renorm.outputs.remote_folder\n",
    "builder.metadata.label = 'Bi2Te3 (renorm weights) DOS around EF'\n",
    "# dos = submit(builder)\n",
    "dos = load_node('b2c6edee-92f6-4681-8346-c139abc84b13')"
   ]
  },
  {
   "cell_type": "code",
   "execution_count": null,
   "id": "40e06eb6",
   "metadata": {},
   "outputs": [],
   "source": [
    "plt.figure(figsize=(12,8))\n",
    "kwargs = dict(silent=True, sum_spins=True, l_channels=False,\n",
    "              nofig=True, noshow=True, lw=5)\n",
    "plot_kkr(dos_ref, label='Lloyd', **kwargs)\n",
    "plot_kkr(dos, label='renorm', color='C1', ls=':', **kwargs)\n",
    "plt.legend(fontsize='large')\n",
    "plt.title('comparison Lloyd vs. renromalized weights', fontsize='x-large')\n",
    "plt.ylim(0)\n",
    "plt.show()"
   ]
  },
  {
   "cell_type": "code",
   "execution_count": null,
   "id": "8a1a76fb",
   "metadata": {},
   "outputs": [],
   "source": []
  },
  {
   "cell_type": "markdown",
   "id": "e1d5388f",
   "metadata": {},
   "source": [
    "## compare band structures"
   ]
  },
  {
   "cell_type": "code",
   "execution_count": 9,
   "id": "fb10aab0",
   "metadata": {},
   "outputs": [],
   "source": [
    "# create k-points around Gamma\n",
    "\n",
    "# from aiida.orm import KpointsData\n",
    "# kpts = KpointsData()\n",
    "# kpts.set_cell_from_structure(struc0)\n",
    "# k = [[-0.5+0.5*i/100.,0., 0.] for i in range(100)]\n",
    "# k += [[0.0, 0.5*i/100., 0.] for i in range(101)]\n",
    "# kpts.set_kpoints(k, cartesian=True)\n",
    "# kpts.store()\n",
    "kpts = load_node('8e6447f0-2149-4475-8458-cd72de0c58ca')"
   ]
  },
  {
   "cell_type": "code",
   "execution_count": 11,
   "id": "6dca4872",
   "metadata": {},
   "outputs": [
    {
     "name": "stdout",
     "output_type": "stream",
     "text": [
      "Version of the kkr_bs_wc workflow: 0.1.1\n"
     ]
    },
    {
     "ename": "NotExistent",
     "evalue": "no Node found with UUID<c7e2b23b-1f73-4455-8281-e8b8d489b69d>: No result was found",
     "output_type": "error",
     "traceback": [
      "\u001b[0;31m---------------------------------------------------------------------------\u001b[0m",
      "\u001b[0;31mNotExistent\u001b[0m                               Traceback (most recent call last)",
      "\u001b[0;32m/opt/aiida-core/aiida/orm/utils/loaders.py\u001b[0m in \u001b[0;36mload_entity\u001b[0;34m(cls, identifier, identifier_type, sub_classes, query_with_dashes)\u001b[0m\n\u001b[1;32m    212\u001b[0m         \u001b[0;32mtry\u001b[0m\u001b[0;34m:\u001b[0m\u001b[0;34m\u001b[0m\u001b[0;34m\u001b[0m\u001b[0m\n\u001b[0;32m--> 213\u001b[0;31m             \u001b[0mentity\u001b[0m \u001b[0;34m=\u001b[0m \u001b[0mbuilder\u001b[0m\u001b[0;34m.\u001b[0m\u001b[0mone\u001b[0m\u001b[0;34m(\u001b[0m\u001b[0;34m)\u001b[0m\u001b[0;34m[\u001b[0m\u001b[0;36m0\u001b[0m\u001b[0;34m]\u001b[0m\u001b[0;34m\u001b[0m\u001b[0;34m\u001b[0m\u001b[0m\n\u001b[0m\u001b[1;32m    214\u001b[0m         \u001b[0;32mexcept\u001b[0m \u001b[0mMultipleObjectsError\u001b[0m\u001b[0;34m:\u001b[0m\u001b[0;34m\u001b[0m\u001b[0;34m\u001b[0m\u001b[0m\n",
      "\u001b[0;32m/opt/aiida-core/aiida/orm/querybuilder.py\u001b[0m in \u001b[0;36mone\u001b[0;34m(self)\u001b[0m\n\u001b[1;32m   2182\u001b[0m         \u001b[0;32melif\u001b[0m \u001b[0mlen\u001b[0m\u001b[0;34m(\u001b[0m\u001b[0mres\u001b[0m\u001b[0;34m)\u001b[0m \u001b[0;34m==\u001b[0m \u001b[0;36m0\u001b[0m\u001b[0;34m:\u001b[0m\u001b[0;34m\u001b[0m\u001b[0;34m\u001b[0m\u001b[0m\n\u001b[0;32m-> 2183\u001b[0;31m             \u001b[0;32mraise\u001b[0m \u001b[0mNotExistent\u001b[0m\u001b[0;34m(\u001b[0m\u001b[0;34m'No result was found'\u001b[0m\u001b[0;34m)\u001b[0m\u001b[0;34m\u001b[0m\u001b[0;34m\u001b[0m\u001b[0m\n\u001b[0m\u001b[1;32m   2184\u001b[0m         \u001b[0;32mreturn\u001b[0m \u001b[0mres\u001b[0m\u001b[0;34m[\u001b[0m\u001b[0;36m0\u001b[0m\u001b[0;34m]\u001b[0m\u001b[0;34m\u001b[0m\u001b[0;34m\u001b[0m\u001b[0m\n",
      "\u001b[0;31mNotExistent\u001b[0m: No result was found",
      "\nDuring handling of the above exception, another exception occurred:\n",
      "\u001b[0;31mNotExistent\u001b[0m                               Traceback (most recent call last)",
      "\u001b[0;32m/tmp/ipykernel_3845400/2054017422.py\u001b[0m in \u001b[0;36m<module>\u001b[0;34m\u001b[0m\n\u001b[1;32m     13\u001b[0m \u001b[0;34m\u001b[0m\u001b[0m\n\u001b[1;32m     14\u001b[0m \u001b[0;31m# bs_ref = submit(builder)\u001b[0m\u001b[0;34m\u001b[0m\u001b[0;34m\u001b[0m\u001b[0;34m\u001b[0m\u001b[0m\n\u001b[0;32m---> 15\u001b[0;31m \u001b[0mbs_ref\u001b[0m \u001b[0;34m=\u001b[0m \u001b[0mload_node\u001b[0m\u001b[0;34m(\u001b[0m\u001b[0;34m'c7e2b23b-1f73-4455-8281-e8b8d489b69d'\u001b[0m\u001b[0;34m)\u001b[0m\u001b[0;34m\u001b[0m\u001b[0;34m\u001b[0m\u001b[0m\n\u001b[0m",
      "\u001b[0;32m/opt/aiida-core/aiida/orm/utils/__init__.py\u001b[0m in \u001b[0;36mload_node\u001b[0;34m(identifier, pk, uuid, label, sub_classes, query_with_dashes)\u001b[0m\n\u001b[1;32m    195\u001b[0m     \"\"\"\n\u001b[1;32m    196\u001b[0m     \u001b[0;32mfrom\u001b[0m \u001b[0maiida\u001b[0m\u001b[0;34m.\u001b[0m\u001b[0morm\u001b[0m\u001b[0;34m.\u001b[0m\u001b[0mutils\u001b[0m\u001b[0;34m.\u001b[0m\u001b[0mloaders\u001b[0m \u001b[0;32mimport\u001b[0m \u001b[0mNodeEntityLoader\u001b[0m\u001b[0;34m\u001b[0m\u001b[0;34m\u001b[0m\u001b[0m\n\u001b[0;32m--> 197\u001b[0;31m     return load_entity(\n\u001b[0m\u001b[1;32m    198\u001b[0m         \u001b[0mNodeEntityLoader\u001b[0m\u001b[0;34m,\u001b[0m\u001b[0;34m\u001b[0m\u001b[0;34m\u001b[0m\u001b[0m\n\u001b[1;32m    199\u001b[0m         \u001b[0midentifier\u001b[0m\u001b[0;34m=\u001b[0m\u001b[0midentifier\u001b[0m\u001b[0;34m,\u001b[0m\u001b[0;34m\u001b[0m\u001b[0;34m\u001b[0m\u001b[0m\n",
      "\u001b[0;32m/opt/aiida-core/aiida/orm/utils/__init__.py\u001b[0m in \u001b[0;36mload_entity\u001b[0;34m(entity_loader, identifier, pk, uuid, label, sub_classes, query_with_dashes)\u001b[0m\n\u001b[1;32m     75\u001b[0m         \u001b[0midentifier_type\u001b[0m \u001b[0;34m=\u001b[0m \u001b[0;32mNone\u001b[0m\u001b[0;34m\u001b[0m\u001b[0;34m\u001b[0m\u001b[0m\n\u001b[1;32m     76\u001b[0m \u001b[0;34m\u001b[0m\u001b[0m\n\u001b[0;32m---> 77\u001b[0;31m     return entity_loader.load_entity(\n\u001b[0m\u001b[1;32m     78\u001b[0m         \u001b[0midentifier\u001b[0m\u001b[0;34m,\u001b[0m \u001b[0midentifier_type\u001b[0m\u001b[0;34m,\u001b[0m \u001b[0msub_classes\u001b[0m\u001b[0;34m=\u001b[0m\u001b[0msub_classes\u001b[0m\u001b[0;34m,\u001b[0m \u001b[0mquery_with_dashes\u001b[0m\u001b[0;34m=\u001b[0m\u001b[0mquery_with_dashes\u001b[0m\u001b[0;34m\u001b[0m\u001b[0;34m\u001b[0m\u001b[0m\n\u001b[1;32m     79\u001b[0m     )\n",
      "\u001b[0;32m/opt/aiida-core/aiida/orm/utils/loaders.py\u001b[0m in \u001b[0;36mload_entity\u001b[0;34m(cls, identifier, identifier_type, sub_classes, query_with_dashes)\u001b[0m\n\u001b[1;32m    217\u001b[0m         \u001b[0;32mexcept\u001b[0m \u001b[0mNotExistent\u001b[0m \u001b[0;32mas\u001b[0m \u001b[0mexception\u001b[0m\u001b[0;34m:\u001b[0m\u001b[0;34m\u001b[0m\u001b[0;34m\u001b[0m\u001b[0m\n\u001b[1;32m    218\u001b[0m             \u001b[0merror\u001b[0m \u001b[0;34m=\u001b[0m \u001b[0;34mf'no {classes} found with {identifier_type}<{identifier}>: {exception}'\u001b[0m\u001b[0;34m\u001b[0m\u001b[0;34m\u001b[0m\u001b[0m\n\u001b[0;32m--> 219\u001b[0;31m             \u001b[0;32mraise\u001b[0m \u001b[0mNotExistent\u001b[0m\u001b[0;34m(\u001b[0m\u001b[0merror\u001b[0m\u001b[0;34m)\u001b[0m\u001b[0;34m\u001b[0m\u001b[0;34m\u001b[0m\u001b[0m\n\u001b[0m\u001b[1;32m    220\u001b[0m \u001b[0;34m\u001b[0m\u001b[0m\n\u001b[1;32m    221\u001b[0m         \u001b[0;32mreturn\u001b[0m \u001b[0mentity\u001b[0m\u001b[0;34m\u001b[0m\u001b[0;34m\u001b[0m\u001b[0m\n",
      "\u001b[0;31mNotExistent\u001b[0m: no Node found with UUID<c7e2b23b-1f73-4455-8281-e8b8d489b69d>: No result was found"
     ]
    }
   ],
   "source": [
    "# Lloyd band structure\n",
    "\n",
    "builder = kkr_bs_wc.get_builder()\n",
    "wfd = kkr_bs_wc.get_wf_defaults()\n",
    "wfd['emin'] = -3.\n",
    "wfd['emax'] = 3.\n",
    "builder.kkr = dos_ref.inputs.kkr\n",
    "builder.kpoints = kpts\n",
    "builder.metadata.label = 'Bi2Te3 around EF'\n",
    "builder.options = dos_ref.inputs.options\n",
    "builder.wf_parameters = Dict(dict=wfd)\n",
    "builder.remote_data = scf_lly.outputs.remote_folder\n",
    "\n",
    "# bs_ref = submit(builder)\n",
    "bs_ref = load_node('c7e2b23b-1f73-4455-8281-e8b8d489b69d')"
   ]
  },
  {
   "cell_type": "code",
   "execution_count": 12,
   "id": "25720b75",
   "metadata": {},
   "outputs": [
    {
     "ename": "NameError",
     "evalue": "name 'bs_ref' is not defined",
     "output_type": "error",
     "traceback": [
      "\u001b[0;31m---------------------------------------------------------------------------\u001b[0m",
      "\u001b[0;31mNameError\u001b[0m                                 Traceback (most recent call last)",
      "\u001b[0;32m/tmp/ipykernel_3845400/3296027205.py\u001b[0m in \u001b[0;36m<module>\u001b[0;34m\u001b[0m\n\u001b[1;32m      1\u001b[0m \u001b[0;31m# renormalized weights\u001b[0m\u001b[0;34m\u001b[0m\u001b[0;34m\u001b[0m\u001b[0;34m\u001b[0m\u001b[0m\n\u001b[1;32m      2\u001b[0m \u001b[0;34m\u001b[0m\u001b[0m\n\u001b[0;32m----> 3\u001b[0;31m \u001b[0mbuilder\u001b[0m \u001b[0;34m=\u001b[0m \u001b[0mbs_ref\u001b[0m\u001b[0;34m.\u001b[0m\u001b[0mget_builder_restart\u001b[0m\u001b[0;34m(\u001b[0m\u001b[0;34m)\u001b[0m\u001b[0;34m\u001b[0m\u001b[0;34m\u001b[0m\u001b[0m\n\u001b[0m\u001b[1;32m      4\u001b[0m \u001b[0mbuilder\u001b[0m\u001b[0;34m.\u001b[0m\u001b[0mremote_data\u001b[0m \u001b[0;34m=\u001b[0m \u001b[0mscf_renorm\u001b[0m\u001b[0;34m.\u001b[0m\u001b[0moutputs\u001b[0m\u001b[0;34m.\u001b[0m\u001b[0mremote_folder\u001b[0m\u001b[0;34m\u001b[0m\u001b[0;34m\u001b[0m\u001b[0m\n\u001b[1;32m      5\u001b[0m \u001b[0mbuilder\u001b[0m\u001b[0;34m.\u001b[0m\u001b[0mmetadata\u001b[0m\u001b[0;34m.\u001b[0m\u001b[0mlabel\u001b[0m \u001b[0;34m=\u001b[0m \u001b[0;34m'Bi2Te3 (renorm weights) around EF'\u001b[0m\u001b[0;34m\u001b[0m\u001b[0;34m\u001b[0m\u001b[0m\n",
      "\u001b[0;31mNameError\u001b[0m: name 'bs_ref' is not defined"
     ]
    }
   ],
   "source": [
    "# renormalized weights\n",
    "\n",
    "builder = bs_ref.get_builder_restart()\n",
    "builder.remote_data = scf_renorm.outputs.remote_folder\n",
    "builder.metadata.label = 'Bi2Te3 (renorm weights) around EF'\n",
    "# bs = submit(builder)\n",
    "bs = load_node('35863ca9-26bd-48f8-8bdb-8c54ec172ae1')"
   ]
  },
  {
   "cell_type": "code",
   "execution_count": 13,
   "id": "265a4029",
   "metadata": {},
   "outputs": [
    {
     "ename": "NameError",
     "evalue": "name 'bs_ref' is not defined",
     "output_type": "error",
     "traceback": [
      "\u001b[0;31m---------------------------------------------------------------------------\u001b[0m",
      "\u001b[0;31mNameError\u001b[0m                                 Traceback (most recent call last)",
      "\u001b[0;32m/tmp/ipykernel_3845400/1820193876.py\u001b[0m in \u001b[0;36m<module>\u001b[0;34m\u001b[0m\n\u001b[1;32m      1\u001b[0m \u001b[0mplt\u001b[0m\u001b[0;34m.\u001b[0m\u001b[0mfigure\u001b[0m\u001b[0;34m(\u001b[0m\u001b[0mfigsize\u001b[0m\u001b[0;34m=\u001b[0m\u001b[0;34m(\u001b[0m\u001b[0;36m12\u001b[0m\u001b[0;34m,\u001b[0m\u001b[0;36m6\u001b[0m\u001b[0;34m)\u001b[0m\u001b[0;34m)\u001b[0m\u001b[0;34m\u001b[0m\u001b[0;34m\u001b[0m\u001b[0m\n\u001b[1;32m      2\u001b[0m \u001b[0mplt\u001b[0m\u001b[0;34m.\u001b[0m\u001b[0msubplot\u001b[0m\u001b[0;34m(\u001b[0m\u001b[0;36m1\u001b[0m\u001b[0;34m,\u001b[0m\u001b[0;36m2\u001b[0m\u001b[0;34m,\u001b[0m\u001b[0;36m1\u001b[0m\u001b[0;34m)\u001b[0m\u001b[0;34m\u001b[0m\u001b[0;34m\u001b[0m\u001b[0m\n\u001b[0;32m----> 3\u001b[0;31m \u001b[0mc\u001b[0m \u001b[0;34m=\u001b[0m \u001b[0mbs_ref\u001b[0m\u001b[0;34m.\u001b[0m\u001b[0mget_outgoing\u001b[0m\u001b[0;34m(\u001b[0m\u001b[0mnode_class\u001b[0m\u001b[0;34m=\u001b[0m\u001b[0mKkrCalculation\u001b[0m\u001b[0;34m)\u001b[0m\u001b[0;34m.\u001b[0m\u001b[0mfirst\u001b[0m\u001b[0;34m(\u001b[0m\u001b[0;34m)\u001b[0m\u001b[0;34m.\u001b[0m\u001b[0mnode\u001b[0m\u001b[0;34m\u001b[0m\u001b[0;34m\u001b[0m\u001b[0m\n\u001b[0m\u001b[1;32m      4\u001b[0m \u001b[0mplot_kkr\u001b[0m\u001b[0;34m(\u001b[0m\u001b[0mc\u001b[0m\u001b[0;34m,\u001b[0m \u001b[0msilent\u001b[0m\u001b[0;34m=\u001b[0m\u001b[0;32mTrue\u001b[0m\u001b[0;34m,\u001b[0m \u001b[0mnoshow\u001b[0m\u001b[0;34m=\u001b[0m\u001b[0;32mTrue\u001b[0m\u001b[0;34m,\u001b[0m \u001b[0mnofig\u001b[0m\u001b[0;34m=\u001b[0m\u001b[0;32mTrue\u001b[0m\u001b[0;34m,\u001b[0m \u001b[0mcmap\u001b[0m\u001b[0;34m=\u001b[0m\u001b[0;34m'binary'\u001b[0m\u001b[0;34m)\u001b[0m\u001b[0;34m\u001b[0m\u001b[0;34m\u001b[0m\u001b[0m\n\u001b[1;32m      5\u001b[0m \u001b[0mplt\u001b[0m\u001b[0;34m.\u001b[0m\u001b[0mxticks\u001b[0m\u001b[0;34m(\u001b[0m\u001b[0;34m[\u001b[0m\u001b[0;36m100\u001b[0m\u001b[0;34m]\u001b[0m\u001b[0;34m,\u001b[0m \u001b[0;34m[\u001b[0m\u001b[0;34m'$k_x$ <-    $\\Gamma$    -> $k_y$'\u001b[0m\u001b[0;34m]\u001b[0m\u001b[0;34m)\u001b[0m\u001b[0;34m\u001b[0m\u001b[0;34m\u001b[0m\u001b[0m\n",
      "\u001b[0;31mNameError\u001b[0m: name 'bs_ref' is not defined"
     ]
    },
    {
     "data": {
      "image/png": "[encoded data removed]",
      "text/plain": [
       "<Figure size 864x432 with 1 Axes>"
      ]
     },
     "metadata": {
      "needs_background": "light"
     },
     "output_type": "display_data"
    }
   ],
   "source": [
    "plt.figure(figsize=(12,6))\n",
    "plt.subplot(1,2,1)\n",
    "c = bs_ref.get_outgoing(node_class=KkrCalculation).first().node\n",
    "plot_kkr(c, silent=True, noshow=True, nofig=True, cmap='binary')\n",
    "plt.xticks([100], ['$k_x$ <-    $\\Gamma$    -> $k_y$'])\n",
    "plt.title('Lloyd'); plt.xlabel('')\n",
    "plt.clim(0.5,4)\n",
    "\n",
    "plt.subplot(1,2,2)\n",
    "c = bs.get_outgoing(node_class=KkrCalculation).first().node\n",
    "plot_kkr(c, silent=True, noshow=True, nofig=True, cmap='binary')\n",
    "plt.xticks([100], ['$k_x$ <-    $\\Gamma$    -> $k_y$'])\n",
    "plt.title('renormalized weights'); plt.xlabel('')\n",
    "plt.clim(0.5,4)\n",
    "\n",
    "#plt.show()"
   ]
  },
  {
   "cell_type": "markdown",
   "id": "79e6b513",
   "metadata": {},
   "source": [
    "Since bandstructure and DOS give the same solution we conclude that using renormalized weights works just as well as Lloyd\n",
    "\n",
    "---\n",
    "\n",
    "## prepare CPA inputs\n",
    "\n",
    "### first CPA structure and voronoi starting potential\n"
   ]
  },
  {
   "cell_type": "code",
   "execution_count": 14,
   "id": "b782c319",
   "metadata": {},
   "outputs": [
    {
     "data": {
      "text/plain": [
       "([<Site: kind name 'Te' @ 0.0,0.0,0.0>,\n",
       "  <Site: kind name 'Te' @ -2.0670559458015e-16,2.5305049625927,26.78792133004>,\n",
       "  <Site: kind name 'Te' @ -7.5181394577443e-17,-2.3960630364491e-17,24.023765563056>,\n",
       "  <Site: kind name 'X' @ 1.8747016921119e-16,2.5305049625927,23.373375970824>,\n",
       "  <Site: kind name 'X' @ -4.6526674632394e-17,1.2427329655867e-16,27.438310922272>,\n",
       "  <Site: kind name 'X' @ 1.7975343758741e-16,2.5305049625927,29.470778397996>,\n",
       "  <Site: kind name 'X' @ -3.8809943008617e-17,1.0071414359274e-16,21.3409084951>,\n",
       "  <Site: kind name 'X' @ 2.1914815820078,1.2652524812963,25.405843446548>,\n",
       "  <Site: kind name 'BiV' @ 2.1914815820078,1.2652524812963,22.357142232962>,\n",
       "  <Site: kind name 'BiV' @ 2.1914815820078,1.2652524812963,28.454544660134>],\n",
       " [<Kind: name 'Te', symbol 'Te'>,\n",
       "  <Kind: name 'X', symbol 'X'>,\n",
       "  <Kind: name 'BiV', symbol '{Bi0.95V0.05}'>])"
      ]
     },
     "execution_count": 14,
     "metadata": {},
     "output_type": "execute_result"
    }
   ],
   "source": [
    "# prepare CPA structure\n",
    "\n",
    "conc = 0.05\n",
    "\n",
    "# struc_cpa = StructureData(cell=struc0.cell)\n",
    "# pos_cpa = []\n",
    "# for iatom, site in enumerate(struc0.sites):\n",
    "#     if iatom not in [3,4]:\n",
    "#         # put CPA sites to the end\n",
    "#         struc_cpa.append_atom(\n",
    "#             position=site.position,\n",
    "#             symbols=site.kind_name.replace('HX', 'X')\n",
    "#         )\n",
    "#     else:\n",
    "#         # collect positions of Bi atoms for CPA changes\n",
    "#         pos_cpa.append(site.position)\n",
    "# # now add CPA sites\n",
    "# for pos in pos_cpa:\n",
    "#     struc_cpa.append_atom(\n",
    "#         position=pos,\n",
    "#         symbols=['Bi', 'V'],\n",
    "#         weights=[1.0-conc, conc]\n",
    "#     )\n",
    "\n",
    "# print(struc_cpa.store())\n",
    "\n",
    "struc_cpa = load_node('445b1ced-0ed4-4e59-9917-fd8212c334dc')\n",
    "struc_cpa.sites, struc_cpa.kinds"
   ]
  },
  {
   "cell_type": "code",
   "execution_count": null,
   "id": "fb00aacd",
   "metadata": {},
   "outputs": [],
   "source": [
    "# prepare starting potential\n",
    "\n",
    "# clear parameters\n",
    "for k in ['BRAVAIS', 'NAEZ', '<RBASIS>', 'CARTESIAN',\n",
    "          '<ZATOM>', 'NATYP', 'RCLUSTXY']:\n",
    "    params.remove_value(k)\n",
    "\n",
    "# run voronoi with CPA structure to get V starting potential\n",
    "builder = VoronoiCalculation.get_builder()\n",
    "builder.code = Code.get_from_string('voro@claix18_init')\n",
    "builder.metadata.label = 'cpa_startpot_creation'\n",
    "\n",
    "builder.metadata.options = {\n",
    "    'max_wallclock_seconds': 500,\n",
    "    'resources': {'tot_num_mpiprocs': 1, 'num_machines': 1},\n",
    "    'withmpi': False\n",
    "}\n",
    "\n",
    "builder.parameters = Dict(dict=params)\n",
    "builder.structure = struc_cpa\n",
    "# voro_cpa_startpot = submit(builder)\n",
    "voro_cpa_startpot = load_node('a0cabcc5-2fca-4801-b668-3d4705c092f2')"
   ]
  },
  {
   "cell_type": "code",
   "execution_count": 18,
   "id": "2730b276",
   "metadata": {},
   "outputs": [],
   "source": [
    "## To check the potentials order in voro_cpa_startpot\n",
    "\n",
    "voro_cpa_startpot = load_node('a0cabcc5-2fca-4801-b668-3d4705c092f2')\n",
    "with voro_cpa_startpot.outputs.retrieved.open('output.pot', 'r') as f:\n",
    "    text = f.readlines()\n",
    "    \n",
    "#print('voro_cpa_startpot : __________________\\n\\n')\n",
    "for i in range(len(text)):\n",
    "    if 'POTENTIAL' in str(text[i]):\n",
    "#        print(text[i])\n",
    "        pass\n",
    "    \n",
    "#print('scf_lly : __________________\\n\\n')\n",
    "#voro_cpa_startpot = load_node('a0cabcc5-2fca-4801-b668-3d4705c092f2')\n",
    "scf_lly = load_node('23b13d9d-6e02-46c7-b3ac-17033b205b19')\n",
    "with scf_lly.outputs.retrieved.open( 'out_potential', 'r') as f:\n",
    "    text = f.readlines()\n",
    "\n",
    "for i in range(len(text)):\n",
    "    if 'POTENTIAL' in str(text[i]):\n",
    "#        print(text[i])\n",
    "        pass\n",
    "        \n",
    "#print('Combined Potential check----------------\\n\\n')\n",
    "combined_potential = load_node('d12e5cdc-fd63-4e93-b8d8-38859f92f787')\n",
    "with combined_potential.open( 'potential_neworder', 'r') as f:\n",
    "    text = f.readlines()\n",
    "\n",
    "    \n",
    "for i in range(len(text)):\n",
    "    if 'POTENTIAL' in str(text[i]):\n",
    "#        print(text[i])\n",
    "        pass"
   ]
  },
  {
   "cell_type": "code",
   "execution_count": 25,
   "id": "8bfa7f18-9875-4d58-a362-c466d016f082",
   "metadata": {},
   "outputs": [
    {
     "data": {
      "text/plain": [
       "['_scheduler-stderr.txt',\n",
       " '_scheduler-stdout.txt',\n",
       " 'complex.dos',\n",
       " 'inputcard',\n",
       " 'out_kkr',\n",
       " 'out_potential',\n",
       " 'out_timing.000.txt',\n",
       " 'output.0.txt',\n",
       " 'output.000.txt',\n",
       " 'output.2.txt']"
      ]
     },
     "execution_count": 25,
     "metadata": {},
     "output_type": "execute_result"
    }
   ],
   "source": [
    "scf_lly.outputs.retrieved.list_object_names()"
   ]
  },
  {
   "cell_type": "markdown",
   "id": "fe88e8bd",
   "metadata": {},
   "source": [
    "### combine voronoi startpot with converged Bi2Te3 potential for faster convergence"
   ]
  },
  {
   "cell_type": "code",
   "execution_count": 17,
   "id": "b59bb1db",
   "metadata": {},
   "outputs": [
    {
     "data": {
      "text/plain": [
       "<SinglefileData: uuid: d12e5cdc-fd63-4e93-b8d8-38859f92f787 (pk: 105139)>"
      ]
     },
     "execution_count": 17,
     "metadata": {},
     "output_type": "execute_result"
    }
   ],
   "source": [
    "\n",
    "settings_dict = {\n",
    "    'neworder': [0, 1, 2, 5, 6, 7, 8, 9, 3, 3, 4, 4], # 3, 3: Bi1, Bi1  // 4, 4: Bi2, Bi2\n",
    "    'replace_newpos': [[18, 18], [19, 19], [22, 22], [23, 23]], # V1-[[spin up], down, V1-spin up, down]; \n",
    "                            #last four potential pairs Bi(spin_up, spin_down), V(up, down), Bi(up, down), V(up,down)\n",
    "    'pot1': 'out_potential',\n",
    "    'pot2': 'output.pot',\n",
    "}\n",
    "\n",
    "### Explanation of the startpot_cpa potential:\n",
    "\n",
    "# 1. re-arrange the first potential according to 'neworder';\n",
    "#    Here potential from the scf_lly.outputs.remote_folder\n",
    "\n",
    "# 2. Firts potential group comes from the first remote folder; \n",
    "#    here second potential comes from the second remote folder\n",
    "\n",
    "# 3. replace the first potentials by the second potentials. \n",
    "#    Each pair of 'replace_newpos' stand for, Potentials indexed\n",
    "#    with first element of the pair will be replaced by the \n",
    "#    second potentials indexed with the second element of pair.\n",
    "\n",
    "###\n",
    "\n",
    "# startpot_cpa = neworder_potential_wf(\n",
    "#     Dict(dict=settings_dict),\n",
    "#     parent_calc_folder= scf_lly.outputs.remote_folder,\n",
    "#     parent_calc_folder2= voro_cpa_startpot.outputs.remote_folder,\n",
    "# )\n",
    "\n",
    "startpot_cpa = load_node('d12e5cdc-fd63-4e93-b8d8-38859f92f787')\n",
    "startpot_cpa\n"
   ]
  },
  {
   "cell_type": "code",
   "execution_count": 18,
   "id": "a4620010",
   "metadata": {},
   "outputs": [],
   "source": [
    "# [i.split()[0:4] for i in startpot_cpa.get_content().split('\\n') if 'exc' in i]"
   ]
  },
  {
   "cell_type": "code",
   "execution_count": 19,
   "id": "4111108c",
   "metadata": {},
   "outputs": [],
   "source": [
    "builder = voro_cpa_startpot.get_builder_restart()\n",
    "builder.metadata.label = 'aux_for_combined_potential'\n",
    "builder.potential_overwrite = startpot_cpa\n",
    "# voro_cpa_startpot2 = submit(builder)\n",
    "voro_cpa_startpot2 = load_node('a45f0e87-0ea3-43fe-803d-885e883b80d2')"
   ]
  },
  {
   "cell_type": "code",
   "execution_count": 20,
   "id": "2cfd9b42",
   "metadata": {},
   "outputs": [
    {
     "ename": "SyntaxError",
     "evalue": "invalid syntax (2482659549.py, line 3)",
     "output_type": "error",
     "traceback": [
      "\u001b[0;36m  File \u001b[0;32m\"/tmp/ipykernel_3845400/2482659549.py\"\u001b[0;36m, line \u001b[0;32m3\u001b[0m\n\u001b[0;31m    First try manually\u001b[0m\n\u001b[0m          ^\u001b[0m\n\u001b[0;31mSyntaxError\u001b[0m\u001b[0;31m:\u001b[0m invalid syntax\n"
     ]
    }
   ],
   "source": [
    "## run CPA selfconsistency\n",
    "\n",
    "First try manually\n",
    "\n",
    "Note that the parameters are change to 48 energy point in the contour to make calculation more efficient on CLAIX"
   ]
  },
  {
   "cell_type": "code",
   "execution_count": 21,
   "id": "12deed94",
   "metadata": {},
   "outputs": [],
   "source": [
    "#print(params.get_dict()['<WFAC_RENORM>'])\n",
    "#params.get_dict()"
   ]
  },
  {
   "cell_type": "code",
   "execution_count": 22,
   "id": "358ea442",
   "metadata": {},
   "outputs": [
    {
     "ename": "KeyError",
     "evalue": "'<WFAC_RENORM>'",
     "output_type": "error",
     "traceback": [
      "\u001b[0;31m---------------------------------------------------------------------------\u001b[0m",
      "\u001b[0;31mKeyError\u001b[0m                                  Traceback (most recent call last)",
      "\u001b[0;32m/tmp/ipykernel_3845400/3554887233.py\u001b[0m in \u001b[0;36m<module>\u001b[0;34m\u001b[0m\n\u001b[1;32m      2\u001b[0m \u001b[0;31m## Collect the renorm weight factor and then remove it from the kkrparams function then add again\u001b[0m\u001b[0;34m\u001b[0m\u001b[0;34m\u001b[0m\u001b[0;34m\u001b[0m\u001b[0m\n\u001b[1;32m      3\u001b[0m \u001b[0;31m#   otherwise it gives <<'WFAC_RENORM>>' keyerror\u001b[0m\u001b[0;34m\u001b[0m\u001b[0;34m\u001b[0m\u001b[0;34m\u001b[0m\u001b[0m\n\u001b[0;32m----> 4\u001b[0;31m \u001b[0mWFAC_RENORM\u001b[0m \u001b[0;34m=\u001b[0m \u001b[0mparams\u001b[0m\u001b[0;34m.\u001b[0m\u001b[0mget_dict\u001b[0m\u001b[0;34m(\u001b[0m\u001b[0;34m)\u001b[0m\u001b[0;34m[\u001b[0m\u001b[0;34m'<WFAC_RENORM>'\u001b[0m\u001b[0;34m]\u001b[0m\u001b[0;34m\u001b[0m\u001b[0;34m\u001b[0m\u001b[0m\n\u001b[0m\u001b[1;32m      5\u001b[0m \u001b[0;34m\u001b[0m\u001b[0m\n\u001b[1;32m      6\u001b[0m \u001b[0mparams_cpa\u001b[0m \u001b[0;34m=\u001b[0m \u001b[0mkkrparams\u001b[0m\u001b[0;34m(\u001b[0m\u001b[0;34m**\u001b[0m\u001b[0;34m{\u001b[0m\u001b[0mk\u001b[0m\u001b[0;34m:\u001b[0m\u001b[0mv\u001b[0m \u001b[0;32mfor\u001b[0m \u001b[0mk\u001b[0m\u001b[0;34m,\u001b[0m\u001b[0mv\u001b[0m \u001b[0;32min\u001b[0m \u001b[0mparams\u001b[0m\u001b[0;34m.\u001b[0m\u001b[0mvalues\u001b[0m\u001b[0;34m.\u001b[0m\u001b[0mitems\u001b[0m\u001b[0;34m(\u001b[0m\u001b[0;34m)\u001b[0m \u001b[0;32mif\u001b[0m \u001b[0mk\u001b[0m \u001b[0;32mnot\u001b[0m \u001b[0;32min\u001b[0m  \u001b[0;34m[\u001b[0m\u001b[0;34m'USE_INPUT_ALAT'\u001b[0m\u001b[0;34m,\u001b[0m\u001b[0;34m'<WFAC_RENORM>'\u001b[0m\u001b[0;34m]\u001b[0m\u001b[0;34m}\u001b[0m\u001b[0;34m)\u001b[0m\u001b[0;31m#?\u001b[0m\u001b[0;34m\u001b[0m\u001b[0;34m\u001b[0m\u001b[0m\n",
      "\u001b[0;31mKeyError\u001b[0m: '<WFAC_RENORM>'"
     ]
    }
   ],
   "source": [
    "xinipol = [0 for i in range(12)]; xinipol[-3] = 1; xinipol[-1] = 1\n",
    "## Collect the renorm weight factor and then remove it from the kkrparams function then add again \n",
    "#   otherwise it gives <<'WFAC_RENORM>>' keyerror\n",
    "WFAC_RENORM = params.get_dict()['<WFAC_RENORM>']\n",
    "\n",
    "params_cpa = kkrparams(**{k:v for k,v in params.values.items() if k not in  ['USE_INPUT_ALAT','<WFAC_RENORM>']})#?\n",
    "params_cpa.set_value('USE_INPUT_ALAT', True) #?\n",
    "params_cpa.remove_value('TESTOPT')\n",
    "params_cpa.set_multiple_values(\n",
    "    CPAINFO = [1e-3, 10], #?\n",
    "    BZDIVIDE = [30,30,30],\n",
    "    NPT1 = 5,\n",
    "    NPT2 = 29,\n",
    "    NPT3 = 7,\n",
    "    NPOL = 7,\n",
    "    TEMPR = 600.,\n",
    "    FIX_NONCO_ANGLES = True,\n",
    "    # activate mag init\n",
    "    LINIPOL = True,\n",
    "    HFIELD = 0.02,\n",
    "    XINIPOL = xinipol,#? This is for magnetic field on imp atom\n",
    "    IMIX = 0,\n",
    "    QBOUND = 5e-3,\n",
    "    ## Readd the 'WFAC_RENORM'\n",
    "    WFAC_RENORM = WFAC_RENORM\n",
    ")\n",
    "\n",
    "options = {\n",
    "    'max_wallclock_seconds': 2*36000, # 20h max runtine\n",
    "    'resources': {'tot_num_mpiprocs': 48*2, 'num_machines': 2},\n",
    "    # use correct project in accounting (SBATCH needs to be first in list of custom scheduler commands):\n",
    "    'custom_scheduler_commands': '#SBATCH --account=jara0191\\n\\nulimit -s unlimited; export OMP_STACKSIZE=2g',\n",
    "    'withmpi': True\n",
    "}"
   ]
  },
  {
   "cell_type": "code",
   "execution_count": 23,
   "id": "a5a1115b",
   "metadata": {},
   "outputs": [
    {
     "ename": "NameError",
     "evalue": "name 'params_cpa' is not defined",
     "output_type": "error",
     "traceback": [
      "\u001b[0;31m---------------------------------------------------------------------------\u001b[0m",
      "\u001b[0;31mNameError\u001b[0m                                 Traceback (most recent call last)",
      "\u001b[0;32m/tmp/ipykernel_3845400/3014104180.py\u001b[0m in \u001b[0;36m<module>\u001b[0;34m\u001b[0m\n\u001b[1;32m      5\u001b[0m \u001b[0mbuilder\u001b[0m\u001b[0;34m.\u001b[0m\u001b[0mmetadata\u001b[0m\u001b[0;34m.\u001b[0m\u001b[0moptions\u001b[0m \u001b[0;34m=\u001b[0m \u001b[0moptions\u001b[0m\u001b[0;34m\u001b[0m\u001b[0;34m\u001b[0m\u001b[0m\n\u001b[1;32m      6\u001b[0m \u001b[0;34m\u001b[0m\u001b[0m\n\u001b[0;32m----> 7\u001b[0;31m \u001b[0mbuilder\u001b[0m\u001b[0;34m.\u001b[0m\u001b[0mparameters\u001b[0m \u001b[0;34m=\u001b[0m \u001b[0mDict\u001b[0m\u001b[0;34m(\u001b[0m\u001b[0mdict\u001b[0m\u001b[0;34m=\u001b[0m\u001b[0mparams_cpa\u001b[0m\u001b[0;34m)\u001b[0m\u001b[0;34m\u001b[0m\u001b[0;34m\u001b[0m\u001b[0m\n\u001b[0m\u001b[1;32m      8\u001b[0m \u001b[0mbuilder\u001b[0m\u001b[0;34m.\u001b[0m\u001b[0mparent_folder\u001b[0m \u001b[0;34m=\u001b[0m \u001b[0mvoro_cpa_startpot2\u001b[0m\u001b[0;34m.\u001b[0m\u001b[0moutputs\u001b[0m\u001b[0;34m.\u001b[0m\u001b[0mremote_folder\u001b[0m\u001b[0;34m\u001b[0m\u001b[0;34m\u001b[0m\u001b[0m\n\u001b[1;32m      9\u001b[0m \u001b[0;31m# scf_cpa = submit(builder)\u001b[0m\u001b[0;34m\u001b[0m\u001b[0;34m\u001b[0m\u001b[0;34m\u001b[0m\u001b[0m\n",
      "\u001b[0;31mNameError\u001b[0m: name 'params_cpa' is not defined"
     ]
    }
   ],
   "source": [
    "# run scf with average renormalized weights\n",
    "builder = KkrCalculation.get_builder()\n",
    "builder.code = kkr_code\n",
    "builder.metadata.label = 'V:Bi2Te3_CPA'\n",
    "builder.metadata.options = options\n",
    "\n",
    "builder.parameters = Dict(dict=params_cpa)\n",
    "builder.parent_folder = voro_cpa_startpot2.outputs.remote_folder\n",
    "# scf_cpa = submit(builder)\n",
    "# scf_cpa = load_node('c1a0145c-21ff-4f94-b087-3322dceb37cd') # relax moments #?\n",
    "scf_cpa = load_node('36b17a80-90ba-4927-bc2d-0b3f525e06d3') # fix dirs #?\n",
    "\n",
    "# plot_kkr(scf_cpa, silent=True)"
   ]
  },
  {
   "cell_type": "code",
   "execution_count": 24,
   "id": "2383ce4f",
   "metadata": {},
   "outputs": [
    {
     "ename": "NameError",
     "evalue": "name 'params_cpa' is not defined",
     "output_type": "error",
     "traceback": [
      "\u001b[0;31m---------------------------------------------------------------------------\u001b[0m",
      "\u001b[0;31mNameError\u001b[0m                                 Traceback (most recent call last)",
      "\u001b[0;32m/tmp/ipykernel_3845400/1780500591.py\u001b[0m in \u001b[0;36m<module>\u001b[0;34m\u001b[0m\n\u001b[1;32m      1\u001b[0m \u001b[0;31m# continue agressive mixing until convergence\u001b[0m\u001b[0;34m\u001b[0m\u001b[0;34m\u001b[0m\u001b[0;34m\u001b[0m\u001b[0m\n\u001b[0;32m----> 2\u001b[0;31m params_cpa.set_multiple_values(\n\u001b[0m\u001b[1;32m      3\u001b[0m     \u001b[0mLINIPOL\u001b[0m \u001b[0;34m=\u001b[0m \u001b[0;32mFalse\u001b[0m\u001b[0;34m,\u001b[0m\u001b[0;34m\u001b[0m\u001b[0;34m\u001b[0m\u001b[0m\n\u001b[1;32m      4\u001b[0m     \u001b[0mIMIX\u001b[0m \u001b[0;34m=\u001b[0m \u001b[0;36m5\u001b[0m\u001b[0;34m,\u001b[0m\u001b[0;34m\u001b[0m\u001b[0;34m\u001b[0m\u001b[0m\n\u001b[1;32m      5\u001b[0m     \u001b[0mQBOUND\u001b[0m \u001b[0;34m=\u001b[0m \u001b[0;36m1e-7\u001b[0m\u001b[0;34m\u001b[0m\u001b[0;34m\u001b[0m\u001b[0m\n",
      "\u001b[0;31mNameError\u001b[0m: name 'params_cpa' is not defined"
     ]
    }
   ],
   "source": [
    "# continue agressive mixing until convergence\n",
    "params_cpa.set_multiple_values(\n",
    "    LINIPOL = False,\n",
    "    IMIX = 5,\n",
    "    QBOUND = 1e-7\n",
    ")\n",
    "builder = scf_cpa.get_builder_restart()\n",
    "builder.metadata.label = 'V:Bi2Te3_CPA'\n",
    "builder.parameters = Dict(dict=params_cpa)\n",
    "builder.parent_folder = scf_cpa.outputs.remote_folder\n",
    "# scf_cpa2 = submit(builder)\n",
    "scf_cpa2 = load_node('431b8545-5041-4f4c-a0d9-276e0b315481')\n",
    "\n",
    "#plot_kkr(scf_cpa2, silent=True)"
   ]
  },
  {
   "cell_type": "markdown",
   "id": "ecffb1a4",
   "metadata": {},
   "source": [
    "###  run CPA with scf workflow\n",
    "\n",
    "Check if the scf workflow works also with CPA"
   ]
  },
  {
   "cell_type": "code",
   "execution_count": 25,
   "id": "a8637b31",
   "metadata": {},
   "outputs": [
    {
     "name": "stdout",
     "output_type": "stream",
     "text": [
      "Version of workflow: 0.10.4\n"
     ]
    },
    {
     "ename": "NameError",
     "evalue": "name 'params_cpa' is not defined",
     "output_type": "error",
     "traceback": [
      "\u001b[0;31m---------------------------------------------------------------------------\u001b[0m",
      "\u001b[0;31mNameError\u001b[0m                                 Traceback (most recent call last)",
      "\u001b[0;32m/tmp/ipykernel_3845400/1395393797.py\u001b[0m in \u001b[0;36m<module>\u001b[0;34m\u001b[0m\n\u001b[1;32m     21\u001b[0m \u001b[0mbuilder\u001b[0m \u001b[0;34m=\u001b[0m \u001b[0mkkr_scf_wc\u001b[0m\u001b[0;34m.\u001b[0m\u001b[0mget_builder\u001b[0m\u001b[0;34m(\u001b[0m\u001b[0;34m)\u001b[0m\u001b[0;34m\u001b[0m\u001b[0;34m\u001b[0m\u001b[0m\n\u001b[1;32m     22\u001b[0m \u001b[0mbuilder\u001b[0m\u001b[0;34m.\u001b[0m\u001b[0mmetadata\u001b[0m\u001b[0;34m.\u001b[0m\u001b[0mlabel\u001b[0m \u001b[0;34m=\u001b[0m \u001b[0;34m'V:Bi2Te3_CPA'\u001b[0m\u001b[0;34m\u001b[0m\u001b[0;34m\u001b[0m\u001b[0m\n\u001b[0;32m---> 23\u001b[0;31m \u001b[0mbuilder\u001b[0m\u001b[0;34m.\u001b[0m\u001b[0mcalc_parameters\u001b[0m \u001b[0;34m=\u001b[0m \u001b[0mDict\u001b[0m\u001b[0;34m(\u001b[0m\u001b[0mdict\u001b[0m\u001b[0;34m=\u001b[0m\u001b[0mparams_cpa\u001b[0m\u001b[0;34m)\u001b[0m\u001b[0;34m\u001b[0m\u001b[0;34m\u001b[0m\u001b[0m\n\u001b[0m\u001b[1;32m     24\u001b[0m \u001b[0mbuilder\u001b[0m\u001b[0;34m.\u001b[0m\u001b[0mkkr\u001b[0m \u001b[0;34m=\u001b[0m \u001b[0mkkr_code\u001b[0m\u001b[0;34m\u001b[0m\u001b[0;34m\u001b[0m\u001b[0m\n\u001b[1;32m     25\u001b[0m \u001b[0mbuilder\u001b[0m\u001b[0;34m.\u001b[0m\u001b[0moptions\u001b[0m \u001b[0;34m=\u001b[0m \u001b[0mDict\u001b[0m\u001b[0;34m(\u001b[0m\u001b[0mdict\u001b[0m\u001b[0;34m=\u001b[0m\u001b[0moptions\u001b[0m\u001b[0;34m)\u001b[0m\u001b[0;34m\u001b[0m\u001b[0;34m\u001b[0m\u001b[0m\n",
      "\u001b[0;31mNameError\u001b[0m: name 'params_cpa' is not defined"
     ]
    }
   ],
   "source": [
    "wfd, _ = kkr_scf_wc.get_wf_defaults()\n",
    "#wfd = Dict(dict= wfd)\n",
    "wfd['strmix'] = 0.01\n",
    "wfd['brymix'] = 0.03\n",
    "wfd['nsteps'] = 200\n",
    "\n",
    "# use the same convergence settings as in scf of Bi2Te3 with renormalized weights\n",
    "wfd['convergence_setting_coarse']['kmesh'] = [30, 30, 30]\n",
    "wfd['convergence_setting_coarse']['n1'] = 5\n",
    "wfd['convergence_setting_coarse']['n2'] = 29\n",
    "wfd['convergence_setting_coarse']['n3'] = 7\n",
    "wfd['convergence_setting_coarse']['npol'] = 7\n",
    "wfd['convergence_setting_coarse']['tempr'] = 600.0\n",
    "wfd['convergence_setting_fine'] = wfd['convergence_setting_coarse']\n",
    "wfd['convergence_criterion'] = 1e-7\n",
    "\n",
    "# initialize magnetization on impurity sites\n",
    "wfd['mag_init'] = True\n",
    "wfd['init_pos'] = [0,0,0,0,0,0,0,0,0,1,0,1]\n",
    "\n",
    "builder = kkr_scf_wc.get_builder()\n",
    "builder.metadata.label = 'V:Bi2Te3_CPA'\n",
    "builder.calc_parameters = Dict(dict=params_cpa)\n",
    "builder.kkr = kkr_code\n",
    "builder.options = Dict(dict=options)\n",
    "builder.startpot_overwrite = startpot_cpa\n",
    "builder.structure = struc_cpa\n",
    "builder.voronoi = Code.get_from_string('voro@claix18_init')\n",
    "builder.wf_parameters = Dict(dict=wfd)\n",
    "\n",
    "# scf_cpa_wf = submit(builder)\n",
    "scf_cpa_wf = load_node('5479817a-72ad-4039-8190-a5813c98e433')\n",
    "plot_kkr(scf_cpa_wf, silent=True)"
   ]
  },
  {
   "cell_type": "code",
   "execution_count": 26,
   "id": "b580ec74",
   "metadata": {},
   "outputs": [
    {
     "data": {
      "text/plain": [
       "<Dict: uuid: 620f2e9c-9264-4c0f-9651-7ea12bdaf633 (pk: 105061)>"
      ]
     },
     "execution_count": 26,
     "metadata": {},
     "output_type": "execute_result"
    }
   ],
   "source": [
    "scf_cpa_wf = load_node('5479817a-72ad-4039-8190-a5813c98e433')\n",
    "parameter = scf_cpa_wf.inputs.calc_parameters\n",
    "parameter"
   ]
  },
  {
   "cell_type": "markdown",
   "id": "228c410d",
   "metadata": {},
   "source": [
    "---\n",
    "\n",
    "## analyze CPA output (DOS and bandstructure)"
   ]
  },
  {
   "cell_type": "code",
   "execution_count": 27,
   "id": "ee567eb2",
   "metadata": {},
   "outputs": [
    {
     "ename": "NameError",
     "evalue": "name 'scf_cpa2' is not defined",
     "output_type": "error",
     "traceback": [
      "\u001b[0;31m---------------------------------------------------------------------------\u001b[0m",
      "\u001b[0;31mNameError\u001b[0m                                 Traceback (most recent call last)",
      "\u001b[0;32m/tmp/ipykernel_3845400/1811174296.py\u001b[0m in \u001b[0;36m<module>\u001b[0;34m\u001b[0m\n\u001b[1;32m      2\u001b[0m \u001b[0;34m\u001b[0m\u001b[0m\n\u001b[1;32m      3\u001b[0m \u001b[0mbuilder\u001b[0m \u001b[0;34m=\u001b[0m \u001b[0mdos_ref\u001b[0m\u001b[0;34m.\u001b[0m\u001b[0mget_builder_restart\u001b[0m\u001b[0;34m(\u001b[0m\u001b[0;34m)\u001b[0m\u001b[0;34m\u001b[0m\u001b[0;34m\u001b[0m\u001b[0m\n\u001b[0;32m----> 4\u001b[0;31m \u001b[0mbuilder\u001b[0m\u001b[0;34m.\u001b[0m\u001b[0mremote_data\u001b[0m \u001b[0;34m=\u001b[0m \u001b[0mscf_cpa2\u001b[0m\u001b[0;34m.\u001b[0m\u001b[0moutputs\u001b[0m\u001b[0;34m.\u001b[0m\u001b[0mremote_folder\u001b[0m\u001b[0;34m\u001b[0m\u001b[0;34m\u001b[0m\u001b[0m\n\u001b[0m\u001b[1;32m      5\u001b[0m \u001b[0mbuilder\u001b[0m\u001b[0;34m.\u001b[0m\u001b[0mmetadata\u001b[0m\u001b[0;34m.\u001b[0m\u001b[0mlabel\u001b[0m \u001b[0;34m=\u001b[0m \u001b[0;34m'V:Bi2Te3 CPA DOS around EF'\u001b[0m\u001b[0;34m\u001b[0m\u001b[0;34m\u001b[0m\u001b[0m\n\u001b[1;32m      6\u001b[0m \u001b[0;31m# dos_cpa = submit(builder)\u001b[0m\u001b[0;34m\u001b[0m\u001b[0;34m\u001b[0m\u001b[0;34m\u001b[0m\u001b[0m\n",
      "\u001b[0;31mNameError\u001b[0m: name 'scf_cpa2' is not defined"
     ]
    }
   ],
   "source": [
    "# DOS CPA with renormalized weights\n",
    "\n",
    "builder = dos_ref.get_builder_restart()\n",
    "builder.remote_data = scf_cpa2.outputs.remote_folder\n",
    "builder.metadata.label = 'V:Bi2Te3 CPA DOS around EF'\n",
    "# dos_cpa = submit(builder)\n",
    "dos_cpa = load_node('cb87a1e1-da66-4d45-8f4a-4d8cce0cc0d0')\n",
    "dos_cpa.process_status"
   ]
  },
  {
   "cell_type": "code",
   "execution_count": 28,
   "id": "a4449d1f",
   "metadata": {},
   "outputs": [
    {
     "ename": "NameError",
     "evalue": "name 'dos_cpa' is not defined",
     "output_type": "error",
     "traceback": [
      "\u001b[0;31m---------------------------------------------------------------------------\u001b[0m",
      "\u001b[0;31mNameError\u001b[0m                                 Traceback (most recent call last)",
      "\u001b[0;32m/tmp/ipykernel_3845400/1241467716.py\u001b[0m in \u001b[0;36m<module>\u001b[0;34m\u001b[0m\n\u001b[1;32m      1\u001b[0m \u001b[0;31m### To check the dos data\u001b[0m\u001b[0;34m\u001b[0m\u001b[0;34m\u001b[0m\u001b[0;34m\u001b[0m\u001b[0m\n\u001b[1;32m      2\u001b[0m \u001b[0;31m#dos_cpa.outputs.dos_data_interpol.get_x()[1]\u001b[0m\u001b[0;34m\u001b[0m\u001b[0;34m\u001b[0m\u001b[0;34m\u001b[0m\u001b[0m\n\u001b[0;32m----> 3\u001b[0;31m \u001b[0my\u001b[0m \u001b[0;34m=\u001b[0m \u001b[0mdos_cpa\u001b[0m\u001b[0;34m.\u001b[0m\u001b[0moutputs\u001b[0m\u001b[0;34m.\u001b[0m\u001b[0mdos_data_interpol\u001b[0m\u001b[0;34m.\u001b[0m\u001b[0mget_y\u001b[0m\u001b[0;34m(\u001b[0m\u001b[0;34m)\u001b[0m\u001b[0;34m[\u001b[0m\u001b[0;36m0\u001b[0m\u001b[0;34m]\u001b[0m\u001b[0;34m[\u001b[0m\u001b[0;36m1\u001b[0m\u001b[0;34m]\u001b[0m\u001b[0;34m\u001b[0m\u001b[0;34m\u001b[0m\u001b[0m\n\u001b[0m",
      "\u001b[0;31mNameError\u001b[0m: name 'dos_cpa' is not defined"
     ]
    }
   ],
   "source": [
    "### To check the dos data\n",
    "#dos_cpa.outputs.dos_data_interpol.get_x()[1]\n",
    "y = dos_cpa.outputs.dos_data_interpol.get_y()[0][1]\n"
   ]
  },
  {
   "cell_type": "code",
   "execution_count": 29,
   "id": "71de113e",
   "metadata": {},
   "outputs": [
    {
     "name": "stdout",
     "output_type": "stream",
     "text": [
      "[[ 0  1  2  3]\n",
      " [ 4  5  6  7]\n",
      " [ 8  9 10 11]]\n"
     ]
    },
    {
     "data": {
      "text/plain": [
       "array([[[ 0,  1,  2],\n",
       "        [ 3,  4,  5]],\n",
       "\n",
       "       [[ 6,  7,  8],\n",
       "        [ 9, 10, 11]]])"
      ]
     },
     "execution_count": 29,
     "metadata": {},
     "output_type": "execute_result"
    }
   ],
   "source": [
    "a = np.arange(12).reshape((3, 4))\n",
    "print(a)\n",
    "a.reshape(2,2,-1)"
   ]
  },
  {
   "cell_type": "code",
   "execution_count": 30,
   "id": "5c52cf0c",
   "metadata": {},
   "outputs": [
    {
     "ename": "NameError",
     "evalue": "name 'dos_cpa' is not defined",
     "output_type": "error",
     "traceback": [
      "\u001b[0;31m---------------------------------------------------------------------------\u001b[0m",
      "\u001b[0;31mNameError\u001b[0m                                 Traceback (most recent call last)",
      "\u001b[0;32m/tmp/ipykernel_3845400/1453780601.py\u001b[0m in \u001b[0;36m<module>\u001b[0;34m\u001b[0m\n\u001b[0;32m----> 1\u001b[0;31m \u001b[0mx\u001b[0m \u001b[0;34m=\u001b[0m \u001b[0mdos_cpa\u001b[0m\u001b[0;34m.\u001b[0m\u001b[0moutputs\u001b[0m\u001b[0;34m.\u001b[0m\u001b[0mdos_data_interpol\u001b[0m\u001b[0;34m.\u001b[0m\u001b[0mget_x\u001b[0m\u001b[0;34m(\u001b[0m\u001b[0;34m)\u001b[0m\u001b[0;34m[\u001b[0m\u001b[0;36m1\u001b[0m\u001b[0;34m]\u001b[0m\u001b[0;34m[\u001b[0m\u001b[0;36m0\u001b[0m\u001b[0;34m]\u001b[0m\u001b[0;34m\u001b[0m\u001b[0;34m\u001b[0m\u001b[0m\n\u001b[0m\u001b[1;32m      2\u001b[0m \u001b[0my\u001b[0m \u001b[0;34m=\u001b[0m \u001b[0mdos_cpa\u001b[0m\u001b[0;34m.\u001b[0m\u001b[0moutputs\u001b[0m\u001b[0;34m.\u001b[0m\u001b[0mdos_data_interpol\u001b[0m\u001b[0;34m.\u001b[0m\u001b[0mget_y\u001b[0m\u001b[0;34m(\u001b[0m\u001b[0;34m)\u001b[0m\u001b[0;34m[\u001b[0m\u001b[0;36m0\u001b[0m\u001b[0;34m]\u001b[0m\u001b[0;34m[\u001b[0m\u001b[0;36m1\u001b[0m\u001b[0;34m]\u001b[0m\u001b[0;34m\u001b[0m\u001b[0;34m\u001b[0m\u001b[0m\n\u001b[1;32m      3\u001b[0m \u001b[0my\u001b[0m \u001b[0;34m=\u001b[0m \u001b[0my\u001b[0m\u001b[0;34m.\u001b[0m\u001b[0mreshape\u001b[0m\u001b[0;34m(\u001b[0m\u001b[0;36m12\u001b[0m\u001b[0;34m,\u001b[0m\u001b[0;36m2\u001b[0m\u001b[0;34m,\u001b[0m\u001b[0;34m-\u001b[0m\u001b[0;36m1\u001b[0m\u001b[0;34m)\u001b[0m\u001b[0;34m\u001b[0m\u001b[0;34m\u001b[0m\u001b[0m\n\u001b[1;32m      4\u001b[0m \u001b[0;34m\u001b[0m\u001b[0m\n\u001b[1;32m      5\u001b[0m \u001b[0mplt\u001b[0m\u001b[0;34m.\u001b[0m\u001b[0mfigure\u001b[0m\u001b[0;34m(\u001b[0m\u001b[0mfigsize\u001b[0m\u001b[0;34m=\u001b[0m\u001b[0;34m(\u001b[0m\u001b[0;36m12\u001b[0m\u001b[0;34m,\u001b[0m\u001b[0;36m8\u001b[0m\u001b[0;34m)\u001b[0m\u001b[0;34m)\u001b[0m\u001b[0;34m\u001b[0m\u001b[0;34m\u001b[0m\u001b[0m\n",
      "\u001b[0;31mNameError\u001b[0m: name 'dos_cpa' is not defined"
     ]
    }
   ],
   "source": [
    "x = dos_cpa.outputs.dos_data_interpol.get_x()[1][0]\n",
    "y = dos_cpa.outputs.dos_data_interpol.get_y()[0][1]\n",
    "y = y.reshape(12,2,-1)\n",
    "\n",
    "plt.figure(figsize=(12,8))\n",
    "\n",
    "plot_kkr(dos, label='Bi$_2$Te$_3$', color='grey', ls='-', silent=True,\n",
    "         sum_spins=True, l_channels=False, nofig=True, noshow=True, lw=4)\n",
    "\n",
    "ytot = 0 * y[0,0]\n",
    "\n",
    "\n",
    "for i, iatom in enumerate(range(12)):\n",
    "    weights = {8: 1-conc, 9:conc, 10:1-conc, 11:conc}.get(iatom, 1.)\n",
    "#             {Bi: 1-conc, mix: , Bi:, mix:}\n",
    "    ytot -= weights * (y[iatom,0,:] - y[iatom,1,:]) #? diff spin up and spin down\n",
    "\n",
    "plt.plot(x, ytot, label='V$_{0.05}$Bi$_{1.95}$Te$_3$', color=f'C{0}', lw=4)\n",
    "plt.plot(x, 0.5*(-y[iatom,0,:] + y[iatom,1,:]), label=f'V impurity x 10', color=f'C{1}', lw=4)\n",
    "    \n",
    "# plt.axhline(0, color='grey', ls=':')\n",
    "# plt.xlim(-3,3)\n",
    "plt.xlim(-1,1)\n",
    "plt.ylim(0)\n",
    "plt.xlabel('$E-E_F$ (eV)', fontsize='large')\n",
    "plt.ylabel('DOS (1/eV)', fontsize='large')\n",
    "plt.legend(fontsize='x-large')\n",
    "plt.title('')\n",
    "plt.axvline(0, color='grey', ls=':')\n",
    "plt.show()"
   ]
  },
  {
   "cell_type": "code",
   "execution_count": 31,
   "id": "65bb77a2",
   "metadata": {},
   "outputs": [
    {
     "data": {
      "text/plain": [
       "array([ 3, 13, 23])"
      ]
     },
     "execution_count": 31,
     "metadata": {},
     "output_type": "execute_result"
    }
   ],
   "source": [
    "test_arr = np.array([[1,2,3,4],\n",
    "                     [11,12,13,14],\n",
    "                     [21,22,23,24]])\n",
    "test_arr[:,2]"
   ]
  },
  {
   "cell_type": "code",
   "execution_count": null,
   "id": "c7485473",
   "metadata": {},
   "outputs": [],
   "source": []
  },
  {
   "cell_type": "code",
   "execution_count": 32,
   "id": "b86689f0",
   "metadata": {},
   "outputs": [
    {
     "ename": "NameError",
     "evalue": "name 'bs_ref' is not defined",
     "output_type": "error",
     "traceback": [
      "\u001b[0;31m---------------------------------------------------------------------------\u001b[0m",
      "\u001b[0;31mNameError\u001b[0m                                 Traceback (most recent call last)",
      "\u001b[0;32m/tmp/ipykernel_3845400/1570856405.py\u001b[0m in \u001b[0;36m<module>\u001b[0;34m\u001b[0m\n\u001b[1;32m      1\u001b[0m \u001b[0;31m# renormalized weights\u001b[0m\u001b[0;34m\u001b[0m\u001b[0;34m\u001b[0m\u001b[0;34m\u001b[0m\u001b[0m\n\u001b[1;32m      2\u001b[0m \u001b[0;34m\u001b[0m\u001b[0m\n\u001b[0;32m----> 3\u001b[0;31m \u001b[0mbuilder\u001b[0m \u001b[0;34m=\u001b[0m \u001b[0mbs_ref\u001b[0m\u001b[0;34m.\u001b[0m\u001b[0mget_builder_restart\u001b[0m\u001b[0;34m(\u001b[0m\u001b[0;34m)\u001b[0m\u001b[0;34m\u001b[0m\u001b[0;34m\u001b[0m\u001b[0m\n\u001b[0m\u001b[1;32m      4\u001b[0m \u001b[0mbuilder\u001b[0m\u001b[0;34m.\u001b[0m\u001b[0mremote_data\u001b[0m \u001b[0;34m=\u001b[0m \u001b[0mscf_cpa2\u001b[0m\u001b[0;34m.\u001b[0m\u001b[0moutputs\u001b[0m\u001b[0;34m.\u001b[0m\u001b[0mremote_folder\u001b[0m\u001b[0;34m\u001b[0m\u001b[0;34m\u001b[0m\u001b[0m\n\u001b[1;32m      5\u001b[0m \u001b[0mbuilder\u001b[0m\u001b[0;34m.\u001b[0m\u001b[0mmetadata\u001b[0m\u001b[0;34m.\u001b[0m\u001b[0mlabel\u001b[0m \u001b[0;34m=\u001b[0m \u001b[0;34m'V:Bi2Te3 CPA bandstruc around EF'\u001b[0m\u001b[0;34m\u001b[0m\u001b[0;34m\u001b[0m\u001b[0m\n",
      "\u001b[0;31mNameError\u001b[0m: name 'bs_ref' is not defined"
     ]
    }
   ],
   "source": [
    "# renormalized weights\n",
    "\n",
    "builder = bs_ref.get_builder_restart()\n",
    "builder.remote_data = scf_cpa2.outputs.remote_folder\n",
    "builder.metadata.label = 'V:Bi2Te3 CPA bandstruc around EF'\n",
    "# bs_cpa = submit(builder)\n",
    "bs_cpa = load_node('475b6d07-ba81-434b-ba64-b53f9939dcc8')"
   ]
  },
  {
   "cell_type": "code",
   "execution_count": 33,
   "id": "2d94f2bd",
   "metadata": {},
   "outputs": [
    {
     "ename": "NameError",
     "evalue": "name 'bs' is not defined",
     "output_type": "error",
     "traceback": [
      "\u001b[0;31m---------------------------------------------------------------------------\u001b[0m",
      "\u001b[0;31mNameError\u001b[0m                                 Traceback (most recent call last)",
      "\u001b[0;32m/tmp/ipykernel_3845400/4179960703.py\u001b[0m in \u001b[0;36m<module>\u001b[0;34m\u001b[0m\n\u001b[1;32m      3\u001b[0m \u001b[0;34m\u001b[0m\u001b[0m\n\u001b[1;32m      4\u001b[0m \u001b[0;31m# bs bs with renormalised energy weight calculation\u001b[0m\u001b[0;34m\u001b[0m\u001b[0;34m\u001b[0m\u001b[0;34m\u001b[0m\u001b[0m\n\u001b[0;32m----> 5\u001b[0;31m \u001b[0mc\u001b[0m \u001b[0;34m=\u001b[0m \u001b[0mbs\u001b[0m\u001b[0;34m.\u001b[0m\u001b[0mget_outgoing\u001b[0m\u001b[0;34m(\u001b[0m\u001b[0mnode_class\u001b[0m\u001b[0;34m=\u001b[0m\u001b[0mKkrCalculation\u001b[0m\u001b[0;34m)\u001b[0m\u001b[0;34m.\u001b[0m\u001b[0mfirst\u001b[0m\u001b[0;34m(\u001b[0m\u001b[0;34m)\u001b[0m\u001b[0;34m.\u001b[0m\u001b[0mnode\u001b[0m\u001b[0;34m\u001b[0m\u001b[0;34m\u001b[0m\u001b[0m\n\u001b[0m\u001b[1;32m      6\u001b[0m \u001b[0mplot_kkr\u001b[0m\u001b[0;34m(\u001b[0m\u001b[0mc\u001b[0m\u001b[0;34m,\u001b[0m \u001b[0msilent\u001b[0m\u001b[0;34m=\u001b[0m\u001b[0;32mTrue\u001b[0m\u001b[0;34m,\u001b[0m \u001b[0mnoshow\u001b[0m\u001b[0;34m=\u001b[0m\u001b[0;32mTrue\u001b[0m\u001b[0;34m,\u001b[0m \u001b[0mnofig\u001b[0m\u001b[0;34m=\u001b[0m\u001b[0;32mTrue\u001b[0m\u001b[0;34m,\u001b[0m \u001b[0mcmap\u001b[0m\u001b[0;34m=\u001b[0m\u001b[0;34m'binary'\u001b[0m\u001b[0;34m)\u001b[0m\u001b[0;34m\u001b[0m\u001b[0;34m\u001b[0m\u001b[0m\n\u001b[1;32m      7\u001b[0m \u001b[0mplt\u001b[0m\u001b[0;34m.\u001b[0m\u001b[0mxticks\u001b[0m\u001b[0;34m(\u001b[0m\u001b[0;34m[\u001b[0m\u001b[0;36m100\u001b[0m\u001b[0;34m]\u001b[0m\u001b[0;34m,\u001b[0m \u001b[0;34m[\u001b[0m\u001b[0;34m'$k_x$ <-    $\\Gamma$    -> $k_y$'\u001b[0m\u001b[0;34m]\u001b[0m\u001b[0;34m)\u001b[0m\u001b[0;34m\u001b[0m\u001b[0;34m\u001b[0m\u001b[0m\n",
      "\u001b[0;31mNameError\u001b[0m: name 'bs' is not defined"
     ]
    },
    {
     "data": {
      "image/png": "[encoded data removed]",
      "text/plain": [
       "<Figure size 864x432 with 1 Axes>"
      ]
     },
     "metadata": {
      "needs_background": "light"
     },
     "output_type": "display_data"
    }
   ],
   "source": [
    "plt.figure(figsize=(12,6))\n",
    "plt.subplot(1,2,1)\n",
    "\n",
    "# bs bs with renormalised energy weight calculation\n",
    "c = bs.get_outgoing(node_class=KkrCalculation).first().node\n",
    "plot_kkr(c, silent=True, noshow=True, nofig=True, cmap='binary')\n",
    "plt.xticks([100], ['$k_x$ <-    $\\Gamma$    -> $k_y$'])\n",
    "plt.title('Bi$_2$Te$_3$'); plt.xlabel('')\n",
    "plt.clim(0.5,4)\n",
    "\n",
    "# ATTENTION: the V contribution is overestimated in this plot since no weighting with the \n",
    "# concentration is done here\n",
    "\n",
    "plt.subplot(1,2,2)\n",
    "c = bs_cpa.get_outgoing(node_class=KkrCalculation).first().node\n",
    "plot_kkr(c, silent=True, noshow=True, nofig=True, cmap='binary')\n",
    "plt.xticks([100], ['$k_x$ <-    $\\Gamma$    -> $k_y$'])\n",
    "plt.title('V$_{0.05}$Bi$_{1.95}$Te$_3$'); plt.xlabel('')\n",
    "plt.clim(1.5,4)\n",
    "\n",
    "plt.show()"
   ]
  },
  {
   "cell_type": "code",
   "execution_count": 34,
   "id": "e56702f4",
   "metadata": {},
   "outputs": [],
   "source": [
    "def load_qdos_cpa(c):\n",
    "\n",
    "    from tqdm import tqdm\n",
    "    i = 0\n",
    "    for qn in tqdm(c.outputs.retrieved.list_object_names()):\n",
    "        if 'qdos' in qn:\n",
    "            iatom = int(qn.split('.')[1])\n",
    "            weight = 1.0\n",
    "            if iatom in [10, 12]:\n",
    "                # impurity atoms\n",
    "                weight = conc\n",
    "            elif iatom in [9, 11]:\n",
    "                # Bi atoms\n",
    "                weight = 1-conc\n",
    "            else:\n",
    "                # all the other atoms\n",
    "                weight = 1.0\n",
    "            with c.outputs.retrieved.open(qn) as _f:\n",
    "                tmp = np.loadtxt(_f)\n",
    "            if i==0:\n",
    "                d = tmp.copy()\n",
    "                d_Bi2Te3 = tmp.copy(); d_Bi2Te3[:,4:] = 0\n",
    "                d_imp = tmp.copy(); d_imp[:,4:] = 0\n",
    "            else:\n",
    "                d[:,4:] += tmp[:,4:] * weight\n",
    "\n",
    "            if weight==1-conc:\n",
    "                d_Bi2Te3[:,4:] += tmp[:,4:]\n",
    "            elif weight==conc:\n",
    "                d_imp[:,4:] += tmp[:,4:]\n",
    "\n",
    "            i+=1\n",
    "            \n",
    "    from masci_tools.io.common_functions import search_string, get_Ry2eV\n",
    "    with c.outputs.retrieved.open('output.0.txt') as _f:\n",
    "        txt = _f.readlines()\n",
    "        itmp = search_string('  Fermi energy', txt)\n",
    "        ef = float(txt[itmp].split()[-2])\n",
    "\n",
    "    e = (np.sort(np.array(list(set(d[:,0])))) - ef) * get_Ry2eV()\n",
    "    Ne = len(e)\n",
    "    Nk = len(d)//Ne\n",
    "    d = d.reshape(Ne, Nk, -1)\n",
    "    d_imp = d_imp.reshape(Ne, Nk, -1)\n",
    "    d_Bi2Te3 = d_Bi2Te3.reshape(Ne, Nk, -1)\n",
    "    k = range(Nk)\n",
    "    \n",
    "    return e, k, d, d_imp, d_Bi2Te3"
   ]
  },
  {
   "cell_type": "code",
   "execution_count": 35,
   "id": "12d668ab",
   "metadata": {},
   "outputs": [
    {
     "ename": "NameError",
     "evalue": "name 'c' is not defined",
     "output_type": "error",
     "traceback": [
      "\u001b[0;31m---------------------------------------------------------------------------\u001b[0m",
      "\u001b[0;31mNameError\u001b[0m                                 Traceback (most recent call last)",
      "\u001b[0;32m/tmp/ipykernel_3845400/1344059903.py\u001b[0m in \u001b[0;36m<module>\u001b[0;34m\u001b[0m\n\u001b[0;32m----> 1\u001b[0;31m \u001b[0me\u001b[0m\u001b[0;34m,\u001b[0m \u001b[0mk\u001b[0m\u001b[0;34m,\u001b[0m \u001b[0md\u001b[0m\u001b[0;34m,\u001b[0m \u001b[0md_imp\u001b[0m\u001b[0;34m,\u001b[0m \u001b[0md_Bi2Te3\u001b[0m \u001b[0;34m=\u001b[0m \u001b[0mload_qdos_cpa\u001b[0m\u001b[0;34m(\u001b[0m\u001b[0mc\u001b[0m\u001b[0;34m)\u001b[0m\u001b[0;34m\u001b[0m\u001b[0;34m\u001b[0m\u001b[0m\n\u001b[0m",
      "\u001b[0;31mNameError\u001b[0m: name 'c' is not defined"
     ]
    }
   ],
   "source": [
    "e, k, d, d_imp, d_Bi2Te3 = load_qdos_cpa(c)"
   ]
  },
  {
   "cell_type": "code",
   "execution_count": 36,
   "id": "d8f3b67e",
   "metadata": {},
   "outputs": [
    {
     "ename": "NameError",
     "evalue": "name 'e' is not defined",
     "output_type": "error",
     "traceback": [
      "\u001b[0;31m---------------------------------------------------------------------------\u001b[0m",
      "\u001b[0;31mNameError\u001b[0m                                 Traceback (most recent call last)",
      "\u001b[0;32m/tmp/ipykernel_3845400/4060271042.py\u001b[0m in \u001b[0;36m<module>\u001b[0;34m\u001b[0m\n\u001b[1;32m     15\u001b[0m \u001b[0;34m\u001b[0m\u001b[0m\n\u001b[1;32m     16\u001b[0m \u001b[0mplt\u001b[0m\u001b[0;34m.\u001b[0m\u001b[0msubplot\u001b[0m\u001b[0;34m(\u001b[0m\u001b[0;36m1\u001b[0m\u001b[0;34m,\u001b[0m\u001b[0;36m3\u001b[0m\u001b[0;34m,\u001b[0m\u001b[0;36m1\u001b[0m\u001b[0;34m)\u001b[0m\u001b[0;34m\u001b[0m\u001b[0;34m\u001b[0m\u001b[0m\n\u001b[0;32m---> 17\u001b[0;31m \u001b[0mplt\u001b[0m\u001b[0;34m.\u001b[0m\u001b[0mpcolormesh\u001b[0m\u001b[0;34m(\u001b[0m\u001b[0mk\u001b[0m\u001b[0;34m,\u001b[0m \u001b[0me\u001b[0m\u001b[0;34m,\u001b[0m \u001b[0;34m(\u001b[0m\u001b[0mabs\u001b[0m\u001b[0;34m(\u001b[0m\u001b[0md\u001b[0m\u001b[0;34m)\u001b[0m\u001b[0;34m)\u001b[0m\u001b[0;34m[\u001b[0m\u001b[0;34m:\u001b[0m\u001b[0;34m,\u001b[0m\u001b[0;34m:\u001b[0m\u001b[0;34m,\u001b[0m\u001b[0;36m4\u001b[0m\u001b[0;34m]\u001b[0m\u001b[0;34m,\u001b[0m \u001b[0mcmap\u001b[0m\u001b[0;34m=\u001b[0m\u001b[0;34m'binary'\u001b[0m\u001b[0;34m,\u001b[0m \u001b[0mshading\u001b[0m\u001b[0;34m=\u001b[0m\u001b[0;34m'gouraud'\u001b[0m\u001b[0;34m)\u001b[0m\u001b[0;34m\u001b[0m\u001b[0;34m\u001b[0m\u001b[0m\n\u001b[0m\u001b[1;32m     18\u001b[0m \u001b[0mmake_labels\u001b[0m\u001b[0;34m(\u001b[0m\u001b[0;36m0\u001b[0m\u001b[0;34m,\u001b[0m \u001b[0;36m500.\u001b[0m\u001b[0;34m,\u001b[0m \u001b[0;34m'V:Bi2Te3'\u001b[0m\u001b[0;34m)\u001b[0m\u001b[0;34m\u001b[0m\u001b[0;34m\u001b[0m\u001b[0m\n\u001b[1;32m     19\u001b[0m \u001b[0;34m\u001b[0m\u001b[0m\n",
      "\u001b[0;31mNameError\u001b[0m: name 'e' is not defined"
     ]
    },
    {
     "data": {
      "image/png": "[encoded data removed]",
      "text/plain": [
       "<Figure size 1152x648 with 1 Axes>"
      ]
     },
     "metadata": {
      "needs_background": "light"
     },
     "output_type": "display_data"
    }
   ],
   "source": [
    "# plot band structure with proper concentration weights\n",
    "\n",
    "def make_labels(cmin, cmax, title, ylbl = True):\n",
    "    plt.clim(cmin, cmax)\n",
    "    if ylbl:\n",
    "        plt.ylabel('$E-E_F$ (eV)', fontsize='x-large')\n",
    "    plt.xticks([100], ['$k_x$ <--    $\\Gamma$    --> $k_y$'], fontsize='x-large')\n",
    "    plt.title(title, fontsize='x-large')\n",
    "    plt.axhline(0, color='grey', ls=':')\n",
    "    # highlight gap region\n",
    "    plt.axhline(-0.15, color='grey', ls='--')\n",
    "    plt.axhline(0.17, color='grey', ls='--')\n",
    "    \n",
    "plt.figure(figsize=(16,9))\n",
    "\n",
    "plt.subplot(1,3,1)\n",
    "plt.pcolormesh(k, e, (abs(d))[:,:,4], cmap='binary', shading='gouraud')\n",
    "make_labels(0, 500., 'V:Bi2Te3')\n",
    "\n",
    "plt.subplot(1,3,2)\n",
    "plt.pcolormesh(k, e, (abs(d_Bi2Te3))[:,:,4], cmap='Blues', shading='gouraud')\n",
    "make_labels(0, 200., 'Bi2Te3 host', ylbl= False)\n",
    "\n",
    "plt.subplot(1,3,3)\n",
    "plt.pcolormesh(k, e, (abs(d_imp))[:,:,4], cmap='Reds', shading='gouraud')\n",
    "# plt.colorbar()\n",
    "make_labels(0, 600., 'V impurity', ylbl= False)\n",
    "\n",
    "plt.tight_layout()\n",
    "\n",
    "plt.show()"
   ]
  },
  {
   "cell_type": "markdown",
   "id": "da3be442",
   "metadata": {},
   "source": [
    "---\n",
    "\n",
    "## Calculate Jijs from CPA with the host code"
   ]
  },
  {
   "cell_type": "code",
   "execution_count": 37,
   "id": "a612f400",
   "metadata": {},
   "outputs": [
    {
     "data": {
      "text/plain": [
       "(<CalcJobNode: uuid: 2bd0b0b1-77ab-47c9-afc3-7fa48589ff1d (pk: 104990) (aiida.calculations:kkr.kkr)>,\n",
       " <CalcJobNode: uuid: 54cda62c-2995-4537-8aee-0b08f6a2afa3 (pk: 104994) (aiida.calculations:kkr.kkr)>,\n",
       " <CalcJobNode: uuid: a6429605-bc4f-48e5-95e4-107e308e39e6 (pk: 104993) (aiida.calculations:kkr.kkr)>)"
      ]
     },
     "execution_count": 37,
     "metadata": {},
     "output_type": "execute_result"
    }
   ],
   "source": [
    "scf_remote = scf_cpa_wf.outputs.last_RemoteData\n",
    "last_calc = scf_remote.get_incoming(node_class=KkrCalculation).first().node\n",
    "\n",
    "builder = last_calc.get_builder_restart()\n",
    "builder.parent_folder = scf_remote\n",
    "\n",
    "# set Jij parameters\n",
    "para_Jij = {k:v for k,v in scf_cpa_wf.outputs.last_InputParameters.get_dict().items() if v}\n",
    "para_Jij['TEMPR'] = 400.0 # slightly reduce temperature\n",
    "para_Jij['RCLUSTZ'] = 1.8 # increase cluster radius\n",
    "para_Jij['BZDIVIDE'] = [120, 120, 120] # increase k-points\n",
    "para_Jij['NSTEPS'] = 1 # one-shot\n",
    "para_Jij['NATOMIMPD'] = 500 # array dimension\n",
    "para_Jij['NSHELD'] = 2000 # array dimension\n",
    "para_Jij['KPOIBZ'] = 120**3 # array dimension\n",
    "\n",
    "# add 'XCPL' runopt to list of runopts (activates Jij calculation)\n",
    "runopts = para_Jij.get('RUNOPT', [])\n",
    "runopts.append('XCPL    ')\n",
    "para_Jij['RUNOPT'] = runopts\n",
    "\n",
    "# set Jij parameters\n",
    "# i and j index for Jij calculation in internal units\n",
    "# uses site index (i.e. needs to be <=10) #?\n",
    "\n",
    "para_Jij['JIJSITEI'] = [1, 9] # imp position in unit cell 1 only\n",
    "para_Jij['JIJSITEJ'] = [2, 9, 10] # imp position unit cell 1 and 2\n",
    "para_Jij['JIJRAD'] = 5.0 # radius in lattice constants up to which the Jijs are calculated\n",
    "\n",
    "builder.parameters = Dict(dict=para_Jij)\n",
    "\n",
    "# starting angles for 3 directions, needed to extract full Jij tensor\n",
    "\n",
    "Nsites = 12\n",
    "\n",
    "init_angles_x = Dict(dict={\n",
    "    'fix_dir': [True for i in range(Nsites)],\n",
    "    'theta': [90.0 for i in range(Nsites)],\n",
    "    'phi': [0.0 for i in range(Nsites)],\n",
    "})\n",
    "\n",
    "init_angles_y = Dict(dict={\n",
    "    'fix_dir': [True for i in range(Nsites)],\n",
    "    'theta': [90.0 for i in range(Nsites)],\n",
    "    'phi': [90.0 for i in range(Nsites)],\n",
    "})\n",
    "\n",
    "init_angles_z = Dict(dict={\n",
    "    'fix_dir': [True for i in range(Nsites)],\n",
    "    'theta': [0.0 for i in range(Nsites)],\n",
    "    'phi': [0.0 for i in range(Nsites)],\n",
    "})\n",
    "\n",
    "\n",
    "# submit m||z calculation\n",
    "builder.initial_noco_angles = init_angles_z\n",
    "builder.metadata.label = 'V:Bi2Te3_Jij_z'\n",
    "# calc_Jij_z = submit(builder)\n",
    "calc_Jij_z0 = load_node('378a0960-7743-45f6-9b93-b9293e6d6cff') # smaller k-mesh\n",
    "calc_Jij_z = load_node('2bd0b0b1-77ab-47c9-afc3-7fa48589ff1d')  \n",
    "\n",
    "builder.initial_noco_angles = init_angles_y\n",
    "builder.metadata.label = 'V:Bi2Te3_Jij_y'\n",
    "# calc_Jij_y = submit(builder)\n",
    "calc_Jij_y0 = load_node('0423e71f-d098-4ed5-a62c-89174984c786') # smaller k-mesh\n",
    "calc_Jij_y = load_node('54cda62c-2995-4537-8aee-0b08f6a2afa3')\n",
    "\n",
    "builder.initial_noco_angles = init_angles_x\n",
    "builder.metadata.label = 'V:Bi2Te3_Jij_x'\n",
    "# calc_Jij_x = submit(builder)\n",
    "calc_Jij_x0 = load_node('6a6d8159-5f03-458a-867a-ededf8f3cd7a') # smaller k-mesh\n",
    "calc_Jij_x = load_node('a6429605-bc4f-48e5-95e4-107e308e39e6')\n",
    "\n",
    "calc_Jij_z, calc_Jij_y, calc_Jij_x"
   ]
  },
  {
   "cell_type": "code",
   "execution_count": 38,
   "id": "d83f7004",
   "metadata": {},
   "outputs": [
    {
     "name": "stdout",
     "output_type": "stream",
     "text": [
      "----------Yes the file has been found------------\n"
     ]
    },
    {
     "ename": "NameError",
     "evalue": "name 'f_lines' is not defined",
     "output_type": "error",
     "traceback": [
      "\u001b[0;31m---------------------------------------------------------------------------\u001b[0m",
      "\u001b[0;31mNameError\u001b[0m                                 Traceback (most recent call last)",
      "\u001b[0;32m/tmp/ipykernel_3845400/2687895974.py\u001b[0m in \u001b[0;36m<module>\u001b[0;34m\u001b[0m\n\u001b[1;32m      7\u001b[0m         \u001b[0;31m#f_lines = f.readlines()\u001b[0m\u001b[0;34m\u001b[0m\u001b[0;34m\u001b[0m\u001b[0;34m\u001b[0m\u001b[0m\n\u001b[1;32m      8\u001b[0m         \u001b[0mprint\u001b[0m\u001b[0;34m(\u001b[0m\u001b[0;34m'----------Yes the file has been found------------'\u001b[0m\u001b[0;34m)\u001b[0m\u001b[0;34m\u001b[0m\u001b[0;34m\u001b[0m\u001b[0m\n\u001b[0;32m----> 9\u001b[0;31m         \u001b[0mprint\u001b[0m\u001b[0;34m(\u001b[0m\u001b[0;34m'shape of files : '\u001b[0m\u001b[0;34m,\u001b[0m \u001b[0mnp\u001b[0m\u001b[0;34m.\u001b[0m\u001b[0mshape\u001b[0m\u001b[0;34m(\u001b[0m\u001b[0mf_lines\u001b[0m\u001b[0;34m)\u001b[0m\u001b[0;34m)\u001b[0m\u001b[0;34m\u001b[0m\u001b[0;34m\u001b[0m\u001b[0m\n\u001b[0m\u001b[1;32m     10\u001b[0m \u001b[0mf_array_data\u001b[0m\u001b[0;34m[\u001b[0m\u001b[0mf_array_data\u001b[0m\u001b[0;34m[\u001b[0m\u001b[0;34m:\u001b[0m\u001b[0;34m,\u001b[0m\u001b[0;36m0\u001b[0m\u001b[0;34m]\u001b[0m\u001b[0;34m.\u001b[0m\u001b[0margsort\u001b[0m\u001b[0;34m(\u001b[0m\u001b[0;34m)\u001b[0m\u001b[0;34m]\u001b[0m\u001b[0;34m[\u001b[0m\u001b[0;36m0\u001b[0m\u001b[0;34m:\u001b[0m\u001b[0;36m8\u001b[0m\u001b[0;34m]\u001b[0m\u001b[0;34m\u001b[0m\u001b[0;34m\u001b[0m\u001b[0m\n",
      "\u001b[0;31mNameError\u001b[0m: name 'f_lines' is not defined"
     ]
    }
   ],
   "source": [
    "# Test the CalcJobNode  delete delete\n",
    "import copy\n",
    "if 'Jij.atom00009' in calc_Jij_z.outputs.retrieved.list_object_names():\n",
    "    with calc_Jij_z.outputs.retrieved.open('Jij.atom00009') as f:\n",
    "        #f_copy = copy.copy(f)\n",
    "        f_array_data = np.loadtxt(f)\n",
    "        #f_lines = f.readlines()\n",
    "        print('----------Yes the file has been found------------')\n",
    "        print('shape of files : ', np.shape(f_lines))\n",
    "f_array_data[f_array_data[:,0].argsort()][0:8]"
   ]
  },
  {
   "cell_type": "markdown",
   "id": "a30ff18b",
   "metadata": {},
   "source": [
    "### parse Jij output and plot"
   ]
  },
  {
   "cell_type": "code",
   "execution_count": 39,
   "id": "2714c8dc",
   "metadata": {},
   "outputs": [
    {
     "ename": "SyntaxError",
     "evalue": "invalid syntax (3665381118.py, line 4)",
     "output_type": "error",
     "traceback": [
      "\u001b[0;36m  File \u001b[0;32m\"/tmp/ipykernel_3845400/3665381118.py\"\u001b[0;36m, line \u001b[0;32m4\u001b[0m\n\u001b[0;31m    ++2D++\u001b[0m\n\u001b[0m       ^\u001b[0m\n\u001b[0;31mSyntaxError\u001b[0m\u001b[0;31m:\u001b[0m invalid syntax\n"
     ]
    }
   ],
   "source": [
    "##      delete  delete\n",
    "import numpy as np\n",
    "\n",
    "\n",
    "arr = np.array([[.000,.001,.002],\n",
    "                 [.011,.012,.013],\n",
    "                 [.021,.022,.023],                \n",
    "                [.100,.101,.102],\n",
    "                 [.111,.112,.113],\n",
    "                 [.121,.122,.123]])\n",
    "\n",
    "print('shape:  ',np.shape(arr))\n",
    "print(arr[0][0])\n",
    "print(arr[:,2]) # This reduces the arr by 1-d\n",
    "print(arr[:,1]) # This reduces the arr by 2-d\n",
    "\n",
    "# To order the numpy array\n",
    "rand_arr = np.random.randint(0,30,(3,3))\n",
    "print(rand_arr)\n",
    "\n",
    "# To order the rand_arr the 3-dimension data\n",
    "order_arr_3 = rand_arr[rand_arr[:,2].argsort()]\n",
    "\n",
    "print('shape order_arr', np.shape(order_arr_3))\n",
    "print('orderd_Rand_arr: ', order_arr_3)\n",
    "print('Rand_arr sorted index: ', rand_arr[:,2].argsort())"
   ]
  },
  {
   "cell_type": "code",
   "execution_count": 40,
   "id": "425de642",
   "metadata": {},
   "outputs": [],
   "source": [
    "# parsing jij output\n",
    "\n",
    "import numpy as np    \n",
    "from masci_tools.io.common_functions import search_string, get_aBohr2Ang, get_Ry2eV\n",
    "from aiida.orm import ArrayData, StructureData\n",
    "from aiida.engine import calcfunction\n",
    "from aiida_kkr.calculations import KkrCalculation\n",
    "from aiida_kkr.tools import find_parent_structure\n",
    "\n",
    "def get_jijs_shells(jij_calc, verbose=False): #?\n",
    "    \"\"\"read the jij.atom files from the retrieved and determine if the file has DMI or not\"\"\"\n",
    "\n",
    "    # read the jij.atom files\n",
    "    jijs_shells = []\n",
    "    for jijfile in [i for i in jij_calc.outputs.retrieved.list_object_names() if 'Jij' in i]:\n",
    "        i_index = int(jijfile.split('.atom')[1])\n",
    "        if verbose:\n",
    "            print('load jij.atom', i_index)\n",
    "        with jij_calc.outputs.retrieved.open(jijfile) as f:\n",
    "            tmp = np.loadtxt(f)\n",
    "        # sort by radius\n",
    "        jij_atom = tmp[tmp[:,0].argsort()]\n",
    "        print('deburg : ', jij_atom[0:4])\n",
    "        if len(jij_atom)>4:\n",
    "            # add i index, needed for mapping to spirit data\n",
    "            jij_atom[:, -1] = i_index\n",
    "        jijs_shells += list(jij_atom)\n",
    "    jijs_shells = np.array(jijs_shells)\n",
    "    \n",
    "    if verbose:\n",
    "        print('jijs_shells.shape', jijs_shells.shape)\n",
    "        \n",
    "    jijs_shells = jijs_shells[jijs_shells[:,0].argsort()]\n",
    "\n",
    "    # format of jijs_shells differs in old and new solver:\n",
    "    if len(jijs_shells[0])==4:\n",
    "        # - isotropic exchange constants only (old solver). The columns refer to:\n",
    "        #   * [0] |Rij| in units of the lattice constant\n",
    "        #   * [1] Jij in Ryd\n",
    "        #   * [2] shell-number\n",
    "        #   * [3] atom type of atom j\n",
    "        #   * [4] atom type of atom i\n",
    "        dmimode = False\n",
    "    else:\n",
    "        # - full exchange tensor (new solver). The columns refer to:\n",
    "        #   * [0] ∣Rij∣ in units of the lattice constant\n",
    "        #   * [1] Jij (isotropic part) in Ryd\n",
    "        #   * [2] Dij (anti-symmetric DMI part) in Ryd\n",
    "        #   * [3] Sij (diagonal traceless part) in Ryd\n",
    "        #   * [4] Aij (off-diagonal symmetric part) in Ryd\n",
    "        #   * [5-7] R⃗j − R⃗i (3 component vector)\n",
    "        #   * [8] atom type of atom j\n",
    "        #   * [9] atom type of atom i\n",
    "        dmimode = True\n",
    "\n",
    "    return jijs_shells, dmimode\n",
    "\n",
    "\n",
    "def expand_jijs_iso(jijs_shells, shells, cell, alat): #?\n",
    "    \"\"\"expand jijs from shells to all pairs which is easier to use in spirit\n",
    "    This is the roune that deals with isotropic interactions (i.e. using the old solver)\"\"\"\n",
    "    jijs_expanded, positions_expanded = [], []\n",
    "\n",
    "    for i, j in enumerate(jijs_shells):\n",
    "        for s in shell[int(j[3]-1)]:\n",
    "            x, y, z = alat*s[7], alat*s[8], alat*s[9]\n",
    "            \n",
    "            # maybe an offset to position of this site still needed?!\n",
    "            \n",
    "            # calculate da, db, dc ( i.e. the mutiplicities of the unit vectors)\n",
    "            da, db, dc = np.array(np.round(np.matrix(cell)**-1*np.matrix([x, y, z]).transpose()).transpose(), dtype=int).reshape(-1)\n",
    "            #                       i,      j,    da, db, dc,   Jij (meV)\n",
    "            jijs_expanded.append([s[1]-1, s[2]-1, da, db, dc, j[1]*get_Ry2eV()*1000])\n",
    "            positions_expanded.append([x, y, z])\n",
    "    # convert to numpy array\n",
    "    jijs_expanded = np.array(jijs_expanded)\n",
    "    positions_expanded = np.array(positions_expanded)\n",
    "\n",
    "    return jijs_expanded, positions_expanded\n",
    "\n",
    "\n",
    "def expand_jijs_dmi(jijs_shells_x, jijs_shells_y, jijs_shells_z, shells, cell, sites, alat): #?\n",
    "    \"\"\"Bring output Jijs of the new solver into the right form\n",
    "    (KKR output already is expanded in shells but it needs to be brought into the right form\n",
    "    by combining the x,y,z calculations and the Rvec information)\n",
    "    This will give the full Jij tensor and prodiuce the columns that spirit can understand\n",
    "    \"\"\"\n",
    "\n",
    "    # conversion factor from Ry to meV\n",
    "    Ry2meV = 1000*get_Ry2eV()\n",
    "\n",
    "    jijs_expanded, positions_expanded = [], []\n",
    "    for ipos, jz in enumerate(jijs_shells_z):\n",
    "        # also load the information from m||x and m||y\n",
    "        jx = jijs_shells_x[ipos]\n",
    "        jy = jijs_shells_y[ipos]\n",
    "        # get i and j indices of the atoms\n",
    "        iatom = int(jz[-1])\n",
    "        jatom = int(jz[-2])\n",
    "        \n",
    "        # Rvec = pos_[i] + R_ij[j], with R_ij[j] given in the Jij.atom files (in alat units)\n",
    "        dx = alat*jz[5]\n",
    "        dy = alat*jz[6]\n",
    "        dz = alat*jz[7]\n",
    "        x = sites[iatom].position[0] + dx\n",
    "        y = sites[iatom].position[1] + dy\n",
    "        z = sites[iatom].position[2] + dz\n",
    "        # calculate da, db, dc ( i.e. the mutiplicities of the unit vectors)\n",
    "        da, db, dc = np.array(np.round(np.matrix(cell)**-1*np.matrix([x, y, z]).transpose()).transpose(), dtype=int).reshape(-1)\n",
    "\n",
    "        #collect full Jij tensor\n",
    "        # 1: J, 2: D, 3: S, 4: A\n",
    "        Jxx = (jz[1]+jz[3]+jy[1]+jy[3])/2. * Ry2meV\n",
    "        Jxy = jz[4] * Ry2meV\n",
    "        Jxz = jy[4] * Ry2meV\n",
    "        Jyx = jz[4] * Ry2meV\n",
    "        Jyy = (jz[1]-jz[3]+jx[1]+jx[3])/2. * Ry2meV\n",
    "        Jyz = jx[4] * Ry2meV\n",
    "        Jzx = jy[4] * Ry2meV\n",
    "        Jzy = jx[4] * Ry2meV\n",
    "        Jzz = (jx[1]-jx[3]+jy[1]-jy[3])/2. * Ry2meV\n",
    "        # calculate DMI vector\n",
    "        Dx =  jx[2] * Ry2meV\n",
    "        Dy = -jy[2] * Ry2meV\n",
    "        Dz =  jz[2] * Ry2meV\n",
    "        \n",
    "        # collect data in big arrays\n",
    "        #                       i,     j,   da, db, dc,   Jij (meV),  Dij vector(meV),     full Jij tensor (meV)\n",
    "        jijs_expanded.append([iatom, jatom, da, db, dc, (Jxx+Jyy+Jzz)/3., Dx, Dy, Dz, Jxx, Jxy, Jxz, Jyx, Jyy, Jyz, Jzx, Jzy, Jzz])\n",
    "        positions_expanded.append([dx, dy, dz])\n",
    "        \n",
    "    # convert collected data to numpy array\n",
    "    jijs_expanded = np.array(jijs_expanded)\n",
    "    positions_expanded = np.array(positions_expanded)\n",
    "\n",
    "    return jijs_expanded, positions_expanded\n",
    "\n",
    "\n",
    "def get_sites(structure):\n",
    "    \"\"\"Get all sites also for a CPA structure\"\"\"\n",
    "    sites = []  # for CPA\n",
    "    for site in structure.sites:\n",
    "        sitekind = structure.get_kind(site.kind_name)\n",
    "        for ikind in range(len(sitekind.symbols)):\n",
    "            sites.append(site)\n",
    "    return sites\n",
    "\n",
    "\n",
    "# @calcfunction\n",
    "def parse_jij_calc(jij_calc_retrieved, jij_calc_x_retrieved=None, jij_calc_y_retrieved=None, verbose=False):\n",
    "    \"\"\"\n",
    "    Parse the output of a Jij calculation from the retreived folder of a KkrCalculation\n",
    "    \n",
    "    :params jij_calc_retrieved: retrieved folder output of a KkrCalculation which ran with the Jij inputs (m||z is assumed)\n",
    "    :params jij_calc_x_retrieved: like jij_calc_retrieved but for m||x (only needed for new solver)\n",
    "    :params jij_calc_y_retrieved: like jij_calc_retrieved but for m||y (only needed for new solver)\n",
    "    :params verbose: True/False can be used to print debugging output\n",
    "    \n",
    "    :returns:\n",
    "      {'jij_data': jij_data, 'structure_jij_sites': struc_jij_sites}\n",
    "      where\n",
    "      * jij_data is and ArrayData that contains the expanded Jij's (see 'array_descriptions' extra for more details)\n",
    "      * struc_jij_sites is the reduced structure that contains onlt the atoms which have Jij couplings\n",
    "        (comes from the input of the KkrCalculation). The mappings to the original structure (and their i,j indices) is given as an extra\n",
    "    \"\"\"\n",
    "\n",
    "    # extract kkrCalculation from retreived child\n",
    "    jij_calc = jij_calc_retrieved.get_incoming(node_class=KkrCalculation).first().node\n",
    "    if verbose:\n",
    "        print('jij(z) calculation:', jij_calc.uuid)\n",
    "\n",
    "    # extract basis vectors ot the structure, needed to convert from cartesian coordinates (x,y,z)\n",
    "    # to relative coordinates (da, db, dc) such that (x, y, z)^T = da*a + db*b + dc*c\n",
    "    # with a,b,c being the three unit vectors\n",
    "    structure = find_parent_structure(jij_calc)\n",
    "    cell = np.array(structure.cell)\n",
    "    natyp = len(get_sites(structure))\n",
    "    if verbose:\n",
    "        print('found structure with natyp:', natyp)\n",
    "\n",
    "    # in KKR everything is scaled with the lattice constant\n",
    "    alat = jij_calc.outputs.output_parameters['alat_internal'] * get_aBohr2Ang()\n",
    "\n",
    "    # read jij.atom files\n",
    "    jijs_shells_z, dmimode = get_jijs_shells(jij_calc, verbose)\n",
    "    \n",
    "    # read jij.atom files if a calculation in x and y are given in the input\n",
    "    dmimode_x, dmimode_y = False, False\n",
    "    if dmimode and jij_calc_x_retrieved is not None:\n",
    "        jij_calc_x = jij_calc_x_retrieved.get_incoming(node_class=KkrCalculation).first().node\n",
    "        if verbose:\n",
    "            print('jij(x) calculation:', jij_calc_x.uuid)\n",
    "        jijs_shells_x, dmimode_x = get_jijs_shells(jij_calc_x)\n",
    "        if not dmimode_x:\n",
    "            raise ValueError('jij_calc_x is not a DMI calculation (i.e. used old solver)')\n",
    "    if dmimode and jij_calc_y_retrieved is not None:\n",
    "        jij_calc_y = jij_calc_y_retrieved.get_incoming(node_class=KkrCalculation).first().node\n",
    "        if verbose:\n",
    "            print('jij(y) calculation:', jij_calc_y.uuid)\n",
    "        jijs_shells_y, dmimode_y = get_jijs_shells(jij_calc_y)\n",
    "        if not dmimode_y:\n",
    "            raise ValueError('jij_calc_y is not a DMI calculation (i.e. used old solver)')\n",
    "    # consistency check\n",
    "    if dmimode and not (dmimode_x and dmimode_y):\n",
    "        raise ValueError('Found dmimode but not all calculations (x,y and z) were given correctly')\n",
    "\n",
    "\n",
    "    # read the shells information that is needed to map to the complete list of pairs\n",
    "    with jij_calc.outputs.retrieved.open('shells.dat') as f:\n",
    "        txt = f.readlines()\n",
    "    nshell = int(txt.pop(0).split()[0])\n",
    "    ioffset = 0\n",
    "    shells = []\n",
    "    for ishell in range(nshell):\n",
    "        nat = int(txt[ioffset].split()[1])\n",
    "        shell = []\n",
    "        for iline in range(nat):\n",
    "            shell.append(txt[ioffset+1+iline].split())\n",
    "        shells.append(np.array(shell, dtype=float))\n",
    "        ioffset += 1 + nat\n",
    "    # take only the shells which are not on-site\n",
    "#     if verbose:\n",
    "#         print('found shells:', shells)\n",
    "\n",
    "    # expand shells data to a structure that spirit can understand (i.e. take all pairs)\n",
    "    if not dmimode:\n",
    "        if verbose:\n",
    "            print('expand isotropic Jijs')\n",
    "        jijs_expanded, positions_expanded = expand_jijs_iso(jijs_shells_z, shells, cell, alat)\n",
    "    else:\n",
    "        if verbose:\n",
    "            print('expand anisotropic Jijs, Dij etc')\n",
    "        jijs_expanded, positions_expanded = expand_jijs_dmi(jijs_shells_x, jijs_shells_y, jijs_shells_z, shells, cell, get_sites(structure), alat)\n",
    "\n",
    "    # create an auxiliary structure that contains only the sites which are used in the Jij step\n",
    "    # (i.e. we drop all sites where we don't have couplings)\n",
    "    struc_jij_sites = StructureData(cell=cell)\n",
    "    struc_jij_sites.pbc = structure.pbc\n",
    "    all_sites_jij = set(list(jijs_expanded[:,0])+list(jijs_expanded[:,1]))\n",
    "    isite, icount, mappings = 0, 0, [] # for mapping to the sites of the reduced structure\n",
    "    for site in structure.sites:\n",
    "        sitekind = structure.get_kind(site.kind_name)\n",
    "        for ikind, symbol in enumerate(sitekind.symbols):\n",
    "            isite += 1\n",
    "            # take only structues for which Jij couplings are extracted\n",
    "            if isite in all_sites_jij:\n",
    "                mappings.append([icount, isite])\n",
    "                icount += 1\n",
    "                if ikind==0:\n",
    "                    struc_jij_sites.append_atom(\n",
    "                        position=site.position,\n",
    "                        symbols=sitekind.symbols,\n",
    "                        weights=sitekind.weights\n",
    "                    )\n",
    "    if verbose:\n",
    "        print(f'reduced structure has {len(struc_jij_sites.sites)} sites')\n",
    "\n",
    "    # now collect the outputs in AiiDA Array objects\n",
    "    jij_data = ArrayData()\n",
    "    jij_data.set_array('Jij_shells', jijs_shells_z)\n",
    "    if dmimode:\n",
    "        # also add x and y shells output\n",
    "        jij_data.set_array('Jij_shells_x', jijs_shells_x)\n",
    "        jij_data.set_array('Jij_shells_y', jijs_shells_y)\n",
    "    jij_data.set_array('Jij_expanded', jijs_expanded)\n",
    "    jij_data.set_array('positions_expanded', positions_expanded)\n",
    "    # add description to extras\n",
    "    jij_data.extras['array_descriptions'] = {\n",
    "        'Jij_shells': \"\"\"Jij output in the shells that KKR found.\n",
    "    The format differs for the type of calculation:\n",
    "    - isotropic exchange constants only (old solver). The columns refer to:\n",
    "      * [0] |Rij| in units of the lattice constant\n",
    "      * [1] Jij in Ryd\n",
    "      * [2] shell-number\n",
    "      * [3] atom type of atom j\n",
    "    - full exchange tensor (new solver). The columns refer to:\n",
    "      * [0] ∣Rij∣ in units of the lattice constant\n",
    "      * [1] Jij (isotropic part) in Ryd\n",
    "      * [2] Dij (anti-symmetric DMI part) in Ryd\n",
    "      * [3] Sij (diagonal traceless part) in Ryd\n",
    "      * [4] Aij (off-diagonal symmetric part) in Ryd\n",
    "      * [5-7] Rj - Ri (3 component vector)\n",
    "      * [8] atom type of atom j\n",
    "\n",
    "    if the full exchange tensor is calculated the Jij_shells_x and Jij_shells_y also exist\"\"\",\n",
    "        'Jij_expanded': 'i, j, da, db, dc, Jij (meV) [, Dij vector (x, y, z in meV), full Jij tensor (xx, xy, xz, yx, yy, yz, zx, zy, zz in meV)]',\n",
    "        'positions_expanded': 'x, y, z (Ang.) positions of all pairs in Jij_expanded',\n",
    "    }\n",
    "\n",
    "    # add extras to generated structure for quick access\n",
    "    struc_jij_sites.extras['mappings_ij'] = mappings\n",
    "    struc_jij_sites.extras['uuid_struc_orig'] = structure.uuid\n",
    "    struc_jij_sites.extras['uuid_jij_data'] = jij_data.uuid\n",
    "    \n",
    "    # return dict (link_label: node)\n",
    "    return {'jij_data': jij_data, 'structure_jij_sites': struc_jij_sites}\n",
    "\n",
    "\n",
    "def get_jij_data_for_plotting(calc_Jij_x, calc_Jij_y, calc_Jij_z):\n",
    "    \"\"\"parse Jij calculations and extract Jij tensor elements\"\"\"\n",
    "\n",
    "    jij_output = parse_jij_calc(\n",
    "        calc_Jij_z.outputs.retrieved,\n",
    "        jij_calc_x_retrieved=calc_Jij_x.outputs.retrieved,\n",
    "        jij_calc_y_retrieved=calc_Jij_y.outputs.retrieved,\n",
    "        verbose=False\n",
    "    )\n",
    "    jij_tensor = jij_output['jij_data']\n",
    "\n",
    "    pos = jij_tensor.get_array('positions_expanded')\n",
    "    jijs = jij_tensor.get_array('Jij_expanded')\n",
    "\n",
    "    # throw away Bi atoms and use only impurty atoms (i.e. i,j in [10, 12])\n",
    "    pos = pos[jijs[:,0]==10]\n",
    "    jijs = jijs[jijs[:,0]==10]\n",
    "    # j\n",
    "    pos = pos[jijs[:,1]%2==0]\n",
    "    jijs = jijs[jijs[:,1]%2==0]\n",
    "\n",
    "    # factor 2 for consistency with impurity code\n",
    "    jijs[:,5:] *= 2.0\n",
    "\n",
    "    return pos, jijs"
   ]
  },
  {
   "cell_type": "code",
   "execution_count": 41,
   "id": "9fb01a48",
   "metadata": {},
   "outputs": [
    {
     "ename": "IndentationError",
     "evalue": "expected an indented block (921177584.py, line 17)",
     "output_type": "error",
     "traceback": [
      "\u001b[0;36m  File \u001b[0;32m\"/tmp/ipykernel_3845400/921177584.py\"\u001b[0;36m, line \u001b[0;32m17\u001b[0m\n\u001b[0;31m    with jij_calc.outputs.retrieved.open(jijfile) as f:\u001b[0m\n\u001b[0m    ^\u001b[0m\n\u001b[0;31mIndentationError\u001b[0m\u001b[0;31m:\u001b[0m expected an indented block\n"
     ]
    }
   ],
   "source": [
    "## Delete delete\n",
    "def get_jijs_shells(jij_calc, verbose=False): #?\n",
    "    \"\"\"Order and combine the Jij data.\n",
    "        \n",
    "        Activity: 1. read the jij.atom files from the retrieved and determine if the file has DMI or not.\n",
    "                  2. Order all the jij.atom000ATOMNO files as an array according to the alat. (shape(830,10))\n",
    "                  3. Convert each array into list and append all the list into a list. (shape(2))\n",
    "                  4. Comvert the list into an array (shape(1660,10))\n",
    "    \"\"\"\n",
    "\n",
    "    # read the jij.atom files\n",
    "    jijs_shells = []\n",
    "    for jijfile in [i for i in jij_calc.outputs.retrieved.list_object_names() if 'Jij' in i]:\n",
    "        i_index = int(jijfile.split('.atom')[1])\n",
    "        if verbose:\n",
    "#            print('load jij.atom', i_index)\n",
    "        with jij_calc.outputs.retrieved.open(jijfile) as f:\n",
    "            tmp = np.loadtxt(f)\n",
    "        # sort by radius\n",
    "        jij_atom = tmp[tmp[:,0].argsort()]\n",
    "#        print('deburg jij_atom tmp', np.shape(jij_atom))\n",
    "        \n",
    "        if len(jij_atom)>4:\n",
    "            # add i index, needed for mapping to spirit data\n",
    "            jij_atom[:, -1] = i_index\n",
    "#            print('deburg shape of list jij_atom[:,-1] :', np.shape(list(jij_atom)))\n",
    "        else:\n",
    "#            print('debug: one data len() less then 4')\n",
    "        jijs_shells += list(jij_atom)\n",
    "#    print('debug shape jij_atom : ', np.shape(jij_atom))\n",
    "#    print('deburg : ', jij_atom[0:8])\n",
    "    \n",
    "    jijs_shells = np.array(jijs_shells)\n",
    "#    print('degurg shape of jijs_shells ', np.shape(jijs_shells))\n",
    "    \n",
    "    if verbose:\n",
    "        print('jijs_shells.shape', jijs_shells.shape)\n",
    "        \n",
    "    jijs_shells = jijs_shells[jijs_shells[:,0].argsort()]\n",
    "#    print('Deburg shape(jijs_shells[0]):', np.shape(jijs_shells[0]))\n",
    "    # format of jijs_shells differs in old and new solver:\n",
    "    if len(jijs_shells[0])==4:\n",
    "        # - isotropic exchange constants only (old solver). The columns refer to:\n",
    "        #   * [0] |Rij| in units of the lattice constant\n",
    "        #   * [1] Jij in Ryd\n",
    "        #   * [2] shell-number\n",
    "        #   * [3] atom type of atom j\n",
    "        #   * [4] atom type of atom i\n",
    "        dmimode = False\n",
    "    else:\n",
    "        # - full exchange tensor (new solver). The columns refer to:\n",
    "        #   * [0] ∣Rij∣ in units of the lattice constant\n",
    "        #   * [1] Jij (isotropic part) in Ryd\n",
    "        #   * [2] Dij (anti-symmetric DMI part) in Ryd\n",
    "        #   * [3] Sij (diagonal traceless part) in Ryd\n",
    "        #   * [4] Aij (off-diagonal symmetric part) in Ryd\n",
    "        #   * [5-7] R⃗j − R⃗i (3 component vector)\n",
    "        #   * [8] atom type of atom j\n",
    "        #   * [9] atom type of atom i\n",
    "        dmimode = True\n",
    "\n",
    "    return jijs_shells, dmimode\n",
    "\n",
    "\n",
    "_, _ = get_jijs_shells(calc_Jij_x)"
   ]
  },
  {
   "cell_type": "code",
   "execution_count": 43,
   "id": "3da8bfc6",
   "metadata": {},
   "outputs": [
    {
     "name": "stdout",
     "output_type": "stream",
     "text": [
      "deburg :  [[ 1.00000000e+00  1.38164820e-12  6.03217380e-12 -4.62766190e-13\n",
      "   5.49357890e-13 -5.00000000e-01 -8.66025404e-01  0.00000000e+00\n",
      "   9.00000000e+00  7.20000000e+01]\n",
      " [ 1.00000000e+00  1.87316320e-07  9.81542400e-09  1.42808960e-09\n",
      "   1.34951350e-10 -5.00000000e-01  8.66025404e-01  0.00000000e+00\n",
      "   1.00000000e+01  1.07000000e+02]\n",
      " [ 1.00000000e+00  1.99402930e-07 -1.13748410e-08  9.79510480e-10\n",
      "  -7.83196130e-10  5.00000000e-01  8.66025404e-01  0.00000000e+00\n",
      "   1.00000000e+01  1.35000000e+02]\n",
      " [ 1.00000000e+00  2.09878290e-07 -1.32787210e-08 -1.05904550e-09\n",
      "  -7.58332160e-10 -1.00000000e+00  0.00000000e+00  0.00000000e+00\n",
      "   1.00000000e+01  7.60000000e+01]]\n",
      "deburg :  [[ 1.00000000e+00  1.99402930e-07  1.13748410e-08  9.79510480e-10\n",
      "  -7.83196130e-10 -5.00000000e-01 -8.66025404e-01  0.00000000e+00\n",
      "   9.00000000e+00  7.20000000e+01]\n",
      " [ 1.00000000e+00  5.02305090e-04  4.77477160e-05 -1.15609000e-06\n",
      "  -1.66691670e-06 -5.00000000e-01  8.66025404e-01  0.00000000e+00\n",
      "   1.00000000e+01  1.07000000e+02]\n",
      " [ 1.00000000e+00  5.45502940e-04 -3.96357890e-05 -9.88127670e-07\n",
      "   1.03914130e-06  5.00000000e-01  8.66025404e-01  0.00000000e+00\n",
      "   1.00000000e+01  1.35000000e+02]\n",
      " [ 1.00000000e+00  5.51670730e-04 -3.81102500e-05  1.42645620e-06\n",
      "  -1.59313790e-07 -1.00000000e+00  0.00000000e+00  0.00000000e+00\n",
      "   1.00000000e+01  7.60000000e+01]]\n",
      "deburg :  [[ 1.00000000e+00  5.44492820e-13  6.65571460e-12 -1.31740560e-12\n",
      "  -4.61010940e-13 -5.00000000e-01 -8.66025404e-01  0.00000000e+00\n",
      "   9.00000000e+00  7.20000000e+01]\n",
      " [ 1.00000000e+00  1.86828470e-07  8.62151790e-09  5.05658970e-10\n",
      "   1.39657690e-09 -5.00000000e-01  8.66025404e-01  0.00000000e+00\n",
      "   1.00000000e+01  1.07000000e+02]\n",
      " [ 1.00000000e+00  1.98709730e-07  8.10322460e-09 -4.87147500e-11\n",
      "   1.42716180e-09  5.00000000e-01  8.66025404e-01  0.00000000e+00\n",
      "   1.00000000e+01  1.35000000e+02]\n",
      " [ 1.00000000e+00  2.09356140e-07 -4.21649640e-09 -1.00146300e-09\n",
      "   2.54973190e-09 -1.00000000e+00  0.00000000e+00  0.00000000e+00\n",
      "   1.00000000e+01  7.60000000e+01]]\n",
      "deburg :  [[ 1.00000000e+00  1.98709730e-07 -8.10322460e-09 -4.87147500e-11\n",
      "   1.42716180e-09 -5.00000000e-01 -8.66025404e-01  0.00000000e+00\n",
      "   9.00000000e+00  7.20000000e+01]\n",
      " [ 1.00000000e+00  5.09703440e-04 -2.71147690e-05  5.39303540e-06\n",
      "   5.17733350e-07 -5.00000000e-01  8.66025404e-01  0.00000000e+00\n",
      "   1.00000000e+01  1.07000000e+02]\n",
      " [ 1.00000000e+00  5.52924100e-04 -2.76218190e-05  5.56058790e-06\n",
      "   5.35888210e-07  5.00000000e-01  8.66025404e-01  0.00000000e+00\n",
      "   1.00000000e+01  1.35000000e+02]\n",
      " [ 1.00000000e+00  5.62533890e-04  8.11449530e-07  6.50217070e-06\n",
      "  -8.42604100e-07 -1.00000000e+00  0.00000000e+00  0.00000000e+00\n",
      "   1.00000000e+01  7.60000000e+01]]\n",
      "deburg :  [[ 1.00000000e+00  1.06156310e-13 -3.81209400e-12 -8.51741210e-13\n",
      "  -6.98526550e-13 -5.00000000e-01 -8.66025404e-01  0.00000000e+00\n",
      "   9.00000000e+00  7.20000000e+01]\n",
      " [ 1.00000000e+00  1.87296620e-07  3.16613780e-10 -1.18761670e-09\n",
      "   4.69625550e-09 -5.00000000e-01  8.66025404e-01  0.00000000e+00\n",
      "   1.00000000e+01  1.07000000e+02]\n",
      " [ 1.00000000e+00  1.98908990e-07  1.19377020e-09 -1.33494780e-09\n",
      "  -3.50195420e-09  5.00000000e-01  8.66025404e-01  0.00000000e+00\n",
      "   1.00000000e+01  1.35000000e+02]\n",
      " [ 1.00000000e+00  2.10119120e-07  4.80715240e-09  2.53999430e-10\n",
      "   3.18178070e-09 -1.00000000e+00  0.00000000e+00  0.00000000e+00\n",
      "   1.00000000e+01  7.60000000e+01]]\n",
      "deburg :  [[ 1.00000000e+00  1.98908990e-07 -1.19377020e-09 -1.33494780e-09\n",
      "  -3.50195420e-09 -5.00000000e-01 -8.66025404e-01  0.00000000e+00\n",
      "   9.00000000e+00  7.20000000e+01]\n",
      " [ 1.00000000e+00  5.11008230e-04 -1.68688880e-05  6.25806840e-06\n",
      "  -1.20635750e-06 -5.00000000e-01  8.66025404e-01  0.00000000e+00\n",
      "   1.00000000e+01  1.07000000e+02]\n",
      " [ 1.00000000e+00  5.54549300e-04  1.81843830e-05  6.25462030e-06\n",
      "   7.78628390e-07  5.00000000e-01  8.66025404e-01  0.00000000e+00\n",
      "   1.00000000e+01  1.35000000e+02]\n",
      " [ 1.00000000e+00  5.58050180e-04 -3.67078990e-05  5.66266160e-06\n",
      "  -2.22154800e-07 -1.00000000e+00  0.00000000e+00  0.00000000e+00\n",
      "   1.00000000e+01  7.60000000e+01]]\n"
     ]
    }
   ],
   "source": [
    "# parse Jij data\n",
    "pos, jijs = get_jij_data_for_plotting(calc_Jij_x, calc_Jij_y, calc_Jij_z)\n",
    "\n",
    "# for comparison to smaller k-mesh (convergence test)\n",
    "#pos0, jijs0 = get_jij_data_for_plotting(calc_Jij_x0, calc_Jij_y0, calc_Jij_z0)"
   ]
  },
  {
   "cell_type": "code",
   "execution_count": 44,
   "id": "76ff7ff8-633d-44da-b7a3-89592e1244fc",
   "metadata": {},
   "outputs": [],
   "source": [
    "#To save the numpy array\n",
    "#with open('V_V_PosAndJijs.npy', 'wb') as f:\n",
    "#    np.save(f, pos)\n",
    "#    np.save(f, jijs)\n",
    "\n",
    "# Load Data\n",
    "with open('./V_V_PosAndJijs.npy', 'rb') as f:\n",
    "    pos = np.load(f)\n",
    "    jijs = np.load(f)"
   ]
  },
  {
   "cell_type": "code",
   "execution_count": 5,
   "id": "5625fcde",
   "metadata": {},
   "outputs": [
    {
     "data": {
      "image/png": "[encoded data removed]",
      "text/plain": [
       "<Figure size 864x864 with 4 Axes>"
      ]
     },
     "metadata": {
      "needs_background": "light"
     },
     "output_type": "display_data"
    }
   ],
   "source": [
    "plt.figure(figsize=(12,12))\n",
    "\n",
    "# plt.subplot(2,1,1)\n",
    "plt.subplot(3,1,1)\n",
    "plt.title('V-V Exchange interaction vs. distance', fontsize='x-large')\n",
    "#r0 = np.sqrt(np.sum(pos0**2, axis=1))\n",
    "#plt.plot(r0, jijs0[:,5], 'kd', ms=15, label='smaller k-mesh')\n",
    "r = np.sqrt(np.sum(pos**2, axis=1))\n",
    "plt.plot(r, jijs[:,5], ':')\n",
    "plt.plot(r[jijs[:,1]==10], jijs[jijs[:,1]==10][:,5], 'o', ms=10, alpha=0.8, label='Bi1-Bi1')\n",
    "plt.plot(r[jijs[:,1]==12], jijs[jijs[:,1]==12][:,5], 's', ms=9, alpha=0.8, label='Bi1-Bi2')\n",
    "plt.ylabel('$J_{ij}$ (meV)', fontsize='x-large')\n",
    "plt.axhline(0, ls='--', color='grey')\n",
    "plt.xlabel('$R_{ij}$ ($\\AA$)', fontsize='x-large')\n",
    "plt.xlim(4, 22)\n",
    "\n",
    "plt.legend(fontsize='x-large', loc=5)\n",
    "\n",
    "plt.subplot(3,1,2)\n",
    "plt.title('DMI vs. distance', fontsize='x-large')\n",
    "#d0 = np.sqrt(np.sum(jijs0[:,6:9]**2, axis=1))\n",
    "#plt.plot(r0, d0, 'kd', ms=15, label='smaller k-mesh')\n",
    "d = np.sqrt(np.sum(jijs[:,6:9]**2, axis=1))\n",
    "plt.plot(r, d, ':')\n",
    "plt.plot(r[jijs[:,1]==10], d[jijs[:,1]==10], 'o', ms=10, alpha=0.8, label='Bi1-Bi1')\n",
    "plt.plot(r[jijs[:,1]==12], d[jijs[:,1]==12], 's', ms=9, alpha=0.8, label='Bi1-Bi2')\n",
    "plt.ylabel('$|\\mathbf{D}_{ij}|$ (meV)', fontsize='x-large')\n",
    "plt.xlabel('$R_{ij}$ ($\\AA$)', fontsize='x-large')\n",
    "plt.ylim(0)\n",
    "plt.xlim(4, 22)\n",
    "\n",
    "plt.legend(fontsize='x-large', loc=5)\n",
    "\n",
    "plt.subplot(3,1,3)\n",
    "plt.title('D/J', fontsize='x-large')\n",
    "mask = np.where(r<=11)\n",
    "rr, dd, jj = r[mask], d[mask], jijs[mask]\n",
    "plt.plot(rr, abs(dd/jj[:,5]), ':')\n",
    "plt.plot(rr[jj[:,1]==10], abs(dd/jj[:,5])[jj[:,1]==10], 'o', ms=10, label='Bi1-Bi1')\n",
    "plt.plot(rr[jj[:,1]==12], abs(dd/jj[:,5])[jj[:,1]==12], 's', ms=9, label='Bi1-Bi2')\n",
    "plt.ylabel('$|\\mathbf{D}_{ij}|J_{ij}$', fontsize='x-large')\n",
    "plt.xlabel('$R_{ij}$ ($\\AA$)', fontsize='x-large')\n",
    "plt.ylim(0)\n",
    "plt.xlim(4, 22)\n",
    "\n",
    "plt.legend(fontsize='x-large', loc=5)\n",
    "\n",
    "plt.twinx()\n",
    "plt.plot(r, (pos[:,2]), 's:', color='grey')\n",
    "plt.axhline(0, ls=':', color='grey')\n",
    "plt.ylabel('z distance ($\\AA$)')\n",
    "\n",
    "plt.tight_layout()\n",
    "\n",
    "plt.show()"
   ]
  },
  {
   "cell_type": "code",
   "execution_count": 4,
   "id": "3bcbd460",
   "metadata": {},
   "outputs": [
    {
     "ename": "NameError",
     "evalue": "name 'pos0' is not defined",
     "output_type": "error",
     "traceback": [
      "\u001b[0;31m---------------------------------------------------------------------------\u001b[0m",
      "\u001b[0;31mNameError\u001b[0m                                 Traceback (most recent call last)",
      "\u001b[0;32m/tmp/ipykernel_3846047/543534753.py\u001b[0m in \u001b[0;36m<module>\u001b[0;34m\u001b[0m\n\u001b[1;32m      4\u001b[0m \u001b[0mplt\u001b[0m\u001b[0;34m.\u001b[0m\u001b[0msubplot\u001b[0m\u001b[0;34m(\u001b[0m\u001b[0;36m3\u001b[0m\u001b[0;34m,\u001b[0m\u001b[0;36m1\u001b[0m\u001b[0;34m,\u001b[0m\u001b[0;36m1\u001b[0m\u001b[0;34m)\u001b[0m\u001b[0;34m\u001b[0m\u001b[0;34m\u001b[0m\u001b[0m\n\u001b[1;32m      5\u001b[0m \u001b[0mplt\u001b[0m\u001b[0;34m.\u001b[0m\u001b[0mtitle\u001b[0m\u001b[0;34m(\u001b[0m\u001b[0;34m'V-V Exchange interaction vs. distance'\u001b[0m\u001b[0;34m,\u001b[0m \u001b[0mfontsize\u001b[0m\u001b[0;34m=\u001b[0m\u001b[0;34m'x-large'\u001b[0m\u001b[0;34m)\u001b[0m\u001b[0;34m\u001b[0m\u001b[0;34m\u001b[0m\u001b[0m\n\u001b[0;32m----> 6\u001b[0;31m \u001b[0mr0\u001b[0m \u001b[0;34m=\u001b[0m \u001b[0mnp\u001b[0m\u001b[0;34m.\u001b[0m\u001b[0msqrt\u001b[0m\u001b[0;34m(\u001b[0m\u001b[0mnp\u001b[0m\u001b[0;34m.\u001b[0m\u001b[0msum\u001b[0m\u001b[0;34m(\u001b[0m\u001b[0mpos0\u001b[0m\u001b[0;34m**\u001b[0m\u001b[0;36m2\u001b[0m\u001b[0;34m,\u001b[0m \u001b[0maxis\u001b[0m\u001b[0;34m=\u001b[0m\u001b[0;36m1\u001b[0m\u001b[0;34m)\u001b[0m\u001b[0;34m)\u001b[0m\u001b[0;34m\u001b[0m\u001b[0;34m\u001b[0m\u001b[0m\n\u001b[0m\u001b[1;32m      7\u001b[0m \u001b[0mplt\u001b[0m\u001b[0;34m.\u001b[0m\u001b[0mplot\u001b[0m\u001b[0;34m(\u001b[0m\u001b[0mr0\u001b[0m\u001b[0;34m,\u001b[0m \u001b[0mjijs0\u001b[0m\u001b[0;34m[\u001b[0m\u001b[0;34m:\u001b[0m\u001b[0;34m,\u001b[0m\u001b[0;36m5\u001b[0m\u001b[0;34m]\u001b[0m\u001b[0;34m,\u001b[0m \u001b[0;34m'kd'\u001b[0m\u001b[0;34m,\u001b[0m \u001b[0mms\u001b[0m\u001b[0;34m=\u001b[0m\u001b[0;36m15\u001b[0m\u001b[0;34m,\u001b[0m \u001b[0mlabel\u001b[0m\u001b[0;34m=\u001b[0m\u001b[0;34m'smaller k-mesh'\u001b[0m\u001b[0;34m)\u001b[0m\u001b[0;34m\u001b[0m\u001b[0;34m\u001b[0m\u001b[0m\n\u001b[1;32m      8\u001b[0m \u001b[0mr\u001b[0m \u001b[0;34m=\u001b[0m \u001b[0mnp\u001b[0m\u001b[0;34m.\u001b[0m\u001b[0msqrt\u001b[0m\u001b[0;34m(\u001b[0m\u001b[0mnp\u001b[0m\u001b[0;34m.\u001b[0m\u001b[0msum\u001b[0m\u001b[0;34m(\u001b[0m\u001b[0mpos\u001b[0m\u001b[0;34m**\u001b[0m\u001b[0;36m2\u001b[0m\u001b[0;34m,\u001b[0m \u001b[0maxis\u001b[0m\u001b[0;34m=\u001b[0m\u001b[0;36m1\u001b[0m\u001b[0;34m)\u001b[0m\u001b[0;34m)\u001b[0m\u001b[0;34m\u001b[0m\u001b[0;34m\u001b[0m\u001b[0m\n",
      "\u001b[0;31mNameError\u001b[0m: name 'pos0' is not defined"
     ]
    },
    {
     "data": {
      "image/png": "[encoded data removed]",
      "text/plain": [
       "<Figure size 864x864 with 1 Axes>"
      ]
     },
     "metadata": {
      "needs_background": "light"
     },
     "output_type": "display_data"
    }
   ],
   "source": [
    "plt.figure(figsize=(12,12))\n",
    "\n",
    "# plt.subplot(2,1,1)\n",
    "plt.subplot(3,1,1)\n",
    "plt.title('V-V Exchange interaction vs. distance', fontsize='x-large')\n",
    "r0 = np.sqrt(np.sum(pos0**2, axis=1))\n",
    "plt.plot(r0, jijs0[:,5], 'kd', ms=15, label='smaller k-mesh')\n",
    "r = np.sqrt(np.sum(pos**2, axis=1))\n",
    "plt.plot(r, jijs[:,5], ':')\n",
    "plt.plot(r[jijs[:,1]==10], jijs[jijs[:,1]==10][:,5], 'o', ms=10, alpha=0.8, label='Bi1-Bi1')\n",
    "plt.plot(r[jijs[:,1]==12], jijs[jijs[:,1]==12][:,5], 's', ms=9, alpha=0.8, label='Bi1-Bi2')\n",
    "plt.ylabel('$J_{ij}$ (meV)', fontsize='x-large')\n",
    "plt.axhline(0, ls='--', color='grey')\n",
    "plt.xlabel('$R_{ij}$ ($\\AA$)', fontsize='x-large')\n",
    "plt.xlim(4, 22)\n",
    "\n",
    "plt.legend(fontsize='x-large', loc=5)\n",
    "\n",
    "plt.subplot(3,1,2)\n",
    "plt.title('DMI vs. distance', fontsize='x-large')\n",
    "d0 = np.sqrt(np.sum(jijs0[:,6:9]**2, axis=1))\n",
    "plt.plot(r0, d0, 'kd', ms=15, label='smaller k-mesh')\n",
    "d = np.sqrt(np.sum(jijs[:,6:9]**2, axis=1))\n",
    "plt.plot(r, d, ':')\n",
    "plt.plot(r[jijs[:,1]==10], d[jijs[:,1]==10], 'o', ms=10, alpha=0.8, label='Bi1-Bi1')\n",
    "plt.plot(r[jijs[:,1]==12], d[jijs[:,1]==12], 's', ms=9, alpha=0.8, label='Bi1-Bi2')\n",
    "plt.ylabel('$|\\mathbf{D}_{ij}|$ (meV)', fontsize='x-large')\n",
    "plt.xlabel('$R_{ij}$ ($\\AA$)', fontsize='x-large')\n",
    "plt.ylim(0)\n",
    "plt.xlim(4, 22)\n",
    "\n",
    "plt.legend(fontsize='x-large', loc=5)\n",
    "\n",
    "plt.subplot(3,1,3)\n",
    "plt.title('D/J', fontsize='x-large')\n",
    "mask = np.where(r<=11)\n",
    "rr, dd, jj = r[mask], d[mask], jijs[mask]\n",
    "plt.plot(rr, abs(dd/jj[:,5]), ':')\n",
    "plt.plot(rr[jj[:,1]==10], abs(dd/jj[:,5])[jj[:,1]==10], 'o', ms=10, label='Bi1-Bi1')\n",
    "plt.plot(rr[jj[:,1]==12], abs(dd/jj[:,5])[jj[:,1]==12], 's', ms=9, label='Bi1-Bi2')\n",
    "plt.ylabel('$|\\mathbf{D}_{ij}|J_{ij}$', fontsize='x-large')\n",
    "plt.xlabel('$R_{ij}$ ($\\AA$)', fontsize='x-large')\n",
    "plt.ylim(0)\n",
    "plt.xlim(4, 22)\n",
    "\n",
    "# plt.legend(fontsize='x-large', loc=5)\n",
    "\n",
    "plt.twinx()\n",
    "plt.plot(r, (pos[:,2]), 's:', color='grey')\n",
    "plt.axhline(0, ls=':', color='grey')\n",
    "plt.ylabel('z distance ($\\AA$)')\n",
    "\n",
    "plt.tight_layout()\n",
    "\n",
    "plt.show()"
   ]
  },
  {
   "cell_type": "code",
   "execution_count": 103,
   "id": "cf73974c",
   "metadata": {},
   "outputs": [
    {
     "data": {
      "text/plain": [
       "array([4.38296317, 4.38296317, 4.38296317, 4.38296317, 4.38296317])"
      ]
     },
     "execution_count": 103,
     "metadata": {},
     "output_type": "execute_result"
    }
   ],
   "source": [
    "r[jijs[:,1]==10][0:5]"
   ]
  },
  {
   "cell_type": "code",
   "execution_count": 105,
   "id": "525576ff",
   "metadata": {},
   "outputs": [
    {
     "data": {
      "text/plain": [
       "array([14.99325909, 15.16812363, 14.99325909, 13.81446566, 13.81446566])"
      ]
     },
     "execution_count": 105,
     "metadata": {},
     "output_type": "execute_result"
    }
   ],
   "source": [
    "jijs[jijs[:,1]==10][:,5][0:5]"
   ]
  },
  {
   "cell_type": "code",
   "execution_count": 43,
   "id": "4638315d",
   "metadata": {},
   "outputs": [
    {
     "name": "stdout",
     "output_type": "stream",
     "text": [
      "moments (mu_B): Te1, Te2, Bi, V-imp\n",
      "[-1.2000e-02 -1.4600e-02  2.2000e-03  2.4339e+00]\n"
     ]
    }
   ],
   "source": [
    "print('moments (mu_B): Te1, Te2, Bi, V-imp')\n",
    "print(np.array(scf_cpa_wf.outputs.last_calc_out['magnetism_group']['spin_moment_per_atom'])[[0,1,-2,-1]])"
   ]
  },
  {
   "cell_type": "code",
   "execution_count": null,
   "id": "73930709",
   "metadata": {},
   "outputs": [],
   "source": []
  }
 ],
 "metadata": {
  "kernelspec": {
   "display_name": "AiiDA",
   "language": "python",
   "name": "aiida"
  },
  "language_info": {
   "codemirror_mode": {
    "name": "ipython",
    "version": 3
   },
   "file_extension": ".py",
   "mimetype": "text/x-python",
   "name": "python",
   "nbconvert_exporter": "python",
   "pygments_lexer": "ipython3",
   "version": "3.8.10"
  }
 },
 "nbformat": 4,
 "nbformat_minor": 5
}
