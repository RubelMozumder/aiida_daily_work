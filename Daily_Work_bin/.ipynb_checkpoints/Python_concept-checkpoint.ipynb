{
 "cells": [
  {
   "cell_type": "code",
   "execution_count": 7,
   "id": "lasting-assist",
   "metadata": {},
   "outputs": [],
   "source": [
    "## To define a class for gerneral concept\n",
    "# Parent class\n",
    "class core_class:\n",
    "    def __init__(self):\n",
    "        self.core_dict = {'key1': 1, 'key2':2 }\n",
    "        \n",
    "    def define(self):\n",
    "        define_var = 100\n",
    "        return define_var\n",
    "    \n",
    "    def get_core_dict(self):\n",
    "        '''\n",
    "            Return the init_dict from the __init__ function\n",
    "        '''\n",
    "        test_string_1 = 'str'\n",
    "        return self.core_dict\n",
    "# Child class\n",
    "class derived_class(core_class):\n",
    "    def __init__(self):\n",
    "        self.derived_dict={'derived_1':100, 'derived_2':200}\n",
    "        super().__init__()\n",
    "    def derived_define(self):\n",
    "        x = super().define()\n",
    "        self.core_dict['key3']=3\n",
    "        return x#self.core_dict\n",
    "    \n",
    "## Note on the super():\n",
    "#         1. By 'super()' we will refer the parentclass here is 'core_class'\n",
    "#         2. If we call the 'super().__init__' inside the '__init__()' then the child class will\n",
    "#             inherites all the property of the parent class.\n",
    "#         3. If we call any property of the parent class by the super() function the child\n",
    "#             class will inherite only that class,  but not all the property.\n",
    "#         4. If the parent classes of a child have the same parent classes themself, the all \n",
    "#             parent class will be called so that no parent class will be called twice or no parent\n",
    "#             class will be skiped. Explanied in Example-2.\n",
    "\n"
   ]
  },
  {
   "cell_type": "code",
   "execution_count": 9,
   "id": "driven-toronto",
   "metadata": {},
   "outputs": [
    {
     "data": {
      "text/plain": [
       "100"
      ]
     },
     "execution_count": 9,
     "metadata": {},
     "output_type": "execute_result"
    }
   ],
   "source": [
    "class_1 = derived_class()\n",
    "# class_1.derived_define()\n",
    "class_1.define()\n"
   ]
  },
  {
   "cell_type": "code",
   "execution_count": 9,
   "id": "defined-discretion",
   "metadata": {},
   "outputs": [
    {
     "name": "stdout",
     "output_type": "stream",
     "text": [
      "I am a cat.\n",
      "Cat cannot fly.\n",
      "Cat is a mammal.\n",
      "Cat cannot swim.\n",
      "Cat is an animal.\n",
      "\n",
      "Bat cannot swim.\n",
      "Bat is an animal.\n",
      "\n",
      "I am a cat.\n",
      "Cat cannot swim.\n",
      "Cat cannot fly.\n",
      "Cat is a mammal.\n",
      "Cat is an animal.\n"
     ]
    },
    {
     "data": {
      "text/plain": [
       "<__main__.Cat_Swim_Fly at 0x7f0ab6d01640>"
      ]
     },
     "execution_count": 9,
     "metadata": {},
     "output_type": "execute_result"
    }
   ],
   "source": [
    "## Example-2\n",
    "class Animal:\n",
    "    def __init__(self, animalName):\n",
    "        print(animalName, 'is an animal.');\n",
    "\n",
    "# Mammal inherits Animal\n",
    "class Mammal(Animal):\n",
    "    def __init__(self, mammalName):\n",
    "        print(mammalName, 'is a mammal.')\n",
    "        super().__init__(mammalName)\n",
    "    \n",
    "# CannotFly inherits Mammal\n",
    "class CannotFly(Mammal):\n",
    "    def __init__(self, mammalThatCantFly):\n",
    "        print(mammalThatCantFly, \"cannot fly.\")\n",
    "        super().__init__(mammalThatCantFly)\n",
    "        \n",
    "# CannotSwim inherits Mammal\n",
    "class CannotSwim(Animal):\n",
    "    def __init__(self, mammalThatCantSwim):\n",
    "        print(mammalThatCantSwim, \"cannot swim.\")\n",
    "        super().__init__(mammalThatCantSwim)\n",
    "\n",
    "class dog():\n",
    "    def __init__(self, name):\n",
    "        print(name, 'Here is the dog.')\n",
    "#        \n",
    "class CannotSwim2(dog):\n",
    "    def __init__(self, mammalThatCantSwim):\n",
    "        print(mammalThatCantSwim, \"cannot swim.\")\n",
    "        super().__init__(mammalThatCantSwim)\n",
    "\n",
    "# Cat inherits CannotSwim and CannotFly\n",
    "class Cat(CannotFly, CannotSwim):\n",
    "    def __init__(self):\n",
    "        print('I am a cat.');\n",
    "        super().__init__('Cat')\n",
    "class Cat_Swim_Fly(CannotSwim, CannotFly):\n",
    "    def __init__(self):\n",
    "        print('I am a cat.');\n",
    "        super().__init__('Cat')\n",
    "class Cat_Swim2_Fly(CannotSwim2, CannotFly):\n",
    "    def __init__(self):\n",
    "        print('I am a cat.');\n",
    "        super().__init__('Cat')\n",
    "# Driver code\n",
    "cat = Cat()\n",
    "print('')\n",
    "bat = CannotSwim('Bat')\n",
    "Cat.__mro__\n",
    "print('')\n",
    "Cat_Swim_Fly()"
   ]
  },
  {
   "cell_type": "code",
   "execution_count": null,
   "id": "aging-struggle",
   "metadata": {},
   "outputs": [],
   "source": []
  }
 ],
 "metadata": {
  "kernelspec": {
   "display_name": "AiiDA",
   "language": "python",
   "name": "aiida"
  },
  "language_info": {
   "codemirror_mode": {
    "name": "ipython",
    "version": 3
   },
   "file_extension": ".py",
   "mimetype": "text/x-python",
   "name": "python",
   "nbconvert_exporter": "python",
   "pygments_lexer": "ipython3",
   "version": "3.8.5"
  }
 },
 "nbformat": 4,
 "nbformat_minor": 5
}
