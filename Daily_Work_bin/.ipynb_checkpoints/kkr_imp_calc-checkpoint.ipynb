{
 "cells": [
  {
   "cell_type": "code",
   "execution_count": 5,
   "id": "exempt-russia",
   "metadata": {},
   "outputs": [],
   "source": [
    "#load aiida environment and connect to database\n",
    "from aiida import load_profile\n",
    "profile = load_profile()\n",
    "\n",
    "# load classes and functions\n",
    "from aiida.orm import CifData, Code, Dict, load_node\n",
    "from aiida.engine import submit\n",
    "from aiida_kkr.tools import kkrparams, plot_kkr"
   ]
  },
  {
   "cell_type": "code",
   "execution_count": 6,
   "id": "imperial-flush",
   "metadata": {},
   "outputs": [],
   "source": [
    "metadata_option_1 = {'max_wallclock_seconds': 36000,'resources': \n",
    "               {'tot_num_mpiprocs': 1, 'num_machines': 1},\n",
    "              'custom_scheduler_commands': \n",
    "              '#SBATCH --account=jara0191\\n\\nulimit -s unlimited; export OMP_STACKSIZE=2g',\n",
    "              'withmpi':\n",
    "              True}"
   ]
  },
  {
   "cell_type": "code",
   "execution_count": null,
   "id": "addressed-astronomy",
   "metadata": {},
   "outputs": [],
   "source": []
  },
  {
   "cell_type": "code",
   "execution_count": 7,
   "id": "typical-blame",
   "metadata": {},
   "outputs": [],
   "source": [
    "from aiida.plugins import DataFactory\n",
    "from aiida.orm import Dict, StructureData, Code, CifData, load_code, load_node"
   ]
  },
  {
   "cell_type": "code",
   "execution_count": 26,
   "id": "silent-buddy",
   "metadata": {},
   "outputs": [],
   "source": [
    "alat = 3.61 #in Ang.\n",
    "bravais = [[0.5*alat, 0.5*alat, 0], [0.5*alat, 0, 0.5*alat], [0, 0.5*alat, 0.5*alat]]\n",
    "\n",
    "Cu = StructureData(cell=bravais)\n",
    "Cu.append_atom(position=[0,0,0], symbols= 'Cu')"
   ]
  },
  {
   "cell_type": "code",
   "execution_count": 27,
   "id": "thorough-mortality",
   "metadata": {},
   "outputs": [],
   "source": [
    "from masci_tools.io.kkr_params import kkrparams\n",
    "params = kkrparams(params_type='voronoi')\n"
   ]
  },
  {
   "cell_type": "code",
   "execution_count": 28,
   "id": "empty-excerpt",
   "metadata": {},
   "outputs": [],
   "source": [
    "params_dict = {'LMAX':2, 'NSPIN':1, 'RCLUSTZ':2.3}\n",
    "params.set_multiple_values(**params_dict)\n",
    "voro_param_node = Dict(dict=params.get_dict())"
   ]
  },
  {
   "cell_type": "code",
   "execution_count": 29,
   "id": "respective-original",
   "metadata": {},
   "outputs": [
    {
     "data": {
      "text/plain": [
       "['ALATBASIS', 'BRAVAIS', 'NAEZ', '<RBASIS>', '<ZATOM>']"
      ]
     },
     "execution_count": 29,
     "metadata": {},
     "output_type": "execute_result"
    }
   ],
   "source": [
    "params.get_missing_keys()"
   ]
  },
  {
   "cell_type": "code",
   "execution_count": 30,
   "id": "going-evanescence",
   "metadata": {},
   "outputs": [],
   "source": [
    "code = Code.get_from_string('voro@claix18_init')\n",
    "builder = code.get_builder()"
   ]
  },
  {
   "cell_type": "code",
   "execution_count": 31,
   "id": "crude-planet",
   "metadata": {},
   "outputs": [],
   "source": [
    "builder.metadata.options= metadata_option_1\n",
    "builder.structure = Cu\n",
    "builder.metadata.label = 'voronoi calc for Cu'\n",
    "builder.parameters = voro_param_node"
   ]
  },
  {
   "cell_type": "code",
   "execution_count": 32,
   "id": "floral-pressure",
   "metadata": {},
   "outputs": [
    {
     "data": {
      "text/plain": [
       "['ALATBASIS', 'BRAVAIS', 'NAEZ', '<RBASIS>', '<ZATOM>']"
      ]
     },
     "execution_count": 32,
     "metadata": {},
     "output_type": "execute_result"
    }
   ],
   "source": [
    "params.get_missing_keys()"
   ]
  },
  {
   "cell_type": "code",
   "execution_count": 36,
   "id": "tender-norwegian",
   "metadata": {},
   "outputs": [],
   "source": [
    "# voro_calc = submit(builder) # uuid : 'cc9b0ea1-95f4-4e84-8396-e9463272fd00'\n",
    "\n"
   ]
  },
  {
   "cell_type": "code",
   "execution_count": 37,
   "id": "atmospheric-stereo",
   "metadata": {},
   "outputs": [],
   "source": [
    "voro_calc = load_node('cc9b0ea1-95f4-4e84-8396-e9463272fd00')\n",
    "\n",
    "voro_remote_data = voro_calc.outputs.remote_folder\n",
    "voro_params_node =voro_calc.inputs.parameters\n",
    "voro_params_dict = voro_params_node.get_dict()\n"
   ]
  },
  {
   "cell_type": "code",
   "execution_count": null,
   "id": "eligible-reynolds",
   "metadata": {},
   "outputs": [],
   "source": []
  },
  {
   "cell_type": "code",
   "execution_count": 38,
   "id": "specific-purchase",
   "metadata": {},
   "outputs": [],
   "source": [
    "params_kkr = kkrparams(params_type = 'kkr', **voro_params_dict) \n",
    "params_kkr.set_multiple_values(\n",
    "                    NSTEPS=100, EMIN= -0.4, EMAX= 1.0,\n",
    "                    RMAX=7., TEMPR=600.0,\n",
    "                    GMAX=65., NPT1=3, NPOL=6, NPT2=12, NPT3=3,\n",
    "                    IMIX=0,\n",
    "                    STRMIX=0.05,\n",
    "                    QBOUND=1e-2)"
   ]
  },
  {
   "cell_type": "code",
   "execution_count": null,
   "id": "departmental-project",
   "metadata": {},
   "outputs": [],
   "source": []
  },
  {
   "cell_type": "code",
   "execution_count": 39,
   "id": "environmental-strategy",
   "metadata": {},
   "outputs": [],
   "source": [
    "code = Code.get_from_string('kkr@claix18_init')\n",
    "builder_kkr = code.get_builder()\n",
    "builder_kkr.parameters = Dict(dict=params_kkr.get_dict())\n",
    "builder_kkr.metadata.options = metadata_option_1\n",
    "builder_kkr.parent_folder = voro_remote_data\n"
   ]
  },
  {
   "cell_type": "code",
   "execution_count": 20,
   "id": "monetary-junction",
   "metadata": {},
   "outputs": [],
   "source": [
    "kkr_calc = submit(builder_kkr)\n",
    "#  uuid '2326ffc6-f52b-456b-8554-64041d682dba'"
   ]
  },
  {
   "cell_type": "code",
   "execution_count": null,
   "id": "regulated-survival",
   "metadata": {},
   "outputs": [],
   "source": []
  },
  {
   "cell_type": "code",
   "execution_count": 41,
   "id": "theoretical-international",
   "metadata": {},
   "outputs": [],
   "source": [
    "kkr_calc = load_node('2326ffc6-f52b-456b-8554-64041d682dba' )\n",
    "kkr_remote_data = kkr_calc.outputs.remote_folder\n",
    "code = kkr_calc.inputs.code\n",
    "params_kkr = kkrparams(params_type = 'kkr',\n",
    "                       **kkr_calc.inputs.parameters.get_dict())\n",
    "params_kkr.set_multiple_values(NSTEPS=200, QBOUND=1e-8, IMIX=5)"
   ]
  },
  {
   "cell_type": "code",
   "execution_count": 42,
   "id": "blessed-section",
   "metadata": {},
   "outputs": [
    {
     "data": {
      "text/plain": [
       "1e-08"
      ]
     },
     "execution_count": 42,
     "metadata": {},
     "output_type": "execute_result"
    }
   ],
   "source": [
    "# (NSTEPS=200, IMIX=5, QBOUND=1.0E-8)\n",
    "QBOUND=1.0E-8\n",
    "QBOUND\n"
   ]
  },
  {
   "cell_type": "code",
   "execution_count": 43,
   "id": "mysterious-lease",
   "metadata": {},
   "outputs": [],
   "source": [
    "builder_kkr = code.get_builder()\n",
    "builder_kkr.parameters = Dict(dict=params_kkr.get_dict())\n",
    "builder_kkr.metadata.options= metadata_option_1\n",
    "builder_kkr.parent_folder= kkr_remote_data\n"
   ]
  },
  {
   "cell_type": "code",
   "execution_count": 45,
   "id": "adaptive-check",
   "metadata": {},
   "outputs": [],
   "source": [
    "# kkr_calc_continued = submit(builder_kkr)\n",
    "\n",
    "# uuid '1c97655a-21ea-42e5-b799-e8c76de15471'\n",
    "# kkr_calc_continued.uuid"
   ]
  },
  {
   "cell_type": "code",
   "execution_count": 46,
   "id": "finite-boxing",
   "metadata": {},
   "outputs": [],
   "source": [
    "kkr_calc = load_node('1c97655a-21ea-42e5-b799-e8c76de15471')\n"
   ]
  },
  {
   "cell_type": "code",
   "execution_count": 3,
   "id": "coordinated-theorem",
   "metadata": {},
   "outputs": [],
   "source": [
    "#### The impurity steps are here ####\n",
    "## Writeout Green Function and tmat for host here Cu ##"
   ]
  },
  {
   "cell_type": "code",
   "execution_count": 47,
   "id": "processed-gibraltar",
   "metadata": {},
   "outputs": [],
   "source": [
    "# converge_kkr= load_node('1c97655a-21ea-42e5-b799-e8c76de15471')\n",
    "kkr_converged_parent_folder = kkr_calc.outputs.remote_folder\n",
    "converge_kkr  = kkr_converged_parent_folder.get_incoming().first().node\n"
   ]
  },
  {
   "cell_type": "code",
   "execution_count": 48,
   "id": "flush-clinic",
   "metadata": {},
   "outputs": [],
   "source": [
    "\n",
    "converge_kkr_dict = converge_kkr.inputs.parameters.get_dict()\n",
    "converge_kkr_dict['RUNOPT'] = ['KKRFLEX']\n",
    "converge_kkr_dict['NSTEPS'] = 1"
   ]
  },
  {
   "cell_type": "code",
   "execution_count": 49,
   "id": "sealed-biography",
   "metadata": {},
   "outputs": [],
   "source": [
    "imp_info = Dict(dict={'Rcut':4.0, 'ilayer_center': 0, 'Zimp':[79.]})"
   ]
  },
  {
   "cell_type": "code",
   "execution_count": 227,
   "id": "daily-thong",
   "metadata": {},
   "outputs": [],
   "source": [
    "# converge_kkr_dict"
   ]
  },
  {
   "cell_type": "code",
   "execution_count": 122,
   "id": "western-elimination",
   "metadata": {},
   "outputs": [
    {
     "data": {
      "text/plain": [
       "'Au'"
      ]
     },
     "execution_count": 122,
     "metadata": {},
     "output_type": "execute_result"
    }
   ],
   "source": []
  },
  {
   "cell_type": "code",
   "execution_count": 51,
   "id": "incredible-backup",
   "metadata": {},
   "outputs": [],
   "source": [
    "##\n",
    "code = Code.get_from_string('kkrflex@claix18_init')\n",
    "code = converge_kkr.inputs.code\n",
    "builder_kkr_gf = code.get_builder()\n",
    "builder_kkr_gf.parameters = Dict(dict=converge_kkr_dict)\n",
    "builder_kkr_gf.metadata.options= metadata_option_1\n",
    "builder_kkr_gf.parent_folder= converge_kkr.outputs.remote_folder\n",
    "builder_kkr_gf.impurity_info = imp_info"
   ]
  },
  {
   "cell_type": "code",
   "execution_count": 52,
   "id": "ultimate-latino",
   "metadata": {},
   "outputs": [],
   "source": [
    "kkr_host_gf = submit(builder_kkr_gf)\n",
    "#'b260a943-a0a0-4cbc-b17f-f41168a74c99' and pk=2988"
   ]
  },
  {
   "cell_type": "code",
   "execution_count": 135,
   "id": "established-plant",
   "metadata": {},
   "outputs": [],
   "source": [
    "voro_calc = load_node('cc9b0ea1-95f4-4e84-8396-e9463272fd00')\n",
    "structure = voro_calc.inputs.structure\n",
    "\n",
    "from aiida.engine import workfunction, calcfunction\n",
    "@calcfunction\n",
    "def change_struc_imp_aux_wf(struc, imp_info):\n",
    "    struc = structure\n",
    "    from aiida.common.constants import elements\n",
    "    _atomic_numbers = {data['symbol']:num for num, data in elements.items()}\n",
    "    new_imp_struc = StructureData(cell=struc.cell)\n",
    "\n",
    "    for site in struc.sites:\n",
    "        kname = site.kind_name\n",
    "        pos = site.position\n",
    "        kind = struc.get_kind(kname)\n",
    "        zatom = _atomic_numbers[kind.get_symbols_string()]\n",
    "        isite =0\n",
    "        imp_dict = imp_info.get_dict()\n",
    "        if isite == imp_dict.get('ilayer_center'):\n",
    "            zatom = imp_dict.get('Zimp')[0]\n",
    "        symbol = elements.get(zatom).get('symbol')    \n",
    "        new_imp_struc.append_atom(position=pos, symbols=symbol)\n",
    "        isite += 1       \n",
    "    return new_imp_struc\n",
    "# new_struc = change_struc_imp_aux_wf(structure, imp_info)\n",
    "# new_struc # uuid '58a2f6ea-6381-41da-9c4d-8910752fc8aa'\n"
   ]
  },
  {
   "cell_type": "code",
   "execution_count": 171,
   "id": "discrete-carry",
   "metadata": {},
   "outputs": [],
   "source": [
    "new_struc = load_node('58a2f6ea-6381-41da-9c4d-8910752fc8aa')\n",
    "kkrcalc_converged = load_node('1c97655a-21ea-42e5-b799-e8c76de15471')\n",
    "codename = 'voro@claix18_init'\n",
    "code = Code.get_from_string(codename)\n",
    "\n",
    "builder = code.get_builder()\n",
    "builder.metadata.options = metadata_option_1\n",
    "builder.structure = new_struc\n",
    "builder.parameters = kkrcalc_converged.inputs.parameters\n",
    "\n",
    "# voro_calc_aux = submit(builder)\n",
    "# voro_calc_aux # uuid 'fb8fff67-0c29-40f9-96b0-63497f9ae955' pk =3016\n"
   ]
  },
  {
   "cell_type": "code",
   "execution_count": 190,
   "id": "several-specification",
   "metadata": {},
   "outputs": [],
   "source": [
    "# kkrcakkrcalc_converged pk=2924\n",
    "kkrcalc_converged = load_node(2924)\n",
    "GF_host_calc = load_node(2988)\n",
    "voro_calc_aux = load_node(3016)"
   ]
  },
  {
   "cell_type": "code",
   "execution_count": 191,
   "id": "demographic-variation",
   "metadata": {},
   "outputs": [
    {
     "name": "stderr",
     "output_type": "stream",
     "text": [
      "/opt/aiida-core/aiida/orm/nodes/node.py:63: AiidaDeprecationWarning: \n",
      "The method `del` was called on the return value of `<FolderData: uuid: a3630a7c-becb-431b-a311-1059f01ecac7 (pk: 2990)>.open()` outside of a context manager.\n",
      "Please wrap this call inside `with <node instance>.open(): ...` to silence this warning. This will raise an exception, starting from `aiida-core==2.0.0`.\n",
      "The offending call comes from:\n",
      "  File \"<ipython-input-191-115eaf414f1d>\", line 6, in <module>\n",
      "    file_opened=GF_host_calc.outputs.retrieved.open('scoef')\n",
      "\n",
      "  warnings.warn(msg, AiidaDeprecationWarning)  # pylint: disable=no-member\n",
      "02/04/2021 10:57:24 AM <20087> aiida.orm.nodes.process.calculation.calcfunction.CalcFunctionNode: [REPORT] [3023|neworder_potential_wf|on_except]: Traceback (most recent call last):\n",
      "  File \"/opt/aiida-kkr/aiida_kkr/tools/common_workfunctions.py\", line 918, in neworder_potential_wf\n",
      "    pot2 = extract_potname_from_remote(parent_calc_folder2)\n",
      "  File \"/opt/aiida-kkr/aiida_kkr/tools/common_workfunctions.py\", line 835, in extract_potname_from_remote\n",
      "    raise ValueError('Could not extract a potential name')\n",
      "ValueError: Could not extract a potential name\n",
      "\n",
      "During handling of the above exception, another exception occurred:\n",
      "\n",
      "Traceback (most recent call last):\n",
      "  File \"/usr/local/lib/python3.8/dist-packages/plumpy/process_states.py\", line 225, in execute\n",
      "    result = self.run_fn(*self.args, **self.kwargs)\n",
      "  File \"/opt/aiida-core/aiida/engine/processes/functions.py\", line 411, in run\n",
      "    result = self._func(*args, **kwargs)\n",
      "  File \"/opt/aiida-kkr/aiida_kkr/tools/common_workfunctions.py\", line 920, in neworder_potential_wf\n",
      "    raise InputValidationError(\n",
      "aiida.common.exceptions.InputValidationError: settings_node_dict needs to have key \"pot2\" containing the filename of the input potential\n",
      "\n"
     ]
    },
    {
     "ename": "InputValidationError",
     "evalue": "settings_node_dict needs to have key \"pot2\" containing the filename of the input potential",
     "output_type": "error",
     "traceback": [
      "\u001b[0;31m---------------------------------------------------------------------------\u001b[0m",
      "\u001b[0;31mValueError\u001b[0m                                Traceback (most recent call last)",
      "\u001b[0;32m/opt/aiida-kkr/aiida_kkr/tools/common_workfunctions.py\u001b[0m in \u001b[0;36mneworder_potential_wf\u001b[0;34m(settings_node, parent_calc_folder, **kwargs)\u001b[0m\n\u001b[1;32m    917\u001b[0m         \u001b[0;32mtry\u001b[0m\u001b[0;34m:\u001b[0m\u001b[0;34m\u001b[0m\u001b[0;34m\u001b[0m\u001b[0m\n\u001b[0;32m--> 918\u001b[0;31m             \u001b[0mpot2\u001b[0m \u001b[0;34m=\u001b[0m \u001b[0mextract_potname_from_remote\u001b[0m\u001b[0;34m(\u001b[0m\u001b[0mparent_calc_folder2\u001b[0m\u001b[0;34m)\u001b[0m\u001b[0;34m\u001b[0m\u001b[0;34m\u001b[0m\u001b[0m\n\u001b[0m\u001b[1;32m    919\u001b[0m         \u001b[0;32mexcept\u001b[0m \u001b[0mValueError\u001b[0m\u001b[0;34m:\u001b[0m\u001b[0;34m\u001b[0m\u001b[0;34m\u001b[0m\u001b[0m\n",
      "\u001b[0;32m/opt/aiida-kkr/aiida_kkr/tools/common_workfunctions.py\u001b[0m in \u001b[0;36mextract_potname_from_remote\u001b[0;34m(parent_calc_folder)\u001b[0m\n\u001b[1;32m    834\u001b[0m     \u001b[0;32melse\u001b[0m\u001b[0;34m:\u001b[0m\u001b[0;34m\u001b[0m\u001b[0;34m\u001b[0m\u001b[0m\n\u001b[0;32m--> 835\u001b[0;31m         \u001b[0;32mraise\u001b[0m \u001b[0mValueError\u001b[0m\u001b[0;34m(\u001b[0m\u001b[0;34m'Could not extract a potential name'\u001b[0m\u001b[0;34m)\u001b[0m\u001b[0;34m\u001b[0m\u001b[0;34m\u001b[0m\u001b[0m\n\u001b[0m\u001b[1;32m    836\u001b[0m \u001b[0;34m\u001b[0m\u001b[0m\n",
      "\u001b[0;31mValueError\u001b[0m: Could not extract a potential name",
      "\nDuring handling of the above exception, another exception occurred:\n",
      "\u001b[0;31mInputValidationError\u001b[0m                      Traceback (most recent call last)",
      "\u001b[0;32m<ipython-input-191-115eaf414f1d>\u001b[0m in \u001b[0;36m<module>\u001b[0;34m\u001b[0m\n\u001b[1;32m     15\u001b[0m \u001b[0msettings\u001b[0m \u001b[0;34m=\u001b[0m \u001b[0mDict\u001b[0m\u001b[0;34m(\u001b[0m\u001b[0mdict\u001b[0m\u001b[0;34m=\u001b[0m\u001b[0msettings_dict\u001b[0m\u001b[0;34m)\u001b[0m\u001b[0;34m\u001b[0m\u001b[0;34m\u001b[0m\u001b[0m\n\u001b[1;32m     16\u001b[0m \u001b[0;34m\u001b[0m\u001b[0m\n\u001b[0;32m---> 17\u001b[0;31m startpot_Au_imp_sfd = neworder_potential_wf(settings_node=settings,\n\u001b[0m\u001b[1;32m     18\u001b[0m                                             \u001b[0mparent_calc_folder\u001b[0m\u001b[0;34m=\u001b[0m\u001b[0mkkrcalc_converged\u001b[0m\u001b[0;34m.\u001b[0m\u001b[0moutputs\u001b[0m\u001b[0;34m.\u001b[0m\u001b[0mremote_folder\u001b[0m\u001b[0;34m,\u001b[0m\u001b[0;34m\u001b[0m\u001b[0;34m\u001b[0m\u001b[0m\n\u001b[1;32m     19\u001b[0m                                             parent_calc_folder2=voro_calc_aux.outputs.remote_folder)\n",
      "\u001b[0;32m/opt/aiida-core/aiida/engine/processes/functions.py\u001b[0m in \u001b[0;36mdecorated_function\u001b[0;34m(*args, **kwargs)\u001b[0m\n\u001b[1;32m    179\u001b[0m         \u001b[0;32mdef\u001b[0m \u001b[0mdecorated_function\u001b[0m\u001b[0;34m(\u001b[0m\u001b[0;34m*\u001b[0m\u001b[0margs\u001b[0m\u001b[0;34m,\u001b[0m \u001b[0;34m**\u001b[0m\u001b[0mkwargs\u001b[0m\u001b[0;34m)\u001b[0m\u001b[0;34m:\u001b[0m\u001b[0;34m\u001b[0m\u001b[0;34m\u001b[0m\u001b[0m\n\u001b[1;32m    180\u001b[0m             \u001b[0;34m\"\"\"This wrapper function is the actual function that is called.\"\"\"\u001b[0m\u001b[0;34m\u001b[0m\u001b[0;34m\u001b[0m\u001b[0m\n\u001b[0;32m--> 181\u001b[0;31m             \u001b[0mresult\u001b[0m\u001b[0;34m,\u001b[0m \u001b[0m_\u001b[0m \u001b[0;34m=\u001b[0m \u001b[0mrun_get_node\u001b[0m\u001b[0;34m(\u001b[0m\u001b[0;34m*\u001b[0m\u001b[0margs\u001b[0m\u001b[0;34m,\u001b[0m \u001b[0;34m**\u001b[0m\u001b[0mkwargs\u001b[0m\u001b[0;34m)\u001b[0m\u001b[0;34m\u001b[0m\u001b[0;34m\u001b[0m\u001b[0m\n\u001b[0m\u001b[1;32m    182\u001b[0m             \u001b[0;32mreturn\u001b[0m \u001b[0mresult\u001b[0m\u001b[0;34m\u001b[0m\u001b[0;34m\u001b[0m\u001b[0m\n\u001b[1;32m    183\u001b[0m \u001b[0;34m\u001b[0m\u001b[0m\n",
      "\u001b[0;32m/opt/aiida-core/aiida/engine/processes/functions.py\u001b[0m in \u001b[0;36mrun_get_node\u001b[0;34m(*args, **kwargs)\u001b[0m\n\u001b[1;32m    151\u001b[0m \u001b[0;34m\u001b[0m\u001b[0m\n\u001b[1;32m    152\u001b[0m             \u001b[0;32mtry\u001b[0m\u001b[0;34m:\u001b[0m\u001b[0;34m\u001b[0m\u001b[0;34m\u001b[0m\u001b[0m\n\u001b[0;32m--> 153\u001b[0;31m                 \u001b[0mresult\u001b[0m \u001b[0;34m=\u001b[0m \u001b[0mprocess\u001b[0m\u001b[0;34m.\u001b[0m\u001b[0mexecute\u001b[0m\u001b[0;34m(\u001b[0m\u001b[0;34m)\u001b[0m\u001b[0;34m\u001b[0m\u001b[0;34m\u001b[0m\u001b[0m\n\u001b[0m\u001b[1;32m    154\u001b[0m             \u001b[0;32mfinally\u001b[0m\u001b[0;34m:\u001b[0m\u001b[0;34m\u001b[0m\u001b[0;34m\u001b[0m\u001b[0m\n\u001b[1;32m    155\u001b[0m                 \u001b[0;31m# If the `original_handler` is set, that means the `kill_process` was bound, which needs to be reset\u001b[0m\u001b[0;34m\u001b[0m\u001b[0;34m\u001b[0m\u001b[0;34m\u001b[0m\u001b[0m\n",
      "\u001b[0;32m/opt/aiida-core/aiida/engine/processes/functions.py\u001b[0m in \u001b[0;36mexecute\u001b[0;34m(self)\u001b[0m\n\u001b[1;32m    361\u001b[0m     \u001b[0;32mdef\u001b[0m \u001b[0mexecute\u001b[0m\u001b[0;34m(\u001b[0m\u001b[0mself\u001b[0m\u001b[0;34m)\u001b[0m\u001b[0;34m:\u001b[0m\u001b[0;34m\u001b[0m\u001b[0;34m\u001b[0m\u001b[0m\n\u001b[1;32m    362\u001b[0m         \u001b[0;34m\"\"\"Execute the process.\"\"\"\u001b[0m\u001b[0;34m\u001b[0m\u001b[0;34m\u001b[0m\u001b[0m\n\u001b[0;32m--> 363\u001b[0;31m         \u001b[0mresult\u001b[0m \u001b[0;34m=\u001b[0m \u001b[0msuper\u001b[0m\u001b[0;34m(\u001b[0m\u001b[0;34m)\u001b[0m\u001b[0;34m.\u001b[0m\u001b[0mexecute\u001b[0m\u001b[0;34m(\u001b[0m\u001b[0;34m)\u001b[0m\u001b[0;34m\u001b[0m\u001b[0;34m\u001b[0m\u001b[0m\n\u001b[0m\u001b[1;32m    364\u001b[0m \u001b[0;34m\u001b[0m\u001b[0m\n\u001b[1;32m    365\u001b[0m         \u001b[0;31m# FunctionProcesses can return a single value as output, and not a dictionary, so we should also return that\u001b[0m\u001b[0;34m\u001b[0m\u001b[0;34m\u001b[0m\u001b[0;34m\u001b[0m\u001b[0m\n",
      "\u001b[0;32m/usr/local/lib/python3.8/dist-packages/plumpy/processes.py\u001b[0m in \u001b[0;36mfunc_wrapper\u001b[0;34m(self, *args, **kwargs)\u001b[0m\n\u001b[1;32m     83\u001b[0m         \u001b[0;32mif\u001b[0m \u001b[0mself\u001b[0m\u001b[0;34m.\u001b[0m\u001b[0m_closed\u001b[0m\u001b[0;34m:\u001b[0m  \u001b[0;31m# pylint: disable=protected-access\u001b[0m\u001b[0;34m\u001b[0m\u001b[0;34m\u001b[0m\u001b[0m\n\u001b[1;32m     84\u001b[0m             \u001b[0;32mraise\u001b[0m \u001b[0mexceptions\u001b[0m\u001b[0;34m.\u001b[0m\u001b[0mClosedError\u001b[0m\u001b[0;34m(\u001b[0m\u001b[0;34m'Process is closed'\u001b[0m\u001b[0;34m)\u001b[0m\u001b[0;34m\u001b[0m\u001b[0;34m\u001b[0m\u001b[0m\n\u001b[0;32m---> 85\u001b[0;31m         \u001b[0;32mreturn\u001b[0m \u001b[0mfunc\u001b[0m\u001b[0;34m(\u001b[0m\u001b[0mself\u001b[0m\u001b[0;34m,\u001b[0m \u001b[0;34m*\u001b[0m\u001b[0margs\u001b[0m\u001b[0;34m,\u001b[0m \u001b[0;34m**\u001b[0m\u001b[0mkwargs\u001b[0m\u001b[0;34m)\u001b[0m\u001b[0;34m\u001b[0m\u001b[0;34m\u001b[0m\u001b[0m\n\u001b[0m\u001b[1;32m     86\u001b[0m \u001b[0;34m\u001b[0m\u001b[0m\n\u001b[1;32m     87\u001b[0m     \u001b[0;32mreturn\u001b[0m \u001b[0mfunc_wrapper\u001b[0m\u001b[0;34m\u001b[0m\u001b[0;34m\u001b[0m\u001b[0m\n",
      "\u001b[0;32m/usr/local/lib/python3.8/dist-packages/plumpy/processes.py\u001b[0m in \u001b[0;36mexecute\u001b[0;34m(self)\u001b[0m\n\u001b[1;32m   1069\u001b[0m             \u001b[0mself\u001b[0m\u001b[0;34m.\u001b[0m\u001b[0mloop\u001b[0m\u001b[0;34m(\u001b[0m\u001b[0;34m)\u001b[0m\u001b[0;34m.\u001b[0m\u001b[0mrun_sync\u001b[0m\u001b[0;34m(\u001b[0m\u001b[0mself\u001b[0m\u001b[0;34m.\u001b[0m\u001b[0mstep_until_terminated\u001b[0m\u001b[0;34m)\u001b[0m\u001b[0;34m\u001b[0m\u001b[0;34m\u001b[0m\u001b[0m\n\u001b[1;32m   1070\u001b[0m \u001b[0;34m\u001b[0m\u001b[0m\n\u001b[0;32m-> 1071\u001b[0;31m         \u001b[0;32mreturn\u001b[0m \u001b[0mself\u001b[0m\u001b[0;34m.\u001b[0m\u001b[0mfuture\u001b[0m\u001b[0;34m(\u001b[0m\u001b[0;34m)\u001b[0m\u001b[0;34m.\u001b[0m\u001b[0mresult\u001b[0m\u001b[0;34m(\u001b[0m\u001b[0;34m)\u001b[0m\u001b[0;34m\u001b[0m\u001b[0;34m\u001b[0m\u001b[0m\n\u001b[0m\u001b[1;32m   1072\u001b[0m \u001b[0;34m\u001b[0m\u001b[0m\n\u001b[1;32m   1073\u001b[0m     \u001b[0;34m@\u001b[0m\u001b[0mensure_not_closed\u001b[0m\u001b[0;34m\u001b[0m\u001b[0;34m\u001b[0m\u001b[0m\n",
      "\u001b[0;32m/usr/local/lib/python3.8/dist-packages/plumpy/futures.py\u001b[0m in \u001b[0;36mresult\u001b[0;34m(self, timeout)\u001b[0m\n\u001b[1;32m     30\u001b[0m             \u001b[0;32mraise\u001b[0m \u001b[0mCancelledError\u001b[0m\u001b[0;34m(\u001b[0m\u001b[0;34m)\u001b[0m\u001b[0;34m\u001b[0m\u001b[0;34m\u001b[0m\u001b[0m\n\u001b[1;32m     31\u001b[0m \u001b[0;34m\u001b[0m\u001b[0m\n\u001b[0;32m---> 32\u001b[0;31m         \u001b[0;32mreturn\u001b[0m \u001b[0msuper\u001b[0m\u001b[0;34m(\u001b[0m\u001b[0;34m)\u001b[0m\u001b[0;34m.\u001b[0m\u001b[0mresult\u001b[0m\u001b[0;34m(\u001b[0m\u001b[0mtimeout\u001b[0m\u001b[0;34m)\u001b[0m\u001b[0;34m\u001b[0m\u001b[0;34m\u001b[0m\u001b[0m\n\u001b[0m\u001b[1;32m     33\u001b[0m \u001b[0;34m\u001b[0m\u001b[0m\n\u001b[1;32m     34\u001b[0m     \u001b[0;32mdef\u001b[0m \u001b[0mcancel\u001b[0m\u001b[0;34m(\u001b[0m\u001b[0mself\u001b[0m\u001b[0;34m)\u001b[0m\u001b[0;34m:\u001b[0m\u001b[0;34m\u001b[0m\u001b[0;34m\u001b[0m\u001b[0m\n",
      "\u001b[0;32m/usr/local/lib/python3.8/dist-packages/tornado/concurrent.py\u001b[0m in \u001b[0;36mresult\u001b[0;34m(self, timeout)\u001b[0m\n\u001b[1;32m    236\u001b[0m         \u001b[0;32mif\u001b[0m \u001b[0mself\u001b[0m\u001b[0;34m.\u001b[0m\u001b[0m_exc_info\u001b[0m \u001b[0;32mis\u001b[0m \u001b[0;32mnot\u001b[0m \u001b[0;32mNone\u001b[0m\u001b[0;34m:\u001b[0m\u001b[0;34m\u001b[0m\u001b[0;34m\u001b[0m\u001b[0m\n\u001b[1;32m    237\u001b[0m             \u001b[0;32mtry\u001b[0m\u001b[0;34m:\u001b[0m\u001b[0;34m\u001b[0m\u001b[0;34m\u001b[0m\u001b[0m\n\u001b[0;32m--> 238\u001b[0;31m                 \u001b[0mraise_exc_info\u001b[0m\u001b[0;34m(\u001b[0m\u001b[0mself\u001b[0m\u001b[0;34m.\u001b[0m\u001b[0m_exc_info\u001b[0m\u001b[0;34m)\u001b[0m\u001b[0;34m\u001b[0m\u001b[0;34m\u001b[0m\u001b[0m\n\u001b[0m\u001b[1;32m    239\u001b[0m             \u001b[0;32mfinally\u001b[0m\u001b[0;34m:\u001b[0m\u001b[0;34m\u001b[0m\u001b[0;34m\u001b[0m\u001b[0m\n\u001b[1;32m    240\u001b[0m                 \u001b[0mself\u001b[0m \u001b[0;34m=\u001b[0m \u001b[0;32mNone\u001b[0m\u001b[0;34m\u001b[0m\u001b[0;34m\u001b[0m\u001b[0m\n",
      "\u001b[0;32m/usr/local/lib/python3.8/dist-packages/tornado/util.py\u001b[0m in \u001b[0;36mraise_exc_info\u001b[0;34m(exc_info)\u001b[0m\n",
      "\u001b[0;32m/usr/local/lib/python3.8/dist-packages/plumpy/process_states.py\u001b[0m in \u001b[0;36mexecute\u001b[0;34m(self)\u001b[0m\n\u001b[1;32m    223\u001b[0m                 \u001b[0;32mtry\u001b[0m\u001b[0;34m:\u001b[0m\u001b[0;34m\u001b[0m\u001b[0;34m\u001b[0m\u001b[0m\n\u001b[1;32m    224\u001b[0m                     \u001b[0mself\u001b[0m\u001b[0;34m.\u001b[0m\u001b[0m_running\u001b[0m \u001b[0;34m=\u001b[0m \u001b[0;32mTrue\u001b[0m\u001b[0;34m\u001b[0m\u001b[0;34m\u001b[0m\u001b[0m\n\u001b[0;32m--> 225\u001b[0;31m                     \u001b[0mresult\u001b[0m \u001b[0;34m=\u001b[0m \u001b[0mself\u001b[0m\u001b[0;34m.\u001b[0m\u001b[0mrun_fn\u001b[0m\u001b[0;34m(\u001b[0m\u001b[0;34m*\u001b[0m\u001b[0mself\u001b[0m\u001b[0;34m.\u001b[0m\u001b[0margs\u001b[0m\u001b[0;34m,\u001b[0m \u001b[0;34m**\u001b[0m\u001b[0mself\u001b[0m\u001b[0;34m.\u001b[0m\u001b[0mkwargs\u001b[0m\u001b[0;34m)\u001b[0m\u001b[0;34m\u001b[0m\u001b[0;34m\u001b[0m\u001b[0m\n\u001b[0m\u001b[1;32m    226\u001b[0m                 \u001b[0;32mfinally\u001b[0m\u001b[0;34m:\u001b[0m\u001b[0;34m\u001b[0m\u001b[0;34m\u001b[0m\u001b[0m\n\u001b[1;32m    227\u001b[0m                     \u001b[0mself\u001b[0m\u001b[0;34m.\u001b[0m\u001b[0m_running\u001b[0m \u001b[0;34m=\u001b[0m \u001b[0;32mFalse\u001b[0m\u001b[0;34m\u001b[0m\u001b[0;34m\u001b[0m\u001b[0m\n",
      "\u001b[0;32m/opt/aiida-core/aiida/engine/processes/functions.py\u001b[0m in \u001b[0;36mrun\u001b[0;34m(self)\u001b[0m\n\u001b[1;32m    409\u001b[0m                 \u001b[0mkwargs\u001b[0m\u001b[0;34m[\u001b[0m\u001b[0mname\u001b[0m\u001b[0;34m]\u001b[0m \u001b[0;34m=\u001b[0m \u001b[0mvalue\u001b[0m\u001b[0;34m\u001b[0m\u001b[0;34m\u001b[0m\u001b[0m\n\u001b[1;32m    410\u001b[0m \u001b[0;34m\u001b[0m\u001b[0m\n\u001b[0;32m--> 411\u001b[0;31m         \u001b[0mresult\u001b[0m \u001b[0;34m=\u001b[0m \u001b[0mself\u001b[0m\u001b[0;34m.\u001b[0m\u001b[0m_func\u001b[0m\u001b[0;34m(\u001b[0m\u001b[0;34m*\u001b[0m\u001b[0margs\u001b[0m\u001b[0;34m,\u001b[0m \u001b[0;34m**\u001b[0m\u001b[0mkwargs\u001b[0m\u001b[0;34m)\u001b[0m\u001b[0;34m\u001b[0m\u001b[0;34m\u001b[0m\u001b[0m\n\u001b[0m\u001b[1;32m    412\u001b[0m \u001b[0;34m\u001b[0m\u001b[0m\n\u001b[1;32m    413\u001b[0m         \u001b[0;32mif\u001b[0m \u001b[0mresult\u001b[0m \u001b[0;32mis\u001b[0m \u001b[0;32mNone\u001b[0m \u001b[0;32mor\u001b[0m \u001b[0misinstance\u001b[0m\u001b[0;34m(\u001b[0m\u001b[0mresult\u001b[0m\u001b[0;34m,\u001b[0m \u001b[0mExitCode\u001b[0m\u001b[0;34m)\u001b[0m\u001b[0;34m:\u001b[0m\u001b[0;34m\u001b[0m\u001b[0;34m\u001b[0m\u001b[0m\n",
      "\u001b[0;32m/opt/aiida-kkr/aiida_kkr/tools/common_workfunctions.py\u001b[0m in \u001b[0;36mneworder_potential_wf\u001b[0;34m(settings_node, parent_calc_folder, **kwargs)\u001b[0m\n\u001b[1;32m    918\u001b[0m             \u001b[0mpot2\u001b[0m \u001b[0;34m=\u001b[0m \u001b[0mextract_potname_from_remote\u001b[0m\u001b[0;34m(\u001b[0m\u001b[0mparent_calc_folder2\u001b[0m\u001b[0;34m)\u001b[0m\u001b[0;34m\u001b[0m\u001b[0;34m\u001b[0m\u001b[0m\n\u001b[1;32m    919\u001b[0m         \u001b[0;32mexcept\u001b[0m \u001b[0mValueError\u001b[0m\u001b[0;34m:\u001b[0m\u001b[0;34m\u001b[0m\u001b[0;34m\u001b[0m\u001b[0m\n\u001b[0;32m--> 920\u001b[0;31m             raise InputValidationError(\n\u001b[0m\u001b[1;32m    921\u001b[0m                 'settings_node_dict needs to have key \"pot2\" containing the filename of the input potential')\n\u001b[1;32m    922\u001b[0m     \u001b[0mreplace_newpos\u001b[0m \u001b[0;34m=\u001b[0m \u001b[0msettings_dict\u001b[0m\u001b[0;34m.\u001b[0m\u001b[0mget\u001b[0m\u001b[0;34m(\u001b[0m\u001b[0;34m'replace_newpos'\u001b[0m\u001b[0;34m,\u001b[0m \u001b[0;32mNone\u001b[0m\u001b[0;34m)\u001b[0m\u001b[0;34m\u001b[0m\u001b[0;34m\u001b[0m\u001b[0m\n",
      "\u001b[0;31mInputValidationError\u001b[0m: settings_node_dict needs to have key \"pot2\" containing the filename of the input potential"
     ]
    }
   ],
   "source": [
    "from aiida_kkr.tools.common_workfunctions import neworder_potential_wf\n",
    "from numpy import loadtxt\n",
    "\n",
    "potname_converged = None\n",
    "potname_imp = 'potential_imp'\n",
    "file_opened=GF_host_calc.outputs.retrieved.open('scoef')\n",
    "neworder_pot1 = [int(i) for i in loadtxt(file_opened, skiprows=1)[:,3]-1]\n",
    "\n",
    "potname_impvorostart = None\n",
    "replacelist_pot2 = [[0,0]]\n",
    "\n",
    "settings_dict = {'pot1': potname_converged,  'out_pot': potname_imp, 'neworder': neworder_pot1,\n",
    "                 'pot2': potname_impvorostart, 'replace_newpos': replacelist_pot2, 'label': 'startpot_KKRimp',\n",
    "                 'description': 'starting potential for Au impurity in bulk Cu'}\n",
    "settings = Dict(dict=settings_dict)\n",
    "\n",
    "startpot_Au_imp_sfd = neworder_potential_wf(settings_node=settings,\n",
    "                                            parent_calc_folder=kkrcalc_converged.outputs.remote_folder,\n",
    "                                            parent_calc_folder2=voro_calc_aux.outputs.remote_folder)\n"
   ]
  },
  {
   "cell_type": "code",
   "execution_count": 187,
   "id": "arranged-hospital",
   "metadata": {},
   "outputs": [
    {
     "name": "stdout",
     "output_type": "stream",
     "text": [
      "scoef\n"
     ]
    }
   ],
   "source": [
    "GF_calc_retr_list =GF_host_calc.outputs.retrieved.list_object_names()\n",
    "if 'scoef' in GF_calc_retr_list:\n",
    "    print('scoef')\n",
    "    file_opened=GF_host_calc.outputs.retrieved.open('scoef')\n",
    "    neworder_pot1 = [int(i) for i in loadtxt(file_opened, skiprows=1)[:,3]-1]\n"
   ]
  },
  {
   "cell_type": "code",
   "execution_count": 188,
   "id": "flush-protest",
   "metadata": {},
   "outputs": [
    {
     "data": {
      "text/plain": [
       "[0, 0, 0, 0, 0, 0, 0, 0, 0, 0, 0, 0, 0]"
      ]
     },
     "execution_count": 188,
     "metadata": {},
     "output_type": "execute_result"
    }
   ],
   "source": [
    "neworder_pot1"
   ]
  },
  {
   "cell_type": "code",
   "execution_count": null,
   "id": "wanted-semiconductor",
   "metadata": {},
   "outputs": [],
   "source": []
  },
  {
   "cell_type": "code",
   "execution_count": null,
   "id": "sized-quantum",
   "metadata": {},
   "outputs": [],
   "source": []
  },
  {
   "cell_type": "raw",
   "id": "vanilla-murray",
   "metadata": {},
   "source": []
  },
  {
   "cell_type": "code",
   "execution_count": null,
   "id": "northern-seller",
   "metadata": {},
   "outputs": [],
   "source": []
  },
  {
   "cell_type": "code",
   "execution_count": null,
   "id": "broad-plasma",
   "metadata": {},
   "outputs": [],
   "source": []
  },
  {
   "cell_type": "code",
   "execution_count": null,
   "id": "proved-poverty",
   "metadata": {},
   "outputs": [],
   "source": [
    "converge_kkr.get_builder_restart()"
   ]
  }
 ],
 "metadata": {
  "kernelspec": {
   "display_name": "AiiDA",
   "language": "python",
   "name": "aiida"
  },
  "language_info": {
   "codemirror_mode": {
    "name": "ipython",
    "version": 3
   },
   "file_extension": ".py",
   "mimetype": "text/x-python",
   "name": "python",
   "nbconvert_exporter": "python",
   "pygments_lexer": "ipython3",
   "version": "3.8.5"
  }
 },
 "nbformat": 4,
 "nbformat_minor": 5
}
