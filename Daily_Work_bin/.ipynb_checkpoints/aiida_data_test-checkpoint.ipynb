{
 "cells": [
  {
   "cell_type": "code",
   "execution_count": 1,
   "id": "a131bbff",
   "metadata": {},
   "outputs": [
    {
     "name": "stdout",
     "output_type": "stream",
     "text": [
      "profile name :  default\n",
      "profile database host name :  localhost\n",
      "default user :  r.mozumder@fz-juelich.de\n"
     ]
    }
   ],
   "source": [
    "#load aiida environment and connect to database\n",
    "from aiida import load_profile\n",
    "from aiida.orm import computers\n",
    "profile = load_profile()\n",
    "print('profile name : ',profile.name)\n",
    "print('profile database host name : ',profile.database_hostname)\n",
    "print('default user : ',profile.default_user)"
   ]
  },
  {
   "cell_type": "code",
   "execution_count": 2,
   "id": "ac59da4c",
   "metadata": {},
   "outputs": [],
   "source": [
    "# load classes and functions\n",
    "from aiida.orm import CifData, Code, Dict, load_node, StructureData, ArrayData\n",
    "from aiida.orm import (Group, load_group, load_node, load_code, groups, Node,\n",
    "                      WorkChainNode, QueryBuilder, CalcJobNode)\n",
    "from aiida.engine import submit\n",
    "from aiida.common.exceptions import NotExistent\n",
    "from aiida_kkr.workflows import (kkr_imp_sub_wc, kkr_imp_dos, kkr_imp_wc, kkr_startpot_wc, combine_imps_wc,\n",
    "                                 kkr_dos_wc, kkr_flex_wc)\n",
    "import numpy as np\n",
    "from aiida_kkr.calculations import KkrimpCalculation, VoronoiCalculation, KkrCalculation\n",
    "import matplotlib.pyplot as plt\n",
    "from aiida_kkr.tools.common_workfunctions import get_username\n",
    "from masci_tools.io.common_functions import get_Ry2eV\n",
    "from aiida_kkr.tools import kkrparams, plot_kkr, find_parent_structure\n",
    "import tarfile\n",
    "import matplotlib as mpl\n"
   ]
  },
  {
   "cell_type": "code",
   "execution_count": 3,
   "id": "24ee08ca",
   "metadata": {},
   "outputs": [],
   "source": [
    "options = {\n",
    "    'max_wallclock_seconds': 1*36000, # 20h max runtine\n",
    "    'resources': {'tot_num_mpiprocs': 96, 'num_machines': 4 }, # only 40 ranks to divide by 10 atoms per unit cell\n",
    "    # use correct project in accounting (SBATCH needs to be first in list of custom scheduler commands):\n",
    "    'custom_scheduler_commands': '#SBATCH --account=jara0191\\n\\nulimit -s unlimited; export OMP_STACKSIZE=2g', # make sure stacksize is large\n",
    "    'withmpi': True\n",
    "}"
   ]
  },
  {
   "cell_type": "code",
   "execution_count": 4,
   "id": "59ba88f9",
   "metadata": {},
   "outputs": [
    {
     "data": {
      "text/plain": [
       "True"
      ]
     },
     "execution_count": 4,
     "metadata": {},
     "output_type": "execute_result"
    }
   ],
   "source": [
    "'<NEWVERSION_BDG>' in kkrparams().values.keys()"
   ]
  },
  {
   "cell_type": "code",
   "execution_count": 5,
   "id": "4242967f",
   "metadata": {},
   "outputs": [
    {
     "data": {
      "text/plain": [
       "<StructureData: uuid: c1626804-5b71-450c-91c4-aa7197d85279 (pk: 234)>"
      ]
     },
     "execution_count": 5,
     "metadata": {},
     "output_type": "execute_result"
    }
   ],
   "source": [
    "from __future__ import print_function\n",
    "from __future__ import division\n",
    "from __future__ import absolute_import\n",
    "from __future__ import unicode_literals\n",
    "from builtins import object, str\n",
    "from six.moves import range\n",
    "from six.moves import input\n",
    "from masci_tools.io.common_functions import open_general\n",
    "from masci_tools.io.common_functions import search_string\n",
    "import numpy as np\n",
    "from masci_tools.io.common_functions import get_alat_from_bravais\n",
    "from masci_tools.io.common_functions import vec_to_angles\n",
    "from aiida.common.constants import elements as PeriodicTableElements\n",
    "_atomic_numbers = {data['symbol']:num for num,\n",
    "                data in PeriodicTableElements.items()}\n",
    "load_stuc = load_node(234)\n",
    "load_stuc"
   ]
  },
  {
   "cell_type": "code",
   "execution_count": 6,
   "id": "ff888f99",
   "metadata": {},
   "outputs": [
    {
     "name": "stdout",
     "output_type": "stream",
     "text": [
      "Kind name: (Te), position: ([0. 0. 0.]), distance from the center: (0.0)\n",
      "Kind name: (Te), position: ([-2.06705595e-16  2.53050496e+00  2.67879213e+01]), distance from the center: (26.90717719401495)\n",
      "Kind name: (Te), position: ([-7.51813946e-17 -2.39606304e-17  2.40237656e+01]), distance from the center: (24.023765563056)\n",
      "Kind name: (Bi), position: ([ 2.19148158  1.26525248 22.35714223]), distance from the center: (22.499894759544965)\n",
      "Kind name: (Bi), position: ([ 2.19148158  1.26525248 28.45454466]), distance from the center: (28.566843843541175)\n",
      "Kind name: (HX), position: ([1.87470169e-16 2.53050496e+00 2.33733760e+01]), distance from the center: (23.509958733251725)\n",
      "Kind name: (HX), position: ([-4.65266746e-17  1.24273297e-16  2.74383109e+01]), distance from the center: (27.438310922272)\n",
      "Kind name: (HX), position: ([1.79753438e-16 2.53050496e+00 2.94707784e+01]), distance from the center: (29.57921964402533)\n",
      "Kind name: (HX), position: ([-3.88099430e-17  1.00714144e-16  2.13409085e+01]), distance from the center: (21.3409084951)\n",
      "Kind name: (HX), position: ([ 2.19148158  1.26525248 25.40584345]), distance from the center: (25.531555702624388)\n",
      "structure has vacancies, need to remove empty sites for plotting\n",
      "removing atom kind name 'HX' @ 1.8747016921119e-16,2.5305049625927,23.373375970824\n",
      "removing atom kind name 'HX' @ -4.6526674632394e-17,1.2427329655867e-16,27.438310922272\n",
      "removing atom kind name 'HX' @ 1.7975343758741e-16,2.5305049625927,29.470778397996\n",
      "removing atom kind name 'HX' @ -3.8809943008617e-17,1.0071414359274e-16,21.3409084951\n",
      "removing atom kind name 'HX' @ 2.1914815820078,1.2652524812963,25.405843446548\n"
     ]
    },
    {
     "ename": "ValueError",
     "evalue": "top_level must have an `_ipython_display_` method",
     "output_type": "error",
     "traceback": [
      "\u001b[0;31m---------------------------------------------------------------------------\u001b[0m",
      "\u001b[0;31mValueError\u001b[0m                                Traceback (most recent call last)",
      "\u001b[0;32m/tmp/ipykernel_2387070/1671243208.py\u001b[0m in \u001b[0;36m<module>\u001b[0;34m\u001b[0m\n\u001b[1;32m     10\u001b[0m     \u001b[0mprint\u001b[0m\u001b[0;34m(\u001b[0m\u001b[0;34mf\"Kind name: ({site.kind_name}), position: ({pos}), distance from the center: ({dist_cent})\"\u001b[0m\u001b[0;34m)\u001b[0m\u001b[0;34m\u001b[0m\u001b[0;34m\u001b[0m\u001b[0m\n\u001b[1;32m     11\u001b[0m \u001b[0;34m\u001b[0m\u001b[0m\n\u001b[0;32m---> 12\u001b[0;31m \u001b[0mplot_kkr\u001b[0m\u001b[0;34m(\u001b[0m\u001b[0mnodes\u001b[0m\u001b[0;34m=\u001b[0m \u001b[0mstruc_Bi2Te3\u001b[0m\u001b[0;34m,\u001b[0m\u001b[0mstruc234plot\u001b[0m\u001b[0;34m=\u001b[0m \u001b[0;32mTrue\u001b[0m\u001b[0;34m,\u001b[0m \u001b[0msilent\u001b[0m\u001b[0;34m=\u001b[0m \u001b[0;32mTrue\u001b[0m\u001b[0;34m)\u001b[0m\u001b[0;34m\u001b[0m\u001b[0;34m\u001b[0m\u001b[0m\n\u001b[0m",
      "\u001b[0;32m/opt/aiida-kkr/aiida_kkr/tools/plot_kkr.py\u001b[0m in \u001b[0;36m__init__\u001b[0;34m(self, nodes, **kwargs)\u001b[0m\n\u001b[1;32m    375\u001b[0m             \u001b[0mshow\u001b[0m\u001b[0;34m(\u001b[0m\u001b[0;34m)\u001b[0m\u001b[0;34m\u001b[0m\u001b[0;34m\u001b[0m\u001b[0m\n\u001b[1;32m    376\u001b[0m         \u001b[0;32melif\u001b[0m \u001b[0mnodes\u001b[0m \u001b[0;32mis\u001b[0m \u001b[0;32mnot\u001b[0m \u001b[0;32mNone\u001b[0m\u001b[0;34m:\u001b[0m\u001b[0;34m\u001b[0m\u001b[0;34m\u001b[0m\u001b[0m\n\u001b[0;32m--> 377\u001b[0;31m             \u001b[0mself\u001b[0m\u001b[0;34m.\u001b[0m\u001b[0mplot_kkr_single_node\u001b[0m\u001b[0;34m(\u001b[0m\u001b[0mnodes\u001b[0m\u001b[0;34m,\u001b[0m \u001b[0;34m**\u001b[0m\u001b[0mkwargs\u001b[0m\u001b[0;34m)\u001b[0m\u001b[0;34m\u001b[0m\u001b[0;34m\u001b[0m\u001b[0m\n\u001b[0m\u001b[1;32m    378\u001b[0m \u001b[0;34m\u001b[0m\u001b[0m\n\u001b[1;32m    379\u001b[0m             \u001b[0mdisplay\u001b[0m \u001b[0;34m=\u001b[0m \u001b[0mkwargs\u001b[0m\u001b[0;34m.\u001b[0m\u001b[0mget\u001b[0m\u001b[0;34m(\u001b[0m\u001b[0;34m'display'\u001b[0m\u001b[0;34m,\u001b[0m \u001b[0;32mTrue\u001b[0m\u001b[0;34m)\u001b[0m\u001b[0;34m\u001b[0m\u001b[0;34m\u001b[0m\u001b[0m\n",
      "\u001b[0;32m/opt/aiida-kkr/aiida_kkr/tools/plot_kkr.py\u001b[0m in \u001b[0;36mplot_kkr_single_node\u001b[0;34m(self, node, **kwargs)\u001b[0m\n\u001b[1;32m    442\u001b[0m \u001b[0;34m\u001b[0m\u001b[0m\n\u001b[1;32m    443\u001b[0m         \u001b[0;31m# classify node and call plotting function\u001b[0m\u001b[0;34m\u001b[0m\u001b[0;34m\u001b[0m\u001b[0;34m\u001b[0m\u001b[0m\n\u001b[0;32m--> 444\u001b[0;31m         \u001b[0mself\u001b[0m\u001b[0;34m.\u001b[0m\u001b[0mclassify_and_plot_node\u001b[0m\u001b[0;34m(\u001b[0m\u001b[0mnode\u001b[0m\u001b[0;34m,\u001b[0m \u001b[0msilent\u001b[0m\u001b[0;34m=\u001b[0m\u001b[0msilent\u001b[0m\u001b[0;34m,\u001b[0m \u001b[0;34m**\u001b[0m\u001b[0mkwargs\u001b[0m\u001b[0;34m)\u001b[0m\u001b[0;34m\u001b[0m\u001b[0;34m\u001b[0m\u001b[0m\n\u001b[0m\u001b[1;32m    445\u001b[0m \u001b[0;34m\u001b[0m\u001b[0m\n\u001b[1;32m    446\u001b[0m         \u001b[0;32mif\u001b[0m \u001b[0;32mnot\u001b[0m \u001b[0mnoshow\u001b[0m\u001b[0;34m:\u001b[0m\u001b[0;34m\u001b[0m\u001b[0;34m\u001b[0m\u001b[0m\n",
      "\u001b[0;32m/opt/aiida-kkr/aiida_kkr/tools/plot_kkr.py\u001b[0m in \u001b[0;36mclassify_and_plot_node\u001b[0;34m(self, node, return_name_only, **kwargs)\u001b[0m\n\u001b[1;32m    460\u001b[0m         \u001b[0;32mif\u001b[0m \u001b[0misinstance\u001b[0m\u001b[0;34m(\u001b[0m\u001b[0mnode\u001b[0m\u001b[0;34m,\u001b[0m \u001b[0mDataFactory\u001b[0m\u001b[0;34m(\u001b[0m\u001b[0;34m'structure'\u001b[0m\u001b[0;34m)\u001b[0m\u001b[0;34m)\u001b[0m\u001b[0;34m:\u001b[0m\u001b[0;34m\u001b[0m\u001b[0;34m\u001b[0m\u001b[0m\n\u001b[1;32m    461\u001b[0m             \u001b[0;32mif\u001b[0m \u001b[0mreturn_name_only\u001b[0m\u001b[0;34m:\u001b[0m \u001b[0;32mreturn\u001b[0m \u001b[0;34m'struc'\u001b[0m\u001b[0;34m\u001b[0m\u001b[0;34m\u001b[0m\u001b[0m\n\u001b[0;32m--> 462\u001b[0;31m             \u001b[0mself\u001b[0m\u001b[0;34m.\u001b[0m\u001b[0mplot_struc\u001b[0m\u001b[0;34m(\u001b[0m\u001b[0mnode\u001b[0m\u001b[0;34m,\u001b[0m \u001b[0;34m**\u001b[0m\u001b[0mkwargs\u001b[0m\u001b[0;34m)\u001b[0m\u001b[0;34m\u001b[0m\u001b[0;34m\u001b[0m\u001b[0m\n\u001b[0m\u001b[1;32m    463\u001b[0m         \u001b[0;32melif\u001b[0m \u001b[0misinstance\u001b[0m\u001b[0;34m(\u001b[0m\u001b[0mnode\u001b[0m\u001b[0;34m,\u001b[0m \u001b[0mDataFactory\u001b[0m\u001b[0;34m(\u001b[0m\u001b[0;34m'dict'\u001b[0m\u001b[0;34m)\u001b[0m\u001b[0;34m)\u001b[0m\u001b[0;34m:\u001b[0m\u001b[0;34m\u001b[0m\u001b[0;34m\u001b[0m\u001b[0m\n\u001b[1;32m    464\u001b[0m             \u001b[0;32mif\u001b[0m \u001b[0mreturn_name_only\u001b[0m\u001b[0;34m:\u001b[0m \u001b[0;32mreturn\u001b[0m \u001b[0;34m'para'\u001b[0m\u001b[0;34m\u001b[0m\u001b[0;34m\u001b[0m\u001b[0m\n",
      "\u001b[0;32m/opt/aiida-kkr/aiida_kkr/tools/plot_kkr.py\u001b[0m in \u001b[0;36mplot_struc\u001b[0;34m(self, node, **kwargs)\u001b[0m\n\u001b[1;32m    605\u001b[0m         \u001b[0;32mif\u001b[0m \u001b[0m_has_ase_notebook\u001b[0m\u001b[0;34m(\u001b[0m\u001b[0;34m)\u001b[0m \u001b[0;32mand\u001b[0m \u001b[0;34m'viewer'\u001b[0m \u001b[0;32mnot\u001b[0m \u001b[0;32min\u001b[0m \u001b[0mkwargs\u001b[0m\u001b[0;34m:\u001b[0m\u001b[0;34m\u001b[0m\u001b[0;34m\u001b[0m\u001b[0m\n\u001b[1;32m    606\u001b[0m             \u001b[0;31m# by default use ase_notebook if it is available\u001b[0m\u001b[0;34m\u001b[0m\u001b[0;34m\u001b[0m\u001b[0;34m\u001b[0m\u001b[0m\n\u001b[0;32m--> 607\u001b[0;31m             \u001b[0mself\u001b[0m\u001b[0;34m.\u001b[0m\u001b[0msview\u001b[0m \u001b[0;34m=\u001b[0m \u001b[0mstrucplot_ase_notebook\u001b[0m\u001b[0;34m(\u001b[0m\u001b[0mstructure\u001b[0m\u001b[0;34m,\u001b[0m \u001b[0;34m**\u001b[0m\u001b[0mkwargs\u001b[0m\u001b[0;34m)\u001b[0m\u001b[0;34m\u001b[0m\u001b[0;34m\u001b[0m\u001b[0m\n\u001b[0m\u001b[1;32m    608\u001b[0m         \u001b[0;32melse\u001b[0m\u001b[0;34m:\u001b[0m\u001b[0;34m\u001b[0m\u001b[0;34m\u001b[0m\u001b[0m\n\u001b[1;32m    609\u001b[0m             \u001b[0;31m# use ase's view function instead\u001b[0m\u001b[0;34m\u001b[0m\u001b[0;34m\u001b[0m\u001b[0;34m\u001b[0m\u001b[0m\n",
      "\u001b[0;32m/opt/aiida-kkr/aiida_kkr/tools/plot_kkr.py\u001b[0m in \u001b[0;36mstrucplot_ase_notebook\u001b[0;34m(struc, **kwargs)\u001b[0m\n\u001b[1;32m    137\u001b[0m     \u001b[0;32mif\u001b[0m \u001b[0;32mnot\u001b[0m \u001b[0mstatic\u001b[0m \u001b[0;32mand\u001b[0m \u001b[0m_in_notebook\u001b[0m\u001b[0;34m(\u001b[0m\u001b[0;34m)\u001b[0m\u001b[0;34m:\u001b[0m\u001b[0;34m\u001b[0m\u001b[0;34m\u001b[0m\u001b[0m\n\u001b[1;32m    138\u001b[0m         \u001b[0;31m# render view in notebook\u001b[0m\u001b[0;34m\u001b[0m\u001b[0;34m\u001b[0m\u001b[0;34m\u001b[0m\u001b[0m\n\u001b[0;32m--> 139\u001b[0;31m         strucview = ase_view.make_render(\n\u001b[0m\u001b[1;32m    140\u001b[0m             \u001b[0mase_atoms\u001b[0m\u001b[0;34m,\u001b[0m \u001b[0mcenter_in_uc\u001b[0m\u001b[0;34m=\u001b[0m\u001b[0;32mTrue\u001b[0m\u001b[0;34m,\u001b[0m\u001b[0;34m\u001b[0m\u001b[0;34m\u001b[0m\u001b[0m\n\u001b[1;32m    141\u001b[0m             \u001b[0mcreate_gui\u001b[0m\u001b[0;34m=\u001b[0m\u001b[0;32mTrue\u001b[0m\u001b[0;34m,\u001b[0m\u001b[0;34m\u001b[0m\u001b[0;34m\u001b[0m\u001b[0m\n",
      "\u001b[0;32m/opt/ase-notebook/ase_notebook/viewer.py\u001b[0m in \u001b[0;36mmake_render\u001b[0;34m(self, atoms, center_in_uc, repeat_uc, reuse_objects, use_atom_arrays, use_label_arrays, create_gui)\u001b[0m\n\u001b[1;32m    555\u001b[0m             \u001b[0mkey_elements\u001b[0m\u001b[0;34m[\u001b[0m\u001b[0;34m\"axes_renderer\"\u001b[0m\u001b[0;34m]\u001b[0m \u001b[0;34m=\u001b[0m \u001b[0maxes_renderer\u001b[0m\u001b[0;34m\u001b[0m\u001b[0;34m\u001b[0m\u001b[0m\n\u001b[1;32m    556\u001b[0m \u001b[0;34m\u001b[0m\u001b[0m\n\u001b[0;32m--> 557\u001b[0;31m         \u001b[0mcontainer\u001b[0m \u001b[0;34m=\u001b[0m \u001b[0mRenderContainer\u001b[0m\u001b[0;34m(\u001b[0m\u001b[0mrenderer\u001b[0m\u001b[0;34m,\u001b[0m \u001b[0melement_renderer\u001b[0m\u001b[0;34m=\u001b[0m\u001b[0mrenderer\u001b[0m\u001b[0;34m,\u001b[0m \u001b[0;34m**\u001b[0m\u001b[0mkey_elements\u001b[0m\u001b[0;34m)\u001b[0m\u001b[0;34m\u001b[0m\u001b[0;34m\u001b[0m\u001b[0m\n\u001b[0m\u001b[1;32m    558\u001b[0m         \u001b[0;32mif\u001b[0m \u001b[0mcreate_gui\u001b[0m\u001b[0;34m:\u001b[0m\u001b[0;34m\u001b[0m\u001b[0;34m\u001b[0m\u001b[0m\n\u001b[1;32m    559\u001b[0m             \u001b[0mgui\u001b[0m \u001b[0;34m=\u001b[0m \u001b[0mmake_basic_gui\u001b[0m\u001b[0;34m(\u001b[0m\u001b[0mcontainer\u001b[0m\u001b[0;34m)\u001b[0m\u001b[0;34m\u001b[0m\u001b[0;34m\u001b[0m\u001b[0m\n",
      "\u001b[0;32m/opt/ase-notebook/ase_notebook/backend/threejs.py\u001b[0m in \u001b[0;36m__init__\u001b[0;34m(self, top_level, **kwargs)\u001b[0m\n\u001b[1;32m     14\u001b[0m         \u001b[0;34m\"\"\"Initialise container.\"\"\"\u001b[0m\u001b[0;34m\u001b[0m\u001b[0;34m\u001b[0m\u001b[0m\n\u001b[1;32m     15\u001b[0m         \u001b[0mself\u001b[0m\u001b[0;34m.\u001b[0m\u001b[0m_kwargs\u001b[0m \u001b[0;34m=\u001b[0m \u001b[0mkwargs\u001b[0m\u001b[0;34m\u001b[0m\u001b[0;34m\u001b[0m\u001b[0m\n\u001b[0;32m---> 16\u001b[0;31m         \u001b[0mself\u001b[0m\u001b[0;34m.\u001b[0m\u001b[0mtop_level\u001b[0m \u001b[0;34m=\u001b[0m \u001b[0mtop_level\u001b[0m\u001b[0;34m\u001b[0m\u001b[0;34m\u001b[0m\u001b[0m\n\u001b[0m\u001b[1;32m     17\u001b[0m \u001b[0;34m\u001b[0m\u001b[0m\n\u001b[1;32m     18\u001b[0m     \u001b[0;32mdef\u001b[0m \u001b[0m__dir__\u001b[0m\u001b[0;34m(\u001b[0m\u001b[0mself\u001b[0m\u001b[0;34m)\u001b[0m\u001b[0;34m:\u001b[0m\u001b[0;34m\u001b[0m\u001b[0;34m\u001b[0m\u001b[0m\n",
      "\u001b[0;32m/opt/ase-notebook/ase_notebook/backend/threejs.py\u001b[0m in \u001b[0;36m__setattr__\u001b[0;34m(self, name, value)\u001b[0m\n\u001b[1;32m     50\u001b[0m         \u001b[0;32mif\u001b[0m \u001b[0mname\u001b[0m \u001b[0;34m==\u001b[0m \u001b[0;34m\"top_level\"\u001b[0m\u001b[0;34m:\u001b[0m\u001b[0;34m\u001b[0m\u001b[0;34m\u001b[0m\u001b[0m\n\u001b[1;32m     51\u001b[0m             \u001b[0;32mif\u001b[0m \u001b[0;32mnot\u001b[0m \u001b[0mhasattr\u001b[0m\u001b[0;34m(\u001b[0m\u001b[0mvalue\u001b[0m\u001b[0;34m,\u001b[0m \u001b[0;34m\"_ipython_display_\"\u001b[0m\u001b[0;34m)\u001b[0m\u001b[0;34m:\u001b[0m\u001b[0;34m\u001b[0m\u001b[0;34m\u001b[0m\u001b[0m\n\u001b[0;32m---> 52\u001b[0;31m                 \u001b[0;32mraise\u001b[0m \u001b[0mValueError\u001b[0m\u001b[0;34m(\u001b[0m\u001b[0;34m\"top_level must have an `_ipython_display_` method\"\u001b[0m\u001b[0;34m)\u001b[0m\u001b[0;34m\u001b[0m\u001b[0;34m\u001b[0m\u001b[0m\n\u001b[0m\u001b[1;32m     53\u001b[0m             \u001b[0mself\u001b[0m\u001b[0;34m.\u001b[0m\u001b[0m_kwargs\u001b[0m\u001b[0;34m[\u001b[0m\u001b[0;34m\"top_level\"\u001b[0m\u001b[0;34m]\u001b[0m \u001b[0;34m=\u001b[0m \u001b[0mvalue\u001b[0m\u001b[0;34m\u001b[0m\u001b[0;34m\u001b[0m\u001b[0m\n\u001b[1;32m     54\u001b[0m             \u001b[0;32mreturn\u001b[0m\u001b[0;34m\u001b[0m\u001b[0;34m\u001b[0m\u001b[0m\n",
      "\u001b[0;31mValueError\u001b[0m: top_level must have an `_ipython_display_` method"
     ]
    }
   ],
   "source": [
    "struc_Bi2Te3= load_node(234)\n",
    "site_pos_0=None\n",
    "i=0\n",
    "for site in struc_Bi2Te3.sites:\n",
    "    if i==0:\n",
    "        site_pos_0 = np.array(site.position)\n",
    "        i += 1\n",
    "    pos= np.array(site.position)    \n",
    "    dist_cent = np.sqrt(np.sum(np.square(site_pos_0-pos)))\n",
    "    print(f\"Kind name: ({site.kind_name}), position: ({pos}), distance from the center: ({dist_cent})\")\n",
    "\n",
    "plot_kkr(nodes= struc_Bi2Te3,struc234plot= True, silent= True)\n"
   ]
  },
  {
   "cell_type": "code",
   "execution_count": null,
   "id": "84651a0c",
   "metadata": {},
   "outputs": [],
   "source": [
    "np.sqrt(np.sum(np.square(np.array([1,2,3]))))"
   ]
  },
  {
   "cell_type": "code",
   "execution_count": null,
   "id": "35dc5de0",
   "metadata": {},
   "outputs": [],
   "source": [
    "node_b90057ee = load_node('937dc6a8')"
   ]
  },
  {
   "cell_type": "code",
   "execution_count": null,
   "id": "dc34fd02",
   "metadata": {},
   "outputs": [],
   "source": [
    "node_b90057ee.outputs.output_parameters.get_dict()['timings_group']"
   ]
  },
  {
   "cell_type": "code",
   "execution_count": 7,
   "id": "4316837c",
   "metadata": {},
   "outputs": [],
   "source": [
    "node_24225 = load_node(24830)\n",
    "xx = node_24225.get_outgoing(node_class=WorkChainNode).first().node#.all()\n",
    "#xx.get_outgoing(node_class=CalcJobNode).all()[0].node.inputs.parameters.get_dict()"
   ]
  },
  {
   "cell_type": "code",
   "execution_count": 8,
   "id": "ed7349ac",
   "metadata": {},
   "outputs": [
    {
     "data": {
      "text/plain": [
       "{'lmdos': True,\n",
       " 'hfield': [0.02, 5],\n",
       " 'nsteps': 300,\n",
       " 'strmix': 0.02,\n",
       " 'aggrmix': 0.05,\n",
       " 'dos_run': False,\n",
       " 'jij_run': False,\n",
       " 'init_pos': None,\n",
       " 'mag_init': True,\n",
       " 'mixreduce': 0.5,\n",
       " 'kkr_runmax': 5,\n",
       " 'aggressive_mix': 5,\n",
       " 'broyden-number': 20,\n",
       " 'accuracy_params': {'NCHEB': None,\n",
       "  'NPAN_EQ': None,\n",
       "  'NPAN_LOG': None,\n",
       "  'RADIUS_LOGPANELS': None},\n",
       " 'nsimplemixfirst': 0,\n",
       " 'do_final_cleanup': True,\n",
       " 'retrieve_kkrflex': False,\n",
       " 'convergence_criterion': 1e-07,\n",
       " 'threshold_aggressive_mixing': 0.5}"
      ]
     },
     "execution_count": 8,
     "metadata": {},
     "output_type": "execute_result"
    }
   ],
   "source": [
    "group_108 = load_group(74)\n",
    "node_1= group_108.nodes[0]\n",
    "node_1.inputs.wf_parameters.get_dict()#get_outgoing(node_class=WorkChainNode).all()[0].node.get_outgoing(node_class=CalcJobNode).all()"
   ]
  },
  {
   "cell_type": "code",
   "execution_count": 9,
   "id": "7e75d0d5",
   "metadata": {},
   "outputs": [
    {
     "data": {
      "image/png": "[encoded data removed]",
      "text/plain": [
       "<Figure size 576x432 with 1 Axes>"
      ]
     },
     "metadata": {
      "needs_background": "light"
     },
     "output_type": "display_data"
    }
   ],
   "source": [
    "## Dos calculation for host crytal\n",
    "import matplotlib.pyplot as plt\n",
    "wf_parameter = {\n",
    "        'nepts': 96,  # number of points in contour\n",
    "        'tempr': 200.,  # K, smearing temperature\n",
    "        'emin': -10,  # eV, rel to EF, start of energy contour\n",
    "        'emax': 5,  # eV       end of energy contour\n",
    "        'kmesh': [30, 30, 30],  # kmesh for DOS calculation (typically higher than in scf contour)\n",
    "        'RCLUSTZ': None,  # cluster radiu, only used if a value is set\n",
    "    }\n",
    "node_x = load_node('23b13d9d-6e02-46c7-b3ac-17033b205b19')\n",
    "parent = node_x.inputs.parent_folder\n",
    "dos_builder = kkr_dos_wc.get_builder()\n",
    "dos_builder.remote_data = parent\n",
    "dos_builder.options = Dict(dict=options)\n",
    "dos_builder.kkr = Code.get_from_string('kkr@claix18_init')\n",
    "dos_builder.metadata.label= 'Dos calculation for host Bi_2Te_3'\n",
    "dos_builder.wf_parameters = Dict(dict=wf_parameter)\n",
    "#dos = submit(dos_builder)  #  105842, 105862(large range)\n",
    "dos = load_node(105842) #with structure : 234\n",
    "\n",
    "plt.figure(figsize=(8,6))\n",
    "\n",
    "plot_kkr(dos, silent= True, l_channels = False, sum_spins= True,  lw=0.9, iatom=[0,1,2,3,4], label = ['Te1','Te2','Te3','Bi1', 'Bi2'],\n",
    "         all_atoms = True, noshow = True, nofig= True)\n",
    "\n",
    "plt.title('')#r'DOS for $\\mathrm{Bi_2Te_3}$')\n",
    "plt.legend(fontsize='large')\n",
    "plt.show()"
   ]
  },
  {
   "cell_type": "code",
   "execution_count": 10,
   "id": "51a5dd68",
   "metadata": {},
   "outputs": [
    {
     "data": {
      "text/plain": [
       "['RUNOPT\\n',\n",
       " 'LLOYD   NEWSOSOL...     ...     \\n',\n",
       " 'TESTOPT\\n',\n",
       " 'DOS     MPIatom \\n',\n",
       " '\\n',\n",
       " 'ALATBASIS=        8.282600000000\\n',\n",
       " 'BRAVAIS\\n',\n",
       " '       0.499999999877        0.288675134524        2.318599768200\\n',\n",
       " '      -0.499999999877        0.288675134524        2.318599768200\\n',\n",
       " '      -0.000000000000       -0.577350269047        2.318599768200\\n',\n",
       " 'NAEZ= 10\\n',\n",
       " 'CARTESIAN= True\\n',\n",
       " '\\n',\n",
       " '<RBASIS>\\n',\n",
       " '       0.000000000000        0.000000000000        0.000000000000\\n',\n",
       " '      -0.000000000000        0.577350269047        6.111828988975\\n',\n",
       " '      -0.000000000000       -0.000000000000        5.481169852025\\n',\n",
       " '       0.499999999877        0.288675134524        5.100919490040\\n',\n",
       " '       0.499999999877        0.288675134524        6.492079350960\\n',\n",
       " '       0.000000000000        0.577350269047        5.332779466860\\n',\n",
       " '      -0.000000000000        0.000000000000        6.260219374140\\n',\n",
       " '       0.000000000000        0.577350269047        6.723939327780\\n',\n",
       " '      -0.000000000000        0.000000000000        4.869059513220\\n',\n",
       " '       0.499999999877        0.288675134524        5.796499420500\\n',\n",
       " '\\n',\n",
       " 'NSPIN= 2\\n',\n",
       " '<ZATOM>\\n',\n",
       " '      52.000000000000\\n',\n",
       " '      52.000000000000\\n',\n",
       " '      52.000000000000\\n',\n",
       " '      82.000000000000\\n',\n",
       " '      82.000000000000\\n',\n",
       " '       0.000000000000\\n',\n",
       " '       0.000000000000\\n',\n",
       " '       0.000000000000\\n',\n",
       " '       0.000000000000\\n',\n",
       " '       0.000000000000\\n',\n",
       " '\\n',\n",
       " 'NATYP= 10\\n',\n",
       " 'LINIPOL= False\\n',\n",
       " 'HFIELD=        0.000000000000\\n',\n",
       " 'LMAX= 3\\n',\n",
       " 'BZDIVIDE= 40 40 40\\n',\n",
       " '\\n',\n",
       " 'EMIN=       -0.800000000000\\n',\n",
       " 'EMAX=        1.200000000000\\n',\n",
       " 'TEMPR=      800.000000000000\\n',\n",
       " 'NPT1= 5\\n',\n",
       " 'NPT2= 50\\n',\n",
       " 'NPT3= 3\\n',\n",
       " 'NPOL= 5\\n',\n",
       " 'RCLUSTZ=        1.600000000000\\n',\n",
       " 'RCLUSTXY=        1.600000000000\\n',\n",
       " '\\n',\n",
       " 'R_LOG=        0.800000000000\\n',\n",
       " 'NPAN_LOG= 17\\n',\n",
       " 'NPAN_EQ= 7\\n',\n",
       " 'NCHEB= 12\\n',\n",
       " 'RMAX=        7.000000000000\\n',\n",
       " 'GMAX=       65.000000000000\\n',\n",
       " '\\n',\n",
       " 'NSTEPS= 50\\n',\n",
       " 'IMIX= 5\\n',\n",
       " 'STRMIX=        0.010000000000\\n',\n",
       " 'ITDBRY= 30\\n',\n",
       " 'FCM=       20.000000000000\\n',\n",
       " 'BRYMIX=        0.040000000000\\n',\n",
       " 'QBOUND= 1.000000e-07\\n',\n",
       " '\\n']"
      ]
     },
     "execution_count": 10,
     "metadata": {},
     "output_type": "execute_result"
    }
   ],
   "source": [
    "node_236 = load_node(236)\n",
    "ll = node_236.outputs\n",
    "file_list = ll.retrieved.list_object_names()\n",
    "with ll.retrieved.open('inputcard') as f:\n",
    "    f_lines = f.readlines()\n",
    "    for i in f_lines:\n",
    "        if 'POTENTIAL' in i:\n",
    "            print(i)\n",
    "f_lines"
   ]
  },
  {
   "cell_type": "code",
   "execution_count": 11,
   "id": "698bad3a",
   "metadata": {},
   "outputs": [
    {
     "data": {
      "text/plain": [
       "'/rwthfs/rz/cluster/work/jara0191/ck142666/aiida/computers/claix18_init/b6/d7/ce5d-856c-493f-ae26-7a36cd20b64a'"
      ]
     },
     "execution_count": 11,
     "metadata": {},
     "output_type": "execute_result"
    }
   ],
   "source": [
    "node_105867 = load_node(105867)\n",
    "out = node_105867.outputs\n",
    "ll = out.remote_folder.get_remote_path()\n",
    "ll"
   ]
  },
  {
   "cell_type": "code",
   "execution_count": 12,
   "id": "bf5329b6",
   "metadata": {},
   "outputs": [
    {
     "data": {
      "text/plain": [
       "['_scheduler-stderr.txt',\n",
       " '_scheduler-stdout.txt',\n",
       " 'atominfo.txt',\n",
       " 'inputcard',\n",
       " 'out_voronoi',\n",
       " 'overwrite_potential',\n",
       " 'radii.dat',\n",
       " 'shapefun',\n",
       " 'vertices.dat']"
      ]
     },
     "execution_count": 12,
     "metadata": {},
     "output_type": "execute_result"
    }
   ],
   "source": [
    "['_scheduler-stderr.txt',\n",
    " '_scheduler-stdout.txt',\n",
    " 'atominfo.txt',\n",
    " 'inputcard',\n",
    " 'out_voronoi',\n",
    " 'overwrite_potential',\n",
    " 'radii.dat',\n",
    " 'shapefun',\n",
    " 'vertices.dat']"
   ]
  },
  {
   "cell_type": "code",
   "execution_count": 13,
   "id": "5827fec9",
   "metadata": {},
   "outputs": [
    {
     "ename": "AttributeError",
     "evalue": "'Code' object has no attribute 'process_label'",
     "output_type": "error",
     "traceback": [
      "\u001b[0;31m---------------------------------------------------------------------------\u001b[0m",
      "\u001b[0;31mAttributeError\u001b[0m                            Traceback (most recent call last)",
      "\u001b[0;32m/tmp/ipykernel_2385940/1554699431.py\u001b[0m in \u001b[0;36m<module>\u001b[0;34m\u001b[0m\n\u001b[0;32m----> 1\u001b[0;31m \u001b[0mplot_kkr\u001b[0m\u001b[0;34m(\u001b[0m\u001b[0mload_node\u001b[0m\u001b[0;34m(\u001b[0m\u001b[0;36m232\u001b[0m\u001b[0;34m)\u001b[0m\u001b[0;34m,\u001b[0m \u001b[0mstruc\u001b[0m\u001b[0;34m=\u001b[0m \u001b[0;32mTrue\u001b[0m\u001b[0;34m,\u001b[0m \u001b[0msilent\u001b[0m\u001b[0;34m=\u001b[0m \u001b[0;32mTrue\u001b[0m\u001b[0;34m)\u001b[0m\u001b[0;34m\u001b[0m\u001b[0;34m\u001b[0m\u001b[0m\n\u001b[0m",
      "\u001b[0;32m/opt/aiida-kkr/aiida_kkr/tools/plot_kkr.py\u001b[0m in \u001b[0;36m__init__\u001b[0;34m(self, nodes, **kwargs)\u001b[0m\n\u001b[1;32m    375\u001b[0m             \u001b[0mshow\u001b[0m\u001b[0;34m(\u001b[0m\u001b[0;34m)\u001b[0m\u001b[0;34m\u001b[0m\u001b[0;34m\u001b[0m\u001b[0m\n\u001b[1;32m    376\u001b[0m         \u001b[0;32melif\u001b[0m \u001b[0mnodes\u001b[0m \u001b[0;32mis\u001b[0m \u001b[0;32mnot\u001b[0m \u001b[0;32mNone\u001b[0m\u001b[0;34m:\u001b[0m\u001b[0;34m\u001b[0m\u001b[0;34m\u001b[0m\u001b[0m\n\u001b[0;32m--> 377\u001b[0;31m             \u001b[0mself\u001b[0m\u001b[0;34m.\u001b[0m\u001b[0mplot_kkr_single_node\u001b[0m\u001b[0;34m(\u001b[0m\u001b[0mnodes\u001b[0m\u001b[0;34m,\u001b[0m \u001b[0;34m**\u001b[0m\u001b[0mkwargs\u001b[0m\u001b[0;34m)\u001b[0m\u001b[0;34m\u001b[0m\u001b[0;34m\u001b[0m\u001b[0m\n\u001b[0m\u001b[1;32m    378\u001b[0m \u001b[0;34m\u001b[0m\u001b[0m\n\u001b[1;32m    379\u001b[0m             \u001b[0mdisplay\u001b[0m \u001b[0;34m=\u001b[0m \u001b[0mkwargs\u001b[0m\u001b[0;34m.\u001b[0m\u001b[0mget\u001b[0m\u001b[0;34m(\u001b[0m\u001b[0;34m'display'\u001b[0m\u001b[0;34m,\u001b[0m \u001b[0;32mTrue\u001b[0m\u001b[0;34m)\u001b[0m\u001b[0;34m\u001b[0m\u001b[0;34m\u001b[0m\u001b[0m\n",
      "\u001b[0;32m/opt/aiida-kkr/aiida_kkr/tools/plot_kkr.py\u001b[0m in \u001b[0;36mplot_kkr_single_node\u001b[0;34m(self, node, **kwargs)\u001b[0m\n\u001b[1;32m    442\u001b[0m \u001b[0;34m\u001b[0m\u001b[0m\n\u001b[1;32m    443\u001b[0m         \u001b[0;31m# classify node and call plotting function\u001b[0m\u001b[0;34m\u001b[0m\u001b[0;34m\u001b[0m\u001b[0;34m\u001b[0m\u001b[0m\n\u001b[0;32m--> 444\u001b[0;31m         \u001b[0mself\u001b[0m\u001b[0;34m.\u001b[0m\u001b[0mclassify_and_plot_node\u001b[0m\u001b[0;34m(\u001b[0m\u001b[0mnode\u001b[0m\u001b[0;34m,\u001b[0m \u001b[0msilent\u001b[0m\u001b[0;34m=\u001b[0m\u001b[0msilent\u001b[0m\u001b[0;34m,\u001b[0m \u001b[0;34m**\u001b[0m\u001b[0mkwargs\u001b[0m\u001b[0;34m)\u001b[0m\u001b[0;34m\u001b[0m\u001b[0;34m\u001b[0m\u001b[0m\n\u001b[0m\u001b[1;32m    445\u001b[0m \u001b[0;34m\u001b[0m\u001b[0m\n\u001b[1;32m    446\u001b[0m         \u001b[0;32mif\u001b[0m \u001b[0;32mnot\u001b[0m \u001b[0mnoshow\u001b[0m\u001b[0;34m:\u001b[0m\u001b[0;34m\u001b[0m\u001b[0;34m\u001b[0m\u001b[0m\n",
      "\u001b[0;32m/opt/aiida-kkr/aiida_kkr/tools/plot_kkr.py\u001b[0m in \u001b[0;36mclassify_and_plot_node\u001b[0;34m(self, node, return_name_only, **kwargs)\u001b[0m\n\u001b[1;32m    476\u001b[0m             \u001b[0mpprint\u001b[0m\u001b[0;34m(\u001b[0m\u001b[0mnode\u001b[0m\u001b[0;34m.\u001b[0m\u001b[0mget_folder_list\u001b[0m\u001b[0;34m(\u001b[0m\u001b[0;34m)\u001b[0m\u001b[0;34m)\u001b[0m\u001b[0;34m\u001b[0m\u001b[0;34m\u001b[0m\u001b[0m\n\u001b[1;32m    477\u001b[0m         \u001b[0;31m# workflows\u001b[0m\u001b[0;34m\u001b[0m\u001b[0;34m\u001b[0m\u001b[0;34m\u001b[0m\u001b[0m\n\u001b[0;32m--> 478\u001b[0;31m         \u001b[0;32melif\u001b[0m \u001b[0mnode\u001b[0m\u001b[0;34m.\u001b[0m\u001b[0mprocess_label\u001b[0m \u001b[0;34m==\u001b[0m \u001b[0;34mu'kkr_dos_wc'\u001b[0m\u001b[0;34m:\u001b[0m\u001b[0;34m\u001b[0m\u001b[0;34m\u001b[0m\u001b[0m\n\u001b[0m\u001b[1;32m    479\u001b[0m             \u001b[0;32mif\u001b[0m \u001b[0mreturn_name_only\u001b[0m\u001b[0;34m:\u001b[0m \u001b[0;32mreturn\u001b[0m \u001b[0;34m'dos'\u001b[0m\u001b[0;34m\u001b[0m\u001b[0;34m\u001b[0m\u001b[0m\n\u001b[1;32m    480\u001b[0m             \u001b[0mself\u001b[0m\u001b[0;34m.\u001b[0m\u001b[0mplot_kkr_dos\u001b[0m\u001b[0;34m(\u001b[0m\u001b[0mnode\u001b[0m\u001b[0;34m,\u001b[0m \u001b[0;34m**\u001b[0m\u001b[0mkwargs\u001b[0m\u001b[0;34m)\u001b[0m\u001b[0;34m\u001b[0m\u001b[0;34m\u001b[0m\u001b[0m\n",
      "\u001b[0;31mAttributeError\u001b[0m: 'Code' object has no attribute 'process_label'"
     ]
    }
   ],
   "source": [
    "plot_kkr(load_node(232), struc= True, silent= True)"
   ]
  },
  {
   "cell_type": "code",
   "execution_count": null,
   "id": "3f30af34",
   "metadata": {},
   "outputs": [],
   "source": []
  },
  {
   "cell_type": "code",
   "execution_count": 114,
   "id": "1ff5968d",
   "metadata": {},
   "outputs": [
    {
     "data": {
      "text/plain": [
       "0.732977"
      ]
     },
     "execution_count": 114,
     "metadata": {},
     "output_type": "execute_result"
    }
   ],
   "source": [
    "group_3_vs_3 = load_group(102)\n",
    "node_3_3_list = list(group_3_vs_3.nodes)\n",
    "node_1 = node_3_3_list[0]\n",
    "node_1.outputs.last_calc_output_parameters.get_dict()['magnetism_group']['total_spin_moment'] #0.4991457961, "
   ]
  },
  {
   "cell_type": "code",
   "execution_count": 116,
   "id": "7446abf9",
   "metadata": {},
   "outputs": [
    {
     "data": {
      "text/plain": [
       "('Sc', 'Ti')"
      ]
     },
     "execution_count": 116,
     "metadata": {},
     "output_type": "execute_result"
    }
   ],
   "source": [
    "node_1.label.split(':')[0], node_1.label.split(':')[1] "
   ]
  },
  {
   "cell_type": "code",
   "execution_count": 35,
   "id": "23feec94",
   "metadata": {},
   "outputs": [],
   "source": [
    "group = load_group(105)\n",
    "group_nodes = list(group.nodes)\n",
    "couple_list = []\n",
    "uncoupled_list= []\n",
    "i=0\n",
    "for node1 in group_nodes[:]:\n",
    "    for node2 in group_nodes[:]:\n",
    "        i += 1\n",
    "        imp1_node1, imp2_node1 = node1.label.split(':')[0], node1.label.split(':')[1]\n",
    "        imp1_node2, imp2_node2 = node2.label.split(':')[0], node2.label.split(':')[1]\n",
    "        if imp1_node1 == imp2_node2:\n",
    "            if imp2_node1 == imp1_node2:\n",
    "#                 print(f'Couple combination : {node1.label} & {node2.label}')\n",
    "                couple_list.append(node1)\n",
    "                couple_list.append(node2)\n",
    "                \n",
    "    if node1 not in couple_list:\n",
    "        if node1 not in uncoupled_list:\n",
    "            uncoupled_list.append(node1)\n",
    "#             print(f'Not Couple combination  available : {node1.label}, pk : {node1.pk}')\n",
    "\n",
    "# uncoupled_list"
   ]
  },
  {
   "cell_type": "code",
   "execution_count": null,
   "id": "e5f7436c",
   "metadata": {},
   "outputs": [],
   "source": []
  },
  {
   "cell_type": "code",
   "execution_count": 94,
   "id": "54f457bd",
   "metadata": {},
   "outputs": [
    {
     "data": {
      "text/plain": [
       "<WorkChainNode: uuid: 6916481b-0354-4bdc-962f-90a2aeb03f28 (pk: 44658) (aiida_kkr.workflows._combine_imps.combine_imps_wc)>"
      ]
     },
     "execution_count": 94,
     "metadata": {},
     "output_type": "execute_result"
    }
   ],
   "source": [
    "group_102_labels.index('Co:Y:Bi2Te3_il_3_il_3')\n",
    "group_102.nodes[152]"
   ]
  },
  {
   "cell_type": "code",
   "execution_count": 32,
   "id": "dbb110fe",
   "metadata": {},
   "outputs": [
    {
     "data": {
      "image/png": "[encoded data removed]",
      "text/plain": [
       "<Figure size 1008x1008 with 2 Axes>"
      ]
     },
     "metadata": {
      "needs_background": "light"
     },
     "output_type": "display_data"
    }
   ],
   "source": [
    "import matplotlib.pyplot as plt\n",
    "import matplotlib.colors\n",
    "import numpy as np\n",
    "\n",
    "x = np.linspace(0, 10, 100)\n",
    "y = np.random.randint(0, 50, size=100)\n",
    "z = np.random.rand(100)*10\n",
    "plt.figure(figsize=(14,14))\n",
    "\n",
    "## This part from the online resources ---------------\n",
    "# bounds = [-10,1,3,10]\n",
    "# colors = [\"r\", \"b\", \"g\"]\n",
    "# cmap = matplotlib.colors.ListedColormap(colors)\n",
    "# norm = matplotlib.colors.BoundaryNorm(bounds, len(colors))\n",
    "## ---------------------------------------------------\n",
    "\n",
    "viridis= plt.cm.get_cmap('viridis',256)\n",
    "color= viridis(np.linspace(0,1, 3))\n",
    "\n",
    "cmap= mpl.colors.ListedColormap(color)\n",
    "rect = plt.scatter(x, y, s = 1000, c=z, cmap=cmap)#, norm=norm)\n",
    "cbar = plt.colorbar(rect, spacing=\"proportional\")\n",
    "cbar.set_label('Color', rotation=270, labelpad=10)\n",
    "\n",
    "# for i, txt in enumerate(z):\n",
    "#     plt.annotate(np.around(txt, 1), (x[i], y[i]))'\n",
    "plt.show()\n"
   ]
  },
  {
   "cell_type": "code",
   "execution_count": 104,
   "id": "c16881f3",
   "metadata": {},
   "outputs": [
    {
     "data": {
      "text/plain": [
       "{'sealed': True,\n",
       " 'version': {'core': '1.5.2', 'plugin': '1.1.11-dev4'},\n",
       " 'exception': \"AttributeError: 'ExitCode' object has no attribute 'process_class'\\n\",\n",
       " 'process_label': 'combine_imps_wc',\n",
       " 'process_state': 'excepted',\n",
       " 'stepper_state_info': 'None'}"
      ]
     },
     "execution_count": 104,
     "metadata": {},
     "output_type": "execute_result"
    }
   ],
   "source": [
    "node_102283= load_node(102283)\n",
    "node_102283.attributes"
   ]
  },
  {
   "cell_type": "code",
   "execution_count": 4,
   "id": "6cec8177",
   "metadata": {},
   "outputs": [
    {
     "data": {
      "image/png": "[encoded data removed]",
      "text/plain": [
       "<Figure size 432x288 with 1 Axes>"
      ]
     },
     "metadata": {},
     "output_type": "display_data"
    }
   ],
   "source": [
    "with plt.style.context('ggplot'):\n",
    "    plt.plot(np.sin(np.linspace(0, 2 * np.pi)), 'r-o')\n",
    "plt.show()"
   ]
  },
  {
   "cell_type": "code",
   "execution_count": 90,
   "id": "502e7492",
   "metadata": {},
   "outputs": [],
   "source": [
    "help_node1= load_node(24887)#combin\n",
    "help_node2= load_node(24908)#sub_wc\n",
    "help_node3= load_node(24920)#kkrcalc\n",
    "help_node4= load_node(102422)\n",
    "help_node5= load_node(102866)## 102596,102808 # failed parse_Jij: 102971\n",
    "help_node6= load_node(16336)#sing kkr_imp_sub\n",
    "def func(impurity1_output_node):\n",
    "    try:\n",
    "        imp1_z = impurity1_output_node.get_incoming(node_class=kkr_imp_wc).first().node.inputs.impurity_info.get_dict()['Zimp']\n",
    "    except AttributeError:\n",
    "        try:\n",
    "            impurity1_output_node_combine = impurity1_output_node.get_incoming(node_class=combine_imps_wc).first().node#.get_outgoing(node_class=kkr_imp_sub_wc).first().node.inputs.impurity_info.get_dict()['Zimp']\n",
    "            imp1_z = impurity1_output_node_combine.get_outgoing(node_class=kkr_imp_sub_wc).first().node.inputs.impurity_info.get_dict()['Zimp']\n",
    "        except AttributeError:\n",
    "            try:\n",
    "                imp1_z = impurity1_output_node.get_incoming(node_class=kkr_imp_sub_wc).first().node.inputs.impurity_info.get_dict()['Zimp']\n",
    "            except AttributeError:\n",
    "                    imp1_z = impurity1_output_node.get_incoming(node_class=KkrimpCalculation).first().node.inputs.impurity_info.get_dict()['Zimp']\n",
    "    return imp1_z"
   ]
  },
  {
   "cell_type": "code",
   "execution_count": 311,
   "id": "898fc64a",
   "metadata": {},
   "outputs": [
    {
     "name": "stdout",
     "output_type": "stream",
     "text": [
      "Nb:Ru:Bi2Te3_il_3_3_Off_1\n"
     ]
    }
   ],
   "source": [
    "test_group= load_group(102)\n",
    "specific_label= 'Nb:Ru:Bi2Te3_il_3_3_Off_1'\n",
    "only_one= 2\n",
    "i= 0\n",
    "for node in test_group.nodes:\n",
    "   # total_spin= node.outputs.last_calc_output_parameters.get_dict()['magnetism_group']# JijInfo.get_dict()# last_calc_output_parameters.get_dict()['magnetism_group']['total_spin_moment']\n",
    "    if node.label!= specific_label:\n",
    "        continue\n",
    "    if i<only_one:\n",
    "        Jij_dict= node.outputs.JijInfo.get_dict()\n",
    "#        Jij_data= node.outputs.JijData.get_array(Jij_Data)\n",
    "        last_calc_data= node.outputs.last_calc_output_parameters.get_dict()\n",
    "        print(node.label)\n",
    "        #print(f\"node abel: {node.label}, wc_pk: {node.pk} total_spin_momentum: {total_spin}\")\n",
    "        i += 1"
   ]
  },
  {
   "cell_type": "code",
   "execution_count": 312,
   "id": "61e8403c",
   "metadata": {},
   "outputs": [
    {
     "data": {
      "text/plain": [
       "{'text': 'Output Jij values between V impurities:\\ni   j     Jij (meV)       Dij(meV)        D/J\\n-----------------------------------------------\\n  0  15     1.70999e+00     3.35761e-01     1.96352e-01\\n 15   0     1.70999e+00     3.35761e-01     1.96352e-01\\n'}"
      ]
     },
     "execution_count": 312,
     "metadata": {},
     "output_type": "execute_result"
    }
   ],
   "source": [
    "Jij_dict"
   ]
  },
  {
   "cell_type": "code",
   "execution_count": 339,
   "id": "79b1a7ab",
   "metadata": {},
   "outputs": [],
   "source": [
    "node_59265= load_node(59265)\n",
    "kkrcalc= node_59265.get_outgoing(node_class=kkr_flex_wc).all()[0].node.get_outgoing(node_class= KkrCalculation).all()[0].node\n",
    "dd= kkrcalc.outputs.output_parameters.get_dict()\n",
    "#dd#.nspin"
   ]
  },
  {
   "cell_type": "code",
   "execution_count": 314,
   "id": "23fb4e51",
   "metadata": {},
   "outputs": [],
   "source": [
    "limt_max= 5.3\n",
    "linspace_bin= 20\n",
    "bounds= np.linspace(limt_max*-1, limt_max, linspace_bin*2 )"
   ]
  },
  {
   "cell_type": "code",
   "execution_count": 264,
   "id": "8bc162e9",
   "metadata": {},
   "outputs": [],
   "source": [
    "bounds = np.linspace(-1.5, 1.5, 256)"
   ]
  },
  {
   "cell_type": "code",
   "execution_count": 276,
   "id": "68d961e7",
   "metadata": {},
   "outputs": [],
   "source": []
  },
  {
   "cell_type": "code",
   "execution_count": 301,
   "id": "207f085d",
   "metadata": {},
   "outputs": [
    {
     "ename": "RuntimeError",
     "evalue": "You must first define an image, e.g., with imshow",
     "output_type": "error",
     "traceback": [
      "\u001b[0;31m---------------------------------------------------------------------------\u001b[0m",
      "\u001b[0;31mRuntimeError\u001b[0m                              Traceback (most recent call last)",
      "\u001b[0;32m<ipython-input-301-423d58c014ed>\u001b[0m in \u001b[0;36m<module>\u001b[0;34m\u001b[0m\n\u001b[1;32m      2\u001b[0m \u001b[0;34m\u001b[0m\u001b[0m\n\u001b[1;32m      3\u001b[0m \u001b[0;34m\u001b[0m\u001b[0m\n\u001b[0;32m----> 4\u001b[0;31m \u001b[0mplt\u001b[0m\u001b[0;34m.\u001b[0m\u001b[0mclim\u001b[0m\u001b[0;34m(\u001b[0m\u001b[0;34m-\u001b[0m\u001b[0;36m1\u001b[0m\u001b[0;34m,\u001b[0m \u001b[0;36m1\u001b[0m\u001b[0;34m)\u001b[0m\u001b[0;34m\u001b[0m\u001b[0;34m\u001b[0m\u001b[0m\n\u001b[0m",
      "\u001b[0;32m/usr/local/lib/python3.8/dist-packages/matplotlib/pyplot.py\u001b[0m in \u001b[0;36mclim\u001b[0;34m(vmin, vmax)\u001b[0m\n\u001b[1;32m   2213\u001b[0m     \u001b[0mim\u001b[0m \u001b[0;34m=\u001b[0m \u001b[0mgci\u001b[0m\u001b[0;34m(\u001b[0m\u001b[0;34m)\u001b[0m\u001b[0;34m\u001b[0m\u001b[0;34m\u001b[0m\u001b[0m\n\u001b[1;32m   2214\u001b[0m     \u001b[0;32mif\u001b[0m \u001b[0mim\u001b[0m \u001b[0;32mis\u001b[0m \u001b[0;32mNone\u001b[0m\u001b[0;34m:\u001b[0m\u001b[0;34m\u001b[0m\u001b[0;34m\u001b[0m\u001b[0m\n\u001b[0;32m-> 2215\u001b[0;31m         \u001b[0;32mraise\u001b[0m \u001b[0mRuntimeError\u001b[0m\u001b[0;34m(\u001b[0m\u001b[0;34m'You must first define an image, e.g., with imshow'\u001b[0m\u001b[0;34m)\u001b[0m\u001b[0;34m\u001b[0m\u001b[0;34m\u001b[0m\u001b[0m\n\u001b[0m\u001b[1;32m   2216\u001b[0m \u001b[0;34m\u001b[0m\u001b[0m\n\u001b[1;32m   2217\u001b[0m     \u001b[0mim\u001b[0m\u001b[0;34m.\u001b[0m\u001b[0mset_clim\u001b[0m\u001b[0;34m(\u001b[0m\u001b[0mvmin\u001b[0m\u001b[0;34m,\u001b[0m \u001b[0mvmax\u001b[0m\u001b[0;34m)\u001b[0m\u001b[0;34m\u001b[0m\u001b[0;34m\u001b[0m\u001b[0m\n",
      "\u001b[0;31mRuntimeError\u001b[0m: You must first define an image, e.g., with imshow"
     ]
    },
    {
     "data": {
      "text/plain": [
       "<Figure size 432x288 with 0 Axes>"
      ]
     },
     "metadata": {},
     "output_type": "display_data"
    }
   ],
   "source": [
    "import matplotlib.pyplot as plt\n",
    "\n",
    "\n",
    "plt.c"
   ]
  },
  {
   "cell_type": "code",
   "execution_count": 336,
   "id": "344e36a3",
   "metadata": {},
   "outputs": [
    {
     "name": "stdout",
     "output_type": "stream",
     "text": [
      "pk, uuid: 104958 59d5d1ae-5a91-415a-9510-04710dd8089f\n",
      "type: <class 'aiida.orm.nodes.process.workflow.workchain.WorkChainNode'>\n",
      "label: DOS Calc for Bi2Te3 host\n",
      "description: \n",
      "process type: aiida.workflows:kkr.dos\n",
      "state: ProcessState.FINISHED\n",
      "\n",
      "inputs:\n",
      "[<Code: Remote code 'kkr' on claix18_init, pk: 206, uuid: 77705e42-72da-4e0a-b546-5bc7804b9a3b>,\n",
      " <Dict: uuid: ce5c2c75-902c-42e4-bd10-6432c9a5194c (pk: 104956)>,\n",
      " <Dict: uuid: d03069c9-e569-461c-8015-4cb2426d5fd7 (pk: 104957)>,\n",
      " <RemoteData: uuid: cb5982ed-9a4b-47e6-920c-254f29ee2624 (pk: 246)>]\n",
      "\n",
      "outputs:\n",
      "[<CalcFunctionNode: uuid: ee398118-1544-4b9b-8ca8-d346880a3c4c (pk: 104960) (aiida_kkr.tools.common_workfunctions.update_params_wf)>,\n",
      " <CalcJobNode: uuid: 62eb24d8-1c81-418e-97d1-2ba8f491d6fe (pk: 104963) (aiida.calculations:kkr.kkr)>,\n",
      " <CalcFunctionNode: uuid: ad020298-a616-4c3d-97b1-c7c26d12dbe8 (pk: 104967) (aiida_kkr.workflows.dos.parse_dosfiles)>,\n",
      " <CalcFunctionNode: uuid: 12e6024c-3d5e-4d90-b234-8055fec6e1ab (pk: 104971) (aiida_kkr.tools.save_output_nodes.create_out_dict_node)>,\n",
      " <XyData: uuid: 22b62eb0-fd3d-4297-beb7-4bdcd239e4b5 (pk: 104968)>,\n",
      " <XyData: uuid: 30454976-93ec-4835-926a-bd6eb4d7acfc (pk: 104969)>,\n",
      " <Dict: uuid: 3b2e0dd9-f959-479f-afad-90a4091389d0 (pk: 104972)>]\n",
      "\n",
      "exit status: 0 (None)\n",
      "\n"
     ]
    },
    {
     "data": {
      "image/png": "[encoded data removed]",
      "text/plain": [
       "<Figure size 432x288 with 1 Axes>"
      ]
     },
     "metadata": {
      "needs_background": "light"
     },
     "output_type": "display_data"
    },
    {
     "data": {
      "text/plain": [
       "<aiida_kkr.tools.plot_kkr.plot_kkr at 0x7f273548e1f0>"
      ]
     },
     "execution_count": 336,
     "metadata": {},
     "output_type": "execute_result"
    }
   ],
   "source": [
    "plot_kkr(load_node(104958),l_channels=False, sum_spins=True, )"
   ]
  },
  {
   "cell_type": "code",
   "execution_count": 8,
   "id": "7837b0d7",
   "metadata": {},
   "outputs": [
    {
     "name": "stdout",
     "output_type": "stream",
     "text": [
      "3d_4d_dope_Bi2Te3_il_3:il_3_offset_1\n"
     ]
    },
    {
     "data": {
      "text/plain": [
       "{'text': 'Output Jij values between V impurities:\\ni   j     Jij (meV)       Dij(meV)        D/J\\n-----------------------------------------------\\n  0  15     8.25090e-02     8.91723e-03     1.08076e-01\\n 15   0     8.25090e-02     8.91723e-03     1.08076e-01\\n'}"
      ]
     },
     "execution_count": 8,
     "metadata": {},
     "output_type": "execute_result"
    }
   ],
   "source": [
    "group_102 = load_group(102)\n",
    "nodes = list(group_102.nodes)\n",
    "print(group_102.label)\n",
    "\n",
    "first_node = group_102.nodes[5]\n",
    "first_node.outputs.JijInfo.get_dict()\n"
   ]
  },
  {
   "cell_type": "code",
   "execution_count": null,
   "id": "7176b387",
   "metadata": {},
   "outputs": [],
   "source": []
  },
  {
   "cell_type": "code",
   "execution_count": 9,
   "id": "fc649433",
   "metadata": {},
   "outputs": [
    {
     "data": {
      "text/html": [
       "<div>\n",
       "<style scoped>\n",
       "    .dataframe tbody tr th:only-of-type {\n",
       "        vertical-align: middle;\n",
       "    }\n",
       "\n",
       "    .dataframe tbody tr th {\n",
       "        vertical-align: top;\n",
       "    }\n",
       "\n",
       "    .dataframe thead th {\n",
       "        text-align: right;\n",
       "    }\n",
       "</style>\n",
       "<table border=\"1\" class=\"dataframe\">\n",
       "  <thead>\n",
       "    <tr style=\"text-align: right;\">\n",
       "      <th></th>\n",
       "      <th>imp0</th>\n",
       "      <th>offset0</th>\n",
       "      <th>ilayer0</th>\n",
       "      <th>imp1</th>\n",
       "      <th>offset1</th>\n",
       "      <th>ilayer1</th>\n",
       "      <th>i</th>\n",
       "      <th>j</th>\n",
       "      <th>Z_i</th>\n",
       "      <th>Z_j</th>\n",
       "      <th>...</th>\n",
       "      <th>Dx</th>\n",
       "      <th>Dy</th>\n",
       "      <th>Dz</th>\n",
       "      <th>rx</th>\n",
       "      <th>ry</th>\n",
       "      <th>rz</th>\n",
       "      <th>r</th>\n",
       "      <th>mom1</th>\n",
       "      <th>mom2</th>\n",
       "      <th>tot_mom</th>\n",
       "    </tr>\n",
       "  </thead>\n",
       "  <tbody>\n",
       "    <tr>\n",
       "      <th>0</th>\n",
       "      <td>46</td>\n",
       "      <td>0</td>\n",
       "      <td>3</td>\n",
       "      <td>27</td>\n",
       "      <td>1</td>\n",
       "      <td>3</td>\n",
       "      <td>0</td>\n",
       "      <td>1</td>\n",
       "      <td>46</td>\n",
       "      <td>27</td>\n",
       "      <td>...</td>\n",
       "      <td>0.025576</td>\n",
       "      <td>0.018454</td>\n",
       "      <td>0.074785</td>\n",
       "      <td>-0.418515</td>\n",
       "      <td>0.0</td>\n",
       "      <td>0.0</td>\n",
       "      <td>0.418515</td>\n",
       "      <td>-0.013379</td>\n",
       "      <td>2.104327</td>\n",
       "      <td>2.090948</td>\n",
       "    </tr>\n",
       "  </tbody>\n",
       "</table>\n",
       "<p>1 rows × 22 columns</p>\n",
       "</div>"
      ],
      "text/plain": [
       "   imp0  offset0  ilayer0  imp1  offset1  ilayer1  i  j  Z_i  Z_j  ...  \\\n",
       "0    46        0        3    27        1        3  0  1   46   27  ...   \n",
       "\n",
       "         Dx        Dy        Dz        rx   ry   rz         r      mom1  \\\n",
       "0  0.025576  0.018454  0.074785 -0.418515  0.0  0.0  0.418515 -0.013379   \n",
       "\n",
       "       mom2   tot_mom  \n",
       "0  2.104327  2.090948  \n",
       "\n",
       "[1 rows x 22 columns]"
      ]
     },
     "execution_count": 9,
     "metadata": {},
     "output_type": "execute_result"
    }
   ],
   "source": [
    "import pandas as pd\n",
    "from ImpurityDataExtraction.ImpData import MultiImpuritiesData\n",
    "\n",
    "multiimpdata = MultiImpuritiesData(nodes[-1])\n",
    "#multiimpdata.ExtractDataMultipleNode(node_list= [nodes[-1]])\n",
    "\n",
    "multiimpdatadict = multiimpdata.GetDataDict()\n",
    "pd.DataFrame(multiimpdatadict)\n",
    "#print(multimpdata)"
   ]
  },
  {
   "cell_type": "code",
   "execution_count": 191,
   "id": "f21907eb",
   "metadata": {},
   "outputs": [
    {
     "data": {
      "text/plain": [
       "{'Zimps': [], 'ilayers': [], 'offset_imps': [0, 1]}"
      ]
     },
     "execution_count": 191,
     "metadata": {},
     "output_type": "execute_result"
    }
   ],
   "source": [
    "#single_node.outputs.last_calc_output_parameters.get_dict()\n",
    "imps_info_in_exact_cluster = {'Zimps':[], 'ilayers':[], \n",
    "                                      'offset_imps': [0]} \n",
    "imps_info_in_exact_cluster['offset_imps'].append(1)\n",
    "imps_info_in_exact_cluster"
   ]
  },
  {
   "cell_type": "code",
   "execution_count": 192,
   "id": "8e90e6fe",
   "metadata": {},
   "outputs": [
    {
     "data": {
      "text/plain": [
       "1"
      ]
     },
     "execution_count": 192,
     "metadata": {},
     "output_type": "execute_result"
    }
   ],
   "source": [
    "single_node.inputs.offset_imp2.get_dict().get('index')"
   ]
  },
  {
   "cell_type": "code",
   "execution_count": 314,
   "id": "8bfb44ae",
   "metadata": {},
   "outputs": [],
   "source": [
    "zimp_index_cluster = [ind for ind, cluster_atom_info in \n",
    "                              enumerate(imp_cls) if cluster_atom_info[-2] in zimp]"
   ]
  },
  {
   "cell_type": "code",
   "execution_count": 8,
   "id": "7e0850da",
   "metadata": {},
   "outputs": [],
   "source": [
    "#imp_info\n",
    "node_24887 = load_node(24887)\n",
    "#node_24887.outputs.workflow_info.get_dict()"
   ]
  },
  {
   "cell_type": "code",
   "execution_count": 273,
   "id": "06a6e728",
   "metadata": {},
   "outputs": [],
   "source": [
    "output_parameters = single_node.outputs.last_calc_output_parameters.get_dict()\n",
    "#(output_parameters['magnetism_group'])"
   ]
  },
  {
   "cell_type": "code",
   "execution_count": null,
   "id": "c2fd0459",
   "metadata": {},
   "outputs": [],
   "source": []
  },
  {
   "cell_type": "code",
   "execution_count": 170,
   "id": "566fb32a",
   "metadata": {},
   "outputs": [],
   "source": [
    "text = single_node.outputs.JijInfo.get_dict()['text']\n",
    "jij_info_arr = [[float(data.strip()) for data in dataline.split(' ') if data != ''] for dataline\n",
    "                        in text.split('\\n')[3:-1]]\n",
    "jij_info_arr\n",
    "jij_index_pair = [[data[0], data[1]] for data in jij_info_arr]"
   ]
  },
  {
   "cell_type": "code",
   "execution_count": 173,
   "id": "203894db",
   "metadata": {},
   "outputs": [
    {
     "data": {
      "text/plain": [
       "0"
      ]
     },
     "execution_count": 173,
     "metadata": {},
     "output_type": "execute_result"
    }
   ],
   "source": [
    "jij_index_pair.index([float(0), float(15)])"
   ]
  },
  {
   "cell_type": "code",
   "execution_count": null,
   "id": "f381f898",
   "metadata": {},
   "outputs": [],
   "source": []
  },
  {
   "cell_type": "code",
   "execution_count": null,
   "id": "52e25feb",
   "metadata": {},
   "outputs": [],
   "source": []
  }
 ],
 "metadata": {
  "kernelspec": {
   "display_name": "AiiDA",
   "language": "python",
   "name": "aiida"
  },
  "language_info": {
   "codemirror_mode": {
    "name": "ipython",
    "version": 3
   },
   "file_extension": ".py",
   "mimetype": "text/x-python",
   "name": "python",
   "nbconvert_exporter": "python",
   "pygments_lexer": "ipython3",
   "version": "3.8.10"
  }
 },
 "nbformat": 4,
 "nbformat_minor": 5
}
