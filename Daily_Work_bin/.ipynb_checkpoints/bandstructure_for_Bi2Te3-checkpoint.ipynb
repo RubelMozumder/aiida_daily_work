{
 "cells": [
  {
   "cell_type": "code",
<<<<<<< HEAD
   "execution_count": 31,
   "id": "explicit-garage",
=======
   "execution_count": 1,
   "id": "crazy-weapon",
>>>>>>> daily_commit
   "metadata": {},
   "outputs": [
    {
     "name": "stdout",
     "output_type": "stream",
     "text": [
      "profil name: default\n"
     ]
    }
   ],
   "source": [
    "# Load the aiida profile\n",
    "from aiida import load_profile\n",
    "aiida_profile = load_profile()\n",
    "print(f'profil name: {aiida_profile.name}')\n",
    "\n",
    "## Loading the some require packages and module\n",
    "from aiida_kkr.workflows import ( kkr_flex_wc, kkr_bs_wc,\n",
    "                                 kkr_imp_wc, kkr_imp_sub_wc\n",
    "                                )\n",
    "from aiida_kkr.calculations import KkrCalculation, KkrimpCalculation\n",
    "from aiida.orm import (Group, load_group, load_node, Dict, Code, QueryBuilder, WorkChainNode\n",
    "                       , CalcJobNode, StructureData, KpointsData)\n",
    "from aiida.transports import transport\n",
    "from aiida_kkr.tools import kkrparams, find_parent_structure\n",
    "from aiida.engine import submit\n",
    "\n",
    "from aiida.tools.data.array.kpoints import get_explicit_kpoints_path"
   ]
  },
  {
   "cell_type": "code",
<<<<<<< HEAD
   "execution_count": 32,
   "id": "noticed-visibility",
=======
   "execution_count": 2,
   "id": "opposite-australia",
>>>>>>> daily_commit
   "metadata": {},
   "outputs": [],
   "source": [
    "import numpy as np"
   ]
  },
  {
   "cell_type": "code",
<<<<<<< HEAD
   "execution_count": 33,
   "id": "labeled-headset",
=======
   "execution_count": 3,
   "id": "resistant-nebraska",
>>>>>>> daily_commit
   "metadata": {},
   "outputs": [],
   "source": [
    "# One very frequently used option\n",
    "metadata_option_1 = {'max_wallclock_seconds': 36000,'resources': \n",
    "               {'tot_num_mpiprocs': 48, 'num_machines': 1},\n",
    "              'custom_scheduler_commands': \n",
    "              '#SBATCH --account=jara0191\\n\\nulimit -s unlimited; export OMP_STACKSIZE=2g',\n",
    "              'withmpi': True\n",
    "                    }\n",
    "oscar_matadata = {'max_wallclock_seconds': 8*60*60,\n",
    "                  'resources':{'tot_num_mpiprocs': 12, \n",
    "                  'num_machines': 4},\n",
    "                  'custom_scheduler_commands': '#SBATCH -p oscar --nodes=1 --ntasks=12\\n\\nulimit -s unlimited; export OMP_STACKSIZE=2g',\n",
    "                  'withmpi':True\n",
    "                 }\n",
    "\n",
    "oscar_matadata = {'withmpi': True,\n",
    "         'resources': {'num_machines': 1, 'tot_num_mpiprocs': 12},\n",
    "         'queue_name': 'oscar',\n",
    "         'max_wallclock_seconds': 86400}\n",
    "\n",
    "voro_code = Code.get_from_string('voro@claix18_init')\n",
    "kkr_code = Code.get_from_string('kkr@claix18_init')\n",
    "kkrimp_code = Code.get_from_string('kkrflex@claix18_init')\n",
    "iffslurm_voro = Code.get_from_string('voro@iffslurm')\n",
    "iffslurm_kkr= Code.get_from_string('kkr@iffslurm')\n",
    "iffslurm_kkrimp= Code.get_from_string('kkrflex@iffslurm')"
   ]
  },
  {
   "cell_type": "code",
<<<<<<< HEAD
   "execution_count": 4,
   "id": "worthy-investment",
=======
   "execution_count": 34,
   "id": "french-celebration",
>>>>>>> daily_commit
   "metadata": {},
   "outputs": [],
   "source": [
    "#Some kpints collectionn:\n",
    "# 1D kpoints k_x\n",
    "k=[]\n",
    "for i in np.arange(-0.1, 0.1, 0.2/500):\n",
    "#    print(i)\n",
    "    k.append([i,0,0])\n",
    "kpt_x= KpointsData()\n",
    "kpt_x.set_cell([[1,0,0], [0,1,0], [0,0,1]])\n",
    "kpt_x_arr= np.array(k)\n",
    "\n",
    "random_min = 1\n",
    "index=0\n",
    "for i in range(np.shape(kpt_x_arr)[0]):\n",
    "    abs_val= np.sqrt(sum([i**2 for i in kpt_x_arr[i,:]]))\n",
    "    if random_min>abs_val:\n",
    "        random_min= abs_val\n",
    "        index= i\n",
    "        vec= kpt_x_arr[i,:]\n",
<<<<<<< HEAD
    "kpt_x.set_kpoints(k, labels=[(index,'GAMMA')])\n"
=======
    "kpt_x.set_kpoints(k, labels=[(500,'GAMMA')])\n"
>>>>>>> daily_commit
   ]
  },
  {
   "cell_type": "code",
<<<<<<< HEAD
   "execution_count": null,
   "id": "supposed-romantic",
   "metadata": {},
   "outputs": [],
=======
   "execution_count": 35,
   "id": "electrical-confidence",
   "metadata": {},
   "outputs": [
    {
     "data": {
      "text/plain": [
       "[(500, 'GAMMA')]"
      ]
     },
     "execution_count": 35,
     "metadata": {},
     "output_type": "execute_result"
    }
   ],
>>>>>>> daily_commit
   "source": []
  },
  {
   "cell_type": "code",
<<<<<<< HEAD
   "execution_count": null,
   "id": "functioning-michael",
=======
   "execution_count": 33,
   "id": "injured-mount",
   "metadata": {},
   "outputs": [
    {
     "name": "stdout",
     "output_type": "stream",
     "text": [
      "500\n",
      "[5.71764858e-15 0.00000000e+00 0.00000000e+00]\n"
     ]
    }
   ],
   "source": []
  },
  {
   "cell_type": "code",
   "execution_count": 36,
   "id": "dutch-jerusalem",
>>>>>>> daily_commit
   "metadata": {},
   "outputs": [],
   "source": []
  },
  {
   "cell_type": "code",
   "execution_count": 72,
   "id": "continuous-montreal",
   "metadata": {},
   "outputs": [
    {
     "ename": "SyntaxError",
     "evalue": "invalid syntax (<ipython-input-72-dba0c78f4ea5>, line 23)",
     "output_type": "error",
     "traceback": [
      "\u001b[0;36m  File \u001b[0;32m\"<ipython-input-72-dba0c78f4ea5>\"\u001b[0;36m, line \u001b[0;32m23\u001b[0m\n\u001b[0;31m    label= 'SOCSCL:'+str(format('%.2f',%j))\u001b[0m\n\u001b[0m                                       ^\u001b[0m\n\u001b[0;31mSyntaxError\u001b[0m\u001b[0;31m:\u001b[0m invalid syntax\n"
     ]
    }
   ],
   "source": [
    "## To extract the host calcualtion data for structure node 234\n",
    "Bs_group= load_group(122)\n",
    "finished_labels= [node.label for node in Bs_group.nodes]\n",
    "for j in np.linspace(0.00,1,21):\n",
    "    print(j)\n",
    "    kkr_imp_wc= load_node(16100)\n",
    "    # initial remote data host from the converged host Bi_2Te_3 calculation\n",
    "    RemoteDataHost= kkr_imp_wc.get_incoming(link_label_filter='remote_data_host').all()[0].node \n",
    "    # initial converged calc \n",
    "    calc= RemoteDataHost.get_incoming().all()[0].node\n",
    "    struc= find_parent_structure(calc)\n",
    "    #struc= struc.cell\n",
    "    wf_parameters={\n",
    "        'EMIN':-1.5,\n",
    "        'EMAX': 1.5,\n",
    "        'NPT2': 192,\n",
    "        '<SOCSCL>': [j for i in range(10)]\n",
    "    }\n",
    "    #kpts= get_explicit_kpoints_path(struc).get('explicit_kpoints') # 101056\n",
    "    kpts= kpt_x # del(101074, 101084, 101111, 101118, 101130, 101142, 101174, 101192, 101202, 101212)\n",
    "\n",
<<<<<<< HEAD
    "    # final bs for Bi_2Te_3: 101249\n",
    "    label= 'SOCSCL:'+str(f'{%.2f},%j')\n",
    "    bs_builder= kkr_bs_wc.get_builder()\n",
    "    bs_builder.wf_parameters= Dict(dict=wf_parameters)\n",
    "    bs_builder.kkr= kkr_code\n",
    "    bs_builder.remote_data= RemoteDataHost\n",
    "    bs_builder.options= Dict(dict=metadata_option_1)\n",
    "    bs_builder.kpoints= kpts\n",
    "    bs_builder.metadata.label= label\n",
    "    if label in finished_labels:\n",
    "        print(f'label: {label} is already exist in group 122')\n",
    "        continue\n",
    "    print(f'label: {label} is not found in the group 122 and the bs of the same is begin launched')\n",
    "#    bs_calc= submit(bs_builder)\n",
    "#    Bs_group.add_nodes(bs_calc)\n",
    "\n",
    "    \n"
=======
    "kkr_imp_wc= load_node(16100)\n",
    "# initial remote data host from the converged host Bi_2Te_3 calculation\n",
    "RemoteDataHost= kkr_imp_wc.get_incoming(link_label_filter='remote_data_host').all()[0].node \n",
    "# initial converged calc \n",
    "calc= RemoteDataHost.get_incoming().all()[0].node\n",
    "struc= find_parent_structure(calc)\n",
    "#struc= struc.cell\n",
    "wf_parameters={\n",
    "     'EMIN':-2,\n",
    "    'EMAX': 2,\n",
    "    'NPT2': 96,\n",
    "    '<SOCSCL>': [0.0 for i in range(10)]\n",
    "}\n",
    "\n",
    "#kpts= get_explicit_kpoints_path(struc).get('explicit_kpoints') # 101056\n",
    "kpts= kpt_x # del(101074, 101084, 101111, 101118, 101130, 101142)\n",
    "\n",
    "bs_builder= kkr_bs_wc.get_builder()\n",
    "bs_builder.wf_parameters= Dict(dict=wf_parameters)\n",
    "bs_builder.kkr= kkr_code\n",
    "bs_builder.remote_data= RemoteDataHost\n",
    "bs_builder.options= Dict(dict=metadata_option_1)\n",
    "bs_builder.kpoints= kpts\n",
    "\n",
    "#bs_calc= submit(bs_builder)\n"
>>>>>>> daily_commit
   ]
  },
  {
   "cell_type": "code",
<<<<<<< HEAD
   "execution_count": 64,
   "id": "dental-lawsuit",
   "metadata": {},
   "outputs": [
    {
     "data": {
=======
   "execution_count": 8,
   "id": "aggressive-douglas",
   "metadata": {},
   "outputs": [],
   "source": [
    "kpts= get_explicit_kpoints_path(struc).get('explicit_kpoints') # 101056\n"
   ]
  },
  {
   "cell_type": "code",
   "execution_count": 17,
   "id": "seeing-poker",
   "metadata": {},
   "outputs": [
    {
     "ename": "SyntaxError",
     "evalue": "invalid syntax (<ipython-input-17-279577d3265d>, line 1)",
     "output_type": "error",
     "traceback": [
      "\u001b[0;36m  File \u001b[0;32m\"<ipython-input-17-279577d3265d>\"\u001b[0;36m, line \u001b[0;32m1\u001b[0m\n\u001b[0;31m    np.where([[{>5}, False], [True, True]],\u001b[0m\n\u001b[0m                ^\u001b[0m\n\u001b[0;31mSyntaxError\u001b[0m\u001b[0;31m:\u001b[0m invalid syntax\n"
     ]
    }
   ],
   "source": []
  },
  {
   "cell_type": "code",
   "execution_count": 10,
   "id": "shared-artwork",
   "metadata": {},
   "outputs": [
    {
     "data": {
      "text/plain": [
       "[(0, 'GAMMA'),\n",
       " (11, 'T'),\n",
       " (47, 'H_2'),\n",
       " (48, 'H_0'),\n",
       " (67, 'L'),\n",
       " (99, 'GAMMA'),\n",
       " (136, 'S_0'),\n",
       " (137, 'S_2'),\n",
       " (154, 'F'),\n",
       " (187, 'GAMMA')]"
      ]
     },
     "execution_count": 10,
     "metadata": {},
     "output_type": "execute_result"
    }
   ],
   "source": [
    "kpts.labels\n"
   ]
  },
  {
   "cell_type": "code",
   "execution_count": 153,
   "id": "composed-server",
   "metadata": {},
   "outputs": [
    {
     "name": "stdout",
     "output_type": "stream",
     "text": [
      "pk, uuid: 101084 1b2fb4de-5f19-40c9-94c8-d1bc73459c5d\n",
      "type: <class 'aiida.orm.nodes.process.workflow.workchain.WorkChainNode'>\n",
      "label: \n",
      "description: \n",
      "process type: aiida.workflows:kkr.bs\n",
      "state: ProcessState.FINISHED\n",
      "\n",
      "inputs:\n",
      "[<Dict: uuid: 691ccaef-8f5f-4549-bf45-e3180ee7c991 (pk: 101082)>,\n",
      " <Code: Remote code 'kkr' on claix18_init, pk: 206, uuid: 77705e42-72da-4e0a-b546-5bc7804b9a3b>,\n",
      " <RemoteData: uuid: cb5982ed-9a4b-47e6-920c-254f29ee2624 (pk: 246)>,\n",
      " <Dict: uuid: ffe52da6-21e4-4aef-9765-a6ebb6f433c8 (pk: 101083)>]\n",
      "\n",
      "outputs:\n",
      "[<CalcFunctionNode: uuid: 53a32707-9b43-4052-9bc3-606d4a3e1e90 (pk: 101087) (aiida_kkr.tools.common_workfunctions.update_params_wf)>,\n",
      " <CalcJobNode: uuid: 8d430fb2-43a6-46e2-bf8a-9051cbcb2230 (pk: 101090) (aiida.calculations:kkr.kkr)>,\n",
      " <CalcFunctionNode: uuid: 70e81f25-42ee-40ec-b220-2847fa770312 (pk: 101095) (aiida_kkr.workflows.bs.parse_BS_data)>,\n",
      " <CalcFunctionNode: uuid: 36af39b7-42ef-409b-b710-afdeb5eeeefb (pk: 101098) (aiida_kkr.tools.save_output_nodes.create_out_dict_node)>,\n",
      " <ArrayData: uuid: 20daecaa-2384-4edc-ab36-9d001c496224 (pk: 101096)>,\n",
      " <Dict: uuid: 198d4d30-2efd-49f5-bb4c-aa52dbe88ed7 (pk: 101099)>]\n",
      "\n",
      "exit status: 0 (None)\n",
      "\n"
     ]
    },
    {
     "data": {
      "image/png": "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\n",
>>>>>>> daily_commit
      "text/plain": [
       "['SOCSCL:0.0',\n",
       " 'SOCSCL:0.25',\n",
       " 'SOCSCL:0.5',\n",
       " 'SOCSCL:0.75',\n",
       " 'SOCSCL:1.0',\n",
       " 'SOCSCL:1.25',\n",
       " 'SOCSCL:1.5',\n",
       " 'SOCSCL:1.75',\n",
       " 'SOCSCL:2.0']"
      ]
     },
     "execution_count": 64,
     "metadata": {},
     "output_type": "execute_result"
    }
   ],
   "source": [
    "finished_labels"
   ]
  },
  {
   "cell_type": "code",
   "execution_count": 38,
   "id": "expensive-consistency",
   "metadata": {},
   "outputs": [
    {
     "data": {
      "text/plain": [
<<<<<<< HEAD
       "[(250, 'GAMMA')]"
      ]
     },
     "execution_count": 38,
=======
       "<aiida_kkr.tools.plot_kkr.plot_kkr at 0x7f21dd8ed550>"
      ]
     },
     "execution_count": 153,
>>>>>>> daily_commit
     "metadata": {},
     "output_type": "execute_result"
    }
   ],
   "source": [
    "kpts.labels\n"
   ]
  },
  {
   "cell_type": "code",
   "execution_count": 69,
   "id": "smooth-basement",
   "metadata": {},
   "outputs": [
    {
     "data": {
      "text/plain": [
       "<Figure size 2160x1440 with 0 Axes>"
      ]
     },
     "metadata": {},
     "output_type": "display_data"
    }
   ],
   "source": [
    "bs_group= load_group(122)\n",
    "nodes= bs_group.nodes\n",
    "\n",
    "from aiida_kkr.tools import plot_kkr\n",
<<<<<<< HEAD
    "from matplotlib import pyplot as plt\n",
    "import matplotlib.gridspec as gdspec\n",
    "plt.figure(num= 'bs:Bi_2Te_3', figsize=(30,20))\n",
    "i_num=5\n",
    "j_num=5\n",
    "gdspec.GridSpec(i_num,j_num)\n",
    "for i in range(i_num):\n",
    "    for j in range(j_num):\n",
    "        #plt.subplot2grid((i_num, j_num),(i,j), colspan=4, rowspan=4)\n",
    "       # plot_kkr(nodes[i+j])\n",
    "        plt.show()\n",
    "#bs= load_node(load_group(122))\n",
    "#plot_kkr(bs)"
   ]
  },
  {
   "cell_type": "code",
   "execution_count": 60,
   "id": "animated-designation",
   "metadata": {},
   "outputs": [
    {
     "name": "stdout",
     "output_type": "stream",
     "text": [
      "0.0\n",
      "SOCSCL:0.0\n",
      "0.25\n",
      "SOCSCL:0.25\n",
      "0.5\n",
      "SOCSCL:0.5\n",
      "0.75\n",
      "SOCSCL:0.75\n",
      "1.0\n",
      "SOCSCL:1.0\n",
      "1.25\n",
      "SOCSCL:1.25\n",
      "1.5\n",
      "SOCSCL:1.5\n",
      "1.75\n",
      "SOCSCL:1.75\n",
      "2.0\n",
      "SOCSCL:2.0\n"
     ]
    }
   ],
   "source": [
    "bs_group= load_group(122)\n",
    "nodes= bs_group.nodes\n",
    "for node in nodes:\n",
    "    input_param= node.inputs.wf_parameters.get_dict()\n",
    "    print(input_param['<SOCSCL>'][0])\n",
    "    label= 'SOCSCL:' + str(input_param['<SOCSCL>'][0])\n",
    "    print(node.label)\n",
    "#    node.label=label"
   ]
  },
  {
   "cell_type": "code",
   "execution_count": 50,
   "id": "human-artist",
   "metadata": {},
   "outputs": [],
   "source": [
    "node_101161= load_node(101179)\n",
    "#node_101161.inputs.parameters.get_dict()"
=======
    "bs= load_node(101084)\n",
    "plot_kkr(bs)"
>>>>>>> daily_commit
   ]
  },
  {
   "cell_type": "code",
   "execution_count": 121,
<<<<<<< HEAD
   "id": "hired-peter",
=======
   "id": "moral-nursery",
>>>>>>> daily_commit
   "metadata": {},
   "outputs": [],
   "source": [
    "#KpointsData(kpts)\n",
    "kpts_arry= kpts.get_kpoints()\n",
    "max_xyz= kpts_arry.max(axis=0)/4\n",
    "max_r= np.sqrt(np.sum([i**2 for i in max_xyz[:]]))\n",
    "max_r\n",
    "trimed_kpts= []\n",
    "for i in range(np.shape(kpts_arry)[0]):\n",
    "    if np.sqrt(np.sum([j**2 for j in list(kpts_arry[i,:])])) <= max_r:\n",
    "        trimed_kpts.append(list(kpts_arry[i,:]))"
   ]
  },
  {
   "cell_type": "code",
   "execution_count": null,
<<<<<<< HEAD
   "id": "enclosed-savannah",
=======
   "id": "italian-architecture",
>>>>>>> daily_commit
   "metadata": {},
   "outputs": [],
   "source": []
  },
  {
   "cell_type": "code",
   "execution_count": 122,
<<<<<<< HEAD
   "id": "operating-adelaide",
=======
   "id": "innocent-assumption",
>>>>>>> daily_commit
   "metadata": {},
   "outputs": [
    {
     "data": {
      "text/plain": [
       "[0.22727272727272724, 0.2272727272727272, 0.22727272727272718]"
      ]
     },
     "execution_count": 122,
     "metadata": {},
     "output_type": "execute_result"
    }
   ],
   "source": [
    "list(kpts_arry[5,:])"
   ]
  },
  {
   "cell_type": "code",
<<<<<<< HEAD
   "execution_count": null,
   "id": "seventh-expansion",
=======
   "execution_count": 123,
   "id": "handled-practice",
>>>>>>> daily_commit
   "metadata": {},
   "outputs": [],
   "source": []
  },
  {
   "cell_type": "code",
   "execution_count": 144,
<<<<<<< HEAD
   "id": "interested-appendix",
=======
   "id": "legitimate-navigator",
>>>>>>> daily_commit
   "metadata": {},
   "outputs": [],
   "source": [
    "k=[]\n",
    "for i in np.arange(-0.2, 0.2, 0.4/1000):\n",
    "#    print(i)\n",
    "    k.append([i,0,0])\n",
    "kpt= KpointsData()\n",
    "kpt.set_cell([[1,0,0], [0,1,0], [0,0,1]])\n",
    "kpt.set_kpoints(k)"
   ]
  },
  {
   "cell_type": "code",
<<<<<<< HEAD
   "execution_count": null,
   "id": "regulated-jason",
=======
   "execution_count": 145,
   "id": "worst-conviction",
>>>>>>> daily_commit
   "metadata": {},
   "outputs": [],
   "source": []
  },
  {
   "cell_type": "code",
   "execution_count": null,
<<<<<<< HEAD
   "id": "analyzed-transaction",
=======
   "id": "emerging-display",
>>>>>>> daily_commit
   "metadata": {},
   "outputs": [],
   "source": []
  }
 ],
 "metadata": {
  "kernelspec": {
   "display_name": "AiiDA",
   "language": "python",
   "name": "aiida"
  },
  "language_info": {
   "codemirror_mode": {
    "name": "ipython",
    "version": 3
   },
   "file_extension": ".py",
   "mimetype": "text/x-python",
   "name": "python",
   "nbconvert_exporter": "python",
   "pygments_lexer": "ipython3",
   "version": "3.8.5"
  }
 },
 "nbformat": 4,
 "nbformat_minor": 5
}
