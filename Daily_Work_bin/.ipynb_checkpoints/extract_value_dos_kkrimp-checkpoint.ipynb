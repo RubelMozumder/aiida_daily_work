{
 "cells": [
  {
   "cell_type": "code",
   "execution_count": 1,
   "id": "built-recycling",
   "metadata": {},
   "outputs": [
    {
     "name": "stdout",
     "output_type": "stream",
     "text": [
      "profile name :  default\n",
      "profile database host name :  localhost\n",
      "default user :  r.mozumder@fz-juelich.de\n"
     ]
    }
   ],
   "source": [
    "#load aiida environment and connect to database\n",
    "from aiida import load_profile\n",
    "\n",
    "profile = load_profile()\n",
    "print('profile name : ',profile.name)\n",
    "print('profile database host name : ',profile.database_hostname)\n",
    "print('default user : ',profile.default_user)"
   ]
  },
  {
   "cell_type": "code",
   "execution_count": 2,
   "id": "pacific-color",
   "metadata": {},
   "outputs": [],
   "source": [
    "# load classes and functions\n",
    "from aiida.orm import CifData, Code, Dict, load_node, StructureData \n",
    "from aiida.orm import (Group, load_group, load_node, load_code, groups,\n",
    "                      WorkChainNode)\n",
    "from aiida.engine import submit, exceptions\n",
    "from aiida.common.exceptions import NotExistent\n",
    "from aiida_kkr.workflows import kkr_imp_sub_wc, kkr_imp_dos, kkr_imp_wc, kkr_startpot_wc\n",
    "import numpy as np\n",
    "from aiida_kkr.calculations import KkrimpCalculation, VoronoiCalculation\n",
    "import matplotlib.pyplot as plt\n",
    "from aiida_kkr.tools.common_workfunctions import get_username\n",
    "import matplotlib.gridspec as gridspec\n",
    "from aiida_kkr.tools import plot_kkr\n"
   ]
  },
  {
   "cell_type": "code",
   "execution_count": 27,
   "id": "retained-tuesday",
   "metadata": {},
   "outputs": [],
   "source": [
    "## This function will help to plot dos_imp\n",
    "def dos_plot (group_or_wc_list):\n",
    "    from aiida.orm import load_group, load_node\n",
    "    if group_or_wc_list == []:\n",
    "        dos_list= group_or_wc_list\n",
    "    else:\n",
    "        try:\n",
    "            group = load_group(group_or_wc_list)\n",
    "            dos_list = [i.pk for i in list(group.nodes)[:]]\n",
    "        except:\n",
    "            print('{} group is not present is the database.'.format(group_or_wc_list))\n",
    "   \n",
    "    for wc in dos_list[:]:\n",
    "        imp_dos = load_node(wc)\n",
    "        imp_info = imp_dos.label\n",
    "        print(imp_info)\n",
    "\n",
    "\n",
    "        fig2 = plt.figure(figsize=(15.0,4.5))\n",
    "        spec2 = gridspec.GridSpec(ncols=2, nrows=1, figure=fig2)\n",
    "\n",
    "        \n",
    "\n",
    "        # Total contribution from the entire impurity cluster\n",
    "        f2_ax1 = fig2.add_subplot(spec2[0, 0])\n",
    "        plot_kkr(imp_dos, l_channels=False, strucplot=False, silent=True ,label= 'Impurity_Clu1ter',\n",
    "                     noshow=True, nofig=True, color='C'+str(0), filled=True, alpha=0.3, yscale=1\n",
    "                )\n",
    "        # highlight the contibution of the impurity (iatom=0)\n",
    "        plot_kkr(imp_dos, l_channels=False, strucplot=False, silent=True, label= imp_dos.label,\n",
    "                     noshow=True, nofig=True, color='C'+str(0), lw=3, iatom=0, \n",
    "                )\n",
    "        \n",
    "            \n",
    "\n",
    "        f2_ax2 = fig2.add_subplot(spec2[0, 1])\n",
    "        plot_kkr(imp_dos, l_channels=True, strucplot=False, silent=True, label='Impurity_Cluster',\n",
    "                noshow=True, nofig=True, color='C'+str(0),filled=True, alpha=0.3, yscale=1, sum_spins= True,)\n",
    "        plot_kkr(imp_dos, l_channels=False, strucplot=False, silent=True, label=imp_dos.label,\n",
    "                noshow=True, nofig=True, color='C'+str(0), lw=3, iatom=0,all_atoms= False, sum_spins= True,)\n",
    "        print('impurity_dict', imp_dos.inputs.impurity_info.get_dict())\n",
    "        \n",
    "        \n",
    "        \n",
    "## execution of the function\n",
    "# dos_plot(94)"
   ]
  },
  {
   "cell_type": "code",
   "execution_count": 4,
   "id": "detailed-columbus",
   "metadata": {},
   "outputs": [
    {
     "name": "stdout",
     "output_type": "stream",
     "text": [
      "uuid: 2bc11f33-e000-466c-9a73-64fc9118f408 (pk: 16192)\n",
      "22896\n"
     ]
    }
   ],
   "source": [
    "import numpy as np\n",
    "group = load_group(94)\n",
    "node_1 = list(group.nodes)[0]\n",
    "print(node_1.inputs.impurity_info)\n",
    "print(node_1.pk)\n",
    "dos_data = (node_1.outputs.dos_data)\n",
    "# print(node_1.outputs.last_calc_output_parameters.get_dict())#['magnetism_group']\n",
    "x_label, x_data, x_unit = (dos_data.get_x())\n",
    "y_total = dos_data.get_y()#[0]\n",
    "lst = x_data[0][:]"
   ]
  },
  {
   "cell_type": "code",
   "execution_count": null,
   "id": "quick-blink",
   "metadata": {},
   "outputs": [],
   "source": []
  },
  {
   "cell_type": "code",
   "execution_count": 5,
   "id": "designing-version",
   "metadata": {},
   "outputs": [
    {
     "name": "stdout",
     "output_type": "stream",
     "text": [
      "ll :  63\n",
      "x_data shape :  [[-10.          -9.84210526  -9.68421053 ...   4.68421053   4.84210526\n",
      "    5.        ]\n",
      " [-10.          -9.84210526  -9.68421053 ...   4.68421053   4.84210526\n",
      "    5.        ]\n",
      " [-10.          -9.84210526  -9.68421053 ...   4.68421053   4.84210526\n",
      "    5.        ]\n",
      " ...\n",
      " [-10.          -9.84210526  -9.68421053 ...   4.68421053   4.84210526\n",
      "    5.        ]\n",
      " [-10.          -9.84210526  -9.68421053 ...   4.68421053   4.84210526\n",
      "    5.        ]\n",
      " [-10.          -9.84210526  -9.68421053 ...   4.68421053   4.84210526\n",
      "    5.        ]]\n",
      "y_data shape :  ('dos s', array([[0.00301125, 0.00281056, 0.00248993, ..., 0.19754974, 0.29107022,\n",
      "        0.17234472],\n",
      "       [0.00301125, 0.00281056, 0.00248993, ..., 0.19754972, 0.29107023,\n",
      "        0.17234474],\n",
      "       [0.00671304, 0.00576414, 0.00580446, ..., 0.06064234, 0.07442567,\n",
      "        0.08719849],\n",
      "       ...,\n",
      "       [0.09200523, 0.11958139, 0.1329963 , ..., 0.00616494, 0.00870916,\n",
      "        0.00715775],\n",
      "       [0.09187341, 0.11931619, 0.13492921, ..., 0.00604583, 0.00849757,\n",
      "        0.00703407],\n",
      "       [0.09187342, 0.1193162 , 0.13492922, ..., 0.00604583, 0.00849757,\n",
      "        0.00703407]]), 'states/eV')\n"
     ]
    }
   ],
   "source": [
    "ll = min(range(len(lst)), key = lambda i: abs(lst[i]-0.0))\n",
    "print('ll : ',ll)\n",
    "len(y_total[:][0])\n",
    "# print(y_total[1][0][:], len(y_total[1][0][:]), y_total[1][:][0], len(y_total[1][:][0]))\n",
    "print('x_data shape : ',x_data)\n",
    "print('y_data shape : ',y_total[1])"
   ]
  },
  {
   "cell_type": "code",
   "execution_count": 6,
   "id": "fresh-highway",
   "metadata": {},
   "outputs": [],
   "source": [
    "x = x_data[1][:]\n",
    "y_data = (y_total[1])\n",
    "y =  y_data[-1][:]+y_data[-1][:]\n"
   ]
  },
  {
   "cell_type": "code",
   "execution_count": null,
   "id": "computational-alexandria",
   "metadata": {},
   "outputs": [],
   "source": []
  },
  {
   "cell_type": "code",
   "execution_count": 7,
   "id": "happy-chaos",
   "metadata": {},
   "outputs": [],
   "source": [
    "# For the given input 'imp_dos node or ID and intended energy points' it will return .\n",
    "# Total density of states arround the indent eng point, most prominent orbital (s,p,d,...) dos and corresponding\n",
    "# dos value\n",
    "\n",
    "def dos_spec(imp_dos_or_pk, atom_index = 0, eng=0, debug=False):\n",
    "    \n",
    "    import numpy as np\n",
    "    from aiida.orm import load_node\n",
    "    from aiida.common.exceptions import NotExistent \n",
    "    from aiida_kkr.calculations import KkrCalculation, VoronoiCalculation\n",
    "    from aiida_kkr.workflows import kkr_imp_sub_wc, kkr_imp_wc\n",
    "    \n",
    "    is_id = None\n",
    "    node_exist = None\n",
    "    \n",
    "    try:\n",
    "        dos_node = load_node(imp_dos_or_pk)\n",
    "    except NotExistent as e:\n",
    "        is_id = False\n",
    "        node_exist = imp_dos_or_pk.is_stored\n",
    "        if node_exist:\n",
    "            dos_node = imp_dos_or_pk\n",
    "\n",
    "\n",
    "    \n",
    "    dos_data = dos_node.outputs.dos_data\n",
    "    dos_data_x = dos_data.get_x()\n",
    "    dos_data_y = dos_data.get_y()\n",
    "    \n",
    "    if debug:\n",
    "        print('dos_data_x shape :', np.shape(dos_data_x))\n",
    "        print('dos_data_y shape :', np.shape(dos_data_y))\n",
    "    \n",
    "    # extract the discrete energy list and unit\n",
    "    discrete_eng, eng_unit = (dos_data_x[1])[0][:], dos_data_x[2]\n",
    "    if debug:\n",
    "        print('discrete_eng : ',discrete_eng)\n",
    "        print('eng_unit : ', eng_unit)\n",
    "    \n",
    "    dos_unit = dos_data_y[0][2]\n",
    "    if debug:\n",
    "        print('dos_unit : ', dos_unit)\n",
    "    \n",
    "    ## In this part only the required dos data will be saved into the dos_data_arr \n",
    "    # cut the dos data for total, s, p, ... into that array for tot, s, p, d, more orbital.\n",
    "   \n",
    "    # number of dos array e.g., tot, s, p,..orbital\n",
    "    num = np.shape(dos_data_y)[0]\n",
    "    if debug:\n",
    "        print('NUM : ', num)\n",
    "    \n",
    "    y_grid = num*2 # to count the spin and down\n",
    "    x_grid = len(discrete_eng)\n",
    "    \n",
    "    if debug:\n",
    "        print('x_grid, :', x_grid)\n",
    "        print('y_grid, :', y_grid)\n",
    "\n",
    "    dos_data_arr = np.zeros((y_grid,x_grid),dtype=float)\n",
    "    if debug:\n",
    "        if num == int(y_grid/2):\n",
    "            print('ok')\n",
    "\n",
    "    ## The array dos_data_arr consist dos data for the <atom_index> and for all ldos (total, s, p....,ns)\n",
    "    for i in range(num): \n",
    "        l_dos = dos_data_y[i][1]\n",
    "        dos_data_arr[i*2][:] =  l_dos[atom_index*2][:] # for spin up\n",
    "        dos_data_arr[i*2+1][:] =  l_dos[atom_index*2 +1][:] # for spin down \n",
    "    if debug:    \n",
    "        print('dos_data_arr shape: ',np.shape(dos_data_arr))\n",
    "    \n",
    "    # Find the energy index nearest to eng index\n",
    "    nearest_eng_point_index = min(range(len(discrete_eng)), key= lambda i : abs(discrete_eng[i] - eng))\n",
    "    if debug:\n",
    "        print('min energy : ', nearest_eng_point_index)\n",
    "    \n",
    "    ## It returns all the dos along the column at the index <nearest_eng_point_index>\n",
    "    all_dos = dos_data_arr.T[nearest_eng_point_index][:]\n",
    "    \n",
    "    if debug:\n",
    "        print('shape of the all_dos', np.shape(all_dos))\n",
    "        print('all_dos data : ',all_dos)\n",
    "    \n",
    "    ## total dos_density list at energy point <eng> for an atom <atom index>\n",
    "    total_dos = [all_dos[0], all_dos[1]]\n",
    "    ldos_u , ldos_d = [all_dos[2+i] for i in range(len(all_dos[2:])) if i%2==0 ], [all_dos[2+i] for i in range(len(all_dos[2:])) if i%2==1 ]\n",
    "    # To collecting the lebel from dos_data\n",
    "    total_dos_label = dos_data_y[0][0]\n",
    "    #collect the ldos lebel for max_dos spin up and spin down\n",
    "    ldos_u_label = dos_data_y[np.argmax(ldos_u[:]) + 1][0] \n",
    "    ldos_d_label = dos_data_y[np.argmax(ldos_d[:]) + 1][0]\n",
    "    \n",
    "    # Collect the max ldos value \n",
    "    max_ldos_up_value = np.max(ldos_u)\n",
    "    max_ldos_down_value = np.max(ldos_d)\n",
    "    \n",
    "    # To collec the data for further invetigation e.g. ploting \n",
    "    out_dict = {total_dos_label: {total_dos_label+'_spin_up': total_dos[0],\n",
    "                                      total_dos_label+'_spin_down': total_dos[1]},\n",
    "                'Most Prominent_ldos': {ldos_u_label + '_spin_up': max_ldos_up_value,\n",
    "                                      ldos_d_label + '_spin_down': max_ldos_down_value},\n",
    "                'Units':{'energy_unit': eng_unit,\n",
    "                         'dos_unit':dos_unit},\n",
    "                'Other':{'eng':discrete_eng[nearest_eng_point_index],\n",
    "                         'atom_index':atom_index}\n",
    "               }\n",
    "    \n",
    "    return out_dict\n",
    "    "
   ]
  },
  {
   "cell_type": "code",
   "execution_count": 8,
   "id": "ready-tolerance",
   "metadata": {},
   "outputs": [],
   "source": [
    "## This function will return the desired value from the last calc output_parameters for the given input parameter\n",
    "## and also some out_parameters from the kkr_imp_scf wc\n",
    "def conv_dos_data(imp_dos_or_pk, debug= False):\n",
    "    import numpy as np\n",
    "    from aiida.orm import load_node\n",
    "    from aiida_kkr.workflows import kkr_imp_sub_wc\n",
    "    from aiida.common.exceptions import NotExistent \n",
    "    from aiida.common.constants import elements as elmt\n",
    "    summary_data_dict = { 'rms_conv' : 0,\n",
    "                          'etot_conv_Ry' : 0,\n",
    "                          'etot_conv_eV' : 0,\n",
    "                          'imp_spin_moment_mu_Bhor' : 0,\n",
    "                          'imp_orbital_moment_mu_Bhor' : 0,\n",
    "                          'imp_total_charge_electron' : 0,\n",
    "                          'imp_core_charge_electron' : 0,\n",
    "                          'charge_doping_electron' : 0, # \n",
    "                          'DOS_in_gap' : 0,\n",
    "                     }\n",
    "    imp_clst_dict = {'atoms_in_impurity_cluster' : 0,\n",
    "                     'ilayer' : 0,\n",
    "                     'Zimp' : 0,\n",
    "                     'Zhost' : 0\n",
    "                    }\n",
    "    \n",
    "    \n",
    "    try:\n",
    "        dos_node = load_node(imp_dos_or_pk)\n",
    "    except NotExistent as e:\n",
    "        is_id = False\n",
    "        node_exist = imp_dos_or_pk.is_stored\n",
    "        if node_exist:\n",
    "            dos_node = imp_dos_or_pk\n",
    "    imp_info = dos_node.inputs.impurity_info.get_dict()\n",
    "    scf_wc = dos_node.inputs.imp_pot_sfd.get_incoming(node_class = kkr_imp_wc).first().node\n",
    "    scf_out_param = scf_wc.outputs.last_calc_output_parameters.get_dict()\n",
    "    \n",
    "    # To extract the host structure from the using the host_Greenfunction_folder comingout from the kkr_flex_wc\n",
    "    kkr_sub = dos_node.get_outgoing(node_class=kkr_imp_sub_wc).first().node\n",
    "    kkrimp_calc = kkr_sub.get_outgoing(node_class= KkrimpCalculation).first().node\n",
    "    host_greenfuntion_folder = kkrimp_calc.inputs.host_Greenfunction_folder\n",
    "    host_structure, voro_calc = VoronoiCalculation.find_parent_structure(host_greenfuntion_folder)\n",
    "    \n",
    "    \n",
    "    ## Filling the last calc output data\n",
    "    imp_atom = 0\n",
    "    dos_eng = 0\n",
    "    summary_data_dict['rms_conv'] = scf_out_param['convergence_group']['rms']\n",
    "    summary_data_dict['etot_conv_Ry'] = scf_out_param['total_energy_Ry']\n",
    "    summary_data_dict['etot_conv_eV'] = scf_out_param['total_energy_Ry'] * 13.6056980659\n",
    "    summary_data_dict['imp_spin_moment_mu_Bhor'] = scf_out_param['magnetism_group']['spin_moment_per_atom'][imp_atom][:]\n",
    "    summary_data_dict['imp_orbital_moment_mu_Bhor'] = scf_out_param['magnetism_group']['orbital_moment_per_atom'][imp_atom][:]\n",
    "    summary_data_dict['imp_total_charge_electron'] = scf_out_param['total_charge_per_atom'][imp_atom]\n",
    "    summary_data_dict['imp_core_charge_electron'] = scf_out_param['charge_core_states_per_atom'][imp_atom]\n",
    "    charge_doping = imp_info['Zimp'] - summary_data_dict['imp_total_charge_electron']\n",
    "    summary_data_dict['charge_doping_electron'] = charge_doping\n",
    "    \n",
    "    spec_dos_data = dos_spec(dos_node, imp_atom, dos_eng,  debug)\n",
    "    dos_in_gap = spec_dos_data['dos tot']['dos tot_spin_up'] + spec_dos_data['dos tot']['dos tot_spin_down']\n",
    "    summary_data_dict['DOS_in_gap'] = dos_in_gap\n",
    "\n",
    "    \n",
    "    # Filling the imp_cluster data\n",
    "    cluster_size = len(scf_out_param['total_charge_per_atom'])\n",
    "    zimp = imp_info['Zimp']\n",
    "    zhost = 0 # TODO: Have to find it later\n",
    "    ilayer = imp_info['ilayer_center']\n",
    "    # To find the Zimp from the host structure\n",
    "    sym_to_Znum = {val['symbol']:num for num,val in elmt.items() }\n",
    "    ilayer_host_symbol = host_structure.sites[ilayer].kind_name\n",
    "    zhost = sym_to_Znum[ilayer_host_symbol]\n",
    "    \n",
    "    \n",
    "    \n",
    "    \n",
    "    \n",
    "    imp_clst_dict['atoms_in_impurity_cluster'] = cluster_size\n",
    "    imp_clst_dict['ilayer'] = ilayer\n",
    "    imp_clst_dict['Zimp'] = zimp\n",
    "    imp_clst_dict['Zhost'] = zhost\n",
    "    return summary_data_dict, imp_clst_dict"
   ]
  },
  {
   "cell_type": "code",
   "execution_count": 9,
   "id": "separated-exhibition",
   "metadata": {},
   "outputs": [],
   "source": [
    "## Test the dos_spec function\n",
    "node_23937 = load_node(23937)\n",
    "group = load_group(94)\n",
    "node_1 = list(group.nodes)[6]"
   ]
  },
  {
   "cell_type": "code",
   "execution_count": 10,
   "id": "molecular-blind",
   "metadata": {},
   "outputs": [
    {
     "data": {
      "text/plain": [
       "({'rms_conv': 8.2655e-08,\n",
       "  'etot_conv_Ry': -84273.9919684,\n",
       "  'etot_conv_eV': -1146606.4895301322,\n",
       "  'imp_spin_moment_mu_Bhor': [-9.6544141671731e-05,\n",
       "   -2.1655082055001e-05,\n",
       "   2.1030878357754],\n",
       "  'imp_orbital_moment_mu_Bhor': [0.00077743887029323,\n",
       "   -0.00022859176987891,\n",
       "   -0.34429084837917],\n",
       "  'imp_total_charge_electron': 26.489297,\n",
       "  'imp_core_charge_electron': 18.0,\n",
       "  'charge_doping_electron': 0.5107029999999995,\n",
       "  'DOS_in_gap': 10.12546455971133},\n",
       " {'atoms_in_impurity_cluster': 15, 'ilayer': 3, 'Zimp': 27, 'Zhost': 83})"
      ]
     },
     "execution_count": 10,
     "metadata": {},
     "output_type": "execute_result"
    }
   ],
   "source": [
    "dct, imp_clst = conv_dos_data(node_1)\n",
    "dct, imp_clst"
   ]
  },
  {
   "cell_type": "code",
   "execution_count": 11,
   "id": "jewish-turtle",
   "metadata": {},
   "outputs": [
    {
     "data": {
      "text/plain": [
       "{'dos tot': {'dos tot_spin_up': 9.983145576039119,\n",
       "  'dos tot_spin_down': 0.14231898367221246},\n",
       " 'Most Prominent_ldos': {'dos d_spin_up': 9.990432186407535,\n",
       "  'dos d_spin_down': 0.12571000207423627},\n",
       " 'Units': {'energy_unit': 'eV', 'dos_unit': 'states/eV'},\n",
       " 'Other': {'eng': -0.05263157894284976, 'atom_index': 0}}"
      ]
     },
     "execution_count": 11,
     "metadata": {},
     "output_type": "execute_result"
    }
   ],
   "source": [
    "## Test the dos_spec function\n",
    "dat = dos_spec(node_1)\n",
    "dat"
   ]
  },
  {
   "cell_type": "code",
   "execution_count": 12,
   "id": "terminal-growing",
   "metadata": {},
   "outputs": [],
   "source": [
    "scf_wc = node_1.inputs.imp_pot_sfd.get_incoming(node_class=kkr_imp_wc).first().node\n",
    "# scf_wc.outputs."
   ]
  },
  {
   "cell_type": "code",
   "execution_count": 13,
   "id": "labeled-senator",
   "metadata": {},
   "outputs": [],
   "source": [
    "## work with the elements\n",
    "from aiida.common.constants import elements as elmt\n",
    "# sym_to_Znum = dict()\n",
    "sym_to_Znum = {val['symbol']:num for num,val in elmt.items() }\n",
    "# sym_to_Znum"
   ]
  },
  {
   "cell_type": "code",
   "execution_count": 35,
   "id": "selected-slovak",
   "metadata": {},
   "outputs": [
    {
     "data": {
      "image/png": "[encoded data removed]",
      "text/plain": [
       "<Figure size 1620x1440 with 3 Axes>"
      ]
     },
     "metadata": {
      "needs_background": "light"
     },
     "output_type": "display_data"
    }
   ],
   "source": [
    "# To plot some data\n",
    "from aiida.common.constants import elements as elmt\n",
    "\n",
    "group_ilayer_4 = load_group(93)\n",
    "node_list = list(group_ilayer_4.nodes)\n",
    "imp_list = []\n",
    "gap_dos_list = []\n",
    "spin_moment_list = []\n",
    "orbital_moment_list = []\n",
    "\n",
    "#Hre collect the data for each imp_dos_calc\n",
    "for i in range(len(node_list)):\n",
    "    dos_dict, clst_dict = conv_dos_data(node_list[i], debug=False)\n",
    "    imp_list.append(clst_dict['Zimp'])\n",
    "    gap_dos_list.append(dos_dict['DOS_in_gap'])\n",
    "\n",
    "    # Collect the spin moment\n",
    "    spin_moment = pow(sum([i**2 for i in dos_dict['imp_spin_moment_mu_Bhor']]), 0.5)\n",
    "    spin_moment_list.append(spin_moment)\n",
    "\n",
    "    # Collect the orbital moment\n",
    "    orbital_moment = pow(sum([i**2 for i in dos_dict['imp_orbital_moment_mu_Bhor']]), 0.5)\n",
    "    orbital_moment_list.append(orbital_moment)\n",
    "\n",
    "\n",
    "## Plot some out_put_data Vs imp\n",
    "import matplotlib.pyplot as plt\n",
    "import matplotlib.gridspec as gdspec\n",
    "fig = plt.figure(1, figsize=(15*1.5,20))\n",
    "gdspec.GridSpec(4,4)\n",
    "\n",
    "# Plot DOS in gap Vs imp\n",
    "plt.subplot2grid((4,4), (0,0), colspan=2, rowspan=2)\n",
    "plt.scatter(imp_list, gap_dos_list)\n",
    "plt.locator_params(axis='x', nbins=5)\n",
    "plt.locator_params(axis='y', nbins=20)\n",
    "plt.title('DOS_states in Band Gap')\n",
    "plt.xlabel('Imp')\n",
    "plt.ylabel('States/eV')\n",
    "xlabel = [elmt[i]['symbol'] for i in imp_list[:]]\n",
    "plt.xticks(imp_list, xlabel)\n",
    "\n",
    "plt.subplot2grid((4,4), (0,2), colspan=2, rowspan=2)\n",
    "plt.scatter(imp_list, spin_moment_list)\n",
    "plt.locator_params(axis='x', nbins=5)\n",
    "plt.locator_params(axis='y', nbins=5)\n",
    "plt.title('imp_spin_moment Vs imp')\n",
    "plt.xlabel('Zimp')\n",
    "plt.ylabel('spin_moment ($B_\\mu$)')\n",
    "plt.ylim((0.0,5.0))\n",
    "xlabel = [elmt[i]['symbol'] for i in imp_list[:]]\n",
    "plt.xticks(imp_list, xlabel)\n",
    "\n",
    "plt.subplot2grid((4,4), (2,0), colspan=2, rowspan=2)\n",
    "plt.scatter(imp_list, orbital_moment_list)\n",
    "plt.locator_params(axis='x', nbins=5)\n",
    "plt.locator_params(axis='y', nbins=5)\n",
    "plt.title('imp_spin_moment Vs imp')\n",
    "plt.xlabel('Zimp')\n",
    "plt.ylabel('orbital_moment ($B_\\mu$)')\n",
    "plt.ylim((0.0,5.0))\n",
    "xlabel = [elmt[i]['symbol'] for i in imp_list[:]]\n",
    "plt.xticks(imp_list, xlabel)\n",
    "\n",
    "plt.show()"
   ]
  },
  {
   "cell_type": "code",
   "execution_count": 131,
   "id": "headed-transfer",
   "metadata": {},
   "outputs": [
    {
     "data": {
      "text/plain": [
       "2.1030878381028617"
      ]
     },
     "execution_count": 131,
     "metadata": {},
     "output_type": "execute_result"
    }
   ],
   "source": [
    "group = load_group(94)\n",
    "node_1 = list(group.nodes)[6]\n",
    "dat, imp_dict = conv_dos_data(node_1)\n",
    "dat\n",
    "spin_moment = pow(sum([i**2 for i in dat['imp_spin_moment_mu_Bhor']]), 0.5)\n",
    "spin_moment"
   ]
  },
  {
   "cell_type": "code",
   "execution_count": 65,
   "id": "patent-terror",
   "metadata": {},
   "outputs": [
    {
     "name": "stdout",
     "output_type": "stream",
     "text": [
      "impurity_info :  {'Rcut': 4.0, 'Zimp': 27, 'ilayer_center': 3}\n"
     ]
    }
   ],
   "source": [
    "print('impurity_info : ', node_1.inputs.impurity_info.get_dict())\n",
    "# node_1.outputs.last_calc_output_parameters.get_dict()"
   ]
  },
  {
   "cell_type": "code",
   "execution_count": null,
   "id": "continuing-cursor",
   "metadata": {},
   "outputs": [],
   "source": []
  },
  {
   "cell_type": "code",
   "execution_count": null,
   "id": "noble-still",
   "metadata": {},
   "outputs": [],
   "source": []
  },
  {
   "cell_type": "code",
   "execution_count": null,
   "id": "miniature-template",
   "metadata": {},
   "outputs": [],
   "source": []
  },
  {
   "cell_type": "code",
   "execution_count": null,
   "id": "assured-freeze",
   "metadata": {},
   "outputs": [],
   "source": []
  },
  {
   "cell_type": "code",
   "execution_count": null,
   "id": "joint-single",
   "metadata": {},
   "outputs": [],
   "source": []
  },
  {
   "cell_type": "code",
   "execution_count": 302,
   "id": "photographic-constitutional",
   "metadata": {},
   "outputs": [],
   "source": [
    "# Import libraries\n",
    "import numpy as np\n",
    "import matplotlib.pyplot as plt\n",
    "import matplotlib.gridspec as gridspec\n",
    "%matplotlib inline\n",
    "\n",
    "# Generate data\n",
    "dist_norm = np.random.normal(loc=0, scale=1, size=1000)\n",
    "dist_tdis = np.random.standard_t(df=29, size=1000)\n",
    "dist_fdis = np.random.f(dfnum=59, dfden=28, size=1000)\n",
    "dist_chsq = np.random.chisquare(df=2, size=1000)"
   ]
  },
  {
   "cell_type": "code",
   "execution_count": 314,
   "id": "outside-photograph",
   "metadata": {},
   "outputs": [
    {
     "data": {
      "image/png": "[encoded data removed]",
      "text/plain": [
       "<Figure size 792x504 with 4 Axes>"
      ]
     },
     "metadata": {
      "needs_background": "light"
     },
     "output_type": "display_data"
    }
   ],
   "source": [
    "# Plot figure with subplots of different sizes\n",
    "fig = plt.figure(1)\n",
    "# set up subplot grid\n",
    "gridspec.GridSpec(3,3)\n",
    "\n",
    "# large subplot\n",
    "plt.subplot2grid((3,3), (0,0), colspan=2, rowspan=3)\n",
    "plt.locator_params(axis='x', nbins=5)\n",
    "plt.locator_params(axis='y', nbins=5)\n",
    "plt.title('Normal distribution')\n",
    "plt.xlabel('Data values')\n",
    "plt.ylabel('Frequency')\n",
    "plt.hist(dist_norm, bins=30, color='0.30')\n",
    "\n",
    "# small subplot 1\n",
    "plt.subplot2grid((3,3), (0,2))\n",
    "plt.locator_params(axis='x', nbins=5)\n",
    "plt.locator_params(axis='y', nbins=5)\n",
    "plt.title('t distribution')\n",
    "plt.xlabel('Data values')\n",
    "plt.ylabel('Frequency')\n",
    "plt.hist(dist_tdis, bins=30, color='b')\n",
    "\n",
    "# small subplot 2\n",
    "plt.subplot2grid((3,3), (1,2))\n",
    "plt.locator_params(axis='x', nbins=5)\n",
    "plt.locator_params(axis='y', nbins=5)\n",
    "plt.title('F distribution')\n",
    "plt.xlabel('Data values')\n",
    "plt.ylabel('Frequency')\n",
    "plt.hist(dist_fdis, bins=30, color='r')\n",
    "\n",
    "# small subplot 3\n",
    "plt.subplot2grid((3,3), (2,2))\n",
    "plt.locator_params(axis='x', nbins=5)\n",
    "plt.locator_params(axis='y', nbins=5)\n",
    "plt.title('Chi-square distribution')\n",
    "plt.xlabel('Data values')\n",
    "plt.ylabel('Frequency')\n",
    "plt.hist(dist_chsq, bins=30, color='g')\n",
    "\n",
    "# fit subplots and save fig\n",
    "fig.tight_layout()\n",
    "fig.set_size_inches(w=11,h=7)\n",
    "fig_name = 'plot.png'\n",
    "fig.savefig(fig_name)"
   ]
  },
  {
   "cell_type": "code",
   "execution_count": null,
   "id": "stupid-county",
   "metadata": {},
   "outputs": [],
   "source": []
  }
 ],
 "metadata": {
  "kernelspec": {
   "display_name": "AiiDA",
   "language": "python",
   "name": "aiida"
  },
  "language_info": {
   "codemirror_mode": {
    "name": "ipython",
    "version": 3
   },
   "file_extension": ".py",
   "mimetype": "text/x-python",
   "name": "python",
   "nbconvert_exporter": "python",
   "pygments_lexer": "ipython3",
   "version": "3.8.5"
  }
 },
 "nbformat": 4,
 "nbformat_minor": 5
}
