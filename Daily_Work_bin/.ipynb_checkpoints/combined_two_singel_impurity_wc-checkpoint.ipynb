{
 "cells": [
  {
   "cell_type": "code",
   "execution_count": 79,
   "id": "general-compatibility",
   "metadata": {},
   "outputs": [
    {
     "data": {
      "text/plain": [
       "'default'"
      ]
     },
     "execution_count": 79,
     "metadata": {},
     "output_type": "execute_result"
    }
   ],
   "source": [
    "from aiida import load_profile\n",
    "aiida_profile = load_profile()\n",
    "aiida_profile.name"
   ]
  },
  {
   "cell_type": "code",
   "execution_count": 138,
   "id": "consistent-mainstream",
   "metadata": {},
   "outputs": [],
   "source": [
    "## Loading the some require packages and module\n",
    "from aiida_kkr.workflows import (combine_imps_wc, kkr_flex_wc,\n",
    "                                 kkr_imp_wc, kkr_imp_sub_wc\n",
    "                                )\n",
    "from aiida_kkr.calculations import KkrCalculation, KkrimpCalculation\n",
    "from aiida.orm import (Group, load_group, load_node, Dict, Code\n",
    "                      )\n",
    "from aiida_kkr.tools import kkrparams\n",
    "from aiida.engine import submit"
   ]
  },
  {
   "cell_type": "code",
   "execution_count": 143,
   "id": "optional-degree",
   "metadata": {},
   "outputs": [],
   "source": [
    "metadata_option_1 = {'max_wallclock_seconds': 36000,'resources': \n",
    "               {'tot_num_mpiprocs': 48, 'num_machines': 1},\n",
    "              'custom_scheduler_commands': \n",
    "              '#SBATCH --account=jara0191\\n\\nulimit -s unlimited; export OMP_STACKSIZE=2g',\n",
    "              'withmpi': True\n",
    "                    }"
   ]
  },
  {
   "cell_type": "code",
   "execution_count": 139,
   "id": "alternative-handbook",
   "metadata": {},
   "outputs": [],
   "source": [
    "# Note that here for doped 3d atoms into the Bi2Te3 host\n",
    "\n",
    "group_74 = load_group(74)\n",
    "## first node of group-64 is for kkr_imp_wc process\n",
    "# is being used for the host_gf or kkr_flex files\n",
    "\n",
    "imp_wc_with_gf = load_node(16100)\n",
    "imp1_wc = group_74.nodes[1]\n",
    "imp2_wc = group_74.nodes[2]\n",
    "\n",
    "# gf_host_remote = imp_wc_with_gf.inputs.remote_data_gf\n",
    "# host_gf_wc = imp_wc_with_gf.get_outgoing(node_class=kkr_flex_wc).all()[0].node\n",
    "\n",
    "\n",
    "impurity1_output_node = imp1_wc.outputs.workflow_info\n",
    "impurity2_output_node = imp2_wc.outputs.workflow_info\n",
    "offset_imp2 = {'index':1}"
   ]
  },
  {
   "cell_type": "code",
   "execution_count": 140,
   "id": "amended-heading",
   "metadata": {},
   "outputs": [],
   "source": [
    "# kkr_code_iffslurm = kkrflex@iffslurm"
   ]
  },
  {
   "cell_type": "code",
   "execution_count": 83,
   "id": "raised-gallery",
   "metadata": {},
   "outputs": [],
   "source": [
    "scf_node = imp1_wc.get_outgoing(node_class=kkr_imp_sub_wc).all()[0].node\n",
    "## kkr_flex_wc\n",
    "host_gf = imp1_wc.inputs.remote_data_gf.get_incoming(node_class=kkr_flex_wc).all()[0].node\n",
    "kkr_calc = host_gf.get_outgoing(node_class=KkrCalculation).all()[0].node\n",
    "kkr_flex_kkr_param = kkr_calc.inputs.parameters"
   ]
  },
  {
   "cell_type": "code",
   "execution_count": 134,
   "id": "hidden-bangladesh",
   "metadata": {},
   "outputs": [],
   "source": [
    "kkr_flex_kkr_param = kkr_calc.inputs.parameters.get_dict()\n",
    "kkr_flex_kkr_param['RCLUSTZ'] *= 1\n",
    "kkr_flex_kkr_param['NSHELD'] = 2500"
   ]
  },
  {
   "cell_type": "code",
   "execution_count": 171,
   "id": "comparable-chicago",
   "metadata": {},
   "outputs": [],
   "source": [
    "# kkr_flex_kkr_param"
   ]
  },
  {
   "cell_type": "code",
   "execution_count": 105,
   "id": "concerned-surgery",
   "metadata": {},
   "outputs": [
    {
     "name": "stdout",
     "output_type": "stream",
     "text": [
      "Version of workflow: 0.3.1\n"
     ]
    }
   ],
   "source": [
    "settings = combine_imps_wc.get_wf_defaults()\n",
    "builder = combine_imps_wc.get_builder()\n",
    "settings['jij_run']= True\n",
    "settings['dos_run']= False\n",
    "settings['retrieve_kkrflex'] = False\n",
    "settings['mag_init']= False\n",
    "settings['threshold_switch_high_accuracy'] = 1e-2\n",
    "settings['convergence_criterion'] = 1e-7 #convergence_criterion\n",
    "settings['threshold_aggressive_mixing']= 0.02\n",
    "settings['strmix']= 0.005\n",
    "settings['broyden-number'] = 20\n",
    "settings['nsteps'] = 100\n",
    "settings['kkr_runmax'] = 7"
   ]
  },
  {
   "cell_type": "code",
   "execution_count": 115,
   "id": "younger-shooting",
   "metadata": {},
   "outputs": [],
   "source": [
    "options = scf_node.inputs.options.get_dict()\n",
    "options['max_wallclock_seconds'] = 36000*1\n",
    "# options"
   ]
  },
  {
   "cell_type": "code",
   "execution_count": 107,
   "id": "improving-pepper",
   "metadata": {},
   "outputs": [],
   "source": [
    "builder.impurity1_output_node = impurity1_output_node\n",
    "builder.impurity2_output_node = impurity2_output_node\n",
    "builder.offset_imp2 = Dict(dict=offset_imp2)\n",
    "\n",
    "# scf namespace setup\n",
    "builder.scf.kkrimp = scf_node.inputs.kkrimp\n",
    "builder.scf.options = Dict(dict=options)\n",
    "builder.scf.wf_parameters = scf_node.inputs.wf_parameters\n",
    "\n",
    "# host_gf namespace setup\n",
    "builder.host_gf.kkr = host_gf.inputs.kkr\n",
    "builder.host_gf.options = host_gf.inputs.options\n",
    "builder.host_gf.params_kkr_overwrite = Dict(dict=kkr_flex_kkr_param) #host_gf.inputs.wf_parameters\n",
    "\n",
    "builder.wf_parameters_overwrite = Dict(dict=settings)\n",
    "builder.metadata.label = str(imp1_wc.label+ ':' +imp2_wc.label)"
   ]
  },
  {
   "cell_type": "code",
   "execution_count": 173,
   "id": "unsigned-visit",
   "metadata": {},
   "outputs": [],
   "source": [
    "# To submit the builder\n",
    "# combined_imp_submission = submit(builder)"
   ]
  },
  {
   "cell_type": "code",
   "execution_count": 176,
   "id": "quarterly-musician",
   "metadata": {},
   "outputs": [
    {
     "name": "stdout",
     "output_type": "stream",
     "text": [
      "Version of workflow: 0.3.1\n"
     ]
    }
   ],
   "source": [
    "# Note that here for doped 3d atoms into the Bi2Te3 host\n",
    "\n",
    "group_74 = load_group(74)\n",
    "## first node of group-64 is for kkr_imp_wc process\n",
    "# is being used for the host_gf or kkr_flex files\n",
    "\n",
    "imp_wc_with_gf = load_node(16100)\n",
    "imp1_wc = group_74.nodes[1]\n",
    "imp2_wc = group_74.nodes[2]\n",
    "\n",
    "scf = imp1_wc\n",
    "host_wf_parameters = Dict(dict={'NSHELD' : 2500})\n",
    "host_kkr = Code().get_from_string('kkr@claix18_init')\n",
    "\n",
    "scf_kkrimp = Code().get_from_string('kkrflex@claix18_init')\n",
    "options = Dict(dict=metadata_option_1)\n",
    "\n",
    "imp1_output_node = imp1_wc.outputs.workflow_info\n",
    "imp2_output_node = imp2_wc.outputs.workflow_info\n",
    "offset_imp2 = {'index':1}\n",
    "\n",
    "settings = combine_imps_wc.get_wf_defaults()\n",
    "settings['jij_run'] = False\n",
    "settings['dos_run'] = False\n",
    "settings['lmdos'] = False\n",
    "settings['strmix'] = 0.01\n",
    "settings['aggrmix'] = 0.008\n",
    "settings['threshold_aggressive_mixing'] = 0.01\n",
    "settings['convergence_criterion'] = 1e-7\n",
    "settings['threshold_switch_high_accuracy'] = 1e-2\n",
    "settings['retrieve_kkrflex'] = False\n",
    "settings['mag_init'] = False\n",
    "settings['mixreduce'] = 0.5\n",
    "settings['nsteps'] = 100\n",
    "settings['kkr_runmax'] = 10\n",
    "\n",
    "combine_imp_builder = combine_imps_wc.get_builder()\n",
    "combine_imp_builder.impurity1_output_node = imp1_output_node\n",
    "combine_imp_builder.impurity2_output_node = imp2_output_node\n",
    "combine_imp_builder.offset_imp2 = Dict(dict=offset_imp2)\n",
    "\n",
    "# scf namespace setup\n",
    "combine_imp_builder.scf.kkrimp = scf_kkrimp\n",
    "combine_imp_builder.scf.options = options\n",
    "combine_imp_builder.scf.wf_parameters = scf.inputs.wf_parameters\n",
    "\n",
    "# host_gf namespace setup\n",
    "combine_imp_builder.host_gf.kkr = host_kkr\n",
    "combine_imp_builder.host_gf.options = options\n",
    "combine_imp_builder.host_gf.params_kkr_overwrite = host_wf_parameters #host_gf.inputs.wf_parameters\n",
    "\n",
    "combine_imp_builder.wf_parameters_overwrite = Dict(dict=settings)\n",
    "combine_imp_builder.metadata.label = str(imp1_wc.label+ ':' +imp2_wc.label)\n",
    "#Note combine_imp node 22070 may runing in good mode\n",
    "submission = submit(combine_imp_builder)"
   ]
  },
  {
   "cell_type": "code",
   "execution_count": 184,
   "id": "ancient-swedish",
   "metadata": {},
   "outputs": [
    {
     "name": "stdout",
     "output_type": "stream",
     "text": [
      "Version of workflow: 0.3.1\n"
     ]
    }
   ],
   "source": [
    "## Here trying to work with host Au and other impurity\n",
    "## THe calc is taken from the wasmer\n",
    "imp_Au_group = load_group(85)\n",
    "wc_list = list(imp_Au_group.nodes)\n",
    "\n",
    "\n",
    "imp_wc_1 = wc_list[0]\n",
    "# print('first imp wc : ', imp_wc_1.label)\n",
    "imp_wc_2 = wc_list[1]\n",
    "# print('econd imp wc : ', imp_wc_2.label)\n",
    "# setting the scf and host namespace\n",
    "\n",
    "scf = imp_wc_1\n",
    "host_wf_parameters = Dict(dict={'NSHELD' : 2500,\n",
    "                                'BZDIVIDE': [40, 40, 40],\n",
    "                                'FCM': 20,\n",
    "                                'EMAX': 1.2,\n",
    "                                'EMIN': -0.8,\n",
    "                                'GMAX': 65.0,\n",
    "                                'LMAX': 3,\n",
    "                                'NCHEB': 12,\n",
    "                              \n",
    "                               })\n",
    "\n",
    "host_kkr = Code().get_from_string('kkr@claix18_init')\n",
    "scf_kkrimp = Code().get_from_string('kkrflex@claix18_init')\n",
    "options = Dict(dict=metadata_option_1)\n",
    "\n",
    "imp1_output_node = imp_wc_1.outputs.workflow_info\n",
    "imp2_output_node = imp_wc_2.outputs.workflow_info\n",
    "offset_imp2 = {'index':1}\n",
    "\n",
    "settings = combine_imps_wc.get_wf_defaults()\n",
    "settings['jij_run'] = False\n",
    "settings['dos_run'] = False\n",
    "settings['lmdos'] = False\n",
    "settings['strmix'] = 0.001\n",
    "settings['aggrmix'] = 0.008\n",
    "settings['threshold_aggressive_mixing'] = 0.008\n",
    "settings['convergence_criterion'] = 1e-7\n",
    "settings['threshold_switch_high_accuracy'] = 1e-2\n",
    "settings['retrieve_kkrflex'] = False\n",
    "settings['mag_init'] = False\n",
    "settings['mixreduce'] = 0.5\n",
    "settings['nsteps'] = 100\n",
    "settings['kkr_runmax'] = 10\n",
    "\n",
    "combine_imp_builder = combine_imps_wc.get_builder()\n",
    "combine_imp_builder.impurity1_output_node = imp1_output_node\n",
    "combine_imp_builder.impurity2_output_node = imp2_output_node\n",
    "combine_imp_builder.offset_imp2 = Dict(dict=offset_imp2)\n",
    "\n",
    "# scf namespace setup\n",
    "combine_imp_builder.scf.kkrimp = scf_kkrimp\n",
    "combine_imp_builder.scf.options = options\n",
    "combine_imp_builder.scf.wf_parameters = scf.inputs.wf_parameters\n",
    "\n",
    "# host_gf namespace setup\n",
    "combine_imp_builder.host_gf.kkr = host_kkr\n",
    "combine_imp_builder.host_gf.options = options\n",
    "combine_imp_builder.host_gf.params_kkr_overwrite = host_wf_parameters #host_gf.inputs.wf_parameters\n",
    "\n",
    "combine_imp_builder.wf_parameters_overwrite = Dict(dict=settings)\n",
    "combine_imp_builder.metadata.label = str(imp1_wc.label+ ':' +imp2_wc.label)\n",
    "# submission = submit(combine_imp_builder)"
   ]
  },
  {
   "cell_type": "code",
   "execution_count": 195,
   "id": "polish-antibody",
   "metadata": {},
   "outputs": [
    {
     "data": {
      "text/plain": [
       "{'FCM': None,\n",
       " 'INS': 1,\n",
       " 'EMAX': None,\n",
       " 'EMIN': None,\n",
       " 'GMAX': 100.0,\n",
       " 'ICST': None,\n",
       " 'IMIX': 5,\n",
       " 'IRID': None,\n",
       " 'LMAX': 2,\n",
       " 'NAEZ': None,\n",
       " 'NMIN': None,\n",
       " 'NPOL': 5,\n",
       " 'NPT1': 7,\n",
       " 'NPT2': 29,\n",
       " 'NPT3': 7,\n",
       " 'RMAX': 10.0,\n",
       " 'EFSET': None,\n",
       " 'FILES': None,\n",
       " 'IEMXD': None,\n",
       " 'IPAND': None,\n",
       " 'KVREL': None,\n",
       " 'NATYP': None,\n",
       " 'NCHEB': None,\n",
       " 'NSPIN': 2,\n",
       " 'R_LOG': None,\n",
       " 'TEMPR': 600.0,\n",
       " '<SITE>': None,\n",
       " 'BRYMIX': 0.05,\n",
       " 'HFIELD': 0.0,\n",
       " 'ITDBRY': None,\n",
       " 'JIJRAD': None,\n",
       " 'KEXCOR': None,\n",
       " 'KSHAPE': 2,\n",
       " 'N1SEMI': None,\n",
       " 'N2SEMI': None,\n",
       " 'N3SEMI': None,\n",
       " 'NSHELD': None,\n",
       " 'NSTEPS': 50,\n",
       " 'QBOUND': 1e-08,\n",
       " 'RUNOPT': ['MPIenerg', 'KKRFLEX'],\n",
       " 'STRMIX': 0.03,\n",
       " 'TKSEMI': None,\n",
       " 'VCONST': None,\n",
       " '<LLOYD>': None,\n",
       " '<SHAPE>': None,\n",
       " '<ZATOM>': None,\n",
       " 'BRAVAIS': None,\n",
       " 'CPAINFO': None,\n",
       " 'EMUSEMI': None,\n",
       " 'IVSHIFT': None,\n",
       " 'LINIPOL': False,\n",
       " 'NPAN_EQ': None,\n",
       " 'NPRINCD': None,\n",
       " 'RCLUSTZ': 2.2361178489974,\n",
       " 'TESTOPT': None,\n",
       " 'XINIPOL': None,\n",
       " '<DELTAE>': None,\n",
       " '<KAOEZL>': None,\n",
       " '<KAOEZR>': None,\n",
       " '<RBASIS>': None,\n",
       " '<RBLEFT>': None,\n",
       " '<RMTREF>': None,\n",
       " '<SOCSCL>': None,\n",
       " 'BZDIVIDE': [30, 30, 30],\n",
       " 'EBOTSEMI': None,\n",
       " 'JIJRADXY': None,\n",
       " 'JIJSITEI': None,\n",
       " 'JIJSITEJ': None,\n",
       " 'NAT_LDAU': None,\n",
       " 'NLEFTHOS': None,\n",
       " 'NPAN_LOG': None,\n",
       " 'NPOLSEMI': None,\n",
       " 'NRIGHTHO': None,\n",
       " 'RCLUSTXY': None,\n",
       " 'ZPERIODL': None,\n",
       " 'ZPERIODR': None,\n",
       " '<NLBASIS>': None,\n",
       " '<NRBASIS>': None,\n",
       " '<RBRIGHT>': None,\n",
       " '<RMTCORE>': None,\n",
       " '<RMTREFL>': None,\n",
       " '<RMTREFR>': None,\n",
       " '<STOP_1A>': None,\n",
       " '<STOP_1B>': None,\n",
       " '<STOP_1C>': None,\n",
       " '<TOLRDIF>': None,\n",
       " '<USE_BDG>': None,\n",
       " 'ALATBASIS': None,\n",
       " 'CARTESIAN': None,\n",
       " 'DECIFILES': None,\n",
       " 'FSEMICORE': None,\n",
       " 'INTERFACE': None,\n",
       " 'KREADLDAU': None,\n",
       " 'LAMBDA_XC': None,\n",
       " 'LDAU_PARA': None,\n",
       " '<CPA-CONC>': None,\n",
       " '<FPRADIUS>': None,\n",
       " '<USE_CONT>': None,\n",
       " '<USE_LDAU>': None,\n",
       " '<USE_QDOS>': None,\n",
       " '<DELTA_BDG>': None,\n",
       " '<PRINT_GIJ>': None,\n",
       " '<USE_LLOYD>': None,\n",
       " '<WRITE_DOS>': None,\n",
       " '<LAMBDA_BDG>': None,\n",
       " '<MPI_SCHEME>': None,\n",
       " '<PRINT_GMAT>': None,\n",
       " '<PRINT_TMAT>': None,\n",
       " 'SPINMIXALPHA': None,\n",
       " '<NO_MADELUNG>': None,\n",
       " '<PRINT_KMESH>': None,\n",
       " '<USE_COND_LB>': None,\n",
       " '<USE_FULL_BZ>': None,\n",
       " '<USE_READCPA>': None,\n",
       " 'POT_NS_CUTOFF': None,\n",
       " 'SPINMIXMEMLEN': None,\n",
       " 'SPINMIXQBOUND': None,\n",
       " '<AT_SCALE_BDG>': None,\n",
       " '<PRINT_ICKECK>': None,\n",
       " '<PRINT_REFPOT>': None,\n",
       " '<SIMULATE_ASA>': None,\n",
       " '<USE_EWALD_2D>': None,\n",
       " '<USE_SEMICORE>': None,\n",
       " '<WRITE_DOS_LM>': None,\n",
       " '<WRITE_RHO2NS>': None,\n",
       " 'SPINMIXNSIMPLE': None,\n",
       " '<PRINT_KPOINTS>': None,\n",
       " '<SEARCH_EFERMI>': None,\n",
       " '<CALC_GF_EFERMI>': None,\n",
       " '<CALC_WRONSKIAN>': None,\n",
       " '<FORMATTED_FILE>': None,\n",
       " '<NEWVERSION_BDG>': None,\n",
       " '<USE_DECIMATION>': None,\n",
       " '<WRITE_DECI_POT>': None,\n",
       " '<SET_CHEBY_NOSOC>': None,\n",
       " '<SET_KMESH_LARGE>': None,\n",
       " '<SET_KMESH_SMALL>': None,\n",
       " '<SYMMETRIZE_GMAT>': None,\n",
       " '<WRITE_BDG_TESTS>': None,\n",
       " '<WRITE_DECI_TMAT>': None,\n",
       " '<WRITE_GMAT_FILE>': None,\n",
       " '<WRITE_GREEN_IMP>': None,\n",
       " '<WRITE_GREF_FILE>': None,\n",
       " '<WRITE_KPTS_FILE>': None,\n",
       " '<WRITE_TMAT_FILE>': None,\n",
       " '<FIX_NONCO_ANGLES>': None,\n",
       " '<MODIFY_SOC_DIRAC>': None,\n",
       " '<SET_EMPTY_SYSTEM>': None,\n",
       " '<SET_GMAT_TO_ZERO>': None,\n",
       " '<USE_DECI_ONEBULK>': None,\n",
       " '<USE_RIGID_EFERMI>': None,\n",
       " '<WRITE_GMAT_ASCII>': None,\n",
       " '<WRITE_GMAT_PLAIN>': None,\n",
       " '<WRITE_GREEN_HOST>': None,\n",
       " '<WRITE_LLOYD_FILE>': None,\n",
       " '<WRITE_PKKR_INPUT>': None,\n",
       " '<WRITE_RHOQ_INPUT>': None,\n",
       " '<CALC_GMAT_LM_FULL>': None,\n",
       " '<CUSTOM_TESTSTRING>': None,\n",
       " '<PRINT_RADIAL_MESH>': None,\n",
       " '<USE_VIRTUAL_ATOMS>': None,\n",
       " '<WRITE_ENERGY_MESH>': None,\n",
       " '<WRITE_TB_COUPLING>': None,\n",
       " '<PRINT_PROGRAM_FLOW>': None,\n",
       " '<SLOW_MIXING_EFERMI>': None,\n",
       " '<WRITE_COMPLEX_QDOS>': None,\n",
       " '<WRITE_KKRIMP_INPUT>': None,\n",
       " '<PRINT_TAU_STRUCTURE>': None,\n",
       " '<SET_CHEBY_NOSPEEDUP>': None,\n",
       " '<USE_BROYDEN_SPINMIX>': None,\n",
       " '<WRITE_DENSITY_ASCII>': None,\n",
       " '<WRITE_KKRSUSC_INPUT>': None,\n",
       " '<WRITE_MADELUNG_FILE>': None,\n",
       " '<DECOUPLE_SPINS_CHEBY>': None,\n",
       " '<SET_TMAT_NOINVERSION>': None,\n",
       " '<USE_CHEBYCHEV_SOLVER>': None,\n",
       " '<WRITE_ANGLES_ALLITER>': None,\n",
       " '<WRITE_PKKR_OPERATORS>': None,\n",
       " '<DISABLE_TMAT_SRATRICK>': None,\n",
       " '<RELAX_SPINANGLE_DIRAC>': None,\n",
       " '<WRITE_LLOYD_CDOS_FILE>': None,\n",
       " '<WRITE_LLOYD_G0TR_FILE>': None,\n",
       " '<WRITE_POTENTIAL_TESTS>': None,\n",
       " '<IMPURITY_OPERATOR_ONLY>': None,\n",
       " '<TORQUE_OPERATOR_ONLYMT>': None,\n",
       " '<WRITE_LLOYD_DGREF_FILE>': None,\n",
       " '<WRITE_LLOYD_DTMAT_FILE>': None,\n",
       " '<CALC_EXCHANGE_COUPLINGS>': None,\n",
       " '<TORQUE_OPERATOR_ONLYSPH>': None,\n",
       " '<DIRAC_SCALE_SPEEFOFLIGHT>': None,\n",
       " '<DISABLE_REFERENCE_SYSTEM>': None,\n",
       " '<WRITE_LLOYD_TRALPHA_FILE>': None,\n",
       " '<DISABLE_CHARGE_NEUTRALITY>': None,\n",
       " '<WRITE_CPA_PROJECTION_FILE>': None,\n",
       " '<CALC_COMPLEX_BANDSTRUCTURE>': None,\n",
       " '<DISABLE_PRINT_SERIALNUMBER>': None,\n",
       " '<SYMMETRIZE_POTENTIAL_CUBIC>': None,\n",
       " '<WRITE_GENERALIZED_POTENTIAL>': None,\n",
       " '<USE_SPHERICAL_POTENTIAL_ONLY>': None,\n",
       " '<SYMMETRIZE_POTENTIAL_MADELUNG>': None,\n",
       " '<CALC_EXCHANGE_COUPLINGS_ENERGY>': None}"
      ]
     },
     "execution_count": 195,
     "metadata": {},
     "output_type": "execute_result"
    }
   ],
   "source": [
    "kkr_flex_calc = imp_wc_1.inputs.remote_data_gf.get_incoming(node_class=KkrCalculation).first().node #remote_data_host.list_object_names()\n",
    "kkr_flex_calc.inputs.parameters.get_dict()"
   ]
  },
  {
   "cell_type": "code",
   "execution_count": 48,
   "id": "intense-barbados",
   "metadata": {},
   "outputs": [],
   "source": [
    "# flex = imp_wc_with_gf.get_outgoing(node_class=kkr_flex_wc).all()[0].node\n",
    "# flex.get_outgoing(node_class=KkrCalculation).all()[0].node.inputs.parameters.get_dict()\n"
   ]
  },
  {
   "cell_type": "code",
   "execution_count": 40,
   "id": "pleased-focus",
   "metadata": {},
   "outputs": [
    {
     "data": {
      "text/plain": [
       "245"
      ]
     },
     "execution_count": 40,
     "metadata": {},
     "output_type": "execute_result"
    }
   ],
   "source": [
    "Bi2Te3_conv_kkr = load_node('23b13d9d-6e02-46c7-b3ac-17033b205b19')\n",
    "Bi2Te3_conv_kkr.pk"
   ]
  },
  {
   "cell_type": "code",
   "execution_count": 23,
   "id": "civil-roulette",
   "metadata": {},
   "outputs": [],
   "source": [
    "# Bi2Te3_conv_kkr.inputs.parameters.get_dict()\n",
    "#"
   ]
  },
  {
   "cell_type": "code",
   "execution_count": 10,
   "id": "universal-tablet",
   "metadata": {},
   "outputs": [],
   "source": [
    "kkr_flex_kkr_param = kkr_calc.inputs.parameters.get_dict()\n",
    "kkr_flex_kkr_param['RUNOPT'] = [kkr_flex_kkr_param['RUNOPT'][-1]]"
   ]
  },
  {
   "cell_type": "code",
   "execution_count": 14,
   "id": "timely-satin",
   "metadata": {},
   "outputs": [
    {
     "data": {
      "text/plain": [
       "20.0"
      ]
     },
     "execution_count": 14,
     "metadata": {},
     "output_type": "execute_result"
    }
   ],
   "source": [
    "kkr_flex_kkr_param.get"
   ]
  },
  {
   "cell_type": "code",
   "execution_count": 18,
   "id": "heard-shaft",
   "metadata": {},
   "outputs": [],
   "source": [
    "params = kkrparams"
   ]
  },
  {
   "cell_type": "code",
   "execution_count": null,
   "id": "motivated-survival",
   "metadata": {},
   "outputs": [],
   "source": []
  },
  {
   "cell_type": "code",
   "execution_count": null,
   "id": "enclosed-tolerance",
   "metadata": {},
   "outputs": [],
   "source": []
  }
 ],
 "metadata": {
  "kernelspec": {
   "display_name": "AiiDA",
   "language": "python",
   "name": "aiida"
  },
  "language_info": {
   "codemirror_mode": {
    "name": "ipython",
    "version": 3
   },
   "file_extension": ".py",
   "mimetype": "text/x-python",
   "name": "python",
   "nbconvert_exporter": "python",
   "pygments_lexer": "ipython3",
   "version": "3.8.5"
  }
 },
 "nbformat": 4,
 "nbformat_minor": 5
}
