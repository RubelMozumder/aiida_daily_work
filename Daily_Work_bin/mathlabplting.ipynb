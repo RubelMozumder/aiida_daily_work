{
 "cells": [
  {
   "cell_type": "code",
   "execution_count": null,
   "id": "piano-input",
   "metadata": {},
   "outputs": [],
   "source": [
    "import matplotlib.pyplot as plt\n",
    "%matplotlib inline"
   ]
  },
  {
   "cell_type": "code",
   "execution_count": null,
   "id": "neither-martin",
   "metadata": {},
   "outputs": [],
   "source": []
  },
  {
   "cell_type": "code",
   "execution_count": 14,
   "id": "unusual-settlement",
   "metadata": {},
   "outputs": [
    {
     "name": "stdout",
     "output_type": "stream",
     "text": [
      "/Users/mozumder/JupyterHub\n"
     ]
    }
   ],
   "source": [
    "cd /Users/mozumder/JupyterHub/"
   ]
  },
  {
   "cell_type": "code",
   "execution_count": 15,
   "id": "yellow-greensboro",
   "metadata": {},
   "outputs": [
    {
     "name": "stdout",
     "output_type": "stream",
     "text": [
      "'AiiDA-KKR tutorial - Basic calculations.ipynb'\n",
      " AiiDA_KKR_tutorial_using_workflows_part_II.ipynb\n",
      " Untitled.ipynb\n",
      " \u001b[0m\u001b[01;34maiida_nodes\u001b[0m/\n",
      " \u001b[01;34maiida_practice\u001b[0m/\n",
      " claix\n",
      " delet_8783-error_144\n",
      " delete_report_6884.txt\n",
      " delete_report_6953.txt\n",
      " delete_report_6959.txt\n",
      " delta_structures_and_parameters.tar.gz\n",
      "'dope_3d&3d_Bi2Te3.ipynb'\n",
      " fleur_iffslurm.aiida\n",
      " \u001b[01;34mfolder_delete\u001b[0m/\n",
      " iffslurm_option_nodes_group.aiida\n",
      " kkr_codes_iffslurm.aiida\n",
      " kkr_imp_calc.ipynb\n",
      "'kkr_scf_wc - full KKR self-consistency.ipynb'\n",
      " kkrimp_workflow.ipynb\n",
      " mathlabplting.ipynb\n",
      " \u001b[01;34msubmit_test\u001b[0m/\n"
     ]
    }
   ],
   "source": [
    "\n"
   ]
  },
  {
   "cell_type": "code",
   "execution_count": 10,
   "id": "economic-ground",
   "metadata": {},
   "outputs": [
    {
     "name": "stdout",
     "output_type": "stream",
     "text": [
      "1_10.png  1_9.png   2_8.png   3_7.png   4_6.png   5_5.png   6_4.png   7_3.png\n",
      "1_11.png  2_10.png  2_9.png   3_8.png   4_7.png   5_6.png   6_5.png   7_4.png\n",
      "1_12.png  2_11.png  3_10.png  3_9.png   4_8.png   5_7.png   6_6.png   7_5.png\n",
      "1_3.png   2_12.png  3_11.png  4_10.png  4_9.png   5_8.png   6_7.png   7_6.png\n",
      "1_4.png   2_3.png   3_12.png  4_11.png  5_10.png  5_9.png   6_8.png   7_7.png\n",
      "1_5.png   2_4.png   3_3.png   4_12.png  5_11.png  6_10.png  6_9.png   7_8.png\n",
      "1_6.png   2_5.png   3_4.png   4_3.png   5_12.png  6_11.png  7_10.png  7_9.png\n",
      "1_7.png   2_6.png   3_5.png   4_4.png   5_3.png   6_12.png  7_11.png\n",
      "1_8.png   2_7.png   3_6.png   4_5.png   5_4.png   6_3.png   7_12.png\n"
     ]
    }
   ],
   "source": [
    "ls"
   ]
  },
  {
   "cell_type": "code",
   "execution_count": null,
   "id": "supreme-behavior",
   "metadata": {},
   "outputs": [],
   "source": []
  }
 ],
 "metadata": {
  "kernelspec": {
   "display_name": "AiiDA",
   "language": "python",
   "name": "aiida"
  },
  "language_info": {
   "codemirror_mode": {
    "name": "ipython",
    "version": 3
   },
   "file_extension": ".py",
   "mimetype": "text/x-python",
   "name": "python",
   "nbconvert_exporter": "python",
   "pygments_lexer": "ipython3",
   "version": "3.8.5"
  }
 },
 "nbformat": 4,
 "nbformat_minor": 5
}
