{
 "cells": [
  {
   "cell_type": "code",
   "execution_count": null,
   "id": "manufactured-judgment",
   "metadata": {
    "jupyter": {
     "source_hidden": true
    }
   },
   "outputs": [],
   "source": [
    "\"\"\" \n",
    "In this Ipython kkr_imp_wc has been run for 3d and 4d group \n",
    "of atoms on the host Bi2Te3 at ilayer 3 and 4 \n",
    "\n",
    "\"\"\"\n"
   ]
  },
  {
   "cell_type": "code",
   "execution_count": null,
   "id": "organized-snapshot",
   "metadata": {
    "collapsed": true,
    "jupyter": {
     "outputs_hidden": true
    }
   },
   "outputs": [],
   "source": [
    "\"\"\"\n",
    "1-dopant:\n",
    "3d and 4d dopants in Bi_2Te_3 bulk\n",
    "uuid1:'7195b4be-ba12-4cd5-b5fc-b056a7c4ce11' , pk 371\n",
    "\n",
    "uuid1 represents the kkr_imp_wc for the 1 Eu atoms in the replacing \n",
    "the 1 Bi from the bulk Bi_2Te_3.\n",
    "-----------------------------------------------------------------------\n",
    "2-dopants:\n",
    "uuid2:'cd5e53ce-edf3-4df6-92ba-f734010d55e0' pk:2051\n",
    "\n",
    "uuid2 represents the kkr_imp_wc for the 2 Eu atoms in the replacing\n",
    "the 2 Bi from the bulk Bi_2Te_3.\n",
    "----------------------------------------------------------------\n",
    "Voronoi_calc pk = 236; \n",
    "label:aux calc to update structure to primitive one\n",
    "description\n",
    "\n",
    "Strusture: (uuid:'c1626804-5b71-450c-91c4-aa7197d85279',\n",
    "label:'Bi2Te3_bulk_primitive', pk:234)\n",
    "\n",
    "Prameters: 233\n",
    "\n",
    "{'FCM': 20.0, 'EMAX': 1.2, 'EMIN': -0.8, 'GMAX': 65.0, 'IMIX': 5, 'LMAX': 3,\n",
    " 'NAEZ': 10, 'NPOL': 5, 'NPT1': 5, 'NPT2': 50, 'NPT3': 3, 'RMAX': 7.0,\n",
    " 'NATYP': 10, 'NCHEB': 12, 'NSPIN': 2,'R_LOG': 0.8, 'TEMPR': 800.0,\n",
    " 'BRYMIX': 0.04, 'HFIELD': 0.0, 'ITDBRY': 30, 'NSTEPS': 50, 'QBOUND': 1e-07,\n",
    " 'RUNOPT': ['LLOYD', 'NEWSOSOL', '...', '...'], 'STRMIX': 0.01,\n",
    " '<ZATOM>': [52.0, 52.0, 52.0, 83.0, 83.0, 0.0, 0.0, 0.0, 0.0, 0.0],\n",
    " 'BRAVAIS': [[-0.5, -0.2886751345, 2.3185997682],\n",
    "  [0.5, -0.2886751345, 2.3185997682],\n",
    "  [0.0, 0.577350269, 2.3185997682]],\n",
    " 'LINIPOL': False, 'NPAN_EQ': 7, 'RCLUSTZ': 1.6, 'TESTOPT': ['DOS', 'MPIatom'],\n",
    " '<RBASIS>': [[0.0, 0.0, 0.0],\n",
    "         [0.212, 0.212, 0.212],\n",
    "  [-0.212, -0.212, -0.212],\n",
    "  [0.4, 0.4, 0.4],\n",
    "  [-0.4, -0.4, -0.4],\n",
    "  [0.1, 0.1, 0.1],\n",
    "  [-0.1, -0.1, -0.1],\n",
    "  [0.3, 0.3, 0.3],\n",
    "  [-0.3, -0.3, -0.3],\n",
    "  [0.5, 0.5, 0.5]],\n",
    " 'BZDIVIDE': [40, 40, 40], 'NPAN_LOG': 17, 'RCLUSTXY': 1.6, \n",
    " 'ALATBASIS': 8.2826, 'CARTESIAN': False, 'use_input_alat': True}\n",
    " \n",
    "In first attempt:\n",
    "\n",
    "+++ 3d and 4d dopants in ilayer-3 +++\n",
    "all_possible_dict------\n",
    "{1: {'Rcut': 4.4, 'Zimp': 21, 'ilayer_center': 3}, 2: {'Rcut': 4.4, 'Zimp': 22, 'ilayer_center': 3},\n",
    " 3: {'Rcut': 4.4, 'Zimp': 23, 'ilayer_center': 3}, 4: {'Rcut': 4.4, 'Zimp': 24, 'ilayer_center': 3},\n",
    " 5: {'Rcut': 4.4, 'Zimp': 25, 'ilayer_center': 3}, 6: {'Rcut': 4.4, 'Zimp': 26, 'ilayer_center': 3},\n",
    " 7: {'Rcut': 4.4, 'Zimp': 27, 'ilayer_center': 3}, 8: {'Rcut': 4.4, 'Zimp': 28, 'ilayer_center': 3},\n",
    " 9: {'Rcut': 4.4, 'Zimp': 29, 'ilayer_center': 3}, 10: {'Rcut': 4.4, 'Zimp': 30, 'ilayer_center': 3},\n",
    " 11: {'Rcut': 4.4, 'Zimp': 39, 'ilayer_center': 3}, 12: {'Rcut': 4.4, 'Zimp': 40, 'ilayer_center': 3},\n",
    " 13: {'Rcut': 4.4, 'Zimp': 41, 'ilayer_center': 3}, 14: {'Rcut': 4.4, 'Zimp': 42, 'ilayer_center': 3},\n",
    " 15: {'Rcut': 4.4, 'Zimp': 43, 'ilayer_center': 3}, 16: {'Rcut': 4.4, 'Zimp': 44, 'ilayer_center': 3},\n",
    " 17: {'Rcut': 4.4, 'Zimp': 45, 'ilayer_center': 3}, 18: {'Rcut': 4.4, 'Zimp': 46, 'ilayer_center': 3},\n",
    " 19: {'Rcut': 4.4, 'Zimp': 47, 'ilayer_center': 3}, 20: {'Rcut': 4.4, 'Zimp': 48, 'ilayer_center': 3}}\n",
    "\n",
    "all_imp_remainder------\n",
    "{11: {'Rcut': 4.4, 'Zimp': 39, 'ilayer_center': 3},\n",
    "{'Rcut': 4.4, 'Zimp': 40, 'ilayer_center': 3}}\n",
    "From pk=10385 all the wc has been restarted\n",
    "bin_success_info------\n",
    "{2: {'pk': 10725, 'uuid': '6ef52bbc-e884-4d75-bc45-0163a5c81661', 'exit_status': 0, 'track_num': 2, 'imp_info': {'Rcut': 4.4, 'Zimp': 22, 'ilayer_center': 3}},\n",
    " 3: {'pk': 10746, 'uuid': '77b1e449-4ea4-407d-9d8c-704bdaeea0b3', 'exit_status': 0, 'track_num': 3, 'imp_info': {'Rcut': 4.4, 'Zimp': 23, 'ilayer_center': 3}},\n",
    " 4: {'pk': 10767, 'uuid': 'b2304cae-2811-4026-bf60-357af682021e', 'exit_status': 0, 'track_num': 4, 'imp_info': {'Rcut': 4.4, 'Zimp': 24, 'ilayer_center': 3}},\n",
    " 5: {'pk': 10788, 'uuid': '4d951fdf-fa47-439b-a351-c9c0240f548d', 'exit_status': 0, 'track_num': 5, 'imp_info': {'Rcut': 4.4, 'Zimp': 25, 'ilayer_center': 3}},\n",
    " 7: {'pk': 10830, 'uuid': 'ce817c8e-8e83-40a7-a1b6-a682328348fa', 'exit_status': 0, 'track_num': 7, 'imp_info': {'Rcut': 4.4, 'Zimp': 27, 'ilayer_center': 3}},\n",
    " 1: {'pk': 10705, 'uuid': '346336a2-ec13-46f7-bf72-6546735da625', 'exit_status': 0, 'track_num': 1, 'imp_info': {'Rcut': 4.4, 'Zimp': 21, 'ilayer_center': 3}},\n",
    " 6: {'pk': 10648, 'uuid': '67178336-6467-408d-8ed6-8d5a61c875dc', 'exit_status': 0, 'track_num': 6, 'imp_info': {'Rcut': 4.4, 'Zimp': 26, 'ilayer_center': 3}},\n",
    " 8: {'pk': 10851, 'uuid': 'ae4e19ed-9f0e-47ee-a6c8-99c922d7ba6f', 'exit_status': 0, 'track_num': 8, 'imp_info': {'Rcut': 4.4, 'Zimp': 28, 'ilayer_center': 3}},\n",
    " 10: {'pk': 11171, 'uuid': '8ed8bf7d-f55f-47eb-bcf2-2da7a180f72b', 'exit_status': 0, 'track_num': 10, 'imp_info': {'Rcut': 4.4, 'Zimp': 30, 'ilayer_center': 3}},\n",
    " 12: {'pk': 11286, 'uuid': '20477735-bfdf-46cf-9143-80289e72ecea', 'exit_status': 0, 'track_num': 12, 'imp_info': {'Rcut': 4.4, 'Zimp': 40, 'ilayer_center': 3}},\n",
    " 9: {'pk': 11158, 'uuid': 'c4177baf-657f-4150-8d3f-3aff9d4401aa', 'exit_status': 0, 'track_num': 9, 'imp_info': {'Rcut': 4.4, 'Zimp': 29, 'ilayer_center': 3}},\n",
    " 11: {'pk': 11266, 'uuid': '6fcc0f73-d3bc-48d9-af52-e70568a632cb', 'exit_status': 0, 'track_num': 11, 'imp_info': {'Rcut': 4.4, 'Zimp': 39, 'ilayer_center': 3}},\n",
    " 13: {'pk': 11307, 'uuid': '18917833-6814-49ef-9578-cc9a976b0f1a', 'exit_status': 0, 'track_num': 13, 'imp_info': {'Rcut': 4.4, 'Zimp': 41, 'ilayer_center': 3}},\n",
    " 15: {'pk': 11691, 'uuid': '655ed778-4899-4a22-8506-ea4fc020373d', 'exit_status': 0, 'track_num': 15, 'imp_info': {'Rcut': 4.4, 'Zimp': 43, 'ilayer_center': 3}},\n",
    " 14: {'pk': 11671, 'uuid': '2480d670-c4e0-4c44-836e-b4731060660e', 'exit_status': 0, 'track_num': 14, 'imp_info': {'Rcut': 4.4, 'Zimp': 42, 'ilayer_center': 3}},\n",
    " 16: {'pk': 11712, 'uuid': 'b09a4e9d-4b7a-4006-8a84-8413b773ac37', 'exit_status': 0, 'track_num': 16, 'imp_info': {'Rcut': 4.4, 'Zimp': 44, 'ilayer_center': 3}},\n",
    " 17: {'pk': 11733, 'uuid': 'dea3ec9b-73bc-4a80-821a-a645d8ee556b', 'exit_status': 0, 'track_num': 17, 'imp_info': {'Rcut': 4.4, 'Zimp': 45, 'ilayer_center': 3}},\n",
    " 18: {'pk': 11754, 'uuid': '67d53342-5203-4542-9621-174fa66f592f', 'exit_status': 0, 'track_num': 18, 'imp_info': {'Rcut': 4.4, 'Zimp': 46, 'ilayer_center': 3}},\n",
    " 19: {'pk': 11775, 'uuid': '4d3c18d1-c15f-4545-89aa-44198fdaeb08', 'exit_status': 0, 'track_num': 19, 'imp_info': {'Rcut': 4.4, 'Zimp': 47, 'ilayer_center': 3}},\n",
    " 20: {'pk': 11796, 'uuid': '6a6a0008-219a-406c-86c7-90a9993d8dd7', 'exit_status': 0, 'track_num': 20, 'imp_info': {'Rcut': 4.4, 'Zimp': 48, 'ilayer_center': 3}}}\n",
    " --- 3d and 4d dopants in ilayer-3 ---\n",
    " \n",
    " +++ 3d and 4d dopants in ilayer-4 +++ \n",
    "all_possible_dict------\n",
    "{1: {'Rcut': 4.4, 'Zimp': 21, 'ilayer_center': 4}, 2: {'Rcut': 4.4, 'Zimp': 22, 'ilayer_center': 4},\n",
    " 3: {'Rcut': 4.4, 'Zimp': 23, 'ilayer_center': 4}, 4: {'Rcut': 4.4, 'Zimp': 24, 'ilayer_center': 4},\n",
    " 5: {'Rcut': 4.4, 'Zimp': 25, 'ilayer_center': 4}, 6: {'Rcut': 4.4, 'Zimp': 26, 'ilayer_center': 4},\n",
    " 7: {'Rcut': 4.4, 'Zimp': 27, 'ilayer_center': 4}, 8: {'Rcut': 4.4, 'Zimp': 28, 'ilayer_center': 4},\n",
    " 9: {'Rcut': 4.4, 'Zimp': 29, 'ilayer_center': 4}, 10: {'Rcut': 4.4, 'Zimp': 30, 'ilayer_center': 4},\n",
    " 11: {'Rcut': 4.4, 'Zimp': 39, 'ilayer_center': 4}, 12: {'Rcut': 4.4, 'Zimp': 40, 'ilayer_center': 4},\n",
    " 13: {'Rcut': 4.4, 'Zimp': 41, 'ilayer_center': 4}, 14: {'Rcut': 4.4, 'Zimp': 42, 'ilayer_center': 4},\n",
    " 15: {'Rcut': 4.4, 'Zimp': 43, 'ilayer_center': 4}, 16: {'Rcut': 4.4, 'Zimp': 44, 'ilayer_center': 4},\n",
    " 17: {'Rcut': 4.4, 'Zimp': 45, 'ilayer_center': 4}, 18: {'Rcut': 4.4, 'Zimp': 46, 'ilayer_center': 4},\n",
    " 19: {'Rcut': 4.4, 'Zimp': 47, 'ilayer_center': 4}, 20: {'Rcut': 4.4, 'Zimp': 48, 'ilayer_center': 4}}\n",
    " \n",
    " all_imp_remainder------\n",
    "imp_setup_dict_list = {11: {'Rcut': 4.4, 'Zimp': 39, 'ilayer_center': 4},\n",
    "                       12: {'Rcut': 4.4, 'Zimp': 40, 'ilayer_center': 4}}\n",
    "\n",
    "\n",
    "bin_success_info------\n",
    " {4: {'pk': 12645, 'uuid': 'da0e1888-375d-436d-acef-5b5fc5fc2938', 'exit_status': 0, 'track_num': 4, 'imp_info': {'Rcut': 4.4, 'Zimp': 24, 'ilayer_center': 4}},\n",
    "  2: {'pk': 12603, 'uuid': '3cc483f2-843b-4f66-88fe-ddd79eb30f4b', 'exit_status': 0, 'track_num': 2, 'imp_info': {'Rcut': 4.4, 'Zimp': 22, 'ilayer_center': 4}},\n",
    "  7: {'pk': 12709, 'uuid': '9319fbfa-44e2-40c7-b44e-030e1f3d73fa', 'exit_status': 0, 'track_num': 7, 'imp_info': {'Rcut': 4.4, 'Zimp': 27, 'ilayer_center': 4}},\n",
    "  8: {'pk': 12740, 'uuid': '00fea88b-0459-4dc4-b2a1-6b320a5241b0', 'exit_status': 0, 'track_num': 8, 'imp_info': {'Rcut': 4.4, 'Zimp': 28, 'ilayer_center': 4}},\n",
    "  5: {'pk': 12666, 'uuid': '9b9177f3-80d5-444f-ad06-b962e85f6520', 'exit_status': 0, 'track_num': 5, 'imp_info': {'Rcut': 4.4, 'Zimp': 25, 'ilayer_center': 4}},\n",
    "  1: {'pk': 12583, 'uuid': 'b70bdd09-6d12-45e4-b5c8-63d1f432c786', 'exit_status': 0, 'track_num': 1, 'imp_info': {'Rcut': 4.4, 'Zimp': 21, 'ilayer_center': 4}},\n",
    "  3: {'pk': 12624, 'uuid': 'b011e733-6e43-4f5e-a89c-6d512321d4c4', 'exit_status': 0, 'track_num': 3, 'imp_info': {'Rcut': 4.4, 'Zimp': 23, 'ilayer_center': 4}},\n",
    "  10: {'pk': 13214, 'uuid': '5800d1fb-cb10-4f34-887b-82cf9514ed00', 'exit_status': 0, 'track_num': 10, 'imp_info': {'Rcut': 4.4, 'Zimp': 30, 'ilayer_center': 4}},\n",
    "  13: {'pk': 13289, 'uuid': '44b9c5ae-4eb0-4019-b50f-0866eef12379', 'exit_status': 0, 'track_num': 13, 'imp_info': {'Rcut': 4.4, 'Zimp': 41, 'ilayer_center': 4}},\n",
    "  9: {'pk': 13162, 'uuid': '0d9c8fe9-f44a-4d8e-a7e0-485052630da0', 'exit_status': 0, 'track_num': 9, 'imp_info': {'Rcut': 4.4, 'Zimp': 29, 'ilayer_center': 4}},\n",
    "  14: {'pk': 13336, 'uuid': 'b540d956-dc3a-4fa9-8db4-8449ce156f36', 'exit_status': 0, 'track_num': 14, 'imp_info': {'Rcut': 4.4, 'Zimp': 42, 'ilayer_center': 4}},\n",
    "  6: {'pk': 12687, 'uuid': '02a43e44-5da5-4e3b-b0a2-e950b74b9c6c', 'exit_status': 0, 'track_num': 6, 'imp_info': {'Rcut': 4.4, 'Zimp': 26, 'ilayer_center': 4}},\n",
    "  15: {'pk': 13674, 'uuid': '164cc88f-acc9-4301-9d27-e64466ab55a5', 'exit_status': 0, 'track_num': 15, 'imp_info': {'Rcut': 4.4, 'Zimp': 43, 'ilayer_center': 4}},\n",
    "  16: {'pk': 13694, 'uuid': 'ce2013f8-8a7f-4cec-a548-c2572a6edda8', 'exit_status': 0, 'track_num': 16, 'imp_info': {'Rcut': 4.4, 'Zimp': 44, 'ilayer_center': 4}},\n",
    "  19: {'pk': 13759, 'uuid': '57735511-c2ee-48fb-aa89-9abe6510e8de', 'exit_status': 0, 'track_num': 19, 'imp_info': {'Rcut': 4.4, 'Zimp': 47, 'ilayer_center': 4}},\n",
    "  18: {'pk': 13737, 'uuid': '5fa793b4-b419-4601-b1ae-bc22da2b8528', 'exit_status': 0, 'track_num': 18, 'imp_info': {'Rcut': 4.4, 'Zimp': 46, 'ilayer_center': 4}},\n",
    "  17: {'pk': 13716, 'uuid': '77ca54f1-9b3a-49ff-9604-cd64fed293ce', 'exit_status': 0, 'track_num': 17, 'imp_info': {'Rcut': 4.4, 'Zimp': 45, 'ilayer_center': 4}},\n",
    "  20: {'pk': 13780, 'uuid': '479a1640-4e0f-4014-b6fc-191b8a26912e', 'exit_status': 0, 'track_num': 20, 'imp_info': {'Rcut': 4.4, 'Zimp': 48, 'ilayer_center': 4}}}\n",
    "    \n",
    "---3d and 4d dopants in ilayer-4 ---\n",
    "\"\"\"\n"
   ]
  },
  {
   "cell_type": "code",
   "execution_count": null,
   "id": "concrete-london",
   "metadata": {},
   "outputs": [],
   "source": [
    "\"\"\"\n",
    "Delete from 3015 to 15766\n",
    "\"\"\""
   ]
  },
  {
   "cell_type": "code",
   "execution_count": null,
   "id": "opposed-water",
   "metadata": {},
   "outputs": [],
   "source": []
  },
  {
   "cell_type": "code",
   "execution_count": 2,
   "id": "alive-cambridge",
   "metadata": {},
   "outputs": [
    {
     "name": "stdout",
     "output_type": "stream",
     "text": [
      "profile name :  default\n",
      "profile database host name :  localhost\n",
      "default user :  r.mozumder@fz-juelich.de\n"
     ]
    }
   ],
   "source": [
    "#load aiida environment and connect to database\n",
    "from aiida import load_profile\n",
    "\n",
    "profile = load_profile()\n",
    "print('profile name : ',profile.name)\n",
    "print('profile database host name : ',profile.database_hostname)\n",
    "print('default user : ',profile.default_user)"
   ]
  },
  {
   "cell_type": "code",
   "execution_count": 3,
   "id": "increased-government",
   "metadata": {},
   "outputs": [],
   "source": [
    "# load classes and functions\n",
    "from aiida.orm import CifData, Code, Dict, load_node, StructureData\n",
    "# from aiida.orm import\n",
    "from aiida_kkr.tools import kkrparams\n",
    "from aiida.engine import submit\n",
    "from aiida_kkr.tools import kkrparams, plot_kkr\n"
   ]
  },
  {
   "cell_type": "code",
   "execution_count": 4,
   "id": "ceramic-radical",
   "metadata": {},
   "outputs": [],
   "source": [
    "metadata_option_1 = {'max_wallclock_seconds': 36000,'resources': \n",
    "               {'tot_num_mpiprocs': 48, 'num_machines': 1},\n",
    "              'custom_scheduler_commands': \n",
    "              '#SBATCH --account=jara0191\\n\\nulimit -s unlimited; export OMP_STACKSIZE=2g',\n",
    "              'withmpi': True\n",
    "                    }\n"
   ]
  },
  {
   "cell_type": "code",
   "execution_count": 5,
   "id": "genetic-community",
   "metadata": {},
   "outputs": [
    {
     "name": "stdout",
     "output_type": "stream",
     "text": [
      "missing paramter :  ['ALATBASIS', 'BRAVAIS', 'NAEZ', '<RBASIS>', '<ZATOM>']\n",
      "Version of workflow: 0.10.4\n"
     ]
    },
    {
     "name": "stderr",
     "output_type": "stream",
     "text": [
      "/usr/local/lib/python3.8/dist-packages/pymatgen/io/cif.py:1193: UserWarning: Issues encountered while parsing CIF: Some fractional co-ordinates rounded to ideal values to avoid issues with finite precision.\n",
      "  warnings.warn(\n"
     ]
    }
   ],
   "source": [
    "from aiida.orm import CifData, Code, Dict, load_node\n",
    "from aiida.engine import submit\n",
    "from aiida_kkr.tools import kkrparams, plot_kkr\n",
    "import os\n",
    "\n",
    "# cif = CifData(file=os.path.abspath('/home/mozumder/Home/Downloads/Bi2Te3_mp-34202_primitive.cif'))\n",
    "cif = CifData(file=os.path.abspath('/home/mozumder/Home/Downloads/Bi2Te3_mp-568390_conventional_standard.cif'))\n",
    "\n",
    "struc_Bi2Te3 = cif.get_structure()\n",
    "\n",
    "## voro calculation for Bi2Te3 \n",
    "# struc_Bi2Te3 = load_node(234)\n",
    "param_Bi2Te3 = kkrparams(params_type='voronoi', LMAX=3, NSPIN=2, RCLUSTZ=15.0)\n",
    "node_param_Bi2Te3 = Dict(dict=param_Bi2Te3)\n",
    "print('missing paramter : ', param_Bi2Te3.get_missing_keys())\n",
    "code = Code.get_from_string('voro@claix18_init')\n",
    "builder_voro = code.get_builder()\n",
    "builder_voro.structure = struc_Bi2Te3\n",
    "builder_voro.parameters = node_param_Bi2Te3\n",
    "builder_voro.metadata.options = metadata_option_1\n",
    "# dry run setup\n",
    "builder_voro.metadata.dry_run = False\n",
    "builder_voro.metadata.store_provenance = True\n",
    "# voro_calc = submit(builder_voro) # 3162 by prim_unit\n",
    "                                    # 3166 by standard conventional cell\n",
    "\n",
    "\n",
    "\n",
    "## 3d and 4d dopants susing the wf \n",
    "## note that here only one impurity is provided \n",
    "## only one kkr_imp_wf has been launched.\n",
    "\n",
    "from aiida_kkr.workflows import kkr_scf_wc\n",
    "settings, _ = kkr_scf_wc.get_wf_defaults()\n",
    "\n",
    "# activate magnetic initialization, reduce convegence criterion and increase mixing\n",
    "settings['mag_init'] = True\n",
    "settings['natom_in_cls_min'] = 25\n",
    "settings['convergence_criterion'] = 1e-6\n",
    "settings['nsteps'] = 300\n",
    "settings['threshold_switch_high_accuracy'] = 1e-2\n",
    "\n",
    "builder = kkr_scf_wc.get_builder()\n",
    "\n",
    "# set structure input using the primitive structure\n",
    "builder.structure = struc_Bi2Te3\n",
    "\n",
    "# set minimals et of KKR parameters\n",
    "builder.calc_parameters = Dict(dict={'LMAX': 2, 'NSPIN': 2})\n",
    "\n",
    "# set the workflow settings\n",
    "builder.wf_parameters = Dict(dict=settings)\n",
    "\n",
    "# set the codes and options\n",
    "builder.voronoi = Code.get_from_string('voro@claix18_init')\n",
    "builder.kkr = Code.get_from_string('kkr@claix18_init')\n",
    "# load options for the oscar partition of iffslurm (comes with iffslurm import file) which uses a single node for up to 1h with mpi\n",
    "builder.options = Dict(dict=metadata_option_1)\n",
    "\n",
    "# set a calculation label and a description (optional)\n",
    "builder.metadata.label = 'Bi2T3'\n",
    "builder.metadata.description = 'Structure of Bi2Te3 from the node=234'\n",
    "\n",
    "# scf = submit(builder) pk=3105; uuid='13a08a52-44ec-4916-8d68-9579bcde4810'"
   ]
  },
  {
   "cell_type": "code",
   "execution_count": 6,
   "id": "norwegian-breed",
   "metadata": {},
   "outputs": [
    {
     "data": {
      "text/plain": [
       "{'max_wallclock_seconds': 36000,\n",
       " 'resources': {'tot_num_mpiprocs': 48, 'num_machines': 1},\n",
       " 'custom_scheduler_commands': '#SBATCH --account=jara0191\\n\\nulimit -s unlimited; export OMP_STACKSIZE=2g',\n",
       " 'withmpi': True}"
      ]
     },
     "execution_count": 6,
     "metadata": {},
     "output_type": "execute_result"
    }
   ],
   "source": [
    "metadata_option_1"
   ]
  },
  {
   "cell_type": "code",
   "execution_count": 10,
   "id": "traditional-singles",
   "metadata": {},
   "outputs": [],
   "source": [
    "kkrhost_wc_Bi2Te3 = load_node(3105) \n",
    "label = 'Fe:'+'Bi2Te3'\n",
    "imp_info = {'Rcut': 4.4, 'Zimp': [26.0], 'ilayer_center': 4}\n",
    "remote_data_Bi2Te3 = kkrhost_wc_Bi2Te3.outputs.last_RemoteData\n"
   ]
  },
  {
   "cell_type": "code",
   "execution_count": 6,
   "id": "finnish-subsection",
   "metadata": {},
   "outputs": [
    {
     "name": "stdout",
     "output_type": "stream",
     "text": [
      "Version of workflow: 0.8.0\n"
     ]
    }
   ],
   "source": [
    "kkrhost_wc_Bi2Te3 = load_node(3105) \n",
    "label = 'Fe:'+'Bi2Te3'\n",
    "imp_info = {'Rcut': 4.4, 'Zimp': [26.0], 'ilayer_center': 4}\n",
    "remote_data_Bi2Te3 = kkrhost_wc_Bi2Te3.outputs.last_RemoteData\n",
    "\n",
    "from aiida_kkr.workflows import kkr_imp_wc\n",
    "options, settings_imp, settings_vorostart = kkr_imp_wc.get_wf_defaults()\n",
    "settings_imp['mag_init'] = True\n",
    "settings_imp['natom_in_cls_min'] = 25\n",
    "settings_imp['retrieve_kkrflex'] = True\n",
    "settings_imp['convergence_criterion'] = 1e-6\n",
    "settings_imp['nsteps'] = 300\n",
    "settings_imp['strmix'] = 0.02\n",
    "settings_imp['threshold_aggressive_mixing'] = 0.0004\n",
    "\n",
    "\n",
    "\n",
    "builder_imp_Fe = kkr_imp_wc.get_builder()\n",
    "builder_imp_Fe.options = Dict(dict=metadata_option_1)\n",
    "builder_imp_Fe.voronoi = Code.get_from_string('voro@claix18_init')\n",
    "builder_imp_Fe.kkr = Code.get_from_string('kkr@claix18_init')\n",
    "builder_imp_Fe.kkrimp = Code.get_from_string('kkrflex@claix18_init')\n",
    "builder_imp_Fe.wf_parameters = Dict(dict=settings_imp)\n",
    "builder_imp_Fe.remote_data_host = remote_data_Bi2Te3\n",
    "builder_imp_Fe.metadata.label = label\n",
    "builder_imp_Fe.metadata.description = 'd-block imp on the host Bi2Te3 repalceing one Bi'\n",
    "builder_imp_Fe.impurity_info = Dict(dict=imp_info) \n",
    "\n",
    "# Fe_Bi2Te3_wc = submit(builder_imp_Fe)\n",
    "\n",
    "## successful process:\n",
    "## nicer convergence in acending order\n",
    "\n",
    "\n",
    "# Fe_Bi2Te3_wc\n",
    "# pk(strmix, agressive) = 10439(0.02, 0.0004), 10385(0.02, 0.0001),\n",
    "# \n",
    "# And 10385 has been used below\n",
    "# This info for the i-layer_pos=3 *******\n",
    "#     imp_info = {'Rcut': 4.4, 'Zimp': 26.0, 'ilayer_center': 3}\n",
    "\n",
    "\n",
    "# pk: 12236 uuid : 57e08a91-f208-4e90-a704-e4164c9fd078\n",
    "# This info for the i-layer_pos=4 *******\n",
    "#     imp_info = {'Rcut': 4.4, 'Zimp': 26.0, 'ilayer_center': 4}\n",
    "\n",
    "# ****** uuid : \n",
    "#     imp_info = {'Rcut': 4.4, 'Zimp': [26.0,26.0], Rimp_rel: [[0.0,0.0,0.0],[0.0, 0.0, -6.097402427172]] 'ilayer_center': 4}\n"
   ]
  },
  {
   "cell_type": "code",
   "execution_count": null,
   "id": "generous-moderator",
   "metadata": {},
   "outputs": [],
   "source": []
  },
  {
   "cell_type": "code",
   "execution_count": 7,
   "id": "soviet-pharmacy",
   "metadata": {},
   "outputs": [
    {
     "data": {
      "text/plain": [
       "{'Rcut': 2, 'Zimp': 1, 'ilayer_center': 3}"
      ]
     },
     "execution_count": 7,
     "metadata": {},
     "output_type": "execute_result"
    }
   ],
   "source": [
    "## Starts 001-----------------\n",
    "## The work on the previous section has been run for single impurity \n",
    "## Fe in host Bi2Te3, here the same work for all the dopants from the\n",
    "## 3d and 4d element\n",
    "\n",
    "import numpy as np\n",
    "\n",
    "d_elmt_zatom = [*range(21,31, 1)] + [*range(39,49, 1)]\n",
    "i_layer = [3,4]\n",
    "## function to construct the impurity dict and return it.\n",
    "def imp_dict(zatom, Rcut, ilayer):\n",
    "    imp_info = {'Rcut': Rcut, 'Zimp': zatom, 'ilayer_center': ilayer}\n",
    "    return imp_info\n",
    "imp_dict(1,2,3)\n",
    "# elmt[0]"
   ]
  },
  {
   "cell_type": "code",
   "execution_count": null,
   "id": "impossible-blocking",
   "metadata": {},
   "outputs": [],
   "source": []
  },
  {
   "cell_type": "code",
   "execution_count": 8,
   "id": "norman-maldives",
   "metadata": {},
   "outputs": [],
   "source": [
    "##### This is the edited part and my be final part\n",
    "\n",
    "## Previous successful kkr_imp_wc process\n",
    "\n",
    "from aiida.engine import workfunction\n",
    "Fe_Bi2Te3_wc = load_node(12236)\n",
    "host_gf = Fe_Bi2Te3_wc.outputs.remote_data_gf\n",
    "imp_info_old = Fe_Bi2Te3_wc.inputs.impurity_info.get_dict()\n",
    "# @workfunction\n",
    "def submition_bunch_wc(parent_wc, builder_option, imp_num_each_step=None, imp_Z_list=None, \n",
    "                       ilayers=[],label=None,description=None, imp_setup_dict_list=None,\n",
    "                       group_label= None, group_description=None,\n",
    "                       ):\n",
    "    import time as t\n",
    "    from aiida.common.constants import elements as elmt\n",
    "    from aiida.orm import (CifData, Code, Dict, load_node,load_group, StructureData,\n",
    "                          Group)\n",
    "\n",
    "    \"\"\"\n",
    "params:\n",
    "    imp_dict(dict)\n",
    "\n",
    "    \"\"\"\n",
    "    imp_dict = parent_wc.inputs.impurity_info.get_dict()\n",
    "    host_gf = parent_wc.outputs.remote_data_gf\n",
    "    is_imp_dict_available = False\n",
    "    ## create group and store it\n",
    "    try :\n",
    "        existed_group= load_group(label=str(group_label))\n",
    "        print('The given Group exists in DB.  So new successfull Nodes'\n",
    "              + 'will be added with the group. Group pk {}'.format(existed_group.pk))\n",
    "        created_group = existed_group\n",
    "    except ImportError:\n",
    "        if(group_label is None):\n",
    "            group_label='Restarted_wc_from_uuid_{}'.format(parent_wc.uuid)\n",
    "        if group_description is None:\n",
    "            group_description='The parent wc impurity info {}'.format(imp_dict)\n",
    "        created_group=Group(label=group_label, description=group_description)\n",
    "        created_group.store()\n",
    "    if imp_setup_dict_list==None:\n",
    "        print(\"No impurity setup is provided. The impurity setup will be created as follows \\n\\\n",
    "              Combination among all the atoms in the imp_Z_list consisting imp_num_each_step\\n\\\n",
    "              atom in each group. Each group will be set in the ilayers position. A \\n\\\n",
    "              combination among the ilayers element will be consider, each group will \\n\\\n",
    "              have the same length as numbe of atoms in each atom group\" )\n",
    "    \n",
    "        if imp_num_each_step == 1:\n",
    "        ## To create all the possible imp_settings     \n",
    "            all_possible_dict = {} ## All the posssible_dict combination\n",
    "            all_succeful_dict = {} ## To collect all the successfull dict\n",
    "            all_imp_remaider = {} ## The leftover dict without sucessfull dict\n",
    "\n",
    "            ## order the dict\n",
    "            dict_order = 0\n",
    "            for Z in imp_Z_list[:] :\n",
    "                    for i_layer in ilayers[:]:\n",
    "                        dict_order += 1\n",
    "                        imp_dict['Zimp'] = Z\n",
    "#                         imp_dict['ilayer_center'] = i_layer\n",
    "                        copy_imp_dict = imp_dict.copy()\n",
    "                        all_possible_dict[dict_order] = copy_imp_dict\n",
    "\n",
    "\n",
    "            all_imp_remaider = all_possible_dict.copy()\n",
    "            is_imp_dict_available = True\n",
    "            \n",
    "    elif isinstance(imp_setup_dict_list, dict):\n",
    "        all_possible_dict = imp_setup_dict_list ## All the posssible_dict combination\n",
    "        all_succeful_dict = {} ## To collect all the successfull dict\n",
    "        all_imp_remaider = {} ## The leftover dict without sucessfull dict\n",
    "        all_imp_remaider = all_possible_dict.copy()\n",
    "        is_imp_dict_available = True\n",
    "        dict_order = len(imp_setup_dict_list)\n",
    "        \n",
    "    else :\n",
    "        is_imp_dict_available = False\n",
    "        return 'not possible to run'\n",
    "    ##  some pre assumed or pre known values \n",
    "    ####-------------------------\n",
    "    # Change the workflow parameter here for higher\n",
    "    kkr_imp_wc_dict = parent_wc.inputs.wf_parameters.get_dict()\n",
    "    kkr_imp_wc_dict['nsteps'] = 300\n",
    "    kkr_imp_wc_dict['convergence_criterion'] = 1e-06\n",
    "    kkr_imp_wc_dict['retrieve_kkrflex'] = False\n",
    "    \n",
    "    ####-------------------------\n",
    "    if is_imp_dict_available :\n",
    "        \n",
    "        max_wc_submition = 8\n",
    "        stop_here = False\n",
    "        bin_success_info = {}\n",
    "        bin_= {}   ## eddit it as submitted imp info\n",
    "        ## wc number info\n",
    "        builder_iter = 0 ## for tracking the submitted wc\n",
    "        finished_iter = 0 ## tracking the finished wc\n",
    "        total_wc = dict_order ## Total number of wc to be submitted\n",
    "\n",
    "        if max_wc_submition > total_wc:\n",
    "            max_wc_submition = total_wc\n",
    "        ## To run all the calcualtion according to the all_possible_dict\n",
    "        for order, imp_settings in all_possible_dict.items():\n",
    "            ## stop_here stop all the sumbmition function if exit_status != 0\n",
    "            if stop_here==True:\n",
    "                break\n",
    "                print('At least work chain is finished with exit_code not 0, and stop here break 000')\n",
    "\n",
    "    ####---------------------------------------------------\n",
    "            zatom = imp_settings['Zimp']\n",
    "            imp_symbol = elmt[zatom]['symbol']\n",
    "            label_name = imp_symbol + ':Bi2Te3'\n",
    "            print(label_name)\n",
    "\n",
    "        \n",
    "            \n",
    "            new_imp_dict = imp_settings.copy()\n",
    "            ## step for sumitting the one job\n",
    "            builder = parent_wc.get_builder_restart()\n",
    "            builder.pop('remote_data_host')\n",
    "            builder.remote_data_gf = host_gf\n",
    "            builder.wf_parameters = Dict(dict=kkr_imp_wc_dict)\n",
    "            builder.impurity_info = Dict(dict=new_imp_dict)\n",
    "            builder.metadata.label = str(label_name)\n",
    "            builder.options = builder_option\n",
    "            builder_iter += 1\n",
    "#             submition = submit(builder)\n",
    "            t.sleep(30)\n",
    "            ## Here the bin ony takes upto eight elements of group\n",
    "            bin_element = {'pk': submition.pk,\n",
    "                                  'uuid': submition.uuid,\n",
    "                                  'exit_status': None,\n",
    "                                  'track_num': order, 'imp_info' :new_imp_dict}\n",
    "            bin_[order] = bin_element\n",
    "            ## The keep the activated wc equal or below the max_wc_submition\n",
    "            ## that is the maximum work-chain to be in running \n",
    "            while ((builder_iter-finished_iter >= max_wc_submition) or\n",
    "                (total_wc == builder_iter) or (stop_here==True) ):\n",
    "\n",
    "    #             reduce_iter = 0\n",
    "                t.sleep(120)\n",
    "#                 print('sleeping for 120 second starting of the while loop')\n",
    "                bin_success_wc = []\n",
    "                bin_failure_wc = []\n",
    "    \n",
    "                if (len(bin_) == 0) :\n",
    "                    ## Break the while loop here\n",
    "                    break\n",
    "                    \n",
    "                for calc_order, sub_info in bin_.items():\n",
    "                    wc_pk = bin_[calc_order]['pk']\n",
    "                    calc_node = load_node(wc_pk)\n",
    "                    if calc_node.is_finished == True:\n",
    "                        if calc_node.exit_status == 0:\n",
    "                            print('one clalc is finished')\n",
    "                            bin_[calc_order]['exit_status']=0\n",
    "\n",
    "                            ## To add the dict as a successfull dict\n",
    "                            copy_to_success = all_possible_dict[calc_order].copy()\n",
    "                            all_succeful_dict[calc_order] = (copy_to_success)\n",
    "\n",
    "                            ## To delete the dict from the all_imp_remainder as it is the copy of all_possible_dict\n",
    "                            all_imp_remaider.pop(calc_order)\n",
    "\n",
    "                            ## To collect the successfull calc info such as pk, uuid\n",
    "                            copy_sucess_info = bin_[calc_order].copy()\n",
    "                            created_group.add_nodes(bin_[calc_order]['pk'])\n",
    "    ### change bin_successfl to sucessful_wc info\n",
    "                            bin_success_info[calc_order] = copy_sucess_info\n",
    "                            ## To reduce the dict from the bin_ as it is boundary that can be submit wc at one time\n",
    "                            bin_success_wc.append(calc_order)\n",
    "                            finished_iter += 1\n",
    "                        else :\n",
    "                            bin_failure_wc.append(calc_order)\n",
    "                            stop_here = True\n",
    "                            print('---exit_status is not 0. So, one inconistency in wc {} is found'.format(wc_pk))\n",
    "#                             break ## for for loop break\n",
    "#                     else:\n",
    "#                         print('not even one calc in finished')\n",
    "\n",
    "                ## To delete the element from bin_ as this wc are finished \n",
    "                ## and create the new space for others\n",
    "                if (bin_success_wc != []):\n",
    "                    for i in bin_success_wc[:]:\n",
    "                        bin_.pop(i)\n",
    "                        \n",
    "                if (bin_failure_wc != []):\n",
    "                    for i in bin_failure_wc[:]:\n",
    "                        bin_.pop(i)\n",
    "                \n",
    "                if (builder_iter-finished_iter) >= max_wc_submition or (total_wc == builder_iter) :\n",
    "                    t.sleep(120)\n",
    "                else : \n",
    "                    print('at least one of the group is finished')\n",
    "\n",
    "    ####----------------------------------------------\n",
    "\n",
    "    return all_possible_dict, all_succeful_dict, all_imp_remaider, bin_success_info\n",
    "    # pk: 3264\n",
    "    # builder.metadata.description = 'imp'\n",
    "    # submit(builder)  # uuid: 07d65588-470a-47e0-ba19-0c1ccdb824d1\n",
    "    # pk: 3264\n",
    "imp_num_each_step = 1\n",
    "i_layers = [4]\n",
    "d_elmt_zatom = [*range(21,31, 1)] + [*range(39,49, 1)]\n",
    "builder_option = Dict(dict=metadata_option_1)\n",
    "\n",
    "imp_39 = {11:{'Rcut': 4.4, 'Zimp': 39, 'ilayer_center': 3}}\n",
    "\n",
    "imp_setup_dict_list = {11: {'Rcut': 4.4, 'Zimp': 39, 'ilayer_center': 4},\n",
    "                       12: {'Rcut': 4.4, 'Zimp': 40, 'ilayer_center': 4}}\n",
    "\n",
    "\n",
    "# all_possible_dict, all_succeful_dict, all_imp_remaider, bin_success_info  = submition_bunch_wc(parent_wc= Fe_Bi2Te3_wc, builder_option= builder_option, \n",
    "#                                                                                               imp_num_each_step= 1, imp_Z_list= d_elmt_zatom,\n",
    "#                                                                                               ilayers= i_layers, group_label='3d_4d_dopants_Bi2Te3_ilayer4')\n",
    "# finished_bin\n",
    "\n",
    "# all_possible_dict, all_succeful_dict, all_imp_remaider, bin_success_info  = submition_bunch_wc(Fe_Bi2Te3_wc, builder_option, imp_setup_dict_list=imp_setup_dict_list,\n",
    "#                                                                                               group_label='3d_4d_dopants_Bi2Te3_ilayer4')\n"
   ]
  },
  {
   "cell_type": "code",
   "execution_count": 9,
   "id": "periodic-hotel",
   "metadata": {},
   "outputs": [
    {
     "name": "stdout",
     "output_type": "stream",
     "text": [
      "Version of workflow: 0.6.9\n"
     ]
    },
    {
     "ename": "NameError",
     "evalue": "name 'imp_dos' is not defined",
     "output_type": "error",
     "traceback": [
      "\u001b[0;31m---------------------------------------------------------------------------\u001b[0m",
      "\u001b[0;31mNameError\u001b[0m                                 Traceback (most recent call last)",
      "\u001b[0;32m<ipython-input-9-a0bb91a4e9c3>\u001b[0m in \u001b[0;36m<module>\u001b[0;34m\u001b[0m\n\u001b[1;32m     57\u001b[0m     \u001b[0;32mif\u001b[0m \u001b[0mplabel\u001b[0m \u001b[0;32mnot\u001b[0m \u001b[0;32min\u001b[0m \u001b[0;34m[\u001b[0m\u001b[0mn\u001b[0m\u001b[0;34m.\u001b[0m\u001b[0mlabel\u001b[0m \u001b[0;32mfor\u001b[0m \u001b[0mn\u001b[0m \u001b[0;32min\u001b[0m \u001b[0mimp_dos_group\u001b[0m\u001b[0;34m.\u001b[0m\u001b[0mnodes\u001b[0m\u001b[0;34m]\u001b[0m\u001b[0;34m:\u001b[0m\u001b[0;34m\u001b[0m\u001b[0;34m\u001b[0m\u001b[0m\n\u001b[1;32m     58\u001b[0m \u001b[0;31m#         imp_dos = submit(builder)\u001b[0m\u001b[0;34m\u001b[0m\u001b[0;34m\u001b[0m\u001b[0;34m\u001b[0m\u001b[0m\n\u001b[0;32m---> 59\u001b[0;31m         \u001b[0mimp_dos_group\u001b[0m\u001b[0;34m.\u001b[0m\u001b[0madd_nodes\u001b[0m\u001b[0;34m(\u001b[0m\u001b[0mimp_dos\u001b[0m\u001b[0;34m)\u001b[0m\u001b[0;34m\u001b[0m\u001b[0;34m\u001b[0m\u001b[0m\n\u001b[0m\u001b[1;32m     60\u001b[0m         \u001b[0mprint\u001b[0m\u001b[0;34m(\u001b[0m\u001b[0;34m'submitted DOS for'\u001b[0m\u001b[0;34m,\u001b[0m \u001b[0mimp\u001b[0m\u001b[0;34m.\u001b[0m\u001b[0mlabel\u001b[0m\u001b[0;34m)\u001b[0m\u001b[0;34m\u001b[0m\u001b[0;34m\u001b[0m\u001b[0m\n\u001b[1;32m     61\u001b[0m \u001b[0;34m\u001b[0m\u001b[0m\n",
      "\u001b[0;31mNameError\u001b[0m: name 'imp_dos' is not defined"
     ]
    }
   ],
   "source": [
    "## Running DOS in this section\n",
    "## Setup the settings of dos parameters:\n",
    "from aiida_kkr.workflows import kkr_imp_dos_wc\n",
    "settings = kkr_imp_dos_wc.get_wf_defaults()\n",
    "\n",
    "# save space in the database and do not retrieve the KKRflex files and calculate the l and m resolved DOS instead of the l-resolved one\n",
    "settings['retrieve_kkrflex'] = False\n",
    "settings['lmdos'] = True\n",
    "\n",
    "# change energy range to zoom around Fermi level\n",
    "settings['dos_params']['emin'] = -5\n",
    "settings['dos_params']['emax'] = 2\n",
    "def get_or_create_group(groupname):\n",
    "    \"\"\"\n",
    "    load a group by label 'groupname'\n",
    "    if the group does not exist create it\n",
    "    \"\"\"\n",
    "    from aiida.orm import Group, load_group\n",
    "    from aiida.common import NotExistent\n",
    "    \n",
    "    try:\n",
    "        imp_dos_group = load_group(groupname)\n",
    "    except NotExistent:\n",
    "        imp_dos_group = Group(label=groupname)\n",
    "        imp_dos_group.store()\n",
    "    \n",
    "    return imp_dos_group\n",
    "\n",
    "## here is the loading of imp_wc_node group\n",
    "from aiida.orm import Group, load_group\n",
    "\n",
    "ilayer_4_group = load_group(68)\n",
    "imp_dos_group_label = str(ilayer_4_group.label)+'_DOS'\n",
    "imp_dos_group = get_or_create_group(imp_dos_group_label)\n",
    "\n",
    "parent_wc = load_node(12236)\n",
    "for imp in ilayer_4_group.nodes[1:]:\n",
    "    builder = kkr_imp_dos_wc.get_builder()\n",
    "\n",
    "    # reuse code settingf from scf calculation\n",
    "    # attention: for retrieve_kkrflex=False in the settings we need to use \n",
    "    #the same computer for the GF writeout and the impurity calculation\n",
    "    builder.kkr = parent_wc.inputs.kkr\n",
    "    builder.kkrimp = parent_wc.inputs.kkrimp\n",
    "    builder.options = parent_wc.inputs.options\n",
    "\n",
    "    builder.host_remote = parent_wc.inputs.remote_data_host\n",
    "    \n",
    "    builder.imp_pot_sfd = imp.outputs.converged_potential\n",
    "\n",
    "    builder.wf_parameters = Dict(dict=settings)\n",
    "\n",
    "    plabel = imp.label+'_DOS'\n",
    "    builder.metadata.label = plabel\n",
    "\n",
    "    #submit only if a calculation with the same name does not exist in the group already\n",
    "    if plabel not in [n.label for n in imp_dos_group.nodes]:\n",
    "#         imp_dos = submit(builder)\n",
    "        imp_dos_group.add_nodes(imp_dos)\n",
    "        print('submitted DOS for', imp.label)\n",
    "\n",
    "# show the labels and process states of the processes\n",
    "[(n.label, n.pk, n.process_state) for n in imp_dos_group.nodes]\n",
    "\n"
   ]
  },
  {
   "cell_type": "code",
   "execution_count": null,
   "id": "unique-cleanup",
   "metadata": {},
   "outputs": [],
   "source": []
  },
  {
   "cell_type": "code",
   "execution_count": null,
   "id": "entertaining-success",
   "metadata": {},
   "outputs": [],
   "source": []
  },
  {
   "cell_type": "code",
   "execution_count": null,
   "id": "surface-secretary",
   "metadata": {},
   "outputs": [],
   "source": []
  },
  {
   "cell_type": "code",
   "execution_count": 257,
   "id": "tropical-barrel",
   "metadata": {},
   "outputs": [
    {
     "data": {
      "image/png": "[encoded data removed]",
      "text/plain": [
       "<Figure size 1440x720 with 2 Axes>"
      ]
     },
     "metadata": {
      "needs_background": "light"
     },
     "output_type": "display_data"
    }
   ],
   "source": [
    "## plotting the same kind output parameters from a group of workchain.\n",
    "##\n",
    "from aiida.orm import load_group\n",
    "import numpy as np\n",
    "import matplotlib.pyplot as plt\n",
    "## characteristic to plot: Spin Momemtum\n",
    "user_defined_cha = 'total_spin_moment'\n",
    "cha_list_to_plot = ['total_spin_moment']\n",
    "group = load_group(64)\n",
    "grp_member = len(group.nodes) \n",
    "clt_plot_data = np.zeros((len(cha_list_to_plot), grp_member))\n",
    "x_axis = []\n",
    "if user_defined_cha in cha_list_to_plot:\n",
    "    cha_iter = 0;\n",
    "    for cha in cha_list_to_plot:\n",
    "        node_iter = 0\n",
    "        for node in list(group.nodes):\n",
    "            imp_info = node.inputs.impurity_info.get_dict()\n",
    "            zimp = imp_info['Zimp']\n",
    "            is_list = bool(type(zimp) is list)\n",
    "            if is_list:\n",
    "                zimp = zimp[0]\n",
    "            x_axis.append(zimp)\n",
    "\n",
    "            last_calc_parameters = node.outputs.last_calc_output_parameters.get_dict()\n",
    "            add_to_data_arr = last_calc_parameters['magnetism_group']['total_spin_moment']\n",
    "            clt_plot_data[cha_iter,node_iter] = add_to_data_arr\n",
    "\n",
    "            node_iter +=1\n",
    "        cha_iter += 1\n",
    "        \n",
    "        \n",
    "## Order the x_axis or zimp list and\n",
    "## reorder the data acording to the ordered x_axis list\n",
    "x_axis = np.array(x_axis,dtype=int)\n",
    "# This returns the index in ascending value order\n",
    "ordered_index = list(x_axis.argsort())\n",
    "x_axis = x_axis[ordered_index]\n",
    "# rearange the spin moment\n",
    "clt_plot_data[0, :] = clt_plot_data[0,ordered_index]\n",
    "\n",
    "## Create the data tuple(zimp,moment) for indicating the value in the plot\n",
    "data_points = []\n",
    "for i in range(len(x_axis)):\n",
    "    data_tuple = (x_axis[i],clt_plot_data[0,i])\n",
    "    data_points.append(data_tuple)\n",
    "data_points.reverse()    \n",
    "## text settings preparation\n",
    "y_pos = list(range(1, len(x_axis)+1,1))\n",
    "y_pos = [i/(len(x_axis)+1) for i in y_pos]\n",
    "# The x-co is fixed\n",
    "txt_pos_list = [(0.5,j) for j in y_pos]\n",
    "alignment ={'horizontalalignment': 'center', 'verticalalignment': 'center'}\n",
    "\n",
    "## Plotting the plot data\n",
    "fig, (ax1, ax2) = plt.subplots(1,2)\n",
    "\n",
    "fig.set_figwidth(20)\n",
    "fig.set_figheight(10)\n",
    "\n",
    "ax1.plot(x_axis, clt_plot_data[0,:], 'o-')             \n",
    "ax1.set_title('zimp vs '+user_defined_cha)\n",
    "ax1.set_xlabel('zimp')\n",
    "ax1.set_ylabel('total_mag_moment '+ r'($\\mu_B$)')\n",
    "ax1.set_xticks(x_axis)\n",
    "ax1.set_xticklabels(x_axis)\n",
    "[ax1.axvline(zimp, ls=':', lw=2) for zimp in x_axis[:]]\n",
    "\n",
    "\n",
    "[ax2.text(pos[0], pos[1], str(txt), size='large', **alignment) for pos, txt in zip(txt_pos_list, data_points)]\n",
    "\n",
    "\n",
    "plt.show()"
   ]
  },
  {
   "cell_type": "code",
   "execution_count": 234,
   "id": "numeric-february",
   "metadata": {},
   "outputs": [
    {
     "data": {
      "image/png": "[encoded data removed]",
      "text/plain": [
       "<Figure size 576x288 with 1 Axes>"
      ]
     },
     "metadata": {
      "needs_background": "light"
     },
     "output_type": "display_data"
    },
    {
     "data": {
      "text/plain": [
       "8.0"
      ]
     },
     "execution_count": 234,
     "metadata": {},
     "output_type": "execute_result"
    }
   ],
   "source": [
    "fig, ax1 = plt.subplots()\n",
    "# plt = fig\n",
    "\n",
    "fig.set_figwidth(8)\n",
    "# plt.figure(figsize=(10,10))\n",
    "ax1.plot(x_axis, clt_plot_data[0,:], 'o-')             \n",
    "ax1.set_title('zimp vs '+user_defined_cha)\n",
    "ax1.set_xlabel('zimp')\n",
    "ax1.set_ylabel('total_mag_moment')\n",
    "[ax1.axvline(zimp, ls=':', lw=2) for zimp in x_axis[:]]\n",
    "ax1.set_xticks(x_axis)\n",
    "ax1.set_xticklabels(x_axis)\n",
    "\n",
    "\n",
    "\n",
    "[ax1.text(pos[0], pos[1], str(txt), size='large', **alignment) for pos, txt in zip(txt_pos_list, data_points)]\n",
    "\n",
    "# fig.subplots_adjust() # figure(figsize=(10,6))\n",
    "\n",
    "plt.show()\n",
    "fig.get_figwidth()\n"
   ]
  },
  {
   "cell_type": "code",
   "execution_count": 140,
   "id": "dominant-farmer",
   "metadata": {},
   "outputs": [
    {
     "data": {
      "image/png": "[encoded data removed]",
      "text/plain": [
       "<Figure size 432x288 with 1 Axes>"
      ]
     },
     "metadata": {
      "needs_background": "light"
     },
     "output_type": "display_data"
    }
   ],
   "source": [
    "from matplotlib.font_manager import FontProperties\n",
    "import matplotlib.pyplot as plt\n",
    "import numpy as np\n",
    "\n",
    "plt.subplot(111, facecolor='w')\n",
    "alignment = {'horizontalalignment': 'center', 'verticalalignment': 'center'}\n",
    "\n",
    "# Show family options\n",
    "\n",
    "families = ['serif', 'sans-serif', 'cursive', 'fantasy', 'monospace']\n",
    "\n",
    "t = plt.text(1.5, 0.9, 'family', size='large', **alignment)\n",
    "plt.text(1.5, 0.8, 'family', size='large', **alignment)\n",
    "plt.show()"
   ]
  },
  {
   "cell_type": "code",
   "execution_count": 176,
   "id": "central-appearance",
   "metadata": {},
   "outputs": [
    {
     "data": {
      "text/plain": [
       "1"
      ]
     },
     "execution_count": 176,
     "metadata": {},
     "output_type": "execute_result"
    }
   ],
   "source": [
    "# xx = [print(pos,txt) for pos, txt in zip(txt_pos_list, data_points)]\n",
    "tuple_1 = (1,2)\n",
    "tuple_1[0]"
   ]
  },
  {
   "cell_type": "code",
   "execution_count": 155,
   "id": "boxed-authorization",
   "metadata": {},
   "outputs": [
    {
     "data": {
      "text/plain": [
       "array([5.783960e-01, 2.459459e+00, 3.703159e+00, 4.677438e+00,\n",
       "       4.441216e+00, 2.963637e+00, 1.636571e+00, 2.000000e-06,\n",
       "       0.000000e+00, 0.000000e+00, 3.054057e+00, 3.732315e+00,\n",
       "       2.324416e+00, 1.093780e+00, 2.000000e-06, 0.000000e+00,\n",
       "       0.000000e+00, 0.000000e+00])"
      ]
     },
     "execution_count": 155,
     "metadata": {},
     "output_type": "execute_result"
    }
   ],
   "source": [
    "x_axis = np.array(x_axis)\n",
    "orderd_index = list(x_axis.argsort())\n",
    "orderd_index\n",
    "data_copy = clt_plot_data.copy()\n",
    "\n",
    "data_copy[0, orderd_index]\n",
    "# orderd_index\n"
   ]
  },
  {
   "cell_type": "code",
   "execution_count": 45,
   "id": "prospective-stamp",
   "metadata": {},
   "outputs": [
    {
     "data": {
      "text/plain": [
       "[26.0,\n",
       " 21.0,\n",
       " 22.0,\n",
       " 23.0,\n",
       " 24.0,\n",
       " 25.0,\n",
       " 27.0,\n",
       " 28.0,\n",
       " 29.0,\n",
       " 30.0,\n",
       " 41.0,\n",
       " 42.0,\n",
       " 43.0,\n",
       " 44.0,\n",
       " 45.0,\n",
       " 46.0,\n",
       " 47.0,\n",
       " 48.0]"
      ]
     },
     "execution_count": 45,
     "metadata": {},
     "output_type": "execute_result"
    }
   ],
   "source": [
    "x = list(np.array(x_axis).argsort())\n",
    "# x_axis(x)\n",
    "list(x_axis)"
   ]
  },
  {
   "cell_type": "code",
   "execution_count": 100,
   "id": "western-delivery",
   "metadata": {},
   "outputs": [
    {
     "data": {
      "text/plain": [
       "2.963637"
      ]
     },
     "execution_count": 100,
     "metadata": {},
     "output_type": "execute_result"
    }
   ],
   "source": [
    "test_node = group.nodes[0]\n",
    "wf_parameter_dict = test_node.outputs.last_calc_output_parameters.get_dict()\n",
    "wf_parameter_dict['magnetism_group']['total_spin_moment']"
   ]
  },
  {
   "cell_type": "code",
   "execution_count": 27,
   "id": "fatty-index",
   "metadata": {},
   "outputs": [
    {
     "data": {
      "text/plain": [
       "array([[2.963637e+00, 5.783960e-01, 2.459459e+00, 3.703159e+00,\n",
       "        4.677438e+00, 4.441216e+00, 1.636571e+00, 2.000000e-06,\n",
       "        0.000000e+00, 0.000000e+00, 3.054057e+00, 3.732315e+00,\n",
       "        2.324416e+00, 1.093780e+00, 2.000000e-06, 0.000000e+00,\n",
       "        0.000000e+00, 0.000000e+00]])"
      ]
     },
     "execution_count": 27,
     "metadata": {},
     "output_type": "execute_result"
    }
   ],
   "source": [
    "data_copy"
   ]
  },
  {
   "cell_type": "code",
   "execution_count": null,
   "id": "ancient-housing",
   "metadata": {},
   "outputs": [],
   "source": []
  },
  {
   "cell_type": "code",
   "execution_count": null,
   "id": "accepting-athens",
   "metadata": {},
   "outputs": [],
   "source": []
  },
  {
   "cell_type": "code",
   "execution_count": null,
   "id": "hungarian-cleaning",
   "metadata": {},
   "outputs": [],
   "source": []
  },
  {
   "cell_type": "code",
   "execution_count": null,
   "id": "fifteen-fifth",
   "metadata": {},
   "outputs": [],
   "source": []
  },
  {
   "cell_type": "code",
   "execution_count": null,
   "id": "rocky-cartridge",
   "metadata": {},
   "outputs": [],
   "source": []
  }
 ],
 "metadata": {
  "kernelspec": {
   "display_name": "AiiDA",
   "language": "python",
   "name": "aiida"
  },
  "language_info": {
   "codemirror_mode": {
    "name": "ipython",
    "version": 3
   },
   "file_extension": ".py",
   "mimetype": "text/x-python",
   "name": "python",
   "nbconvert_exporter": "python",
   "pygments_lexer": "ipython3",
   "version": "3.8.5"
  }
 },
 "nbformat": 4,
 "nbformat_minor": 5
}
