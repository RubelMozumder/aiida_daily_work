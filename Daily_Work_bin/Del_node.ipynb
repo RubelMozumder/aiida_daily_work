{
 "cells": [
  {
   "cell_type": "code",
   "execution_count": 1,
   "id": "animated-steal",
   "metadata": {
    "tags": []
   },
   "outputs": [
    {
     "name": "stdout",
     "output_type": "stream",
     "text": [
      "profil name: default\n"
     ]
    }
   ],
   "source": [
    "from aiida import load_profile\n",
    "aiida_profile = load_profile()\n",
    "print(f'profil name: {aiida_profile.name}')\n",
    "\n",
    "## Loading the some require packages and module\n",
    "from aiida_kkr.workflows import (combine_imps_wc, kkr_flex_wc,\n",
    "                                 kkr_imp_wc, kkr_imp_sub_wc\n",
    "                                )\n",
    "from aiida_kkr.calculations import KkrCalculation, KkrimpCalculation\n",
    "from aiida.orm import (Group, load_group, load_node, Dict, Code, QueryBuilder, WorkChainNode\n",
    "                       , CalcJobNode)\n",
    "from aiida.transports import transport\n",
    "from aiida_kkr.tools import kkrparams\n",
    "from aiida.engine import submit"
   ]
  },
  {
   "cell_type": "code",
   "execution_count": 2,
   "id": "banned-gender",
   "metadata": {
    "tags": []
   },
   "outputs": [],
   "source": [
    "#Section-1: delete node from the database as well as remote work directory\n",
    "### A function to delete the data of calculation output of calcjob list (pks) from the remote dir.\n",
    "\n",
    "# later add it with the del_node  function\n",
    "# This is successfully done\n",
    "\n",
    "# please note that it is tested for one calc list\n",
    "def delete_remote_workdir(pks, verbosity=0, dry_run= True):\n",
    "    from aiida.common import exceptions, NotExistent\n",
    "    from aiida.orm import load_node\n",
    "    from aiida.orm import computers\n",
    "    import sys\n",
    "    # TODO : add the verbosity as discused here \n",
    "    # https://aiida.readthedocs.io/projects/aiida-core/en/v1.5.0/_modules/aiida/manage/database/delete/nodes.html\n",
    "\n",
    "    \"\"\"\n",
    "    :param pks: calc node list\n",
    "    \n",
    "    \"\"\"\n",
    "    \n",
    "    removed_path_list = [] # The part of the path will be deleted\n",
    "    remote_path_list = []  # The original path\n",
    "    updated_path_list = [] # After removing the part of the path\n",
    "    loadable_list = [] # To load the node and save it loadable_list\n",
    "    loaded_node_list = []\n",
    "    # To check the loadable calcjob list\n",
    "    for pk in pks:\n",
    "        try:\n",
    "            loaded_node = load_node(pk)\n",
    "        except exceptions.NotExistent:\n",
    "            print('This is calcjob node'.format(pk))\n",
    "            loaded_node = pk\n",
    "            loaded_node_list.append(loaded_node)\n",
    "        else:\n",
    "            loaded_node_list.append(loaded_node)\n",
    "   \n",
    "    for node in loaded_node_list:\n",
    "        load_pk = node\n",
    "        # computer data\n",
    "        computer = load_pk.computer\n",
    "        computer_name = computer.label\n",
    "        print(computer_name)\n",
    "        try:\n",
    "            remote_path = load_pk.get_remote_workdir()\n",
    "            \n",
    "        except NotExistent as ex:\n",
    "            print(f'Node (label,pk) ({node.label, node.pk}) does not have remote workdir. with exception : {ex}')\n",
    "        if isinstance(remote_path, str):\n",
    "            remote_path_list.append(remote_path)\n",
    "            delete_folder = remote_path.split('/')[-1]\n",
    "            removed_path_list.append(delete_folder)\n",
    "\n",
    "            new_remote_path = remote_path.replace(remote_path.split('/')[-1], '')\n",
    "            updated_path_list.append(new_remote_path)\n",
    "        \n",
    "        \n",
    "    if dry_run or verbosity == 3:\n",
    "\n",
    "        for i, paths in enumerate(zip(remote_path_list, updated_path_list)):\n",
    "            print('Before the delation the original path list : {}\\n'.format(paths[0]))\n",
    "            print('After deletion the modefied or updated path : {}'.format(paths[1]))\n",
    "    if verbosity == 3 or verbosity == 2:\n",
    "        val = input(\"Are you agree to clean the remote workdir (y/n) : \")\n",
    "    else:\n",
    "        val = 'y'\n",
    "    if str(val)=='y' or str(val)=='Y':\n",
    "        if not dry_run:\n",
    "            for remote_path in remote_path_list:\n",
    "                try:\n",
    "                    # Open the connection to the remote folder/dir via transport\n",
    "                    computer_transport = computer.get_transport()\n",
    "                    is_transport_open = computer_transport.is_open\n",
    "                    if not is_transport_open:\n",
    "                        computer_transport.open()\n",
    "                    computer_transport.rmtree(remote_path)\n",
    "                except IOError as ex:\n",
    "                    print('Uable to open the computer transport: ', ex)\n",
    "    else:\n",
    "        print('Nothing to clean from the remote workdir!')\n",
    "\n",
    "# section-5:delete node from the database as well as remote work directory\n",
    "## It returns all the calcjob from a WC node\n",
    "def find_calcJob(pk_or_node, debug=True):\n",
    "    \n",
    "    calcjob_node_list=[]\n",
    "    wc_node_list = []\n",
    "    try:\n",
    "        if isinstance( pk_or_node, int):\n",
    "            if debug:\n",
    "                print('This is pk')\n",
    "            node = load_node(pk_or_node)\n",
    "        else:\n",
    "            if debug:\n",
    "                print('This is node.')\n",
    "            node= pk_or_node\n",
    "    except:\n",
    "        print('{} is nither node ID nor aiida_node. '.format(pk_or_node))\n",
    "        \n",
    "    ## Use the get_calcjob_wc to get descendent calcjob list and  wc list\n",
    "    calc_list, wc_list = get_calcjob_wc(node)\n",
    "    calcjob_node_list += calc_list\n",
    "    \n",
    "    while len(wc_list)!=0:\n",
    "        new_wc_list = []\n",
    "\n",
    "        for i in wc_list[:]:\n",
    "            calc_list, wc_list = get_calcjob_wc(i)\n",
    "            new_wc_list += wc_list\n",
    "            calcjob_node_list += calc_list\n",
    "            \n",
    "        wc_list = new_wc_list\n",
    "\n",
    "    return calcjob_node_list\n",
    "\n",
    "## This function returns calcjob_list and wc_list from a wc or calcjob node   \n",
    "def get_calcjob_wc(node):\n",
    "    \"\"\"\n",
    "    :param: node\n",
    "    :return: workchain node list and calcjob node list\n",
    "    \"\"\" \n",
    "    from aiida.orm import CalcJobNode, WorkChainNode\n",
    "    wc = []\n",
    "    calc_job = []\n",
    "    \n",
    "    if node.node_type == 'process.workflow.workchain.WorkChainNode.':\n",
    "        \n",
    "    # here all outgoing worchain node\n",
    "        out_going_wc = node.get_outgoing(node_class=WorkChainNode).all()\n",
    "        wc = [i.node for i in out_going_wc[:]]\n",
    "        \n",
    "    # here all outgoing calcjob node\n",
    "        out_going_calc = node.get_outgoing(node_class=CalcJobNode).all()\n",
    "        calc_job = [i.node for i in out_going_calc[:]]\n",
    "                    \n",
    "    elif node.node_type == 'process.calculation.calcjob.CalcJobNode.':\n",
    "        calc_job.append(node)\n",
    "    \n",
    "    return calc_job, wc\n",
    "\n",
    "# This is the final del_node_function. Using this function for any specific wc node the node from the \n",
    "# Db as well as the calcjob data from the remote workdir can be deleted.\n",
    "def del_node(node_pks, dry_run=True, verbosity=3, debug=True, only_remote_dir=False,\n",
    "            only_database=False):\n",
    "    \"\"\"\n",
    "    1. This function will delete the node data from the database and also from the remote_dir\n",
    "    \n",
    "    :params node_pks: (list) list of workchain to delete from database as well as from remote workdir\n",
    "    :param verbosity: 0 prints nothing.  This is for workdir and wc\n",
    "                      1 prints just sums and total.   This is for workdir but not for wc\n",
    "                      2 prints indivisual nodes.  This is for workdir and wc\n",
    "    :param dry_run: Do not delete anything just show the status as in the verbosity given\n",
    "    \"\"\"\n",
    "    from aiida.orm import load_node\n",
    "    from aiida.manage.database.delete.nodes import delete_nodes\n",
    "    \n",
    "        \n",
    "    calcjobs_list = []\n",
    "    pks_given = []\n",
    "    for i in node_pks:    \n",
    "        try:\n",
    "            if isinstance( i, int):\n",
    "                if debug:\n",
    "                    print('This might be pk or uiid')\n",
    "                node = load_node(i)\n",
    "            else:\n",
    "                if debug:\n",
    "                    print('This might be a node.')\n",
    "                node= i\n",
    "        except:\n",
    "            print('{} is nither node ID nor aiida_node. '.format(i))\n",
    "        \n",
    "        pks_given.append(node.pk)\n",
    "        \n",
    "        calcjobs = find_calcJob(node, debug)\n",
    "        calcjobs_list += calcjobs\n",
    "        print('calcjob list : ', calcjobs_list,)\n",
    "    if only_remote_dir:\n",
    "        delete_remote_workdir(calcjobs_list, verbosity=verbosity, dry_run=dry_run)\n",
    "    if only_database:\n",
    "        delete_nodes(pks_given, verbosity=verbosity, dry_run=dry_run,force=False)\n",
    "    "
   ]
  },
  {
   "cell_type": "code",
   "execution_count": 4,
   "id": "adequate-gossip",
   "metadata": {},
   "outputs": [
    {
     "name": "stdout",
     "output_type": "stream",
     "text": [
      "This might be pk or uiid\n",
      "117905 is nither node ID nor aiida_node. \n"
     ]
    },
    {
     "ename": "UnboundLocalError",
     "evalue": "local variable 'node' referenced before assignment",
     "output_type": "error",
     "traceback": [
      "\u001b[0;31m---------------------------------------------------------------------------\u001b[0m",
      "\u001b[0;31mUnboundLocalError\u001b[0m                         Traceback (most recent call last)",
      "\u001b[0;32m/tmp/ipykernel_351102/1242424770.py\u001b[0m in \u001b[0;36m<module>\u001b[0;34m\u001b[0m\n\u001b[0;32m----> 1\u001b[0;31m del_node([117905], dry_run = False, verbosity = 3, \n\u001b[0m\u001b[1;32m      2\u001b[0m             debug = True, only_remote_dir = True, only_database= True)\n",
      "\u001b[0;32m/tmp/ipykernel_351102/3780022799.py\u001b[0m in \u001b[0;36mdel_node\u001b[0;34m(node_pks, dry_run, verbosity, debug, only_remote_dir, only_database)\u001b[0m\n\u001b[1;32m    170\u001b[0m             \u001b[0mprint\u001b[0m\u001b[0;34m(\u001b[0m\u001b[0;34m'{} is nither node ID nor aiida_node. '\u001b[0m\u001b[0;34m.\u001b[0m\u001b[0mformat\u001b[0m\u001b[0;34m(\u001b[0m\u001b[0mi\u001b[0m\u001b[0;34m)\u001b[0m\u001b[0;34m)\u001b[0m\u001b[0;34m\u001b[0m\u001b[0;34m\u001b[0m\u001b[0m\n\u001b[1;32m    171\u001b[0m \u001b[0;34m\u001b[0m\u001b[0m\n\u001b[0;32m--> 172\u001b[0;31m         \u001b[0mpks_given\u001b[0m\u001b[0;34m.\u001b[0m\u001b[0mappend\u001b[0m\u001b[0;34m(\u001b[0m\u001b[0mnode\u001b[0m\u001b[0;34m.\u001b[0m\u001b[0mpk\u001b[0m\u001b[0;34m)\u001b[0m\u001b[0;34m\u001b[0m\u001b[0;34m\u001b[0m\u001b[0m\n\u001b[0m\u001b[1;32m    173\u001b[0m \u001b[0;34m\u001b[0m\u001b[0m\n\u001b[1;32m    174\u001b[0m         \u001b[0mcalcjobs\u001b[0m \u001b[0;34m=\u001b[0m \u001b[0mfind_calcJob\u001b[0m\u001b[0;34m(\u001b[0m\u001b[0mnode\u001b[0m\u001b[0;34m,\u001b[0m \u001b[0mdebug\u001b[0m\u001b[0;34m)\u001b[0m\u001b[0;34m\u001b[0m\u001b[0;34m\u001b[0m\u001b[0m\n",
      "\u001b[0;31mUnboundLocalError\u001b[0m: local variable 'node' referenced before assignment"
     ]
    }
   ],
   "source": [
    "del_node([117905], dry_run = False, verbosity = 3, \n",
    "            debug = True, only_remote_dir = True, only_database= True)"
   ]
  },
  {
   "cell_type": "code",
   "execution_count": 6,
   "id": "nuclear-fusion",
   "metadata": {},
   "outputs": [],
   "source": [
    "#node_list=[]\n",
    "#\n",
    "#serach_for_node_label = ['_il_3_4_Off_1','_il_3_4_Off_2','_il_3_3_Off_1', '_il_3_3_Off_2']\n",
    "#\n",
    "#grp_list= []\n",
    "#\n",
    "#skip_group = '3d_4d_dope_Bi2Te3_il_3:il_4_offset_3'\n",
    "#\n",
    "#for grp in grp_list:\n",
    "#    grp_ = load_group(grp)\n",
    "#    grp_label= grp_.label\n",
    "#    grp_nodes = list(grp_.nodes)\n",
    "#    for nod in grp_nodes:\n",
    "#        nod_label= nod.label\n",
    "#        for search_label in serach_for_node_label:\n",
    "#            if search_label in nod_label:\n",
    "#                print('group name: ', grp_label, '\\n node name:', nod_label)\n",
    "#    if skip_group == grp_label:\n",
    "#        continue\n",
    "#    node_list= node_list + grp_nodes\n",
    "#    "
   ]
  },
  {
   "cell_type": "code",
   "execution_count": 13,
   "id": "badbedd5-a4c5-43d9-8714-7dd11c641d0b",
   "metadata": {},
   "outputs": [
    {
     "name": "stdout",
     "output_type": "stream",
     "text": [
      "claix18_init (localhost), pk: 2\n"
     ]
    }
   ],
   "source": [
    "from aiida.common import exceptions, NotExistent\n",
    "from aiida.orm import load_node\n",
    "from aiida.orm import computers\n",
    "\n",
    "node_66882 = load_node(66882)\n",
    "computer = node_66882.computer\n",
    "print(computer)\n",
    "computer_transport = computer.get_transport()\n",
    "is_transport_open = computer_transport.is_open\n",
    "if not is_transport_open:\n",
    "    computer_transport.open()\n",
    "is_transport_open = computer_transport.is_open"
   ]
  },
  {
   "cell_type": "code",
   "execution_count": 14,
   "id": "5209cc0d-558c-4068-b6cf-645bfef39c23",
   "metadata": {},
   "outputs": [
    {
     "name": "stdout",
     "output_type": "stream",
     "text": [
      "True\n"
     ]
    }
   ],
   "source": [
    "print(is_transport_open)"
   ]
  },
  {
   "cell_type": "code",
   "execution_count": 15,
   "id": "a790ae10-af79-4bbe-ba5b-ecc25b2d2a02",
   "metadata": {},
   "outputs": [
    {
     "data": {
      "text/plain": [
       "'combine_potentials_cf'"
      ]
     },
     "execution_count": 15,
     "metadata": {},
     "output_type": "execute_result"
    }
   ],
   "source": [
    "node_116525 = load_node(116525)\n",
    "node_116525.label"
   ]
  },
  {
   "cell_type": "code",
   "execution_count": null,
   "id": "a0d8fabe-1ffb-40ca-99ff-06ee394afec1",
   "metadata": {},
   "outputs": [],
   "source": []
  }
 ],
 "metadata": {
  "kernelspec": {
   "display_name": "AiiDA",
   "language": "python",
   "name": "aiida"
  },
  "language_info": {
   "codemirror_mode": {
    "name": "ipython",
    "version": 3
   },
   "file_extension": ".py",
   "mimetype": "text/x-python",
   "name": "python",
   "nbconvert_exporter": "python",
   "pygments_lexer": "ipython3",
   "version": "3.8.10"
  }
 },
 "nbformat": 4,
 "nbformat_minor": 5
}
