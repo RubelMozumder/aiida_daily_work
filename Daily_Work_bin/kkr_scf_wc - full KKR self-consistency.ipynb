{
 "cells": [
  {
   "cell_type": "code",
   "execution_count": 2,
   "metadata": {},
   "outputs": [
    {
     "name": "stdout",
     "output_type": "stream",
     "text": [
      "default\n",
      "default_mozumder_0077f85362e7bb995525ed5597a1b24e\n"
     ]
    },
    {
     "data": {
      "text/plain": [
       "<aiida.manage.configuration.profile.Profile at 0x7fb508f52910>"
      ]
     },
     "execution_count": 2,
     "metadata": {},
     "output_type": "execute_result"
    }
   ],
   "source": [
    "from aiida import load_profile, get_profile\n",
    "profile= load_profile()\n",
    "print(profile.name)\n",
    "print(profile.database_name)\n",
    "profile.name\n",
    "profile.database_name \n",
    "get_profile()\n"
   ]
  },
  {
   "cell_type": "code",
   "execution_count": 6,
   "metadata": {},
   "outputs": [
    {
     "data": {
      "application/vnd.jupyter.widget-view+json": {
       "model_id": "f81d7dab454e4b48b94f0fd638807c06",
       "version_major": 2,
       "version_minor": 0
      },
      "text/plain": [
       "GridspecLayout(children=(Box(children=(Renderer(camera=PerspectiveCamera(far=1000.0, fov=10.0, near=1.0, posit…"
      ]
     },
     "metadata": {},
     "output_type": "display_data"
    }
   ],
   "source": [
    "# imports from aiida-core and aiida-kkr\n",
    "from aiida.orm import CifData, Code, Dict, load_node\n",
    "from aiida.engine import submit\n",
    "from aiida_kkr.tools import kkrparams, plot_kkr\n",
    "import os\n",
    "\n",
    "cif = CifData(file=os.path.abspath('/opt/judft_tutorials/tutorials/iffaiida_tutorial_01_2020/aiida-kkr/data/Fe_mp-13_symmetrized.cif'))\n",
    "struc = cif.get_structure()\n",
    "\n",
    "# the ase-notebook viewer also accepts additional keyword arguments like the unit cell repitition 'repeat_uc', 'zoom' or 'canvas_size':\n",
    "p = plot_kkr(struc, repeat_uc=(2,2,2), zoom=1, canvas_size=(600,200), silent=True)"
   ]
  },
  {
   "cell_type": "code",
   "execution_count": 5,
   "metadata": {},
   "outputs": [
    {
     "data": {
      "application/vnd.jupyter.widget-view+json": {
       "model_id": "819b1a9a89f14a87b682a8509884159f",
       "version_major": 2,
       "version_minor": 0
      },
      "text/plain": [
       "GridspecLayout(children=(Renderer(camera=PerspectiveCamera(fov=10.0, position=(0.0, 0.0, 33.83687195684682), p…"
      ]
     },
     "metadata": {},
     "output_type": "display_data"
    },
    {
     "data": {
      "text/plain": [
       "<aiida_kkr.tools.plot_kkr.plot_kkr at 0x7fb508217040>"
      ]
     },
     "execution_count": 5,
     "metadata": {},
     "output_type": "execute_result"
    }
   ],
   "source": [
    "# use pymatgen to find primitive structure\n",
    "prim_struc = struc.get_pymatgen_structure().get_primitive_structure()\n",
    "# convert to AiiDA StructureData\n",
    "from aiida.orm import StructureData\n",
    "struc_prim = StructureData(pymatgen=prim_struc)\n",
    "\n",
    "plot_kkr(struc_prim, silent=True)\n"
   ]
  },
  {
   "cell_type": "code",
   "execution_count": 35,
   "metadata": {},
   "outputs": [
    {
     "name": "stdout",
     "output_type": "stream",
     "text": [
      "Version of workflow: 0.10.4\n"
     ]
    }
   ],
   "source": [
    "from aiida_kkr.workflows import kkr_scf_wc\n",
    "settings, _ = kkr_scf_wc.get_wf_defaults()\n",
    "\n",
    "# activate magnetic initialization, reduce convegence criterion and increase mixing\n",
    "settings['mag_init'] = True\n",
    "settings['natom_in_cls_min'] = 25\n",
    "settings['convergence_criterion'] = 1e-6\n",
    "settings['nsteps'] = 100\n",
    "settings['threshold_switch_high_accuracy'] = 1e-2"
   ]
  },
  {
   "cell_type": "code",
   "execution_count": 39,
   "metadata": {},
   "outputs": [],
   "source": [
    "metadata_option_1 = {'max_wallclock_seconds': 36000,'resources': \n",
    "               {'tot_num_mpiprocs': 24, 'num_machines': 1},\n",
    "              'custom_scheduler_commands': \n",
    "              '#SBATCH --account=jara0191\\n\\nulimit -s unlimited; export OMP_STACKSIZE=2g',\n",
    "              'withmpi':\n",
    "              True}"
   ]
  },
  {
   "cell_type": "code",
   "execution_count": 43,
   "metadata": {},
   "outputs": [],
   "source": [
    "# create process builder\n",
    "builder = kkr_scf_wc.get_builder()\n",
    "\n",
    "# set structure input using the primitive structure\n",
    "builder.structure = struc_prim\n",
    "\n",
    "# set minimals et of KKR parameters\n",
    "builder.calc_parameters = Dict(dict={'LMAX': 2, 'NSPIN': 2})\n",
    "\n",
    "# set the workflow settings\n",
    "builder.wf_parameters = Dict(dict=settings)\n",
    "\n",
    "# set the codes and options\n",
    "builder.voronoi = Code.get_from_string('voro@claix18_init')\n",
    "builder.kkr = Code.get_from_string('kkr@claix18_init')\n",
    "# load options for the oscar partition of iffslurm (comes with iffslurm import file) which uses a single node for up to 1h with mpi\n",
    "# options_slurm_oscar = load_node('3b6c327e-d894-48ef-9f82-b45570149779')\n",
    "options = Dict(dict=metadata_option_1)\n",
    "builder.options = options\n",
    "\n",
    "# set a calculation label and a description (optional)\n",
    "builder.metadata.label = 'bccFe'\n",
    "builder.metadata.description = 'bcc Fe imported from materials project (id=13)'\n",
    "\n",
    "# finally submit the workflow and wait\n",
    "# scf = submit(builder)\n",
    "# scf = load_node('dcc3e02c-1801-44d1-827e-5f750606439b')"
   ]
  },
  {
   "cell_type": "code",
   "execution_count": 45,
   "metadata": {},
   "outputs": [],
   "source": [
    "# plot_kkr(scf)\n"
   ]
  },
  {
   "cell_type": "code",
   "execution_count": 46,
   "metadata": {},
   "outputs": [],
   "source": [
    "# create process builder\n",
    "builder = scf.get_builder_restart()\n",
    "# overwrite structure input and set label\n",
    "builder.structure = struc\n",
    "builder.metadata.label = 'bccFe_conv'\n",
    "\n",
    "# finally submit the workflow and wait\n",
    "scf_conv = submit(builder)\n",
    "# 7edabda1-7f4f-4eb9-b8c5-1edb6bd7d279"
   ]
  },
  {
   "cell_type": "code",
   "execution_count": 59,
   "metadata": {},
   "outputs": [
    {
     "data": {
      "text/plain": [
       "'7edabda1-7f4f-4eb9-b8c5-1edb6bd7d279'"
      ]
     },
     "execution_count": 59,
     "metadata": {},
     "output_type": "execute_result"
    }
   ],
   "source": [
    "scf_conv.uuid\n"
   ]
  },
  {
   "cell_type": "code",
   "execution_count": 48,
   "metadata": {},
   "outputs": [
    {
     "name": "stdout",
     "output_type": "stream",
     "text": [
      "Version of workflow: 0.8.0\n"
     ]
    },
    {
     "data": {
      "text/plain": [
       "{'nepts': 96,\n",
       " 'tempr': 200.0,\n",
       " 'emin': -10.0,\n",
       " 'emax': 5.0,\n",
       " 'kmesh': [30, 30, 30],\n",
       " 'RCLUSTZ': None}"
      ]
     },
     "execution_count": 48,
     "metadata": {},
     "output_type": "execute_result"
    }
   ],
   "source": [
    "from aiida_kkr.workflows import kkr_dos_wc\n",
    "settings = kkr_dos_wc.get_wf_defaults()\n",
    "settings"
   ]
  },
  {
   "cell_type": "code",
   "execution_count": 49,
   "metadata": {},
   "outputs": [],
   "source": [
    "builder = kkr_dos_wc.get_builder()\n",
    "# reuse the KKRhost code and options from the scf calculation (primitive structure)\n",
    "builder.kkr = scf.inputs.kkr\n",
    "builder.options = scf.inputs.options\n",
    "# set to converged output\n",
    "builder.remote_data = scf.outputs.last_RemoteData\n",
    "# set dos parameters\n",
    "builder.wf_parameters = Dict(dict=settings)\n",
    "\n",
    "dos = submit(builder)\n"
   ]
  },
  {
   "cell_type": "code",
   "execution_count": 54,
   "metadata": {},
   "outputs": [
    {
     "name": "stdout",
     "output_type": "stream",
     "text": [
      "Version of the kkr_bs_wc workflow: 0.1.1\n",
      "'RCLUSTZ' from converged calc: 1.6331509900882 a_lat\n"
     ]
    },
    {
     "data": {
      "text/plain": [
       "{'emin': -10.0, 'emax': 5.0, 'nepts': 96, 'RCLUSTZ': 2.3, 'tempr': 50.0}"
      ]
     },
     "execution_count": 54,
     "metadata": {},
     "output_type": "execute_result"
    }
   ],
   "source": [
    "from aiida_kkr.workflows import kkr_bs_wc\n",
    "settings = kkr_bs_wc.get_wf_defaults()\n",
    "print(\"'RCLUSTZ' from converged calc: {} a_lat\".format(scf.outputs.last_InputParameters['RCLUSTZ']))\n",
    "settings['RCLUSTZ'] = 2.3 # increase \n",
    "settings"
   ]
  },
  {
   "cell_type": "code",
   "execution_count": 56,
   "metadata": {},
   "outputs": [],
   "source": [
    "def get_builder_bs(scf_node, settings):\n",
    "    \"\"\"\n",
    "    helper function to set up the process builder\n",
    "    \"\"\"\n",
    "    builder = kkr_bs_wc.get_builder()\n",
    "    # reuse the KKRhost code and options from the scf calculation\n",
    "    builder.kkr = scf_node.inputs.kkr\n",
    "    builder.options = scf_node.inputs.options\n",
    "    # set to converged output\n",
    "    builder.remote_data = scf_node.outputs.last_RemoteData\n",
    "    # set dos parameters\n",
    "    builder.wf_parameters = Dict(dict=settings)\n",
    "    \n",
    "    return builder\n",
    "\n",
    "if scf.is_finished_ok:\n",
    "    # first we submit the calculation for the primitive structure\n",
    "    builder = get_builder_bs(scf, settings)\n",
    "    bandstruc = submit(builder)\n"
   ]
  },
  {
   "cell_type": "code",
   "execution_count": 57,
   "metadata": {},
   "outputs": [],
   "source": [
    "if scf_conv.is_finished_ok:\n",
    "    builder = get_builder_bs(scf_conv, settings)\n",
    "    #bandstruc_conv = submit(builder)"
   ]
  },
  {
   "cell_type": "code",
   "execution_count": null,
   "metadata": {},
   "outputs": [],
   "source": []
  }
 ],
 "metadata": {
  "kernelspec": {
   "display_name": "AiiDA",
   "language": "python",
   "name": "aiida"
  },
  "language_info": {
   "codemirror_mode": {
    "name": "ipython",
    "version": 3
   },
   "file_extension": ".py",
   "mimetype": "text/x-python",
   "name": "python",
   "nbconvert_exporter": "python",
   "pygments_lexer": "ipython3",
   "version": "3.8.5"
  }
 },
 "nbformat": 4,
 "nbformat_minor": 4
}
