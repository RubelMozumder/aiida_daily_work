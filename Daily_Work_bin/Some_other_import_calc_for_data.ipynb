{
 "cells": [
  {
   "cell_type": "code",
   "execution_count": 1,
   "id": "minute-statistics",
   "metadata": {},
   "outputs": [
    {
     "name": "stdout",
     "output_type": "stream",
     "text": [
      "profile name :  default\n",
      "profile database host name :  localhost\n",
      "default user :  r.mozumder@fz-juelich.de\n"
     ]
    }
   ],
   "source": [
    "#load aiida environment and connect to database\n",
    "from aiida import load_profile\n",
    "\n",
    "profile = load_profile()\n",
    "print('profile name : ',profile.name)\n",
    "print('profile database host name : ',profile.database_hostname)\n",
    "print('default user : ',profile.default_user)"
   ]
  },
  {
   "cell_type": "code",
   "execution_count": 2,
   "id": "useful-czech",
   "metadata": {},
   "outputs": [],
   "source": [
    "# load classes and functions\n",
    "from aiida.orm import Code, Dict, load_node, StructureData\n",
    "# from aiida.orm import\n",
    "from aiida_kkr.tools import kkrparams\n",
    "from aiida.engine import submit\n",
    "from aiida_kkr.tools import kkrparams, plot_kkr\n",
    "from aiida_kkr.workflows import kkr_flex_wc, kkr_imp_dos_wc, kkr_dos_wc\n",
    "\n",
    "from aiida.orm import load_group, WorkChainNode\n",
    "import matplotlib.pyplot as plt"
   ]
  },
  {
   "cell_type": "code",
   "execution_count": 3,
   "id": "municipal-limit",
   "metadata": {},
   "outputs": [],
   "source": [
    "# load classes and functions\n",
    "from aiida.orm import CifData, Code, Dict, load_node, StructureData \n",
    "from aiida.orm import (Group, load_group, load_node, load_code, groups,\n",
    "                      WorkChainNode)\n",
    "from aiida.engine import submit\n",
    "from aiida.common.exceptions import NotExistent\n",
    "from aiida_kkr.workflows import kkr_imp_sub_wc, kkr_imp_dos, kkr_imp_wc, kkr_startpot_wc\n",
    "import numpy as np\n",
    "from aiida_kkr.calculations import KkrimpCalculation, VoronoiCalculation\n",
    "import matplotlib.pyplot as plt\n",
    "from aiida_kkr.tools.common_workfunctions import get_username"
   ]
  },
  {
   "cell_type": "code",
   "execution_count": 4,
   "id": "acceptable-correspondence",
   "metadata": {},
   "outputs": [],
   "source": [
    "## Set the metadata options and code\n",
    "metadata_option_1 = {'max_wallclock_seconds': 36000,'resources': \n",
    "               {'tot_num_mpiprocs': 48, 'num_machines': 1},\n",
    "              'custom_scheduler_commands': \n",
    "              '#SBATCH --account=jara0191\\n\\nulimit -s unlimited; export OMP_STACKSIZE=2g',\n",
    "              'withmpi': True\n",
    "                    }\n",
    "\n",
    "oscar_matadata = {'max_wallclock_seconds': 8*60*60,\n",
    "                  'resources':{'tot_num_mpiprocs': 12, \n",
    "                  'num_machines': 4},\n",
    "                  'custom_scheduler_commands': '#SBATCH -u mozumder -p oscar\\n\\nulimit -s unlimited; export OMP_STACKSIZE= 2g',\n",
    "                  'withmpi':True\n",
    "                 }\n",
    "voro_code = Code.get_from_string('voro@claix18_init')\n",
    "kkr_code = Code.get_from_string('kkr@claix18_init')\n",
    "kkrimp_code = Code.get_from_string('kkrflex@claix18_init')\n",
    "iffslurm_voro = Code.get_from_string('voro@iffslurm')\n",
    "iffslurm_kkr= Code.get_from_string('kkr@iffslurm')\n",
    "iffslurm_kkrimp= Code.get_from_string('kkrflex@iffslurm')"
   ]
  },
  {
   "cell_type": "code",
   "execution_count": 6,
   "id": "little-choir",
   "metadata": {},
   "outputs": [],
   "source": [
    "# Loading the converged kkr host calculation and the remote foder\n",
    "Bi2Te3_conv_kkr = load_node('23b13d9d-6e02-46c7-b3ac-17033b205b19')#pk:245\n",
    "remote_last_calc_folder = Bi2Te3_conv_kkr.outputs.remote_folder\n"
   ]
  },
  {
   "cell_type": "code",
   "execution_count": 18,
   "id": "breeding-transmission",
   "metadata": {},
   "outputs": [],
   "source": [
    "# Previous DOS calculation for settings input parameter\n",
    "\n",
    "delete_node= [104946,104952,]\n",
    "node_59265= load_node(59265)\n",
    "wf_parameter= node_59265.inputs.wf_parameters.get_dict()\n",
    "wf_parameter= Dict(dict={'emax': 1.0, 'emin': -1.0, 'nepts': 96, \"tempr\": 800, \"kmesh\": [50,50,50]})"
   ]
  },
  {
   "cell_type": "code",
   "execution_count": 19,
   "id": "alpha-scanner",
   "metadata": {},
   "outputs": [],
   "source": [
    "label= 'DOS Calc for Bi2Te3 host'\n",
    "\n",
    "kkrdoswc = kkr_dos_wc.get_builder()\n",
    "\n",
    "kkrdoswc.kkr = kkr_code\n",
    "kkrdoswc.options = Dict(dict=metadata_option_1)\n",
    "kkrdoswc.wf_parameters = wf_parameter\n",
    "kkrdoswc.metadata.label = label\n",
    "kkrdoswc.remote_data= remote_last_calc_folder\n",
    "#host_dos= submit(kkrdoswc) # 104958 sucessfull"
   ]
  },
  {
   "cell_type": "code",
   "execution_count": 21,
   "id": "upset-integrity",
   "metadata": {},
   "outputs": [
    {
     "data": {
      "text/plain": [
       "<WorkChainNode: uuid: 59d5d1ae-5a91-415a-9510-04710dd8089f (pk: 104958) (aiida.workflows:kkr.dos)>"
      ]
     },
     "execution_count": 21,
     "metadata": {},
     "output_type": "execute_result"
    }
   ],
   "source": [
    "host_dos"
   ]
  },
  {
   "cell_type": "code",
   "execution_count": null,
   "id": "related-brain",
   "metadata": {},
   "outputs": [],
   "source": []
  }
 ],
 "metadata": {
  "kernelspec": {
   "display_name": "AiiDA",
   "language": "python",
   "name": "aiida"
  },
  "language_info": {
   "codemirror_mode": {
    "name": "ipython",
    "version": 3
   },
   "file_extension": ".py",
   "mimetype": "text/x-python",
   "name": "python",
   "nbconvert_exporter": "python",
   "pygments_lexer": "ipython3",
   "version": "3.8.5"
  }
 },
 "nbformat": 4,
 "nbformat_minor": 5
}
