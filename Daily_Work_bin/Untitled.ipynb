{
 "cells": [
  {
   "cell_type": "code",
   "execution_count": null,
   "id": "happy-slope",
   "metadata": {},
   "outputs": [],
   "source": [
    "orgn_arr= np.nan_to_num(jij_data_array) \n",
    "        avrg= np.nan_to_num(jij_data_array)\n",
    "        ## As this is the ExtractJijData array_data along the x-aixs as well as y-axis are equal length\n",
    "        for i in range(np.shape(jij_data_array)[1]):\n",
    "            avrg[:,i] += orgn_arr[i,:] "
   ]
  }
 ],
 "metadata": {
  "kernelspec": {
   "display_name": "AiiDA",
   "language": "python",
   "name": "aiida"
  },
  "language_info": {
   "codemirror_mode": {
    "name": "ipython",
    "version": 3
   },
   "file_extension": ".py",
   "mimetype": "text/x-python",
   "name": "python",
   "nbconvert_exporter": "python",
   "pygments_lexer": "ipython3",
   "version": "3.8.5"
  }
 },
 "nbformat": 4,
 "nbformat_minor": 5
}
