{
 "cells": [
  {
   "cell_type": "code",
   "execution_count": 1,
   "id": "greenhouse-watts",
   "metadata": {},
   "outputs": [],
   "source": [
    "## Here kkr_imp_wc will be run from uuid: '23b13d9d-6e02-46c7-b3ac-17033b205b19'\n",
    "## which is the converge kkr calculation for host Bi2Te3 TI."
   ]
  },
  {
   "cell_type": "code",
   "execution_count": 2,
   "id": "supreme-polymer",
   "metadata": {},
   "outputs": [
    {
     "name": "stdout",
     "output_type": "stream",
     "text": [
      "profile name :  default\n",
      "profile database host name :  localhost\n",
      "default user :  r.mozumder@fz-juelich.de\n"
     ]
    }
   ],
   "source": [
    "#load aiida environment and connect to database\n",
    "from aiida import load_profile\n",
    "\n",
    "profile = load_profile()\n",
    "print('profile name : ',profile.name)\n",
    "print('profile database host name : ',profile.database_hostname)\n",
    "print('default user : ',profile.default_user)"
   ]
  },
  {
   "cell_type": "code",
   "execution_count": 88,
   "id": "minute-handling",
   "metadata": {},
   "outputs": [],
   "source": [
    "# load classes and functions\n",
    "from aiida.orm import Code, Dict, load_node, StructureData\n",
    "# from aiida.orm import\n",
    "from aiida_kkr.tools import kkrparams\n",
    "from aiida.engine import submit\n",
    "from aiida_kkr.tools import kkrparams, plot_kkr\n",
    "from aiida_kkr.workflows import kkr_flex_wc, kkr_imp_dos_wc, kkr_dos_wc\n",
    "\n",
    "from aiida.orm import load_group, WorkChainNode\n",
    "import matplotlib.pyplot as plt"
   ]
  },
  {
   "cell_type": "code",
   "execution_count": 148,
   "id": "raised-judgment",
   "metadata": {},
   "outputs": [],
   "source": [
    "# load classes and functions\n",
    "from aiida.orm import CifData, Code, Dict, load_node, StructureData \n",
    "from aiida.orm import (Group, load_group, load_node, load_code, groups,\n",
    "                      WorkChainNode)\n",
    "from aiida.engine import submit\n",
    "from aiida.common.exceptions import NotExistent\n",
    "from aiida_kkr.workflows import kkr_imp_sub_wc, kkr_imp_dos, kkr_imp_wc, kkr_startpot_wc\n",
    "import numpy as np\n",
    "from aiida_kkr.calculations import KkrimpCalculation, VoronoiCalculation\n",
    "import matplotlib.pyplot as plt\n",
    "from aiida_kkr.tools.common_workfunctions import get_username"
   ]
  },
  {
   "cell_type": "code",
   "execution_count": 22,
   "id": "altered-version",
   "metadata": {},
   "outputs": [],
   "source": [
    "## Set the metadata options and code\n",
    "metadata_option_1 = {'max_wallclock_seconds': 36000,'resources': \n",
    "               {'tot_num_mpiprocs': 48, 'num_machines': 1},\n",
    "              'custom_scheduler_commands': \n",
    "              '#SBATCH --account=jara0191\\n\\nulimit -s unlimited; export OMP_STACKSIZE=2g',\n",
    "              'withmpi': True\n",
    "                    }\n",
    "voro_code = Code.get_from_string('voro@claix18_init')\n",
    "kkr_code = Code.get_from_string('kkr@claix18_init')\n",
    "kkrimp_code = Code.get_from_string('kkrflex@claix18_init')"
   ]
  },
  {
   "cell_type": "code",
   "execution_count": 7,
   "id": "lasting-envelope",
   "metadata": {},
   "outputs": [],
   "source": [
    "# Loading the converged kkr host calculation and the remote foder\n",
    "Bi2Te3_conv_kkr = load_node('23b13d9d-6e02-46c7-b3ac-17033b205b19')\n",
    "remote_last_calc_folder = Bi2Te3_conv_kkr.outputs.remote_folder\n"
   ]
  },
  {
   "cell_type": "code",
   "execution_count": 6,
   "id": "expensive-antique",
   "metadata": {},
   "outputs": [
    {
     "name": "stdout",
     "output_type": "stream",
     "text": [
      "Version of workflow: 0.8.1\n"
     ]
    }
   ],
   "source": [
    "# Runing the host host_gf_writeout step\n",
    "\n",
    "# setup the builder inputs\n",
    "label = 'Fe:'+'Bi2Te3'\n",
    "description = ('imp:d-block, repalced_atom:Bi,'+ \n",
    "               'Struc:uuid:c1626804-5b71-450c-91c4-aa7197d85279'+\n",
    "               'kkr_conv:23b13d9d-6e02-46c7-b3ac-17033b205b19')\n",
    "\n",
    "imp_info = {'Rcut': 4.0, 'Zimp': [26.0], 'ilayer_center': 4}\n",
    "\n",
    "options, settings_imp, settings_vorostart = kkr_imp_wc.get_wf_defaults()\n",
    "settings_imp['mag_init'] = True\n",
    "settings_imp['retrieve_kkrflex'] = True\n",
    "# settings_imp['convergence_criterion'] = 1e-8\n",
    "settings_imp['nsteps'] = 100 \n",
    "settings_imp['strmix'] = 0.02\n",
    "settings_imp['threshold_aggressive_mixing'] = 0.05\n",
    "# settings_imp['natom_in_cls_min'] = 35\n",
    "\n",
    "builder_kkr_imp = kkr_imp_wc.get_builder()\n",
    "\n",
    "builder_kkr_imp.options = Dict(dict=metadata_option_1)\n",
    "builder_kkr_imp.metadata.label = label\n",
    "builder_kkr_imp.metadata.description = description\n",
    "\n",
    "builder_kkr_imp.impurity_info = Dict(dict=imp_info)\n",
    "builder_kkr_imp.remote_data_host = remote_last_calc_folder\n",
    "builder_kkr_imp.wf_parameters = Dict(dict=settings_imp)\n",
    "\n",
    "builder_kkr_imp.voronoi = voro_code\n",
    "builder_kkr_imp.kkr = kkr_code\n",
    "builder_kkr_imp.kkrimp = kkrimp_code\n",
    "\n",
    "# First kkr_imp is started here\n",
    "# kkr_imp_start = submit(builder_kkr_imp)\n",
    "# ilayer-3, pk:16100 uuid: 94c02cd3-57c8-4211-92bf-1478f2b93b68\n",
    "# ilayer-4, pk:16637, uiid:'b146795e-3c0d-435d-924c-60834fc855a5'\n"
   ]
  },
  {
   "cell_type": "code",
   "execution_count": 38,
   "id": "bacterial-december",
   "metadata": {},
   "outputs": [
    {
     "data": {
      "text/plain": [
       "'imp:d-block, repalced_atom:Bi,Struc:uuid:c1626804-5b71-450c-91c4-aa7197d85279kkr_conv:23b13d9d-6e02-46c7-b3ac-17033b205b19'"
      ]
     },
     "execution_count": 38,
     "metadata": {},
     "output_type": "execute_result"
    }
   ],
   "source": []
  },
  {
   "cell_type": "code",
   "execution_count": 13,
   "id": "through-census",
   "metadata": {},
   "outputs": [],
   "source": [
    "from aiida.engine import workfunction\n",
    "from __future__ import print_function\n",
    "from __future__ import absolute_import\n"
   ]
  },
  {
   "cell_type": "code",
   "execution_count": null,
   "id": "atlantic-conversion",
   "metadata": {},
   "outputs": [
    {
     "name": "stdout",
     "output_type": "stream",
     "text": [
      "Option is collected from params\n",
      "The given Group exists in DB.  So new successfull Nodeswill be added with the group. Group pk 91\n",
      "No impurity setup is provided. The impurity setup will be created as follows \n",
      "              Combination among all the atoms in the imp_Z_list consisting imp_num_each_wc\n",
      "              atom in each group. Each group will be set in the ilayers position. A \n",
      "              combination among the ilayers element will be consider, each group will \n",
      "              have the same length as numbe of atoms in each atom group\n",
      "Sc:Bi2Te3\n",
      "Ti:Bi2Te3\n",
      "V:Bi2Te3\n",
      "Cr:Bi2Te3\n",
      "Mn:Bi2Te3\n",
      "Fe:Bi2Te3\n",
      "Co:Bi2Te3\n",
      "Ni:Bi2Te3\n",
      "one clalc is finished\n",
      "Cu:Bi2Te3\n",
      "one clalc is finished\n",
      "Zn:Bi2Te3\n",
      "one clalc is finished\n",
      "Y:Bi2Te3\n",
      "one clalc is finished\n",
      "Zr:Bi2Te3\n",
      "one clalc is finished\n",
      "Nb:Bi2Te3\n",
      "one clalc is finished\n",
      "Mo:Bi2Te3\n",
      "one clalc is finished\n",
      "Tc:Bi2Te3\n",
      "one clalc is finished\n",
      "Ru:Bi2Te3\n",
      "one clalc is finished\n",
      "Rh:Bi2Te3\n",
      "one clalc is finished\n",
      "Pd:Bi2Te3\n",
      "one clalc is finished\n",
      "Ag:Bi2Te3\n",
      "one clalc is finished\n",
      "Cd:Bi2Te3\n",
      "one clalc is finished\n",
      "one clalc is finished\n"
     ]
    }
   ],
   "source": [
    "##### This is the edited part and my be final part\n",
    "## By this function a long list of the single kkr_imp_wc could be run.\n",
    "## Previous successful kkr_imp_wc process\n",
    "\n",
    "from aiida.engine import workfunction\n",
    "Fe_Bi2Te3_wc = load_node(16637)\n",
    "host_gf = Fe_Bi2Te3_wc.outputs.remote_data_gf\n",
    "imp_info_old = Fe_Bi2Te3_wc.inputs.impurity_info.get_dict()\n",
    "options = Fe_Bi2Te3_wc.inputs.options\n",
    "\n",
    "# @workfunction\n",
    "def submition_bunch_wc(parent_wc, imp_num_each_wc=None, imp_Z_list=None,builder_options=None,\n",
    "                       ilayers=[],label=None,description=None, imp_setup_dict_list=None,\n",
    "                       group_label= None, group_description=None,\n",
    "                       ):\n",
    "    import time as t\n",
    "    from aiida.common.exceptions import UniquenessError, NotExistent\n",
    "    from aiida.common.constants import elements as elmt\n",
    "    from aiida.orm import (CifData, Code, Dict, load_node,load_group, StructureData,\n",
    "                          Group)\n",
    "\n",
    "    \"\"\"\n",
    "params:\n",
    "    parent_wc : (WorkchainNode, required= True): To get the impurity_info where the host\n",
    "                atom will be repalced by the desired imp atom, rurun the WC.\n",
    "                To get the host_gf \n",
    "    imp_num_each_wc : (int, required= False) : It represents impurity atom number palced in \n",
    "                     impurity info dict(). Either imp_num_each_wc or imp_setup_dict_list must\n",
    "                     be given.\n",
    "    imp_Z_list : (list, required= Flase): It contains list of all zimp for restarting the \n",
    "                 parent_imp_wc. Either imp_setup_dict_list or imp_Z_list have to be in param.\n",
    "    builder_options : (dict or Dict, required = False): To setup the cluster options.\n",
    "                      If not given parent_wc.option will be utilise\n",
    "    ilayers: (list, required=False): This is the list of ilayers to run over the ilayer.\n",
    "    \n",
    "\n",
    "    \"\"\"\n",
    "## Todo: check group node, from successfull wc node, will be automatic created or not\n",
    "## Todo: If not the try to add this feature\n",
    "##\n",
    "\n",
    "# To set the builder options\n",
    "    if builder_options == None:\n",
    "        try:\n",
    "            options = parent_wc.inputs.options\n",
    "        except NotExistent:\n",
    "            msg = 'Neither builder_options is given nor it is found in parent_calculation'\n",
    "            return msg\n",
    "    else:\n",
    "        options= builder_options\n",
    "        print('Option is collected from params')\n",
    "\n",
    "    # Collect required node from parent_wc\n",
    "    imp_dict = parent_wc.inputs.impurity_info.get_dict()\n",
    "    host_gf = parent_wc.outputs.remote_data_gf\n",
    "    is_imp_dict_available = False\n",
    "    \n",
    "    # create group and store it\n",
    "    try :\n",
    "        existed_group= load_group(group_label)\n",
    "        print('The given Group exists in DB.  So new successfull Nodes'\n",
    "              + 'will be added with the group. Group pk {}'.format(existed_group.pk))\n",
    "        created_group = existed_group\n",
    "    except:\n",
    "        if group_label == None:\n",
    "            group_label='Restarted_wc_from_uuid_{}'.format(parent_wc.uuid)\n",
    "        if group_description == None:\n",
    "            group_description='The parent wc impurity info {}'.format(imp_dict)\n",
    "        created_group=Group(label=group_label, description=group_description)\n",
    "        created_group.store()\n",
    "\n",
    "   \n",
    "    ## To create all the possible imp_settings  \n",
    "    all_possible_dict = {} ## All the posssible_dict combination\n",
    "    all_succeful_dict = {} ## To collect all the successfull imp_dict\n",
    "    all_imp_remaider = {} ## The leftover imp_dict without sucessfull imp_dict\n",
    "    \n",
    "    # Create dict of impurity_info dict either from imp_setup_dict_list \n",
    "    # or by combining imp_Z_list, ilayers \n",
    "    if imp_setup_dict_list==None:\n",
    "        print(\"No impurity setup is provided. The impurity setup will be created as follows \\n\\\n",
    "              Combination among all the atoms in the imp_Z_list consisting imp_num_each_wc\\n\\\n",
    "              atom in each group. Each group will be set in the ilayers position. A \\n\\\n",
    "              combination among the ilayers element will be consider, each group will \\n\\\n",
    "              have the same length as numbe of atoms in each atom group\" )\n",
    "    \n",
    "        if imp_num_each_wc == 1:\n",
    "            ## order the dict\n",
    "            dict_order = 0\n",
    "            for Z in imp_Z_list[:] :\n",
    "                    for i_layer in ilayers[:]:\n",
    "                        dict_order += 1\n",
    "                        imp_dict['Zimp'] = Z\n",
    "#                         imp_dict['ilayer_center'] = i_layer\n",
    "                        copy_imp_dict = imp_dict.copy()\n",
    "                        all_possible_dict[dict_order] = copy_imp_dict\n",
    "\n",
    "            all_imp_remaider = all_possible_dict.copy()\n",
    "            is_imp_dict_available = True\n",
    "            \n",
    "    elif isinstance(imp_setup_dict_list, dict):\n",
    "        all_possible_dict = imp_setup_dict_list ## All the posssible_dict combination\n",
    "        all_imp_remaider = all_possible_dict.copy()\n",
    "        is_imp_dict_available = True\n",
    "        dict_order = len(imp_setup_dict_list)\n",
    "        \n",
    "    else :\n",
    "        is_imp_dict_available = False\n",
    "        return 'No impurity info is given by the imp_setup_dict_list nor imp_num_each_wc'\n",
    "    \n",
    "    ##  some pre assumed or pre known values \n",
    "    ####-------------------------\n",
    "    # Change the workflow parameter here for higher\n",
    "    kkr_imp_wc_dict = parent_wc.inputs.wf_parameters.get_dict()\n",
    "    kkr_imp_wc_dict['nsteps'] = 300\n",
    "    kkr_imp_wc_dict['convergence_criterion'] = 1e-07\n",
    "    kkr_imp_wc_dict['retrieve_kkrflex'] = False\n",
    "    \n",
    "    ####-------------------------\n",
    "    if is_imp_dict_available :\n",
    "        # To submit max number of wc at one time\n",
    "        max_wc_submition = 8\n",
    "        stop_here = False\n",
    "        bin_success_info = {}\n",
    "        bin_= {}   ## Use it as submitted imp info\n",
    "        ## wc counting info\n",
    "        builder_iter = 0 ## for tracking the submitted wc\n",
    "        finished_iter = 0 ## tracking the finished wc\n",
    "        total_wc = dict_order ## Total number of wc to be submitted\n",
    "        \n",
    "        # \n",
    "        if max_wc_submition > total_wc:\n",
    "            max_wc_submition = total_wc\n",
    "        created_group_node_list = list(created_group.nodes)\n",
    "        group_node_label_list = [node.label for node in created_group_node_list[:]]\n",
    "        ## To run all the calcualtion according to the all_possible_dict\n",
    "        for order, imp_settings in all_possible_dict.items():\n",
    "            ## stop_here stop all the sumbmition function if exit_status != 0\n",
    "            if stop_here==True:\n",
    "                break\n",
    "                print('At least work chain is finished with '+\n",
    "                      'exit_code not 0, and stop here break 000')\n",
    "\n",
    "    ####---------------------------------------------------\n",
    "            zatom = imp_settings['Zimp']\n",
    "            imp_symbol = elmt[zatom]['symbol']\n",
    "            wc_label = imp_symbol + ':Bi2Te3'\n",
    "            print(wc_label)\n",
    "          \n",
    "            new_imp_dict = imp_settings.copy()\n",
    "            ## step for sumitting the one job\n",
    "            builder = parent_wc.get_builder_restart()\n",
    "            # To remove 'remote_data_host' from builder dict\n",
    "            builder.pop('remote_data_host')\n",
    "            builder.remote_data_gf = host_gf\n",
    "            builder.wf_parameters = Dict(dict=kkr_imp_wc_dict)\n",
    "            builder.impurity_info = Dict(dict=new_imp_dict)\n",
    "            builder.metadata.label = str(wc_label)\n",
    "            builder.options = options\n",
    "            builder_iter += 1\n",
    "            submition = submit(builder)\n",
    "            t.sleep(30)\n",
    "            ## Here the bin ony takes upto eight elements of group\n",
    "            bin_element = {'pk': submition.pk,\n",
    "                                  'uuid': submition.uuid,\n",
    "                                  'exit_status': None,\n",
    "                                  'track_num': order, 'imp_info' :new_imp_dict}\n",
    "            bin_[order] = bin_element\n",
    "            ## The keep the activated wc equal or below the max_wc_submition\n",
    "            ## that is the maximum work-chain to be in running \n",
    "            while ((builder_iter-finished_iter >= max_wc_submition) or (total_wc == builder_iter) or (stop_here==True) ):\n",
    "\n",
    "                t.sleep(120)\n",
    "#                 print('sleeping for 120 second starting of the while loop')\n",
    "                bin_success_wc = []\n",
    "                bin_failure_wc = []\n",
    "    \n",
    "                if (len(bin_) == 0) :\n",
    "                    ## Break the while loop here\n",
    "                    break\n",
    "                    \n",
    "                for calc_order, sub_info in bin_.items():\n",
    "                    wc_pk = bin_[calc_order]['pk']\n",
    "                    wc_node = load_node(wc_pk)\n",
    "                    if wc_node.is_finished == True:\n",
    "                        if wc_node.exit_status == 0:\n",
    "                            print('one clalc is finished')\n",
    "                            bin_[calc_order]['exit_status']=0\n",
    "\n",
    "                            ## To add the dict as a successfull dict\n",
    "                            copy_to_success = all_possible_dict[calc_order].copy()\n",
    "                            all_succeful_dict[calc_order] = (copy_to_success)\n",
    "\n",
    "                            ## To delete the dict from the all_imp_remainder as it is the copy of all_possible_dict\n",
    "                            all_imp_remaider.pop(calc_order)\n",
    "\n",
    "                            ## To collect the successfull calc info such as pk, uuid\n",
    "                            copy_sucess_info = bin_[calc_order].copy()\n",
    "                           # before storing the node check is node is available there\n",
    "                            if wc_node.label in group_node_label_list[:]:\n",
    "                                print('The wc_node pk : {} and label {} is already exist on the group {}'.format(wc_node.pk, wc_node.label, created_group.label))\n",
    "                                created_group.add_nodes(wc_node)\n",
    "                            else:\n",
    "                                created_group.add_nodes(wc_node)\n",
    "                                \n",
    "                            bin_success_info[calc_order] = copy_sucess_info\n",
    "                            ## To reduce the dict from the bin_ as it is boundary that can be submit wc at one time\n",
    "                            bin_success_wc.append(calc_order)\n",
    "                            finished_iter += 1\n",
    "                        else :\n",
    "                            bin_failure_wc.append(calc_order)\n",
    "                            stop_here = True\n",
    "                            print('---exit_status is not 0. So, one inconistency in wc {} is found'.format(wc_pk))\n",
    "\n",
    "                ## To delete the element from bin_ as this wc are finished \n",
    "                ## and create the new space for others\n",
    "                if (bin_success_wc != []):\n",
    "                    for i in bin_success_wc[:]:\n",
    "                        bin_.pop(i)\n",
    "                        \n",
    "                if (bin_failure_wc != []):\n",
    "                    for i in bin_failure_wc[:]:\n",
    "                        bin_.pop(i)\n",
    "                \n",
    "    return all_possible_dict, all_succeful_dict, all_imp_remaider, bin_success_info\n",
    "\n",
    "\n",
    "imp_num_each_wc = 1\n",
    "i_layers = [4]\n",
    "d_elmt_zatom = [*range(21,31, 1)] + [*range(39,49, 1)]\n",
    "builder_options = Dict(dict=metadata_option_1)\n",
    "\n",
    "group_label='3d_4d_dopants_Bi2Te3_ilayer4'\n",
    "\n",
    "\n",
    "# all_possible_dict, all_succeful_dict, all_imp_remaider, bin_success_info  = submition_bunch_wc(parent_wc= Fe_Bi2Te3_wc, imp_num_each_wc= 1,\n",
    "#                                                                                                imp_Z_list= d_elmt_zatom,builder_options= builder_options,\n",
    "#                                                                                                ilayers= i_layers, group_label=group_label)\n",
    "# finished_bin\n",
    "\n",
    "# all_possible_dict, all_succeful_dict, all_imp_remaider, bin_success_info  = submition_bunch_wc(Fe_Bi2Te3_wc, builder_option, imp_setup_dict_list=imp_setup_dict_list,\n",
    "#                                                                                               group_label='3d_4d_dopants_Bi2Te3_ilayer4')\n"
   ]
  },
  {
   "cell_type": "code",
   "execution_count": 16,
   "id": "experimental-efficiency",
   "metadata": {},
   "outputs": [],
   "source": [
    "d_elmt_zatom = [*range(21,31, 1)] + [*range(39,49, 1)]\n"
   ]
  },
  {
   "cell_type": "code",
   "execution_count": 17,
   "id": "undefined-guitar",
   "metadata": {},
   "outputs": [],
   "source": [
    "## This Part is intended to run the kkr_imp_dos_wc from the previous kkr_imp_wc\n",
    "# Inputs:\n",
    "# Features:\n",
    "\n",
    "# Trying to run single imp DOS calculation\n",
    "\n",
    "parent_kkrimp = load_node(16195)\n",
    "\n",
    "## Preparation the inputs\n",
    "dos_wf_parameters = {'EMIN': -5,\n",
    "                     'EMAX': 10}\n",
    "\n",
    "code = Code()\n",
    "kkr_code = code.get_from_string('kkr@claix18_init')\n",
    "kkrimp_code = code.get_from_string('kkrflex@claix18_init')\n",
    "options = metadata_option_1\n",
    "imp_info = parent_kkrimp.inputs.impurity_info\n",
    "kkrimp_sfd = parent_kkrimp.outputs.converged_potential\n",
    "\n",
    "# Now to submit the kkr_dos_wc node\n",
    "kkrdoswc = kkr_imp_dos_wc.get_builder()\n",
    "\n",
    "kkrdoswc.kkr = kkr_code\n",
    "kkrdoswc.kkrimp = kkrimp_code\n",
    "kkrdoswc.impurity_info = imp_info\n",
    "kkrdoswc.imp_pot_sfd = kkrimp_sfd\n",
    "kkrdoswc.options = Dict(dict=options)\n",
    "kkrdoswc.wf_parameters = Dict(dict=dos_wf_parameters)\n",
    "kkrdoswc_activate = submit(kkrdoswc)"
   ]
  },
  {
   "cell_type": "code",
   "execution_count": 30,
   "id": "applied-actress",
   "metadata": {},
   "outputs": [
    {
     "name": "stdout",
     "output_type": "stream",
     "text": [
      "18833\n",
      "Sc:Bi2Te3\n",
      "18853\n",
      "Ti:Bi2Te3\n",
      "18875\n",
      "V:Bi2Te3\n",
      "18896\n",
      "Cr:Bi2Te3\n",
      "18917\n",
      "Mn:Bi2Te3\n",
      "18938\n",
      "Fe:Bi2Te3\n",
      "19012\n",
      "Ni:Bi2Te3\n",
      "19180\n",
      "Cu:Bi2Te3\n",
      "19226\n",
      "Zn:Bi2Te3\n",
      "19257\n",
      "Y:Bi2Te3\n",
      "19303\n",
      "Zr:Bi2Te3\n",
      "19364\n",
      "Nb:Bi2Te3\n",
      "19410\n",
      "Mo:Bi2Te3\n",
      "19456\n",
      "Tc:Bi2Te3\n",
      "19551\n",
      "Ru:Bi2Te3\n",
      "19597\n",
      "Rh:Bi2Te3\n",
      "19642\n",
      "Pd:Bi2Te3\n",
      "19689\n",
      "Ag:Bi2Te3\n",
      "19720\n",
      "Cd:Bi2Te3\n"
     ]
    }
   ],
   "source": [
    "## \n",
    "def dos_wc_branch(parent_kkrimp_wc_group, parent_kkrimp_wc_list=[]):\n",
    "    ## Preparation the inputs\n",
    "    dos_wf_parameters = {'EMIN': -5,\n",
    "                         'EMAX': 10}\n",
    "    parent_kkrimp_wc_group = load_group(parent_kkrimp_wc_group)\n",
    "    wc_list = list(parent_kkrimp_wc_group.nodes)\n",
    "    for node in wc_list[:]:\n",
    "        print(node.pk)\n",
    "        print(node.label)\n",
    "    for node in wc_list[1:]:\n",
    "        parent_kkrimp = load_node(node.pk)\n",
    "\n",
    "        code = Code()\n",
    "        kkr_code = code.get_from_string('kkr@claix18_init')\n",
    "        kkrimp_code = code.get_from_string('kkrflex@claix18_init')\n",
    "        options = metadata_option_1\n",
    "        imp_info = parent_kkrimp.inputs.impurity_info\n",
    "        kkrimp_sfd = parent_kkrimp.outputs.converged_potential\n",
    "        label = parent_kkrimp.label + 'dos'\n",
    "        # Now to submit the kkr_dos_wc node\n",
    "        kkrdoswc = kkr_imp_dos_wc.get_builder()\n",
    "\n",
    "        kkrdoswc.kkr = kkr_code\n",
    "        kkrdoswc.kkrimp = kkrimp_code\n",
    "        kkrdoswc.impurity_info = imp_info\n",
    "        kkrdoswc.imp_pot_sfd = kkrimp_sfd\n",
    "        kkrdoswc.options = Dict(dict=options)\n",
    "        kkrdoswc.wf_parameters = Dict(dict=dos_wf_parameters)\n",
    "        kkrdoswc.metadata.label = label\n",
    "#         kkrdoswc_activate = submit(kkrdoswc)\n",
    "    \n",
    "dos_wc_branch(91)\n",
    "    "
   ]
  },
  {
   "cell_type": "code",
   "execution_count": 70,
   "id": "copyrighted-permission",
   "metadata": {},
   "outputs": [
    {
     "data": {
      "text/plain": [
       "aiida_kkr.workflows.kkr_imp.kkr_imp_wc"
      ]
     },
     "execution_count": 70,
     "metadata": {},
     "output_type": "execute_result"
    }
   ],
   "source": [
    "load_n = load_node(18833)\n",
    "load_n.node_type =='process.workflow.workchain.WorkChainNode.'\n",
    "load_n.process_class #== 'aiida_kkr.workflows.kkr_imp.kkr_imp_dos_wc'"
   ]
  },
  {
   "cell_type": "code",
   "execution_count": 75,
   "id": "cooperative-protocol",
   "metadata": {},
   "outputs": [
    {
     "ename": "AttributeError",
     "evalue": "'list' object has no attribute 'node'",
     "output_type": "error",
     "traceback": [
      "\u001b[0;31m---------------------------------------------------------------------------\u001b[0m",
      "\u001b[0;31mAttributeError\u001b[0m                            Traceback (most recent call last)",
      "\u001b[0;32m<ipython-input-75-1e6c96d7bc2f>\u001b[0m in \u001b[0;36m<module>\u001b[0;34m\u001b[0m\n\u001b[1;32m      8\u001b[0m         \u001b[0moutgoing_wc\u001b[0m \u001b[0;34m=\u001b[0m \u001b[0;34m[\u001b[0m \u001b[0mi\u001b[0m\u001b[0;34m.\u001b[0m\u001b[0moutputs\u001b[0m\u001b[0;34m.\u001b[0m\u001b[0mconverged_potential\u001b[0m \u001b[0;32mfor\u001b[0m \u001b[0mi\u001b[0m \u001b[0;32min\u001b[0m \u001b[0mwc_list\u001b[0m\u001b[0;34m[\u001b[0m\u001b[0;34m:\u001b[0m\u001b[0;34m]\u001b[0m\u001b[0;34m]\u001b[0m\u001b[0;34m\u001b[0m\u001b[0;34m\u001b[0m\u001b[0m\n\u001b[1;32m      9\u001b[0m         \u001b[0moutgoing_wc\u001b[0m \u001b[0;34m=\u001b[0m \u001b[0;34m[\u001b[0m \u001b[0mi\u001b[0m\u001b[0;34m.\u001b[0m\u001b[0mget_outgoing\u001b[0m\u001b[0;34m(\u001b[0m\u001b[0;34m)\u001b[0m\u001b[0;34m.\u001b[0m\u001b[0mall\u001b[0m\u001b[0;34m(\u001b[0m\u001b[0;34m)\u001b[0m \u001b[0;32mfor\u001b[0m \u001b[0mi\u001b[0m \u001b[0;32min\u001b[0m \u001b[0moutgoing_wc\u001b[0m\u001b[0;34m]\u001b[0m\u001b[0;34m\u001b[0m\u001b[0;34m\u001b[0m\u001b[0m\n\u001b[0;32m---> 10\u001b[0;31m         \u001b[0moutgoing_wc\u001b[0m \u001b[0;34m=\u001b[0m \u001b[0;34m[\u001b[0m \u001b[0mwc\u001b[0m \u001b[0;32mfor\u001b[0m \u001b[0mwc\u001b[0m \u001b[0;32min\u001b[0m \u001b[0moutgoing_wc\u001b[0m\u001b[0;34m[\u001b[0m\u001b[0;34m:\u001b[0m\u001b[0;34m]\u001b[0m \u001b[0;32mif\u001b[0m \u001b[0mwc\u001b[0m\u001b[0;34m.\u001b[0m\u001b[0mnode\u001b[0m\u001b[0;34m.\u001b[0m\u001b[0mnode_type\u001b[0m\u001b[0;34m==\u001b[0m\u001b[0;34m'process.workflow.workchain.WorkChainNode.'\u001b[0m\u001b[0;34m]\u001b[0m\u001b[0;34m\u001b[0m\u001b[0;34m\u001b[0m\u001b[0m\n\u001b[0m\u001b[1;32m     11\u001b[0m \u001b[0;31m#         outgoing_wc = [ wc for wc in outgoing_wc[:] if wc.node.process_class=='aiida_kkr.workflows.kkr_imp_dos.kkr_imp_dos_wc']\u001b[0m\u001b[0;34m\u001b[0m\u001b[0;34m\u001b[0m\u001b[0;34m\u001b[0m\u001b[0m\n\u001b[1;32m     12\u001b[0m \u001b[0;34m\u001b[0m\u001b[0m\n",
      "\u001b[0;32m<ipython-input-75-1e6c96d7bc2f>\u001b[0m in \u001b[0;36m<listcomp>\u001b[0;34m(.0)\u001b[0m\n\u001b[1;32m      8\u001b[0m         \u001b[0moutgoing_wc\u001b[0m \u001b[0;34m=\u001b[0m \u001b[0;34m[\u001b[0m \u001b[0mi\u001b[0m\u001b[0;34m.\u001b[0m\u001b[0moutputs\u001b[0m\u001b[0;34m.\u001b[0m\u001b[0mconverged_potential\u001b[0m \u001b[0;32mfor\u001b[0m \u001b[0mi\u001b[0m \u001b[0;32min\u001b[0m \u001b[0mwc_list\u001b[0m\u001b[0;34m[\u001b[0m\u001b[0;34m:\u001b[0m\u001b[0;34m]\u001b[0m\u001b[0;34m]\u001b[0m\u001b[0;34m\u001b[0m\u001b[0;34m\u001b[0m\u001b[0m\n\u001b[1;32m      9\u001b[0m         \u001b[0moutgoing_wc\u001b[0m \u001b[0;34m=\u001b[0m \u001b[0;34m[\u001b[0m \u001b[0mi\u001b[0m\u001b[0;34m.\u001b[0m\u001b[0mget_outgoing\u001b[0m\u001b[0;34m(\u001b[0m\u001b[0;34m)\u001b[0m\u001b[0;34m.\u001b[0m\u001b[0mall\u001b[0m\u001b[0;34m(\u001b[0m\u001b[0;34m)\u001b[0m \u001b[0;32mfor\u001b[0m \u001b[0mi\u001b[0m \u001b[0;32min\u001b[0m \u001b[0moutgoing_wc\u001b[0m\u001b[0;34m]\u001b[0m\u001b[0;34m\u001b[0m\u001b[0;34m\u001b[0m\u001b[0m\n\u001b[0;32m---> 10\u001b[0;31m         \u001b[0moutgoing_wc\u001b[0m \u001b[0;34m=\u001b[0m \u001b[0;34m[\u001b[0m \u001b[0mwc\u001b[0m \u001b[0;32mfor\u001b[0m \u001b[0mwc\u001b[0m \u001b[0;32min\u001b[0m \u001b[0moutgoing_wc\u001b[0m\u001b[0;34m[\u001b[0m\u001b[0;34m:\u001b[0m\u001b[0;34m]\u001b[0m \u001b[0;32mif\u001b[0m \u001b[0mwc\u001b[0m\u001b[0;34m.\u001b[0m\u001b[0mnode\u001b[0m\u001b[0;34m.\u001b[0m\u001b[0mnode_type\u001b[0m\u001b[0;34m==\u001b[0m\u001b[0;34m'process.workflow.workchain.WorkChainNode.'\u001b[0m\u001b[0;34m]\u001b[0m\u001b[0;34m\u001b[0m\u001b[0;34m\u001b[0m\u001b[0m\n\u001b[0m\u001b[1;32m     11\u001b[0m \u001b[0;31m#         outgoing_wc = [ wc for wc in outgoing_wc[:] if wc.node.process_class=='aiida_kkr.workflows.kkr_imp_dos.kkr_imp_dos_wc']\u001b[0m\u001b[0;34m\u001b[0m\u001b[0;34m\u001b[0m\u001b[0;34m\u001b[0m\u001b[0m\n\u001b[1;32m     12\u001b[0m \u001b[0;34m\u001b[0m\u001b[0m\n",
      "\u001b[0;31mAttributeError\u001b[0m: 'list' object has no attribute 'node'"
     ]
    }
   ],
   "source": [
    "wc_dos_list = []\n",
    "loaded_group = load_group(91)\n",
    "wc_list = list(loaded_group.nodes)\n",
    "for node in wc_list[:]:\n",
    "    loaded_node = load_node(node.pk)\n",
    "    dos_wc = False\n",
    "    while(not dos_wc):\n",
    "        outgoing_wc = [ i.outputs.converged_potential for i in wc_list[:]]\n",
    "        outgoing_wc = [ i.get_outgoing().all() for i in outgoing_wc]\n",
    "        outgoing_wc = [ wc for wc in outgoing_wc[:] if wc.node.node_type=='process.workflow.workchain.WorkChainNode.']\n",
    "#         outgoing_wc = [ wc for wc in outgoing_wc[:] if wc.node.process_class=='aiida_kkr.workflows.kkr_imp_dos.kkr_imp_dos_wc']\n",
    "        \n",
    "        print(outgoing_wc)\n",
    "        dos_wc = True"
   ]
  },
  {
   "cell_type": "code",
   "execution_count": null,
   "id": "color-thanksgiving",
   "metadata": {},
   "outputs": [],
   "source": []
  },
  {
   "cell_type": "code",
   "execution_count": null,
   "id": "colonial-holly",
   "metadata": {},
   "outputs": [],
   "source": []
  },
  {
   "cell_type": "code",
   "execution_count": null,
   "id": "optical-wound",
   "metadata": {},
   "outputs": [],
   "source": []
  },
  {
   "cell_type": "code",
   "execution_count": null,
   "id": "french-identification",
   "metadata": {},
   "outputs": [],
   "source": [
    "## Dos_plotting\n",
    "plt.figure()\n",
    "for i, imp_dos in enumerate(imp_dos_group.nodes[3:4]):\n",
    "    # plot the contribution of the total impurity cluster into the background\n",
    "    # we scale this down by 0.5 to have copatible y-scales\n",
    "    plot_kkr(imp_dos, l_channels=False, strucplot=False, silent=True, label=None,\n",
    "             noshow=True, nofig=True, color='C'+str(i),\n",
    "             filled=True, alpha=0.3, yscale=0.5, lw=3\n",
    "            )\n",
    "    # highlight the contibution of the impurity (iatom=0)\n",
    "    plot_kkr(imp_dos, l_channels=False, strucplot=False, silent=True, label=imp_dos.label,\n",
    "             noshow=True, nofig=True, color='C'+str(i),\n",
    "             lw=3, iatom=0, \n",
    "            )\n",
    "plt.legend(loc=2, fontsize='large')\n",
    "plt.title('')\n",
    "plt.show()"
   ]
  },
  {
   "cell_type": "code",
   "execution_count": null,
   "id": "portable-venue",
   "metadata": {},
   "outputs": [],
   "source": [
    "## dos calc = 21270,  21312, 21316, 21321, 21325,  21330, 21335, 21341, 21345, 21350, 21354, 21359, 21362, 21368, 21373, 21377\n",
    "# , 21382, 21386, 21391"
   ]
  },
  {
   "cell_type": "code",
   "execution_count": 89,
   "id": "great-classification",
   "metadata": {},
   "outputs": [
    {
     "name": "stderr",
     "output_type": "stream",
     "text": [
      "No handles with labels found to put in legend.\n"
     ]
    },
    {
     "name": "stdout",
     "output_type": "stream",
     "text": [
      "\n"
     ]
    },
    {
     "name": "stderr",
     "output_type": "stream",
     "text": [
      "No handles with labels found to put in legend.\n"
     ]
    },
    {
     "data": {
      "text/plain": [
       "<aiida_kkr.tools.plot_kkr.plot_kkr at 0x7fe38c779460>"
      ]
     },
     "execution_count": 89,
     "metadata": {},
     "output_type": "execute_result"
    },
    {
     "data": {
      "image/png": "[encoded data removed]",
      "text/plain": [
       "<Figure size 432x288 with 1 Axes>"
      ]
     },
     "metadata": {
      "needs_background": "light"
     },
     "output_type": "display_data"
    }
   ],
   "source": [
    "imp_dos = load_node(21270)\n",
    "print(imp_dos.label)\n",
    "plt.figure()\n",
    "plot_kkr(imp_dos, l_channels=False, strucplot=False, silent=True, label= imp_dos.label,\n",
    "             noshow=True, nofig=True, color='C'+str(0),\n",
    "             filled=True, alpha=0.3, yscale=0.5, lw=3\n",
    "        )\n",
    " # highlight the contibution of the impurity (iatom=0)\n",
    "plot_kkr(imp_dos, l_channels=False, strucplot=False, silent=True, label=imp_dos.label,\n",
    "         noshow=True, nofig=True, color='C'+str(0),\n",
    "         lw=3, iatom=0, \n",
    "        )"
   ]
  },
  {
   "cell_type": "code",
   "execution_count": 91,
   "id": "incorrect-rehabilitation",
   "metadata": {},
   "outputs": [
    {
     "name": "stderr",
     "output_type": "stream",
     "text": [
      "No handles with labels found to put in legend.\n"
     ]
    },
    {
     "data": {
      "text/plain": [
       "<aiida_kkr.tools.plot_kkr.plot_kkr at 0x7fe38b4cdf70>"
      ]
     },
     "execution_count": 91,
     "metadata": {},
     "output_type": "execute_result"
    },
    {
     "data": {
      "image/png": "[encoded data removed]",
      "text/plain": [
       "<Figure size 432x288 with 1 Axes>"
      ]
     },
     "metadata": {
      "needs_background": "light"
     },
     "output_type": "display_data"
    }
   ],
   "source": [
    " plot_kkr(imp_dos, l_channels=False, strucplot=False, silent=True, label=imp_dos.label,\n",
    "             noshow=True, nofig=True, color='C'+str(0),\n",
    "             lw=3, iatom=0,all_atoms= False, sum_spins= True,)"
   ]
  },
  {
   "cell_type": "code",
   "execution_count": null,
   "id": "relative-point",
   "metadata": {},
   "outputs": [],
   "source": []
  },
  {
   "cell_type": "code",
   "execution_count": 182,
   "id": "seventh-alert",
   "metadata": {},
   "outputs": [
    {
     "ename": "SyntaxError",
     "evalue": "non-default argument follows default argument (<ipython-input-182-6fe2a73cc412>, line 1)",
     "output_type": "error",
     "traceback": [
      "\u001b[0;36m  File \u001b[0;32m\"<ipython-input-182-6fe2a73cc412>\"\u001b[0;36m, line \u001b[0;32m1\u001b[0m\n\u001b[0;31m    def make_group(node_list, group_description, group_label, sample_node_id=None, node_type=None,\u001b[0m\n\u001b[0m                   ^\u001b[0m\n\u001b[0;31mSyntaxError\u001b[0m\u001b[0;31m:\u001b[0m non-default argument follows default argument\n"
     ]
    }
   ],
   "source": [
    "def make_group(node_list, group_description, group_label, sample_node_id=None, node_type=None, \n",
    "               process_class=None, creation_time):\n",
    "    \"\"\"\n",
    "    To create a group of given nodes depends on the <node_class>, <creation_time>\n",
    "    \"\"\"\n",
    "    \"\"\"\n",
    "    : node_list : (list) : This is the list of node to be added into the group\n",
    "    : node_class : aiida_node_class : Only the node of this will be added into the intended_group\n",
    "    : param modified_time : (str) : '2021-03-12 07:25:52.757417+00:00' -> date(year-month-day) time(hour-minutes-second)\n",
    "    : group_label : (str) : Label for the intended group\n",
    "    : group_description : (str) : Description for the intended group\n",
    "    \"\"\"\n",
    "    \n",
    "    thres_time, thres_date = devide_time_and_date(time) \n",
    "    if sample_node != None:\n",
    "        try:\n",
    "            sample_node = load_node(sample_node_id)\n",
    "            sample_node_type = str(sample_node.node_type)\n",
    "            sample_process_class = str(sample_node.process_class)\n",
    "            \n",
    "        except NotExistent:\n",
    "            print('Node with pk : {} is existent in database'.format(sample_node_id))\n",
    "    \n",
    "    ## Check the same group is availabel in the database\n",
    "    try:\n",
    "        group = load_group(label=group_label)\n",
    "    except NotExistent:\n",
    "        print( 'Group with the label {} is not found in the data base'.format(group_label))\n",
    "        group = Group(label=group_label, description=group_description)\n",
    "        group.store()\n",
    "    \n",
    "    for id_ in node_list[:]:\n",
    "        try:\n",
    "            node = load_node(id_)\n",
    "            node_type = str(node.node_type)\n",
    "            node_process_class = str(node.process_class)\n",
    "            ctime = str(node.ctime)\n",
    "            node_time, node_date = devide_time_and_date(ctime=ctime)\n",
    "        except NotExistent:\n",
    "            print('Node with pk : {} is existent in database'.format(node))\n",
    "            continue\n",
    "        if node_type == sample_node_type:\n",
    "            if node_process_class == sample_process_class:\n",
    "                ## For date checking\n",
    "                # Year\n",
    "                if d\n",
    "                group.add_nodes(node)\n",
    "            \n",
    "        \n",
    "    \n",
    "    \n",
    "    \n",
    "    \n",
    "### devide the ime and date\n",
    "def devide_time_and_date(ctime, debug=False):\n",
    "    ## Divide creation_time into the time and date \n",
    "    date, time = creation_time.split(' ')\n",
    "    if debug:\n",
    "        print('Givn time is here:  {}'.format(time))\n",
    "    time_second = time_in_sec(time)\n",
    "    date =[int(i) for i in date.split('-')]\n",
    "    if debug:\n",
    "        print('Given Date : {}'.format(date))\n",
    "    \n",
    "    return time, date\n",
    "### Check node is of the     \n",
    "    \n",
    "### Here some helper function\n",
    "def time_in_sec(time, debug= False):\n",
    "    # check the time formate is exact as it shoould be\n",
    "    if not isinstance(time, str):\n",
    "        time = str(time)\n",
    "    try:\n",
    "        creation_time = time11\n",
    "        time = creation_time.split(' ')[-1]\n",
    "        if debug:\n",
    "            print('time is here:  {}'.format(time))\n",
    "        time = time.split(':')\n",
    "        if debug:\n",
    "            print('time parts in list : {} '.format(time))\n",
    "        time[2] = time[2].replace('+', 'E+')\n",
    "        sum_sec = 0\n",
    "\n",
    "        for i,j in enumerate(time[:-1]):\n",
    "            sec = ((60)**(2-i))*float(j)\n",
    "\n",
    "            sum_sec += sec\n",
    "        if debug:\n",
    "            print(sum_sec)\n",
    "        return sum_sec\n",
    "    except ValueError:\n",
    "        print('ValueError : ')\n",
    "        msg = '2021-03-12 07:25:52.757417+00:00 -> date(year-month-day) time(hour-minutes-second)'\n",
    "        print('check the time formate as ,mentioned here : {}'.format(msg))\n"
   ]
  },
  {
   "cell_type": "code",
   "execution_count": 145,
   "id": "binary-commerce",
   "metadata": {},
   "outputs": [
    {
     "data": {
      "text/plain": [
       "list"
      ]
     },
     "execution_count": 145,
     "metadata": {},
     "output_type": "execute_result"
    }
   ],
   "source": [
    "time='2021-03-12 07:25:52.757417+00:00'\n",
    "type(time.split('-'))"
   ]
  },
  {
   "cell_type": "code",
   "execution_count": 179,
   "id": "fundamental-royal",
   "metadata": {},
   "outputs": [
    {
     "data": {
      "text/plain": [
       "\"<class 'aiida_kkr.workflows._combine_imps.combine_imps_wc'>\""
      ]
     },
     "execution_count": 179,
     "metadata": {},
     "output_type": "execute_result"
    }
   ],
   "source": [
    "node_222 = load_node(22211)\n",
    "# isinstance(node_222.node_class, KkrimpCalculation)\n",
    "kk = node_222.process_class\n",
    "str(node_222.process_class)"
   ]
  },
  {
   "cell_type": "code",
   "execution_count": 197,
   "id": "dedicated-child",
   "metadata": {},
   "outputs": [
    {
     "data": {
      "text/plain": [
       "[21270,\n",
       " 21312,\n",
       " 21316,\n",
       " 21321,\n",
       " 21325,\n",
       " 21330,\n",
       " 21335,\n",
       " 21341,\n",
       " 21345,\n",
       " 21350,\n",
       " 21354,\n",
       " 21359,\n",
       " 21362,\n",
       " 21368,\n",
       " 21373,\n",
       " 21377,\n",
       " 21382,\n",
       " 21386,\n",
       " 21391]"
      ]
     },
     "execution_count": 197,
     "metadata": {},
     "output_type": "execute_result"
    }
   ],
   "source": [
    "node_list = [21270,  21312, 21316, 21321, 21325,  21330, 21335, 21341, 21345, 21350, 21354, 21359, 21362, 21368, 21373, 21377, 21382, 21386, 21391]\n",
    "# node_list = set(node_list)\n",
    "node_list"
   ]
  },
  {
   "cell_type": "code",
   "execution_count": 200,
   "id": "continued-proof",
   "metadata": {},
   "outputs": [],
   "source": [
    "# group = Group(label='3d_4d_dopants_Bi2Te3_ilayer4_dos')\n",
    "group = load_group(93)\n",
    "for node in node_list[1:]:\n",
    "    node = load_node(node)\n",
    "    group.add_nodes(node)"
   ]
  },
  {
   "cell_type": "code",
   "execution_count": null,
   "id": "domestic-insight",
   "metadata": {},
   "outputs": [],
   "source": []
  }
 ],
 "metadata": {
  "kernelspec": {
   "display_name": "AiiDA",
   "language": "python",
   "name": "aiida"
  },
  "language_info": {
   "codemirror_mode": {
    "name": "ipython",
    "version": 3
   },
   "file_extension": ".py",
   "mimetype": "text/x-python",
   "name": "python",
   "nbconvert_exporter": "python",
   "pygments_lexer": "ipython3",
   "version": "3.8.5"
  }
 },
 "nbformat": 4,
 "nbformat_minor": 5
}
