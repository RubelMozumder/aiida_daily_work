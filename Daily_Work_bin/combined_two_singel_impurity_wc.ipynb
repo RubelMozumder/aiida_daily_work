{
 "cells": [
  {
   "cell_type": "code",
   "execution_count": 1,
   "id": "cellular-trail",
   "metadata": {},
   "outputs": [
    {
     "data": {
      "text/plain": [
       "'default'"
      ]
     },
     "execution_count": 1,
     "metadata": {},
     "output_type": "execute_result"
    }
   ],
   "source": [
    "from aiida import load_profile\n",
    "aiida_profile = load_profile()\n",
    "aiida_profile.name"
   ]
  },
  {
   "cell_type": "code",
   "execution_count": 2,
   "id": "productive-aberdeen",
   "metadata": {},
   "outputs": [],
   "source": [
    "## Loading the some require packages and module\n",
    "from aiida_kkr.workflows import (combine_imps_wc, kkr_flex_wc,\n",
    "                                 kkr_imp_wc, kkr_imp_sub_wc\n",
    "                                )\n",
    "from aiida_kkr.calculations import KkrCalculation, KkrimpCalculation\n",
    "from aiida.orm import (Group, load_group, load_node, Dict, Code\n",
    "                      )\n",
    "from aiida_kkr.tools import kkrparams\n",
    "from aiida.engine import submit"
   ]
  },
  {
   "cell_type": "code",
   "execution_count": 3,
   "id": "current-india",
   "metadata": {},
   "outputs": [],
   "source": [
    "metadata_option_1 = {'max_wallclock_seconds': 36000,'resources': \n",
    "               {'tot_num_mpiprocs': 48, 'num_machines': 1},\n",
    "              'custom_scheduler_commands': \n",
    "              '#SBATCH --account=jara0191\\n\\nulimit -s unlimited; export OMP_STACKSIZE=2g',\n",
    "              'withmpi': True\n",
    "                    }"
   ]
  },
  {
   "cell_type": "code",
   "execution_count": 4,
   "id": "introductory-armstrong",
   "metadata": {},
   "outputs": [],
   "source": [
    "# Note that here for doped 3d atoms into the Bi2Te3 host\n",
    "\n",
    "group_74 = load_group(74)\n",
    "## first node of group-64 is for kkr_imp_wc process\n",
    "# is being used for the host_gf or kkr_flex files\n",
    "\n",
    "imp_wc_with_gf = load_node(16100)\n",
    "imp1_wc = group_74.nodes[1]\n",
    "imp2_wc = group_74.nodes[2]\n",
    "\n",
    "# gf_host_remote = imp_wc_with_gf.inputs.remote_data_gf\n",
    "# host_gf_wc = imp_wc_with_gf.get_outgoing(node_class=kkr_flex_wc).all()[0].node\n",
    "\n",
    "\n",
    "impurity1_output_node = imp1_wc.outputs.workflow_info\n",
    "impurity2_output_node = imp2_wc.outputs.workflow_info\n",
    "offset_imp2 = {'index':1}"
   ]
  },
  {
   "cell_type": "code",
   "execution_count": 5,
   "id": "generic-conversion",
   "metadata": {},
   "outputs": [],
   "source": [
    "# kkr_code_iffslurm = kkrflex@iffslurm"
   ]
  },
  {
   "cell_type": "code",
   "execution_count": 6,
   "id": "provincial-establishment",
   "metadata": {},
   "outputs": [],
   "source": [
    "scf_node = imp1_wc.get_outgoing(node_class=kkr_imp_sub_wc).all()[0].node\n",
    "## kkr_flex_wc\n",
    "host_gf = imp1_wc.inputs.remote_data_gf.get_incoming(node_class=kkr_flex_wc).all()[0].node\n",
    "kkr_calc = host_gf.get_outgoing(node_class=KkrCalculation).all()[0].node\n",
    "kkr_flex_kkr_param = kkr_calc.inputs.parameters"
   ]
  },
  {
   "cell_type": "code",
   "execution_count": 7,
   "id": "fewer-nebraska",
   "metadata": {},
   "outputs": [],
   "source": [
    "kkr_flex_kkr_param = kkr_calc.inputs.parameters.get_dict()\n",
    "kkr_flex_kkr_param['RCLUSTZ'] *= 1\n",
    "kkr_flex_kkr_param['NSHELD'] = 2500"
   ]
  },
  {
   "cell_type": "code",
   "execution_count": 8,
   "id": "virtual-briefing",
   "metadata": {},
   "outputs": [],
   "source": [
    "# kkr_flex_kkr_param"
   ]
  },
  {
   "cell_type": "code",
   "execution_count": 9,
   "id": "scheduled-settle",
   "metadata": {},
   "outputs": [
    {
     "name": "stdout",
     "output_type": "stream",
     "text": [
      "Version of workflow: 0.3.1\n"
     ]
    }
   ],
   "source": [
    "settings = combine_imps_wc.get_wf_defaults()\n",
    "builder = combine_imps_wc.get_builder()\n",
    "settings['jij_run']= True\n",
    "settings['dos_run']= False\n",
    "settings['lmdos']= False\n",
    "settings['retrieve_kkrflex'] = False\n",
    "settings['mag_init']= False\n",
    "settings['threshold_switch_high_accuracy'] = 1e-2\n",
    "settings['convergence_criterion'] = 1e-7 #convergence_criterion\n",
    "settings['threshold_aggressive_mixing']= 0.02\n",
    "settings['strmix']= 0.01\n",
    "settings['aggrmix'] = 0.05\n",
    "# settings['mixreduce'] = 0.5\n",
    "settings['broyden-number'] = 20\n",
    "settings['nsteps'] = 100\n",
    "settings['kkr_runmax'] = 10"
   ]
  },
  {
   "cell_type": "code",
   "execution_count": 10,
   "id": "connected-antenna",
   "metadata": {},
   "outputs": [],
   "source": [
    "options = scf_node.inputs.options.get_dict()\n",
    "options['max_wallclock_seconds'] = 36000*1\n",
    "# options"
   ]
  },
  {
   "cell_type": "code",
   "execution_count": 11,
   "id": "tender-hours",
   "metadata": {},
   "outputs": [],
   "source": [
    "builder.impurity1_output_node = impurity1_output_node\n",
    "builder.impurity2_output_node = impurity2_output_node\n",
    "builder.offset_imp2 = Dict(dict=offset_imp2)\n",
    "\n",
    "# scf namespace setup\n",
    "builder.scf.kkrimp = scf_node.inputs.kkrimp\n",
    "builder.scf.options = Dict(dict=options)\n",
    "builder.scf.wf_parameters = scf_node.inputs.wf_parameters\n",
    "\n",
    "# host_gf namespace setup\n",
    "builder.host_gf.kkr = host_gf.inputs.kkr\n",
    "builder.host_gf.options = host_gf.inputs.options\n",
    "builder.host_gf.params_kkr_overwrite = Dict(dict=kkr_flex_kkr_param) #host_gf.inputs.wf_parameters\n",
    "\n",
    "builder.wf_parameters_overwrite = Dict(dict=settings)\n",
    "builder.metadata.label = str(imp1_wc.label+ ':' +imp2_wc.label)"
   ]
  },
  {
   "cell_type": "code",
   "execution_count": 12,
   "id": "lovely-retail",
   "metadata": {},
   "outputs": [],
   "source": [
    "# To submit the builder\n",
    "combined_imp_submission = submit(builder)"
   ]
  },
  {
   "cell_type": "code",
   "execution_count": 17,
   "id": "herbal-smith",
   "metadata": {},
   "outputs": [
    {
     "name": "stdout",
     "output_type": "stream",
     "text": [
      "Version of workflow: 0.3.1\n"
     ]
    }
   ],
   "source": [
    "# Note that here for doped 3d atoms into the Bi2Te3 host\n",
    "\n",
    "group_74 = load_group(74)\n",
    "## first node of group-64 is for kkr_imp_wc process\n",
    "# is being used for the host_gf or kkr_flex files\n",
    "\n",
    "imp_wc_with_gf = load_node(16100)\n",
    "imp1_wc = group_74.nodes[1]\n",
    "imp2_wc = group_74.nodes[2]\n",
    "\n",
    "scf = imp1_wc\n",
    "\n",
    "host_wf_parameters = Dict(dict={'NSHELD' : 2500})\n",
    "host_kkr = Code().get_from_string('kkr@claix18_init')\n",
    "\n",
    "scf_kkrimp = Code().get_from_string('kkrflex@claix18_init')\n",
    "options = Dict(dict=metadata_option_1)\n",
    "\n",
    "imp1_output_node = imp1_wc.outputs.workflow_info\n",
    "imp2_output_node = imp2_wc.outputs.workflow_info\n",
    "offset_imp2 = {'index':1}\n",
    "\n",
    "settings = combine_imps_wc.get_wf_defaults()\n",
    "settings['jij_run'] = True\n",
    "settings['dos_run'] = False\n",
    "settings['lmdos'] = False\n",
    "settings['strmix'] = 0.01\n",
    "settings['aggrmix'] = 0.01\n",
    "settings['threshold_aggressive_mixing'] = 0.01\n",
    "settings['convergence_criterion'] = 1e-7\n",
    "settings['threshold_switch_high_accuracy'] = 1e-2\n",
    "settings['retrieve_kkrflex'] = False\n",
    "settings['mag_init'] = False\n",
    "settings['mixreduce'] = 0.5\n",
    "settings['nsteps'] = 100\n",
    "settings['kkr_runmax'] = 10\n",
    "settings['broyden-number'] = 20\n",
    "\n",
    "\n",
    "\n",
    "\n",
    "combine_imp_builder = combine_imps_wc.get_builder()\n",
    "combine_imp_builder.impurity1_output_node = imp1_output_node\n",
    "combine_imp_builder.impurity2_output_node = imp2_output_node\n",
    "combine_imp_builder.offset_imp2 = Dict(dict=offset_imp2)\n",
    "\n",
    "# scf namespace setup\n",
    "combine_imp_builder.scf.kkrimp = scf_kkrimp\n",
    "combine_imp_builder.scf.options = options\n",
    "combine_imp_builder.scf.wf_parameters = scf.inputs.wf_parameters\n",
    "\n",
    "# combine_imp_builder.gf_host_remote = \n",
    "# host_gf namespace setup\n",
    "combine_imp_builder.host_gf.kkr = host_kkr\n",
    "combine_imp_builder.host_gf.options = options\n",
    "combine_imp_builder.host_gf.params_kkr_overwrite = host_wf_parameters #host_gf.inputs.wf_parameters\n",
    "\n",
    "combine_imp_builder.wf_parameters_overwrite = Dict(dict=settings)\n",
    "combine_imp_builder.metadata.label = str(imp1_wc.label+ ':' +imp2_wc.label)\n",
    "\n",
    "# submission = submit(combine_imp_builder)"
   ]
  },
  {
   "cell_type": "code",
   "execution_count": 184,
   "id": "hollow-theology",
   "metadata": {},
   "outputs": [
    {
     "name": "stdout",
     "output_type": "stream",
     "text": [
      "Version of workflow: 0.3.1\n"
     ]
    }
   ],
   "source": [
    "## Here trying to work with host Au and other impurity\n",
    "## THe calc is taken from the wasmer\n",
    "imp_Au_group = load_group(85)\n",
    "wc_list = list(imp_Au_group.nodes)\n",
    "\n",
    "\n",
    "imp_wc_1 = wc_list[0]\n",
    "# print('first imp wc : ', imp_wc_1.label)\n",
    "imp_wc_2 = wc_list[1]\n",
    "# print('econd imp wc : ', imp_wc_2.label)\n",
    "# setting the scf and host namespace\n",
    "\n",
    "scf = imp_wc_1\n",
    "host_wf_parameters = Dict(dict={'NSHELD' : 2500,\n",
    "                                'BZDIVIDE': [40, 40, 40],\n",
    "                                'FCM': 20,\n",
    "                                'EMAX': 1.2,\n",
    "                                'EMIN': -0.8,\n",
    "                                'GMAX': 65.0,\n",
    "                                'LMAX': 3,\n",
    "                                'NCHEB': 12,\n",
    "                              \n",
    "                               })\n",
    "\n",
    "host_kkr = Code().get_from_string('kkr@claix18_init')\n",
    "scf_kkrimp = Code().get_from_string('kkrflex@claix18_init')\n",
    "options = Dict(dict=metadata_option_1)\n",
    "\n",
    "imp1_output_node = imp_wc_1.outputs.workflow_info\n",
    "imp2_output_node = imp_wc_2.outputs.workflow_info\n",
    "offset_imp2 = {'index':1}\n",
    "\n",
    "settings = combine_imps_wc.get_wf_defaults()\n",
    "settings['jij_run'] = False\n",
    "settings['dos_run'] = False\n",
    "settings['lmdos'] = False\n",
    "settings['strmix'] = 0.001\n",
    "settings['aggrmix'] = 0.008\n",
    "settings['threshold_aggressive_mixing'] = 0.008\n",
    "settings['convergence_criterion'] = 1e-7\n",
    "settings['threshold_switch_high_accuracy'] = 1e-2\n",
    "settings['retrieve_kkrflex'] = False\n",
    "settings['mag_init'] = False\n",
    "settings['mixreduce'] = 0.5\n",
    "settings['nsteps'] = 100\n",
    "settings['kkr_runmax'] = 10\n",
    "\n",
    "combine_imp_builder = combine_imps_wc.get_builder()\n",
    "combine_imp_builder.impurity1_output_node = imp1_output_node\n",
    "combine_imp_builder.impurity2_output_node = imp2_output_node\n",
    "combine_imp_builder.offset_imp2 = Dict(dict=offset_imp2)\n",
    "\n",
    "# scf namespace setup\n",
    "combine_imp_builder.scf.kkrimp = scf_kkrimp\n",
    "combine_imp_builder.scf.options = options\n",
    "combine_imp_builder.scf.wf_parameters = scf.inputs.wf_parameters\n",
    "\n",
    "# host_gf namespace setup\n",
    "combine_imp_builder.host_gf.kkr = host_kkr\n",
    "combine_imp_builder.host_gf.options = options\n",
    "combine_imp_builder.host_gf.params_kkr_overwrite = host_wf_parameters #host_gf.inputs.wf_parameters\n",
    "\n",
    "combine_imp_builder.wf_parameters_overwrite = Dict(dict=settings)\n",
    "combine_imp_builder.metadata.label = str(imp1_wc.label+ ':' +imp2_wc.label)\n",
    "# submission = submit(combine_imp_builder)"
   ]
  },
  {
   "cell_type": "code",
   "execution_count": null,
   "id": "external-powell",
   "metadata": {},
   "outputs": [],
   "source": []
  },
  {
   "cell_type": "code",
   "execution_count": 48,
   "id": "determined-belle",
   "metadata": {},
   "outputs": [],
   "source": [
    "# flex = imp_wc_with_gf.get_outgoing(node_class=kkr_flex_wc).all()[0].node\n",
    "# flex.get_outgoing(node_class=KkrCalculation).all()[0].node.inputs.parameters.get_dict()\n"
   ]
  },
  {
   "cell_type": "code",
   "execution_count": 40,
   "id": "statewide-trace",
   "metadata": {},
   "outputs": [
    {
     "data": {
      "text/plain": [
       "245"
      ]
     },
     "execution_count": 40,
     "metadata": {},
     "output_type": "execute_result"
    }
   ],
   "source": [
    "Bi2Te3_conv_kkr = load_node('23b13d9d-6e02-46c7-b3ac-17033b205b19')\n",
    "Bi2Te3_conv_kkr.pk"
   ]
  },
  {
   "cell_type": "code",
   "execution_count": 23,
   "id": "systematic-fishing",
   "metadata": {},
   "outputs": [],
   "source": [
    "# Bi2Te3_conv_kkr.inputs.parameters.get_dict()\n",
    "#"
   ]
  },
  {
   "cell_type": "code",
   "execution_count": 10,
   "id": "thirty-dance",
   "metadata": {},
   "outputs": [],
   "source": [
    "kkr_flex_kkr_param = kkr_calc.inputs.parameters.get_dict()\n",
    "kkr_flex_kkr_param['RUNOPT'] = [kkr_flex_kkr_param['RUNOPT'][-1]]"
   ]
  },
  {
   "cell_type": "code",
   "execution_count": 14,
   "id": "hungry-tolerance",
   "metadata": {},
   "outputs": [
    {
     "data": {
      "text/plain": [
       "20.0"
      ]
     },
     "execution_count": 14,
     "metadata": {},
     "output_type": "execute_result"
    }
   ],
   "source": [
    "kkr_flex_kkr_param.get"
   ]
  },
  {
   "cell_type": "code",
   "execution_count": 18,
   "id": "relative-miller",
   "metadata": {},
   "outputs": [],
   "source": [
    "params = kkrparams"
   ]
  },
  {
   "cell_type": "code",
   "execution_count": null,
   "id": "corrected-warner",
   "metadata": {},
   "outputs": [],
   "source": []
  },
  {
   "cell_type": "code",
   "execution_count": null,
   "id": "lesser-constraint",
   "metadata": {},
   "outputs": [],
   "source": []
  }
 ],
 "metadata": {
  "kernelspec": {
   "display_name": "AiiDA",
   "language": "python",
   "name": "aiida"
  },
  "language_info": {
   "codemirror_mode": {
    "name": "ipython",
    "version": 3
   },
   "file_extension": ".py",
   "mimetype": "text/x-python",
   "name": "python",
   "nbconvert_exporter": "python",
   "pygments_lexer": "ipython3",
   "version": "3.8.5"
  }
 },
 "nbformat": 4,
 "nbformat_minor": 5
}
