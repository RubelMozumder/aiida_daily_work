{
 "cells": [
  {
   "cell_type": "code",
   "execution_count": 79,
   "id": "public-revelation",
   "metadata": {},
   "outputs": [
    {
     "data": {
      "text/plain": [
       "'default'"
      ]
     },
     "execution_count": 79,
     "metadata": {},
     "output_type": "execute_result"
    }
   ],
   "source": [
    "from aiida import load_profile\n",
    "aiida_profile = load_profile()\n",
    "aiida_profile.name"
   ]
  },
  {
   "cell_type": "code",
   "execution_count": 80,
   "id": "divine-component",
   "metadata": {},
   "outputs": [],
   "source": [
    "## Loading the some require packages and module\n",
    "from aiida_kkr.workflows import (combine_imps_wc, kkr_flex_wc,\n",
    "                                 kkr_imp_wc, kkr_imp_sub_wc\n",
    "                                )\n",
    "from aiida_kkr.calculations import KkrCalculation, KkrimpCalculation\n",
    "from aiida.orm import (Group, load_group, load_node, Dict,\n",
    "                      )\n",
    "from aiida_kkr.tools import kkrparams\n",
    "from aiida.engine import submit"
   ]
  },
  {
   "cell_type": "code",
   "execution_count": 89,
   "id": "ecological-station",
   "metadata": {},
   "outputs": [],
   "source": [
    "# Note that here for doped 3d atoms into the Bi2Te3 host\n",
    "\n",
    "group_74 = load_group(74)\n",
    "## first node of group-64 is for kkr_imp_wc process\n",
    "# is being used for the host_gf or kkr_flex files\n",
    "\n",
    "imp_wc_with_gf = load_node(16100)\n",
    "imp1_wc = group_74.nodes[1]\n",
    "imp2_wc = group_74.nodes[2]\n",
    "\n",
    "# gf_host_remote = imp_wc_with_gf.inputs.remote_data_gf\n",
    "# host_gf_wc = imp_wc_with_gf.get_outgoing(node_class=kkr_flex_wc).all()[0].node\n",
    "\n",
    "\n",
    "impurity1_output_node = imp1_wc.outputs.workflow_info\n",
    "impurity2_output_node = imp2_wc.outputs.workflow_info\n",
    "offset_imp2 = {'index':1}"
   ]
  },
  {
   "cell_type": "code",
   "execution_count": 82,
   "id": "freelance-jewel",
   "metadata": {},
   "outputs": [],
   "source": [
    "# kkr_code_iffslurm = kkrflex@iffslurm"
   ]
  },
  {
   "cell_type": "code",
   "execution_count": 83,
   "id": "recognized-intelligence",
   "metadata": {},
   "outputs": [],
   "source": [
    "scf_node = imp1_wc.get_outgoing(node_class=kkr_imp_sub_wc).all()[0].node\n",
    "## kkr_flex_wc\n",
    "host_gf = imp1_wc.inputs.remote_data_gf.get_incoming(node_class=kkr_flex_wc).all()[0].node\n",
    "kkr_calc = host_gf.get_outgoing(node_class=KkrCalculation).all()[0].node\n",
    "kkr_flex_kkr_param = kkr_calc.inputs.parameters"
   ]
  },
  {
   "cell_type": "code",
   "execution_count": 84,
   "id": "current-breakfast",
   "metadata": {},
   "outputs": [],
   "source": [
    "kkr_flex_kkr_param = kkr_calc.inputs.parameters.get_dict()\n",
    "kkr_flex_kkr_param['RCLUSTZ'] *= 1\n",
    "kkr_flex_kkr_param['NSHELD'] = 2500"
   ]
  },
  {
   "cell_type": "code",
   "execution_count": 105,
   "id": "functioning-shanghai",
   "metadata": {},
   "outputs": [
    {
     "name": "stdout",
     "output_type": "stream",
     "text": [
      "Version of workflow: 0.3.1\n"
     ]
    }
   ],
   "source": [
    "settings = combine_imps_wc.get_wf_defaults()\n",
    "builder = combine_imps_wc.get_builder()\n",
    "settings['jij_run']= True\n",
    "settings['dos_run']= False\n",
    "settings['retrieve_kkrflex'] = False\n",
    "settings['mag_init']= False\n",
    "settings['threshold_switch_high_accuracy'] = 1e-2\n",
    "settings['convergence_criterion'] = 1e-7 #convergence_criterion\n",
    "settings['threshold_aggressive_mixing']= 0.02\n",
    "settings['strmix']= 0.005\n",
    "settings['broyden-number'] = 60\n",
    "settings['nsteps'] = 100\n",
    "settings['kkr_runmax'] = 7"
   ]
  },
  {
   "cell_type": "code",
   "execution_count": 106,
   "id": "configured-kennedy",
   "metadata": {},
   "outputs": [
    {
     "data": {
      "text/plain": [
       "{'withmpi': True,\n",
       " 'resources': {'num_machines': 1, 'tot_num_mpiprocs': 48},\n",
       " 'queue_name': '',\n",
       " 'max_wallclock_seconds': 36000,\n",
       " 'custom_scheduler_commands': '#SBATCH --account=jara0191\\n\\nulimit -s unlimited; export OMP_STACKSIZE=2g'}"
      ]
     },
     "execution_count": 106,
     "metadata": {},
     "output_type": "execute_result"
    }
   ],
   "source": [
    "options = scf_node.inputs.options.get_dict()\n",
    "options['max_wallclock_seconds'] = 36000*1\n",
    "options"
   ]
  },
  {
   "cell_type": "code",
   "execution_count": 107,
   "id": "inside-registration",
   "metadata": {},
   "outputs": [],
   "source": [
    "builder.impurity1_output_node = impurity1_output_node\n",
    "builder.impurity2_output_node = impurity2_output_node\n",
    "builder.offset_imp2 = Dict(dict=offset_imp2)\n",
    "\n",
    "# scf namespace setup\n",
    "builder.scf.kkrimp = scf_node.inputs.kkrimp\n",
    "builder.scf.options = Dict(dict=options)\n",
    "builder.scf.wf_parameters = scf_node.inputs.wf_parameters\n",
    "\n",
    "# host_gf namespace setup\n",
    "builder.host_gf.kkr = host_gf.inputs.kkr\n",
    "builder.host_gf.options = host_gf.inputs.options\n",
    "builder.host_gf.params_kkr_overwrite = Dict(dict=kkr_flex_kkr_param) #host_gf.inputs.wf_parameters\n",
    "\n",
    "builder.wf_parameters_overwrite = Dict(dict=settings)\n",
    "builder.metadata.label = str(imp1_wc.label+ ':' +imp2_wc.label)"
   ]
  },
  {
   "cell_type": "code",
   "execution_count": 108,
   "id": "analyzed-gathering",
   "metadata": {},
   "outputs": [],
   "source": [
    "combined_imp_submission = submit(builder)\n"
   ]
  },
  {
   "cell_type": "code",
   "execution_count": 99,
   "id": "future-seeking",
   "metadata": {},
   "outputs": [],
   "source": [
    "## Here trying to work with host Au and other impurity\n",
    "## THe calc is taken from the wasmer\n",
    "imp_Au_group = load_group(85)\n",
    "wc_list = list(imp_Au_group.nodes)\n"
   ]
  },
  {
   "cell_type": "code",
   "execution_count": 104,
   "id": "entire-wholesale",
   "metadata": {},
   "outputs": [
    {
     "name": "stdout",
     "output_type": "stream",
     "text": [
      "first imp wc :  Ru:Au\n",
      "econd imp wc :  Ta:Au\n"
     ]
    }
   ],
   "source": [
    "imp_wc_1 = wc_list[0]\n",
    "print('first imp wc : ', imp_wc_1.label)\n",
    "imp_wc_2 = wc_list[1]\n",
    "print('econd imp wc : ', imp_wc_2.label)"
   ]
  },
  {
   "cell_type": "code",
   "execution_count": null,
   "id": "danish-budget",
   "metadata": {},
   "outputs": [],
   "source": []
  },
  {
   "cell_type": "code",
   "execution_count": 12,
   "id": "advisory-watson",
   "metadata": {},
   "outputs": [
    {
     "data": {
      "text/plain": [
       "{'hfield': [0.02, 5],\n",
       " 'nsteps': 300,\n",
       " 'strmix': 0.02,\n",
       " 'aggrmix': 0.05,\n",
       " 'init_pos': None,\n",
       " 'mag_init': True,\n",
       " 'mixreduce': 0.5,\n",
       " 'kkr_runmax': 5,\n",
       " 'aggressive_mix': 5,\n",
       " 'broyden-number': 20,\n",
       " 'accuracy_params': {'NCHEB': None,\n",
       "  'NPAN_EQ': None,\n",
       "  'NPAN_LOG': None,\n",
       "  'RADIUS_LOGPANELS': None},\n",
       " 'convergence_criterion': 1e-07,\n",
       " 'threshold_aggressive_mixing': 0.5}"
      ]
     },
     "execution_count": 12,
     "metadata": {},
     "output_type": "execute_result"
    }
   ],
   "source": [
    "scf_node.inputs.wf_parameters.get_dict()"
   ]
  },
  {
   "cell_type": "code",
   "execution_count": 48,
   "id": "yellow-drove",
   "metadata": {},
   "outputs": [],
   "source": [
    "# flex = imp_wc_with_gf.get_outgoing(node_class=kkr_flex_wc).all()[0].node\n",
    "# flex.get_outgoing(node_class=KkrCalculation).all()[0].node.inputs.parameters.get_dict()\n"
   ]
  },
  {
   "cell_type": "code",
   "execution_count": 40,
   "id": "sexual-passenger",
   "metadata": {},
   "outputs": [
    {
     "data": {
      "text/plain": [
       "245"
      ]
     },
     "execution_count": 40,
     "metadata": {},
     "output_type": "execute_result"
    }
   ],
   "source": [
    "Bi2Te3_conv_kkr = load_node('23b13d9d-6e02-46c7-b3ac-17033b205b19')\n",
    "Bi2Te3_conv_kkr.pk"
   ]
  },
  {
   "cell_type": "code",
   "execution_count": 23,
   "id": "temporal-relevance",
   "metadata": {},
   "outputs": [],
   "source": [
    "# Bi2Te3_conv_kkr.inputs.parameters.get_dict()\n",
    "#"
   ]
  },
  {
   "cell_type": "code",
   "execution_count": 10,
   "id": "shaped-stack",
   "metadata": {},
   "outputs": [],
   "source": [
    "kkr_flex_kkr_param = kkr_calc.inputs.parameters.get_dict()\n",
    "kkr_flex_kkr_param['RUNOPT'] = [kkr_flex_kkr_param['RUNOPT'][-1]]"
   ]
  },
  {
   "cell_type": "code",
   "execution_count": 14,
   "id": "german-viking",
   "metadata": {},
   "outputs": [
    {
     "data": {
      "text/plain": [
       "20.0"
      ]
     },
     "execution_count": 14,
     "metadata": {},
     "output_type": "execute_result"
    }
   ],
   "source": [
    "kkr_flex_kkr_param.get"
   ]
  },
  {
   "cell_type": "code",
   "execution_count": 18,
   "id": "consistent-price",
   "metadata": {},
   "outputs": [],
   "source": [
    "params = kkrparams"
   ]
  },
  {
   "cell_type": "code",
   "execution_count": null,
   "id": "about-bosnia",
   "metadata": {},
   "outputs": [],
   "source": []
  },
  {
   "cell_type": "code",
   "execution_count": null,
   "id": "unlikely-danger",
   "metadata": {},
   "outputs": [],
   "source": []
  }
 ],
 "metadata": {
  "kernelspec": {
   "display_name": "AiiDA",
   "language": "python",
   "name": "aiida"
  },
  "language_info": {
   "codemirror_mode": {
    "name": "ipython",
    "version": 3
   },
   "file_extension": ".py",
   "mimetype": "text/x-python",
   "name": "python",
   "nbconvert_exporter": "python",
   "pygments_lexer": "ipython3",
   "version": "3.8.5"
  }
 },
 "nbformat": 4,
 "nbformat_minor": 5
}
