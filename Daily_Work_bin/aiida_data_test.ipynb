{
 "cells": [
  {
   "cell_type": "code",
   "execution_count": 133,
   "id": "agreed-opening",
   "metadata": {},
   "outputs": [
    {
     "name": "stdout",
     "output_type": "stream",
     "text": [
      "profile name :  default\n",
      "profile database host name :  localhost\n",
      "default user :  r.mozumder@fz-juelich.de\n"
     ]
    }
   ],
   "source": [
    "#load aiida environment and connect to database\n",
    "from aiida import load_profile\n",
    "from aiida.orm import computers\n",
    "profile = load_profile()\n",
    "print('profile name : ',profile.name)\n",
    "print('profile database host name : ',profile.database_hostname)\n",
    "print('default user : ',profile.default_user)"
   ]
  },
  {
   "cell_type": "code",
   "execution_count": 141,
   "id": "suited-basketball",
   "metadata": {},
   "outputs": [],
   "source": [
    "# load classes and functions\n",
    "from aiida.orm import CifData, Code, Dict, load_node, StructureData, ArrayData\n",
    "from aiida.orm import (Group, load_group, load_node, load_code, groups, Node,\n",
    "                      WorkChainNode, QueryBuilder, CalcJobNode)\n",
    "from aiida.engine import submit\n",
    "from aiida.common.exceptions import NotExistent\n",
    "from aiida_kkr.workflows import (kkr_imp_sub_wc, kkr_imp_dos, kkr_imp_wc, kkr_startpot_wc, combine_imps_wc,\n",
    "                                 kkr_flex_wc)\n",
    "import numpy as np\n",
    "from aiida_kkr.calculations import KkrimpCalculation, VoronoiCalculation, KkrCalculation\n",
    "import matplotlib.pyplot as plt\n",
    "from aiida_kkr.tools.common_workfunctions import get_username\n",
    "from masci_tools.io.common_functions import get_Ry2eV\n",
    "from aiida_kkr.tools import kkrparams, plot_kkr\n",
    "import tarfile\n",
    "import matplotlib as mpl\n"
   ]
  },
  {
   "cell_type": "code",
   "execution_count": 142,
   "id": "straight-croatia",
   "metadata": {},
   "outputs": [
    {
     "data": {
      "text/plain": [
       "True"
      ]
     },
     "execution_count": 142,
     "metadata": {},
     "output_type": "execute_result"
    }
   ],
   "source": [
    "'<NEWVERSION_BDG>' in kkrparams().values.keys()"
   ]
  },
  {
   "cell_type": "code",
   "execution_count": 143,
   "id": "continental-settle",
   "metadata": {},
   "outputs": [
    {
     "data": {
      "text/plain": [
       "<StructureData: uuid: c1626804-5b71-450c-91c4-aa7197d85279 (pk: 234)>"
      ]
     },
     "execution_count": 143,
     "metadata": {},
     "output_type": "execute_result"
    }
   ],
   "source": [
    "from __future__ import print_function\n",
    "from __future__ import division\n",
    "from __future__ import absolute_import\n",
    "from __future__ import unicode_literals\n",
    "from builtins import object, str\n",
    "from six.moves import range\n",
    "from six.moves import input\n",
    "from masci_tools.io.common_functions import open_general\n",
    "from masci_tools.io.common_functions import search_string\n",
    "import numpy as np\n",
    "from masci_tools.io.common_functions import get_alat_from_bravais\n",
    "from masci_tools.io.common_functions import vec_to_angles\n",
    "from aiida.common.constants import elements as PeriodicTableElements\n",
    "_atomic_numbers = {data['symbol']:num for num,\n",
    "                data in PeriodicTableElements.items()}\n",
    "load_stuc = load_node(234)\n",
    "load_stuc"
   ]
  },
  {
   "cell_type": "code",
   "execution_count": 161,
   "id": "pressed-translation",
   "metadata": {},
   "outputs": [
    {
     "name": "stdout",
     "output_type": "stream",
     "text": [
      "Kind name: (Te), position: ([0. 0. 0.]), distance from the center: (0.0)\n",
      "Kind name: (Te), position: ([-2.06705595e-16  2.53050496e+00  2.67879213e+01]), distance from the center: (26.90717719401495)\n",
      "Kind name: (Te), position: ([-7.51813946e-17 -2.39606304e-17  2.40237656e+01]), distance from the center: (24.023765563056)\n",
      "Kind name: (Bi), position: ([ 2.19148158  1.26525248 22.35714223]), distance from the center: (22.499894759544965)\n",
      "Kind name: (Bi), position: ([ 2.19148158  1.26525248 28.45454466]), distance from the center: (28.566843843541175)\n",
      "Kind name: (HX), position: ([1.87470169e-16 2.53050496e+00 2.33733760e+01]), distance from the center: (23.509958733251725)\n",
      "Kind name: (HX), position: ([-4.65266746e-17  1.24273297e-16  2.74383109e+01]), distance from the center: (27.438310922272)\n",
      "Kind name: (HX), position: ([1.79753438e-16 2.53050496e+00 2.94707784e+01]), distance from the center: (29.57921964402533)\n",
      "Kind name: (HX), position: ([-3.88099430e-17  1.00714144e-16  2.13409085e+01]), distance from the center: (21.3409084951)\n",
      "Kind name: (HX), position: ([ 2.19148158  1.26525248 25.40584345]), distance from the center: (25.531555702624388)\n",
      "structure has vacancies, need to remove empty sites for plotting\n",
      "removing atom kind name 'HX' @ 1.8747016921119e-16,2.5305049625927,23.373375970824\n",
      "removing atom kind name 'HX' @ -4.6526674632394e-17,1.2427329655867e-16,27.438310922272\n",
      "removing atom kind name 'HX' @ 1.7975343758741e-16,2.5305049625927,29.470778397996\n",
      "removing atom kind name 'HX' @ -3.8809943008617e-17,1.0071414359274e-16,21.3409084951\n",
      "removing atom kind name 'HX' @ 2.1914815820078,1.2652524812963,25.405843446548\n"
     ]
    },
    {
     "data": {
      "application/vnd.jupyter.widget-view+json": {
       "model_id": "ce1a48d1e1d94ce89e0b8ad0ef91a6ef",
       "version_major": 2,
       "version_minor": 0
      },
      "text/plain": [
       "GridspecLayout(children=(Renderer(camera=PerspectiveCamera(fov=10.0, position=(0.0, 0.0, 202.64102677652383), …"
      ]
     },
     "metadata": {},
     "output_type": "display_data"
    },
    {
     "data": {
      "text/plain": [
       "<aiida_kkr.tools.plot_kkr.plot_kkr at 0x7f273a2e0700>"
      ]
     },
     "execution_count": 161,
     "metadata": {},
     "output_type": "execute_result"
    }
   ],
   "source": [
    "struc_Bi2Te3= load_node(234)\n",
    "site_pos_0=None\n",
    "i=0\n",
    "for site in struc_Bi2Te3.sites:\n",
    "    if i==0:\n",
    "        site_pos_0 = np.array(site.position)\n",
    "        i += 1\n",
    "    pos= np.array(site.position)    \n",
    "    dist_cent = np.sqrt(np.sum(np.square(site_pos_0-pos)))\n",
    "    print(f\"Kind name: ({site.kind_name}), position: ({pos}), distance from the center: ({dist_cent})\")\n",
    "\n",
    "plot_kkr(nodes= struc_Bi2Te3,struc234plot= True, silent= True)"
   ]
  },
  {
   "cell_type": "code",
   "execution_count": 164,
   "id": "celtic-vegetation",
   "metadata": {},
   "outputs": [
    {
     "data": {
      "text/plain": [
       "3.7416573867739413"
      ]
     },
     "execution_count": 164,
     "metadata": {},
     "output_type": "execute_result"
    }
   ],
   "source": [
    "np.sqrt(np.sum(np.square(np.array([1,2,3]))))"
   ]
  },
  {
   "cell_type": "code",
   "execution_count": 152,
   "id": "cleared-tattoo",
   "metadata": {},
   "outputs": [
    {
     "name": "stdout",
     "output_type": "stream",
     "text": [
      "[ 2.06705595e-16 -2.53050496e+00 -2.67879213e+01]\n",
      "[-1.31524200e-16  2.53050496e+00  2.76415577e+00]\n",
      "[-2.19148158 -1.26525248  1.66662333]\n",
      "[ 0.          0.         -6.09740243]\n",
      "[ 2.19148158 -1.26525248  5.08116869]\n",
      "[ 2.33996844e-16  2.53050496e+00 -4.06493495e+00]\n",
      "[-2.26280112e-16 -2.53050496e+00 -2.03246748e+00]\n",
      "[2.18563381e-16 2.53050496e+00 8.12986990e+00]\n",
      "[-2.19148158 -1.26525248 -4.06493495]\n"
     ]
    }
   ],
   "source": [
    "struct= load_node(234)\n",
    "pos_0 = struct.sites[0].position\n",
    "for site in struct.sites[1:]:\n",
    "    print(np.array(pos_0)-np.array(site.position))\n",
    "    pos_0= site.position\n"
   ]
  },
  {
   "cell_type": "code",
   "execution_count": 150,
   "id": "beneficial-drilling",
   "metadata": {},
   "outputs": [
    {
     "data": {
      "text/plain": [
       "array([0., 0., 0.])"
      ]
     },
     "execution_count": 150,
     "metadata": {},
     "output_type": "execute_result"
    }
   ],
   "source": [
    "np.array(pos_0)"
   ]
  },
  {
   "cell_type": "code",
   "execution_count": 6,
   "id": "historical-given",
   "metadata": {},
   "outputs": [],
   "source": [
    "\n",
    "node_16215 = load_node(16215)\n",
    "node_16100 = load_node(16100)\n",
    "# node_16215.outputs."
   ]
  },
  {
   "cell_type": "code",
   "execution_count": 6,
   "id": "frequent-norman",
   "metadata": {},
   "outputs": [
    {
     "ename": "NameError",
     "evalue": "name 'imp_dos_group' is not defined",
     "output_type": "error",
     "traceback": [
      "\u001b[0;31m---------------------------------------------------------------------------\u001b[0m",
      "\u001b[0;31mNameError\u001b[0m                                 Traceback (most recent call last)",
      "\u001b[0;32m<ipython-input-6-c7c2ab33f4d3>\u001b[0m in \u001b[0;36m<module>\u001b[0;34m\u001b[0m\n\u001b[1;32m      2\u001b[0m \u001b[0;34m\u001b[0m\u001b[0m\n\u001b[1;32m      3\u001b[0m \u001b[0mplt\u001b[0m\u001b[0;34m.\u001b[0m\u001b[0mfigure\u001b[0m\u001b[0;34m(\u001b[0m\u001b[0;34m)\u001b[0m\u001b[0;34m\u001b[0m\u001b[0;34m\u001b[0m\u001b[0m\n\u001b[0;32m----> 4\u001b[0;31m \u001b[0;32mfor\u001b[0m \u001b[0mi\u001b[0m\u001b[0;34m,\u001b[0m \u001b[0mimp_dos\u001b[0m \u001b[0;32min\u001b[0m \u001b[0menumerate\u001b[0m\u001b[0;34m(\u001b[0m\u001b[0mimp_dos_group\u001b[0m\u001b[0;34m.\u001b[0m\u001b[0mnodes\u001b[0m\u001b[0;34m[\u001b[0m\u001b[0;36m2\u001b[0m\u001b[0;34m:\u001b[0m\u001b[0;36m4\u001b[0m\u001b[0;34m]\u001b[0m\u001b[0;34m)\u001b[0m\u001b[0;34m:\u001b[0m\u001b[0;34m\u001b[0m\u001b[0;34m\u001b[0m\u001b[0m\n\u001b[0m\u001b[1;32m      5\u001b[0m     \u001b[0;31m# plot the contribution of the total impurity cluster into the background\u001b[0m\u001b[0;34m\u001b[0m\u001b[0;34m\u001b[0m\u001b[0;34m\u001b[0m\u001b[0m\n\u001b[1;32m      6\u001b[0m     \u001b[0;31m# we scale this down by 0.5 to have copatible y-scales\u001b[0m\u001b[0;34m\u001b[0m\u001b[0;34m\u001b[0m\u001b[0;34m\u001b[0m\u001b[0m\n",
      "\u001b[0;31mNameError\u001b[0m: name 'imp_dos_group' is not defined"
     ]
    },
    {
     "data": {
      "text/plain": [
       "<Figure size 432x288 with 0 Axes>"
      ]
     },
     "metadata": {},
     "output_type": "display_data"
    }
   ],
   "source": [
    "# imp_dos_group = load_group(72)\n",
    "\n",
    "plt.figure()\n",
    "for i, imp_dos in enumerate(imp_dos_group.nodes[2:4]):\n",
    "    # plot the contribution of the total impurity cluster into the background\n",
    "    # we scale this down by 0.5 to have copatible y-scales\n",
    "    plot_kkr(imp_dos, l_channels=False, strucplot=False, silent=True, label=None,\n",
    "             noshow=True, nofig=True, color='C'+str(i),\n",
    "             filled=True, alpha=0.3, yscale=0.5, lw=3\n",
    "            )\n",
    "    # highlight the contibution of the impurity (iatom=0)\n",
    "    plot_kkr(imp_dos, l_channels=False, strucplot=False, silent=True, label=imp_dos.label,\n",
    "             noshow=True, nofig=True, color='C'+str(i),\n",
    "             lw=3, iatom=0, \n",
    "            )\n",
    "plt.legend(loc=2, fontsize='large')\n",
    "plt.title('')\n",
    "plt.show()"
   ]
  },
  {
   "cell_type": "code",
   "execution_count": null,
   "id": "rotary-speaker",
   "metadata": {},
   "outputs": [],
   "source": [
    "# imp_dos_group = load_group(72)\n",
    "\n",
    "plt.figure()\n",
    "for i, imp_dos in enumerate(imp_dos_group.nodes[2:4]):\n",
    "    # plot the contribution of the total impurity cluster into the background\n",
    "    # we scale this down by 0.5 to have copatible y-scales\n",
    "    plot_kkr(imp_dos, l_channels=False, strucplot=False, silent=True, label=None,\n",
    "             noshow=True, nofig=True, color='C'+str(i),\n",
    "             filled=True, alpha=0.3, yscale=0.5, lw=3\n",
    "            )\n",
    "#     # highlight the contibution of the impurity (iatom=0)\n",
    "#     plot_kkr(imp_dos, l_channels=False, strucplot=False, silent=True, label=imp_dos.label,\n",
    "#              noshow=True, nofig=True, color='C'+str(i),\n",
    "#              lw=3, iatom=0, \n",
    "#             )\n",
    "plt.legend(loc=2, fontsize='large')\n",
    "plt.title('')\n",
    "plt.show()"
   ]
  },
  {
   "cell_type": "code",
   "execution_count": 7,
   "id": "contemporary-guidance",
   "metadata": {},
   "outputs": [],
   "source": [
    "qb1 = QueryBuilder()\n",
    "node_list = qb1.append(WorkChainNode,\n",
    "          filters={\n",
    "               'and':[\n",
    "                   {'attributes.process_label':'combine_imps_wc'},\n",
    "                   {'attributes.exit_status':{'!in':[0]}}\n",
    "                  \n",
    "               ],\n",
    "              'id':{'>':63952},\n",
    "              'attributes.process_label':'combine_imps_wc',\n",
    "#\n",
    "              \n",
    "          }\n",
    "         ).all()"
   ]
  },
  {
   "cell_type": "code",
   "execution_count": 8,
   "id": "laughing-appearance",
   "metadata": {},
   "outputs": [
    {
     "data": {
      "text/plain": [
       "19"
      ]
     },
     "execution_count": 8,
     "metadata": {},
     "output_type": "execute_result"
    }
   ],
   "source": [
    "nodes_list = [node[0] for node in node_list[:]]\n",
    "# nodes_list.pop(19)\n",
    "nodes_pk = [node.pk for node in nodes_list]\n",
    "len(nodes_pk)"
   ]
  },
  {
   "cell_type": "code",
   "execution_count": 10,
   "id": "unsigned-motivation",
   "metadata": {},
   "outputs": [
    {
     "name": "stdout",
     "output_type": "stream",
     "text": [
      "node label: Co:Cu:Bi2Te3_il_3_il_3, node pk: 64127, exit status: 999\n",
      "node label: Ni:Fe:Bi2Te3_il_3_il_3, node pk: 64145, exit status: 999\n",
      "node label: Y:Co:Bi2Te3_il_3_il_3, node pk: 64573, exit status: None\n",
      "node label: Zr:Fe:Bi2Te3_il_3_il_3, node pk: 64603, exit status: None\n",
      "node label: Zr:Co:Bi2Te3_il_3_il_3, node pk: 64649, exit status: None\n",
      "node label: Mo:Fe:Bi2Te3_il_3_il_3, node pk: 64685, exit status: None\n",
      "node label: Mo:Co:Bi2Te3_il_3_il_3, node pk: 64750, exit status: None\n",
      "node label: Nb:Fe:Bi2Te3_il_3_il_3, node pk: 64751, exit status: None\n",
      "node label: Nb:Co:Bi2Te3_il_3_il_3, node pk: 64767, exit status: None\n",
      "node label: Tc:Fe:Bi2Te3_il_3_il_3, node pk: 64807, exit status: None\n",
      "node label: Tc:Co:Bi2Te3_il_3_il_3, node pk: 64808, exit status: None\n",
      "node label: Ru:Fe:Bi2Te3_il_3_il_3, node pk: 64821, exit status: None\n",
      "node label: Ru:Co:Bi2Te3_il_3_il_3, node pk: 64822, exit status: None\n",
      "node label: Rh:Fe:Bi2Te3_il_3_il_3, node pk: 64835, exit status: None\n",
      "node label: Rh:Co:Bi2Te3_il_3_il_3, node pk: 64836, exit status: None\n",
      "node label: Cd:Co:Bi2Te3_il_3_il_3, node pk: 64849, exit status: None\n",
      "node label: Pd:Fe:Bi2Te3_il_3_il_3, node pk: 64899, exit status: None\n",
      "node label: Pd:Co:Bi2Te3_il_3_il_3, node pk: 64900, exit status: None\n",
      "node label: Sc:Bi2Te3:Mn:Bi2Te3, node pk: 65522, exit status: 700\n"
     ]
    }
   ],
   "source": [
    "for node in nodes_list:\n",
    "    print(f'node label: {node.label}, node pk: {node.pk}, exit status: {node.exit_status}')"
   ]
  },
  {
   "cell_type": "code",
   "execution_count": 25,
   "id": "rural-excuse",
   "metadata": {},
   "outputs": [],
   "source": [
    "group = load_group(105)\n",
    "failde_group= load_group(105)\n",
    "\n",
    "group_nodes = list(group.nodes)\n",
    "group_labels_host = [node.label.split(':')[-1] for node in group_nodes]\n",
    "group_labels = [node.label for node in group_nodes]\n",
    "group_pk = [node.pk for node in group_nodes]\n",
    "\n",
    "for node in nodes_list:\n",
    "    if node.pk not in group_pk:\n",
    "#         print(f'This node pk {node.pk} is not exist in group {group.pk}')\n",
    "        if node.exit_status!=0:\n",
    "            \n",
    "            print(f'node summary : node pk: {node.pk} , node exit status: {node.exit_status}')\n",
    "#             failde_group.add_nodes(node)\n",
    "            \n",
    "#         if node.label.split(':')[-1]  ==  group_labels_host[0]:\n",
    "#             if node.label not in group_labels:\n",
    "                \n",
    "#                 print(f'This node {node.label} is not exist in group {group.pk}')\n",
    "#                 print(f'node summar : node pk: {node.pk} , node exit status: {node.exit_status}')\n",
    "#                 group.add_nodes(node)\n",
    "    "
   ]
  },
  {
   "cell_type": "code",
   "execution_count": 13,
   "id": "guided-hacker",
   "metadata": {},
   "outputs": [
    {
     "data": {
      "text/plain": [
       "'Bi2Te3_il_3_il_3'"
      ]
     },
     "execution_count": 13,
     "metadata": {},
     "output_type": "execute_result"
    }
   ],
   "source": [
    "group_labels_host[0]"
   ]
  },
  {
   "cell_type": "code",
   "execution_count": 14,
   "id": "empty-ready",
   "metadata": {},
   "outputs": [
    {
     "data": {
      "text/plain": [
       "'Bi2Te3_il_3_il_3'"
      ]
     },
     "execution_count": 14,
     "metadata": {},
     "output_type": "execute_result"
    }
   ],
   "source": [
    "node.label.split(':')[-1]"
   ]
  },
  {
   "cell_type": "code",
   "execution_count": 86,
   "id": "prescribed-scene",
   "metadata": {},
   "outputs": [
    {
     "data": {
      "text/plain": [
       "378"
      ]
     },
     "execution_count": 86,
     "metadata": {},
     "output_type": "execute_result"
    }
   ],
   "source": [
    "## duccess group\n",
    "group_102 = load_group(104)\n",
    "group_102_nodes = list(group_102.nodes)\n",
    "group_102_nodes_pk = [i.pk for i in group_102_nodes]\n",
    "group_102_nodes_label = [i.label for i in group_102_nodes]\n",
    "\n",
    "## failed group\n",
    "group_105 = load_group(106)\n",
    "group_105_nodes = list(group_105.nodes)\n",
    "group_105_nodes_pk = [i.pk for i in group_105_nodes]\n",
    "group_105_nodes_label = [i.label for i in group_105_nodes]\n",
    "\n",
    "len(group_102.nodes)"
   ]
  },
  {
   "cell_type": "code",
   "execution_count": 87,
   "id": "superb-democracy",
   "metadata": {},
   "outputs": [
    {
     "name": "stdout",
     "output_type": "stream",
     "text": [
      "search_label:   Bi2Te3_il_3_il_4\n",
      "candidate :  Bi2Te3_il_3_il_4\n",
      "29\n"
     ]
    }
   ],
   "source": [
    "search_label = group_102_nodes[1].label.split(':')[-1]\n",
    "node_num_with_label = 0\n",
    "print('search_label:  ', search_label)\n",
    "candidate_label = group_102_nodes[-1].label.split(':')[-1]\n",
    "print('candidate : ', candidate_label)\n",
    "N = 0\n",
    "for node in nodes_list[:]:\n",
    "    candidate_label = node.label.split(':')[-1]\n",
    "#     print(f'search_label :  {search_label},  candidate_label : {candidate_label}')\n",
    "    if candidate_label == search_label:\n",
    "        N += 1\n",
    "        node_num_with_label += 1\n",
    "        if node.is_finished :\n",
    "            if node.is_finished_ok :\n",
    "#                 group_102_nodes_pk.remove(node.pk)\n",
    "                if node.pk not in group_102_nodes_pk:\n",
    "                    if node.label not in group_102_nodes_label:\n",
    "                        print('not in group 102 : ', node.pk)\n",
    "                        \n",
    "                        group_102.add_nodes(node)\n",
    "            else:\n",
    "                if node.pk not in group_105_nodes_pk:\n",
    "                    if node.label not in group_105_nodes_label:\n",
    "                        print('failed node pk : ',  node.pk)\n",
    "                        group_105.add_nodes(node)\n",
    "        else:\n",
    "            print('runing_node : ', node.pk)\n",
    "            group_102.add_nodes(node)\n",
    "                \n",
    "print(N)"
   ]
  },
  {
   "cell_type": "code",
   "execution_count": null,
   "id": "confused-correspondence",
   "metadata": {},
   "outputs": [],
   "source": []
  },
  {
   "cell_type": "code",
   "execution_count": 114,
   "id": "signed-chair",
   "metadata": {},
   "outputs": [
    {
     "data": {
      "text/plain": [
       "0.732977"
      ]
     },
     "execution_count": 114,
     "metadata": {},
     "output_type": "execute_result"
    }
   ],
   "source": [
    "group_3_vs_3 = load_group(102)\n",
    "node_3_3_list = list(group_3_vs_3.nodes)\n",
    "node_1 = node_3_3_list[0]\n",
    "node_1.outputs.last_calc_output_parameters.get_dict()['magnetism_group']['total_spin_moment'] #0.4991457961, "
   ]
  },
  {
   "cell_type": "code",
   "execution_count": 116,
   "id": "intensive-madrid",
   "metadata": {},
   "outputs": [
    {
     "data": {
      "text/plain": [
       "('Sc', 'Ti')"
      ]
     },
     "execution_count": 116,
     "metadata": {},
     "output_type": "execute_result"
    }
   ],
   "source": [
    "node_1.label.split(':')[0], node_1.label.split(':')[1] "
   ]
  },
  {
   "cell_type": "code",
   "execution_count": 35,
   "id": "eastern-thanks",
   "metadata": {},
   "outputs": [],
   "source": [
    "group = load_group(105)\n",
    "group_nodes = list(group.nodes)\n",
    "couple_list = []\n",
    "uncoupled_list= []\n",
    "i=0\n",
    "for node1 in group_nodes[:]:\n",
    "    for node2 in group_nodes[:]:\n",
    "        i += 1\n",
    "        imp1_node1, imp2_node1 = node1.label.split(':')[0], node1.label.split(':')[1]\n",
    "        imp1_node2, imp2_node2 = node2.label.split(':')[0], node2.label.split(':')[1]\n",
    "        if imp1_node1 == imp2_node2:\n",
    "            if imp2_node1 == imp1_node2:\n",
    "#                 print(f'Couple combination : {node1.label} & {node2.label}')\n",
    "                couple_list.append(node1)\n",
    "                couple_list.append(node2)\n",
    "                \n",
    "    if node1 not in couple_list:\n",
    "        if node1 not in uncoupled_list:\n",
    "            uncoupled_list.append(node1)\n",
    "#             print(f'Not Couple combination  available : {node1.label}, pk : {node1.pk}')\n",
    "\n",
    "# uncoupled_list"
   ]
  },
  {
   "cell_type": "code",
   "execution_count": null,
   "id": "worldwide-momentum",
   "metadata": {},
   "outputs": [],
   "source": []
  },
  {
   "cell_type": "code",
   "execution_count": 94,
   "id": "artistic-litigation",
   "metadata": {},
   "outputs": [
    {
     "data": {
      "text/plain": [
       "<WorkChainNode: uuid: 6916481b-0354-4bdc-962f-90a2aeb03f28 (pk: 44658) (aiida_kkr.workflows._combine_imps.combine_imps_wc)>"
      ]
     },
     "execution_count": 94,
     "metadata": {},
     "output_type": "execute_result"
    }
   ],
   "source": [
    "group_102_labels.index('Co:Y:Bi2Te3_il_3_il_3')\n",
    "group_102.nodes[152]"
   ]
  },
  {
   "cell_type": "code",
   "execution_count": 32,
   "id": "employed-ability",
   "metadata": {},
   "outputs": [
    {
     "data": {
      "image/png": "[encoded data removed]",
      "text/plain": [
       "<Figure size 1008x1008 with 2 Axes>"
      ]
     },
     "metadata": {
      "needs_background": "light"
     },
     "output_type": "display_data"
    }
   ],
   "source": [
    "import matplotlib.pyplot as plt\n",
    "import matplotlib.colors\n",
    "import numpy as np\n",
    "\n",
    "x = np.linspace(0, 10, 100)\n",
    "y = np.random.randint(0, 50, size=100)\n",
    "z = np.random.rand(100)*10\n",
    "plt.figure(figsize=(14,14))\n",
    "\n",
    "## This part from the online resources ---------------\n",
    "# bounds = [-10,1,3,10]\n",
    "# colors = [\"r\", \"b\", \"g\"]\n",
    "# cmap = matplotlib.colors.ListedColormap(colors)\n",
    "# norm = matplotlib.colors.BoundaryNorm(bounds, len(colors))\n",
    "## ---------------------------------------------------\n",
    "\n",
    "viridis= plt.cm.get_cmap('viridis',256)\n",
    "color= viridis(np.linspace(0,1, 3))\n",
    "\n",
    "cmap= mpl.colors.ListedColormap(color)\n",
    "rect = plt.scatter(x, y, s = 1000, c=z, cmap=cmap)#, norm=norm)\n",
    "cbar = plt.colorbar(rect, spacing=\"proportional\")\n",
    "cbar.set_label('Color', rotation=270, labelpad=10)\n",
    "\n",
    "# for i, txt in enumerate(z):\n",
    "#     plt.annotate(np.around(txt, 1), (x[i], y[i]))'\n",
    "plt.show()\n"
   ]
  },
  {
   "cell_type": "code",
   "execution_count": 104,
   "id": "buried-cherry",
   "metadata": {},
   "outputs": [
    {
     "data": {
      "text/plain": [
       "{'sealed': True,\n",
       " 'version': {'core': '1.5.2', 'plugin': '1.1.11-dev4'},\n",
       " 'exception': \"AttributeError: 'ExitCode' object has no attribute 'process_class'\\n\",\n",
       " 'process_label': 'combine_imps_wc',\n",
       " 'process_state': 'excepted',\n",
       " 'stepper_state_info': 'None'}"
      ]
     },
     "execution_count": 104,
     "metadata": {},
     "output_type": "execute_result"
    }
   ],
   "source": [
    "node_102283= load_node(102283)\n",
    "node_102283.attributes"
   ]
  },
  {
   "cell_type": "code",
   "execution_count": 4,
   "id": "distinct-possible",
   "metadata": {},
   "outputs": [
    {
     "data": {
      "image/png": "[encoded data removed]",
      "text/plain": [
       "<Figure size 432x288 with 1 Axes>"
      ]
     },
     "metadata": {},
     "output_type": "display_data"
    }
   ],
   "source": [
    "with plt.style.context('ggplot'):\n",
    "    plt.plot(np.sin(np.linspace(0, 2 * np.pi)), 'r-o')\n",
    "plt.show()"
   ]
  },
  {
   "cell_type": "code",
   "execution_count": 90,
   "id": "bronze-aquarium",
   "metadata": {},
   "outputs": [],
   "source": [
    "help_node1= load_node(24887)#combin\n",
    "help_node2= load_node(24908)#sub_wc\n",
    "help_node3= load_node(24920)#kkrcalc\n",
    "help_node4= load_node(102422)\n",
    "help_node5= load_node(102866)## 102596,102808 # failed parse_Jij: 102971\n",
    "help_node6= load_node(16336)#sing kkr_imp_sub\n",
    "def func(impurity1_output_node):\n",
    "    try:\n",
    "        imp1_z = impurity1_output_node.get_incoming(node_class=kkr_imp_wc).first().node.inputs.impurity_info.get_dict()['Zimp']\n",
    "    except AttributeError:\n",
    "        try:\n",
    "            impurity1_output_node_combine = impurity1_output_node.get_incoming(node_class=combine_imps_wc).first().node#.get_outgoing(node_class=kkr_imp_sub_wc).first().node.inputs.impurity_info.get_dict()['Zimp']\n",
    "            imp1_z = impurity1_output_node_combine.get_outgoing(node_class=kkr_imp_sub_wc).first().node.inputs.impurity_info.get_dict()['Zimp']\n",
    "        except AttributeError:\n",
    "            try:\n",
    "                imp1_z = impurity1_output_node.get_incoming(node_class=kkr_imp_sub_wc).first().node.inputs.impurity_info.get_dict()['Zimp']\n",
    "            except AttributeError:\n",
    "                    imp1_z = impurity1_output_node.get_incoming(node_class=KkrimpCalculation).first().node.inputs.impurity_info.get_dict()['Zimp']\n",
    "    return imp1_z"
   ]
  },
  {
   "cell_type": "code",
   "execution_count": 76,
   "id": "historic-nursery",
   "metadata": {},
   "outputs": [
    {
     "data": {
      "text/plain": [
       "array([[-4.18514894e-01,  0.00000000e+00,  0.00000000e+00,\n",
       "         1.17359542e-02,  5.01783604e-03, -2.42880954e-04,\n",
       "        -2.26547674e-03, -4.47071611e-03],\n",
       "       [-8.37029787e-01,  0.00000000e+00,  0.00000000e+00,\n",
       "        -6.69298594e-07,  1.66658899e-06,  3.67039354e-08,\n",
       "        -8.20068730e-07, -1.45039959e-06],\n",
       "       [ 2.09257447e-01,  1.20814843e-01,  9.70368535e-01,\n",
       "        -3.67773030e-11,  8.87134964e-11, -2.89079659e-11,\n",
       "         7.70751404e-11,  3.30732018e-11],\n",
       "       [-4.18514894e-01,  0.00000000e+00,  0.00000000e+00,\n",
       "         1.18674693e-02,  5.12318855e-03,  1.82296264e-04,\n",
       "        -2.31748056e-03, -4.56542581e-03],\n",
       "       [ 6.27772340e-01,  1.20814843e-01,  9.70368535e-01,\n",
       "         2.89446990e-07,  1.91465032e-07, -8.82239437e-08,\n",
       "        -1.69638552e-07, -9.90737483e-09],\n",
       "       [ 1.04628723e+00,  1.20814843e-01,  9.70368535e-01,\n",
       "        -7.66467780e-11,  1.83008470e-10,  1.81574590e-10,\n",
       "        -2.28637007e-11,  1.39791456e-13]])"
      ]
     },
     "execution_count": 76,
     "metadata": {},
     "output_type": "execute_result"
    }
   ],
   "source": [
    "node_104380= load_node(104458)\n",
    "node_104380.outputs.JijData.get_array('JijData')"
   ]
  },
  {
   "cell_type": "code",
   "execution_count": 77,
   "id": "marked-decision",
   "metadata": {},
   "outputs": [
    {
     "name": "stdout",
     "output_type": "stream",
     "text": [
      "Output Jij values between V impurities:\n",
      " i          j           Jij (meV)           Dij(meV)            D/J             i_zimp          j_zimp \n",
      "---------------------------------------------------------------------------\n",
      "  0  15     1.17360e-02     5.01784e-03     4.27561e-01   21   22\n",
      "  0  26    -6.69299e-07     1.66659e-06    -2.49005e+00   21   21\n",
      "  0  37    -3.67773e-11     8.87135e-11    -2.41218e+00   21   21\n",
      " 15  26     1.18675e-02     5.12319e-03     4.31700e-01   22   21\n",
      " 15  37     2.89447e-07     1.91465e-07     6.61486e-01   22   21\n",
      " 26  37    -7.66468e-11     1.83008e-10    -2.38769e+00   21   21\n",
      "\n"
     ]
    }
   ],
   "source": [
    "print(node_104380.outputs.JijInfo.get_dict()['text'])"
   ]
  },
  {
   "cell_type": "code",
   "execution_count": 124,
   "id": "available-listening",
   "metadata": {},
   "outputs": [
    {
     "data": {
      "text/plain": [
       "<Site: kind name 'Bi' @ 2.1914815820078,1.2652524812963,22.357142232962>"
      ]
     },
     "execution_count": 124,
     "metadata": {},
     "output_type": "execute_result"
    }
   ],
   "source": [
    "struc_node= load_node(234)\n",
    "struc_node.sites[-7]"
   ]
  },
  {
   "cell_type": "code",
   "execution_count": 128,
   "id": "floating-browser",
   "metadata": {},
   "outputs": [
    {
     "data": {
      "text/plain": [
       "24899"
      ]
     },
     "execution_count": 128,
     "metadata": {},
     "output_type": "execute_result"
    }
   ],
   "source": [
    "node_24887= load_node(24887)\n",
    "node_24887.outputs.remote_data_gf.pk"
   ]
  },
  {
   "cell_type": "code",
   "execution_count": 126,
   "id": "interstate-barrier",
   "metadata": {},
   "outputs": [],
   "source": [
    "node_40585= load_node(40585)\n",
    "node_40585.outputs."
   ]
  },
  {
   "cell_type": "code",
   "execution_count": 174,
   "id": "guided-edward",
   "metadata": {},
   "outputs": [
    {
     "name": "stdout",
     "output_type": "stream",
     "text": [
      "59265\n",
      " imp_dict : {'Rcut': 4.0, 'Zimp': 39, 'ilayer_center': 3}\n",
      "59276\n",
      "59284\n",
      "59293\n",
      "59307\n",
      "59318\n",
      "59194\n",
      "59198\n",
      "59327\n",
      "59204\n",
      "59212\n",
      "59340\n",
      "59221\n",
      "59351\n",
      "59232\n",
      "59362\n",
      "59242\n",
      "59375\n",
      "59252\n"
     ]
    }
   ],
   "source": [
    "group_108= load_group(107)\n",
    "i = 0\n",
    "for node in group_108.nodes:\n",
    "    print(node.pk)\n",
    "    if i<=0:\n",
    "        print(f\" imp_dict : {node.get_outgoing(node_class=kkr_imp_sub_wc).all()[0].node.get_outgoing(node_class= KkrimpCalculation).all()[0].node.inputs.impurity_info.get_dict()}\")\n",
    "        i += 1"
   ]
  },
  {
   "cell_type": "code",
   "execution_count": 176,
   "id": "sexual-vessel",
   "metadata": {},
   "outputs": [
    {
     "data": {
      "text/plain": [
       "{'Rcut': 4.0, 'Zimp': 39, 'ilayer_center': 3}"
      ]
     },
     "execution_count": 176,
     "metadata": {},
     "output_type": "execute_result"
    }
   ],
   "source": [
    "node_59690= load_node(59690)\n",
    "node_59690.inputs.impurity_info.get_dict()"
   ]
  },
  {
   "cell_type": "code",
   "execution_count": null,
   "id": "helpful-disposal",
   "metadata": {},
   "outputs": [],
   "source": []
  }
 ],
 "metadata": {
  "kernelspec": {
   "display_name": "AiiDA",
   "language": "python",
   "name": "aiida"
  },
  "language_info": {
   "codemirror_mode": {
    "name": "ipython",
    "version": 3
   },
   "file_extension": ".py",
   "mimetype": "text/x-python",
   "name": "python",
   "nbconvert_exporter": "python",
   "pygments_lexer": "ipython3",
   "version": "3.8.5"
  }
 },
 "nbformat": 4,
 "nbformat_minor": 5
}
