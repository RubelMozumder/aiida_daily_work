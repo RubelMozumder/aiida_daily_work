{
 "cells": [
  {
   "cell_type": "code",
   "execution_count": 1,
   "id": "abandoned-centre",
   "metadata": {},
   "outputs": [
    {
     "name": "stdout",
     "output_type": "stream",
     "text": [
      "profile name :  default\n",
      "profile database host name :  localhost\n",
      "default user :  r.mozumder@fz-juelich.de\n"
     ]
    }
   ],
   "source": [
    "#load aiida environment and connect to database\n",
    "from aiida import load_profile\n",
    "from aiida.orm import computers\n",
    "profile = load_profile()\n",
    "print('profile name : ',profile.name)\n",
    "print('profile database host name : ',profile.database_hostname)\n",
    "print('default user : ',profile.default_user)"
   ]
  },
  {
   "cell_type": "code",
   "execution_count": 2,
   "id": "becoming-first",
   "metadata": {},
   "outputs": [],
   "source": [
    "# load classes and functions\n",
    "from aiida.orm import CifData, Code, Dict, load_node, StructureData, ArrayData\n",
    "from aiida.orm import (Group, load_group, load_node, load_code, groups,\n",
    "                      WorkChainNode, QueryBuilder, CalcJobNode)\n",
    "from aiida.engine import submit\n",
    "from aiida.common.exceptions import NotExistent\n",
    "from aiida_kkr.workflows import (kkr_imp_sub_wc, kkr_imp_dos, kkr_imp_wc, kkr_startpot_wc, combine_imps_wc,\n",
    "                                 kkr_flex_wc)\n",
    "import numpy as np\n",
    "from aiida_kkr.calculations import KkrimpCalculation, VoronoiCalculation\n",
    "import matplotlib.pyplot as plt\n",
    "from aiida_kkr.tools.common_workfunctions import get_username\n",
    "from masci_tools.io.common_functions import get_Ry2eV\n",
    "import tarfile"
   ]
  },
  {
   "cell_type": "code",
   "execution_count": 3,
   "id": "physical-basin",
   "metadata": {},
   "outputs": [
    {
     "data": {
      "text/plain": [
       "<StructureData: uuid: c1626804-5b71-450c-91c4-aa7197d85279 (pk: 234)>"
      ]
     },
     "execution_count": 3,
     "metadata": {},
     "output_type": "execute_result"
    }
   ],
   "source": [
    "from __future__ import print_function\n",
    "from __future__ import division\n",
    "from __future__ import absolute_import\n",
    "from __future__ import unicode_literals\n",
    "from builtins import object, str\n",
    "from six.moves import range\n",
    "from six.moves import input\n",
    "from masci_tools.io.common_functions import open_general\n",
    "from masci_tools.io.common_functions import search_string\n",
    "import numpy as np\n",
    "from masci_tools.io.common_functions import get_alat_from_bravais\n",
    "from masci_tools.io.common_functions import vec_to_angles\n",
    "from aiida.common.constants import elements as PeriodicTableElements\n",
    "_atomic_numbers = {data['symbol']:num for num,\n",
    "                data in PeriodicTableElements.items()}\n",
    "load_stuc = load_node(234)\n",
    "load_stuc"
   ]
  },
  {
   "cell_type": "code",
   "execution_count": 4,
   "id": "published-headquarters",
   "metadata": {},
   "outputs": [],
   "source": [
    "node_16215 = load_node(16215)\n",
    "node_16100 = load_node(16100)\n",
    "# node_16215.outputs.\n",
    "# node_16100.outputs.workflow_info.pk"
   ]
  },
  {
   "cell_type": "code",
   "execution_count": null,
   "id": "equipped-summit",
   "metadata": {},
   "outputs": [],
   "source": [
    "# imp_dos_group = load_group(72)\n",
    "\n",
    "plt.figure()\n",
    "for i, imp_dos in enumerate(imp_dos_group.nodes[2:4]):\n",
    "    # plot the contribution of the total impurity cluster into the background\n",
    "    # we scale this down by 0.5 to have copatible y-scales\n",
    "    plot_kkr(imp_dos, l_channels=False, strucplot=False, silent=True, label=None,\n",
    "             noshow=True, nofig=True, color='C'+str(i),\n",
    "             filled=True, alpha=0.3, yscale=0.5, lw=3\n",
    "            )\n",
    "    # highlight the contibution of the impurity (iatom=0)\n",
    "    plot_kkr(imp_dos, l_channels=False, strucplot=False, silent=True, label=imp_dos.label,\n",
    "             noshow=True, nofig=True, color='C'+str(i),\n",
    "             lw=3, iatom=0, \n",
    "            )\n",
    "plt.legend(loc=2, fontsize='large')\n",
    "plt.title('')\n",
    "plt.show()"
   ]
  },
  {
   "cell_type": "code",
   "execution_count": null,
   "id": "systematic-commander",
   "metadata": {},
   "outputs": [],
   "source": [
    "# imp_dos_group = load_group(72)\n",
    "\n",
    "plt.figure()\n",
    "for i, imp_dos in enumerate(imp_dos_group.nodes[2:4]):\n",
    "    # plot the contribution of the total impurity cluster into the background\n",
    "    # we scale this down by 0.5 to have copatible y-scales\n",
    "    plot_kkr(imp_dos, l_channels=False, strucplot=False, silent=True, label=None,\n",
    "             noshow=True, nofig=True, color='C'+str(i),\n",
    "             filled=True, alpha=0.3, yscale=0.5, lw=3\n",
    "            )\n",
    "#     # highlight the contibution of the impurity (iatom=0)\n",
    "#     plot_kkr(imp_dos, l_channels=False, strucplot=False, silent=True, label=imp_dos.label,\n",
    "#              noshow=True, nofig=True, color='C'+str(i),\n",
    "#              lw=3, iatom=0, \n",
    "#             )\n",
    "plt.legend(loc=2, fontsize='large')\n",
    "plt.title('')\n",
    "plt.show()"
   ]
  },
  {
   "cell_type": "code",
   "execution_count": 138,
   "id": "widespread-portrait",
   "metadata": {},
   "outputs": [
    {
     "name": "stderr",
     "output_type": "stream",
     "text": [
      "No handles with labels found to put in legend.\n"
     ]
    },
    {
     "data": {
      "image/png": "[encoded data removed]",
      "text/plain": [
       "<Figure size 432x288 with 1 Axes>"
      ]
     },
     "metadata": {
      "needs_background": "light"
     },
     "output_type": "display_data"
    }
   ],
   "source": [
    "plt.figure()\n",
    "for i, imp_dos in enumerate(imp_dos_group.nodes[3:4]):\n",
    "    # plot the contribution of the total impurity cluster into the background\n",
    "    # we scale this down by 0.5 to have copatible y-scales\n",
    "    plot_kkr(imp_dos, l_channels=False, strucplot=False, silent=True, label=None,\n",
    "             noshow=True, nofig=True, color='C'+str(i),\n",
    "             filled=True, alpha=0.3, yscale=0.5, lw=3\n",
    "            )\n",
    "    # highlight the contibution of the impurity (iatom=0)\n",
    "    plot_kkr(imp_dos, l_channels=False, strucplot=False, silent=True, label=imp_dos.label,\n",
    "             noshow=True, nofig=True, color='C'+str(i),\n",
    "             lw=3, iatom=0, \n",
    "            )\n",
    "plt.legend(loc=2, fontsize='large')\n",
    "plt.title('')\n",
    "plt.show()"
   ]
  },
  {
   "cell_type": "code",
   "execution_count": 139,
   "id": "speaking-denver",
   "metadata": {},
   "outputs": [
    {
     "data": {
      "text/plain": [
       "<aiida_kkr.tools.plot_kkr.plot_kkr at 0x7fe86f044640>"
      ]
     },
     "execution_count": 139,
     "metadata": {},
     "output_type": "execute_result"
    },
    {
     "data": {
      "image/png": "[encoded data removed]",
      "text/plain": [
       "<Figure size 432x288 with 1 Axes>"
      ]
     },
     "metadata": {
      "needs_background": "light"
     },
     "output_type": "display_data"
    }
   ],
   "source": [
    " plot_kkr(imp_dos, l_channels=False, strucplot=False, silent=True, label=imp_dos.label,\n",
    "             noshow=True, nofig=True, color='C'+str(i),\n",
    "             lw=3, iatom=0,all_atoms= False, sum_spins= True,)"
   ]
  },
  {
   "cell_type": "code",
   "execution_count": 140,
   "id": "dramatic-variance",
   "metadata": {},
   "outputs": [],
   "source": [
    "#imp_kkr_wc = 10085\n",
    "imp_out = load_node(11948)\n",
    "# kkrimp_calc = imp_out.outputs.last_calc_output_parameters.get_incoming(KkrimpCalculation).all()\n",
    "# imp_info = imp_out.outputs.workflow_info.get_incoming(link_label_filter='workflow_info').all()\n",
    "# # print(imp_info[0].node)\n",
    "# print(kkrimp_calc[0].node)\n",
    "ldau_test = imp_out.outputs.workflow_info.get_dict()\n",
    "# ldau_test"
   ]
  },
  {
   "cell_type": "code",
   "execution_count": null,
   "id": "pressed-indian",
   "metadata": {},
   "outputs": [],
   "source": []
  },
  {
   "cell_type": "code",
   "execution_count": 274,
   "id": "naval-investor",
   "metadata": {},
   "outputs": [
    {
     "name": "stdout",
     "output_type": "stream",
     "text": [
      "ok\n"
     ]
    }
   ],
   "source": [
    "kkr = None\n",
    "if kkr == None:\n",
    "    print('ok')"
   ]
  },
  {
   "cell_type": "code",
   "execution_count": null,
   "id": "nominated-surfing",
   "metadata": {},
   "outputs": [],
   "source": []
  },
  {
   "cell_type": "code",
   "execution_count": null,
   "id": "documented-linux",
   "metadata": {},
   "outputs": [],
   "source": []
  },
  {
   "cell_type": "code",
   "execution_count": 261,
   "id": "armed-maria",
   "metadata": {},
   "outputs": [
    {
     "name": "stdout",
     "output_type": "stream",
     "text": [
      "Group as named imp_embedded_Au_by_wasmer is already stored, so no need to create the group\n",
      "39\n"
     ]
    }
   ],
   "source": [
    "####### NOTE: If this csucessful then please add it into the 'tools_development' ipynb\n",
    "## In this part the node has been collected to store in new group only considering the kkr_imp_wc node\n",
    "group_wasmer = load_group(83)\n",
    "# node_label\n",
    "debug= False\n",
    "wasmer_grp_list = list(group_wasmer.nodes)\n",
    "group_label = 'imp_embedded_Au_by_wasmer'\n",
    "try:\n",
    "    new_grp = load_group(node_label)\n",
    "    print('Group as named %s is already stored, so no need to create the group'%(node_label))\n",
    "except:\n",
    "    new_grp = Group(label=group_label)\n",
    "    new_grp.store()\n",
    "    print(' A new node created as named %s' %node_label)\n",
    "new_grp_list = list(new_grp.nodes)\n",
    "i=0\n",
    "imp_wc_no = 0\n",
    "for index in range(len(wasmer_grp_list)):\n",
    "    node = wasmer_grp_list[index]\n",
    "    if node.node_type.split('.')[-2]=='WorkChainNode':\n",
    "        if (u'kkr_imp_wc' == node.process_label):\n",
    "            imp_wc_no += 1\n",
    "            if node in new_grp_list[:]:\n",
    "                print('node {} is already exist'.format(node.pk))\n",
    "            else:\n",
    "                new_grp.add_nodes(node)\n",
    "            if debug:\n",
    "                print(node.process_label)\n",
    "                print('pk: %7d'%node.pk)\n",
    "                print(wasmer_grp_list[i])\n",
    "                print(node.label)\n",
    "                \n",
    "                        \n",
    "        \n",
    "\n",
    "print(imp_wc_no)"
   ]
  },
  {
   "cell_type": "code",
   "execution_count": null,
   "id": "accessory-ideal",
   "metadata": {},
   "outputs": [],
   "source": []
  },
  {
   "cell_type": "code",
   "execution_count": null,
   "id": "brave-picture",
   "metadata": {},
   "outputs": [],
   "source": []
  },
  {
   "cell_type": "code",
   "execution_count": 106,
   "id": "trying-turtle",
   "metadata": {},
   "outputs": [
    {
     "data": {
      "text/plain": [
       "[['NSPIN', 2],\n",
       " ['HFIELD', [0.0, 0]],\n",
       " ['INS', 1],\n",
       " ['NCOLL', 1],\n",
       " ['SPINORBIT', 1],\n",
       " ['SCFSTEPS', 100],\n",
       " ['IMIX', 5],\n",
       " ['MIXFAC', 0.008],\n",
       " ['ITDBRY', 60],\n",
       " ['QBOUND', 1e-07],\n",
       " ['NSIMPLEMIXFIRST', 0],\n",
       " ['TESTFLAG', ['tmatnew']],\n",
       " ['CALCORBITALMOMENT', 1]]"
      ]
     },
     "execution_count": 106,
     "metadata": {},
     "output_type": "execute_result"
    }
   ],
   "source": [
    "# This is for kkrimpcalc step-1\n",
    "[['NSPIN', 2], ['HFIELD', [0.0, 0]], ['INS', 1], ['NCOLL', 1], ['SPINORBIT', 1], ['SCFSTEPS', 100], ['IMIX', 0], ['MIXFAC', 0.001], ['QBOUND', 0.008], ['TESTFLAG', ['tmatnew']], ['CALCORBITALMOMENT', 1]]\n",
    "[['NSPIN', 2], ['HFIELD', [0.02, 5]], ['INS', 1], ['NCOLL', 1], ['SPINORBIT', 1], ['SCFSTEPS', 300], ['IMIX', 0], ['MIXFAC', 0.02], ['QBOUND', 0.05], ['TESTFLAG', ['tmatnew']], ['CALCORBITALMOMENT', 1]]\n",
    "# This is for kkrimpcalc step-2\n",
    "[['NSPIN', 2], ['HFIELD', [0.0, 0]], ['INS', 1], ['NCOLL', 1], ['SPINORBIT', 1], ['SCFSTEPS', 100], ['IMIX', 5], ['MIXFAC', 0.008], ['ITDBRY', 60], ['QBOUND', 1e-07], ['NSIMPLEMIXFIRST', 0], ['TESTFLAG', ['tmatnew']], ['CALCORBITALMOMENT', 1]]\n",
    "[['NSPIN', 2], ['HFIELD', [0.0, 0]], ['INS', 1], ['NCOLL', 1], ['SPINORBIT', 1], ['SCFSTEPS', 300], ['IMIX', 5], ['MIXFAC', 0.05], ['ITDBRY', 20], ['QBOUND', 1e-07], ['NSIMPLEMIXFIRST', 0], ['TESTFLAG', ['tmatnew']], ['CALCORBITALMOMENT', 1]]"
   ]
  },
  {
   "cell_type": "code",
   "execution_count": 426,
   "id": "drawn-promotion",
   "metadata": {},
   "outputs": [
    {
     "data": {
      "text/plain": [
       "[(22896, 21270),\n",
       " (22907, 21312),\n",
       " (22910, 21316),\n",
       " (22913, 21321),\n",
       " (22916, 21325),\n",
       " (22919, 21330),\n",
       " (22922, 21335),\n",
       " (22925, 21341),\n",
       " (22928, 21345),\n",
       " (22933, 21350),\n",
       " (22938, 21354),\n",
       " (22942, 21359),\n",
       " (22947, 21362),\n",
       " (22953, 21368),\n",
       " (22956, 21373),\n",
       " (22962, 21377),\n",
       " (22966, 21382),\n",
       " (22971, 21386),\n",
       " (22975, 21391)]"
      ]
     },
     "execution_count": 426,
     "metadata": {},
     "output_type": "execute_result"
    }
   ],
   "source": [
    "## DOS group:\n",
    "ilayer_3 = list(load_group(94).nodes)\n",
    "ilayer_4 = list(load_group(93).nodes)\n",
    "ilayer_3 = [i.pk for i in ilayer_3[:]]\n",
    "ilayer_4 = [i.pk for i in ilayer_4[:]]\n",
    "ilayer_3_4 = zip(ilayer_3, ilayer_4)\n",
    "list(ilayer_3_4)\n"
   ]
  },
  {
   "cell_type": "code",
   "execution_count": 439,
   "id": "lyric-debut",
   "metadata": {},
   "outputs": [
    {
     "data": {
      "text/plain": [
       "{'host_gf': {'pk': 23790, 'uuid': '96779c30-20b2-42dd-92ce-47ce6a3de15f'},\n",
       " 'kkrimp_scf': {'pk': 23823, 'uuid': '7feebdb4-c22a-427b-b362-52a5ffa537f1'}}"
      ]
     },
     "execution_count": 439,
     "metadata": {},
     "output_type": "execute_result"
    }
   ],
   "source": [
    "node_16346 = load_node(23784)\n",
    "node_16346.outputs.workflow_info.get_dict()['sub_workflows']"
   ]
  },
  {
   "cell_type": "code",
   "execution_count": 457,
   "id": "promotional-creature",
   "metadata": {},
   "outputs": [],
   "source": [
    "group = load_group(74)\n",
    "nodes = list(group.nodes)\n",
    "node_0 = nodes[6]\n",
    "kkrimp_cal = node_0.get_outgoing(node_class=kkr_imp_sub_wc).first().node.get_outgoing(node_class=KkrimpCalculation).first().node\n",
    "host_parent = kkrimp_cal.inputs.host_Greenfunction_folder\n",
    "host_structure, _ = VoronoiCalculation.find_parent_structure(host_parent)"
   ]
  },
  {
   "cell_type": "code",
   "execution_count": 496,
   "id": "developmental-enhancement",
   "metadata": {},
   "outputs": [
    {
     "data": {
      "text/plain": [
       "18853"
      ]
     },
     "execution_count": 496,
     "metadata": {},
     "output_type": "execute_result"
    }
   ],
   "source": [
    "group_94 = load_group(91)\n",
    "group_94 = list(group_94.nodes)\n",
    "group_94[1].pk"
   ]
  },
  {
   "cell_type": "code",
   "execution_count": 518,
   "id": "recovered-dress",
   "metadata": {},
   "outputs": [
    {
     "data": {
      "text/plain": [
       "array([], dtype=float64)"
      ]
     },
     "execution_count": 518,
     "metadata": {},
     "output_type": "execute_result"
    }
   ],
   "source": [
    "node = load_node(234)\n",
    "node.outputs.JijData.get_array('JijData')"
   ]
  },
  {
   "cell_type": "code",
   "execution_count": 536,
   "id": "level-index",
   "metadata": {},
   "outputs": [
    {
     "name": "stdout",
     "output_type": "stream",
     "text": [
      "(0,)\n",
      "<class 'numpy.ndarray'>\n"
     ]
    },
    {
     "data": {
      "text/plain": [
       "array([], dtype=float64)"
      ]
     },
     "execution_count": 536,
     "metadata": {},
     "output_type": "execute_result"
    }
   ],
   "source": [
    "node = load_node(24510)\n",
    "jij_data = node.outputs.JijData.get_array('JijData')\n",
    "print(np.shape(jij_data))\n",
    "print(type(jij_data))\n",
    "\n",
    "jij_data[:]"
   ]
  },
  {
   "cell_type": "code",
   "execution_count": 617,
   "id": "scheduled-pizza",
   "metadata": {},
   "outputs": [
    {
     "name": "stdout",
     "output_type": "stream",
     "text": [
      "22\n",
      "23\n"
     ]
    }
   ],
   "source": [
    "combine_kkr = load_node(24418)\n",
    "]\n",
    "print(imp1)\n",
    "print(imp2)"
   ]
  },
  {
   "cell_type": "code",
   "execution_count": 616,
   "id": "formal-component",
   "metadata": {},
   "outputs": [
    {
     "name": "stdout",
     "output_type": "stream",
     "text": [
      "<class 'aiida.orm.nodes.data.dict.Dict'>\n",
      "jijdata :  [[ 9.71891464e-03 -4.30386615e-06 -1.87604979e-05]\n",
      " [-4.30386615e-06  9.71153387e-03  6.77291724e-07]\n",
      " [-1.87604979e-05  6.77291724e-07 -7.39626474e-04]\n",
      " ...\n",
      " [ 3.05283967e-07 -3.32337413e-10  1.34759307e-10]\n",
      " [-3.32337413e-10  3.61499885e-07 -1.24339119e-09]\n",
      " [ 1.34759307e-10 -1.24339119e-09  3.02323149e-07]]\n",
      "Shape jijdata :  (6084, 3)\n",
      "impurity_info[imp_cls] [[0.0, 0.0, 0.0, 4.0, 22.0, 0.0], [0.0, -0.24162968646393, 0.09703685354645, 6.0, 1.0, 0.26038635971735], [-0.20925744678623, -0.12081484323197, -0.09703685354645, 9.0, 1.0, 0.26038635971735], [0.20925744678623, -0.12081484323197, -0.09703685354645, 9.0, 1.0, 0.26038635971735], [-0.20925744678623, 0.12081484323198, 0.09703685354645, 6.0, 1.0, 0.26038635971736], [0.20925744678623, 0.12081484323198, 0.09703685354645, 6.0, 1.0, 0.26038635971736], [0.0, 0.24162968646394, -0.09703685354645, 9.0, 1.0, 0.26038635971736], [-0.20925744678623, -0.12081484323197, 0.15914043981621, 3.0, 52.0, 0.28932781574808], [0.20925744678623, -0.12081484323197, 0.15914043981621, 3.0, 52.0, 0.28932781574808], [0.0, 0.24162968646394, 0.15914043981621, 3.0, 52.0, 0.28932781574809], [0.0, 9.5410426290305e-15, -0.29111056063926, 8.0, 1.0, 0.29111056063926], [0.0, 0.0, 0.29111056063935, 10.0, 1.0, 0.29111056063935], [-0.20925744678623, 0.12081484323197, -0.1940737070929, 1.0, 52.0, 0.30991855247055], [0.20925744678623, 0.12081484323197, -0.1940737070929, 1.0, 52.0, 0.30991855247055], [0.0, -0.24162968646394, -0.1940737070929, 1.0, 52.0, 0.30991855247055], [-0.41851489357247, 0.0, 0.0, 4.0, 23.0, 0.41851489357247], [-0.41851489357247, -0.24162968646393, 0.09703685354645, 6.0, 1.0, 0.49290543968273], [-0.6277723403587, -0.12081484323197, -0.09703685354645, 9.0, 1.0, 0.64661463686713], [-0.6277723403587, 0.12081484323198, 0.09703685354645, 6.0, 1.0, 0.64661463686713], [-0.41851489357247, 0.24162968646394, -0.09703685354645, 9.0, 1.0, 0.49290543968274], [-0.6277723403587, -0.12081484323197, 0.15914043981621, 3.0, 52.0, 0.65880195601524], [-0.41851489357247, 0.24162968646394, 0.15914043981621, 3.0, 52.0, 0.50878807091709], [-0.41851489357247, 9.5410426290305e-15, -0.29111056063926, 8.0, 1.0, 0.50980395708319], [-0.41851489357247, 0.0, 0.29111056063935, 10.0, 1.0, 0.50980395708324], [-0.6277723403587, 0.12081484323197, -0.1940737070929, 1.0, 52.0, 0.66810099644394], [-0.41851489357247, -0.24162968646394, -0.1940737070929, 1.0, 52.0, 0.52077271943471]]\n",
      "Vpos :  [15, 0]\n",
      "Shape of Jij_reshape :  (3, 26, 26, 3, 3)\n",
      "natom :  26\n",
      "this is ok---------\n",
      "[rdiff[0], rdiff[1], rdiff[2], J, D, Dx, Dy, Dz] :  [-0.41851489357247, 0.0, 0.0, 6.729264772918481, 0.7762183891259471, 0.23571921022925746, -0.015015994722787779, -0.7394091975683428]\n",
      "this is ok---------\n",
      "[rdiff[0], rdiff[1], rdiff[2], J, D, Dx, Dy, Dz] :  [0.41851489357247, 0.0, 0.0, 6.729264772918481, 0.7762183891259468, -0.23571921022925868, 0.015015994722785583, 0.7394091975683421]\n",
      "This is the plotdata :  [[-0.41851489357247, 0.0, 0.0, 6.729264772918481, 0.7762183891259471, 0.23571921022925746, -0.015015994722787779, -0.7394091975683428], [0.41851489357247, 0.0, 0.0, 6.729264772918481, 0.7762183891259468, -0.23571921022925868, 0.015015994722785583, 0.7394091975683421]]\n"
     ]
    }
   ],
   "source": [
    "import tarfile\n",
    "# To find the impurity_info and retrieved file\n",
    "kkr_imp_sub =load_node(24365)\n",
    "impurity_info = kkr_imp_sub.inputs.impurity_info\n",
    "print(type(impurity_info))\n",
    "node = load_node(24461)\n",
    "retrieved = node.outputs.retrieved\n",
    "retrieved.list_object_names()\n",
    "\n",
    "_FILENAME_TAR = 'output_all.tar.gz'\n",
    "\n",
    "if _FILENAME_TAR in retrieved.list_object_names():\n",
    "    # get path of tarfile\n",
    "    with retrieved.open(_FILENAME_TAR) as tf:\n",
    "        tfpath = tf.name\n",
    "    # extract file from tarfile of retrieved to tempfolder\n",
    "    with tarfile.open(tfpath) as tf:\n",
    "        tar_filenames = [ifile.name for ifile in tf.getmembers()]\n",
    "        filename = 'out_Jijmatrix'\n",
    "        if filename in tar_filenames:\n",
    "            tf.extract(filename, tfpath.replace(_FILENAME_TAR,'')) # extract to tempfolder\n",
    "\n",
    "jijdata = np.loadtxt(tfpath.replace(_FILENAME_TAR,'')+'out_Jijmatrix')\n",
    "## To debug-------------------------\n",
    "print('jijdata : ',jijdata)\n",
    "print('Shape jijdata : ',np.shape(jijdata))\n",
    "\n",
    "\n",
    "impurity_info = impurity_info.get_dict()\n",
    "pos = np.array(impurity_info['imp_cls'])\n",
    "z = np.array(impurity_info['imp_cls'])[:,4]\n",
    "print('impurity_info[imp_cls]',impurity_info['imp_cls'])\n",
    "imp1= 23 # This value will be collected from the imp1_out_node. \n",
    "imp2= 22 # This value will be collected from the imp2_out_node\n",
    "Vpos =  list(np.where(z==imp1)[0]) + list(np.where(z==imp2)[0])\n",
    "\n",
    "print('Vpos : ', Vpos)\n",
    "\n",
    "Ry2eV = get_Ry2eV()\n",
    "\n",
    "# extract number of atoms\n",
    "natom = int(np.sqrt(jijdata.shape[0]/3/3))\n",
    "\n",
    "# reshape data\n",
    "jij_reshape = jijdata.reshape(3, natom, natom, 3, 3) # iter, i, j, k, l (Jij_k,l matrix)\n",
    "# print('Jij_reshape : ', jij_reshape)\n",
    "print('Shape of Jij_reshape : ', np.shape(jij_reshape))\n",
    "\n",
    "# now combine iterations to get full 3 by 3 Jij matrices for all atom pairs\n",
    "jij_combined_iter = np.zeros((natom, natom, 3, 3))\n",
    "for iatom in range(natom):\n",
    "    for jatom in range(natom):\n",
    "        for iiter in range(3):\n",
    "            if iiter==0:\n",
    "                # first iteration with theta, phi = 0, 0\n",
    "                # take complete upper block from here since this calculation should be converged best\n",
    "                # (rotated moments only one-shot calculations)\n",
    "                jij_combined_iter[iatom, jatom, 0, 0] = jij_reshape[iiter, iatom, jatom, 0, 0]\n",
    "                jij_combined_iter[iatom, jatom, 0, 1] = jij_reshape[iiter, iatom, jatom, 0, 1]\n",
    "                jij_combined_iter[iatom, jatom, 1, 0] = jij_reshape[iiter, iatom, jatom, 1, 0]\n",
    "                jij_combined_iter[iatom, jatom, 1, 1] = jij_reshape[iiter, iatom, jatom, 1, 1]\n",
    "            elif iiter==1:\n",
    "                # second iteraton with theta, phi = 90, 0\n",
    "                jij_combined_iter[iatom, jatom, 1, 2] = jij_reshape[iiter, iatom, jatom, 1, 2]\n",
    "                jij_combined_iter[iatom, jatom, 2, 1] = jij_reshape[iiter, iatom, jatom, 2, 1]\n",
    "                jij_combined_iter[iatom, jatom, 2, 2] = jij_reshape[iiter, iatom, jatom, 2, 2]\n",
    "            else:\n",
    "                # from third iteration with theta, phi = 90, 90\n",
    "                jij_combined_iter[iatom, jatom, 0, 2] = jij_reshape[iiter, iatom, jatom, 0, 2]\n",
    "                jij_combined_iter[iatom, jatom, 2, 0] = jij_reshape[iiter, iatom, jatom, 2, 0]\n",
    "                # add this value to z-z component and average\n",
    "                jij_combined_iter[iatom, jatom, 2, 2] += jij_reshape[iiter, iatom, jatom, 2, 2]\n",
    "                jij_combined_iter[iatom, jatom, 2, 2] *= 0.5\n",
    "\n",
    "# finally convert to meV units (and sign change to have positive number indicate ferromagnetism and negative number antiferromagnetism)\n",
    "jij_combined_iter *= -1.*Ry2eV*1000\n",
    "\n",
    "jij_trace = (jij_combined_iter[:,:,0,0]+jij_combined_iter[:,:,1,1]+jij_combined_iter[:,:,2,2])/3\n",
    "Dij_vec = np.array([(jij_combined_iter[:,:,1,2]-jij_combined_iter[:,:,2,1]), (jij_combined_iter[:,:,2,0]-jij_combined_iter[:,:,0,2]), (jij_combined_iter[:,:,0,1]-jij_combined_iter[:,:,1,0])])\n",
    "\n",
    "plotdata = []\n",
    "\n",
    "#return jij_combined_iter\n",
    "out_txt = \"Output Jij values between V impurities:\\ni   j     Jij (meV)       Dij(meV)        D/J\\n-----------------------------------------------\\n\"\n",
    "print('natom : ', natom)\n",
    "for iatom in range(natom):\n",
    "\n",
    "    for jatom in range(natom):\n",
    "\n",
    "        if iatom!=jatom and iatom in Vpos and jatom in Vpos:\n",
    "            print('this is ok---------')\n",
    "            J = jij_trace[iatom, jatom]\n",
    "            Dx, Dy, Dz = Dij_vec[0, iatom , jatom], Dij_vec[1, iatom , jatom], Dij_vec[2, iatom , jatom]\n",
    "            D = np.sqrt(Dx**2 + Dy**2 + Dz**2)\n",
    "            out_txt += '%3i %3i %15.5e %15.5e %15.5e\\n'%(iatom, jatom, J, D, D/J)\n",
    "            rdiff = pos[jatom] - pos[iatom]\n",
    "            print('[rdiff[0], rdiff[1], rdiff[2], J, D, Dx, Dy, Dz] : ',[rdiff[0], rdiff[1], rdiff[2], J, D, Dx, Dy, Dz])\n",
    "            plotdata.append([rdiff[0], rdiff[1], rdiff[2], J, D, Dx, Dy, Dz])\n",
    "## To debug-------------------------\n",
    "print('This is the plotdata : ', plotdata)\n",
    "plotdata = np.array(plotdata)\n",
    "\n",
    "a = ArrayData()\n",
    "a.set_array('JijData', plotdata)\n",
    "\n",
    "#return {'Jijdata': a, 'info': Dict(dict={'text': out_txt})}"
   ]
  },
  {
   "cell_type": "code",
   "execution_count": 569,
   "id": "formed-crash",
   "metadata": {},
   "outputs": [
    {
     "data": {
      "text/plain": [
       "array([], dtype=float64)"
      ]
     },
     "execution_count": 569,
     "metadata": {},
     "output_type": "execute_result"
    }
   ],
   "source": [
    "a.get_array('JijData')"
   ]
  },
  {
   "cell_type": "code",
   "execution_count": 606,
   "id": "interpreted-motorcycle",
   "metadata": {},
   "outputs": [
    {
     "name": "stdout",
     "output_type": "stream",
     "text": [
      "['Low1' 'Low2' 'High3' 'High4']\n"
     ]
    },
    {
     "data": {
      "text/plain": [
       "numpy.ndarray"
      ]
     },
     "execution_count": 606,
     "metadata": {},
     "output_type": "execute_result"
    }
   ],
   "source": [
    "# Create a Numpy array from a list\n",
    "arr = np.array([11, 12, 13, 14])\n",
    "high_values = ['High', 'High', 'High', 'High']\n",
    "low_values = ['Low', 'Low', 'Low', 'Low']\n",
    "# numpy where() with condition argument\n",
    "result = np.where(arr > 12,\n",
    "                  ['High1', 'High2', 'High3', 'High4'],\n",
    "                  ['Low1', 'Low2', 'Low3', 'Low4'])\n",
    "print(result)\n",
    "type(result)"
   ]
  },
  {
   "cell_type": "code",
   "execution_count": 642,
   "id": "adolescent-chemical",
   "metadata": {},
   "outputs": [],
   "source": [
    "ll = list(np.where( z == 22 )[0]) + list(np.where( z == 23 )[0])"
   ]
  },
  {
   "cell_type": "code",
   "execution_count": 643,
   "id": "marine-copper",
   "metadata": {},
   "outputs": [
    {
     "data": {
      "text/plain": [
       "array([22.,  1.,  1.,  1.,  1.,  1.,  1., 52., 52., 52.,  1.,  1., 52.,\n",
       "       52., 52., 23.,  1.,  1.,  1.,  1., 52., 52.,  1.,  1., 52., 52.])"
      ]
     },
     "execution_count": 643,
     "metadata": {},
     "output_type": "execute_result"
    }
   ],
   "source": [
    "z"
   ]
  },
  {
   "cell_type": "code",
   "execution_count": 644,
   "id": "transsexual-scanning",
   "metadata": {},
   "outputs": [
    {
     "data": {
      "text/plain": [
       "[0, 15]"
      ]
     },
     "execution_count": 644,
     "metadata": {},
     "output_type": "execute_result"
    }
   ],
   "source": [
    "ll"
   ]
  },
  {
   "cell_type": "code",
   "execution_count": 8,
   "id": "hydraulic-suicide",
   "metadata": {},
   "outputs": [
    {
     "data": {
      "text/plain": [
       "'/rwthfs/rz/cluster/work/jara0191/ck142666/aiida/computers/claix18_init/8c/bb/abd5-8288-469b-a045-9569e8a14876'"
      ]
     },
     "execution_count": 8,
     "metadata": {},
     "output_type": "execute_result"
    }
   ],
   "source": [
    "calcjob_node = load_node(24650)\n",
    "calcjob_node.get_remote_workdir()"
   ]
  },
  {
   "cell_type": "code",
   "execution_count": null,
   "id": "divine-commander",
   "metadata": {},
   "outputs": [],
   "source": []
  }
 ],
 "metadata": {
  "kernelspec": {
   "display_name": "AiiDA",
   "language": "python",
   "name": "aiida"
  },
  "language_info": {
   "codemirror_mode": {
    "name": "ipython",
    "version": 3
   },
   "file_extension": ".py",
   "mimetype": "text/x-python",
   "name": "python",
   "nbconvert_exporter": "python",
   "pygments_lexer": "ipython3",
   "version": "3.8.5"
  }
 },
 "nbformat": 4,
 "nbformat_minor": 5
}
