{
 "cells": [
  {
   "cell_type": "code",
   "execution_count": 2,
   "id": "helpful-burst",
   "metadata": {},
   "outputs": [
    {
     "name": "stdout",
     "output_type": "stream",
     "text": [
      "profile name :  default\n",
      "profile database host name :  localhost\n",
      "default user :  r.mozumder@fz-juelich.de\n"
     ]
    }
   ],
   "source": [
    "#load aiida environment and connect to database\n",
    "from aiida import load_profile\n",
    "from aiida.orm import computers\n",
    "profile = load_profile()\n",
    "print('profile name : ',profile.name)\n",
    "print('profile database host name : ',profile.database_hostname)\n",
    "print('default user : ',profile.default_user)"
   ]
  },
  {
   "cell_type": "code",
   "execution_count": 3,
   "id": "heated-prevention",
   "metadata": {},
   "outputs": [],
   "source": [
    "# load classes and functions\n",
    "from aiida.orm import CifData, Code, Dict, load_node, StructureData, ArrayData\n",
    "from aiida.orm import (Group, load_group, load_node, load_code, groups, Node,\n",
    "                      WorkChainNode, QueryBuilder, CalcJobNode)\n",
    "from aiida.engine import submit\n",
    "from aiida.common.exceptions import NotExistent\n",
    "from aiida_kkr.workflows import (kkr_imp_sub_wc, kkr_imp_dos, kkr_imp_wc, kkr_startpot_wc, combine_imps_wc,\n",
    "                                 kkr_flex_wc)\n",
    "import numpy as np\n",
    "from aiida_kkr.calculations import KkrimpCalculation, VoronoiCalculation, KkrCalculation\n",
    "import matplotlib.pyplot as plt\n",
    "from aiida_kkr.tools.common_workfunctions import get_username\n",
    "from masci_tools.io.common_functions import get_Ry2eV\n",
    "import tarfile\n",
    "import matplotlib as mpl\n"
   ]
  },
  {
   "cell_type": "code",
   "execution_count": 4,
   "id": "asian-calcium",
   "metadata": {},
   "outputs": [
    {
     "data": {
      "text/plain": [
       "<StructureData: uuid: c1626804-5b71-450c-91c4-aa7197d85279 (pk: 234)>"
      ]
     },
     "execution_count": 4,
     "metadata": {},
     "output_type": "execute_result"
    }
   ],
   "source": [
    "from __future__ import print_function\n",
    "from __future__ import division\n",
    "from __future__ import absolute_import\n",
    "from __future__ import unicode_literals\n",
    "from builtins import object, str\n",
    "from six.moves import range\n",
    "from six.moves import input\n",
    "from masci_tools.io.common_functions import open_general\n",
    "from masci_tools.io.common_functions import search_string\n",
    "import numpy as np\n",
    "from masci_tools.io.common_functions import get_alat_from_bravais\n",
    "from masci_tools.io.common_functions import vec_to_angles\n",
    "from aiida.common.constants import elements as PeriodicTableElements\n",
    "_atomic_numbers = {data['symbol']:num for num,\n",
    "                data in PeriodicTableElements.items()}\n",
    "load_stuc = load_node(234)\n",
    "load_stuc"
   ]
  },
  {
   "cell_type": "code",
   "execution_count": 5,
   "id": "cordless-constitutional",
   "metadata": {},
   "outputs": [],
   "source": [
    "node_16215 = load_node(16215)\n",
    "node_16100 = load_node(16100)\n",
    "# node_16215.outputs.\n",
    "# node_16100.outputs.workflow_info.pk"
   ]
  },
  {
   "cell_type": "code",
   "execution_count": null,
   "id": "related-produce",
   "metadata": {},
   "outputs": [],
   "source": [
    "# imp_dos_group = load_group(72)\n",
    "\n",
    "plt.figure()\n",
    "for i, imp_dos in enumerate(imp_dos_group.nodes[2:4]):\n",
    "    # plot the contribution of the total impurity cluster into the background\n",
    "    # we scale this down by 0.5 to have copatible y-scales\n",
    "    plot_kkr(imp_dos, l_channels=False, strucplot=False, silent=True, label=None,\n",
    "             noshow=True, nofig=True, color='C'+str(i),\n",
    "             filled=True, alpha=0.3, yscale=0.5, lw=3\n",
    "            )\n",
    "    # highlight the contibution of the impurity (iatom=0)\n",
    "    plot_kkr(imp_dos, l_channels=False, strucplot=False, silent=True, label=imp_dos.label,\n",
    "             noshow=True, nofig=True, color='C'+str(i),\n",
    "             lw=3, iatom=0, \n",
    "            )\n",
    "plt.legend(loc=2, fontsize='large')\n",
    "plt.title('')\n",
    "plt.show()"
   ]
  },
  {
   "cell_type": "code",
   "execution_count": null,
   "id": "intellectual-diary",
   "metadata": {},
   "outputs": [],
   "source": [
    "# imp_dos_group = load_group(72)\n",
    "\n",
    "plt.figure()\n",
    "for i, imp_dos in enumerate(imp_dos_group.nodes[2:4]):\n",
    "    # plot the contribution of the total impurity cluster into the background\n",
    "    # we scale this down by 0.5 to have copatible y-scales\n",
    "    plot_kkr(imp_dos, l_channels=False, strucplot=False, silent=True, label=None,\n",
    "             noshow=True, nofig=True, color='C'+str(i),\n",
    "             filled=True, alpha=0.3, yscale=0.5, lw=3\n",
    "            )\n",
    "#     # highlight the contibution of the impurity (iatom=0)\n",
    "#     plot_kkr(imp_dos, l_channels=False, strucplot=False, silent=True, label=imp_dos.label,\n",
    "#              noshow=True, nofig=True, color='C'+str(i),\n",
    "#              lw=3, iatom=0, \n",
    "#             )\n",
    "plt.legend(loc=2, fontsize='large')\n",
    "plt.title('')\n",
    "plt.show()"
   ]
  },
  {
   "cell_type": "code",
   "execution_count": 138,
   "id": "liable-phrase",
   "metadata": {},
   "outputs": [
    {
     "name": "stderr",
     "output_type": "stream",
     "text": [
      "No handles with labels found to put in legend.\n"
     ]
    },
    {
     "data": {
      "image/png": "[encoded data removed]",
      "text/plain": [
       "<Figure size 432x288 with 1 Axes>"
      ]
     },
     "metadata": {
      "needs_background": "light"
     },
     "output_type": "display_data"
    }
   ],
   "source": [
    "plt.figure()\n",
    "for i, imp_dos in enumerate(imp_dos_group.nodes[3:4]):\n",
    "    # plot the contribution of the total impurity cluster into the background\n",
    "    # we scale this down by 0.5 to have copatible y-scales\n",
    "    plot_kkr(imp_dos, l_channels=False, strucplot=False, silent=True, label=None,\n",
    "             noshow=True, nofig=True, color='C'+str(i),\n",
    "             filled=True, alpha=0.3, yscale=0.5, lw=3\n",
    "            )\n",
    "    # highlight the contibution of the impurity (iatom=0)\n",
    "    plot_kkr(imp_dos, l_channels=False, strucplot=False, silent=True, label=imp_dos.label,\n",
    "             noshow=True, nofig=True, color='C'+str(i),\n",
    "             lw=3, iatom=0, \n",
    "            )\n",
    "plt.legend(loc=2, fontsize='large')\n",
    "plt.title('')\n",
    "plt.show()"
   ]
  },
  {
   "cell_type": "code",
   "execution_count": 139,
   "id": "directed-surgeon",
   "metadata": {},
   "outputs": [
    {
     "data": {
      "text/plain": [
       "<aiida_kkr.tools.plot_kkr.plot_kkr at 0x7fe86f044640>"
      ]
     },
     "execution_count": 139,
     "metadata": {},
     "output_type": "execute_result"
    },
    {
     "data": {
      "image/png": "[encoded data removed]",
      "text/plain": [
       "<Figure size 432x288 with 1 Axes>"
      ]
     },
     "metadata": {
      "needs_background": "light"
     },
     "output_type": "display_data"
    }
   ],
   "source": [
    " plot_kkr(imp_dos, l_channels=False, strucplot=False, silent=True, label=imp_dos.label,\n",
    "             noshow=True, nofig=True, color='C'+str(i),\n",
    "             lw=3, iatom=0,all_atoms= False, sum_spins= True,)"
   ]
  },
  {
   "cell_type": "code",
   "execution_count": 46,
   "id": "vital-admission",
   "metadata": {},
   "outputs": [],
   "source": [
    "qb1 = QueryBuilder()\n",
    "node_list = qb1.append(WorkChainNode,\n",
    "          filters={\n",
    "#               'and':[\n",
    "#                   {'attributes.process_label':'combine_imps_wc'},\n",
    "#                   {'attributes.exit_status':{'in':[0]}}\n",
    "                  \n",
    "#               ],\n",
    "              'id':{'>':60746},\n",
    "              'attributes.process_label':'combine_imps_wc',\n",
    "              \n",
    "          }\n",
    "         ).all()"
   ]
  },
  {
   "cell_type": "code",
   "execution_count": 47,
   "id": "answering-trading",
   "metadata": {},
   "outputs": [
    {
     "data": {
      "text/plain": [
       "35"
      ]
     },
     "execution_count": 47,
     "metadata": {},
     "output_type": "execute_result"
    }
   ],
   "source": [
    "nodes_list = [node[0] for node in node_list[:]]\n",
    "# nodes_list.pop(19)\n",
    "nodes_pk = [node.pk for node in nodes_list]\n",
    "len(nodes_pk)"
   ]
  },
  {
   "cell_type": "code",
   "execution_count": 54,
   "id": "normal-slave",
   "metadata": {},
   "outputs": [
    {
     "name": "stdout",
     "output_type": "stream",
     "text": [
      "Y:Co:Bi2Te3_il_3_il_3\n",
      "61086\n",
      "Zr:Fe:Bi2Te3_il_3_il_3\n",
      "61087\n",
      "Zr:Co:Bi2Te3_il_3_il_3\n",
      "61098\n",
      "Mo:Fe:Bi2Te3_il_3_il_3\n",
      "61140\n",
      "Mo:Co:Bi2Te3_il_3_il_3\n",
      "61141\n",
      "Nb:Fe:Bi2Te3_il_3_il_3\n",
      "61169\n",
      "Nb:Co:Bi2Te3_il_3_il_3\n",
      "61170\n",
      "Tc:Fe:Bi2Te3_il_3_il_3\n",
      "61192\n",
      "Tc:Co:Bi2Te3_il_3_il_3\n",
      "61193\n",
      "Ru:Fe:Bi2Te3_il_3_il_3\n",
      "61215\n",
      "Ru:Co:Bi2Te3_il_3_il_3\n",
      "61216\n",
      "Rh:Fe:Bi2Te3_il_3_il_3\n",
      "61238\n",
      "Rh:Co:Bi2Te3_il_3_il_3\n",
      "61260\n",
      "Cd:Co:Bi2Te3_il_3_il_3\n",
      "61264\n",
      "Pd:Fe:Bi2Te3_il_3_il_3\n",
      "61336\n",
      "Pd:Co:Bi2Te3_il_3_il_3\n",
      "61337\n"
     ]
    }
   ],
   "source": [
    "group = load_group(105)\n",
    "group_nodes = list(group.nodes)\n",
    "group_labels_end = [node.label.split(':')[-1] for node in group_nodes]\n",
    "group_labels = [node.label for node in group_nodes]\n",
    "group_pk = [node.pk for node in group_nodes]\n",
    "\n",
    "for node in nodes_list:\n",
    "    if node.pk not in group_pk:\n",
    "#         print(node.pk)\n",
    "#         print(node.label)\n",
    "        if node.label.split(':')[-1]  in group_labels_end:\n",
    "            if node.label not in group_labels:\n",
    "                print (node.label)\n",
    "                print(node.pk)\n",
    "#                 group.add_nodes(node)\n",
    "    "
   ]
  },
  {
   "cell_type": "code",
   "execution_count": 49,
   "id": "waiting-donor",
   "metadata": {},
   "outputs": [
    {
     "data": {
      "text/plain": [
       "[]"
      ]
     },
     "execution_count": 49,
     "metadata": {},
     "output_type": "execute_result"
    }
   ],
   "source": [
    "group_107 = load_group(108)\n",
    "# group_107.add_nodes(nodes_list)\n",
    "group_pk"
   ]
  },
  {
   "cell_type": "code",
   "execution_count": 85,
   "id": "regulation-namibia",
   "metadata": {},
   "outputs": [
    {
     "data": {
      "text/plain": [
       "(<WorkChainNode: uuid: e3211b60-0cf7-4c99-9c43-25871255f272 (pk: 57971) (aiida_kkr.workflows._combine_imps.combine_imps_wc)>,\n",
       " <WorkChainNode: uuid: 0703d125-2db7-48b3-a613-e4cf9f3a0b94 (pk: 58236) (aiida_kkr.workflows._combine_imps.combine_imps_wc)>)"
      ]
     },
     "execution_count": 85,
     "metadata": {},
     "output_type": "execute_result"
    }
   ],
   "source": [
    "nodes_list[0], nodes_list[-1]"
   ]
  },
  {
   "cell_type": "code",
   "execution_count": 86,
   "id": "dedicated-diana",
   "metadata": {},
   "outputs": [
    {
     "data": {
      "text/plain": [
       "378"
      ]
     },
     "execution_count": 86,
     "metadata": {},
     "output_type": "execute_result"
    }
   ],
   "source": [
    "## duccess group\n",
    "group_102 = load_group(104)\n",
    "group_102_nodes = list(group_102.nodes)\n",
    "group_102_nodes_pk = [i.pk for i in group_102_nodes]\n",
    "group_102_nodes_label = [i.label for i in group_102_nodes]\n",
    "\n",
    "## failed group\n",
    "group_105 = load_group(106)\n",
    "group_105_nodes = list(group_105.nodes)\n",
    "group_105_nodes_pk = [i.pk for i in group_105_nodes]\n",
    "group_105_nodes_label = [i.label for i in group_105_nodes]\n",
    "\n",
    "len(group_102.nodes)"
   ]
  },
  {
   "cell_type": "code",
   "execution_count": 87,
   "id": "cognitive-soccer",
   "metadata": {},
   "outputs": [
    {
     "name": "stdout",
     "output_type": "stream",
     "text": [
      "search_label:   Bi2Te3_il_3_il_4\n",
      "candidate :  Bi2Te3_il_3_il_4\n",
      "29\n"
     ]
    }
   ],
   "source": [
    "search_label = group_102_nodes[1].label.split(':')[-1]\n",
    "node_num_with_label = 0\n",
    "print('search_label:  ', search_label)\n",
    "candidate_label = group_102_nodes[-1].label.split(':')[-1]\n",
    "print('candidate : ', candidate_label)\n",
    "N = 0\n",
    "for node in nodes_list[:]:\n",
    "    candidate_label = node.label.split(':')[-1]\n",
    "#     print(f'search_label :  {search_label},  candidate_label : {candidate_label}')\n",
    "    if candidate_label == search_label:\n",
    "        N += 1\n",
    "        node_num_with_label += 1\n",
    "        if node.is_finished :\n",
    "            if node.is_finished_ok :\n",
    "#                 group_102_nodes_pk.remove(node.pk)\n",
    "                if node.pk not in group_102_nodes_pk:\n",
    "                    if node.label not in group_102_nodes_label:\n",
    "                        print('not in group 102 : ', node.pk)\n",
    "                        \n",
    "                        group_102.add_nodes(node)\n",
    "            else:\n",
    "                if node.pk not in group_105_nodes_pk:\n",
    "                    if node.label not in group_105_nodes_label:\n",
    "                        print('failed node pk : ',  node.pk)\n",
    "                        group_105.add_nodes(node)\n",
    "        else:\n",
    "            print('runing_node : ', node.pk)\n",
    "            group_102.add_nodes(node)\n",
    "                \n",
    "print(N)"
   ]
  },
  {
   "cell_type": "code",
   "execution_count": null,
   "id": "different-rolling",
   "metadata": {},
   "outputs": [],
   "source": []
  },
  {
   "cell_type": "code",
   "execution_count": 114,
   "id": "romantic-advertising",
   "metadata": {},
   "outputs": [
    {
     "data": {
      "text/plain": [
       "0.732977"
      ]
     },
     "execution_count": 114,
     "metadata": {},
     "output_type": "execute_result"
    }
   ],
   "source": [
    "group_3_vs_3 = load_group(102)\n",
    "node_3_3_list = list(group_3_vs_3.nodes)\n",
    "node_1 = node_3_3_list[0]\n",
    "node_1.outputs.last_calc_output_parameters.get_dict()['magnetism_group']['total_spin_moment'] #0.4991457961, "
   ]
  },
  {
   "cell_type": "code",
   "execution_count": 116,
   "id": "tracked-candy",
   "metadata": {},
   "outputs": [
    {
     "data": {
      "text/plain": [
       "('Sc', 'Ti')"
      ]
     },
     "execution_count": 116,
     "metadata": {},
     "output_type": "execute_result"
    }
   ],
   "source": [
    "node_1.label.split(':')[0], node_1.label.split(':')[1] "
   ]
  },
  {
   "cell_type": "code",
   "execution_count": 154,
   "id": "olive-lancaster",
   "metadata": {},
   "outputs": [
    {
     "name": "stdout",
     "output_type": "stream",
     "text": [
      "[ 0.00000000e+00  0.00000000e+00  5.82221121e-01  1.09233952e-23\n",
      "  4.71157372e-24  1.68344619e-24  1.39475763e-24 -4.17367787e-24]\n"
     ]
    },
    {
     "data": {
      "text/plain": [
       "0"
      ]
     },
     "execution_count": 154,
     "metadata": {},
     "output_type": "execute_result"
    }
   ],
   "source": [
    "node_16195 = load_node(58236)\n",
    "# node_16195.outputs.last_calc_output_parameters.get_dict()\n",
    "node_16195.outputs.JijData.get_array('JijData')\n",
    "print(node_16195.outputs.JijData.get_array('JijData')[0,:])\n",
    "test =  (node_16195.outputs.JijInfo.get_dict()['text']).split('\\n')\n",
    "\n",
    "# list(test[2].split(''))\n",
    "int(test[3].split()[0])"
   ]
  },
  {
   "cell_type": "code",
   "execution_count": 144,
   "id": "arbitrary-virginia",
   "metadata": {},
   "outputs": [
    {
     "data": {
      "text/plain": [
       "[2, 2, 3]"
      ]
     },
     "execution_count": 144,
     "metadata": {},
     "output_type": "execute_result"
    }
   ],
   "source": [
    "list_1 = [2,2,3,5]\n",
    "dist_1 = np.sum(list_1)\n",
    "list_1[0:3]"
   ]
  },
  {
   "cell_type": "code",
   "execution_count": null,
   "id": "peripheral-vampire",
   "metadata": {},
   "outputs": [],
   "source": []
  },
  {
   "cell_type": "code",
   "execution_count": 159,
   "id": "pressing-somewhere",
   "metadata": {},
   "outputs": [],
   "source": [
    "from aiida.common.constants import elements as elmt\n",
    "sym_to_zimp = {elmt[zimp]['symbol']:zimp for zimp in elmt.keys()}"
   ]
  },
  {
   "cell_type": "code",
   "execution_count": 177,
   "id": "careful-dodge",
   "metadata": {},
   "outputs": [
    {
     "data": {
      "text/plain": [
       "['X',\n",
       " 'Sc',\n",
       " 'Ti',\n",
       " 'V',\n",
       " 'Cr',\n",
       " 'Mn',\n",
       " 'Fe',\n",
       " 'Co',\n",
       " 'Ni',\n",
       " 'Cu',\n",
       " 'Zn',\n",
       " 'Y',\n",
       " 'Zr',\n",
       " 'Nb',\n",
       " 'Mo',\n",
       " 'Tc',\n",
       " 'Ru',\n",
       " 'Rh',\n",
       " 'Pd',\n",
       " 'Ag',\n",
       " 'Cd']"
      ]
     },
     "execution_count": 177,
     "metadata": {},
     "output_type": "execute_result"
    }
   ],
   "source": [
    "## To plot Dyaloshinky data\n",
    "combine_imps_group = load_group(102)\n",
    "combine_nodes_list = list(combine_imps_group.nodes)\n",
    "plot_imp_row_list = []  # This is the list considered as the label for yticks\n",
    "plot_imp_col_list = ['xx']  # This is the list considered as the label for xticks\n",
    "\n",
    "for node in combine_nodes_list[:]:\n",
    "    ## Here to arrange the imps for once, intending for x-axis, \n",
    "    ## plot_col_list, and y-axis, plot_row_list \n",
    "    imp1, imp2 = node.label.split(':')[0], node.label.split(':')[1]\n",
    "    ## Here only one imp will be consider for once\n",
    "    if imp1 not in plot_imp_row_list:\n",
    "        plot_imp_row_list.append(imp1)\n",
    "    if imp2 not in plot_imp_col_list:\n",
    "        plot_imp_col_list.append(imp2)\n",
    "    \n",
    "    plot_zimp_row_list = [] \n",
    "    plot_zimp_col_list = []    \n",
    "    \n",
    "    for sym in plot_imp_row_list:\n",
    "        if sym in sym_to_zimp.keys():\n",
    "            plot_zimp_row_list.append(sym_to_zimp[sym])\n",
    "        else:\n",
    "            plot_zimp_row_list.append(0)\n",
    "    plot_zimp_row_list.sort()       \n",
    "    for sym in plot_imp_col_list:\n",
    "        if sym in sym_to_zimp.keys():\n",
    "            plot_zimp_col_list.append(sym_to_zimp[sym])\n",
    "        else:\n",
    "            plot_zimp_col_list.append(0)\n",
    "    plot_zimp_col_list.sort()\n",
    "    plot_imp_row_list = [elmt[zimp]['symbol'] for zimp in plot_zimp_row_list]\n",
    "    plot_imp_col_list = [elmt[zimp]['symbol'] for zimp in plot_zimp_col_list]\n",
    "    \n",
    "            \n",
    "plot_imp_col_list"
   ]
  },
  {
   "cell_type": "code",
   "execution_count": 37,
   "id": "rising-championship",
   "metadata": {},
   "outputs": [],
   "source": [
    "group_102 = load_group(105)\n",
    "group_102_nodes = group_102.nodes\n",
    "sym_list = []\n",
    "for node in group_102_nodes:\n",
    "    node_label = node.label\n",
    "    sym_list.append(node_label)"
   ]
  },
  {
   "cell_type": "code",
   "execution_count": 6,
   "id": "sunset-butterfly",
   "metadata": {},
   "outputs": [
    {
     "data": {
      "image/png": "[encoded data removed]",
      "text/plain": [
       "<Figure size 432x288 with 1 Axes>"
      ]
     },
     "metadata": {
      "needs_background": "light"
     },
     "output_type": "display_data"
    }
   ],
   "source": [
    "# import packages \n",
    "import numpy as np\n",
    "import matplotlib\n",
    "import matplotlib.pyplot as plt\n",
    "\n",
    "# generate data \n",
    "np.random.seed(42)\n",
    "data = np.random.randint(low=1, high=4, size=(10,10)) # possible values are 1,2,3\n",
    "\n",
    "# define color map \n",
    "color_map = {1: np.array([129, 0, 0]), # red\n",
    "             2: np.array([0, 255, 0]), # green\n",
    "             3: np.array([0, 0, 255])} # blue \n",
    "\n",
    "# make a 3d numpy array that has a color channel dimension   \n",
    "data_3d = np.ndarray(shape=(data.shape[0], data.shape[1], 3), dtype=int)\n",
    "for i in range(0, data.shape[0]):\n",
    "    for j in range(0, data.shape[1]):\n",
    "        data_3d[i][j] = color_map[data[i][j]]\n",
    "\n",
    "# display the plot \n",
    "fig, ax = plt.subplots(1,1)\n",
    "ax.imshow(data_3d)\n",
    "\n",
    "# add numbers to the plot \n",
    "# thanks to tmdavison answer here https://stackoverflow.com/a/40890587/7871710\n",
    "for i in range(0, data.shape[0]):\n",
    "    for j in range(0, data.shape[1]):\n",
    "        c = data[j,i]\n",
    "        ax.text(i, j, str(c), va='center', ha='center')"
   ]
  },
  {
   "cell_type": "code",
   "execution_count": null,
   "id": "lightweight-humanitarian",
   "metadata": {},
   "outputs": [],
   "source": []
  },
  {
   "cell_type": "code",
   "execution_count": 13,
   "id": "written-broadcasting",
   "metadata": {},
   "outputs": [],
   "source": [
    "test_dict = {0:'zero', 1:'one'}\n",
    "\n",
    "test_dict."
   ]
  },
  {
   "cell_type": "code",
   "execution_count": 33,
   "id": "dutch-hudson",
   "metadata": {},
   "outputs": [
    {
     "name": "stdout",
     "output_type": "stream",
     "text": [
      "Sc:Fe:Bi2Te3_il_3_il_3   and pk :  60746\n",
      "Fe:Co:Bi2Te3_il_3_il_3   and pk :  60873\n",
      "Zn:Co:Bi2Te3_il_3_il_3   and pk :  60977\n",
      "Ti:Co:Bi2Te3_il_3_il_3   and pk :  60775\n",
      "V:Fe:Bi2Te3_il_3_il_3   and pk :  60802\n",
      "V:Co:Bi2Te3_il_3_il_3   and pk :  60803\n",
      "Cr:Fe:Bi2Te3_il_3_il_3   and pk :  60830\n",
      "Mn:Co:Bi2Te3_il_3_il_3   and pk :  60858\n",
      "Co:Fe:Bi2Te3_il_3_il_3   and pk :  60897\n",
      "Ni:Fe:Bi2Te3_il_3_il_3   and pk :  60950\n",
      "Zn:Fe:Bi2Te3_il_3_il_3   and pk :  60975\n",
      "Y:Fe:Bi2Te3_il_3_il_3   and pk :  61005\n",
      "Fe:Fe:Bi2Te3_il_3_il_3   and pk :  60872\n",
      "Co:Ni:Bi2Te3_il_3_il_3   and pk :  60901\n",
      "Sc:Co:Bi2Te3_il_3_il_3   and pk :  60747\n",
      "Ti:Fe:Bi2Te3_il_3_il_3   and pk :  60774\n",
      "Cr:Co:Bi2Te3_il_3_il_3   and pk :  60831\n",
      "Co:Co:Bi2Te3_il_3_il_3   and pk :  60898\n",
      "Co:Cu:Bi2Te3_il_3_il_3   and pk :  60930\n",
      "Ni:Co:Bi2Te3_il_3_il_3   and pk :  60951\n"
     ]
    }
   ],
   "source": []
  },
  {
   "cell_type": "code",
   "execution_count": 112,
   "id": "willing-franchise",
   "metadata": {},
   "outputs": [
    {
     "name": "stdout",
     "output_type": "stream",
     "text": [
      "Not Couple combination  available : Sc:Fe:Bi2Te3_il_3_il_3, pk : 60746\n",
      "Couple combination : Fe:Co:Bi2Te3_il_3_il_3 & Co:Fe:Bi2Te3_il_3_il_3\n",
      "Not Couple combination  available : Zn:Co:Bi2Te3_il_3_il_3, pk : 60977\n",
      "Not Couple combination  available : Ti:Co:Bi2Te3_il_3_il_3, pk : 60775\n",
      "Not Couple combination  available : V:Fe:Bi2Te3_il_3_il_3, pk : 60802\n",
      "Not Couple combination  available : V:Co:Bi2Te3_il_3_il_3, pk : 60803\n",
      "Not Couple combination  available : Cr:Fe:Bi2Te3_il_3_il_3, pk : 60830\n",
      "Not Couple combination  available : Mn:Co:Bi2Te3_il_3_il_3, pk : 60858\n",
      "Couple combination : Co:Fe:Bi2Te3_il_3_il_3 & Fe:Co:Bi2Te3_il_3_il_3\n",
      "Not Couple combination  available : Ni:Fe:Bi2Te3_il_3_il_3, pk : 60950\n",
      "Not Couple combination  available : Zn:Fe:Bi2Te3_il_3_il_3, pk : 60975\n",
      "Not Couple combination  available : Y:Fe:Bi2Te3_il_3_il_3, pk : 61005\n",
      "Couple combination : Fe:Fe:Bi2Te3_il_3_il_3 & Fe:Fe:Bi2Te3_il_3_il_3\n",
      "Couple combination : Co:Ni:Bi2Te3_il_3_il_3 & Ni:Co:Bi2Te3_il_3_il_3\n",
      "Not Couple combination  available : Sc:Co:Bi2Te3_il_3_il_3, pk : 60747\n",
      "Not Couple combination  available : Ti:Fe:Bi2Te3_il_3_il_3, pk : 60774\n",
      "Not Couple combination  available : Cr:Co:Bi2Te3_il_3_il_3, pk : 60831\n",
      "Couple combination : Co:Co:Bi2Te3_il_3_il_3 & Co:Co:Bi2Te3_il_3_il_3\n",
      "Not Couple combination  available : Co:Cu:Bi2Te3_il_3_il_3, pk : 60930\n",
      "Couple combination : Ni:Co:Bi2Te3_il_3_il_3 & Co:Ni:Bi2Te3_il_3_il_3\n",
      "Not Couple combination  available : Y:Co:Bi2Te3_il_3_il_3, pk : 61086\n",
      "Not Couple combination  available : Zr:Fe:Bi2Te3_il_3_il_3, pk : 61087\n",
      "Not Couple combination  available : Zr:Co:Bi2Te3_il_3_il_3, pk : 61098\n",
      "Not Couple combination  available : Mo:Fe:Bi2Te3_il_3_il_3, pk : 61140\n",
      "Not Couple combination  available : Mo:Co:Bi2Te3_il_3_il_3, pk : 61141\n",
      "Not Couple combination  available : Nb:Fe:Bi2Te3_il_3_il_3, pk : 61169\n",
      "Not Couple combination  available : Nb:Co:Bi2Te3_il_3_il_3, pk : 61170\n",
      "Not Couple combination  available : Tc:Fe:Bi2Te3_il_3_il_3, pk : 61192\n",
      "Not Couple combination  available : Tc:Co:Bi2Te3_il_3_il_3, pk : 61193\n",
      "Not Couple combination  available : Ru:Fe:Bi2Te3_il_3_il_3, pk : 61215\n",
      "Not Couple combination  available : Ru:Co:Bi2Te3_il_3_il_3, pk : 61216\n",
      "Not Couple combination  available : Rh:Fe:Bi2Te3_il_3_il_3, pk : 61238\n",
      "Not Couple combination  available : Rh:Co:Bi2Te3_il_3_il_3, pk : 61260\n",
      "Not Couple combination  available : Cd:Co:Bi2Te3_il_3_il_3, pk : 61264\n",
      "Not Couple combination  available : Pd:Fe:Bi2Te3_il_3_il_3, pk : 61336\n",
      "Not Couple combination  available : Pd:Co:Bi2Te3_il_3_il_3, pk : 61337\n"
     ]
    }
   ],
   "source": [
    "group = load_group(105)\n",
    "group_nodes = list(group.nodes)\n",
    "couple_list = []\n",
    "uncoupled_list= []\n",
    "i=0\n",
    "for node1 in group_nodes[:]:\n",
    "    for node2 in group_nodes[:]:\n",
    "        i += 1\n",
    "        imp1_node1, imp2_node1 = node1.label.split(':')[0], node1.label.split(':')[1]\n",
    "        imp1_node2, imp2_node2 = node2.label.split(':')[0], node2.label.split(':')[1]\n",
    "        if imp1_node1 == imp2_node2:\n",
    "            if imp2_node1 == imp1_node2:\n",
    "                print(f'Couple combination : {node1.label} & {node2.label}')\n",
    "                couple_list.append(node1)\n",
    "                couple_list.append(node2)\n",
    "                \n",
    "    if node1 not in couple_list:\n",
    "        if node1 not in uncoupled_list:\n",
    "            uncoupled_list.append(node1)\n",
    "            print(f'Not Couple combination  available : {node1.label}, pk : {node1.pk}')\n",
    "\n",
    "# uncoupled_list"
   ]
  },
  {
   "cell_type": "code",
   "execution_count": 117,
   "id": "passive-optimization",
   "metadata": {},
   "outputs": [
    {
     "name": "stdout",
     "output_type": "stream",
     "text": [
      "SUCCEDED LABEL : Fe:Sc:Bi2Te3_il_3_il_3, SUCCEDED PK: 42932\n",
      "SUCCEDED LABEL : Co:Zn:Bi2Te3_il_3_il_3, SUCCEDED PK: 44657\n",
      "SUCCEDED LABEL : Co:Ti:Bi2Te3_il_3_il_3, SUCCEDED PK: 44631\n",
      "SUCCEDED LABEL : Fe:V:Bi2Te3_il_3_il_3, SUCCEDED PK: 43127\n",
      "SUCCEDED LABEL : Co:V:Bi2Te3_il_3_il_3, SUCCEDED PK: 44635\n",
      "SUCCEDED LABEL : Fe:Cr:Bi2Te3_il_3_il_3, SUCCEDED PK: 43193\n",
      "SUCCEDED LABEL : Co:Mn:Bi2Te3_il_3_il_3, SUCCEDED PK: 44646\n",
      "SUCCEDED LABEL : Fe:Ni:Bi2Te3_il_3_il_3, SUCCEDED PK: 43440\n",
      "SUCCEDED LABEL : Fe:Zn:Bi2Te3_il_3_il_3, SUCCEDED PK: 43571\n",
      "SUCCEDED LABEL : Fe:Y:Bi2Te3_il_3_il_3, SUCCEDED PK: 43572\n",
      "SUCCEDED LABEL : Co:Sc:Bi2Te3_il_3_il_3, SUCCEDED PK: 44629\n",
      "SUCCEDED LABEL : Fe:Ti:Bi2Te3_il_3_il_3, SUCCEDED PK: 43069\n",
      "SUCCEDED LABEL : Co:Cr:Bi2Te3_il_3_il_3, SUCCEDED PK: 44641\n",
      "SUCCEDED LABEL : Cu:Co:Bi2Te3_il_3_il_3, SUCCEDED PK: 48997\n",
      "SUCCEDED LABEL : Co:Y:Bi2Te3_il_3_il_3, SUCCEDED PK: 44658\n",
      "SUCCEDED LABEL : Fe:Zr:Bi2Te3_il_3_il_3, SUCCEDED PK: 43573\n",
      "SUCCEDED LABEL : Co:Zr:Bi2Te3_il_3_il_3, SUCCEDED PK: 44662\n",
      "SUCCEDED LABEL : Fe:Mo:Bi2Te3_il_3_il_3, SUCCEDED PK: 43574\n",
      "SUCCEDED LABEL : Co:Mo:Bi2Te3_il_3_il_3, SUCCEDED PK: 44669\n",
      "SUCCEDED LABEL : Fe:Nb:Bi2Te3_il_3_il_3, SUCCEDED PK: 43575\n",
      "SUCCEDED LABEL : Co:Nb:Bi2Te3_il_3_il_3, SUCCEDED PK: 44675\n",
      "SUCCEDED LABEL : Fe:Tc:Bi2Te3_il_3_il_3, SUCCEDED PK: 43577\n",
      "SUCCEDED LABEL : Co:Tc:Bi2Te3_il_3_il_3, SUCCEDED PK: 44682\n",
      "SUCCEDED LABEL : Fe:Ru:Bi2Te3_il_3_il_3, SUCCEDED PK: 43755\n",
      "SUCCEDED LABEL : Co:Ru:Bi2Te3_il_3_il_3, SUCCEDED PK: 44685\n",
      "SUCCEDED LABEL : Fe:Rh:Bi2Te3_il_3_il_3, SUCCEDED PK: 43756\n",
      "SUCCEDED LABEL : Co:Rh:Bi2Te3_il_3_il_3, SUCCEDED PK: 44689\n",
      "SUCCEDED LABEL : Co:Cd:Bi2Te3_il_3_il_3, SUCCEDED PK: 44696\n",
      "SUCCEDED LABEL : Fe:Pd:Bi2Te3_il_3_il_3, SUCCEDED PK: 44628\n",
      "SUCCEDED LABEL : Co:Pd:Bi2Te3_il_3_il_3, SUCCEDED PK: 44700\n",
      "FAILED LABEL : Sc:Fe:Bi2Te3_il_3_il_3, FAILED PK: 60746\n",
      "FAILED LABEL : Zn:Co:Bi2Te3_il_3_il_3, FAILED PK: 60977\n",
      "FAILED LABEL : Ti:Co:Bi2Te3_il_3_il_3, FAILED PK: 60775\n",
      "FAILED LABEL : V:Fe:Bi2Te3_il_3_il_3, FAILED PK: 60802\n",
      "FAILED LABEL : V:Co:Bi2Te3_il_3_il_3, FAILED PK: 60803\n",
      "FAILED LABEL : Cr:Fe:Bi2Te3_il_3_il_3, FAILED PK: 60830\n",
      "FAILED LABEL : Mn:Co:Bi2Te3_il_3_il_3, FAILED PK: 60858\n",
      "FAILED LABEL : Ni:Fe:Bi2Te3_il_3_il_3, FAILED PK: 60950\n",
      "FAILED LABEL : Zn:Fe:Bi2Te3_il_3_il_3, FAILED PK: 60975\n",
      "FAILED LABEL : Y:Fe:Bi2Te3_il_3_il_3, FAILED PK: 61005\n",
      "FAILED LABEL : Sc:Co:Bi2Te3_il_3_il_3, FAILED PK: 60747\n",
      "FAILED LABEL : Ti:Fe:Bi2Te3_il_3_il_3, FAILED PK: 60774\n",
      "FAILED LABEL : Cr:Co:Bi2Te3_il_3_il_3, FAILED PK: 60831\n",
      "FAILED LABEL : Co:Cu:Bi2Te3_il_3_il_3, FAILED PK: 60930\n",
      "FAILED LABEL : Y:Co:Bi2Te3_il_3_il_3, FAILED PK: 61086\n",
      "FAILED LABEL : Zr:Fe:Bi2Te3_il_3_il_3, FAILED PK: 61087\n",
      "FAILED LABEL : Zr:Co:Bi2Te3_il_3_il_3, FAILED PK: 61098\n",
      "FAILED LABEL : Mo:Fe:Bi2Te3_il_3_il_3, FAILED PK: 61140\n",
      "FAILED LABEL : Mo:Co:Bi2Te3_il_3_il_3, FAILED PK: 61141\n",
      "FAILED LABEL : Nb:Fe:Bi2Te3_il_3_il_3, FAILED PK: 61169\n",
      "FAILED LABEL : Nb:Co:Bi2Te3_il_3_il_3, FAILED PK: 61170\n",
      "FAILED LABEL : Tc:Fe:Bi2Te3_il_3_il_3, FAILED PK: 61192\n",
      "FAILED LABEL : Tc:Co:Bi2Te3_il_3_il_3, FAILED PK: 61193\n",
      "FAILED LABEL : Ru:Fe:Bi2Te3_il_3_il_3, FAILED PK: 61215\n",
      "FAILED LABEL : Ru:Co:Bi2Te3_il_3_il_3, FAILED PK: 61216\n",
      "FAILED LABEL : Rh:Fe:Bi2Te3_il_3_il_3, FAILED PK: 61238\n",
      "FAILED LABEL : Rh:Co:Bi2Te3_il_3_il_3, FAILED PK: 61260\n",
      "FAILED LABEL : Cd:Co:Bi2Te3_il_3_il_3, FAILED PK: 61264\n",
      "FAILED LABEL : Pd:Fe:Bi2Te3_il_3_il_3, FAILED PK: 61336\n",
      "FAILED LABEL : Pd:Co:Bi2Te3_il_3_il_3, FAILED PK: 61337\n"
     ]
    }
   ],
   "source": [
    "success_group = load_group(102)\n",
    "failed_group = load_group(105)\n",
    "\n",
    "succeed_group_labels = {node.label:node.pk for node in success_group.nodes}\n",
    "failed_group_labels = {node.label:node.pk for node in failed_group.nodes}\n",
    "\n",
    "uncoupled_list_failed_labels = [node.label for node in uncoupled_list]\n",
    "uncoupled_list_success_labels = []\n",
    "\n",
    "for label in uncoupled_list_failed_labels:\n",
    "    imp1_sym = label.split(':')[0]\n",
    "    imp2_sym = label.split(':')[1]\n",
    "    host_sym = label.split(':')[2]\n",
    "    new_label = imp2_sym + ':' + imp1_sym + ':' + host_sym\n",
    "    uncoupled_list_success_labels.append(new_label)\n",
    "#     print(f'new label:  {new_label},  Old_label:  {label}')\n",
    "\n",
    "for label in uncoupled_list_success_labels:\n",
    "    if label in succeed_group_labels.keys():\n",
    "        print(f'SUCCEDED LABEL : {label}, SUCCEDED PK: {succeed_group_labels[label]}')\n",
    "for label in uncoupled_list_failed_labels:\n",
    "    if label in failed_group_labels.keys():\n",
    "        print(f'FAILED LABEL : {label}, FAILED PK: {failed_group_labels[label]}')\n",
    "        "
   ]
  },
  {
   "cell_type": "code",
   "execution_count": null,
   "id": "cooked-colony",
   "metadata": {},
   "outputs": [],
   "source": [
    "success_group."
   ]
  },
  {
   "cell_type": "code",
   "execution_count": 94,
   "id": "welcome-rings",
   "metadata": {},
   "outputs": [
    {
     "data": {
      "text/plain": [
       "<WorkChainNode: uuid: 6916481b-0354-4bdc-962f-90a2aeb03f28 (pk: 44658) (aiida_kkr.workflows._combine_imps.combine_imps_wc)>"
      ]
     },
     "execution_count": 94,
     "metadata": {},
     "output_type": "execute_result"
    }
   ],
   "source": [
    "group_102_labels.index('Co:Y:Bi2Te3_il_3_il_3')\n",
    "group_102.nodes[152]"
   ]
  },
  {
   "cell_type": "code",
   "execution_count": 120,
   "id": "negative-thing",
   "metadata": {},
   "outputs": [
    {
     "name": "stdout",
     "output_type": "stream",
     "text": [
      "viridis.colors [[0.267004 0.004874 0.329415 1.      ]\n",
      " [0.275191 0.194905 0.496005 1.      ]\n",
      " [0.212395 0.359683 0.55171  1.      ]\n",
      " [0.153364 0.497    0.557724 1.      ]\n",
      " [0.122312 0.633153 0.530398 1.      ]\n",
      " [0.288921 0.758394 0.428426 1.      ]\n",
      " [0.626579 0.854645 0.223353 1.      ]\n",
      " [0.993248 0.906157 0.143936 1.      ]]\n",
      "viridis(range(8)) [[0.267004 0.004874 0.329415 1.      ]\n",
      " [0.275191 0.194905 0.496005 1.      ]\n",
      " [0.212395 0.359683 0.55171  1.      ]\n",
      " [0.153364 0.497    0.557724 1.      ]\n",
      " [0.122312 0.633153 0.530398 1.      ]\n",
      " [0.288921 0.758394 0.428426 1.      ]\n",
      " [0.626579 0.854645 0.223353 1.      ]\n",
      " [0.993248 0.906157 0.143936 1.      ]]\n",
      "viridis(np.linspace(0, 1, 8)) [[0.267004 0.004874 0.329415 1.      ]\n",
      " [0.267004 0.004874 0.329415 1.      ]\n",
      " [0.267004 0.004874 0.329415 1.      ]\n",
      " [0.275191 0.194905 0.496005 1.      ]\n",
      " [0.275191 0.194905 0.496005 1.      ]\n",
      " [0.212395 0.359683 0.55171  1.      ]\n",
      " [0.212395 0.359683 0.55171  1.      ]\n",
      " [0.212395 0.359683 0.55171  1.      ]\n",
      " [0.153364 0.497    0.557724 1.      ]\n",
      " [0.153364 0.497    0.557724 1.      ]\n",
      " [0.122312 0.633153 0.530398 1.      ]\n",
      " [0.122312 0.633153 0.530398 1.      ]\n",
      " [0.288921 0.758394 0.428426 1.      ]\n",
      " [0.288921 0.758394 0.428426 1.      ]\n",
      " [0.288921 0.758394 0.428426 1.      ]\n",
      " [0.626579 0.854645 0.223353 1.      ]\n",
      " [0.626579 0.854645 0.223353 1.      ]\n",
      " [0.993248 0.906157 0.143936 1.      ]\n",
      " [0.993248 0.906157 0.143936 1.      ]\n",
      " [0.993248 0.906157 0.143936 1.      ]]\n"
     ]
    }
   ],
   "source": [
    "node_61131 = load_node(61131)\n",
    "node_61131.outputs.output_parameters.get_dict()\n",
    "\n",
    "\n",
    "import matplotlib.pyplot as plt\n",
    "from matplotlib import cm\n",
    "from matplotlib.colors import ListedColormap, LinearSegmentedColormap\n",
    "\n",
    "viridis = cm.get_cmap('viridis', 8)\n",
    "\n",
    "print('viridis.colors', viridis.colors)\n",
    "print('viridis(range(8))', viridis(range(8)))\n",
    "print('viridis(np.linspace(0, 1, 8))', viridis(np.linspace(0, 1, 20)))"
   ]
  },
  {
   "cell_type": "code",
   "execution_count": 122,
   "id": "requested-zoning",
   "metadata": {},
   "outputs": [
    {
     "data": {
      "text/plain": [
       "<matplotlib.colors.ListedColormap at 0x7fba73d4e910>"
      ]
     },
     "execution_count": 122,
     "metadata": {},
     "output_type": "execute_result"
    }
   ],
   "source": [
    "plt.cm.li"
   ]
  },
  {
   "cell_type": "code",
   "execution_count": 52,
   "id": "municipal-husband",
   "metadata": {},
   "outputs": [
    {
     "ename": "TypeError",
     "evalue": "object of type 'ListedColormap' has no len()",
     "output_type": "error",
     "traceback": [
      "\u001b[0;31m---------------------------------------------------------------------------\u001b[0m",
      "\u001b[0;31mTypeError\u001b[0m                                 Traceback (most recent call last)",
      "\u001b[0;32m<ipython-input-52-d3a674987f64>\u001b[0m in \u001b[0;36m<module>\u001b[0;34m\u001b[0m\n\u001b[1;32m     18\u001b[0m \u001b[0;34m\u001b[0m\u001b[0m\n\u001b[1;32m     19\u001b[0m \u001b[0mviridis\u001b[0m\u001b[0;34m=\u001b[0m \u001b[0mplt\u001b[0m\u001b[0;34m.\u001b[0m\u001b[0mcm\u001b[0m\u001b[0;34m.\u001b[0m\u001b[0mget_cmap\u001b[0m\u001b[0;34m(\u001b[0m\u001b[0;34m'viridis'\u001b[0m\u001b[0;34m,\u001b[0m \u001b[0;36m3\u001b[0m\u001b[0;34m)\u001b[0m\u001b[0;34m\u001b[0m\u001b[0;34m\u001b[0m\u001b[0m\n\u001b[0;32m---> 20\u001b[0;31m \u001b[0mcmap\u001b[0m\u001b[0;34m=\u001b[0m \u001b[0mplt\u001b[0m\u001b[0;34m.\u001b[0m\u001b[0mcm\u001b[0m\u001b[0;34m.\u001b[0m\u001b[0mcolors\u001b[0m\u001b[0;34m.\u001b[0m\u001b[0mListedColormap\u001b[0m\u001b[0;34m(\u001b[0m\u001b[0mviridis\u001b[0m\u001b[0;34m)\u001b[0m\u001b[0;34m\u001b[0m\u001b[0;34m\u001b[0m\u001b[0m\n\u001b[0m\u001b[1;32m     21\u001b[0m \u001b[0;34m\u001b[0m\u001b[0m\n\u001b[1;32m     22\u001b[0m \u001b[0mrect\u001b[0m \u001b[0;34m=\u001b[0m \u001b[0mplt\u001b[0m\u001b[0;34m.\u001b[0m\u001b[0mscatter\u001b[0m\u001b[0;34m(\u001b[0m\u001b[0mx\u001b[0m\u001b[0;34m,\u001b[0m \u001b[0my\u001b[0m\u001b[0;34m,\u001b[0m \u001b[0ms\u001b[0m \u001b[0;34m=\u001b[0m \u001b[0;36m100\u001b[0m\u001b[0;34m,\u001b[0m \u001b[0mc\u001b[0m\u001b[0;34m=\u001b[0m\u001b[0mz\u001b[0m\u001b[0;34m,\u001b[0m \u001b[0mcmap\u001b[0m\u001b[0;34m=\u001b[0m\u001b[0mcmap\u001b[0m\u001b[0;34m)\u001b[0m\u001b[0;31m#, norm=norm)\u001b[0m\u001b[0;34m\u001b[0m\u001b[0;34m\u001b[0m\u001b[0m\n",
      "\u001b[0;32m/usr/local/lib/python3.8/dist-packages/matplotlib/colors.py\u001b[0m in \u001b[0;36m__init__\u001b[0;34m(self, colors, name, N)\u001b[0m\n\u001b[1;32m    891\u001b[0m         \u001b[0;32mif\u001b[0m \u001b[0mN\u001b[0m \u001b[0;32mis\u001b[0m \u001b[0;32mNone\u001b[0m\u001b[0;34m:\u001b[0m\u001b[0;34m\u001b[0m\u001b[0;34m\u001b[0m\u001b[0m\n\u001b[1;32m    892\u001b[0m             \u001b[0mself\u001b[0m\u001b[0;34m.\u001b[0m\u001b[0mcolors\u001b[0m \u001b[0;34m=\u001b[0m \u001b[0mcolors\u001b[0m\u001b[0;34m\u001b[0m\u001b[0;34m\u001b[0m\u001b[0m\n\u001b[0;32m--> 893\u001b[0;31m             \u001b[0mN\u001b[0m \u001b[0;34m=\u001b[0m \u001b[0mlen\u001b[0m\u001b[0;34m(\u001b[0m\u001b[0mcolors\u001b[0m\u001b[0;34m)\u001b[0m\u001b[0;34m\u001b[0m\u001b[0;34m\u001b[0m\u001b[0m\n\u001b[0m\u001b[1;32m    894\u001b[0m         \u001b[0;32melse\u001b[0m\u001b[0;34m:\u001b[0m\u001b[0;34m\u001b[0m\u001b[0;34m\u001b[0m\u001b[0m\n\u001b[1;32m    895\u001b[0m             \u001b[0;32mif\u001b[0m \u001b[0misinstance\u001b[0m\u001b[0;34m(\u001b[0m\u001b[0mcolors\u001b[0m\u001b[0;34m,\u001b[0m \u001b[0mstr\u001b[0m\u001b[0;34m)\u001b[0m\u001b[0;34m:\u001b[0m\u001b[0;34m\u001b[0m\u001b[0;34m\u001b[0m\u001b[0m\n",
      "\u001b[0;31mTypeError\u001b[0m: object of type 'ListedColormap' has no len()"
     ]
    },
    {
     "data": {
      "text/plain": [
       "<Figure size 1008x1008 with 0 Axes>"
      ]
     },
     "metadata": {},
     "output_type": "display_data"
    }
   ],
   "source": [
    "import matplotlib.pyplot as plt\n",
    "import matplotlib.colors\n",
    "import numpy as np\n",
    "\n",
    "x = np.linspace(0, 10, 100)\n",
    "y = np.random.randint(0, 50, size=100)\n",
    "z = np.random.rand(100)*10\n",
    "\n",
    "plt.figure(figsize=(14,14))\n",
    "\n",
    "\n",
    "## This part from the online resources ---------------\n",
    "# bounds = [-10,1,3,10]\n",
    "# colors = [\"r\", \"b\", \"g\"]\n",
    "# cmap = matplotlib.colors.ListedColormap(colors)\n",
    "# norm = matplotlib.colors.BoundaryNorm(bounds, len(colors))\n",
    "## ---------------------------------------------------\n",
    "\n",
    "viridis= plt.cm.get_cmap('viridis', 3)\n",
    "cmap= plt.cm.colors.ListedColormap(viridis)\n",
    "\n",
    "rect = plt.scatter(x, y, s = 100, c=z, cmap=cmap)#, norm=norm)\n",
    "\n",
    "cbar = plt.colorbar(rect, spacing=\"proportional\")\n",
    "cbar.set_label('Color', rotation=270, labelpad=10)\n",
    "\n",
    "for i, txt in enumerate(z):\n",
    "    plt.annotate(np.around(txt, 1), (x[i], y[i]))\n",
    "plt.show()"
   ]
  },
  {
   "cell_type": "code",
   "execution_count": 49,
   "id": "accurate-bradford",
   "metadata": {},
   "outputs": [
    {
     "data": {
      "text/plain": [
       "(0.26851, 0.009605, 0.335427, 1.0)"
      ]
     },
     "execution_count": 49,
     "metadata": {},
     "output_type": "execute_result"
    }
   ],
   "source": [
    "viridis(1)"
   ]
  },
  {
   "cell_type": "code",
   "execution_count": 215,
   "id": "mexican-aquatic",
   "metadata": {},
   "outputs": [
    {
     "data": {
      "text/plain": [
       "[[1.5, 2.5, 3.5], [1.5, 2.5, 3.5], [1.5, 2.5, 3.5]]"
      ]
     },
     "execution_count": 215,
     "metadata": {},
     "output_type": "execute_result"
    }
   ],
   "source": [
    "node_54809 = load_node(54809)\n",
    "\n",
    "gf_host_remote = node_54809.inputs.gf_host_remote.get_incoming(node_class=KkrCalculation).all()[0].node\n",
    "\n",
    "# kkr_write = gf_host_remote.get_incoming(node_class=KkrCalculation).all()[0].node\n",
    "# kkr_calc = kkr_write.outputs.output_parameters.get_dict()\n",
    "gf_host_remote.outputs.output_parameters.get_dict()\n",
    "\n",
    "\n",
    "import numpy as np\n",
    "\n",
    "np.add([[1, 2, 3],[1, 2, 3],[1, 2, 3]], 0.5).tolist()"
   ]
  },
  {
   "cell_type": "code",
   "execution_count": 226,
   "id": "solar-vitamin",
   "metadata": {},
   "outputs": [],
   "source": [
    "node_6916481b = load_node('6916481b-0354-4bdc-962f-90a2aeb03f28')\n",
    "# node_6916481b.outputs.last_calc_output_parameters.get_dict()\n",
    "# node_6916481b.outputs.output_parameters.get_dict()#['magnetism_group']"
   ]
  },
  {
   "cell_type": "code",
   "execution_count": 227,
   "id": "needed-fiction",
   "metadata": {},
   "outputs": [],
   "source": [
    "node_62155 = load_node(62151)\n",
    "# node_62155.outputs.output_parameters.get_dict()#['magnetism_group']"
   ]
  },
  {
   "cell_type": "code",
   "execution_count": 297,
   "id": "acquired-directory",
   "metadata": {},
   "outputs": [],
   "source": [
    "node_62129 = load_node(62129)\n",
    "input_param= node_62129.inputs.parameters.get_dict()\n",
    "# input_param"
   ]
  },
  {
   "cell_type": "code",
   "execution_count": 6,
   "id": "trying-bulletin",
   "metadata": {},
   "outputs": [
    {
     "name": "stdout",
     "output_type": "stream",
     "text": [
      "node_16637.inputs.impurity_info.get_dict() :  {'Rcut': 4.0, 'Zimp': [26.0], 'ilayer_center': 4}\n"
     ]
    },
    {
     "data": {
      "text/plain": [
       "<RemoteData: uuid: cdcbd086-129f-49fc-9132-791159854a37 (pk: 16648)>"
      ]
     },
     "execution_count": 6,
     "metadata": {},
     "output_type": "execute_result"
    }
   ],
   "source": [
    "node_16637 = load_node(16637)\n",
    "print('node_16637.inputs.impurity_info.get_dict() : ', node_16637.inputs.impurity_info.get_dict())\n",
    "node_16637.outputs.remote_data_gf"
   ]
  },
  {
   "cell_type": "code",
   "execution_count": 7,
   "id": "entertaining-legend",
   "metadata": {},
   "outputs": [],
   "source": [
    "test_node= load_node(16647)\n",
    "# test_node.inputs.parameters.get_dict()"
   ]
  },
  {
   "cell_type": "code",
   "execution_count": 268,
   "id": "fitted-dietary",
   "metadata": {},
   "outputs": [
    {
     "name": "stdout",
     "output_type": "stream",
     "text": [
      "combine_imps_kkr : [40, 40, 40]\n"
     ]
    },
    {
     "data": {
      "text/plain": [
       "{'NSHELD': 2500}"
      ]
     },
     "execution_count": 268,
     "metadata": {},
     "output_type": "execute_result"
    }
   ],
   "source": [
    "node_24887= load_node(24898)\n",
    "print('combine_imps_kkr :', node_24887.inputs.parameters.get_dict()['BZDIVIDE'])\n",
    "node_2488= load_node(24887)\n",
    "node_2488.inputs.host_gf__params_kkr_overwrite.get_dict()"
   ]
  },
  {
   "cell_type": "code",
   "execution_count": 285,
   "id": "thick-dutch",
   "metadata": {},
   "outputs": [
    {
     "data": {
      "text/plain": [
       "['Sc:Bi2Te3',\n",
       " 'Mn:Bi2Te3',\n",
       " 'Cr:Bi2Te3',\n",
       " 'V:Bi2Te3',\n",
       " 'Ti:Bi2Te3',\n",
       " 'Ni:Bi2Te3',\n",
       " 'Fe:Bi2Te3',\n",
       " 'Y:Bi2Te3',\n",
       " 'Zn:Bi2Te3',\n",
       " 'Zr:Bi2Te3',\n",
       " 'Cu:Bi2Te3',\n",
       " 'Nb:Bi2Te3',\n",
       " 'Mo:Bi2Te3',\n",
       " 'Tc:Bi2Te3',\n",
       " 'Rh:Bi2Te3',\n",
       " 'Cd:Bi2Te3',\n",
       " 'Pd:Bi2Te3',\n",
       " 'Ru:Bi2Te3',\n",
       " 'Ag:Bi2Te3',\n",
       " 'Co:Bi2Te3']"
      ]
     },
     "execution_count": 285,
     "metadata": {},
     "output_type": "execute_result"
    }
   ],
   "source": [
    "node_91_list= load_group(91).nodes\n",
    "label_91_list= [node.label for node in node_91_list]\n",
    "label_91_list"
   ]
  },
  {
   "cell_type": "code",
   "execution_count": 279,
   "id": "american-dancing",
   "metadata": {},
   "outputs": [
    {
     "data": {
      "text/plain": [
       "'/local/th1/iff003/mozumder/aiida_run/73/e4/e699-1455-449e-9e32-d6438f8ee0ae'"
      ]
     },
     "execution_count": 279,
     "metadata": {},
     "output_type": "execute_result"
    }
   ],
   "source": [
    "node_23b1 = load_node(62177)\n",
    "# node_23b1.inputs.parameters.get_dict()\n",
    "node_62258 = load_node(62258)\n",
    "node_62258.outputs.remote_folder.get_remote_path()"
   ]
  },
  {
   "cell_type": "code",
   "execution_count": 281,
   "id": "disturbed-access",
   "metadata": {},
   "outputs": [
    {
     "data": {
      "text/plain": [
       "'Co:Bi2Te3'"
      ]
     },
     "execution_count": 281,
     "metadata": {},
     "output_type": "execute_result"
    }
   ],
   "source": [
    "node_62167 = load_node(62167)\n",
    "\n",
    "node_62167.label"
   ]
  },
  {
   "cell_type": "code",
   "execution_count": 24,
   "id": "aquatic-thickness",
   "metadata": {},
   "outputs": [
    {
     "data": {
      "text/plain": [
       "[]"
      ]
     },
     "execution_count": 24,
     "metadata": {},
     "output_type": "execute_result"
    }
   ],
   "source": [
    "group_91 = load_group(106)\n",
    "# node_24830 = load_node(24841)\n",
    "# node_24830.inputs.parameters.get_dict()\n",
    "list(group_91.nodes)\n",
    "\n",
    "# group_91.clear()"
   ]
  },
  {
   "cell_type": "code",
   "execution_count": null,
   "id": "improving-convention",
   "metadata": {},
   "outputs": [],
   "source": []
  },
  {
   "cell_type": "code",
   "execution_count": 298,
   "id": "christian-aluminum",
   "metadata": {},
   "outputs": [
    {
     "data": {
      "text/plain": [
       "'/home/mozumder/.config/matplotlib'"
      ]
     },
     "execution_count": 298,
     "metadata": {},
     "output_type": "execute_result"
    }
   ],
   "source": [
    "matplotlib.get_configdir()"
   ]
  },
  {
   "cell_type": "code",
   "execution_count": 303,
   "id": "neutral-merchant",
   "metadata": {},
   "outputs": [
    {
     "data": {
      "image/png": "[encoded data removed]",
      "text/plain": [
       "<Figure size 432x288 with 1 Axes>"
      ]
     },
     "metadata": {},
     "output_type": "display_data"
    }
   ],
   "source": [
    "with plt.style.context('ggplot'):\n",
    "    plt.plot(np.sin(np.linspace(0, 2 * np.pi)), 'r-o')\n",
    "plt.show()"
   ]
  },
  {
   "cell_type": "code",
   "execution_count": 307,
   "id": "difficult-prototype",
   "metadata": {},
   "outputs": [
    {
     "name": "stdout",
     "output_type": "stream",
     "text": [
      "Pd:Ru:Bi2Te3_il_3_il_3\n"
     ]
    }
   ],
   "source": [
    "node_55717 = load_node(55717)\n",
    "print(node_55717.label)\n",
    "\n",
    "# node_55717.outputs.last_calc_output_parameters.get_dict()"
   ]
  },
  {
   "cell_type": "code",
   "execution_count": 316,
   "id": "married-wallace",
   "metadata": {},
   "outputs": [
    {
     "ename": "TypeError",
     "evalue": "If only one positional argument given, it must  be a Cycler instance.",
     "output_type": "error",
     "traceback": [
      "\u001b[0;31m---------------------------------------------------------------------------\u001b[0m",
      "\u001b[0;31mTypeError\u001b[0m                                 Traceback (most recent call last)",
      "\u001b[0;32m<ipython-input-316-34f91fe8a027>\u001b[0m in \u001b[0;36m<module>\u001b[0;34m\u001b[0m\n\u001b[1;32m      7\u001b[0m \u001b[0mfig\u001b[0m \u001b[0;34m=\u001b[0m \u001b[0mplt\u001b[0m\u001b[0;34m.\u001b[0m\u001b[0mfigure\u001b[0m\u001b[0;34m(\u001b[0m\u001b[0;34m)\u001b[0m\u001b[0;34m\u001b[0m\u001b[0;34m\u001b[0m\u001b[0m\n\u001b[1;32m      8\u001b[0m \u001b[0max\u001b[0m \u001b[0;34m=\u001b[0m \u001b[0mfig\u001b[0m\u001b[0;34m.\u001b[0m\u001b[0madd_subplot\u001b[0m\u001b[0;34m(\u001b[0m\u001b[0;36m111\u001b[0m\u001b[0;34m)\u001b[0m\u001b[0;34m\u001b[0m\u001b[0;34m\u001b[0m\u001b[0m\n\u001b[0;32m----> 9\u001b[0;31m \u001b[0mcycle\u001b[0m\u001b[0;34m=\u001b[0m \u001b[0mplt\u001b[0m\u001b[0;34m.\u001b[0m\u001b[0mcycler\u001b[0m\u001b[0;34m(\u001b[0m\u001b[0;34m[\u001b[0m\u001b[0mcm\u001b[0m\u001b[0;34m(\u001b[0m\u001b[0;36m1.\u001b[0m\u001b[0;34m*\u001b[0m\u001b[0mi\u001b[0m\u001b[0;34m/\u001b[0m\u001b[0mNUM_COLORS\u001b[0m\u001b[0;34m)\u001b[0m \u001b[0;32mfor\u001b[0m \u001b[0mi\u001b[0m \u001b[0;32min\u001b[0m \u001b[0mrange\u001b[0m\u001b[0;34m(\u001b[0m\u001b[0mNUM_COLORS\u001b[0m\u001b[0;34m)\u001b[0m\u001b[0;34m]\u001b[0m\u001b[0;34m)\u001b[0m\u001b[0;34m\u001b[0m\u001b[0;34m\u001b[0m\u001b[0m\n\u001b[0m\u001b[1;32m     10\u001b[0m \u001b[0max\u001b[0m\u001b[0;34m.\u001b[0m\u001b[0mset_prop_cycle\u001b[0m\u001b[0;34m(\u001b[0m\u001b[0mcycle\u001b[0m\u001b[0;34m)\u001b[0m\u001b[0;34m\u001b[0m\u001b[0;34m\u001b[0m\u001b[0m\n\u001b[1;32m     11\u001b[0m \u001b[0;32mfor\u001b[0m \u001b[0mi\u001b[0m \u001b[0;32min\u001b[0m \u001b[0mrange\u001b[0m\u001b[0;34m(\u001b[0m\u001b[0mNUM_COLORS\u001b[0m\u001b[0;34m)\u001b[0m\u001b[0;34m:\u001b[0m\u001b[0;34m\u001b[0m\u001b[0;34m\u001b[0m\u001b[0m\n",
      "\u001b[0;32m/usr/local/lib/python3.8/dist-packages/cycler.py\u001b[0m in \u001b[0;36mcycler\u001b[0;34m(*args, **kwargs)\u001b[0m\n\u001b[1;32m    512\u001b[0m     \u001b[0;32mif\u001b[0m \u001b[0mlen\u001b[0m\u001b[0;34m(\u001b[0m\u001b[0margs\u001b[0m\u001b[0;34m)\u001b[0m \u001b[0;34m==\u001b[0m \u001b[0;36m1\u001b[0m\u001b[0;34m:\u001b[0m\u001b[0;34m\u001b[0m\u001b[0;34m\u001b[0m\u001b[0m\n\u001b[1;32m    513\u001b[0m         \u001b[0;32mif\u001b[0m \u001b[0;32mnot\u001b[0m \u001b[0misinstance\u001b[0m\u001b[0;34m(\u001b[0m\u001b[0margs\u001b[0m\u001b[0;34m[\u001b[0m\u001b[0;36m0\u001b[0m\u001b[0;34m]\u001b[0m\u001b[0;34m,\u001b[0m \u001b[0mCycler\u001b[0m\u001b[0;34m)\u001b[0m\u001b[0;34m:\u001b[0m\u001b[0;34m\u001b[0m\u001b[0;34m\u001b[0m\u001b[0m\n\u001b[0;32m--> 514\u001b[0;31m             raise TypeError(\"If only one positional argument given, it must \"\n\u001b[0m\u001b[1;32m    515\u001b[0m                             \" be a Cycler instance.\")\n\u001b[1;32m    516\u001b[0m         \u001b[0;32mreturn\u001b[0m \u001b[0mCycler\u001b[0m\u001b[0;34m(\u001b[0m\u001b[0margs\u001b[0m\u001b[0;34m[\u001b[0m\u001b[0;36m0\u001b[0m\u001b[0;34m]\u001b[0m\u001b[0;34m)\u001b[0m\u001b[0;34m\u001b[0m\u001b[0;34m\u001b[0m\u001b[0m\n",
      "\u001b[0;31mTypeError\u001b[0m: If only one positional argument given, it must  be a Cycler instance."
     ]
    },
    {
     "data": {
      "image/png": "[encoded data removed]",
      "text/plain": [
       "<Figure size 432x288 with 1 Axes>"
      ]
     },
     "metadata": {
      "needs_background": "light"
     },
     "output_type": "display_data"
    }
   ],
   "source": [
    "import matplotlib.pyplot as plt\n",
    "import numpy as np\n",
    "\n",
    "NUM_COLORS = 20\n",
    "\n",
    "cm = plt.get_cmap('gist_rainbow')\n",
    "fig = plt.figure()\n",
    "ax = fig.add_subplot(111)\n",
    "cycle= plt.cycler([cm(1.*i/NUM_COLORS) for i in range(NUM_COLORS)])\n",
    "ax.set_prop_cycle(cycle)\n",
    "for i in range(NUM_COLORS):\n",
    "    ax.plot(np.arange(10)*(i+1))\n",
    "\n",
    "fig.savefig('moreColors.png')\n",
    "plt.show()"
   ]
  },
  {
   "cell_type": "code",
   "execution_count": 314,
   "id": "declared-title",
   "metadata": {},
   "outputs": [
    {
     "data": {
      "text/plain": [
       "<function cycler.cycler(*args, **kwargs)>"
      ]
     },
     "execution_count": 314,
     "metadata": {},
     "output_type": "execute_result"
    }
   ],
   "source": [
    "plt.cycler"
   ]
  },
  {
   "cell_type": "code",
   "execution_count": 313,
   "id": "twenty-convergence",
   "metadata": {},
   "outputs": [
    {
     "data": {
      "text/plain": [
       "<matplotlib.colors.LinearSegmentedColormap at 0x7fba73c791c0>"
      ]
     },
     "execution_count": 313,
     "metadata": {},
     "output_type": "execute_result"
    }
   ],
   "source": [
    "cm.c"
   ]
  },
  {
   "cell_type": "code",
   "execution_count": 317,
   "id": "major-accent",
   "metadata": {},
   "outputs": [
    {
     "data": {
      "text/plain": [
       "array([[0.12188609, 0.18114935, 0.68111785, 0.18143835, 0.52516338,\n",
       "        0.70904626],\n",
       "       [0.10687692, 0.56731222, 0.25656278, 0.96292688, 0.48354565,\n",
       "        0.80599255],\n",
       "       [0.55022654, 0.04341253, 0.63315138, 0.95140334, 0.60161182,\n",
       "        0.81918886],\n",
       "       [0.88420646, 0.22807977, 0.21204484, 0.61098099, 0.41102847,\n",
       "        0.8398613 ],\n",
       "       [0.90002312, 0.35342138, 0.23687056, 0.78052552, 0.27480604,\n",
       "        0.82261432]])"
      ]
     },
     "execution_count": 317,
     "metadata": {},
     "output_type": "execute_result"
    }
   ],
   "source": [
    "np.random.random((5, 6))"
   ]
  },
  {
   "cell_type": "code",
   "execution_count": 318,
   "id": "animated-blair",
   "metadata": {},
   "outputs": [
    {
     "data": {
      "text/plain": [
       "'/usr/local/lib/python3.8/dist-packages/matplotlib/mpl-data/matplotlibrc'"
      ]
     },
     "execution_count": 318,
     "metadata": {},
     "output_type": "execute_result"
    }
   ],
   "source": [
    ">>> import matplotlib\n",
    ">>> matplotlib.matplotlib_fname()"
   ]
  },
  {
   "cell_type": "code",
   "execution_count": 324,
   "id": "following-filing",
   "metadata": {},
   "outputs": [],
   "source": [
    "# mpl.rcParams.keys()"
   ]
  },
  {
   "cell_type": "code",
   "execution_count": 15,
   "id": "presidential-legislature",
   "metadata": {},
   "outputs": [
    {
     "name": "stdout",
     "output_type": "stream",
     "text": [
      "Ti:Co:Bi2Te3_il_3_il_4\n"
     ]
    }
   ],
   "source": [
    "node_55717 = load_node(62721)\n",
    "print(node_55717.label)\n",
    "\n",
    "# out_dict= node_55717.outputs.last_calc_output_parameters.get_dict()\n",
    "\n",
    "# print(out_dict['magnetism_group']['spin_moment_per_atom'][0][2])\n",
    "# out_dict"
   ]
  },
  {
   "cell_type": "code",
   "execution_count": 20,
   "id": "pressed-character",
   "metadata": {},
   "outputs": [
    {
     "data": {
      "text/plain": [
       "0"
      ]
     },
     "execution_count": 20,
     "metadata": {},
     "output_type": "execute_result"
    }
   ],
   "source": [
    "node_62167= load_node(62167)\n",
    "node_62167.exit_status"
   ]
  },
  {
   "cell_type": "code",
   "execution_count": 45,
   "id": "greater-trust",
   "metadata": {},
   "outputs": [
    {
     "data": {
      "text/plain": [
       "<matplotlib.colors.ListedColormap at 0x7fdf3ee99f70>"
      ]
     },
     "execution_count": 45,
     "metadata": {},
     "output_type": "execute_result"
    }
   ],
   "source": [
    "import numpy as np\n",
    "import matplotlib.pyplot as plt\n",
    "from matplotlib import cm\n",
    "from matplotlib.colors import ListedColormap, LinearSegmentedColormap\n",
    "\n",
    "viridis = cm.get_cmap('viridis', 8)\n",
    "viridis"
   ]
  },
  {
   "cell_type": "code",
   "execution_count": 42,
   "id": "corrected-jefferson",
   "metadata": {},
   "outputs": [
    {
     "name": "stdout",
     "output_type": "stream",
     "text": [
      "(0.993248, 0.906157, 0.143936, 1.0)\n"
     ]
    }
   ],
   "source": [
    "print(viridis(100))"
   ]
  },
  {
   "cell_type": "code",
   "execution_count": 53,
   "id": "proved-beauty",
   "metadata": {},
   "outputs": [
    {
     "ename": "SyntaxError",
     "evalue": "invalid syntax (<ipython-input-53-1bd995d9f9c9>, line 1)",
     "output_type": "error",
     "traceback": [
      "\u001b[0;36m  File \u001b[0;32m\"<ipython-input-53-1bd995d9f9c9>\"\u001b[0;36m, line \u001b[0;32m1\u001b[0m\n\u001b[0;31m    Hi, Good morning!\u001b[0m\n\u001b[0m             ^\u001b[0m\n\u001b[0;31mSyntaxError\u001b[0m\u001b[0;31m:\u001b[0m invalid syntax\n"
     ]
    }
   ],
   "source": [
    "Hi, Good morning!\n",
    "After shutdown the `iffaiida.iff.kfa-juelich.de` server (`with image:develop`) and relaunching again I get some weird respomse from the iffaiidaserver.\n",
    "1. With the same aiida_submission script somtimes aiida unable to submit it to the cluster.\n",
    "2. In another cases, with same submission script, it seems that it is unable to call different python files if aiida-kkr with the error massage\n",
    "\n",
    "```\n",
    " File \"/opt/masci-tools/masci_tools/io/kkr_params.py\", line 1797, in get_missing_keys\n",
    "    setlist = list(dict(self.get_set_values()).keys())\n",
    "  File \"/opt/masci-tools/masci_tools/io/kkr_params.py\", line 1005, in get_set_values\n",
    "    print('No values set')\n",
    "BrokenPipeError: [Errno 32] Broken pipe\n",
    "```\n",
    "or\n",
    "```\n",
    "    \n",
    "|   File \"/opt/aiida-kkr/aiida_kkr/calculations/kkr.py\", line 332, in prepare_for_submission\n",
    " |     print('Write scoef from imp_cls input!', len(imp_info.get_dict().get('imp_cls')))\n",
    " | BrokenPipeError: [Errno 32] Broken pipe\n",
    "```\n"
   ]
  },
  {
   "cell_type": "code",
   "execution_count": null,
   "id": "medieval-nigeria",
   "metadata": {},
   "outputs": [],
   "source": []
  }
 ],
 "metadata": {
  "kernelspec": {
   "display_name": "AiiDA",
   "language": "python",
   "name": "aiida"
  },
  "language_info": {
   "codemirror_mode": {
    "name": "ipython",
    "version": 3
   },
   "file_extension": ".py",
   "mimetype": "text/x-python",
   "name": "python",
   "nbconvert_exporter": "python",
   "pygments_lexer": "ipython3",
   "version": "3.8.5"
  }
 },
 "nbformat": 4,
 "nbformat_minor": 5
}
