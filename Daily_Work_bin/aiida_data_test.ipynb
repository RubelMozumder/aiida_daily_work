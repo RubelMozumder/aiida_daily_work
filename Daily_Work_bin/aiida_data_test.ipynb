{
 "cells": [
  {
   "cell_type": "code",
   "execution_count": 318,
   "id": "assured-organ",
   "metadata": {},
   "outputs": [
    {
     "name": "stdout",
     "output_type": "stream",
     "text": [
      "profile name :  default\n",
      "profile database host name :  localhost\n",
      "default user :  r.mozumder@fz-juelich.de\n"
     ]
    }
   ],
   "source": [
    "#load aiida environment and connect to database\n",
    "from aiida import load_profile\n",
    "from aiida.orm import computers\n",
    "profile = load_profile()\n",
    "print('profile name : ',profile.name)\n",
    "print('profile database host name : ',profile.database_hostname)\n",
    "print('default user : ',profile.default_user)"
   ]
  },
  {
   "cell_type": "code",
   "execution_count": 319,
   "id": "written-alignment",
   "metadata": {},
   "outputs": [],
   "source": [
    "# load classes and functions\n",
    "from aiida.orm import CifData, Code, Dict, load_node, StructureData \n",
    "from aiida.orm import (Group, load_group, load_node, load_code, groups,\n",
    "                      WorkChainNode, QueryBuilder, CalcJobNode)\n",
    "from aiida.engine import submit\n",
    "from aiida.common.exceptions import NotExistent\n",
    "from aiida_kkr.workflows import kkr_imp_sub_wc, kkr_imp_dos, kkr_imp_wc, kkr_startpot_wc, combine_imps_wc\n",
    "import numpy as np\n",
    "from aiida_kkr.calculations import KkrimpCalculation, VoronoiCalculation\n",
    "import matplotlib.pyplot as plt\n",
    "from aiida_kkr.tools.common_workfunctions import get_username"
   ]
  },
  {
   "cell_type": "code",
   "execution_count": 320,
   "id": "popular-silly",
   "metadata": {},
   "outputs": [
    {
     "data": {
      "text/plain": [
       "<StructureData: uuid: c1626804-5b71-450c-91c4-aa7197d85279 (pk: 234)>"
      ]
     },
     "execution_count": 320,
     "metadata": {},
     "output_type": "execute_result"
    }
   ],
   "source": [
    "from __future__ import print_function\n",
    "from __future__ import division\n",
    "from __future__ import absolute_import\n",
    "from __future__ import unicode_literals\n",
    "from builtins import object, str\n",
    "from six.moves import range\n",
    "from six.moves import input\n",
    "from masci_tools.io.common_functions import open_general\n",
    "from masci_tools.io.common_functions import search_string\n",
    "import numpy as np\n",
    "from masci_tools.io.common_functions import get_alat_from_bravais\n",
    "from masci_tools.io.common_functions import vec_to_angles\n",
    "from aiida.common.constants import elements as PeriodicTableElements\n",
    "_atomic_numbers = {data['symbol']:num for num,\n",
    "                data in PeriodicTableElements.items()}\n",
    "load_stuc = load_node(234)\n",
    "load_stuc"
   ]
  },
  {
   "cell_type": "code",
   "execution_count": 150,
   "id": "expired-ottawa",
   "metadata": {},
   "outputs": [
    {
     "ename": "SyntaxError",
     "evalue": "invalid syntax (<ipython-input-150-9dca4e44ca7d>, line 3)",
     "output_type": "error",
     "traceback": [
      "\u001b[0;36m  File \u001b[0;32m\"<ipython-input-150-9dca4e44ca7d>\"\u001b[0;36m, line \u001b[0;32m3\u001b[0m\n\u001b[0;31m    node_16215.outputs.\u001b[0m\n\u001b[0m                       ^\u001b[0m\n\u001b[0;31mSyntaxError\u001b[0m\u001b[0;31m:\u001b[0m invalid syntax\n"
     ]
    }
   ],
   "source": [
    "node_16215 = load_node(16215)\n",
    "node_16100 = load_node(16100)\n",
    "# node_16215.outputs.\n",
    "# node_16100.outputs.workflow_info.pk"
   ]
  },
  {
   "cell_type": "code",
   "execution_count": null,
   "id": "declared-football",
   "metadata": {},
   "outputs": [],
   "source": [
    "# imp_dos_group = load_group(72)\n",
    "\n",
    "plt.figure()\n",
    "for i, imp_dos in enumerate(imp_dos_group.nodes[2:4]):\n",
    "    # plot the contribution of the total impurity cluster into the background\n",
    "    # we scale this down by 0.5 to have copatible y-scales\n",
    "    plot_kkr(imp_dos, l_channels=False, strucplot=False, silent=True, label=None,\n",
    "             noshow=True, nofig=True, color='C'+str(i),\n",
    "             filled=True, alpha=0.3, yscale=0.5, lw=3\n",
    "            )\n",
    "    # highlight the contibution of the impurity (iatom=0)\n",
    "    plot_kkr(imp_dos, l_channels=False, strucplot=False, silent=True, label=imp_dos.label,\n",
    "             noshow=True, nofig=True, color='C'+str(i),\n",
    "             lw=3, iatom=0, \n",
    "            )\n",
    "plt.legend(loc=2, fontsize='large')\n",
    "plt.title('')\n",
    "plt.show()"
   ]
  },
  {
   "cell_type": "code",
   "execution_count": null,
   "id": "dated-collect",
   "metadata": {},
   "outputs": [],
   "source": [
    "# imp_dos_group = load_group(72)\n",
    "\n",
    "plt.figure()\n",
    "for i, imp_dos in enumerate(imp_dos_group.nodes[2:4]):\n",
    "    # plot the contribution of the total impurity cluster into the background\n",
    "    # we scale this down by 0.5 to have copatible y-scales\n",
    "    plot_kkr(imp_dos, l_channels=False, strucplot=False, silent=True, label=None,\n",
    "             noshow=True, nofig=True, color='C'+str(i),\n",
    "             filled=True, alpha=0.3, yscale=0.5, lw=3\n",
    "            )\n",
    "#     # highlight the contibution of the impurity (iatom=0)\n",
    "#     plot_kkr(imp_dos, l_channels=False, strucplot=False, silent=True, label=imp_dos.label,\n",
    "#              noshow=True, nofig=True, color='C'+str(i),\n",
    "#              lw=3, iatom=0, \n",
    "#             )\n",
    "plt.legend(loc=2, fontsize='large')\n",
    "plt.title('')\n",
    "plt.show()"
   ]
  },
  {
   "cell_type": "code",
   "execution_count": 138,
   "id": "eleven-fiber",
   "metadata": {},
   "outputs": [
    {
     "name": "stderr",
     "output_type": "stream",
     "text": [
      "No handles with labels found to put in legend.\n"
     ]
    },
    {
     "data": {
      "image/png": "[encoded data removed]",
      "text/plain": [
       "<Figure size 432x288 with 1 Axes>"
      ]
     },
     "metadata": {
      "needs_background": "light"
     },
     "output_type": "display_data"
    }
   ],
   "source": [
    "plt.figure()\n",
    "for i, imp_dos in enumerate(imp_dos_group.nodes[3:4]):\n",
    "    # plot the contribution of the total impurity cluster into the background\n",
    "    # we scale this down by 0.5 to have copatible y-scales\n",
    "    plot_kkr(imp_dos, l_channels=False, strucplot=False, silent=True, label=None,\n",
    "             noshow=True, nofig=True, color='C'+str(i),\n",
    "             filled=True, alpha=0.3, yscale=0.5, lw=3\n",
    "            )\n",
    "    # highlight the contibution of the impurity (iatom=0)\n",
    "    plot_kkr(imp_dos, l_channels=False, strucplot=False, silent=True, label=imp_dos.label,\n",
    "             noshow=True, nofig=True, color='C'+str(i),\n",
    "             lw=3, iatom=0, \n",
    "            )\n",
    "plt.legend(loc=2, fontsize='large')\n",
    "plt.title('')\n",
    "plt.show()"
   ]
  },
  {
   "cell_type": "code",
   "execution_count": 139,
   "id": "pregnant-netscape",
   "metadata": {},
   "outputs": [
    {
     "data": {
      "text/plain": [
       "<aiida_kkr.tools.plot_kkr.plot_kkr at 0x7fe86f044640>"
      ]
     },
     "execution_count": 139,
     "metadata": {},
     "output_type": "execute_result"
    },
    {
     "data": {
      "image/png": "[encoded data removed]",
      "text/plain": [
       "<Figure size 432x288 with 1 Axes>"
      ]
     },
     "metadata": {
      "needs_background": "light"
     },
     "output_type": "display_data"
    }
   ],
   "source": [
    " plot_kkr(imp_dos, l_channels=False, strucplot=False, silent=True, label=imp_dos.label,\n",
    "             noshow=True, nofig=True, color='C'+str(i),\n",
    "             lw=3, iatom=0,all_atoms= False, sum_spins= True,)"
   ]
  },
  {
   "cell_type": "code",
   "execution_count": 140,
   "id": "effective-museum",
   "metadata": {},
   "outputs": [],
   "source": [
    "#imp_kkr_wc = 10085\n",
    "imp_out = load_node(11948)\n",
    "# kkrimp_calc = imp_out.outputs.last_calc_output_parameters.get_incoming(KkrimpCalculation).all()\n",
    "# imp_info = imp_out.outputs.workflow_info.get_incoming(link_label_filter='workflow_info').all()\n",
    "# # print(imp_info[0].node)\n",
    "# print(kkrimp_calc[0].node)\n",
    "ldau_test = imp_out.outputs.workflow_info.get_dict()\n",
    "# ldau_test"
   ]
  },
  {
   "cell_type": "code",
   "execution_count": null,
   "id": "complete-spiritual",
   "metadata": {},
   "outputs": [],
   "source": []
  },
  {
   "cell_type": "code",
   "execution_count": 274,
   "id": "creative-envelope",
   "metadata": {},
   "outputs": [
    {
     "name": "stdout",
     "output_type": "stream",
     "text": [
      "ok\n"
     ]
    }
   ],
   "source": [
    "kkr = None\n",
    "if kkr == None:\n",
    "    print('ok')"
   ]
  },
  {
   "cell_type": "code",
   "execution_count": null,
   "id": "saving-campus",
   "metadata": {},
   "outputs": [],
   "source": []
  },
  {
   "cell_type": "code",
   "execution_count": null,
   "id": "funny-personality",
   "metadata": {},
   "outputs": [],
   "source": []
  },
  {
   "cell_type": "code",
   "execution_count": 261,
   "id": "working-profit",
   "metadata": {},
   "outputs": [
    {
     "name": "stdout",
     "output_type": "stream",
     "text": [
      "Group as named imp_embedded_Au_by_wasmer is already stored, so no need to create the group\n",
      "39\n"
     ]
    }
   ],
   "source": [
    "####### NOTE: If this csucessful then please add it into the 'tools_development' ipynb\n",
    "## In this part the node has been collected to store in new group only considering the kkr_imp_wc node\n",
    "group_wasmer = load_group(83)\n",
    "# node_label\n",
    "debug= False\n",
    "wasmer_grp_list = list(group_wasmer.nodes)\n",
    "group_label = 'imp_embedded_Au_by_wasmer'\n",
    "try:\n",
    "    new_grp = load_group(node_label)\n",
    "    print('Group as named %s is already stored, so no need to create the group'%(node_label))\n",
    "except:\n",
    "    new_grp = Group(label=group_label)\n",
    "    new_grp.store()\n",
    "    print(' A new node created as named %s' %node_label)\n",
    "new_grp_list = list(new_grp.nodes)\n",
    "i=0\n",
    "imp_wc_no = 0\n",
    "for index in range(len(wasmer_grp_list)):\n",
    "    node = wasmer_grp_list[index]\n",
    "    if node.node_type.split('.')[-2]=='WorkChainNode':\n",
    "        if (u'kkr_imp_wc' == node.process_label):\n",
    "            imp_wc_no += 1\n",
    "            if node in new_grp_list[:]:\n",
    "                print('node {} is already exist'.format(node.pk))\n",
    "            else:\n",
    "                new_grp.add_nodes(node)\n",
    "            if debug:\n",
    "                print(node.process_label)\n",
    "                print('pk: %7d'%node.pk)\n",
    "                print(wasmer_grp_list[i])\n",
    "                print(node.label)\n",
    "                \n",
    "                        \n",
    "        \n",
    "\n",
    "print(imp_wc_no)"
   ]
  },
  {
   "cell_type": "code",
   "execution_count": 46,
   "id": "fresh-attendance",
   "metadata": {},
   "outputs": [
    {
     "data": {
      "text/plain": [
       "{'hfield': [0.02, 5],\n",
       " 'nsteps': 100,\n",
       " 'strmix': 0.005,\n",
       " 'aggrmix': 0.05,\n",
       " 'init_pos': None,\n",
       " 'mag_init': False,\n",
       " 'mixreduce': 0.5,\n",
       " 'kkr_runmax': 7,\n",
       " 'aggressive_mix': 5,\n",
       " 'broyden-number': 60,\n",
       " 'accuracy_params': {'NCHEB': None,\n",
       "  'NPAN_EQ': None,\n",
       "  'NPAN_LOG': None,\n",
       "  'RADIUS_LOGPANELS': None},\n",
       " 'convergence_criterion': 1e-07,\n",
       " 'threshold_aggressive_mixing': 0.02,\n",
       " 'threshold_switch_high_accuracy': 0.01}"
      ]
     },
     "execution_count": 46,
     "metadata": {},
     "output_type": "execute_result"
    }
   ],
   "source": [
    "node_20370 = load_node(21245)\n",
    "node_20370.inputs.wf_parameters.get_dict()"
   ]
  },
  {
   "cell_type": "code",
   "execution_count": 51,
   "id": "outside-hours",
   "metadata": {},
   "outputs": [],
   "source": [
    "node_20365 = load_node(21250)\n",
    "# node_20365.outputs.output_parameters.get_dict()['convergence_group']"
   ]
  },
  {
   "cell_type": "code",
   "execution_count": 52,
   "id": "announced-swift",
   "metadata": {},
   "outputs": [
    {
     "data": {
      "text/plain": [
       "{'XC': None,\n",
       " 'INS': 1,\n",
       " 'ICST': None,\n",
       " 'IMIX': 0,\n",
       " 'KVREL': None,\n",
       " 'NCHEB': None,\n",
       " 'NCOLL': 1,\n",
       " 'NSPIN': 2,\n",
       " 'BRYMIX': None,\n",
       " 'HFIELD': [0.0, 0],\n",
       " 'ITDBRY': None,\n",
       " 'MIXFAC': 0.005,\n",
       " 'QBOUND': 0.02,\n",
       " 'NPAN_EQ': None,\n",
       " 'RUNFLAG': None,\n",
       " 'IMIXSPIN': None,\n",
       " 'NPAN_LOG': None,\n",
       " 'SCFSTEPS': 100,\n",
       " 'TESTFLAG': ['tmatnew'],\n",
       " 'CALCFORCE': None,\n",
       " 'SPINORBIT': 1,\n",
       " 'CALCJIJMAT': None,\n",
       " 'RADIUS_MIN': None,\n",
       " 'QBOUND_LDAU': None,\n",
       " 'NSIMPLEMIXFIRST': None,\n",
       " 'NPAN_LOGPANELFAC': None,\n",
       " 'RADIUS_LOGPANELS': None,\n",
       " 'CALCORBITALMOMENT': 1}"
      ]
     },
     "execution_count": 52,
     "metadata": {},
     "output_type": "execute_result"
    }
   ],
   "source": [
    "wc = load_node(21250)\n",
    "wc.inputs.parameters.get_dict()"
   ]
  },
  {
   "cell_type": "code",
   "execution_count": 53,
   "id": "played-prophet",
   "metadata": {},
   "outputs": [
    {
     "data": {
      "text/plain": [
       "{'XC': None,\n",
       " 'INS': 1,\n",
       " 'ICST': None,\n",
       " 'IMIX': 5,\n",
       " 'KVREL': None,\n",
       " 'NCHEB': None,\n",
       " 'NCOLL': 1,\n",
       " 'NSPIN': 2,\n",
       " 'BRYMIX': None,\n",
       " 'HFIELD': [0.0, 0],\n",
       " 'ITDBRY': 60,\n",
       " 'MIXFAC': 0.05,\n",
       " 'QBOUND': 1e-07,\n",
       " 'NPAN_EQ': None,\n",
       " 'RUNFLAG': None,\n",
       " 'IMIXSPIN': None,\n",
       " 'NPAN_LOG': None,\n",
       " 'SCFSTEPS': 100,\n",
       " 'TESTFLAG': ['tmatnew'],\n",
       " 'CALCFORCE': None,\n",
       " 'SPINORBIT': 1,\n",
       " 'CALCJIJMAT': None,\n",
       " 'RADIUS_MIN': None,\n",
       " 'QBOUND_LDAU': None,\n",
       " 'NSIMPLEMIXFIRST': 0,\n",
       " 'NPAN_LOGPANELFAC': None,\n",
       " 'RADIUS_LOGPANELS': None,\n",
       " 'CALCORBITALMOMENT': 1}"
      ]
     },
     "execution_count": 53,
     "metadata": {},
     "output_type": "execute_result"
    }
   ],
   "source": [
    "wc = load_node(21257)\n",
    "wc.inputs.parameters.get_dict()"
   ]
  },
  {
   "cell_type": "code",
   "execution_count": 29,
   "id": "adjusted-designer",
   "metadata": {},
   "outputs": [
    {
     "data": {
      "text/plain": [
       "{'hfield': [0.02, 5],\n",
       " 'nsteps': 300,\n",
       " 'strmix': 1e-05,\n",
       " 'aggrmix': 0.05,\n",
       " 'init_pos': None,\n",
       " 'mag_init': False,\n",
       " 'mixreduce': 0.5,\n",
       " 'kkr_runmax': 5,\n",
       " 'aggressive_mix': 5,\n",
       " 'broyden-number': 20,\n",
       " 'accuracy_params': {'NCHEB': None,\n",
       "  'NPAN_EQ': None,\n",
       "  'NPAN_LOG': None,\n",
       "  'RADIUS_LOGPANELS': None},\n",
       " 'convergence_criterion': 1e-07,\n",
       " 'threshold_aggressive_mixing': 0.005,\n",
       " 'threshold_switch_high_accuracy': 0.01}"
      ]
     },
     "execution_count": 29,
     "metadata": {},
     "output_type": "execute_result"
    }
   ],
   "source": [
    "node_20688 = load_node(20688) # kkr_imp_sub_w\n",
    "node_20693 = load_node(20693)# calc job\n",
    "node_20688.inputs.wf_parameters.get_dict()"
   ]
  },
  {
   "cell_type": "code",
   "execution_count": 30,
   "id": "genetic-ethiopia",
   "metadata": {},
   "outputs": [
    {
     "data": {
      "text/plain": [
       "{'XC': None,\n",
       " 'INS': 1,\n",
       " 'ICST': None,\n",
       " 'IMIX': 0,\n",
       " 'KVREL': None,\n",
       " 'NCHEB': None,\n",
       " 'NCOLL': 1,\n",
       " 'NSPIN': 2,\n",
       " 'BRYMIX': None,\n",
       " 'HFIELD': [0.0, 0],\n",
       " 'ITDBRY': None,\n",
       " 'MIXFAC': 1e-05,\n",
       " 'QBOUND': 0.005,\n",
       " 'NPAN_EQ': None,\n",
       " 'RUNFLAG': None,\n",
       " 'IMIXSPIN': None,\n",
       " 'NPAN_LOG': None,\n",
       " 'SCFSTEPS': 300,\n",
       " 'TESTFLAG': ['tmatnew'],\n",
       " 'CALCFORCE': None,\n",
       " 'SPINORBIT': 1,\n",
       " 'CALCJIJMAT': None,\n",
       " 'RADIUS_MIN': None,\n",
       " 'QBOUND_LDAU': None,\n",
       " 'NSIMPLEMIXFIRST': None,\n",
       " 'NPAN_LOGPANELFAC': None,\n",
       " 'RADIUS_LOGPANELS': None,\n",
       " 'CALCORBITALMOMENT': 1}"
      ]
     },
     "execution_count": 30,
     "metadata": {},
     "output_type": "execute_result"
    }
   ],
   "source": [
    "\n",
    "node_20693.inputs.parameters.get_dict()"
   ]
  },
  {
   "cell_type": "code",
   "execution_count": null,
   "id": "informative-policy",
   "metadata": {},
   "outputs": [],
   "source": []
  },
  {
   "cell_type": "code",
   "execution_count": null,
   "id": "arranged-section",
   "metadata": {},
   "outputs": [],
   "source": []
  },
  {
   "cell_type": "code",
   "execution_count": 70,
   "id": "valid-cheese",
   "metadata": {},
   "outputs": [
    {
     "data": {
      "text/plain": [
       "<Computer: claix18_init (localhost), pk: 2>"
      ]
     },
     "execution_count": 70,
     "metadata": {},
     "output_type": "execute_result"
    }
   ],
   "source": [
    "node_20331 = load_node(20331)\n"
   ]
  },
  {
   "cell_type": "code",
   "execution_count": 63,
   "id": "assured-privacy",
   "metadata": {},
   "outputs": [],
   "source": [
    "path = node_20331.get_remote_workdir()\n",
    "new_path = path.replace('/'+path.split('/')[-1], '')\n"
   ]
  },
  {
   "cell_type": "code",
   "execution_count": 139,
   "id": "prostate-attempt",
   "metadata": {},
   "outputs": [
    {
     "data": {
      "text/plain": [
       "'/rwthfs/rz/cluster/work/jara0191/ck142666/aiida/computers/claix18_init/43/38/b73e-af13-4035-aa57-efd943dea5fd'"
      ]
     },
     "execution_count": 139,
     "metadata": {},
     "output_type": "execute_result"
    }
   ],
   "source": [
    "path #'/rwthfs/rz/cluster/work/jara0191/ck142666/aiida/computers/claix18_init/43/38/b73e-af13-4035-aa57-efd943dea5fd\n"
   ]
  },
  {
   "cell_type": "code",
   "execution_count": 64,
   "id": "wanted-reason",
   "metadata": {},
   "outputs": [
    {
     "data": {
      "text/plain": [
       "'/rwthfs/rz/cluster/work/jara0191/ck142666/aiida/computers/claix18_init/43/38'"
      ]
     },
     "execution_count": 64,
     "metadata": {},
     "output_type": "execute_result"
    }
   ],
   "source": [
    "new_path"
   ]
  },
  {
   "cell_type": "code",
   "execution_count": 141,
   "id": "fantastic-vessel",
   "metadata": {},
   "outputs": [
    {
     "data": {
      "text/plain": [
       "True"
      ]
     },
     "execution_count": 141,
     "metadata": {},
     "output_type": "execute_result"
    }
   ],
   "source": [
    "from aiida.orm import computers\n",
    "\n",
    "computer = node_20331.computer\n",
    "computer_name = computer.label\n",
    "computer_dir = computer.get_workdir()\n",
    "conection_to_computer = computer.get_transport()\n",
    "from aiida.manage.database.delete.nodes import delete_nodes\n",
    "\n",
    "conection_to_computer.open()\n",
    "conection_to_computer.is_open\n",
    "\n",
    "conection_to_computer.rmtree(new_path)\n",
    "#https://aiida.readthedocs.io/projects/aiida-core/en/v1.5.0/_modules/aiida/manage/database/delete/nodes.html\n",
    "\n",
    "# node_20354 = load_node(16152)"
   ]
  },
  {
   "cell_type": "raw",
   "id": "whole-nigeria",
   "metadata": {},
   "source": [
    "node_20354 = load_node(20469)"
   ]
  },
  {
   "cell_type": "code",
   "execution_count": 138,
   "id": "tired-collect",
   "metadata": {},
   "outputs": [
    {
     "data": {
      "text/plain": [
       "{'XC': None,\n",
       " 'INS': 1,\n",
       " 'ICST': None,\n",
       " 'IMIX': 0,\n",
       " 'KVREL': None,\n",
       " 'NCHEB': None,\n",
       " 'NCOLL': 1,\n",
       " 'NSPIN': 2,\n",
       " 'BRYMIX': None,\n",
       " 'HFIELD': [0.0, 0],\n",
       " 'ITDBRY': None,\n",
       " 'MIXFAC': 0.02,\n",
       " 'QBOUND': 0.5,\n",
       " 'NPAN_EQ': None,\n",
       " 'RUNFLAG': None,\n",
       " 'IMIXSPIN': None,\n",
       " 'NPAN_LOG': None,\n",
       " 'SCFSTEPS': 300,\n",
       " 'TESTFLAG': ['tmatnew'],\n",
       " 'CALCFORCE': None,\n",
       " 'SPINORBIT': 1,\n",
       " 'CALCJIJMAT': None,\n",
       " 'RADIUS_MIN': None,\n",
       " 'QBOUND_LDAU': None,\n",
       " 'NSIMPLEMIXFIRST': None,\n",
       " 'NPAN_LOGPANELFAC': None,\n",
       " 'RADIUS_LOGPANELS': None,\n",
       " 'CALCORBITALMOMENT': 1}"
      ]
     },
     "execution_count": 138,
     "metadata": {},
     "output_type": "execute_result"
    }
   ],
   "source": [
    "node_20354 = load_node(20531)\n",
    "dict_1 = node_20354.inputs.parameters.get_dict()\n",
    "dict_1"
   ]
  },
  {
   "cell_type": "code",
   "execution_count": 131,
   "id": "welsh-council",
   "metadata": {},
   "outputs": [
    {
     "data": {
      "text/plain": [
       "{'XC': None,\n",
       " 'INS': 1,\n",
       " 'ICST': None,\n",
       " 'IMIX': 5,\n",
       " 'KVREL': None,\n",
       " 'NCHEB': None,\n",
       " 'NCOLL': 1,\n",
       " 'NSPIN': 2,\n",
       " 'BRYMIX': None,\n",
       " 'HFIELD': [0.0, 0],\n",
       " 'ITDBRY': 20,\n",
       " 'MIXFAC': 0.05,\n",
       " 'QBOUND': 1e-07,\n",
       " 'NPAN_EQ': None,\n",
       " 'RUNFLAG': None,\n",
       " 'IMIXSPIN': None,\n",
       " 'NPAN_LOG': None,\n",
       " 'SCFSTEPS': 300,\n",
       " 'TESTFLAG': ['tmatnew'],\n",
       " 'CALCFORCE': None,\n",
       " 'SPINORBIT': 1,\n",
       " 'CALCJIJMAT': None,\n",
       " 'RADIUS_MIN': None,\n",
       " 'QBOUND_LDAU': None,\n",
       " 'NSIMPLEMIXFIRST': 0,\n",
       " 'NPAN_LOGPANELFAC': None,\n",
       " 'RADIUS_LOGPANELS': None,\n",
       " 'CALCORBITALMOMENT': 1}"
      ]
     },
     "execution_count": 131,
     "metadata": {},
     "output_type": "execute_result"
    }
   ],
   "source": [
    "node_20354 = load_node(16492)\n",
    "dict_1 = node_20354.inputs.parameters.get_dict()\n",
    "dict_1"
   ]
  },
  {
   "cell_type": "code",
   "execution_count": 10,
   "id": "champion-pitch",
   "metadata": {},
   "outputs": [
    {
     "data": {
      "text/plain": [
       "{'lmdos': False,\n",
       " 'hfield': [0.02, 5],\n",
       " 'nsteps': 300,\n",
       " 'strmix': 0.005,\n",
       " 'aggrmix': 0.05,\n",
       " 'jij_run': True,\n",
       " 'init_pos': None,\n",
       " 'mag_init': False,\n",
       " 'mixreduce': 0.5,\n",
       " 'kkr_runmax': 5,\n",
       " 'aggressive_mix': 5,\n",
       " 'broyden-number': 20,\n",
       " 'accuracy_params': {'NCHEB': None,\n",
       "  'NPAN_EQ': None,\n",
       "  'NPAN_LOG': None,\n",
       "  'RADIUS_LOGPANELS': None},\n",
       " 'convergence_criterion': 1e-07,\n",
       " 'threshold_aggressive_mixing': 0.05}"
      ]
     },
     "execution_count": 10,
     "metadata": {},
     "output_type": "execute_result"
    }
   ],
   "source": [
    "node_20464 = load_node(20560)\n",
    "param = node_20464.inputs.wf_parameters.get_dict()\n",
    "param"
   ]
  },
  {
   "cell_type": "code",
   "execution_count": null,
   "id": "female-happening",
   "metadata": {},
   "outputs": [],
   "source": []
  },
  {
   "cell_type": "code",
   "execution_count": 13,
   "id": "decreased-washer",
   "metadata": {},
   "outputs": [
    {
     "data": {
      "text/plain": [
       "{'hfield': [0.02, 5],\n",
       " 'nsteps': 300,\n",
       " 'strmix': 0.0001,\n",
       " 'aggrmix': 0.05,\n",
       " 'init_pos': None,\n",
       " 'mag_init': False,\n",
       " 'mixreduce': 0.5,\n",
       " 'kkr_runmax': 5,\n",
       " 'aggressive_mix': 5,\n",
       " 'broyden-number': 20,\n",
       " 'accuracy_params': {'NCHEB': None,\n",
       "  'NPAN_EQ': None,\n",
       "  'NPAN_LOG': None,\n",
       "  'RADIUS_LOGPANELS': None},\n",
       " 'convergence_criterion': 1e-07,\n",
       " 'threshold_aggressive_mixing': 0.05}"
      ]
     },
     "execution_count": 13,
     "metadata": {},
     "output_type": "execute_result"
    }
   ],
   "source": [
    "node_20464 = load_node(20595)\n",
    "param = node_20464.inputs.wf_parameters.get_dict()\n",
    "param"
   ]
  },
  {
   "cell_type": "code",
   "execution_count": 99,
   "id": "particular-reliance",
   "metadata": {},
   "outputs": [
    {
     "data": {
      "text/plain": [
       "<Dict: uuid: 8f37b695-b583-4ba6-ae58-4e3b6e9b8c79 (pk: 16198)>"
      ]
     },
     "execution_count": 99,
     "metadata": {},
     "output_type": "execute_result"
    }
   ],
   "source": [
    "node_20464 = load_node(16336)\n",
    "param = node_20464.inputs.wf_parameters\n",
    "param"
   ]
  },
  {
   "cell_type": "code",
   "execution_count": 105,
   "id": "proved-malpractice",
   "metadata": {},
   "outputs": [
    {
     "data": {
      "text/plain": [
       "{'XC': None,\n",
       " 'INS': 1,\n",
       " 'ICST': None,\n",
       " 'IMIX': 5,\n",
       " 'KVREL': None,\n",
       " 'NCHEB': None,\n",
       " 'NCOLL': 1,\n",
       " 'NSPIN': 2,\n",
       " 'BRYMIX': None,\n",
       " 'HFIELD': [0.0, 0],\n",
       " 'ITDBRY': 60,\n",
       " 'MIXFAC': 0.008,\n",
       " 'QBOUND': 1e-07,\n",
       " 'NPAN_EQ': None,\n",
       " 'RUNFLAG': None,\n",
       " 'IMIXSPIN': None,\n",
       " 'NPAN_LOG': None,\n",
       " 'SCFSTEPS': 100,\n",
       " 'TESTFLAG': ['tmatnew'],\n",
       " 'CALCFORCE': None,\n",
       " 'SPINORBIT': 1,\n",
       " 'CALCJIJMAT': None,\n",
       " 'RADIUS_MIN': None,\n",
       " 'QBOUND_LDAU': None,\n",
       " 'NSIMPLEMIXFIRST': 0,\n",
       " 'NPAN_LOGPANELFAC': None,\n",
       " 'RADIUS_LOGPANELS': None,\n",
       " 'CALCORBITALMOMENT': 1}"
      ]
     },
     "execution_count": 105,
     "metadata": {},
     "output_type": "execute_result"
    }
   ],
   "source": [
    "kkr_flex_node = load_node(22253)\n",
    "kkr_flex_node.inputs.parameters.get_dict()"
   ]
  },
  {
   "cell_type": "code",
   "execution_count": null,
   "id": "exotic-developer",
   "metadata": {},
   "outputs": [],
   "source": [
    "{'XC': None,\n",
    " 'INS': 1,\n",
    " 'ICST': None,\n",
    " 'IMIX': 5,\n",
    " 'KVREL': None,\n",
    " 'NCHEB': None,\n",
    " 'NCOLL': 1,\n",
    " 'NSPIN': 2,\n",
    " 'BRYMIX': None,\n",
    " 'HFIELD': [0.0, 0],\n",
    " 'ITDBRY': 60,\n",
    " 'MIXFAC': 0.008,\n",
    " 'QBOUND': 1e-07,\n",
    " 'NPAN_EQ': None,\n",
    " 'RUNFLAG': None,\n",
    " 'IMIXSPIN': None,\n",
    " 'NPAN_LOG': None,\n",
    " 'SCFSTEPS': 100,\n",
    " 'TESTFLAG': ['tmatnew'],\n",
    " 'CALCFORCE': None,\n",
    " 'SPINORBIT': 1,\n",
    " 'CALCJIJMAT': None,\n",
    " 'RADIUS_MIN': None,\n",
    " 'QBOUND_LDAU': None,\n",
    " 'NSIMPLEMIXFIRST': 0,\n",
    " 'NPAN_LOGPANELFAC': None,\n",
    " 'RADIUS_LOGPANELS': None,\n",
    " 'CALCORBITALMOMENT': 1}"
   ]
  },
  {
   "cell_type": "code",
   "execution_count": 106,
   "id": "handy-printing",
   "metadata": {},
   "outputs": [
    {
     "data": {
      "text/plain": [
       "[['NSPIN', 2],\n",
       " ['HFIELD', [0.0, 0]],\n",
       " ['INS', 1],\n",
       " ['NCOLL', 1],\n",
       " ['SPINORBIT', 1],\n",
       " ['SCFSTEPS', 100],\n",
       " ['IMIX', 5],\n",
       " ['MIXFAC', 0.008],\n",
       " ['ITDBRY', 60],\n",
       " ['QBOUND', 1e-07],\n",
       " ['NSIMPLEMIXFIRST', 0],\n",
       " ['TESTFLAG', ['tmatnew']],\n",
       " ['CALCORBITALMOMENT', 1]]"
      ]
     },
     "execution_count": 106,
     "metadata": {},
     "output_type": "execute_result"
    }
   ],
   "source": [
    "# This is for kkrimpcalc step-1\n",
    "[['NSPIN', 2], ['HFIELD', [0.0, 0]], ['INS', 1], ['NCOLL', 1], ['SPINORBIT', 1], ['SCFSTEPS', 100], ['IMIX', 0], ['MIXFAC', 0.001], ['QBOUND', 0.008], ['TESTFLAG', ['tmatnew']], ['CALCORBITALMOMENT', 1]]\n",
    "[['NSPIN', 2], ['HFIELD', [0.02, 5]], ['INS', 1], ['NCOLL', 1], ['SPINORBIT', 1], ['SCFSTEPS', 300], ['IMIX', 0], ['MIXFAC', 0.02], ['QBOUND', 0.05], ['TESTFLAG', ['tmatnew']], ['CALCORBITALMOMENT', 1]]\n",
    "# This is for kkrimpcalc step-2\n",
    "[['NSPIN', 2], ['HFIELD', [0.0, 0]], ['INS', 1], ['NCOLL', 1], ['SPINORBIT', 1], ['SCFSTEPS', 100], ['IMIX', 5], ['MIXFAC', 0.008], ['ITDBRY', 60], ['QBOUND', 1e-07], ['NSIMPLEMIXFIRST', 0], ['TESTFLAG', ['tmatnew']], ['CALCORBITALMOMENT', 1]]\n",
    "[['NSPIN', 2], ['HFIELD', [0.0, 0]], ['INS', 1], ['NCOLL', 1], ['SPINORBIT', 1], ['SCFSTEPS', 300], ['IMIX', 5], ['MIXFAC', 0.05], ['ITDBRY', 20], ['QBOUND', 1e-07], ['NSIMPLEMIXFIRST', 0], ['TESTFLAG', ['tmatnew']], ['CALCORBITALMOMENT', 1]]"
   ]
  },
  {
   "cell_type": "code",
   "execution_count": 112,
   "id": "coated-words",
   "metadata": {},
   "outputs": [],
   "source": [
    "# some_nodes for working in the dabase :\n",
    "node_list= {22211 : 'combine_imps_wc',\n",
    "            22212 : 'create_combined_imp_info_cf',\n",
    "            22219 : 'update_params_wf',\n",
    "            22222 : 'KkrCalculation',\n",
    "            22227 : 'create_out_dict_node',\n",
    "            22235 : 'kick_out_corestates_wf',\n",
    "            22241 : 'extract_imp_pot_sfd',\n",
    "            22230 : 'combine_potentials_cf',\n",
    "           }"
   ]
  },
  {
   "cell_type": "code",
   "execution_count": 123,
   "id": "prepared-compensation",
   "metadata": {},
   "outputs": [],
   "source": [
    "node_dict = {}\n",
    "for key, value in node_list.items():\n",
    "    node_name = str(value)+'__'+str(key)\n",
    "    node_dict[node_name] = load_node(key)\n"
   ]
  },
  {
   "cell_type": "code",
   "execution_count": 124,
   "id": "constant-fireplace",
   "metadata": {},
   "outputs": [
    {
     "data": {
      "text/plain": [
       "{'combine_imps_wc__22211': <WorkChainNode: uuid: a3cf3600-6b5e-4d18-9d0e-2a1698aa7cd8 (pk: 22211) (aiida_kkr.workflows._combine_imps.combine_imps_wc)>,\n",
       " 'create_combined_imp_info_cf__22212': <CalcFunctionNode: uuid: 7077967d-1c54-4a1b-95b5-33bedabab99d (pk: 22212) (aiida_kkr.tools.combine_imps.create_combined_imp_info_cf)>,\n",
       " 'update_params_wf__22219': <CalcFunctionNode: uuid: 5fea8b8c-f048-4dcf-99eb-bce5cb55808a (pk: 22219) (aiida_kkr.tools.common_workfunctions.update_params_wf)>,\n",
       " 'KkrCalculation__22222': <CalcJobNode: uuid: 474bd423-3f84-421a-9f0f-4c1b77885932 (pk: 22222) (aiida.calculations:kkr.kkr)>,\n",
       " 'create_out_dict_node__22227': <CalcFunctionNode: uuid: 0a1f37e7-b342-4101-b608-84cb22925732 (pk: 22227) (aiida_kkr.tools.save_output_nodes.create_out_dict_node)>,\n",
       " 'kick_out_corestates_wf__22235': <CalcFunctionNode: uuid: a8ad7fa8-0a78-4576-a453-93c382e57eb3 (pk: 22235) (aiida_kkr.tools.common_workfunctions.kick_out_corestates_wf)>,\n",
       " 'extract_imp_pot_sfd__22241': <CalcFunctionNode: uuid: 5fb87ba3-13fb-4691-9753-6f2b8469db16 (pk: 22241) (aiida_kkr.workflows.kkr_imp_sub.extract_imp_pot_sfd)>,\n",
       " 'combine_potentials_cf__22230': <CalcFunctionNode: uuid: 160696fa-c4f0-4082-bd78-02d3fd833c1c (pk: 22230) (aiida_kkr.tools.combine_imps.combine_potentials_cf)>}"
      ]
     },
     "execution_count": 124,
     "metadata": {},
     "output_type": "execute_result"
    }
   ],
   "source": [
    "node_dict"
   ]
  },
  {
   "cell_type": "code",
   "execution_count": 138,
   "id": "christian-victor",
   "metadata": {},
   "outputs": [
    {
     "name": "stdout",
     "output_type": "stream",
     "text": [
      "process_class:  <function create_combined_imp_info_cf at 0x7f6431e66940>\n",
      "node_type:  process.calculation.calcfunction.CalcFunctionNode.\n"
     ]
    }
   ],
   "source": [
    "node = node_dict['create_combined_imp_info_cf__22212']\n",
    "print('process_class: ',str(node.process_class))\n",
    "print('node_type: ',str(node.node_type))\n",
    "\n",
    "# str(node.)"
   ]
  },
  {
   "cell_type": "code",
   "execution_count": 240,
   "id": "standard-series",
   "metadata": {},
   "outputs": [],
   "source": [
    "qb = QueryBuilder()\n",
    "ll = list(qb.append([WorkChainNode],\n",
    "                    filters={\n",
    "                        'and':[\n",
    "                            {'attributes.process_label':'combine_imps_wc'},\n",
    "                            {'or':[\n",
    "                                {'attributes.process_status': 'excepted'},\n",
    "                                {'attributes.exit_status':{'!in':[0]}}\n",
    "                                 ]\n",
    "                            }\n",
    "                        ]\n",
    "                    }\n",
    "                   \n",
    "                   \n",
    "                   ).all())\n",
    "\n",
    "def check_pk_exist(pk_list, pk):\n",
    "    for i in pk:\n",
    "        for j in pk_list:\n",
    "            if(i==j):\n",
    "                print('pk-{} is exist in pk_list'.format(i))\n",
    "                continue\n",
    "\n",
    "len(ll)\n",
    "\n",
    "pk_list = [i[0].pk for i in ll]\n",
    "pk_list.sort()\n",
    "check_pk_exist(pk_list,[22232])"
   ]
  },
  {
   "cell_type": "code",
   "execution_count": 241,
   "id": "modern-sunrise",
   "metadata": {},
   "outputs": [
    {
     "data": {
      "text/plain": [
       "[21127, 21192, 21224, 22070, 22120, 22139, 22156, 22172, 22177, 22211]"
      ]
     },
     "execution_count": 241,
     "metadata": {},
     "output_type": "execute_result"
    }
   ],
   "source": [
    "pk_list.sort()\n",
    "pk_list[-10:]"
   ]
  },
  {
   "cell_type": "code",
   "execution_count": 242,
   "id": "further-booth",
   "metadata": {},
   "outputs": [
    {
     "name": "stdout",
     "output_type": "stream",
     "text": [
      "('sealed', True)\n",
      "('version', {'core': '1.5.2', 'plugin': '1.1.11-dev4'})\n",
      "('exit_status', 700)\n",
      "('exit_message', 'The writeout of the host GF failed')\n",
      "('process_label', 'combine_imps_wc')\n",
      "('process_state', 'finished')\n",
      "('stepper_state_info', '4:check_host_gf')\n"
     ]
    }
   ],
   "source": [
    "node_22120 = load_node(22120)\n",
    "for i in node_22120.attributes_items():\n",
    "    print(i)"
   ]
  },
  {
   "cell_type": "code",
   "execution_count": 245,
   "id": "micro-limitation",
   "metadata": {},
   "outputs": [],
   "source": [
    "from aiida.manage.database.delete.nodes import delete_nodes"
   ]
  },
  {
   "cell_type": "code",
   "execution_count": 254,
   "id": "subsequent-design",
   "metadata": {},
   "outputs": [
    {
     "name": "stdout",
     "output_type": "stream",
     "text": [
      "\u001b[22mI would delete 46 nodes\u001b[0m\n",
      "\u001b[22mThe nodes I would delete:\u001b[0m\n",
      "\u001b[22m   b7b8837e-3040-48b5-bb32-02ff64730412 22070 WorkChainNode Ti:Bi2Te3:V:Bi2Te3\u001b[0m\n",
      "\u001b[22m   d7111f2d-9fd5-4894-9b18-4d2568504e7f 22071 CalcFunctionNode create_combined_imp_info_cf\u001b[0m\n",
      "\u001b[22m   877be44d-160c-4395-8387-05b85492963f 22072 Dict \u001b[0m\n",
      "\u001b[22m   cffd104c-5538-44c2-8e0c-854ea9c7af6d 22073 Dict \u001b[0m\n",
      "\u001b[22m   abae79b7-7eb2-4a28-b764-59bacf2c7bd8 22076 WorkChainNode GF writeout combined imps\u001b[0m\n",
      "\u001b[22m   652266cf-0ab2-41f8-9900-755c3d8e319b 22078 CalcFunctionNode update_params_wf\u001b[0m\n",
      "\u001b[22m   2eaec790-73d5-47b0-ac6f-d8c3d1457de8 22079 Dict updated KKR parameters\u001b[0m\n",
      "\u001b[22m   22874b7a-7b3f-4e4d-a481-e5c211f8c7da 22081 CalcJobNode KKRFLEX calc.\u001b[0m\n",
      "\u001b[22m   6bc415a3-7258-457b-adc3-a5a13996b229 22082 RemoteData \u001b[0m\n",
      "\u001b[22m   aa79b18e-ba63-4fc9-97f5-24596c030879 22083 FolderData \u001b[0m\n",
      "\u001b[22m   95d90626-1f78-4693-bfaf-efa0b8201fc6 22084 Dict \u001b[0m\n",
      "\u001b[22m   a4521c2c-1141-4ce4-9aed-2775d5fa4324 22086 CalcFunctionNode create_out_dict_node\u001b[0m\n",
      "\u001b[22m   ec68da8c-5074-4369-a515-4a42a2d93b3b 22087 Dict kkr_flex_wc_results\u001b[0m\n",
      "\u001b[22m   28ab1dde-cdc2-4aa4-9bd9-88e72218c63b 22089 CalcFunctionNode combine_potentials_cf\u001b[0m\n",
      "\u001b[22m   17ae3853-a57e-4ad5-a2e4-d555032ac052 22090 SinglefileData combined_potentials\u001b[0m\n",
      "\u001b[22m   b59b9b67-6e12-41eb-b5c4-1721b41ba283 22091 WorkChainNode kkrimp scf combined imps\u001b[0m\n",
      "\u001b[22m   e12cbe5c-0610-4ac6-ac9c-7d872776901b 22094 CalcFunctionNode kick_out_corestates_wf\u001b[0m\n",
      "\u001b[22m   8372987a-67db-4b0d-8ceb-0c4050c6bb83 22095 SinglefileData combined_potentials\u001b[0m\n",
      "\u001b[22m   7adbe50b-ed13-4d16-85f8-bd957ad46f70 22096 CalcJobNode KKRimp calculation step 1 (IMIX=0, Zimp: [22, 23])\u001b[0m\n",
      "\u001b[22m   3900b5b2-91f7-4b22-bc11-b5d595bb0fa5 22097 RemoteData \u001b[0m\n",
      "\u001b[22m   d158f159-44a0-4629-8e2c-55b293c6abfd 22098 FolderData \u001b[0m\n",
      "\u001b[22m   b27b7d06-fe79-4ec8-bf41-c44ba1265eb1 22099 Dict \u001b[0m\n",
      "\u001b[22m   da122d48-fee6-405e-baa1-ef12b906130d 22100 CalcFunctionNode extract_imp_pot_sfd\u001b[0m\n",
      "\u001b[22m   4ee1846d-56e7-4a29-8e6f-5016953c3c2e 22101 SinglefileData \u001b[0m\n",
      "\u001b[22m   65d4c6d9-a03a-4f00-b8db-8031f8f35980 22102 CalcJobNode KKRimp calculation step 2 (IMIX=0, Zimp: [22, 23])\u001b[0m\n",
      "\u001b[22m   284a03ae-b85f-432b-9baa-6cbbfc3caf7f 22103 RemoteData \u001b[0m\n",
      "\u001b[22m   75c4b23f-74cc-411a-bdff-4f4a1b5b09b3 22104 FolderData \u001b[0m\n",
      "\u001b[22m   2ccb7e5e-4cba-4d7d-ab88-4780499b895b 22105 Dict \u001b[0m\n",
      "\u001b[22m   8c30322c-2c3d-41d2-b985-25e320382fbd 22106 CalcFunctionNode extract_imp_pot_sfd\u001b[0m\n",
      "\u001b[22m   dd2039b5-3f5f-478b-9a4d-55fe2004c102 22107 SinglefileData \u001b[0m\n",
      "\u001b[22m   61d0ffd2-1555-4258-a4b0-6c1003c2b505 22108 CalcJobNode KKRimp calculation step 3 (IMIX=0, Zimp: [22, 23])\u001b[0m\n",
      "\u001b[22m   fd5b583e-649a-4e6d-94d0-6132c7429336 22109 RemoteData \u001b[0m\n",
      "\u001b[22m   7c7e97b6-e288-4b8d-af9d-37bc6d4f2917 22110 FolderData \u001b[0m\n",
      "\u001b[22m   8469df4e-2081-4e6e-b6f9-116d2bb2c53e 22111 Dict \u001b[0m\n",
      "\u001b[22m   f8d20d0f-c1c2-4687-ba2d-8ea69608b9f1 22112 CalcFunctionNode extract_imp_pot_sfd\u001b[0m\n",
      "\u001b[22m   1cf24a3d-a25d-4a62-844e-966984360d20 22113 SinglefileData \u001b[0m\n",
      "\u001b[22m   8e386629-e92b-485b-b9f6-e2357cbbae7c 22114 CalcJobNode KKRimp calculation step 4 (IMIX=0, Zimp: [22, 23])\u001b[0m\n",
      "\u001b[22m   6d7a2474-18fd-4e6f-9cf1-a5354e824144 22115 RemoteData \u001b[0m\n",
      "\u001b[22m   6134b9c2-046a-41e5-8ede-b7949e188337 22248 FolderData \u001b[0m\n",
      "\u001b[22m   5e743715-e243-4b55-bc80-b384fcf8ac81 22249 Dict \u001b[0m\n",
      "\u001b[22m   a4270fa9-0afb-428d-8d34-56254bdacd42 22250 CalcFunctionNode extract_imp_pot_sfd\u001b[0m\n",
      "\u001b[22m   e7af319f-bf33-499d-9b27-8f544a11aba2 22251 SinglefileData \u001b[0m\n",
      "\u001b[22m   3043754d-7e99-4aac-8f84-bfaa95ec2504 22253 CalcJobNode KKRimp calculation step 5 (IMIX=5, Zimp: [22, 23])\u001b[0m\n",
      "\u001b[22m   3b45bc4d-5548-4476-8455-b7ea34326ad4 22254 RemoteData \u001b[0m\n",
      "\u001b[22m   b4fe2f37-ab00-46ec-9543-3e051a3b68db 22255 FolderData \u001b[0m\n",
      "\u001b[22m   ea95ef11-bbb7-46e5-bae9-aef6c7381dbd 22256 Dict \u001b[0m\n",
      "\u001b[22m\n",
      "This was a dry run, exiting without deleting anything\u001b[0m\n"
     ]
    }
   ],
   "source": [
    "delete_nodes([22070], verbosity=3, dry_run=True,force=False)"
   ]
  },
  {
   "cell_type": "code",
   "execution_count": 291,
   "id": "macro-amount",
   "metadata": {},
   "outputs": [],
   "source": [
    "def find_calcJob(pk_or_node, debug=True):\n",
    "    \n",
    "    calcjob_node_list=[]\n",
    "    wc_node_list = []\n",
    "    if isinstance( pk_or_node, int):\n",
    "        if debug:\n",
    "            print('This is pk')\n",
    "        node = load_node(pk_or_node)\n",
    "    else:\n",
    "        if debug:\n",
    "            print('This is node')\n",
    "        node= pk_or_node\n",
    "        \n",
    "    ## Use the get_calcjob_wc to get descendent calcjob list and  wc list\n",
    "    calc_list, wc_list = get_calcjob_wc(node)\n",
    "    calcjob_node_list += calc_list\n",
    "    \n",
    "    while len(wc_list)!=0:\n",
    "        new_wc_list = []\n",
    "\n",
    "        for i in wc_list[:]:\n",
    "            calc_list, wc_list = get_calcjob_wc(i)\n",
    "            new_wc_list += wc_list\n",
    "            calcjob_node_list += calc_list\n",
    "            \n",
    "        wc_list = new_wc_list\n",
    "\n",
    "    return calcjob_node_list\n",
    "    \n",
    "def get_calcjob_wc(node):\n",
    "    \"\"\"\n",
    "    :param: node\n",
    "    :return: workchain node list and calcjob node list\n",
    "    \"\"\" \n",
    "    from aiida.orm import CalcJobNode, WorkChainNode\n",
    "    wc = []\n",
    "    calc_job = []\n",
    "    \n",
    "    if node.node_type == 'process.workflow.workchain.WorkChainNode.':\n",
    "    # here all outgoing worchain node\n",
    "        out_going_wc = node.get_outgoing(node_class=WorkChainNode).all()\n",
    "        wc = [i.node for i in out_going_wc[:]]\n",
    "    # here all outgoing calcjob node\n",
    "        out_going_calc = node.get_outgoing(node_class=CalcJobNode).all()\n",
    "        calc_job = [i.node for i in out_going_calc[:]]\n",
    "                    \n",
    "    if node.node_type == 'process.calculation.calcjob.CalcJobNode.':\n",
    "        calc_job.append(node)\n",
    "    \n",
    "    return calc_job, wc"
   ]
  },
  {
   "cell_type": "code",
   "execution_count": 292,
   "id": "annoying-parameter",
   "metadata": {},
   "outputs": [
    {
     "name": "stdout",
     "output_type": "stream",
     "text": [
      "This is pk\n"
     ]
    }
   ],
   "source": [
    "calcjob_list = find_calcJob(22070)"
   ]
  },
  {
   "cell_type": "code",
   "execution_count": 293,
   "id": "continent-saskatchewan",
   "metadata": {},
   "outputs": [
    {
     "data": {
      "text/plain": [
       "[<CalcJobNode: uuid: 22874b7a-7b3f-4e4d-a481-e5c211f8c7da (pk: 22081) (aiida.calculations:kkr.kkr)>,\n",
       " <CalcJobNode: uuid: 7adbe50b-ed13-4d16-85f8-bd957ad46f70 (pk: 22096) (aiida.calculations:kkr.kkrimp)>,\n",
       " <CalcJobNode: uuid: 65d4c6d9-a03a-4f00-b8db-8031f8f35980 (pk: 22102) (aiida.calculations:kkr.kkrimp)>,\n",
       " <CalcJobNode: uuid: 61d0ffd2-1555-4258-a4b0-6c1003c2b505 (pk: 22108) (aiida.calculations:kkr.kkrimp)>,\n",
       " <CalcJobNode: uuid: 8e386629-e92b-485b-b9f6-e2357cbbae7c (pk: 22114) (aiida.calculations:kkr.kkrimp)>,\n",
       " <CalcJobNode: uuid: 3043754d-7e99-4aac-8f84-bfaa95ec2504 (pk: 22253) (aiida.calculations:kkr.kkrimp)>]"
      ]
     },
     "execution_count": 293,
     "metadata": {},
     "output_type": "execute_result"
    }
   ],
   "source": [
    "calcjob_list"
   ]
  },
  {
   "cell_type": "code",
   "execution_count": 376,
   "id": "deluxe-removal",
   "metadata": {},
   "outputs": [
    {
     "data": {
      "text/plain": [
       "['Rcut', 'Zimp', 'ilayer_center']"
      ]
     },
     "execution_count": 376,
     "metadata": {},
     "output_type": "execute_result"
    }
   ],
   "source": [
    "node_22120 = load_node(16195)\n",
    "ll = list(node_22120.inputs.impurity_info.attributes_keys())\n",
    "ll"
   ]
  },
  {
   "cell_type": "code",
   "execution_count": 377,
   "id": "associate-iraqi",
   "metadata": {},
   "outputs": [
    {
     "ename": "SyntaxError",
     "evalue": "invalid syntax (<ipython-input-377-465a515535bd>, line 1)",
     "output_type": "error",
     "traceback": [
      "\u001b[0;36m  File \u001b[0;32m\"<ipython-input-377-465a515535bd>\"\u001b[0;36m, line \u001b[0;32m1\u001b[0m\n\u001b[0;31m    node_22120.\u001b[0m\n\u001b[0m               ^\u001b[0m\n\u001b[0;31mSyntaxError\u001b[0m\u001b[0;31m:\u001b[0m invalid syntax\n"
     ]
    }
   ],
   "source": [
    "node_22120."
   ]
  },
  {
   "cell_type": "code",
   "execution_count": 313,
   "id": "based-stewart",
   "metadata": {},
   "outputs": [],
   "source": [
    "qb = QueryBuilder()\n",
    "node_list = list(qb.append([WorkChainNode],\n",
    "                    filters={\n",
    "                        'and':[\n",
    "                            {'attributes.process_label':'combine_imps_wc'},\n",
    "                            {'and':[\n",
    "                                {'attributes.process_status': 'finished'},\n",
    "                                {'attributes.exit_status':{'in':[0]}}\n",
    "                                 ]\n",
    "                            }\n",
    "                        ]\n",
    "                    }\n",
    "\n",
    "                           \n",
    "                   ).all())\n"
   ]
  },
  {
   "cell_type": "code",
   "execution_count": null,
   "id": "alpha-vegetation",
   "metadata": {},
   "outputs": [],
   "source": []
  },
  {
   "cell_type": "code",
   "execution_count": 398,
   "id": "respective-surgeon",
   "metadata": {},
   "outputs": [
    {
     "data": {
      "text/plain": [
       "<WorkChainNode: uuid: c42b89d5-4af1-4177-b030-d877cc8c7bd0 (pk: 16195) (aiida.workflows:kkr.imp)>"
      ]
     },
     "execution_count": 398,
     "metadata": {},
     "output_type": "execute_result"
    }
   ],
   "source": [
    "node_16195 = load_node(16100)\n",
    "node_16195"
   ]
  },
  {
   "cell_type": "code",
   "execution_count": 401,
   "id": "greek-genetics",
   "metadata": {},
   "outputs": [
    {
     "data": {
      "text/plain": [
       "<aiida.orm.querybuilder.QueryBuilder at 0x7f654fd1c8b0>"
      ]
     },
     "execution_count": 401,
     "metadata": {},
     "output_type": "execute_result"
    }
   ],
   "source": [
    "qb = QueryBuilder()\n",
    "qb.append(Dict, filters={'attributes':{'has_key':'ilayer_center'}}, tag='check')  \n",
    "qb.append(WorkChainNode, with_outgoing='check', tag='check_wc')\n",
    "qb.append(WorkChainNode, with_descendants='check_wc')"
   ]
  },
  {
   "cell_type": "code",
   "execution_count": 402,
   "id": "violent-value",
   "metadata": {},
   "outputs": [
    {
     "data": {
      "text/plain": [
       "277"
      ]
     },
     "execution_count": 402,
     "metadata": {},
     "output_type": "execute_result"
    }
   ],
   "source": [
    "len(data.all())"
   ]
  },
  {
   "cell_type": "code",
   "execution_count": 407,
   "id": "complex-humanitarian",
   "metadata": {},
   "outputs": [
    {
     "name": "stdout",
     "output_type": "stream",
     "text": [
      "16195\n",
      "{'Rcut': 4.0, 'Zimp': 21, 'ilayer_center': 3}\n",
      "16215\n",
      "{'Rcut': 4.0, 'Zimp': 22, 'ilayer_center': 3}\n",
      "16237\n",
      "{'Rcut': 4.0, 'Zimp': 23, 'ilayer_center': 3}\n",
      "16258\n",
      "{'Rcut': 4.0, 'Zimp': 24, 'ilayer_center': 3}\n",
      "16279\n",
      "{'Rcut': 4.0, 'Zimp': 25, 'ilayer_center': 3}\n",
      "16300\n",
      "{'Rcut': 4.0, 'Zimp': 26, 'ilayer_center': 3}\n",
      "16349\n",
      "{'Rcut': 4.0, 'Zimp': 27, 'ilayer_center': 3}\n",
      "16369\n",
      "{'Rcut': 4.0, 'Zimp': 28, 'ilayer_center': 3}\n",
      "16100\n",
      "{'Rcut': 4.0, 'Zimp': [26.0], 'ilayer_center': 3}\n"
     ]
    }
   ],
   "source": [
    "group = load_group(74)\n",
    "nodes = list(group.nodes)\n",
    "for node in nodes[:]:\n",
    "    print(node.pk)\n",
    "    imp = node.inputs.impurity_info.get_dict()\n",
    "    print(imp)"
   ]
  },
  {
   "cell_type": "code",
   "execution_count": null,
   "id": "seeing-tourist",
   "metadata": {},
   "outputs": [],
   "source": []
  }
 ],
 "metadata": {
  "kernelspec": {
   "display_name": "AiiDA",
   "language": "python",
   "name": "aiida"
  },
  "language_info": {
   "codemirror_mode": {
    "name": "ipython",
    "version": 3
   },
   "file_extension": ".py",
   "mimetype": "text/x-python",
   "name": "python",
   "nbconvert_exporter": "python",
   "pygments_lexer": "ipython3",
   "version": "3.8.5"
  }
 },
 "nbformat": 4,
 "nbformat_minor": 5
}
