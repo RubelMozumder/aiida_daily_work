{
 "cells": [
  {
   "cell_type": "code",
   "execution_count": 2,
   "id": "adjusted-management",
   "metadata": {},
   "outputs": [
    {
     "name": "stdout",
     "output_type": "stream",
     "text": [
      "profil name: default\n"
     ]
    }
   ],
   "source": [
    "# Load the aiida profile\n",
    "from aiida import load_profile\n",
    "aiida_profile = load_profile()\n",
    "print(f'profil name: {aiida_profile.name}')\n",
    "\n",
    "## Loading the some require packages and module\n",
    "from aiida_kkr.workflows import ( kkr_flex_wc, kkr_bs_wc,\n",
    "                                 kkr_imp_wc, kkr_imp_sub_wc\n",
    "                                )\n",
    "from aiida_kkr.calculations import KkrCalculation, KkrimpCalculation\n",
    "from aiida.orm import (Group, load_group, load_node, Dict, Code, QueryBuilder, WorkChainNode\n",
    "                       , CalcJobNode, StructureData, KpointsData)\n",
    "from aiida.transports import transport\n",
    "from aiida_kkr.tools import kkrparams, find_parent_structure, kkrparams\n",
    "from aiida.engine import submit\n",
    "\n",
    "from aiida.tools.data.array.kpoints import get_explicit_kpoints_path"
   ]
  },
  {
   "cell_type": "code",
   "execution_count": 3,
   "id": "early-assumption",
   "metadata": {},
   "outputs": [],
   "source": [
    "import numpy as np"
   ]
  },
  {
   "cell_type": "code",
   "execution_count": 4,
   "id": "sharp-convention",
   "metadata": {},
   "outputs": [],
   "source": [
    "# One very frequently used option\n",
    "metadata_option_1 = {'max_wallclock_seconds': 36000,\n",
    "                     'resources': {'tot_num_mpiprocs': 48, 'num_machines': 1},\n",
    "                     'custom_scheduler_commands': \n",
    "                     '#SBATCH --account=jara0191\\n\\nulimit -s unlimited; export OMP_STACKSIZE=2g; export OMP_NUM_THREADS=2',\n",
    "                     'withmpi': True\n",
    "                    }\n",
    "\n",
    "# One very frequently used option\n",
    "metadata_option_2 = {'max_wallclock_seconds': 36000,\n",
    "                     'resources': {'tot_num_mpiprocs': 48, 'num_machines': 1},\n",
    "              'custom_scheduler_commands': \n",
    "              '#SBATCH --account=jara0191\\n\\nulimit -s unlimited; export OMP_STACKSIZE=2g',\n",
    "              'withmpi': True\n",
    "                    }\n",
    "oscar_matadata = {'max_wallclock_seconds': 8*60*60,\n",
    "                  'resources':{'tot_num_mpiprocs': 12, \n",
    "                  'num_machines': 4},\n",
    "                  'custom_scheduler_commands': '#SBATCH -p oscar --nodes=1 --ntasks=12\\n\\nulimit -s unlimited; export OMP_STACKSIZE=2g',\n",
    "                  'withmpi':True\n",
    "                 }\n",
    "\n",
    "oscar_matadata = {'withmpi': True,\n",
    "         'resources': {'num_machines': 1, 'tot_num_mpiprocs': 12},\n",
    "         'queue_name': 'oscar',\n",
    "         'max_wallclock_seconds': 86400}\n",
    "\n",
    "voro_code = Code.get_from_string('voro@claix18_init')\n",
    "kkr_code = Code.get_from_string('kkr@claix18_init')\n",
    "kkrimp_code = Code.get_from_string('kkrflex@claix18_init')\n",
    "iffslurm_voro = Code.get_from_string('voro@iffslurm')\n",
    "iffslurm_kkr= Code.get_from_string('kkr@iffslurm')\n",
    "iffslurm_kkrimp= Code.get_from_string('kkrflex@iffslurm')"
   ]
  },
  {
   "cell_type": "code",
   "execution_count": 6,
   "id": "hispanic-strip",
   "metadata": {},
   "outputs": [],
   "source": [
    "#Some kpints collectionn:\n",
    "# 1D kpoints k_x\n",
    "k=[]\n",
    "for i in np.arange(-0.1, 0.1, 0.2/500):\n",
    "#    print(i)\n",
    "    k.append([i,0,0])\n",
    "kpt_x= KpointsData()\n",
    "kpt_x.set_cell([[1,0,0], [0,1,0], [0,0,1]])\n",
    "kpt_x_arr= np.array(k)\n",
    "\n",
    "random_min = 1\n",
    "index=0\n",
    "for i in range(np.shape(kpt_x_arr)[0]):\n",
    "    abs_val= np.sqrt(sum([i**2 for i in kpt_x_arr[i,:]]))\n",
    "    if random_min>abs_val:\n",
    "        random_min= abs_val\n",
    "        index= i\n",
    "        vec= kpt_x_arr[i,:]\n",
    "kpt_x.set_kpoints(k, labels=[(index,'GAMMA')])\n"
   ]
  },
  {
   "cell_type": "code",
   "execution_count": 80,
   "id": "guided-communist",
   "metadata": {},
   "outputs": [
    {
     "name": "stdout",
     "output_type": "stream",
     "text": [
      "0.0\n",
      "label: SOCSCL:0.00 is not found in the group 122 and the bs of the same is begin launched\n"
     ]
    }
   ],
   "source": [
    "## To extract the host calcualtion data for structure node 234\n",
    "Bs_group= load_group(122)\n",
    "finished_labels= [node.label for node in Bs_group.nodes]\n",
    "for j in np.linspace(0.0,1,1):\n",
    "    print(j)\n",
    "    kkr_imp_wc= load_node(16100)\n",
    "    # initial remote data host from the converged host Bi_2Te_3 calculation\n",
    "    RemoteDataHost= kkr_imp_wc.get_incoming(link_label_filter='remote_data_host').all()[0].node \n",
    "    # initial converged calc \n",
    "    calc= RemoteDataHost.get_incoming().all()[0].node\n",
    "    struc= find_parent_structure(calc)\n",
    "    #struc= struc.cell\n",
    "    wf_parameters={\n",
    "        'EMIN':-1.5,\n",
    "        'EMAX': 1.5,\n",
    "        'NPT2': 192,\n",
    "        '<SOCSCL>': [j for i in range(10)]\n",
    "    }\n",
    "    #kpts= get_explicit_kpoints_path(struc).get('explicit_kpoints') # 101056\n",
    "    kpts= kpt_x # del(101074, 101084, 101111, 101118, 101130, 101142, 101174, 101192, 101202, 101212)\n",
    "\n",
    "    # final bs for Bi_2Te_3: 101249\n",
    "    label= 'SOCSCL:'+str(\"%.2f\" % j)\n",
    "    bs_builder= kkr_bs_wc.get_builder()\n",
    "    bs_builder.wf_parameters= Dict(dict=wf_parameters)\n",
    "    bs_builder.kkr= kkr_code\n",
    "    bs_builder.remote_data= RemoteDataHost\n",
    "    bs_builder.options= Dict(dict=metadata_option_1)\n",
    "    bs_builder.kpoints= kpts\n",
    "    bs_builder.metadata.label= label\n",
    "    if label in finished_labels:\n",
    "        print(f'label: {label} is already exist in group 122')\n",
    "        continue\n",
    "    print(f'label: {label} is not found in the group 122 and the bs of the same is begin launched')\n",
    "#    bs_calc= submit(bs_builder)\n",
    "    Bs_group.add_nodes(bs_calc)\n",
    "\n",
    "    \n"
   ]
  },
  {
   "cell_type": "code",
   "execution_count": 78,
   "id": "silent-optimum",
   "metadata": {},
   "outputs": [
    {
     "data": {
      "text/plain": [
       "<WorkChainNode: uuid: f7195d9b-8f2d-4676-b712-88cffe6ef5c1 (pk: 102160) (aiida.workflows:kkr.bs)>"
      ]
     },
     "execution_count": 78,
     "metadata": {},
     "output_type": "execute_result"
    }
   ],
   "source": [
    "bs_calc"
   ]
  },
  {
   "cell_type": "code",
   "execution_count": 52,
   "id": "lesser-tradition",
   "metadata": {},
   "outputs": [],
   "source": [
    "bs_group= load_group(122)\n",
    "nodes= list(bs_group.nodes)[0:5]\n",
    "#plot_kkr(nodes)\n"
   ]
  },
  {
   "cell_type": "code",
   "execution_count": 82,
   "id": "assured-species",
   "metadata": {},
   "outputs": [
    {
     "name": "stdout",
     "output_type": "stream",
     "text": [
      "[1.0, 1.0, 1.0, 1.0, 1.0, 1.0, 1.0, 1.0, 1.0, 1.0]\n",
      "[0.0, 0.0, 0.0, 0.0, 0.0, 0.0, 0.0, 0.0, 0.0, 0.0]\n"
     ]
    },
    {
     "data": {
      "text/plain": [
       "<Figure size 2160x1440 with 0 Axes>"
      ]
     },
     "metadata": {},
     "output_type": "display_data"
    }
   ],
   "source": [
    "bs_group= load_group(122)\n",
    "nodes= list(bs_group.nodes)[-2:]\n",
    "\n",
    "from aiida_kkr.tools import plot_kkr\n",
    "from matplotlib import pyplot as plt\n",
    "import matplotlib.gridspec as gdspec\n",
    "plt.figure(num= 'bs:Bi_2Te_3', figsize=(30,20))\n",
    "i_num=len(nodes)\n",
    "j_num=5\n",
    "#gdspec.GridSpec(i_num,j_num)\n",
    "for i in range(i_num):\n",
    "        print(nodes[i].inputs.wf_parameters.get_dict()['<SOCSCL>'])\n",
    "        #plot_kkr(nodes[i], silent=True)\n",
    "        #plt.show()\n",
    "#bs= load_node(load_group(122))\n",
    "#plot_kkr(bs)"
   ]
  },
  {
   "cell_type": "code",
   "execution_count": 45,
   "id": "protecting-basement",
   "metadata": {},
   "outputs": [],
   "source": [
    "bs_group= load_group(122)\n",
    "nodes= bs_group.nodes\n",
    "for node in nodes:\n",
    "#    print(node.process_state)\n",
    "    if str(node.process_state)=='ProcessState.EXCEPTED':\n",
    "        print('process status: ',node.process_status)\n",
    "        print('node label', node.label)\n",
    "        print('node pk : ', node.pk)\n",
    "        print('%%%%%%%%%%%%%%%%%%%%%%%%%%%%%%%%%%%%%%%%')\n",
    "        \n",
    "        \n",
    " #   print(node.label)\n",
    "#    node.label=label"
   ]
  },
  {
   "cell_type": "code",
   "execution_count": 26,
   "id": "considerable-lawrence",
   "metadata": {},
   "outputs": [
    {
     "data": {
      "text/plain": [
       "<WorkChainNode: uuid: 5c5eccae-9db0-4c1a-bb2b-d655fdac1f38 (pk: 101799) (aiida.workflows:kkr.bs)>"
      ]
     },
     "execution_count": 26,
     "metadata": {},
     "output_type": "execute_result"
    }
   ],
   "source": [
    "node_101161= load_node(101554)\n",
    "submit(node_101161.get_builder_restart())\n",
    "\n",
    "#node_101161.inputs.parameters.get_dict()"
   ]
  },
  {
   "cell_type": "code",
   "execution_count": 121,
   "id": "sweet-bennett",
   "metadata": {},
   "outputs": [],
   "source": [
    "#KpointsData(kpts)\n",
    "kpts_arry= kpts.get_kpoints()\n",
    "max_xyz= kpts_arry.max(axis=0)/4\n",
    "max_r= np.sqrt(np.sum([i**2 for i in max_xyz[:]]))\n",
    "max_r\n",
    "trimed_kpts= []\n",
    "for i in range(np.shape(kpts_arry)[0]):\n",
    "    if np.sqrt(np.sum([j**2 for j in list(kpts_arry[i,:])])) <= max_r:\n",
    "        trimed_kpts.append(list(kpts_arry[i,:]))"
   ]
  },
  {
   "cell_type": "code",
   "execution_count": null,
   "id": "convinced-annual",
   "metadata": {},
   "outputs": [],
   "source": []
  },
  {
   "cell_type": "code",
   "execution_count": 122,
   "id": "bibliographic-machine",
   "metadata": {},
   "outputs": [
    {
     "data": {
      "text/plain": [
       "[0.22727272727272724, 0.2272727272727272, 0.22727272727272718]"
      ]
     },
     "execution_count": 122,
     "metadata": {},
     "output_type": "execute_result"
    }
   ],
   "source": [
    "list(kpts_arry[5,:])"
   ]
  },
  {
   "cell_type": "code",
   "execution_count": 66,
   "id": "spiritual-malawi",
   "metadata": {},
   "outputs": [
    {
     "data": {
      "text/plain": [
       "{'EMAX': 1.5,\n",
       " 'EMIN': -1.5,\n",
       " 'NPT2': 192,\n",
       " '<SOCSCL>': [0.7, 0.7, 0.7, 0.7, 0.7, 0.7, 0.7, 0.7, 0.7, 0.7]}"
      ]
     },
     "execution_count": 66,
     "metadata": {},
     "output_type": "execute_result"
    }
   ],
   "source": [
    "node_10189= load_node(101908)\n",
    "node_10189.inputs.wf_parameters.get_dict()"
   ]
  },
  {
   "cell_type": "code",
   "execution_count": 144,
   "id": "marked-warren",
   "metadata": {},
   "outputs": [],
   "source": []
  },
  {
   "cell_type": "code",
   "execution_count": null,
   "id": "renewable-maria",
   "metadata": {},
   "outputs": [],
   "source": []
  },
  {
   "cell_type": "code",
   "execution_count": null,
   "id": "varied-ecology",
   "metadata": {},
   "outputs": [],
   "source": []
  }
 ],
 "metadata": {
  "kernelspec": {
   "display_name": "AiiDA",
   "language": "python",
   "name": "aiida"
  },
  "language_info": {
   "codemirror_mode": {
    "name": "ipython",
    "version": 3
   },
   "file_extension": ".py",
   "mimetype": "text/x-python",
   "name": "python",
   "nbconvert_exporter": "python",
   "pygments_lexer": "ipython3",
   "version": "3.8.5"
  }
 },
 "nbformat": 4,
 "nbformat_minor": 5
}
